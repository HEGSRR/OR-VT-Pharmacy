{
 "cells": [
  {
   "cell_type": "markdown",
   "metadata": {
    "tags": []
   },
   "source": [
    "## Query OSM Data for VT and Build Road Network\n",
    "---\n",
    "\n",
    "Authors: Joseph Holler\n",
    "\n",
    "Reproduction Materials Available at: https://github.com/samroubin/VTPharmacy/tree/main\n",
    "\n",
    "Created: `2024-01-14`\n",
    "Revised: `2024-01-29`"
   ]
  },
  {
   "cell_type": "markdown",
   "metadata": {
    "tags": []
   },
   "source": [
    "### Purpose\n",
    "This notebook was used only to query OpenStreetMap data and build and save a network graph of roads in and near Vermont.\n",
    "This road graph has been saved and provided with the research compendium on OSF because the CyberGISX system with public resources is too slow to query and process the data from OSM."
   ]
  },
  {
   "cell_type": "markdown",
   "metadata": {},
   "source": [
    "### Computational Environment\n",
    "In order for OSMNX to work in a new environment, it is highly recommended to install with these instructions https://osmnx.readthedocs.io/en/stable/installation.html to create a new environment with the OSMNX package: \n",
    "```\n",
    "conda create -n ox -c conda-forge --strict-channel-priority osmnx\n",
    "```\n",
    "Or create a new environment and install OSMNX as the first package. "
   ]
  },
  {
   "cell_type": "markdown",
   "metadata": {},
   "source": [
    "### Modules\n",
    "Import necessary libraries to run this model.\n",
    "See `environment.yml` for the library versions used for this analysis."
   ]
  },
  {
   "cell_type": "code",
   "execution_count": 15,
   "metadata": {},
   "outputs": [
    {
     "name": "stdout",
     "output_type": "stream",
     "text": [
      "pandas==2.2.0\n",
      "geopandas==0.14.2\n",
      "networkx==3.2.1\n",
      "osmnx==1.8.1\n",
      "Python version: 3.12.1 | packaged by conda-forge | (main, Dec 23 2023, 07:53:56) [MSC v.1937 64 bit (AMD64)]\n"
     ]
    }
   ],
   "source": [
    "# Import modules\n",
    "import pandas as pd\n",
    "import geopandas as gpd\n",
    "import networkx as nx\n",
    "import osmnx as ox\n",
    "from IPython.display import display, clear_output\n",
    "from shapely.ops import nearest_points   #for hospital_setting function\n",
    "import warnings\n",
    "import os\n",
    "from shapely.geometry import Point, LineString, Polygon\n",
    "import sys\n",
    "\n",
    "warnings.filterwarnings(\"ignore\")\n",
    "print('\\n'.join(f'{m.__name__}=={m.__version__}' for m in globals().values() if getattr(m, '__version__', None)))\n",
    "print(\"Python version:\", sys.version)"
   ]
  },
  {
   "cell_type": "markdown",
   "metadata": {
    "tags": []
   },
   "source": [
    "## Check Directories\n"
   ]
  },
  {
   "cell_type": "code",
   "execution_count": 3,
   "metadata": {},
   "outputs": [
    {
     "data": {
      "text/plain": [
       "'D:\\\\github\\\\samroubin\\\\VTPharmacy\\\\procedure\\\\code'"
      ]
     },
     "execution_count": 3,
     "metadata": {},
     "output_type": "execute_result"
    }
   ],
   "source": [
    "# Check working directory\n",
    "os.getcwd()"
   ]
  },
  {
   "cell_type": "code",
   "execution_count": 4,
   "metadata": {
    "tags": []
   },
   "outputs": [
    {
     "data": {
      "text/plain": [
       "'D:\\\\github\\\\samroubin\\\\VTPharmacy'"
      ]
     },
     "execution_count": 4,
     "metadata": {},
     "output_type": "execute_result"
    }
   ],
   "source": [
    "# Use to set work directory properly\n",
    "if os.path.basename(os.getcwd()) == 'code':\n",
    "    os.chdir('../../')\n",
    "os.getcwd()"
   ]
  },
  {
   "cell_type": "markdown",
   "metadata": {},
   "source": [
    "### Load the Road Network\n",
    "\n",
    "If `Vermont_Network_Buffer.graphml` does not already exist, this cell will query the road network from OpenStreetMap.  \n",
    "\n",
    "Each of the road network code blocks may take a few mintues to run."
   ]
  },
  {
   "cell_type": "code",
   "execution_count": 5,
   "metadata": {},
   "outputs": [
    {
     "name": "stdout",
     "output_type": "stream",
     "text": [
      "Loading buffered Vermont road network from ./data/raw/private/osm_roads.graphml Please wait...\n",
      "Data loaded.\n",
      "CPU times: total: 41.7 s\n",
      "Wall time: 42.1 s\n"
     ]
    }
   ],
   "source": [
    "%%time\n",
    "# To create a new graph from OpenStreetMap, delete or rename the graph file (if it exists)\n",
    "# AND set OSM to True\n",
    "# This is more likely to work on a local computer than CyberGISX\n",
    "OSM = True\n",
    "\n",
    "# Define the place name for Vermont\n",
    "place_name_vermont = 'Vermont, USA'\n",
    "\n",
    "roads_path = \"./data/raw/private/osm_roads.graphml\"\n",
    "\n",
    "# if buffered street network is not saved, and OSM is preferred, generate a new graph from OpenStreetMap and save it\n",
    "if not os.path.exists(roads_path) and OSM:\n",
    "    print(\"Loading buffered Vermont road network from OpenStreetMap. Please wait... runtime may exceed 9min...\", flush=True)\n",
    "    G = ox.graph_from_place('Vermont', network_type='drive', buffer_dist=64373.8) \n",
    "    print(\"Saving road network to\", roads_path, \" Please wait...\", flush=True)\n",
    "    ox.save_graphml(G, roads_path)\n",
    "    print(\"Data saved.\")\n",
    "    \n",
    "# otherwise, if buffered street network is not saved, download graph from the OSF project\n",
    "elif not os.path.exists(roads_path):\n",
    "    print(\"Downloading buffered Vermont road network from OSF...\", flush=True)\n",
    "    url = 'https://osf.io/download/n2q73/'  \n",
    "    r = requests.get(url, allow_redirects=True)\n",
    "    print(\"Saving road network to\", roads_path, \" Please wait...\", flush=True)\n",
    "    open(roads_path, 'wb').write(r.content)\n",
    "    \n",
    "# load the saved network graph\n",
    "if os.path.exists(roads_path):\n",
    "    print(\"Loading road network from\", roads_path, \"Please wait...\", flush=True)\n",
    "    G = ox.load_graphml(roads_path) \n",
    "    print(\"Data loaded.\") \n",
    "else:\n",
    "    print(\"Error: could not load the road network from file.\")"
   ]
  },
  {
   "cell_type": "markdown",
   "metadata": {
    "tags": []
   },
   "source": [
    "### Plot the Road Network"
   ]
  },
  {
   "cell_type": "code",
   "execution_count": null,
   "metadata": {},
   "outputs": [],
   "source": [
    "%%time\n",
    "ox.plot_graph(G, node_size = 1, bgcolor = 'white', node_color = 'black', edge_color = \"#333333\", node_alpha = 0.5, edge_linewidth = 0.5)"
   ]
  },
  {
   "cell_type": "code",
   "execution_count": 6,
   "metadata": {},
   "outputs": [
    {
     "name": "stdout",
     "output_type": "stream",
     "text": [
      "577399 edges in graph\n",
      "maxspeed\n",
      "30 mph                                              48848\n",
      "40                                                  20564\n",
      "30                                                  18812\n",
      "50                                                  15082\n",
      "25 mph                                              14227\n",
      "35 mph                                              10340\n",
      "40 mph                                               9657\n",
      "55 mph                                               6035\n",
      "45 mph                                               5790\n",
      "50 mph                                               3702\n",
      "70                                                   2089\n",
      "20 mph                                               1343\n",
      "90                                                   1246\n",
      "100                                                  1005\n",
      "65 mph                                                722\n",
      "[40 mph, 30 mph]                                      470\n",
      "15 mph                                                467\n",
      "80                                                    450\n",
      "[40, 30]                                              366\n",
      "[40 mph, 50 mph]                                      306\n",
      "[45 mph, 55 mph]                                      287\n",
      "[35 mph, 30 mph]                                      282\n",
      "[40 mph, 35 mph]                                      276\n",
      "[45 mph, 40 mph]                                      201\n",
      "[40 mph, 55 mph]                                      192\n",
      "[35 mph, 50 mph]                                      188\n",
      "10 mph                                                161\n",
      "[45 mph, 30 mph]                                      161\n",
      "[45 mph, 35 mph]                                      156\n",
      "[70, 50]                                              148\n",
      "[25 mph, 30 mph]                                      132\n",
      "[25 mph, 35 mph]                                      125\n",
      "[50, 30]                                              122\n",
      "60                                                    116\n",
      "[35 mph, 55 mph]                                      101\n",
      "[45 mph, 50 mph]                                       94\n",
      "[55 mph, 30 mph]                                       94\n",
      "[50 mph, 30 mph]                                       93\n",
      "[90, 50]                                               84\n",
      "70 mph                                                 79\n",
      "20                                                     76\n",
      "[50, 40]                                               55\n",
      "[25 mph, 40 mph]                                       50\n",
      "[20 mph, 30 mph]                                       42\n",
      "25                                                     39\n",
      "[90, 70]                                               39\n",
      "[70, 100]                                              38\n",
      "[70, 90]                                               36\n",
      "[80, 50]                                               31\n",
      "15                                                     26\n",
      "[50 mph, 55 mph]                                       26\n",
      "[40 mph, 50 mph, 30 mph]                               24\n",
      "[55 mph, 50 mph]                                       24\n",
      "[70 mph, 65 mph]                                       19\n",
      "[50, 100]                                              19\n",
      "5 mph                                                  18\n",
      "[55 mph, 65 mph]                                       17\n",
      "[40 mph, 35 mph, 30 mph]                               16\n",
      "60 mph                                                 16\n",
      "[40 mph, 35 mph, 50 mph]                               15\n",
      "[35 mph, 40 mph, 50 mph]                               15\n",
      "10                                                     14\n",
      "17 mph                                                 14\n",
      "[35 mph, 50 mph, 30 mph]                               12\n",
      "[25 mph, 20 mph]                                       12\n",
      "[70, 80]                                               12\n",
      "[35 mph, 20 mph]                                       12\n",
      "[30, 15 mph]                                           11\n",
      "[80, 70]                                               10\n",
      "45                                                     10\n",
      "[45 mph, 40 mph, 50 mph]                                8\n",
      "[45 mph, 35 mph, 30 mph]                                8\n",
      "[25 mph, 40 mph, 30 mph]                                8\n",
      "[25 mph, 40 mph, 35 mph]                                8\n",
      "[25 mph, 35 mph, 30 mph]                                8\n",
      "[45 mph, 40 mph, 30 mph]                                8\n",
      "[25 mph, 45 mph]                                        8\n",
      "[45 mph, 25 mph]                                        8\n",
      "[25 mph, 50 mph]                                        8\n",
      "[70, 40]                                                7\n",
      "[15 mph, 30 mph]                                        7\n",
      "[45 mph, 40 mph, 35 mph]                                6\n",
      "[25 mph, 15 mph]                                        6\n",
      "[25 mph, 40 mph, 50 mph]                                6\n",
      "[40 mph, 55 mph, 30 mph]                                6\n",
      "[30, 20]                                                6\n",
      "[80, 100]                                               6\n",
      "30 mph;15 mph                                           6\n",
      "[80, 40]                                                5\n",
      "65                                                      5\n",
      "[45 mph, 55 mph, 30 mph]                                4\n",
      "[35 mph, 15 mph]                                        4\n",
      "[40 mph, 20 mph]                                        4\n",
      "[35 mph, 20 mph, 30 mph]                                4\n",
      "[25 mph, 5 mph]                                         4\n",
      "[55 mph, 15 mph]                                        3\n",
      "[35 mph, 40 mph, 55 mph]                                3\n",
      "5                                                       3\n",
      "[90, 100]                                               3\n",
      "[80, 50, 70]                                            3\n",
      "[40 mph, 35 mph, 55 mph]                                3\n",
      "[70, 50, 80]                                            3\n",
      "[70, 50, 90]                                            3\n",
      "[45 mph, 65 mph]                                        3\n",
      "[90, 50, 70]                                            3\n",
      "[35 mph, 55 mph, 30 mph]                                2\n",
      "[15, 15 mph, 30 mph]                                    2\n",
      "[10 mph, 35 mph]                                        2\n",
      "[70, 50, 100, 20]                                       2\n",
      "[45 mph, 40 mph, 55 mph]                                2\n",
      "[25 mph, 35 mph, 50 mph]                                2\n",
      "35                                                      2\n",
      "[50, 35]                                                2\n",
      "[50, 20]                                                2\n",
      "[45 mph, 70 mph]                                        2\n",
      "[10 mph, 40 mph, 35 mph, 30 mph]                        2\n",
      "75                                                      2\n",
      "[80, 50, 90]                                            2\n",
      "[90, 50, 80]                                            2\n",
      "[100, 65]                                               2\n",
      "[35 mph, 55 mph, 50 mph]                                2\n",
      "[45 mph, 50 mph, 30 mph]                                2\n",
      "[50, 60]                                                2\n",
      "[90, 60]                                                2\n",
      "[80, 45]                                                2\n",
      "[60, 50]                                                2\n",
      "[45 mph, 40 mph, 35 mph, 30 mph]                        2\n",
      "[45 mph, 35 mph, 50 mph]                                2\n",
      "[40 mph, 35 mph, 20 mph]                                2\n",
      "[25 mph, 35 mph, 45 mph, 40 mph, 30 mph]                2\n",
      "[25 mph, 35 mph, 15 mph, 45 mph, 40 mph, 30 mph]        2\n",
      "[25 mph, 45 mph, 40 mph, 35 mph]                        2\n",
      "[25 mph, 40 mph, 50 mph, 30 mph]                        2\n",
      "[40 mph, 15 mph, 30 mph]                                2\n",
      "[90, 65]                                                1\n",
      "[70, 50, 100, 60]                                       1\n",
      "[60, 40]                                                1\n",
      "[10 mph, 30 mph]                                        1\n",
      "[70, 50, 40]                                            1\n",
      "[45, 100]                                               1\n",
      "[70, 90, 100]                                           1\n",
      "[70, 50, 100]                                           1\n",
      "[45 mph, 20 mph]                                        1\n",
      "[70, 45]                                                1\n",
      "[55 mph, 70 mph]                                        1\n",
      "[70, 65]                                                1\n",
      "[45 mph, 55 mph, 70 mph]                                1\n",
      "[35 mph, 40 mph, 55 mph, 50 mph]                        1\n",
      "[40 mph, 15 mph]                                        1\n",
      "[40 mph, 15, 65 mph]                                    1\n",
      "[25 mph, 40 mph, 35 mph, 50 mph]                        1\n",
      "[25 mph, 35 mph, 40 mph, 50 mph]                        1\n",
      "[40 mph, 35 mph, 50 mph, 30 mph]                        1\n",
      "[35 mph, 40 mph, 50 mph, 30 mph]                        1\n",
      "[40 mph, 35 mph, 55 mph, 50 mph]                        1\n",
      "[55 mph, 60 mph]                                        1\n",
      "[25 mph, 65 mph]                                        1\n",
      "[70, 30]                                                1\n",
      "CPU times: total: 10.4 s\n",
      "Wall time: 10.4 s\n"
     ]
    }
   ],
   "source": [
    "%%time\n",
    "# Turn network edges into a geodataframe\n",
    "edges = ox.graph_to_gdfs(G, nodes=False, edges=True)\n",
    "\n",
    "# Count frequency of each speed value\n",
    "speed_values = edges['maxspeed'].value_counts()\n",
    "\n",
    "# Ouput number of edges and frequences of speed values\n",
    "print(str(len(edges)) + \" edges in graph\")\n",
    "print(speed_values.to_string())"
   ]
  },
  {
   "cell_type": "markdown",
   "metadata": {},
   "source": [
    "Display all the unique highway types, which are used to impute the speed limits for each category of highway."
   ]
  },
  {
   "cell_type": "code",
   "execution_count": null,
   "metadata": {},
   "outputs": [],
   "source": [
    "# view all highway types\n",
    "print(edges['highway'].value_counts())"
   ]
  },
  {
   "cell_type": "markdown",
   "metadata": {},
   "source": [
    "The OSMNx algorithm to impute missing speed limit data assumes that units are kilometers per hour unless the units are specified.\n",
    "Therefore, search for network edges containing speed limit data without units within the United States, where speed limits are defined in miles per hour."
   ]
  }
 ],
 "metadata": {
  "kernelspec": {
   "display_name": "ox",
   "language": "python",
   "name": "ox"
  },
  "language_info": {
   "codemirror_mode": {
    "name": "ipython",
    "version": 3
   },
   "file_extension": ".py",
   "mimetype": "text/x-python",
   "name": "python",
   "nbconvert_exporter": "python",
   "pygments_lexer": "ipython3",
   "version": "3.12.1"
  }
 },
 "nbformat": 4,
 "nbformat_minor": 4
}
