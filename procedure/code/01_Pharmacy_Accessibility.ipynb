{
 "cells": [
  {
   "cell_type": "markdown",
   "metadata": {
    "editable": true,
    "slideshow": {
     "slide_type": ""
    },
    "tags": []
   },
   "source": [
    "# Spatio-Temporal Accessibility of Pharmacy Care in Vermont, USA\n",
    "\n",
    "### Authors\n",
    "\n",
    "- Sam Roubin, sroubin@middlebury.edu, https://orcid.org/0009-0005-5490-3744, Middlebury College\n",
    "- Joseph Holler\\*, josephh@middlebury.edu, https://orcid.org/0000-0002-2381-2699, Middlebury College\n",
    "- Peter Kedron, peterkedron@ucsb.edu, https://orcid.org/0000-0002-1093-3416, University of California, Santa Barbara\n",
    "\n",
    "\\* Corresponding author"
   ]
  },
  {
   "cell_type": "markdown",
   "metadata": {},
   "source": [
    "## Abstract\n",
    "\n",
    "Pharmacy care is a fundamental aspect of primary healthcare and is gaining greater recognition in the healthcare landscape. Recent research has underscored the importance of pharmacy access in primary care, as pharmacies are visited at higher rates than primary care providers and are valuable for reaching underserved and rural populations. We aim to measure spatiotemporal variation in access to pharmacy care across the state of Vermont using the enhanced 2-step floating catchment area (E2SFCA) method. Specifically, we seek to identify areas that have particularly limited access to pharmacies. This research is temporally explicit, as it analyzes variation in accessibility at specific times of the day and days of the week. Such temporally granular data provides information on how spatial accessibility varies at irregular times, improving our understanding of when pharmacy care is particularly limited for certain populations. Our findings reveal significant disparities in pharmacy access between rural towns and metropolitan and micropolitan towns across virtually all temporal segments. Accessibility was diminished during weekends across all town types, highlighting potential challenges in accessing care outside of conventional business hours. Accessibility gaps between rural and urban areas were exacerbated outside of standard weekday business hours. Few studies have used the two-step floating catchment area (2SFCA) and the E2SFCA method to measure spatial accessibility of pharmacy care across geographic scales and regions. To our knowledge, this is the first temporally explicit study of pharmacy care and the first E2SFCA study of pharmacy accessibility in Vermont. Our results may be of interest to service providers and Vermont state public health officials with important implications for public health planning in the state.\n",
    "\n",
    "This study adapts and extends the methodology used in Kang et al.'s (2020) \"Rapidly measuring spatial accessibility of COVID-19 healthcare resources: a case study of Illinois, USA\" to measure spatial accessibility of pharmacy care across Vermont."
   ]
  },
  {
   "cell_type": "markdown",
   "metadata": {
    "jp-MarkdownHeadingCollapsed": true,
    "tags": []
   },
   "source": [
    "## **Study metadata**\n",
    "\n",
    "- `Key words`: Pharmacy, spatial accessibility, pharmacy deserts, Vermont, E2FSCA.\n",
    "- `Subjects`:\n",
    "  - Medicine and Health Sciences: Public Health: Health Services Research\n",
    "  - Social and Behavioral Sciences: Geography: Geographic Information Sciences\n",
    "  - Social and Behavioral Sciences: Geography: Human Geography\n",
    "- `Date created`: 18-Sept-2023\n",
    "- `Date modified`: 28-Aug-2024\n",
    "- `Spatial Coverage`: The state of Vermont and areas within 10-miles of the Vermont border (MA, NY, NH). Canada is excluded.\n",
    "- `Spatial Resolution`: Vermont municipalities. These units are roughly the same size as census tracts, but they represent politically meaningful geographic units.\n",
    "- `Spatial Reference System`: EPSG 6589\n",
    "- `Temporal Coverage`: Data was collected in October, November, and December of 2023. The temporal extent is not explicitly determined. Pharmacies have been asked to provide their staffing levels over the period of roughly a month. The results from the study will be theoretically based on a single point in time in the fall of 2023. This is a one time measurement, and the study does not investigate change over time.\n",
    "- `Temporal Resolution`: The highest temporal resolution of this study is one hour. Many results and figures aggregate the temporal resolution into days of the week or common operating hours. \n",
    "- `Funding Name`: National Science Foundation Directorate for Social, Behavioral and Economic Sciences\n",
    "- `Funding Title`: Transforming theory-building and STEM education through reproductions and replications in the geographical sciences\n",
    "- `Award info URI`: <https://www.nsf.gov/awardsearch/showAward?AWD_ID=2049837>\n",
    "- `Award number`: BCS-2049837"
   ]
  },
  {
   "cell_type": "markdown",
   "metadata": {},
   "source": [
    "## **Study design**\n",
    "\n",
    "Our study represents original research employing the Enhanced 2-Step Floating Catchment Area (E2SFCA) method to assess spatial and temporal dimensions of pharmacy accessibility across Vermont. Holler et al. (2022) previously [reproduced Kang et al.'s (2020) study](https://osf.io/n92v3/) on spatial accessibility of COVID-19 healthcare resources in Illinois, USA. Our research extends the foundational code from this reproduction study, making relevant changes for our analysis. While retaining the core methodology, we make procedural and geographic adjustments, such as modifying the geographic area of interest and spatial resolution of accessibility measurements. We also introduce temporal considerations for a more nuanced analysis of pharmacy access. \n",
    "\n",
    "This study is an observational study that employs a descriptive model, based upon the E2SFCA method, first developed by Luo and Qi (2009) as an extension of the 2SFCA method (Luo & Wang, 2003), to measure spatial accessibility to primary care physicians. Since then, this method has been widely adopted to measure the spatial accessibility to a wide range of services; still, it appears to primarily be used to address access to healthcare resources.  \n",
    "\n",
    "**The overarching objective of this study is to understand how access to pharmacy care varies spatiotemporally across Vermont.** Our investigation is primarily driven by the hypothesis that rural populations across Vermont experience increased difficulty in accessing pharmacy services,  particularly beyond the conventional 9 am to 5 pm business hours on weekdays. We conduct multiple runs of a spatial accessibility model at varying times of day and days of the week in order to describe how general variation in spatial access is impacted throughout a given week. Results are depicted in series of spatial accessibility maps, charts, and graphs that summarize key accessibility differences. Three primary research questions and hypotheses arise from studying temporally explicit spatial accessibility of pharmacy care in Vermont. \n",
    "\n",
    "1. Geographical Variation: Do certain areas of the state exhibit particularly limited access to pharmacy care during normal business hours?\n",
    "    - H1: Rural towns have less access to pharmacy care than micropolitan and metropolitan towns. \n",
    "    - H1 Null: There is no significant difference in access to pharmacy care among Vermont towns classified as metropolitan, micropolitan, and rural.\n",
    "\n",
    "\n",
    "2. Temporal Fluctuations: How does the accessibility to pharmacies fluctuate across different temporal segments of the day, various days of the week, or combinations of these temporal dimensions? \n",
    "    - H2: The accessibility to all pharmacies varies across temporal segments, including different times of the day, days of the week, and combinations of these temporal dimensions, with more limited access outside of typical 9 am to 5 pm weekday business hours.\n",
    "    - H2 Null: There is no significant difference in average accessibility to pharmacy services at different times of day or days of week. \n",
    "\n",
    "\n",
    "3. Spatiotemporal: Presuming that we have observed differences in pharmacy accessibility in rural areas, are spatial differences in access exacerbated outside of conventional business hours? \n",
    "    - H3: Differences in spatial accessibility between rural and metropolitan areas will be greater at irregular hours compared to conventional weekday business hours.\n",
    "    - H3 Null: Differences in spatial accessibility do not vary outside of conventional weekday business hours. \n",
    "    \n",
    "The classifications of metropolitan, micropolitan, and rural are based on town (county subdivision) geographical units, providing justification for using towns as the geographic units for the final maps in our study. Additionally, these units are politically meaningful, which also informed this decision.  \n",
    "\n",
    "Our hypotheses are based on the primary care accessibility literature, which has demonstrated urban-rural differences in access. It has also been shown that rural residents are less likely than their metropolitan counterparts to have usual source of primary care providers available during nights and weekends (Kirby & Yabroff, 2020). To assess our hypothesis regarding diminished spatial accessibility to pharmacy services for rural towns, we utilized the Kruskal-Wallis test to compare accessibility across metropolitan, micropolitan, and rural towns. This statistical test is commonly used to analyze the difference between the means of more than two groups with non-normal distributions. We use choropleth maps to illustrate the spatial variation in pharmacy access. Testing for statistically significant differences of means is also used to determine whether accessibility varies temporally. However, it is decidedly more difficult to run statistical tests that encapsulate the complexity of spatiotemporal variations in access to pharmacy care. As such, we demonstrate our results in a more descriptive manner through the creation of charts and compare maps of accessibility over varying time extents.\n",
    "\n",
    "Because of the significant variation in opening and closing hours of pharmacies on Sundays and our desire to compare hourly accessibility across days of the week, we decided to run the model for every hour between 7 am and 11 pm on weekdays, Saturdays, and Sundays. Although there is minimal variation in accessibility throughout conventional 9 am to 5 pm business hours on weekdays, this approach allowed us to include time periods that are likely to pose accessibility issues to patients, while also meaningfully comparing accessibility across days of the week. This approach establishes temporal granularity, providing a comprehensive understanding of spatial and temporal accessibility dynamics within pharmacy care across Vermont by capturing fluctuations in access over multiple time points throughout the week. Through this method, we aim to comprehensively evaluate pharmacy accessibility and identify any disparities in access across both space and time within the state. "
   ]
  },
  {
   "cell_type": "markdown",
   "metadata": {
    "tags": []
   },
   "source": [
    "### Background\n",
    "\n",
    "Pharmacy care has recently emerged as an increasingly important part of the healthcare landscape. Pharmacies maintain a significant role in public health because of their contributions in medicine dispensing, patient consultation, vaccine delivery, and diagnostic testing, marking a continued shift from product-centered to patient-centered pharmacy care (Steeb and Ramaswamy, 2019). Recently, pharmacies have been instrumental in supporting the United States’s health and recovery throughout the COVID-19 pandemic (Grabenstein, 2022). Evidence suggests that community pharmacies are well-suited to provide preventive healthcare services due to their convenient locations and extended operational hours (San-Juan-Rodriguez et al.,  2018). Pharmacies play a crucial role in ensuring equitable access to healthcare by reaching underserved individuals who lack access to other healthcare settings (San-Juan-Rodriguez et al. 2018), as well as rural residents with limited access to primary care providers (Berenbrok et al., 2022). In general, pharmacies can be particularly important for providing healthcare services in limited resource settings (Steeb and Ramaswamy, 2019). \n",
    "\n",
    "Across the United States, rural populations tend to experience increased difficulty in accessing healthcare. Vermont has the highest proportion of its residents living in rural areas of any state in the US at 64.9% (U.S. Census Bureau, 2022). Thus, it may be important to pay attention to pharmacy care as an effective method to provide accessible healthcare services to many of Vermont's municipalities. Vermont's age demographics are additionally important when considering access to pharmacies and other healthcare services. Vermont ranks as the fourth oldest state in the US in terms of the proportion of elderly people (population 65 and over) (US Census Bureau, 2023). Older populations are more reliant on pharmacy services given their higher utilization rates of prescription medications compared to younger demographics (Martin et al.,2019). Understanding gaps in spatial accessibility to pharmacies in Vermont is especially crucial given these demographics. \n",
    "\n",
    "Information regarding pharmacy access in Vermont is extremely sparse. The Vermont State Department of Health indicated that full-time pharmacists per 100,000 people were highest in counties with the largest urban areas, while the most rural counties, such as Essex County and Grand Isle County, had the lowest numbers of pharmacists per 100,000 (VTDOH, 2021). However, this data does not necessarily accurately reflect accessibility due to the lack of consideration of the distribution of demand (competition for services) and the necessary travel to these pharmacies, and the analysis is not at a granular enough scale to garner a meaningful understanding of variation in pharmacy accessibility.\n",
    "\n",
    "Measuring access to healthcare has often been discussed in terms of affordability and availability, with less attention paid to spatial, or geographic, accessibility. However, there has been a notable shift in recent years towards analyzing spatial accessibility to healthcare services. Research indicates that geographic access impacts the utilization of various healthcare services, such as primary care (Arcury et al., 2005) and hospitals (Goodman et al., 1997). Specifically, studies have demonstrated that larger travel distances from pharmacies are associated with lower utilization rates (Hiscock et al., 2008).\n",
    "\n",
    "Despite the increase in recognition of spatial methods in understanding healthcare accessibility, the literature on geographic access to pharmacy care remains limited. Of the existing literature, much has quantified access based on relatively simple methods, such as calculating pharmacy density within a geographic area (Tharumia Jagadeesan & Wirtz, 2021) or proportions of populations living within given travel distances to the nearest pharmacy (Law et al.,2011). To our knowledge, only three other studies have applied the 2SFCA or E2SFCA method to pharmacy access (Ikram et al., 2015; Wang and Ramroop, 2018; Zhou et al., 2021). \n",
    "\n",
    "The E2SFCA method has several benefits compared to other common methods that have been used to investigate geographic accessibility to pharmacies. Unlike others, the E2SFCA method accounts for dynamics related to both supply and demand, as well as their interactions. Recent studies have started to include a temporal element into their spatial accessibility analyses, varying travel times, supply variables, and demand variables based on time (Jumadi et al., 2022; Kim and Kwon, 2022). However, we only varied our supply variables (pharmacy staffing) based on time due to the lack of granular data on travel times and real-time data on people's locations. It may be possible to gather information on how demand shifts throughout the day using mobile phone location data. Consideration of variation in travel times in spatiotemporal accessibility studies is often conducted in large metropolitan areas where variation in traffic congestion can severely impact travel times. Due to Vermont's rural nature and lack of a large metropolitan area, this consideration was not a concern in our study.\n",
    "\n",
    "Since varying time periods can lead to significant differences in accessibility, it is important that accessibility studies of healthcare, which is often time-sensitive, consider this dimension. The inclusion of this temporal dimension has the ability to drastically improve the complexity of a spatial accessibility model, and thus the value and applicability of the conclusions. By running our analysis through various time points in a given week, we intended to elucidate some of these more complex accessibility dynamics, increasing the value of our study from a policy and healthcare planning perspective. "
   ]
  },
  {
   "cell_type": "markdown",
   "metadata": {},
   "source": [
    "## **Materials and procedure**"
   ]
  },
  {
   "cell_type": "markdown",
   "metadata": {
    "id": "lpUbJuwsgQJu"
   },
   "source": [
    "### Computational environment\n",
    "\n",
    "Similar to Kang et al. (2020), this study was run using CyberGIS-Jupyter. This study uses an updated software environment from the reproduction study, using Python Jupyter Notebooks in the CyberGISX environment available at https://cybergisxhub.cigi.illinois.edu/. In particular, we use the Python 3-0.9.0 Kernel running Python 3.8.12, pandas 1.3.5, geopandas 0.10.2, networkx 2.6.3 and osmnx 1.1.2. \n"
   ]
  },
  {
   "cell_type": "code",
   "execution_count": 84,
   "metadata": {
    "tags": []
   },
   "outputs": [
    {
     "name": "stdout",
     "output_type": "stream",
     "text": [
      "numpy==1.22.0\n",
      "pandas==1.3.5\n",
      "geopandas==0.10.2\n",
      "seaborn==0.11.2\n",
      "networkx==2.6.3\n",
      "osmnx==1.1.2\n",
      "re==2.2.1\n",
      "IPython==8.3.0\n",
      "requests==2.27.1\n",
      "imageio==2.13.5\n"
     ]
    }
   ],
   "source": [
    "# Import modules\n",
    "import numpy as np\n",
    "import pandas as pd\n",
    "import geopandas as gpd\n",
    "import seaborn as sns\n",
    "import networkx as nx\n",
    "import osmnx as ox\n",
    "import re\n",
    "from shapely.geometry import Point, LineString, Polygon\n",
    "import matplotlib.pyplot as plt\n",
    "import os\n",
    "import time\n",
    "import warnings\n",
    "import IPython\n",
    "import requests\n",
    "from IPython.display import display, clear_output\n",
    "from shapely.ops import nearest_points   #for pharmacy_setting function\n",
    "from scipy.stats import kruskal\n",
    "from matplotlib import colors\n",
    "from matplotlib.lines import Line2D\n",
    "from matplotlib.animation import FuncAnimation\n",
    "from matplotlib.colors import Normalize\n",
    "from matplotlib.cm import ScalarMappable\n",
    "import matplotlib.patheffects as path_effects\n",
    "from tabulate import tabulate\n",
    "from matplotlib.colors import ListedColormap\n",
    "from mpl_toolkits.axes_grid1.anchored_artists import AnchoredSizeBar\n",
    "from matplotlib.font_manager import FontProperties\n",
    "from matplotlib.patches import Patch\n",
    "import imageio\n",
    "\n",
    "warnings.filterwarnings(\"ignore\")\n",
    "print('\\n'.join(f'{m.__name__}=={m.__version__}' for m in globals().values() if getattr(m, '__version__', None)))"
   ]
  },
  {
   "cell_type": "markdown",
   "metadata": {
    "tags": []
   },
   "source": [
    "### Check Directories"
   ]
  },
  {
   "cell_type": "code",
   "execution_count": 85,
   "metadata": {},
   "outputs": [
    {
     "data": {
      "text/plain": [
       "'/home/jovyan/work/OR-VT-Pharmacy'"
      ]
     },
     "execution_count": 85,
     "metadata": {},
     "output_type": "execute_result"
    }
   ],
   "source": [
    "# Check working directory\n",
    "os.getcwd()"
   ]
  },
  {
   "cell_type": "code",
   "execution_count": 86,
   "metadata": {
    "tags": []
   },
   "outputs": [
    {
     "data": {
      "text/plain": [
       "'/home/jovyan/work/OR-VT-Pharmacy'"
      ]
     },
     "execution_count": 86,
     "metadata": {},
     "output_type": "execute_result"
    }
   ],
   "source": [
    "# Use to set work directory properly\n",
    "if os.path.basename(os.getcwd()) == 'code':\n",
    "    os.chdir('../../')\n",
    "os.getcwd()"
   ]
  },
  {
   "cell_type": "markdown",
   "metadata": {},
   "source": [
    "### Methods\n",
    "\n",
    "The conventional two-step floating catchment area (2SFCA) method, pioneered by Luo and Qi (2009), is a widely used approach for assessing healthcare accessibility based on service-to-population (supply-to-demand) ratios. In this method, catchment areas are defined around healthcare facilities using a threshold travel time, within which the service-to-population ratio is computed. We computed these travel times using the OSM road network's driving distances and speed limits. The accessibility at each residential location is then determined by summing up these ratios, indicating which areas are relatively more accessible compared to others. However, this method assumes equal spatial accessibility for residents within the same catchment area, which does not accurately reflect the fact that individuals are more likely to visit closer services.\n",
    "\n",
    "The enhanced two-step floating catchment area (E2SFCA) method, pioneered by Luo and Qi (2009), addresses this limitation by considering distance decay. To do so, it incorporates multiple travel time zones (e.g., 0–10, 10–20, and 20–30 minutes) within the larger catchment area with corresponding distance weights (1, .68, and .22). This allows for a more nuanced assessment of spatial accessibility by accounting for the varying likelihood of individuals accessing facilities at different distances. The accessibility is computed as a summation of accessibility measures across each travel interval, providing a more comprehensive understanding of healthcare accessibility.\n",
    "\n",
    "The E2SFCA method involves calculating a service-to-population ratio for each supply location (pharmacy) and aggregating these ratios for overlapping residential areas. Our service values were established by surveying pharmacies in Vermont and receiving information on the number of pharmacists and pharmacy technicians that typically work on weekdays, Saturdays, and Sundays at each location. We summed the number of pharmacists and half the technicians for these days to compute a total \"service\" value for each pharmacy, considering that pharmacists are relatively more important than technicians for pharmacy operations. Then, the weighted service-to-population ratios are normalized and aggregated into Vermont town geographic units using an area-weighted overlay. \n",
    "\n",
    "In our temporally explicit model, we calculated these service-to-population ratios for weekdays, Saturdays, and Sundays differentially based on the number of pharmacists and pharmacy technicians that work on each day, as well as for different hours on each day based on operational hours of pharmacies. However, due to restrictions in our survey's ability to capture more complex staffing models (i.e. variation in staffing throughout the day) and for simplicity, the staffing levels within days were assumed to be constant for each hour of that day. Variation in accessibility between hours in a given day is demonstrated by whether a pharmacy is open, whereby zero staff are reported if it is closed, lowering the service-to-population ratio in a given catchment. \n",
    "\n",
    "By implementing operational hours (temporal explicitness) and staffing levels into our analysis, we attempted to eliminate the limitation of assuming equal capacity of all pharmacies in other 2SFCA studies, such as Zhou et al.'s (2021) and Wang and Ramroop's (2018) spatial accessibility to pharmacies study. "
   ]
  },
  {
   "cell_type": "markdown",
   "metadata": {
    "id": "dEwHjXmlVXZI",
    "tags": []
   },
   "source": [
    "## **Data and variables**\n",
    "\n",
    "Three main datasets were used for this study, only one of which includes primary data: 1) A retail pharmacy dataset, including the locations, hours of operations, and staffing levels of each retail pharmacy in Vermont, 2) a population dataset, and 3) a road network dataset. The list of active pharmacies was sourced from the Vermont Office of Professional Regulation (OPR) and the Homeland Infrastructure Foundation-Level Data (HIFLD) provided by the Department of Homeland Security (DHS). A list of all pharmacies within the study area was compiled by aggregating these data sources and checking them against Google Maps and OpenStreetMap (OSM). By conducting surveys, we verified the publicly available data regarding operational hours and gathered information on pharmacy staffing levels. The population dataset is sourced from the United States Census Bureau and contains information on the populations living in Vermont towns, as well as some demographic information on those towns. The road network dataset is pulled from OSM using the OSMnx package in Python. \n",
    "\n",
    "The sole primary data source for the study includes the data we collected on pharmacies, while the secondary data sources for the study include the residential dataset and the road network data. \n"
   ]
  },
  {
   "cell_type": "markdown",
   "metadata": {},
   "source": [
    "### (1) Pharmacy Dataset\n",
    "\n",
    "\n",
    "**Standard Metadata**\n",
    "\n",
    "- `Abstract`: This dataset is primary data that was collected through surveying all VT pharmacies about their staffing levels and hours of operations. It contains information on each VT pharmacy's (117) location, hours of operations on weekdays, Saturdays, and Sundays, and the number of pharmacists and pharmacy technicians that typically work on a given day. It also includes data on the hours of operations of the 75 pharmacies within 10 miles of the VT border (NY, MA, NH). Staffing data was not collected for pharmacies outside of Vermont. Instead, staffing data was interpolated for all out-of-state pharmacies and pharmacies in Vermont for which data could not be collected. There were 192 pharmacies included in our study area in total.\n",
    "- `Spatial Coverage`: Vermont and ten miles within in Vermont state border, encompassing parts of New York, Massachusetts, and New Hampshire. Canada was excluded. \n",
    "- `Spatial Resolution`: This data specifies the specific coordinates of the pharmacy locations of interest. Resolution is not relevant. \n",
    "- `Spatial Reference System`: EPSG 6589 in order to match the results maps. \n",
    "- `Temporal Coverage`: Data was collected over the course of a couple of months, but it theoretically represents an average or typical week in the fall or early winter of 2023. \n",
    "- `Temporal Resolution`: The temporal resolution of service is hours while the temporal resolution of staffing levels is a typical work week. \n",
    "- `Lineage`: Initial pharmacy list of 127 pharmacies was downloaded from the Vermont Office of Professional Regulation (https://secure.professionals.vermont.gov/prweb/PRServletCustom?UserIdentifier=LicenseLookupGuestUser) and modified to exclude no longer active pharmacies and non-retail pharmacies. 10 pharmacies on the list were removed, totaling 117 VT pharmacies.  The pharmacy locations were checked against Google Maps and a national pharmacy dataset from the Department of Homeland Security (DHS) to ensure all pharmacies in the state were included. Pharmacy locations outside of Vermont but within study area were included through querying pharmacies from OSM in QGIS, Google Maps searches, and the DHS pharmacy dataset. Pharmacies that had been closed were omitted from the data. Data on hours of operations and staffing were sourced through surveys and manually inputted by the authors. Staffing data was collected for 87% of pharmacies in VT, which was used to interpolate staffing for out-of-state pharmacies. This protocol was approved by the Middlebury College Institutional Review Board (#264). \n",
    "- `Distribution`: The majority of this dataset will be made public and downloadable on a GitHub repository. The staffing data will not be made public due to the proprietary nature of this information; however, the staffing data may be available upon request. \n",
    "- `Constraints`: We have agreed not to publicly release staffing levels of the pharmacy locations due to the proprietary nature of this data for some of the larger pharmacy chains.\n",
    "- `Data Quality`: The initial pharmacy list was checked against the DHS dataset and visualized in GIS (satellite imagery) against OpenStreetMap to ensure the correct locations of active pharmacies. We also check hours of operations posted online against what we are told during our surveys -- hours of operations incorrectly posted online were edited to match survey responses. \n",
    "- `Variables`: \n",
    "\n",
    "| Label | Definition | Type |\n",
    "| :--: | :--: | :--: | \n",
    "| pharmid | unique pharmacy identifier | Text| \n",
    "| pharmacy_name | business name | Text | \n",
    "| type | chain, independent, grocery, department, hospital | Text | \n",
    "| address | pharmacy street address | Text |  \n",
    "| state | state in which pharmacy is located | Text | \n",
    "| lat | GPS coordinates. Lat | Decimal | \n",
    "| lon | GPS coordinates. Lon | Decimal | \n",
    "| week_open | opening time (24-hr) on weekdays | Integer | \n",
    "| week_close | closing time (24-hr) on weekdays | Integer |\n",
    "| sat_open| opening time (24-hr) on Saturdays | Integer | \n",
    "| sat_close| closing time (24-hr) operations on Saturdays | Integer |\n",
    "| sun_hours| opening time (24-hr) on Sundays | Integer | \n",
    "| sun_hours| closing time (24-hr) on Sundays | Integer |\n",
    "| week_pharm| Typical # pharmacists on weekday | Integer | \n",
    "| week_tech| Typical # pharm. techs on weekdays  | Integer | \n",
    "| sat_pharm| Typical # pharmacists on Saturday | Integer| \n",
    "| sat_tech| Typical # pharm. techs on Saturdays  | Integer| \n",
    "| sun_pharm| Typical # pharmacists on Sundays | Integer | \n",
    "| sun_tech| Typical # pharm. techs on Sundays| Integer| \n",
    "\n",
    "\n",
    "  - `Accuracy`: We are confident in the accuracy of the pharmacy list in Vermont. Our confidence in the out-of-state retail pharmacy locations is slightly diminished since these pharmacy locations are not based on a recent dataset from the respective states. We have confidence in the quality of the data on pharmacy staffing and hours of operations for VT pharmacies since we collected the data by surveying all pharmacies. Hours of operations for non-VT pharmacies were pulled from online. The spatial accuracy of the dataset is further confirmed as we ensured that the point coordinates for the pharmacies were within the building footprint polygon on the OSM map layer in QGIS. \n",
    "  - `Domain`:  The expected range of all of the pharmacy operational hours is from roughly 7 am to 10 pm. The expected range of pharmacists and technicians is from one to ten for weekdays, Saturdays, and Sundays. \n",
    "  - `Missing Data Value(s)`: For any missing data on the number of pharmacists and pharmacy technicians at a given pharmacy location, the values are interpolated based on collected data for pharmacies of the same type. There is no missing data for hours of operations, as operational hours for non-surveyed out-of-state pharmacies were pulled from online. \n",
    "  - `Missing Data Frequency`: We were able to collect staffing data for 102 of 117 pharmacies in Vermont."
   ]
  },
  {
   "cell_type": "markdown",
   "metadata": {},
   "source": [
    "#### Load and Visualize Pharmacy Data\n",
    "\n",
    "This data contains the hours of operations and the number of pharmacists and pharmacy technicians staffed at each pharmacy. All open and close times are reported in 24-hour time. Values of -1 indicate that the pharmacy is closed.  "
   ]
  },
  {
   "cell_type": "code",
   "execution_count": 87,
   "metadata": {},
   "outputs": [
    {
     "data": {
      "text/html": [
       "<div>\n",
       "<style scoped>\n",
       "    .dataframe tbody tr th:only-of-type {\n",
       "        vertical-align: middle;\n",
       "    }\n",
       "\n",
       "    .dataframe tbody tr th {\n",
       "        vertical-align: top;\n",
       "    }\n",
       "\n",
       "    .dataframe thead th {\n",
       "        text-align: right;\n",
       "    }\n",
       "</style>\n",
       "<table border=\"1\" class=\"dataframe\">\n",
       "  <thead>\n",
       "    <tr style=\"text-align: right;\">\n",
       "      <th></th>\n",
       "      <th>pharmid</th>\n",
       "      <th>pharmacy_name</th>\n",
       "      <th>type</th>\n",
       "      <th>address</th>\n",
       "      <th>state</th>\n",
       "      <th>lat</th>\n",
       "      <th>lon</th>\n",
       "      <th>week_open</th>\n",
       "      <th>week_close</th>\n",
       "      <th>sat_open</th>\n",
       "      <th>sat_close</th>\n",
       "      <th>sun_open</th>\n",
       "      <th>sun_close</th>\n",
       "      <th>geometry</th>\n",
       "    </tr>\n",
       "  </thead>\n",
       "  <tbody>\n",
       "    <tr>\n",
       "      <th>0</th>\n",
       "      <td>VT99</td>\n",
       "      <td>Walgreen Eastern Co., Inc. d/b/a Walgreens #18325</td>\n",
       "      <td>chain</td>\n",
       "      <td>30 Shelburne Shopping Park, Shelburne, VT</td>\n",
       "      <td>VT</td>\n",
       "      <td>44.379262</td>\n",
       "      <td>-73.224989</td>\n",
       "      <td>9.0</td>\n",
       "      <td>19.0</td>\n",
       "      <td>-1.0</td>\n",
       "      <td>-1</td>\n",
       "      <td>-1.0</td>\n",
       "      <td>-1</td>\n",
       "      <td>POINT (-73.22499 44.37926)</td>\n",
       "    </tr>\n",
       "    <tr>\n",
       "      <th>1</th>\n",
       "      <td>VT98</td>\n",
       "      <td>WALGREENS #19795</td>\n",
       "      <td>chain</td>\n",
       "      <td>133 N Main St Ste 23, Saint Albans, VT</td>\n",
       "      <td>VT</td>\n",
       "      <td>44.814168</td>\n",
       "      <td>-73.082604</td>\n",
       "      <td>9.0</td>\n",
       "      <td>19.0</td>\n",
       "      <td>9.0</td>\n",
       "      <td>18</td>\n",
       "      <td>9.0</td>\n",
       "      <td>17</td>\n",
       "      <td>POINT (-73.08260 44.81417)</td>\n",
       "    </tr>\n",
       "    <tr>\n",
       "      <th>2</th>\n",
       "      <td>VT97</td>\n",
       "      <td>WALGREENS #17747</td>\n",
       "      <td>chain</td>\n",
       "      <td>201 Route 7 S, Milton, VT</td>\n",
       "      <td>VT</td>\n",
       "      <td>44.682189</td>\n",
       "      <td>-73.112042</td>\n",
       "      <td>9.0</td>\n",
       "      <td>19.0</td>\n",
       "      <td>9.0</td>\n",
       "      <td>18</td>\n",
       "      <td>-1.0</td>\n",
       "      <td>-1</td>\n",
       "      <td>POINT (-73.11204 44.68219)</td>\n",
       "    </tr>\n",
       "    <tr>\n",
       "      <th>3</th>\n",
       "      <td>VT96</td>\n",
       "      <td>Walgreens #19346</td>\n",
       "      <td>chain</td>\n",
       "      <td>221 Main St, Enosburg Falls, VT</td>\n",
       "      <td>VT</td>\n",
       "      <td>44.905772</td>\n",
       "      <td>-72.806612</td>\n",
       "      <td>9.0</td>\n",
       "      <td>19.0</td>\n",
       "      <td>9.0</td>\n",
       "      <td>18</td>\n",
       "      <td>-1.0</td>\n",
       "      <td>-1</td>\n",
       "      <td>POINT (-72.80661 44.90577)</td>\n",
       "    </tr>\n",
       "    <tr>\n",
       "      <th>4</th>\n",
       "      <td>VT95</td>\n",
       "      <td>Walgeens #17183</td>\n",
       "      <td>chain</td>\n",
       "      <td>1184 Prim Rd Ste 2, Colchester, VT</td>\n",
       "      <td>VT</td>\n",
       "      <td>44.537734</td>\n",
       "      <td>-73.247286</td>\n",
       "      <td>9.0</td>\n",
       "      <td>20.0</td>\n",
       "      <td>9.0</td>\n",
       "      <td>18</td>\n",
       "      <td>9.0</td>\n",
       "      <td>17</td>\n",
       "      <td>POINT (-73.24729 44.53773)</td>\n",
       "    </tr>\n",
       "  </tbody>\n",
       "</table>\n",
       "</div>"
      ],
      "text/plain": [
       "  pharmid                                      pharmacy_name   type  \\\n",
       "0    VT99  Walgreen Eastern Co., Inc. d/b/a Walgreens #18325  chain   \n",
       "1    VT98                                   WALGREENS #19795  chain   \n",
       "2    VT97                                   WALGREENS #17747  chain   \n",
       "3    VT96                                   Walgreens #19346  chain   \n",
       "4    VT95                                    Walgeens #17183  chain   \n",
       "\n",
       "                                     address state        lat        lon  \\\n",
       "0  30 Shelburne Shopping Park, Shelburne, VT    VT  44.379262 -73.224989   \n",
       "1     133 N Main St Ste 23, Saint Albans, VT    VT  44.814168 -73.082604   \n",
       "2                  201 Route 7 S, Milton, VT    VT  44.682189 -73.112042   \n",
       "3            221 Main St, Enosburg Falls, VT    VT  44.905772 -72.806612   \n",
       "4         1184 Prim Rd Ste 2, Colchester, VT    VT  44.537734 -73.247286   \n",
       "\n",
       "   week_open  week_close  sat_open  sat_close  sun_open  sun_close  \\\n",
       "0        9.0        19.0      -1.0         -1      -1.0         -1   \n",
       "1        9.0        19.0       9.0         18       9.0         17   \n",
       "2        9.0        19.0       9.0         18      -1.0         -1   \n",
       "3        9.0        19.0       9.0         18      -1.0         -1   \n",
       "4        9.0        20.0       9.0         18       9.0         17   \n",
       "\n",
       "                     geometry  \n",
       "0  POINT (-73.22499 44.37926)  \n",
       "1  POINT (-73.08260 44.81417)  \n",
       "2  POINT (-73.11204 44.68219)  \n",
       "3  POINT (-72.80661 44.90577)  \n",
       "4  POINT (-73.24729 44.53773)  "
      ]
     },
     "execution_count": 87,
     "metadata": {},
     "output_type": "execute_result"
    }
   ],
   "source": [
    "# Read in pharmacy data\n",
    "pharmacies = gpd.read_file('./data/raw/public/pharmacy/pharmacies_df.gpkg')\n",
    "pharmacies.head()"
   ]
  },
  {
   "cell_type": "markdown",
   "metadata": {},
   "source": [
    "Map pharmacies and their hours."
   ]
  },
  {
   "cell_type": "code",
   "execution_count": 88,
   "metadata": {
    "editable": true,
    "slideshow": {
     "slide_type": ""
    },
    "tags": []
   },
   "outputs": [
    {
     "data": {
      "text/html": [
       "<div style=\"width:100%;\"><div style=\"position:relative;width:100%;height:0;padding-bottom:60%;\"><span style=\"color:#565656\">Make this Notebook Trusted to load map: File -> Trust Notebook</span><iframe src=\"about:blank\" style=\"position:absolute;width:100%;height:100%;left:0;top:0;border:none !important;\" data-html=%3C%21DOCTYPE%20html%3E%0A%3Chead%3E%20%20%20%20%0A%20%20%20%20%3Cmeta%20http-equiv%3D%22content-type%22%20content%3D%22text/html%3B%20charset%3DUTF-8%22%20/%3E%0A%20%20%20%20%0A%20%20%20%20%20%20%20%20%3Cscript%3E%0A%20%20%20%20%20%20%20%20%20%20%20%20L_NO_TOUCH%20%3D%20false%3B%0A%20%20%20%20%20%20%20%20%20%20%20%20L_DISABLE_3D%20%3D%20false%3B%0A%20%20%20%20%20%20%20%20%3C/script%3E%0A%20%20%20%20%0A%20%20%20%20%3Cstyle%3Ehtml%2C%20body%20%7Bwidth%3A%20100%25%3Bheight%3A%20100%25%3Bmargin%3A%200%3Bpadding%3A%200%3B%7D%3C/style%3E%0A%20%20%20%20%3Cstyle%3E%23map%20%7Bposition%3Aabsolute%3Btop%3A0%3Bbottom%3A0%3Bright%3A0%3Bleft%3A0%3B%7D%3C/style%3E%0A%20%20%20%20%3Cscript%20src%3D%22https%3A//cdn.jsdelivr.net/npm/leaflet%401.6.0/dist/leaflet.js%22%3E%3C/script%3E%0A%20%20%20%20%3Cscript%20src%3D%22https%3A//code.jquery.com/jquery-1.12.4.min.js%22%3E%3C/script%3E%0A%20%20%20%20%3Cscript%20src%3D%22https%3A//maxcdn.bootstrapcdn.com/bootstrap/3.2.0/js/bootstrap.min.js%22%3E%3C/script%3E%0A%20%20%20%20%3Cscript%20src%3D%22https%3A//cdnjs.cloudflare.com/ajax/libs/Leaflet.awesome-markers/2.0.2/leaflet.awesome-markers.js%22%3E%3C/script%3E%0A%20%20%20%20%3Clink%20rel%3D%22stylesheet%22%20href%3D%22https%3A//cdn.jsdelivr.net/npm/leaflet%401.6.0/dist/leaflet.css%22/%3E%0A%20%20%20%20%3Clink%20rel%3D%22stylesheet%22%20href%3D%22https%3A//maxcdn.bootstrapcdn.com/bootstrap/3.2.0/css/bootstrap.min.css%22/%3E%0A%20%20%20%20%3Clink%20rel%3D%22stylesheet%22%20href%3D%22https%3A//maxcdn.bootstrapcdn.com/bootstrap/3.2.0/css/bootstrap-theme.min.css%22/%3E%0A%20%20%20%20%3Clink%20rel%3D%22stylesheet%22%20href%3D%22https%3A//maxcdn.bootstrapcdn.com/font-awesome/4.6.3/css/font-awesome.min.css%22/%3E%0A%20%20%20%20%3Clink%20rel%3D%22stylesheet%22%20href%3D%22https%3A//cdnjs.cloudflare.com/ajax/libs/Leaflet.awesome-markers/2.0.2/leaflet.awesome-markers.css%22/%3E%0A%20%20%20%20%3Clink%20rel%3D%22stylesheet%22%20href%3D%22https%3A//cdn.jsdelivr.net/gh/python-visualization/folium/folium/templates/leaflet.awesome.rotate.min.css%22/%3E%0A%20%20%20%20%0A%20%20%20%20%20%20%20%20%20%20%20%20%3Cmeta%20name%3D%22viewport%22%20content%3D%22width%3Ddevice-width%2C%0A%20%20%20%20%20%20%20%20%20%20%20%20%20%20%20%20initial-scale%3D1.0%2C%20maximum-scale%3D1.0%2C%20user-scalable%3Dno%22%20/%3E%0A%20%20%20%20%20%20%20%20%20%20%20%20%3Cstyle%3E%0A%20%20%20%20%20%20%20%20%20%20%20%20%20%20%20%20%23map_d56cda9cd0f44b41bbff740b7b4d1cac%20%7B%0A%20%20%20%20%20%20%20%20%20%20%20%20%20%20%20%20%20%20%20%20position%3A%20relative%3B%0A%20%20%20%20%20%20%20%20%20%20%20%20%20%20%20%20%20%20%20%20width%3A%20100.0%25%3B%0A%20%20%20%20%20%20%20%20%20%20%20%20%20%20%20%20%20%20%20%20height%3A%20100.0%25%3B%0A%20%20%20%20%20%20%20%20%20%20%20%20%20%20%20%20%20%20%20%20left%3A%200.0%25%3B%0A%20%20%20%20%20%20%20%20%20%20%20%20%20%20%20%20%20%20%20%20top%3A%200.0%25%3B%0A%20%20%20%20%20%20%20%20%20%20%20%20%20%20%20%20%7D%0A%20%20%20%20%20%20%20%20%20%20%20%20%3C/style%3E%0A%20%20%20%20%20%20%20%20%0A%20%20%20%20%0A%20%20%20%20%20%20%20%20%20%20%20%20%20%20%20%20%20%20%20%20%3Cstyle%3E%0A%20%20%20%20%20%20%20%20%20%20%20%20%20%20%20%20%20%20%20%20%20%20%20%20.foliumtooltip%20%7B%0A%20%20%20%20%20%20%20%20%20%20%20%20%20%20%20%20%20%20%20%20%20%20%20%20%20%20%20%20%0A%20%20%20%20%20%20%20%20%20%20%20%20%20%20%20%20%20%20%20%20%20%20%20%20%7D%0A%20%20%20%20%20%20%20%20%20%20%20%20%20%20%20%20%20%20%20%20%20%20%20.foliumtooltip%20table%7B%0A%20%20%20%20%20%20%20%20%20%20%20%20%20%20%20%20%20%20%20%20%20%20%20%20%20%20%20%20margin%3A%20auto%3B%0A%20%20%20%20%20%20%20%20%20%20%20%20%20%20%20%20%20%20%20%20%20%20%20%20%7D%0A%20%20%20%20%20%20%20%20%20%20%20%20%20%20%20%20%20%20%20%20%20%20%20%20.foliumtooltip%20tr%7B%0A%20%20%20%20%20%20%20%20%20%20%20%20%20%20%20%20%20%20%20%20%20%20%20%20%20%20%20%20text-align%3A%20left%3B%0A%20%20%20%20%20%20%20%20%20%20%20%20%20%20%20%20%20%20%20%20%20%20%20%20%7D%0A%20%20%20%20%20%20%20%20%20%20%20%20%20%20%20%20%20%20%20%20%20%20%20%20.foliumtooltip%20th%7B%0A%20%20%20%20%20%20%20%20%20%20%20%20%20%20%20%20%20%20%20%20%20%20%20%20%20%20%20%20padding%3A%202px%3B%20padding-right%3A%208px%3B%0A%20%20%20%20%20%20%20%20%20%20%20%20%20%20%20%20%20%20%20%20%20%20%20%20%7D%0A%20%20%20%20%20%20%20%20%20%20%20%20%20%20%20%20%20%20%20%20%3C/style%3E%0A%20%20%20%20%20%20%20%20%20%20%20%20%0A%3C/head%3E%0A%3Cbody%3E%20%20%20%20%0A%20%20%20%20%0A%20%20%20%20%20%20%20%20%20%20%20%20%3Cdiv%20class%3D%22folium-map%22%20id%3D%22map_d56cda9cd0f44b41bbff740b7b4d1cac%22%20%3E%3C/div%3E%0A%20%20%20%20%20%20%20%20%0A%3C/body%3E%0A%3Cscript%3E%20%20%20%20%0A%20%20%20%20%0A%20%20%20%20%20%20%20%20%20%20%20%20var%20map_d56cda9cd0f44b41bbff740b7b4d1cac%20%3D%20L.map%28%0A%20%20%20%20%20%20%20%20%20%20%20%20%20%20%20%20%22map_d56cda9cd0f44b41bbff740b7b4d1cac%22%2C%0A%20%20%20%20%20%20%20%20%20%20%20%20%20%20%20%20%7B%0A%20%20%20%20%20%20%20%20%20%20%20%20%20%20%20%20%20%20%20%20center%3A%20%5B43.791772%2C%20-72.509540445%5D%2C%0A%20%20%20%20%20%20%20%20%20%20%20%20%20%20%20%20%20%20%20%20crs%3A%20L.CRS.EPSG3857%2C%0A%20%20%20%20%20%20%20%20%20%20%20%20%20%20%20%20%20%20%20%20zoom%3A%2010%2C%0A%20%20%20%20%20%20%20%20%20%20%20%20%20%20%20%20%20%20%20%20zoomControl%3A%20true%2C%0A%20%20%20%20%20%20%20%20%20%20%20%20%20%20%20%20%20%20%20%20preferCanvas%3A%20false%2C%0A%20%20%20%20%20%20%20%20%20%20%20%20%20%20%20%20%7D%0A%20%20%20%20%20%20%20%20%20%20%20%20%29%3B%0A%20%20%20%20%20%20%20%20%20%20%20%20L.control.scale%28%29.addTo%28map_d56cda9cd0f44b41bbff740b7b4d1cac%29%3B%0A%0A%20%20%20%20%20%20%20%20%20%20%20%20%0A%0A%20%20%20%20%20%20%20%20%0A%20%20%20%20%0A%20%20%20%20%20%20%20%20%20%20%20%20var%20tile_layer_52d4d7c324474f40a9df1685cad3e75d%20%3D%20L.tileLayer%28%0A%20%20%20%20%20%20%20%20%20%20%20%20%20%20%20%20%22https%3A//%7Bs%7D.tile.openstreetmap.org/%7Bz%7D/%7Bx%7D/%7By%7D.png%22%2C%0A%20%20%20%20%20%20%20%20%20%20%20%20%20%20%20%20%7B%22attribution%22%3A%20%22Data%20by%20%5Cu0026copy%3B%20%5Cu003ca%20href%3D%5C%22http%3A//openstreetmap.org%5C%22%5Cu003eOpenStreetMap%5Cu003c/a%5Cu003e%2C%20under%20%5Cu003ca%20href%3D%5C%22http%3A//www.openstreetmap.org/copyright%5C%22%5Cu003eODbL%5Cu003c/a%5Cu003e.%22%2C%20%22detectRetina%22%3A%20false%2C%20%22maxNativeZoom%22%3A%2018%2C%20%22maxZoom%22%3A%2018%2C%20%22minZoom%22%3A%200%2C%20%22noWrap%22%3A%20false%2C%20%22opacity%22%3A%201%2C%20%22subdomains%22%3A%20%22abc%22%2C%20%22tms%22%3A%20false%7D%0A%20%20%20%20%20%20%20%20%20%20%20%20%29.addTo%28map_d56cda9cd0f44b41bbff740b7b4d1cac%29%3B%0A%20%20%20%20%20%20%20%20%0A%20%20%20%20%0A%20%20%20%20%20%20%20%20%20%20%20%20map_d56cda9cd0f44b41bbff740b7b4d1cac.fitBounds%28%0A%20%20%20%20%20%20%20%20%20%20%20%20%20%20%20%20%5B%5B42.587172%2C%20-73.53598757%5D%2C%20%5B44.996372%2C%20-71.48309332%5D%5D%2C%0A%20%20%20%20%20%20%20%20%20%20%20%20%20%20%20%20%7B%7D%0A%20%20%20%20%20%20%20%20%20%20%20%20%29%3B%0A%20%20%20%20%20%20%20%20%0A%20%20%20%20%0A%20%20%20%20%20%20%20%20function%20geo_json_679db4f500cf480d8685191530a7d021_styler%28feature%29%20%7B%0A%20%20%20%20%20%20%20%20%20%20%20%20switch%28feature.id%29%20%7B%0A%20%20%20%20%20%20%20%20%20%20%20%20%20%20%20%20default%3A%0A%20%20%20%20%20%20%20%20%20%20%20%20%20%20%20%20%20%20%20%20return%20%7B%22fillOpacity%22%3A%200.5%2C%20%22weight%22%3A%202%7D%3B%0A%20%20%20%20%20%20%20%20%20%20%20%20%7D%0A%20%20%20%20%20%20%20%20%7D%0A%20%20%20%20%20%20%20%20function%20geo_json_679db4f500cf480d8685191530a7d021_highlighter%28feature%29%20%7B%0A%20%20%20%20%20%20%20%20%20%20%20%20switch%28feature.id%29%20%7B%0A%20%20%20%20%20%20%20%20%20%20%20%20%20%20%20%20default%3A%0A%20%20%20%20%20%20%20%20%20%20%20%20%20%20%20%20%20%20%20%20return%20%7B%22fillOpacity%22%3A%200.75%7D%3B%0A%20%20%20%20%20%20%20%20%20%20%20%20%7D%0A%20%20%20%20%20%20%20%20%7D%0A%20%20%20%20%20%20%20%20function%20geo_json_679db4f500cf480d8685191530a7d021_pointToLayer%28feature%2C%20latlng%29%20%7B%0A%20%20%20%20%20%20%20%20%20%20%20%20var%20opts%20%3D%20%7B%22bubblingMouseEvents%22%3A%20true%2C%20%22color%22%3A%20%22%233388ff%22%2C%20%22dashArray%22%3A%20null%2C%20%22dashOffset%22%3A%20null%2C%20%22fill%22%3A%20true%2C%20%22fillColor%22%3A%20%22%233388ff%22%2C%20%22fillOpacity%22%3A%200.2%2C%20%22fillRule%22%3A%20%22evenodd%22%2C%20%22lineCap%22%3A%20%22round%22%2C%20%22lineJoin%22%3A%20%22round%22%2C%20%22opacity%22%3A%201.0%2C%20%22radius%22%3A%202%2C%20%22stroke%22%3A%20true%2C%20%22weight%22%3A%203%7D%3B%0A%20%20%20%20%20%20%20%20%20%20%20%20%0A%20%20%20%20%20%20%20%20%20%20%20%20let%20style%20%3D%20geo_json_679db4f500cf480d8685191530a7d021_styler%28feature%29%0A%20%20%20%20%20%20%20%20%20%20%20%20Object.assign%28opts%2C%20style%29%0A%20%20%20%20%20%20%20%20%20%20%20%20%0A%20%20%20%20%20%20%20%20%20%20%20%20return%20new%20L.CircleMarker%28latlng%2C%20opts%29%0A%20%20%20%20%20%20%20%20%7D%0A%0A%20%20%20%20%20%20%20%20function%20geo_json_679db4f500cf480d8685191530a7d021_onEachFeature%28feature%2C%20layer%29%20%7B%0A%20%20%20%20%20%20%20%20%20%20%20%20layer.on%28%7B%0A%20%20%20%20%20%20%20%20%20%20%20%20%20%20%20%20mouseout%3A%20function%28e%29%20%7B%0A%20%20%20%20%20%20%20%20%20%20%20%20%20%20%20%20%20%20%20%20if%28typeof%20e.target.setStyle%20%3D%3D%3D%20%22function%22%29%7B%0A%20%20%20%20%20%20%20%20%20%20%20%20%20%20%20%20%20%20%20%20%20%20%20%20geo_json_679db4f500cf480d8685191530a7d021.resetStyle%28e.target%29%3B%0A%20%20%20%20%20%20%20%20%20%20%20%20%20%20%20%20%20%20%20%20%7D%0A%20%20%20%20%20%20%20%20%20%20%20%20%20%20%20%20%7D%2C%0A%20%20%20%20%20%20%20%20%20%20%20%20%20%20%20%20mouseover%3A%20function%28e%29%20%7B%0A%20%20%20%20%20%20%20%20%20%20%20%20%20%20%20%20%20%20%20%20if%28typeof%20e.target.setStyle%20%3D%3D%3D%20%22function%22%29%7B%0A%20%20%20%20%20%20%20%20%20%20%20%20%20%20%20%20%20%20%20%20%20%20%20%20const%20highlightStyle%20%3D%20geo_json_679db4f500cf480d8685191530a7d021_highlighter%28e.target.feature%29%0A%20%20%20%20%20%20%20%20%20%20%20%20%20%20%20%20%20%20%20%20%20%20%20%20e.target.setStyle%28highlightStyle%29%3B%0A%20%20%20%20%20%20%20%20%20%20%20%20%20%20%20%20%20%20%20%20%7D%0A%20%20%20%20%20%20%20%20%20%20%20%20%20%20%20%20%7D%2C%0A%20%20%20%20%20%20%20%20%20%20%20%20%7D%29%3B%0A%20%20%20%20%20%20%20%20%7D%3B%0A%20%20%20%20%20%20%20%20var%20geo_json_679db4f500cf480d8685191530a7d021%20%3D%20L.geoJson%28null%2C%20%7B%0A%20%20%20%20%20%20%20%20%20%20%20%20%20%20%20%20onEachFeature%3A%20geo_json_679db4f500cf480d8685191530a7d021_onEachFeature%2C%0A%20%20%20%20%20%20%20%20%20%20%20%20%0A%20%20%20%20%20%20%20%20%20%20%20%20%20%20%20%20style%3A%20geo_json_679db4f500cf480d8685191530a7d021_styler%2C%0A%20%20%20%20%20%20%20%20%20%20%20%20%20%20%20%20pointToLayer%3A%20geo_json_679db4f500cf480d8685191530a7d021_pointToLayer%0A%20%20%20%20%20%20%20%20%7D%29%3B%0A%0A%20%20%20%20%20%20%20%20function%20geo_json_679db4f500cf480d8685191530a7d021_add%20%28data%29%20%7B%0A%20%20%20%20%20%20%20%20%20%20%20%20geo_json_679db4f500cf480d8685191530a7d021%0A%20%20%20%20%20%20%20%20%20%20%20%20%20%20%20%20.addData%28data%29%0A%20%20%20%20%20%20%20%20%20%20%20%20%20%20%20%20.addTo%28map_d56cda9cd0f44b41bbff740b7b4d1cac%29%3B%0A%20%20%20%20%20%20%20%20%7D%0A%20%20%20%20%20%20%20%20%20%20%20%20geo_json_679db4f500cf480d8685191530a7d021_add%28%7B%22bbox%22%3A%20%5B-73.53598757%2C%2042.587172%2C%20-71.48309332%2C%2044.996372%5D%2C%20%22features%22%3A%20%5B%7B%22bbox%22%3A%20%5B-73.224989%2C%2044.3792622%2C%20-73.224989%2C%2044.3792622%5D%2C%20%22geometry%22%3A%20%7B%22coordinates%22%3A%20%5B-73.224989%2C%2044.3792622%5D%2C%20%22type%22%3A%20%22Point%22%7D%2C%20%22id%22%3A%20%220%22%2C%20%22properties%22%3A%20%7B%22address%22%3A%20%2230%20Shelburne%20Shopping%20Park%2C%20Shelburne%2C%20VT%22%2C%20%22lat%22%3A%2044.3792622%2C%20%22lon%22%3A%20-73.224989%2C%20%22pharmacy_name%22%3A%20%22Walgreen%20Eastern%20Co.%2C%20Inc.%20d/b/a%20Walgreens%20%2318325%22%2C%20%22pharmid%22%3A%20%22VT99%22%2C%20%22sat_close%22%3A%20-1%2C%20%22sat_open%22%3A%20-1.0%2C%20%22state%22%3A%20%22VT%22%2C%20%22sun_close%22%3A%20-1%2C%20%22sun_open%22%3A%20-1.0%2C%20%22type%22%3A%20%22chain%22%2C%20%22week_close%22%3A%2019.0%2C%20%22week_open%22%3A%209.0%7D%2C%20%22type%22%3A%20%22Feature%22%7D%2C%20%7B%22bbox%22%3A%20%5B-73.082604%2C%2044.8141675%2C%20-73.082604%2C%2044.8141675%5D%2C%20%22geometry%22%3A%20%7B%22coordinates%22%3A%20%5B-73.082604%2C%2044.8141675%5D%2C%20%22type%22%3A%20%22Point%22%7D%2C%20%22id%22%3A%20%221%22%2C%20%22properties%22%3A%20%7B%22address%22%3A%20%22133%20N%20Main%20St%20Ste%2023%2C%20Saint%20Albans%2C%20VT%22%2C%20%22lat%22%3A%2044.8141675%2C%20%22lon%22%3A%20-73.082604%2C%20%22pharmacy_name%22%3A%20%22WALGREENS%20%2319795%22%2C%20%22pharmid%22%3A%20%22VT98%22%2C%20%22sat_close%22%3A%2018%2C%20%22sat_open%22%3A%209.0%2C%20%22state%22%3A%20%22VT%22%2C%20%22sun_close%22%3A%2017%2C%20%22sun_open%22%3A%209.0%2C%20%22type%22%3A%20%22chain%22%2C%20%22week_close%22%3A%2019.0%2C%20%22week_open%22%3A%209.0%7D%2C%20%22type%22%3A%20%22Feature%22%7D%2C%20%7B%22bbox%22%3A%20%5B-73.112042%2C%2044.682189%2C%20-73.112042%2C%2044.682189%5D%2C%20%22geometry%22%3A%20%7B%22coordinates%22%3A%20%5B-73.112042%2C%2044.682189%5D%2C%20%22type%22%3A%20%22Point%22%7D%2C%20%22id%22%3A%20%222%22%2C%20%22properties%22%3A%20%7B%22address%22%3A%20%22201%20Route%207%20S%2C%20Milton%2C%20VT%22%2C%20%22lat%22%3A%2044.682189%2C%20%22lon%22%3A%20-73.112042%2C%20%22pharmacy_name%22%3A%20%22WALGREENS%20%2317747%22%2C%20%22pharmid%22%3A%20%22VT97%22%2C%20%22sat_close%22%3A%2018%2C%20%22sat_open%22%3A%209.0%2C%20%22state%22%3A%20%22VT%22%2C%20%22sun_close%22%3A%20-1%2C%20%22sun_open%22%3A%20-1.0%2C%20%22type%22%3A%20%22chain%22%2C%20%22week_close%22%3A%2019.0%2C%20%22week_open%22%3A%209.0%7D%2C%20%22type%22%3A%20%22Feature%22%7D%2C%20%7B%22bbox%22%3A%20%5B-72.806612%2C%2044.9057722%2C%20-72.806612%2C%2044.9057722%5D%2C%20%22geometry%22%3A%20%7B%22coordinates%22%3A%20%5B-72.806612%2C%2044.9057722%5D%2C%20%22type%22%3A%20%22Point%22%7D%2C%20%22id%22%3A%20%223%22%2C%20%22properties%22%3A%20%7B%22address%22%3A%20%22221%20Main%20St%2C%20Enosburg%20Falls%2C%20VT%22%2C%20%22lat%22%3A%2044.9057722%2C%20%22lon%22%3A%20-72.806612%2C%20%22pharmacy_name%22%3A%20%22Walgreens%20%2319346%22%2C%20%22pharmid%22%3A%20%22VT96%22%2C%20%22sat_close%22%3A%2018%2C%20%22sat_open%22%3A%209.0%2C%20%22state%22%3A%20%22VT%22%2C%20%22sun_close%22%3A%20-1%2C%20%22sun_open%22%3A%20-1.0%2C%20%22type%22%3A%20%22chain%22%2C%20%22week_close%22%3A%2019.0%2C%20%22week_open%22%3A%209.0%7D%2C%20%22type%22%3A%20%22Feature%22%7D%2C%20%7B%22bbox%22%3A%20%5B-73.247286%2C%2044.5377337%2C%20-73.247286%2C%2044.5377337%5D%2C%20%22geometry%22%3A%20%7B%22coordinates%22%3A%20%5B-73.247286%2C%2044.5377337%5D%2C%20%22type%22%3A%20%22Point%22%7D%2C%20%22id%22%3A%20%224%22%2C%20%22properties%22%3A%20%7B%22address%22%3A%20%221184%20Prim%20Rd%20Ste%202%2C%20Colchester%2C%20VT%22%2C%20%22lat%22%3A%2044.5377337%2C%20%22lon%22%3A%20-73.247286%2C%20%22pharmacy_name%22%3A%20%22Walgeens%20%2317183%22%2C%20%22pharmid%22%3A%20%22VT95%22%2C%20%22sat_close%22%3A%2018%2C%20%22sat_open%22%3A%209.0%2C%20%22state%22%3A%20%22VT%22%2C%20%22sun_close%22%3A%2017%2C%20%22sun_open%22%3A%209.0%2C%20%22type%22%3A%20%22chain%22%2C%20%22week_close%22%3A%2020.0%2C%20%22week_open%22%3A%209.0%7D%2C%20%22type%22%3A%20%22Feature%22%7D%2C%20%7B%22bbox%22%3A%20%5B-73.183964%2C%2044.4983646%2C%20-73.183964%2C%2044.4983646%5D%2C%20%22geometry%22%3A%20%7B%22coordinates%22%3A%20%5B-73.183964%2C%2044.4983646%5D%2C%20%22type%22%3A%20%22Point%22%7D%2C%20%22id%22%3A%20%225%22%2C%20%22properties%22%3A%20%7B%22address%22%3A%20%22321%20Main%20St%2C%20Winooski%2C%20VT%22%2C%20%22lat%22%3A%2044.4983646%2C%20%22lon%22%3A%20-73.183964%2C%20%22pharmacy_name%22%3A%20%22Walgreens%20%2317485%22%2C%20%22pharmid%22%3A%20%22VT94%22%2C%20%22sat_close%22%3A%2018%2C%20%22sat_open%22%3A%209.0%2C%20%22state%22%3A%20%22VT%22%2C%20%22sun_close%22%3A%2017%2C%20%22sun_open%22%3A%209.0%2C%20%22type%22%3A%20%22chain%22%2C%20%22week_close%22%3A%2020.0%2C%20%22week_open%22%3A%209.0%7D%2C%20%22type%22%3A%20%22Feature%22%7D%2C%20%7B%22bbox%22%3A%20%5B-73.171587%2C%2044.4657489%2C%20-73.171587%2C%2044.4657489%5D%2C%20%22geometry%22%3A%20%7B%22coordinates%22%3A%20%5B-73.171587%2C%2044.4657489%5D%2C%20%22type%22%3A%20%22Point%22%7D%2C%20%22id%22%3A%20%226%22%2C%20%22properties%22%3A%20%7B%22address%22%3A%20%2239%20Hinesburg%20Rd%2C%20South%20Burlington%2C%20VT%22%2C%20%22lat%22%3A%2044.4657489%2C%20%22lon%22%3A%20-73.171587%2C%20%22pharmacy_name%22%3A%20%22Walgreens%20%2317447%22%2C%20%22pharmid%22%3A%20%22VT93%22%2C%20%22sat_close%22%3A%2018%2C%20%22sat_open%22%3A%209.0%2C%20%22state%22%3A%20%22VT%22%2C%20%22sun_close%22%3A%2017%2C%20%22sun_open%22%3A%209.0%2C%20%22type%22%3A%20%22chain%22%2C%20%22week_close%22%3A%2020.0%2C%20%22week_open%22%3A%209.0%7D%2C%20%22type%22%3A%20%22Feature%22%7D%2C%20%7B%22bbox%22%3A%20%5B-73.198201%2C%2042.8814044%2C%20-73.198201%2C%2042.8814044%5D%2C%20%22geometry%22%3A%20%7B%22coordinates%22%3A%20%5B-73.198201%2C%2042.8814044%5D%2C%20%22type%22%3A%20%22Point%22%7D%2C%20%22id%22%3A%20%227%22%2C%20%22properties%22%3A%20%7B%22address%22%3A%20%22194%20North%20St%2C%20Bennington%2C%20VT%22%2C%20%22lat%22%3A%2042.8814044%2C%20%22lon%22%3A%20-73.198201%2C%20%22pharmacy_name%22%3A%20%22Walgreens%20%2317631%22%2C%20%22pharmid%22%3A%20%22VT92%22%2C%20%22sat_close%22%3A%20-1%2C%20%22sat_open%22%3A%20-1.0%2C%20%22state%22%3A%20%22VT%22%2C%20%22sun_close%22%3A%20-1%2C%20%22sun_open%22%3A%20-1.0%2C%20%22type%22%3A%20%22chain%22%2C%20%22week_close%22%3A%2018.0%2C%20%22week_open%22%3A%209.0%7D%2C%20%22type%22%3A%20%22Feature%22%7D%2C%20%7B%22bbox%22%3A%20%5B-72.448422%2C%2043.1360445%2C%20-72.448422%2C%2043.1360445%5D%2C%20%22geometry%22%3A%20%7B%22coordinates%22%3A%20%5B-72.448422%2C%2043.1360445%5D%2C%20%22type%22%3A%20%22Point%22%7D%2C%20%22id%22%3A%20%228%22%2C%20%22properties%22%3A%20%7B%22address%22%3A%20%22112%20Rockingham%20St%2C%20Bellows%20Falls%2C%20VT%22%2C%20%22lat%22%3A%2043.1360445%2C%20%22lon%22%3A%20-72.448422%2C%20%22pharmacy_name%22%3A%20%22Walgreen%20Eastern%20Co.%2C%20Inc.%20d/b/a%20Walgreens%20%2319233%22%2C%20%22pharmid%22%3A%20%22VT91%22%2C%20%22sat_close%22%3A%2018%2C%20%22sat_open%22%3A%208.0%2C%20%22state%22%3A%20%22VT%22%2C%20%22sun_close%22%3A%2018%2C%20%22sun_open%22%3A%209.0%2C%20%22type%22%3A%20%22chain%22%2C%20%22week_close%22%3A%2020.0%2C%20%22week_open%22%3A%208.0%7D%2C%20%22type%22%3A%20%22Feature%22%7D%2C%20%7B%22bbox%22%3A%20%5B-72.205574%2C%2044.9399542%2C%20-72.205574%2C%2044.9399542%5D%2C%20%22geometry%22%3A%20%7B%22coordinates%22%3A%20%5B-72.205574%2C%2044.9399542%5D%2C%20%22type%22%3A%20%22Point%22%7D%2C%20%22id%22%3A%20%229%22%2C%20%22properties%22%3A%20%7B%22address%22%3A%20%2259%20Waterfront%20Plz%20Ste%202%2C%20Newport%2C%20VT%22%2C%20%22lat%22%3A%2044.9399542%2C%20%22lon%22%3A%20-72.205574%2C%20%22pharmacy_name%22%3A%20%22Walgreens%20%2317713%22%2C%20%22pharmid%22%3A%20%22VT90%22%2C%20%22sat_close%22%3A%2018%2C%20%22sat_open%22%3A%209.0%2C%20%22state%22%3A%20%22VT%22%2C%20%22sun_close%22%3A%2017%2C%20%22sun_open%22%3A%209.0%2C%20%22type%22%3A%20%22chain%22%2C%20%22week_close%22%3A%2020.0%2C%20%22week_open%22%3A%209.0%7D%2C%20%22type%22%3A%20%22Feature%22%7D%2C%20%7B%22bbox%22%3A%20%5B-73.20802%2C%2044.4568582%2C%20-73.20802%2C%2044.4568582%5D%2C%20%22geometry%22%3A%20%7B%22coordinates%22%3A%20%5B-73.20802%2C%2044.4568582%5D%2C%20%22type%22%3A%20%22Point%22%7D%2C%20%22id%22%3A%20%2210%22%2C%20%22properties%22%3A%20%7B%22address%22%3A%20%22308%20Shelburne%20Road%2C%20Burlington%2C%20VT%2005401%22%2C%20%22lat%22%3A%2044.4568582%2C%20%22lon%22%3A%20-73.20802%2C%20%22pharmacy_name%22%3A%20%22Kinney%20Drugs%20%2329%22%2C%20%22pharmid%22%3A%20%22VT9%22%2C%20%22sat_close%22%3A%2017%2C%20%22sat_open%22%3A%209.0%2C%20%22state%22%3A%20%22VT%22%2C%20%22sun_close%22%3A%2015%2C%20%22sun_open%22%3A%209.0%2C%20%22type%22%3A%20%22chain%22%2C%20%22week_close%22%3A%2019.0%2C%20%22week_open%22%3A%209.0%7D%2C%20%22type%22%3A%20%22Feature%22%7D%2C%20%7B%22bbox%22%3A%20%5B-73.077696%2C%2044.133654%2C%20-73.077696%2C%2044.133654%5D%2C%20%22geometry%22%3A%20%7B%22coordinates%22%3A%20%5B-73.077696%2C%2044.133654%5D%2C%20%22type%22%3A%20%22Point%22%7D%2C%20%22id%22%3A%20%2211%22%2C%20%22properties%22%3A%20%7B%22address%22%3A%20%221%20Prince%20Ln%2C%20Bristol%2C%20VT%22%2C%20%22lat%22%3A%2044.133654%2C%20%22lon%22%3A%20-73.077696%2C%20%22pharmacy_name%22%3A%20%22Walgreen%20Eastern%20Co.%2C%20Inc.%20d/b/a%20Walgreens%20%2318043%22%2C%20%22pharmid%22%3A%20%22VT89%22%2C%20%22sat_close%22%3A%2018%2C%20%22sat_open%22%3A%209.0%2C%20%22state%22%3A%20%22VT%22%2C%20%22sun_close%22%3A%2017%2C%20%22sun_open%22%3A%209.0%2C%20%22type%22%3A%20%22chain%22%2C%20%22week_close%22%3A%2019.0%2C%20%22week_open%22%3A%209.0%7D%2C%20%22type%22%3A%20%22Feature%22%7D%2C%20%7B%22bbox%22%3A%20%5B-72.000254%2C%2044.525843%2C%20-72.000254%2C%2044.525843%5D%2C%20%22geometry%22%3A%20%7B%22coordinates%22%3A%20%5B-72.000254%2C%2044.525843%5D%2C%20%22type%22%3A%20%22Point%22%7D%2C%20%22id%22%3A%20%2212%22%2C%20%22properties%22%3A%20%7B%22address%22%3A%20%22412%20Broad%20St%2C%20Lyndonville%2C%20VT%22%2C%20%22lat%22%3A%2044.525843%2C%20%22lon%22%3A%20-72.000254%2C%20%22pharmacy_name%22%3A%20%22Walgreens%20%2317625%22%2C%20%22pharmid%22%3A%20%22VT88%22%2C%20%22sat_close%22%3A%2018%2C%20%22sat_open%22%3A%209.0%2C%20%22state%22%3A%20%22VT%22%2C%20%22sun_close%22%3A%2017%2C%20%22sun_open%22%3A%209.0%2C%20%22type%22%3A%20%22chain%22%2C%20%22week_close%22%3A%2019.0%2C%20%22week_open%22%3A%209.0%7D%2C%20%22type%22%3A%20%22Feature%22%7D%2C%20%7B%22bbox%22%3A%20%5B-72.372115%2C%2044.5134727%2C%20-72.372115%2C%2044.5134727%5D%2C%20%22geometry%22%3A%20%7B%22coordinates%22%3A%20%5B-72.372115%2C%2044.5134727%5D%2C%20%22type%22%3A%20%22Point%22%7D%2C%20%22id%22%3A%20%2213%22%2C%20%22properties%22%3A%20%7B%22address%22%3A%20%2282%20VT%20Route%2015%20W%2C%20Hardwick%2C%20VT%22%2C%20%22lat%22%3A%2044.5134727%2C%20%22lon%22%3A%20-72.372115%2C%20%22pharmacy_name%22%3A%20%22Walgreens%20%2317185%22%2C%20%22pharmid%22%3A%20%22VT87%22%2C%20%22sat_close%22%3A%2018%2C%20%22sat_open%22%3A%209.0%2C%20%22state%22%3A%20%22VT%22%2C%20%22sun_close%22%3A%2017%2C%20%22sun_open%22%3A%209.0%2C%20%22type%22%3A%20%22chain%22%2C%20%22week_close%22%3A%2019.0%2C%20%22week_open%22%3A%209.0%7D%2C%20%22type%22%3A%20%22Feature%22%7D%2C%20%7B%22bbox%22%3A%20%5B-73.153911%2C%2044.0034028%2C%20-73.153911%2C%2044.0034028%5D%2C%20%22geometry%22%3A%20%7B%22coordinates%22%3A%20%5B-73.153911%2C%2044.0034028%5D%2C%20%22type%22%3A%20%22Point%22%7D%2C%20%22id%22%3A%20%2214%22%2C%20%22properties%22%3A%20%7B%22address%22%3A%20%22263%20Court%20St%2C%20Middlebury%2C%20VT%22%2C%20%22lat%22%3A%2044.0034028%2C%20%22lon%22%3A%20-73.153911%2C%20%22pharmacy_name%22%3A%20%22Walgreen%20Eastern%20Co.%2C%20Inc.%20d/b/a/%20Walgreens%20%2318375%22%2C%20%22pharmid%22%3A%20%22VT86%22%2C%20%22sat_close%22%3A%2018%2C%20%22sat_open%22%3A%209.0%2C%20%22state%22%3A%20%22VT%22%2C%20%22sun_close%22%3A%20-1%2C%20%22sun_open%22%3A%20-1.0%2C%20%22type%22%3A%20%22chain%22%2C%20%22week_close%22%3A%2019.0%2C%20%22week_open%22%3A%209.0%7D%2C%20%22type%22%3A%20%22Feature%22%7D%2C%20%7B%22bbox%22%3A%20%5B-73.088302%2C%2043.797622%2C%20-73.088302%2C%2043.797622%5D%2C%20%22geometry%22%3A%20%7B%22coordinates%22%3A%20%5B-73.088302%2C%2043.797622%5D%2C%20%22type%22%3A%20%22Point%22%7D%2C%20%22id%22%3A%20%2215%22%2C%20%22properties%22%3A%20%7B%22address%22%3A%20%221%20Union%20St%2C%20Brandon%2C%20VT%22%2C%20%22lat%22%3A%2043.797622%2C%20%22lon%22%3A%20-73.088302%2C%20%22pharmacy_name%22%3A%20%22Walgreen%20Eastern%20Co.%2C%20Inc.%20d/b/a%20Walgreens%20%2318265%22%2C%20%22pharmid%22%3A%20%22VT85%22%2C%20%22sat_close%22%3A%2017%2C%20%22sat_open%22%3A%209.0%2C%20%22state%22%3A%20%22VT%22%2C%20%22sun_close%22%3A%2017%2C%20%22sun_open%22%3A%209.0%2C%20%22type%22%3A%20%22chain%22%2C%20%22week_close%22%3A%2020.0%2C%20%22week_open%22%3A%209.0%7D%2C%20%22type%22%3A%20%22Feature%22%7D%2C%20%7B%22bbox%22%3A%20%5B-72.505805%2C%2044.2016607%2C%20-72.505805%2C%2044.2016607%5D%2C%20%22geometry%22%3A%20%7B%22coordinates%22%3A%20%5B-72.505805%2C%2044.2016607%5D%2C%20%22type%22%3A%20%22Point%22%7D%2C%20%22id%22%3A%20%2216%22%2C%20%22properties%22%3A%20%7B%22address%22%3A%20%22355%20N%20Main%20St%2C%20Barre%2C%20VT%22%2C%20%22lat%22%3A%2044.2016607%2C%20%22lon%22%3A%20-72.505805%2C%20%22pharmacy_name%22%3A%20%22Walgreen%20Eastern%20Co.%2C%20Inc.%20d/b/a%20Walgreens%20%2317518%22%2C%20%22pharmid%22%3A%20%22VT84%22%2C%20%22sat_close%22%3A%2018%2C%20%22sat_open%22%3A%209.0%2C%20%22state%22%3A%20%22VT%22%2C%20%22sun_close%22%3A%2017%2C%20%22sun_open%22%3A%209.0%2C%20%22type%22%3A%20%22chain%22%2C%20%22week_close%22%3A%2020.0%2C%20%22week_open%22%3A%209.0%7D%2C%20%22type%22%3A%20%22Feature%22%7D%2C%20%7B%22bbox%22%3A%20%5B-72.575256%2C%2044.2596595%2C%20-72.575256%2C%2044.2596595%5D%2C%20%22geometry%22%3A%20%7B%22coordinates%22%3A%20%5B-72.575256%2C%2044.2596595%5D%2C%20%22type%22%3A%20%22Point%22%7D%2C%20%22id%22%3A%20%2217%22%2C%20%22properties%22%3A%20%7B%22address%22%3A%20%2269%20Main%20Street%2C%20Montpelier%2C%20VT%2005602%22%2C%20%22lat%22%3A%2044.2596595%2C%20%22lon%22%3A%20-72.575256%2C%20%22pharmacy_name%22%3A%20%22Kinney%20Drugs%20%23132%22%2C%20%22pharmid%22%3A%20%22VT83%22%2C%20%22sat_close%22%3A%2015%2C%20%22sat_open%22%3A%209.0%2C%20%22state%22%3A%20%22VT%22%2C%20%22sun_close%22%3A%2013%2C%20%22sun_open%22%3A%209.0%2C%20%22type%22%3A%20%22chain%22%2C%20%22week_close%22%3A%2018.0%2C%20%22week_open%22%3A%208.0%7D%2C%20%22type%22%3A%20%22Feature%22%7D%2C%20%7B%22bbox%22%3A%20%5B-73.182146%2C%2044.4687825%2C%20-73.182146%2C%2044.4687825%5D%2C%20%22geometry%22%3A%20%7B%22coordinates%22%3A%20%5B-73.182146%2C%2044.4687825%5D%2C%20%22type%22%3A%20%22Point%22%7D%2C%20%22id%22%3A%20%2218%22%2C%20%22properties%22%3A%20%7B%22address%22%3A%20%221%20Dorset%20St%2C%20South%20Burlington%2C%20VT%2005403%22%2C%20%22lat%22%3A%2044.4687825%2C%20%22lon%22%3A%20-73.182146%2C%20%22pharmacy_name%22%3A%20%22CVS%20%2310690%22%2C%20%22pharmid%22%3A%20%22VT81%22%2C%20%22sat_close%22%3A%2018%2C%20%22sat_open%22%3A%2010.0%2C%20%22state%22%3A%20%22VT%22%2C%20%22sun_close%22%3A%2017%2C%20%22sun_open%22%3A%2011.0%2C%20%22type%22%3A%20%22chain%22%2C%20%22week_close%22%3A%2019.0%2C%20%22week_open%22%3A%208.0%7D%2C%20%22type%22%3A%20%22Feature%22%7D%2C%20%7B%22bbox%22%3A%20%5B-72.171631%2C%2044.9504191%2C%20-72.171631%2C%2044.9504191%5D%2C%20%22geometry%22%3A%20%7B%22coordinates%22%3A%20%5B-72.171631%2C%2044.9504191%5D%2C%20%22type%22%3A%20%22Point%22%7D%2C%20%22id%22%3A%20%2219%22%2C%20%22properties%22%3A%20%7B%22address%22%3A%20%22115%20Seymour%20Drive%2C%20Derby%2C%20VT%22%2C%20%22lat%22%3A%2044.9504191%2C%20%22lon%22%3A%20-72.171631%2C%20%22pharmacy_name%22%3A%20%22Wal-Mart%20Pharmacy%2010-4156%22%2C%20%22pharmid%22%3A%20%22VT80%22%2C%20%22sat_close%22%3A%2018%2C%20%22sat_open%22%3A%208.0%2C%20%22state%22%3A%20%22VT%22%2C%20%22sun_close%22%3A%2017%2C%20%22sun_open%22%3A%209.0%2C%20%22type%22%3A%20%22chain%22%2C%20%22week_close%22%3A%2019.0%2C%20%22week_open%22%3A%208.0%7D%2C%20%22type%22%3A%20%22Feature%22%7D%2C%20%7B%22bbox%22%3A%20%5B-73.21289%2C%2044.4795166%2C%20-73.21289%2C%2044.4795166%5D%2C%20%22geometry%22%3A%20%7B%22coordinates%22%3A%20%5B-73.21289%2C%2044.4795166%5D%2C%20%22type%22%3A%20%22Point%22%7D%2C%20%22id%22%3A%20%2220%22%2C%20%22properties%22%3A%20%7B%22address%22%3A%20%2235%20Church%20St%2C%20Burlington%2C%20VT%2005401%22%2C%20%22lat%22%3A%2044.4795166%2C%20%22lon%22%3A%20-73.21289%2C%20%22pharmacy_name%22%3A%20%22CVS%20%2311037%22%2C%20%22pharmid%22%3A%20%22VT79%22%2C%20%22sat_close%22%3A%2018%2C%20%22sat_open%22%3A%2010.0%2C%20%22state%22%3A%20%22VT%22%2C%20%22sun_close%22%3A%2017%2C%20%22sun_open%22%3A%2011.0%2C%20%22type%22%3A%20%22chain%22%2C%20%22week_close%22%3A%2019.0%2C%20%22week_open%22%3A%209.0%7D%2C%20%22type%22%3A%20%22Feature%22%7D%2C%20%7B%22bbox%22%3A%20%5B-72.592125%2C%2044.5759798%2C%20-72.592125%2C%2044.5759798%5D%2C%20%22geometry%22%3A%20%7B%22coordinates%22%3A%20%5B-72.592125%2C%2044.5759798%5D%2C%20%22type%22%3A%20%22Point%22%7D%2C%20%22id%22%3A%20%2221%22%2C%20%22properties%22%3A%20%7B%22address%22%3A%20%2213%20VT-15%20E%2C%20Morrisville%2C%20VT%2005661%22%2C%20%22lat%22%3A%2044.5759798%2C%20%22lon%22%3A%20-72.592125%2C%20%22pharmacy_name%22%3A%20%22CVS%20%2310197%22%2C%20%22pharmid%22%3A%20%22VT78%22%2C%20%22sat_close%22%3A%2018%2C%20%22sat_open%22%3A%2010.0%2C%20%22state%22%3A%20%22VT%22%2C%20%22sun_close%22%3A%2017%2C%20%22sun_open%22%3A%2011.0%2C%20%22type%22%3A%20%22chain%22%2C%20%22week_close%22%3A%2019.0%2C%20%22week_open%22%3A%208.0%7D%2C%20%22type%22%3A%20%22Feature%22%7D%2C%20%7B%22bbox%22%3A%20%5B-73.181462%2C%2044.5070055%2C%20-73.181462%2C%2044.5070055%5D%2C%20%22geometry%22%3A%20%7B%22coordinates%22%3A%20%5B-73.181462%2C%2044.5070055%5D%2C%20%22type%22%3A%20%22Point%22%7D%2C%20%22id%22%3A%20%2222%22%2C%20%22properties%22%3A%20%7B%22address%22%3A%20%2269%20Mountain%20View%20Dr.%2C%20Colchester%2C%20VT%2005446%22%2C%20%22lat%22%3A%2044.5070055%2C%20%22lon%22%3A%20-73.181462%2C%20%22pharmacy_name%22%3A%20%22CVS%20%2310216%22%2C%20%22pharmid%22%3A%20%22VT77%22%2C%20%22sat_close%22%3A%2018%2C%20%22sat_open%22%3A%2010.0%2C%20%22state%22%3A%20%22VT%22%2C%20%22sun_close%22%3A%2017%2C%20%22sun_open%22%3A%2011.0%2C%20%22type%22%3A%20%22chain%22%2C%20%22week_close%22%3A%2019.0%2C%20%22week_open%22%3A%208.0%7D%2C%20%22type%22%3A%20%22Feature%22%7D%2C%20%7B%22bbox%22%3A%20%5B-72.552914%2C%2044.2317464%2C%20-72.552914%2C%2044.2317464%5D%2C%20%22geometry%22%3A%20%7B%22coordinates%22%3A%20%5B-72.552914%2C%2044.2317464%5D%2C%20%22type%22%3A%20%22Point%22%7D%2C%20%22id%22%3A%20%2223%22%2C%20%22properties%22%3A%20%7B%22address%22%3A%20%221634%20US%20Route%20302%2C%20Barre%2C%20VT%2005641%22%2C%20%22lat%22%3A%2044.2317464%2C%20%22lon%22%3A%20-72.552914%2C%20%22pharmacy_name%22%3A%20%22CVS%20%2310127%22%2C%20%22pharmid%22%3A%20%22VT76%22%2C%20%22sat_close%22%3A%2018%2C%20%22sat_open%22%3A%2010.0%2C%20%22state%22%3A%20%22VT%22%2C%20%22sun_close%22%3A%2017%2C%20%22sun_open%22%3A%2011.0%2C%20%22type%22%3A%20%22chain%22%2C%20%22week_close%22%3A%2019.0%2C%20%22week_open%22%3A%209.0%7D%2C%20%22type%22%3A%20%22Feature%22%7D%2C%20%7B%22bbox%22%3A%20%5B-73.122375%2C%2044.6236486%2C%20-73.122375%2C%2044.6236486%5D%2C%20%22geometry%22%3A%20%7B%22coordinates%22%3A%20%5B-73.122375%2C%2044.6236486%5D%2C%20%22type%22%3A%20%22Point%22%7D%2C%20%22id%22%3A%20%2224%22%2C%20%22properties%22%3A%20%7B%22address%22%3A%20%22259%20Route%207%20South%2C%20Milton%2C%20Vermont%2C%2005468%22%2C%20%22lat%22%3A%2044.6236486%2C%20%22lon%22%3A%20-73.122375%2C%20%22pharmacy_name%22%3A%20%22Hannaford%20%238274%22%2C%20%22pharmid%22%3A%20%22VT75%22%2C%20%22sat_close%22%3A%2016%2C%20%22sat_open%22%3A%209.5%2C%20%22state%22%3A%20%22VT%22%2C%20%22sun_close%22%3A%2014%2C%20%22sun_open%22%3A%209.5%2C%20%22type%22%3A%20%22chain%22%2C%20%22week_close%22%3A%2020.0%2C%20%22week_open%22%3A%209.0%7D%2C%20%22type%22%3A%20%22Feature%22%7D%2C%20%7B%22bbox%22%3A%20%5B-73.089705%2C%2044.8419113%2C%20-73.089705%2C%2044.8419113%5D%2C%20%22geometry%22%3A%20%7B%22coordinates%22%3A%20%5B-73.089705%2C%2044.8419113%5D%2C%20%22type%22%3A%20%22Point%22%7D%2C%20%22id%22%3A%20%2225%22%2C%20%22properties%22%3A%20%7B%22address%22%3A%20%22700%20Tuckers%20Way%2C%20Saint%20Albans%2C%20VT%22%2C%20%22lat%22%3A%2044.8419113%2C%20%22lon%22%3A%20-73.089705%2C%20%22pharmacy_name%22%3A%20%22Wal-Mart%20Pharmacy%20%2310-2332%22%2C%20%22pharmid%22%3A%20%22VT74%22%2C%20%22sat_close%22%3A%2017%2C%20%22sat_open%22%3A%209.0%2C%20%22state%22%3A%20%22VT%22%2C%20%22sun_close%22%3A%2016%2C%20%22sun_open%22%3A%2010.0%2C%20%22type%22%3A%20%22chain%22%2C%20%22week_close%22%3A%2019.0%2C%20%22week_open%22%3A%208.0%7D%2C%20%22type%22%3A%20%22Feature%22%7D%2C%20%7B%22bbox%22%3A%20%5B-72.122893%2C%2043.9842958%2C%20-72.122893%2C%2043.9842958%5D%2C%20%22geometry%22%3A%20%7B%22coordinates%22%3A%20%5B-72.122893%2C%2043.9842958%5D%2C%20%22type%22%3A%20%22Point%22%7D%2C%20%22id%22%3A%20%2226%22%2C%20%22properties%22%3A%20%7B%22address%22%3A%20%22586%20Lower%20Plain%2C%20Bradford%2C%20Vermont%2C%2005033%22%2C%20%22lat%22%3A%2043.9842958%2C%20%22lon%22%3A%20-72.122893%2C%20%22pharmacy_name%22%3A%20%22Hannaford%20%238426%22%2C%20%22pharmid%22%3A%20%22VT73%22%2C%20%22sat_close%22%3A%2016%2C%20%22sat_open%22%3A%209.5%2C%20%22state%22%3A%20%22VT%22%2C%20%22sun_close%22%3A%2014%2C%20%22sun_open%22%3A%209.5%2C%20%22type%22%3A%20%22chain%22%2C%20%22week_close%22%3A%2020.0%2C%20%22week_open%22%3A%209.0%7D%2C%20%22type%22%3A%20%22Feature%22%7D%2C%20%7B%22bbox%22%3A%20%5B-72.74383%2C%2044.3477265%2C%20-72.74383%2C%2044.3477265%5D%2C%20%22geometry%22%3A%20%7B%22coordinates%22%3A%20%5B-72.74383%2C%2044.3477265%5D%2C%20%22type%22%3A%20%22Point%22%7D%2C%20%22id%22%3A%20%2227%22%2C%20%22properties%22%3A%20%7B%22address%22%3A%20%22820%20Waterbury%20Stowe%20Rd%2C%20Waterbury%2C%20VT%22%2C%20%22lat%22%3A%2044.3477265%2C%20%22lon%22%3A%20-72.74383%2C%20%22pharmacy_name%22%3A%20%22Osco%20Pharmacy%20%230649%22%2C%20%22pharmid%22%3A%20%22VT72%22%2C%20%22sat_close%22%3A%2017%2C%20%22sat_open%22%3A%209.0%2C%20%22state%22%3A%20%22VT%22%2C%20%22sun_close%22%3A%2017%2C%20%22sun_open%22%3A%2010.0%2C%20%22type%22%3A%20%22chain%22%2C%20%22week_close%22%3A%2020.0%2C%20%22week_open%22%3A%209.0%7D%2C%20%22type%22%3A%20%22Feature%22%7D%2C%20%7B%22bbox%22%3A%20%5B-73.108296%2C%2044.4468585%2C%20-73.108296%2C%2044.4468585%5D%2C%20%22geometry%22%3A%20%7B%22coordinates%22%3A%20%5B-73.108296%2C%2044.4468585%5D%2C%20%22type%22%3A%20%22Point%22%7D%2C%20%22id%22%3A%20%2228%22%2C%20%22properties%22%3A%20%7B%22address%22%3A%20%2271%20Boxwood%20St%2C%20Williston%2C%20%20VT%22%2C%20%22lat%22%3A%2044.4468585%2C%20%22lon%22%3A%20-73.108296%2C%20%22pharmacy_name%22%3A%20%22Osco%20Pharmacy%20%232518%22%2C%20%22pharmid%22%3A%20%22VT71%22%2C%20%22sat_close%22%3A%2017%2C%20%22sat_open%22%3A%209.0%2C%20%22state%22%3A%20%22VT%22%2C%20%22sun_close%22%3A%2017%2C%20%22sun_open%22%3A%2010.0%2C%20%22type%22%3A%20%22chain%22%2C%20%22week_close%22%3A%2020.0%2C%20%22week_open%22%3A%209.0%7D%2C%20%22type%22%3A%20%22Feature%22%7D%2C%20%7B%22bbox%22%3A%20%5B-73.207108%2C%2044.4496912%2C%20-73.207108%2C%2044.4496912%5D%2C%20%22geometry%22%3A%20%7B%22coordinates%22%3A%20%5B-73.207108%2C%2044.4496912%5D%2C%20%22type%22%3A%20%22Point%22%7D%2C%20%22id%22%3A%20%2229%22%2C%20%22properties%22%3A%20%7B%22address%22%3A%20%22570%20Shelburne%20Rd%2C%20Burlington%2C%20VT%22%2C%20%22lat%22%3A%2044.4496912%2C%20%22lon%22%3A%20-73.207108%2C%20%22pharmacy_name%22%3A%20%22Osco%20Pharmacy%20%230117%22%2C%20%22pharmid%22%3A%20%22VT70%22%2C%20%22sat_close%22%3A%2017%2C%20%22sat_open%22%3A%209.0%2C%20%22state%22%3A%20%22VT%22%2C%20%22sun_close%22%3A%2017%2C%20%22sun_open%22%3A%2010.0%2C%20%22type%22%3A%20%22chain%22%2C%20%22week_close%22%3A%2020.0%2C%20%22week_open%22%3A%209.0%7D%2C%20%22type%22%3A%20%22Feature%22%7D%2C%20%7B%22bbox%22%3A%20%5B-72.573114%2C%2044.2112472%2C%20-72.573114%2C%2044.2112472%5D%2C%20%22geometry%22%3A%20%7B%22coordinates%22%3A%20%5B-72.573114%2C%2044.2112472%5D%2C%20%22type%22%3A%20%22Point%22%7D%2C%20%22id%22%3A%20%2230%22%2C%20%22properties%22%3A%20%7B%22address%22%3A%20%22160%20Paine%20Tpke%20N%2C%20Berlin%2C%20VT%22%2C%20%22lat%22%3A%2044.2112472%2C%20%22lon%22%3A%20-72.573114%2C%20%22pharmacy_name%22%3A%20%22Osco%20Pharmacy%20%230616%22%2C%20%22pharmid%22%3A%20%22VT69%22%2C%20%22sat_close%22%3A%2017%2C%20%22sat_open%22%3A%209.0%2C%20%22state%22%3A%20%22VT%22%2C%20%22sun_close%22%3A%2017%2C%20%22sun_open%22%3A%2010.0%2C%20%22type%22%3A%20%22chain%22%2C%20%22week_close%22%3A%2020.0%2C%20%22week_open%22%3A%209.0%7D%2C%20%22type%22%3A%20%22Feature%22%7D%2C%20%7B%22bbox%22%3A%20%5B-73.181054%2C%2044.5091138%2C%20-73.181054%2C%2044.5091138%5D%2C%20%22geometry%22%3A%20%7B%22coordinates%22%3A%20%5B-73.181054%2C%2044.5091138%5D%2C%20%22type%22%3A%20%22Point%22%7D%2C%20%22id%22%3A%20%2231%22%2C%20%22properties%22%3A%20%7B%22address%22%3A%20%2266%20Mountain%20View%20Dr%2C%20Colchester%2C%20VT%22%2C%20%22lat%22%3A%2044.5091138%2C%20%22lon%22%3A%20-73.181054%2C%20%22pharmacy_name%22%3A%20%22Osco%20Pharmacy%20%230615%22%2C%20%22pharmid%22%3A%20%22VT68%22%2C%20%22sat_close%22%3A%2017%2C%20%22sat_open%22%3A%209.0%2C%20%22state%22%3A%20%22VT%22%2C%20%22sun_close%22%3A%2017%2C%20%22sun_open%22%3A%2010.0%2C%20%22type%22%3A%20%22chain%22%2C%20%22week_close%22%3A%2020.0%2C%20%22week_open%22%3A%209.0%7D%2C%20%22type%22%3A%20%22Feature%22%7D%2C%20%7B%22bbox%22%3A%20%5B-73.111692%2C%2044.4468357%2C%20-73.111692%2C%2044.4468357%5D%2C%20%22geometry%22%3A%20%7B%22coordinates%22%3A%20%5B-73.111692%2C%2044.4468357%5D%2C%20%22type%22%3A%20%22Point%22%7D%2C%20%22id%22%3A%20%2232%22%2C%20%22properties%22%3A%20%7B%22address%22%3A%20%2249%20Wright%20Ave%2C%20Williston%2C%20VT%2005495%22%2C%20%22lat%22%3A%2044.4468357%2C%20%22lon%22%3A%20-73.111692%2C%20%22pharmacy_name%22%3A%20%22CVS%20%237103%22%2C%20%22pharmid%22%3A%20%22VT67%22%2C%20%22sat_close%22%3A%2018%2C%20%22sat_open%22%3A%2010.0%2C%20%22state%22%3A%20%22VT%22%2C%20%22sun_close%22%3A%2017%2C%20%22sun_open%22%3A%2011.0%2C%20%22type%22%3A%20%22chain%22%2C%20%22week_close%22%3A%2019.0%2C%20%22week_open%22%3A%209.0%7D%2C%20%22type%22%3A%20%22Feature%22%7D%2C%20%7B%22bbox%22%3A%20%5B-73.215556%2C%2044.4066842%2C%20-73.215556%2C%2044.4066842%5D%2C%20%22geometry%22%3A%20%7B%22coordinates%22%3A%20%5B-73.215556%2C%2044.4066842%5D%2C%20%22type%22%3A%20%22Point%22%7D%2C%20%22id%22%3A%20%2233%22%2C%20%22properties%22%3A%20%7B%22address%22%3A%20%2247%20Executive%20Drive%2C%20Shelburne%2C%20VT%2005482%22%2C%20%22lat%22%3A%2044.4066842%2C%20%22lon%22%3A%20-73.215556%2C%20%22pharmacy_name%22%3A%20%22Kinney%20Drugs%20%23107%22%2C%20%22pharmid%22%3A%20%22VT65%22%2C%20%22sat_close%22%3A%2017%2C%20%22sat_open%22%3A%209.0%2C%20%22state%22%3A%20%22VT%22%2C%20%22sun_close%22%3A%20-1%2C%20%22sun_open%22%3A%20-1.0%2C%20%22type%22%3A%20%22chain%22%2C%20%22week_close%22%3A%2019.0%2C%20%22week_open%22%3A%209.0%7D%2C%20%22type%22%3A%20%22Feature%22%7D%2C%20%7B%22bbox%22%3A%20%5B-73.113114%2C%2044.334959%2C%20-73.113114%2C%2044.334959%5D%2C%20%22geometry%22%3A%20%7B%22coordinates%22%3A%20%5B-73.113114%2C%2044.334959%5D%2C%20%22type%22%3A%20%22Point%22%7D%2C%20%22id%22%3A%20%2234%22%2C%20%22properties%22%3A%20%7B%22address%22%3A%20%2210212%20Route%20116%2C%20Hinesburg%2C%20VT%2005461%22%2C%20%22lat%22%3A%2044.334959%2C%20%22lon%22%3A%20-73.113114%2C%20%22pharmacy_name%22%3A%20%22Kinney%20Drugs%20%23103%22%2C%20%22pharmid%22%3A%20%22VT64%22%2C%20%22sat_close%22%3A%2017%2C%20%22sat_open%22%3A%209.0%2C%20%22state%22%3A%20%22VT%22%2C%20%22sun_close%22%3A%2016%2C%20%22sun_open%22%3A%209.0%2C%20%22type%22%3A%20%22chain%22%2C%20%22week_close%22%3A%2019.0%2C%20%22week_open%22%3A%209.0%7D%2C%20%22type%22%3A%20%22Feature%22%7D%2C%20%7B%22bbox%22%3A%20%5B-72.18045%2C%2044.7509413%2C%20-72.18045%2C%2044.7509413%5D%2C%20%22geometry%22%3A%20%7B%22coordinates%22%3A%20%5B-72.18045%2C%2044.7509413%5D%2C%20%22type%22%3A%20%22Point%22%7D%2C%20%22id%22%3A%20%2235%22%2C%20%22properties%22%3A%20%7B%22address%22%3A%20%2216%20Church%20Street%2C%20Barton%2C%20VT%2005822%22%2C%20%22lat%22%3A%2044.7509413%2C%20%22lon%22%3A%20-72.18045%2C%20%22pharmacy_name%22%3A%20%22Kinney%20Drugs%20%23105%22%2C%20%22pharmid%22%3A%20%22VT63%22%2C%20%22sat_close%22%3A%2013%2C%20%22sat_open%22%3A%209.0%2C%20%22state%22%3A%20%22VT%22%2C%20%22sun_close%22%3A%20-1%2C%20%22sun_open%22%3A%20-1.0%2C%20%22type%22%3A%20%22chain%22%2C%20%22week_close%22%3A%2018.0%2C%20%22week_open%22%3A%209.0%7D%2C%20%22type%22%3A%20%22Feature%22%7D%2C%20%7B%22bbox%22%3A%20%5B-73.207609%2C%2044.4507283%2C%20-73.207609%2C%2044.4507283%5D%2C%20%22geometry%22%3A%20%7B%22coordinates%22%3A%20%5B-73.207609%2C%2044.4507283%5D%2C%20%22type%22%3A%20%22Point%22%7D%2C%20%22id%22%3A%20%2236%22%2C%20%22properties%22%3A%20%7B%22address%22%3A%20%22514%20Farrell%20St%2C%20Burlington%2C%20VT%22%2C%20%22lat%22%3A%2044.4507283%2C%20%22lon%22%3A%20-73.207609%2C%20%22pharmacy_name%22%3A%20%22Walgreen%20Eastern%20Co.%2C%20Inc.%20%2311526%22%2C%20%22pharmid%22%3A%20%22VT62%22%2C%20%22sat_close%22%3A%20-1%2C%20%22sat_open%22%3A%20-1.0%2C%20%22state%22%3A%20%22VT%22%2C%20%22sun_close%22%3A%20-1%2C%20%22sun_open%22%3A%20-1.0%2C%20%22type%22%3A%20%22chain%22%2C%20%22week_close%22%3A%2018.0%2C%20%22week_open%22%3A%209.0%7D%2C%20%22type%22%3A%20%22Feature%22%7D%2C%20%7B%22bbox%22%3A%20%5B-73.079117%2C%2044.5093%2C%20-73.079117%2C%2044.5093%5D%2C%20%22geometry%22%3A%20%7B%22coordinates%22%3A%20%5B-73.079117%2C%2044.5093%5D%2C%20%22type%22%3A%20%22Point%22%7D%2C%20%22id%22%3A%20%2237%22%2C%20%22properties%22%3A%20%7B%22address%22%3A%20%227%20Essex%20Way%2C%20Essex%20Junction%2C%20VT%2005452%22%2C%20%22lat%22%3A%2044.5093%2C%20%22lon%22%3A%20-73.079117%2C%20%22pharmacy_name%22%3A%20%22CVS%20%231052%22%2C%20%22pharmid%22%3A%20%22VT60%22%2C%20%22sat_close%22%3A%2018%2C%20%22sat_open%22%3A%2010.0%2C%20%22state%22%3A%20%22VT%22%2C%20%22sun_close%22%3A%2017%2C%20%22sun_open%22%3A%2011.0%2C%20%22type%22%3A%20%22chain%22%2C%20%22week_close%22%3A%2019.0%2C%20%22week_open%22%3A%209.0%7D%2C%20%22type%22%3A%20%22Feature%22%7D%2C%20%7B%22bbox%22%3A%20%5B-72.591685%2C%2044.5745923%2C%20-72.591685%2C%2044.5745923%5D%2C%20%22geometry%22%3A%20%7B%22coordinates%22%3A%20%5B-72.591685%2C%2044.5745923%5D%2C%20%22type%22%3A%20%22Point%22%7D%2C%20%22id%22%3A%20%2238%22%2C%20%22properties%22%3A%20%7B%22address%22%3A%20%2297%20Morrisville%20Plaza%20Po%20Box%20979%2C%20Morrisville%2C%20VT%22%2C%20%22lat%22%3A%2044.5745923%2C%20%22lon%22%3A%20-72.591685%2C%20%22pharmacy_name%22%3A%20%22Kinney%20Drugs%20%2323%22%2C%20%22pharmid%22%3A%20%22VT6%22%2C%20%22sat_close%22%3A%2018%2C%20%22sat_open%22%3A%209.0%2C%20%22state%22%3A%20%22VT%22%2C%20%22sun_close%22%3A%2016%2C%20%22sun_open%22%3A%209.0%2C%20%22type%22%3A%20%22chain%22%2C%20%22week_close%22%3A%2019.0%2C%20%22week_open%22%3A%208.0%7D%2C%20%22type%22%3A%20%22Feature%22%7D%2C%20%7B%22bbox%22%3A%20%5B-73.222903%2C%2042.9070358%2C%20-73.222903%2C%2042.9070358%5D%2C%20%22geometry%22%3A%20%7B%22coordinates%22%3A%20%5B-73.222903%2C%2042.9070358%5D%2C%20%22type%22%3A%20%22Point%22%7D%2C%20%22id%22%3A%20%2239%22%2C%20%22properties%22%3A%20%7B%22address%22%3A%20%22141%20Hannaford%20Sq%2C%20Bennington%2C%20Vermont%2C%2005201%22%2C%20%22lat%22%3A%2042.9070358%2C%20%22lon%22%3A%20-73.222903%2C%20%22pharmacy_name%22%3A%20%22Hannaford%20%238303%22%2C%20%22pharmid%22%3A%20%22VT59%22%2C%20%22sat_close%22%3A%2016%2C%20%22sat_open%22%3A%209.5%2C%20%22state%22%3A%20%22VT%22%2C%20%22sun_close%22%3A%2014%2C%20%22sun_open%22%3A%209.5%2C%20%22type%22%3A%20%22chain%22%2C%20%22week_close%22%3A%2020.0%2C%20%22week_open%22%3A%209.0%7D%2C%20%22type%22%3A%20%22Feature%22%7D%2C%20%7B%22bbox%22%3A%20%5B-72.663224%2C%2043.9120554%2C%20-72.663224%2C%2043.9120554%5D%2C%20%22geometry%22%3A%20%7B%22coordinates%22%3A%20%5B-72.663224%2C%2043.9120554%5D%2C%20%22type%22%3A%20%22Point%22%7D%2C%20%22id%22%3A%20%2240%22%2C%20%22properties%22%3A%20%7B%22address%22%3A%20%22151%20Vermont%20Route%2012%20South%2C%20Randolph%2C%20VT%2005060%22%2C%20%22lat%22%3A%2043.9120554%2C%20%22lon%22%3A%20-72.663224%2C%20%22pharmacy_name%22%3A%20%22Kinney%20Drugs%20%23102%22%2C%20%22pharmid%22%3A%20%22VT58%22%2C%20%22sat_close%22%3A%2017%2C%20%22sat_open%22%3A%209.0%2C%20%22state%22%3A%20%22VT%22%2C%20%22sun_close%22%3A%20-1%2C%20%22sun_open%22%3A%20-1.0%2C%20%22type%22%3A%20%22chain%22%2C%20%22week_close%22%3A%2019.0%2C%20%22week_open%22%3A%209.0%7D%2C%20%22type%22%3A%20%22Feature%22%7D%2C%20%7B%22bbox%22%3A%20%5B-72.753072%2C%2044.3348811%2C%20-72.753072%2C%2044.3348811%5D%2C%20%22geometry%22%3A%20%7B%22coordinates%22%3A%20%5B-72.753072%2C%2044.3348811%5D%2C%20%22type%22%3A%20%22Point%22%7D%2C%20%22id%22%3A%20%2241%22%2C%20%22properties%22%3A%20%7B%22address%22%3A%20%2280%20South%20Main%2C%20Waterbury%2C%20VT%22%2C%20%22lat%22%3A%2044.3348811%2C%20%22lon%22%3A%20-72.753072%2C%20%22pharmacy_name%22%3A%20%22Kinney%20Drugs%20%23101%22%2C%20%22pharmid%22%3A%20%22VT56%22%2C%20%22sat_close%22%3A%2017%2C%20%22sat_open%22%3A%209.0%2C%20%22state%22%3A%20%22VT%22%2C%20%22sun_close%22%3A%2014%2C%20%22sun_open%22%3A%209.0%2C%20%22type%22%3A%20%22chain%22%2C%20%22week_close%22%3A%2019.0%2C%20%22week_open%22%3A%208.5%7D%2C%20%22type%22%3A%20%22Feature%22%7D%2C%20%7B%22bbox%22%3A%20%5B-72.973377%2C%2043.610392%2C%20-72.973377%2C%2043.610392%5D%2C%20%22geometry%22%3A%20%7B%22coordinates%22%3A%20%5B-72.973377%2C%2043.610392%5D%2C%20%22type%22%3A%20%22Point%22%7D%2C%20%22id%22%3A%20%2242%22%2C%20%22properties%22%3A%20%7B%22address%22%3A%20%2231%20S%20Main%20Street%2C%20Rutland%2C%20VT%2005701%22%2C%20%22lat%22%3A%2043.610392%2C%20%22lon%22%3A%20-72.973377%2C%20%22pharmacy_name%22%3A%20%22CVS%20%23673%22%2C%20%22pharmid%22%3A%20%22VT55%22%2C%20%22sat_close%22%3A%2017%2C%20%22sat_open%22%3A%209.0%2C%20%22state%22%3A%20%22VT%22%2C%20%22sun_close%22%3A%2017%2C%20%22sun_open%22%3A%209.0%2C%20%22type%22%3A%20%22chain%22%2C%20%22week_close%22%3A%2019.0%2C%20%22week_open%22%3A%209.0%7D%2C%20%22type%22%3A%20%22Feature%22%7D%2C%20%7B%22bbox%22%3A%20%5B-73.202165%2C%2042.8954029%2C%20-73.202165%2C%2042.8954029%5D%2C%20%22geometry%22%3A%20%7B%22coordinates%22%3A%20%5B-73.202165%2C%2042.8954029%5D%2C%20%22type%22%3A%20%22Point%22%7D%2C%20%22id%22%3A%20%2243%22%2C%20%22properties%22%3A%20%7B%22address%22%3A%20%228%20Kocher%20Dr.%2C%20Bennington%2C%20VT%2005201%22%2C%20%22lat%22%3A%2042.8954029%2C%20%22lon%22%3A%20-73.202165%2C%20%22pharmacy_name%22%3A%20%22CVS%20%23337%22%2C%20%22pharmid%22%3A%20%22VT54%22%2C%20%22sat_close%22%3A%2017%2C%20%22sat_open%22%3A%2010.0%2C%20%22state%22%3A%20%22VT%22%2C%20%22sun_close%22%3A%2016%2C%20%22sun_open%22%3A%2010.0%2C%20%22type%22%3A%20%22chain%22%2C%20%22week_close%22%3A%2021.0%2C%20%22week_open%22%3A%209.0%7D%2C%20%22type%22%3A%20%22Feature%22%7D%2C%20%7B%22bbox%22%3A%20%5B-73.207927%2C%2043.608945%2C%20-73.207927%2C%2043.608945%5D%2C%20%22geometry%22%3A%20%7B%22coordinates%22%3A%20%5B-73.207927%2C%2043.608945%5D%2C%20%22type%22%3A%20%22Point%22%7D%2C%20%22id%22%3A%20%2244%22%2C%20%22properties%22%3A%20%7B%22address%22%3A%20%2234%20Route%2030%20North%20Po%20Box%20284%2C%20Bomoseen%2C%20VT05732%22%2C%20%22lat%22%3A%2043.608945%2C%20%22lon%22%3A%20-73.207927%2C%20%22pharmacy_name%22%3A%20%22Kinney%20Drugs%20%2398%22%2C%20%22pharmid%22%3A%20%22VT53%22%2C%20%22sat_close%22%3A%2017%2C%20%22sat_open%22%3A%209.0%2C%20%22state%22%3A%20%22VT%22%2C%20%22sun_close%22%3A%2014%2C%20%22sun_open%22%3A%2010.0%2C%20%22type%22%3A%20%22chain%22%2C%20%22week_close%22%3A%2019.0%2C%20%22week_open%22%3A%209.0%7D%2C%20%22type%22%3A%20%22Feature%22%7D%2C%20%7B%22bbox%22%3A%20%5B-72.38693%2C%2043.4811699%2C%20-72.38693%2C%2043.4811699%5D%2C%20%22geometry%22%3A%20%7B%22coordinates%22%3A%20%5B-72.38693%2C%2043.4811699%5D%2C%20%22type%22%3A%20%22Point%22%7D%2C%20%22id%22%3A%20%2245%22%2C%20%22properties%22%3A%20%7B%22address%22%3A%20%2252%20Main%20St%2C%20Windsor%2C%20VT%2005089%22%2C%20%22lat%22%3A%2043.4811699%2C%20%22lon%22%3A%20-72.38693%2C%20%22pharmacy_name%22%3A%20%22Rite%20Aid%20%2310310%22%2C%20%22pharmid%22%3A%20%22VT51%22%2C%20%22sat_close%22%3A%2017%2C%20%22sat_open%22%3A%209.0%2C%20%22state%22%3A%20%22VT%22%2C%20%22sun_close%22%3A%2017%2C%20%22sun_open%22%3A%209.0%2C%20%22type%22%3A%20%22chain%22%2C%20%22week_close%22%3A%2020.0%2C%20%22week_open%22%3A%208.0%7D%2C%20%22type%22%3A%20%22Feature%22%7D%2C%20%7B%22bbox%22%3A%20%5B-72.490464%2C%2043.303297%2C%20-72.490464%2C%2043.303297%5D%2C%20%22geometry%22%3A%20%7B%22coordinates%22%3A%20%5B-72.490464%2C%2043.303297%5D%2C%20%22type%22%3A%20%22Point%22%7D%2C%20%22id%22%3A%20%2246%22%2C%20%22properties%22%3A%20%7B%22address%22%3A%20%2255%20Springfield%20Plaza%2C%20Springfield%2C%20VT%2005156%22%2C%20%22lat%22%3A%2043.303297%2C%20%22lon%22%3A%20-72.490464%2C%20%22pharmacy_name%22%3A%20%22Rite%20Aid%20%2310313%22%2C%20%22pharmid%22%3A%20%22VT50%22%2C%20%22sat_close%22%3A%2018%2C%20%22sat_open%22%3A%209.0%2C%20%22state%22%3A%20%22VT%22%2C%20%22sun_close%22%3A%2018%2C%20%22sun_open%22%3A%209.0%2C%20%22type%22%3A%20%22chain%22%2C%20%22week_close%22%3A%2021.0%2C%20%22week_open%22%3A%208.0%7D%2C%20%22type%22%3A%20%22Feature%22%7D%2C%20%7B%22bbox%22%3A%20%5B-72.545779%2C%2044.2217753%2C%20-72.545779%2C%2044.2217753%5D%2C%20%22geometry%22%3A%20%7B%22coordinates%22%3A%20%5B-72.545779%2C%2044.2217753%5D%2C%20%22type%22%3A%20%22Point%22%7D%2C%20%22id%22%3A%20%2247%22%2C%20%22properties%22%3A%20%7B%22address%22%3A%20%22800%20Us%20Route%20302%2C%20Barre%2C%20VT%2005641%22%2C%20%22lat%22%3A%2044.2217753%2C%20%22lon%22%3A%20-72.545779%2C%20%22pharmacy_name%22%3A%20%22Kinney%20Drugs%20%2311%22%2C%20%22pharmid%22%3A%20%22VT5%22%2C%20%22sat_close%22%3A%2018%2C%20%22sat_open%22%3A%209.0%2C%20%22state%22%3A%20%22VT%22%2C%20%22sun_close%22%3A%2016%2C%20%22sun_open%22%3A%209.0%2C%20%22type%22%3A%20%22chain%22%2C%20%22week_close%22%3A%2020.0%2C%20%22week_open%22%3A%209.0%7D%2C%20%22type%22%3A%20%22Feature%22%7D%2C%20%7B%22bbox%22%3A%20%5B-72.665612%2C%2043.9232616%2C%20-72.665612%2C%2043.9232616%5D%2C%20%22geometry%22%3A%20%7B%22coordinates%22%3A%20%5B-72.665612%2C%2043.9232616%5D%2C%20%22type%22%3A%20%22Point%22%7D%2C%20%22id%22%3A%20%2248%22%2C%20%22properties%22%3A%20%7B%22address%22%3A%20%2212%20N%20Main%20St%2C%20Randolph%2C%20VT%2005060%22%2C%20%22lat%22%3A%2043.9232616%2C%20%22lon%22%3A%20-72.665612%2C%20%22pharmacy_name%22%3A%20%22Rite%20Aid%20%2310309%22%2C%20%22pharmid%22%3A%20%22VT49%22%2C%20%22sat_close%22%3A%2017%2C%20%22sat_open%22%3A%209.0%2C%20%22state%22%3A%20%22VT%22%2C%20%22sun_close%22%3A%2017%2C%20%22sun_open%22%3A%209.0%2C%20%22type%22%3A%20%22chain%22%2C%20%22week_close%22%3A%2020.0%2C%20%22week_open%22%3A%208.0%7D%2C%20%22type%22%3A%20%22Feature%22%7D%2C%20%7B%22bbox%22%3A%20%5B-72.557868%2C%2042.8509152%2C%20-72.557868%2C%2042.8509152%5D%2C%20%22geometry%22%3A%20%7B%22coordinates%22%3A%20%5B-72.557868%2C%2042.8509152%5D%2C%20%22type%22%3A%20%22Point%22%7D%2C%20%22id%22%3A%20%2249%22%2C%20%22properties%22%3A%20%7B%22address%22%3A%20%22499%20Canal%20St%2C%20Unit%203%2C%20Brattleboro%2C%20VT%2005301%22%2C%20%22lat%22%3A%2042.8509152%2C%20%22lon%22%3A%20-72.557868%2C%20%22pharmacy_name%22%3A%20%22Rite%20Aid%20%2310315%22%2C%20%22pharmid%22%3A%20%22VT48%22%2C%20%22sat_close%22%3A%2017%2C%20%22sat_open%22%3A%209.0%2C%20%22state%22%3A%20%22VT%22%2C%20%22sun_close%22%3A%2017%2C%20%22sun_open%22%3A%209.0%2C%20%22type%22%3A%20%22chain%22%2C%20%22week_close%22%3A%2020.0%2C%20%22week_open%22%3A%208.0%7D%2C%20%22type%22%3A%20%22Feature%22%7D%2C%20%7B%22bbox%22%3A%20%5B-72.600905%2C%2043.8231594%2C%20-72.600905%2C%2043.8231594%5D%2C%20%22geometry%22%3A%20%7B%22coordinates%22%3A%20%5B-72.600905%2C%2043.8231594%5D%2C%20%22type%22%3A%20%22Point%22%7D%2C%20%22id%22%3A%20%2250%22%2C%20%22properties%22%3A%20%7B%22address%22%3A%20%221823%20VT-107%20Ste%202%2C%20Bethel%2C%20VT%2005032%22%2C%20%22lat%22%3A%2043.8231594%2C%20%22lon%22%3A%20-72.600905%2C%20%22pharmacy_name%22%3A%20%22Rite%20Aid%20%2310308%22%2C%20%22pharmid%22%3A%20%22VT47%22%2C%20%22sat_close%22%3A%20-1%2C%20%22sat_open%22%3A%20-1.0%2C%20%22state%22%3A%20%22VT%22%2C%20%22sun_close%22%3A%20-1%2C%20%22sun_open%22%3A%20-1.0%2C%20%22type%22%3A%20%22chain%22%2C%20%22week_close%22%3A%2018.0%2C%20%22week_open%22%3A%209.0%7D%2C%20%22type%22%3A%20%22Feature%22%7D%2C%20%7B%22bbox%22%3A%20%5B-72.001568%2C%2044.525759%2C%20-72.001568%2C%2044.525759%5D%2C%20%22geometry%22%3A%20%7B%22coordinates%22%3A%20%5B-72.001568%2C%2044.525759%5D%2C%20%22type%22%3A%20%22Point%22%7D%2C%20%22id%22%3A%20%2251%22%2C%20%22properties%22%3A%20%7B%22address%22%3A%20%22407%20Broad%20Street%2C%20Lyndonville%2C%20VT%2005851%22%2C%20%22lat%22%3A%2044.525759%2C%20%22lon%22%3A%20-72.001568%2C%20%22pharmacy_name%22%3A%20%22Kinney%20Drugs%20%2394%22%2C%20%22pharmid%22%3A%20%22VT46%22%2C%20%22sat_close%22%3A%2018%2C%20%22sat_open%22%3A%209.0%2C%20%22state%22%3A%20%22VT%22%2C%20%22sun_close%22%3A%2017%2C%20%22sun_open%22%3A%209.0%2C%20%22type%22%3A%20%22chain%22%2C%20%22week_close%22%3A%2019.0%2C%20%22week_open%22%3A%209.0%7D%2C%20%22type%22%3A%20%22Feature%22%7D%2C%20%7B%22bbox%22%3A%20%5B-72.016287%2C%2044.4459427%2C%20-72.016287%2C%2044.4459427%5D%2C%20%22geometry%22%3A%20%7B%22coordinates%22%3A%20%5B-72.016287%2C%2044.4459427%5D%2C%20%22type%22%3A%20%22Point%22%7D%2C%20%22id%22%3A%20%2252%22%2C%20%22properties%22%3A%20%7B%22address%22%3A%20%22957%20Memorial%20Drive%2C%20St.%20Johnsbury%2C%20VT%2005819%22%2C%20%22lat%22%3A%2044.4459427%2C%20%22lon%22%3A%20-72.016287%2C%20%22pharmacy_name%22%3A%20%22Kinney%20Drugs%20%2393%22%2C%20%22pharmid%22%3A%20%22VT45%22%2C%20%22sat_close%22%3A%2018%2C%20%22sat_open%22%3A%209.0%2C%20%22state%22%3A%20%22VT%22%2C%20%22sun_close%22%3A%2016%2C%20%22sun_open%22%3A%209.0%2C%20%22type%22%3A%20%22chain%22%2C%20%22week_close%22%3A%2020.0%2C%20%22week_open%22%3A%208.0%7D%2C%20%22type%22%3A%20%22Feature%22%7D%2C%20%7B%22bbox%22%3A%20%5B-72.877874%2C%2044.6445618%2C%20-72.877874%2C%2044.6445618%5D%2C%20%22geometry%22%3A%20%7B%22coordinates%22%3A%20%5B-72.877874%2C%2044.6445618%5D%2C%20%22type%22%3A%20%22Point%22%7D%2C%20%22id%22%3A%20%2253%22%2C%20%22properties%22%3A%20%7B%22address%22%3A%20%22155%20S.%20Main%20Street%20%2C%20Cambridge%2C%20VT%2005444%22%2C%20%22lat%22%3A%2044.6445618%2C%20%22lon%22%3A%20-72.877874%2C%20%22pharmacy_name%22%3A%20%22Kinney%20Drugs%20%2386%22%2C%20%22pharmid%22%3A%20%22VT44%22%2C%20%22sat_close%22%3A%2016%2C%20%22sat_open%22%3A%209.0%2C%20%22state%22%3A%20%22VT%22%2C%20%22sun_close%22%3A%20-1%2C%20%22sun_open%22%3A%20-1.0%2C%20%22type%22%3A%20%22chain%22%2C%20%22week_close%22%3A%2018.0%2C%20%22week_open%22%3A%208.5%7D%2C%20%22type%22%3A%20%22Feature%22%7D%2C%20%7B%22bbox%22%3A%20%5B-72.971247%2C%2043.610508%2C%20-72.971247%2C%2043.610508%5D%2C%20%22geometry%22%3A%20%7B%22coordinates%22%3A%20%5B-72.971247%2C%2043.610508%5D%2C%20%22type%22%3A%20%22Point%22%7D%2C%20%22id%22%3A%20%2254%22%2C%20%22properties%22%3A%20%7B%22address%22%3A%20%2210%20Woodstock%20Ave%2C%20Rutland%2C%20VT%22%2C%20%22lat%22%3A%2043.610508%2C%20%22lon%22%3A%20-72.971247%2C%20%22pharmacy_name%22%3A%20%22Walgreens%20Pharmacy%20%2301756%22%2C%20%22pharmid%22%3A%20%22VT42%22%2C%20%22sat_close%22%3A%2017%2C%20%22sat_open%22%3A%209.0%2C%20%22state%22%3A%20%22VT%22%2C%20%22sun_close%22%3A%2017%2C%20%22sun_open%22%3A%209.0%2C%20%22type%22%3A%20%22chain%22%2C%20%22week_close%22%3A%2021.0%2C%20%22week_open%22%3A%209.0%7D%2C%20%22type%22%3A%20%22Feature%22%7D%2C%20%7B%22bbox%22%3A%20%5B-73.155718%2C%2044.00123%2C%20-73.155718%2C%2044.00123%5D%2C%20%22geometry%22%3A%20%7B%22coordinates%22%3A%20%5B-73.155718%2C%2044.00123%5D%2C%20%22type%22%3A%20%22Point%22%7D%2C%20%22id%22%3A%20%2255%22%2C%20%22properties%22%3A%20%7B%22address%22%3A%20%22260%20Court%20St%2C%20Middlebury%2C%20Vermont%2C%2005753%22%2C%20%22lat%22%3A%2044.00123%2C%20%22lon%22%3A%20-73.155718%2C%20%22pharmacy_name%22%3A%20%22Hannaford%20%238121%22%2C%20%22pharmid%22%3A%20%22VT41%22%2C%20%22sat_close%22%3A%2016%2C%20%22sat_open%22%3A%209.5%2C%20%22state%22%3A%20%22VT%22%2C%20%22sun_close%22%3A%2014%2C%20%22sun_open%22%3A%209.5%2C%20%22type%22%3A%20%22chain%22%2C%20%22week_close%22%3A%2020.0%2C%20%22week_open%22%3A%209.0%7D%2C%20%22type%22%3A%20%22Feature%22%7D%2C%20%7B%22bbox%22%3A%20%5B-72.56457%2C%2042.8390823%2C%20-72.56457%2C%2042.8390823%5D%2C%20%22geometry%22%3A%20%7B%22coordinates%22%3A%20%5B-72.56457%2C%2042.8390823%5D%2C%20%22type%22%3A%20%22Point%22%7D%2C%20%22id%22%3A%20%2256%22%2C%20%22properties%22%3A%20%7B%22address%22%3A%20%22476%20Canal%20St%2C%20Brattleboro%2C%20VT%22%2C%20%22lat%22%3A%2042.8390823%2C%20%22lon%22%3A%20-72.56457%2C%20%22pharmacy_name%22%3A%20%22Walgreens%20%20Pharmacy%20%2307270%22%2C%20%22pharmid%22%3A%20%22VT40%22%2C%20%22sat_close%22%3A%2018%2C%20%22sat_open%22%3A%209.0%2C%20%22state%22%3A%20%22VT%22%2C%20%22sun_close%22%3A%2017%2C%20%22sun_open%22%3A%209.0%2C%20%22type%22%3A%20%22chain%22%2C%20%22week_close%22%3A%2020.0%2C%20%22week_open%22%3A%209.0%7D%2C%20%22type%22%3A%20%22Feature%22%7D%2C%20%7B%22bbox%22%3A%20%5B-73.120292%2C%2044.4936189%2C%20-73.120292%2C%2044.4936189%5D%2C%20%22geometry%22%3A%20%7B%22coordinates%22%3A%20%5B-73.120292%2C%2044.4936189%5D%2C%20%22type%22%3A%20%22Point%22%7D%2C%20%22id%22%3A%20%2257%22%2C%20%22properties%22%3A%20%7B%22address%22%3A%20%2282%20Pearl%20Street%2C%20Essex%20Junction%2C%20VT%2005452%22%2C%20%22lat%22%3A%2044.4936189%2C%20%22lon%22%3A%20-73.120292%2C%20%22pharmacy_name%22%3A%20%22Kinney%20Drugs%20%2321%22%2C%20%22pharmid%22%3A%20%22VT4%22%2C%20%22sat_close%22%3A%2018%2C%20%22sat_open%22%3A%209.0%2C%20%22state%22%3A%20%22VT%22%2C%20%22sun_close%22%3A%2016%2C%20%22sun_open%22%3A%209.0%2C%20%22type%22%3A%20%22chain%22%2C%20%22week_close%22%3A%2019.0%2C%20%22week_open%22%3A%209.0%7D%2C%20%22type%22%3A%20%22Feature%22%7D%2C%20%7B%22bbox%22%3A%20%5B-72.505793%2C%2044.1741328%2C%20-72.505793%2C%2044.1741328%5D%2C%20%22geometry%22%3A%20%7B%22coordinates%22%3A%20%5B-72.505793%2C%2044.1741328%5D%2C%20%22type%22%3A%20%22Point%22%7D%2C%20%22id%22%3A%20%2258%22%2C%20%22properties%22%3A%20%7B%22address%22%3A%20%22456%20South%20Barre%20Road%2C%20Barre%2C%20Vermont%2C%2005641%22%2C%20%22lat%22%3A%2044.1741328%2C%20%22lon%22%3A%20-72.505793%2C%20%22pharmacy_name%22%3A%20%22Hannaford%20%238129%22%2C%20%22pharmid%22%3A%20%22VT39%22%2C%20%22sat_close%22%3A%2018%2C%20%22sat_open%22%3A%209.0%2C%20%22state%22%3A%20%22VT%22%2C%20%22sun_close%22%3A%2017%2C%20%22sun_open%22%3A%209.0%2C%20%22type%22%3A%20%22chain%22%2C%20%22week_close%22%3A%2020.0%2C%20%22week_open%22%3A%209.0%7D%2C%20%22type%22%3A%20%22Feature%22%7D%2C%20%7B%22bbox%22%3A%20%5B-73.244441%2C%2044.5063431%2C%20-73.244441%2C%2044.5063431%5D%2C%20%22geometry%22%3A%20%7B%22coordinates%22%3A%20%5B-73.244441%2C%2044.5063431%5D%2C%20%22type%22%3A%20%22Point%22%7D%2C%20%22id%22%3A%20%2259%22%2C%20%22properties%22%3A%20%7B%22address%22%3A%20%221127%20North%20Avenue%2C%20Burlington%2C%20Vermont%2C%2005408%22%2C%20%22lat%22%3A%2044.5063431%2C%20%22lon%22%3A%20-73.244441%2C%20%22pharmacy_name%22%3A%20%22Hannaford%20%20%238161%22%2C%20%22pharmid%22%3A%20%22VT38%22%2C%20%22sat_close%22%3A%2018%2C%20%22sat_open%22%3A%209.0%2C%20%22state%22%3A%20%22VT%22%2C%20%22sun_close%22%3A%2017%2C%20%22sun_open%22%3A%209.0%2C%20%22type%22%3A%20%22chain%22%2C%20%22week_close%22%3A%2020.0%2C%20%22week_open%22%3A%209.0%7D%2C%20%22type%22%3A%20%22Feature%22%7D%2C%20%7B%22bbox%22%3A%20%5B-72.596656%2C%2044.5728994%2C%20-72.596656%2C%2044.5728994%5D%2C%20%22geometry%22%3A%20%7B%22coordinates%22%3A%20%5B-72.596656%2C%2044.5728994%5D%2C%20%22type%22%3A%20%22Point%22%7D%2C%20%22id%22%3A%20%2260%22%2C%20%22properties%22%3A%20%7B%22address%22%3A%20%2280%20Fairgrounds%20Plaza%2CMorrisville%2C%20Vermont%2C%2005661%22%2C%20%22lat%22%3A%2044.5728994%2C%20%22lon%22%3A%20-72.596656%2C%20%22pharmacy_name%22%3A%20%22Hannaford%20%238162%22%2C%20%22pharmid%22%3A%20%22VT37%22%2C%20%22sat_close%22%3A%2018%2C%20%22sat_open%22%3A%209.0%2C%20%22state%22%3A%20%22VT%22%2C%20%22sun_close%22%3A%2017%2C%20%22sun_open%22%3A%209.0%2C%20%22type%22%3A%20%22chain%22%2C%20%22week_close%22%3A%2020.0%2C%20%22week_open%22%3A%209.0%7D%2C%20%22type%22%3A%20%22Feature%22%7D%2C%20%7B%22bbox%22%3A%20%5B-73.065811%2C%2044.5118603%2C%20-73.065811%2C%2044.5118603%5D%2C%20%22geometry%22%3A%20%7B%22coordinates%22%3A%20%5B-73.065811%2C%2044.5118603%5D%2C%20%22type%22%3A%20%22Point%22%7D%2C%20%22id%22%3A%20%2261%22%2C%20%22properties%22%3A%20%7B%22address%22%3A%20%2290%20Center%20Road%2C%20Essex%20Junction%2C%20VT%2005452%22%2C%20%22lat%22%3A%2044.5118603%2C%20%22lon%22%3A%20-73.065811%2C%20%22pharmacy_name%22%3A%20%22Price%20Chopper%20Pharmacy%20%23192%22%2C%20%22pharmid%22%3A%20%22VT36%22%2C%20%22sat_close%22%3A%2017%2C%20%22sat_open%22%3A%209.0%2C%20%22state%22%3A%20%22VT%22%2C%20%22sun_close%22%3A%2017%2C%20%22sun_open%22%3A%209.0%2C%20%22type%22%3A%20%22chain%22%2C%20%22week_close%22%3A%2020.0%2C%20%22week_open%22%3A%208.0%7D%2C%20%22type%22%3A%20%22Feature%22%7D%2C%20%7B%22bbox%22%3A%20%5B-73.212151%2C%2042.8975753%2C%20-73.212151%2C%2042.8975753%5D%2C%20%22geometry%22%3A%20%7B%22coordinates%22%3A%20%5B-73.212151%2C%2042.8975753%5D%2C%20%22type%22%3A%20%22Point%22%7D%2C%20%22id%22%3A%20%2262%22%2C%20%22properties%22%3A%20%7B%22address%22%3A%20%22214%20Northside%20Drive%2C%20Bennington%2C%20VT%2005201%22%2C%20%22lat%22%3A%2042.8975753%2C%20%22lon%22%3A%20-73.212151%2C%20%22pharmacy_name%22%3A%20%22Price%20Chopper%20Pharmacy%20%23171%22%2C%20%22pharmid%22%3A%20%22VT34%22%2C%20%22sat_close%22%3A%2017%2C%20%22sat_open%22%3A%209.0%2C%20%22state%22%3A%20%22VT%22%2C%20%22sun_close%22%3A%2017%2C%20%22sun_open%22%3A%209.0%2C%20%22type%22%3A%20%22chain%22%2C%20%22week_close%22%3A%2020.0%2C%20%22week_open%22%3A%209.0%7D%2C%20%22type%22%3A%20%22Feature%22%7D%2C%20%7B%22bbox%22%3A%20%5B-72.16458%2C%2044.9510114%2C%20-72.16458%2C%2044.9510114%5D%2C%20%22geometry%22%3A%20%7B%22coordinates%22%3A%20%5B-72.16458%2C%2044.9510114%5D%2C%20%22type%22%3A%20%22Point%22%7D%2C%20%22id%22%3A%20%2263%22%2C%20%22properties%22%3A%20%7B%22address%22%3A%20%2255%20Shattuck%20Hill%20Road%2C%20Newport%2C%20VT%2005855%22%2C%20%22lat%22%3A%2044.9510114%2C%20%22lon%22%3A%20-72.16458%2C%20%22pharmacy_name%22%3A%20%22Kinney%20Drugs%20%2358%22%2C%20%22pharmid%22%3A%20%22VT33%22%2C%20%22sat_close%22%3A%2017%2C%20%22sat_open%22%3A%209.0%2C%20%22state%22%3A%20%22VT%22%2C%20%22sun_close%22%3A%2016%2C%20%22sun_open%22%3A%209.0%2C%20%22type%22%3A%20%22chain%22%2C%20%22week_close%22%3A%2019.0%2C%20%22week_open%22%3A%208.0%7D%2C%20%22type%22%3A%20%22Feature%22%7D%2C%20%7B%22bbox%22%3A%20%5B-72.119599%2C%2043.9806695%2C%20-72.119599%2C%2043.9806695%5D%2C%20%22geometry%22%3A%20%7B%22coordinates%22%3A%20%5B-72.119599%2C%2043.9806695%5D%2C%20%22type%22%3A%20%22Point%22%7D%2C%20%22id%22%3A%20%2264%22%2C%20%22properties%22%3A%20%7B%22address%22%3A%20%22901%20Lower%20Plain%2C%20%20Bradford%2C%20VT%2005033%22%2C%20%22lat%22%3A%2043.9806695%2C%20%22lon%22%3A%20-72.119599%2C%20%22pharmacy_name%22%3A%20%22Kinney%20Drugs%20%2356%22%2C%20%22pharmid%22%3A%20%22VT32%22%2C%20%22sat_close%22%3A%2017%2C%20%22sat_open%22%3A%209.0%2C%20%22state%22%3A%20%22VT%22%2C%20%22sun_close%22%3A%2014%2C%20%22sun_open%22%3A%209.0%2C%20%22type%22%3A%20%22chain%22%2C%20%22week_close%22%3A%2019.0%2C%20%22week_open%22%3A%209.0%7D%2C%20%22type%22%3A%20%22Feature%22%7D%2C%20%7B%22bbox%22%3A%20%5B-73.158992%2C%2044.4636532%2C%20-73.158992%2C%2044.4636532%5D%2C%20%22geometry%22%3A%20%7B%22coordinates%22%3A%20%5B-73.158992%2C%2044.4636532%5D%2C%20%22type%22%3A%20%22Point%22%7D%2C%20%22id%22%3A%20%2265%22%2C%20%22properties%22%3A%20%7B%22address%22%3A%20%221653%20Williston%20Road%2C%20%20South%20Burlington%2C%20VT%22%2C%20%22lat%22%3A%2044.4636532%2C%20%22lon%22%3A%20-73.158992%2C%20%22pharmacy_name%22%3A%20%22Kinney%20Drugs%20%2355%22%2C%20%22pharmid%22%3A%20%22VT31%22%2C%20%22sat_close%22%3A%2017%2C%20%22sat_open%22%3A%209.0%2C%20%22state%22%3A%20%22VT%22%2C%20%22sun_close%22%3A%2013%2C%20%22sun_open%22%3A%209.0%2C%20%22type%22%3A%20%22chain%22%2C%20%22week_close%22%3A%2019.0%2C%20%22week_open%22%3A%209.0%7D%2C%20%22type%22%3A%20%22Feature%22%7D%2C%20%7B%22bbox%22%3A%20%5B-73.122746%2C%2044.6218481%2C%20-73.122746%2C%2044.6218481%5D%2C%20%22geometry%22%3A%20%7B%22coordinates%22%3A%20%5B-73.122746%2C%2044.6218481%5D%2C%20%22type%22%3A%20%22Point%22%7D%2C%20%22id%22%3A%20%2266%22%2C%20%22properties%22%3A%20%7B%22address%22%3A%20%223%20Centre%20Drive%2C%20Milton%2C%20VT%2005468%22%2C%20%22lat%22%3A%2044.6218481%2C%20%22lon%22%3A%20-73.122746%2C%20%22pharmacy_name%22%3A%20%22Kinney%20Drugs%20%2335%22%2C%20%22pharmid%22%3A%20%22VT30%22%2C%20%22sat_close%22%3A%2018%2C%20%22sat_open%22%3A%209.0%2C%20%22state%22%3A%20%22VT%22%2C%20%22sun_close%22%3A%2016%2C%20%22sun_open%22%3A%209.0%2C%20%22type%22%3A%20%22chain%22%2C%20%22week_close%22%3A%2020.0%2C%20%22week_open%22%3A%209.0%7D%2C%20%22type%22%3A%20%22Feature%22%7D%2C%20%7B%22bbox%22%3A%20%5B-73.212034%2C%2042.897737%2C%20-73.212034%2C%2042.897737%5D%2C%20%22geometry%22%3A%20%7B%22coordinates%22%3A%20%5B-73.212034%2C%2042.897737%5D%2C%20%22type%22%3A%20%22Point%22%7D%2C%20%22id%22%3A%20%2267%22%2C%20%22properties%22%3A%20%7B%22address%22%3A%20%22212%20Northside%20Dr%2C%20Bennington%2C%20VT%22%2C%20%22lat%22%3A%2042.897737%2C%20%22lon%22%3A%20-73.212034%2C%20%22pharmacy_name%22%3A%20%22Wal-Mart%20Pharmacy%20%23%2010-2289%22%2C%20%22pharmid%22%3A%20%22VT29%22%2C%20%22sat_close%22%3A%2019%2C%20%22sat_open%22%3A%209.0%2C%20%22state%22%3A%20%22VT%22%2C%20%22sun_close%22%3A%2018%2C%20%22sun_open%22%3A%2010.0%2C%20%22type%22%3A%20%22chain%22%2C%20%22week_close%22%3A%2019.0%2C%20%22week_open%22%3A%208.0%7D%2C%20%22type%22%3A%20%22Feature%22%7D%2C%20%7B%22bbox%22%3A%20%5B-72.56494%2C%2044.217042%2C%20-72.56494%2C%2044.217042%5D%2C%20%22geometry%22%3A%20%7B%22coordinates%22%3A%20%5B-72.56494%2C%2044.217042%5D%2C%20%22type%22%3A%20%22Point%22%7D%2C%20%22id%22%3A%20%2268%22%2C%20%22properties%22%3A%20%7B%22address%22%3A%20%22282%20Berlin%20Mall%20Rd%20Ste%201%2C%20Berlin%2C%20VT%22%2C%20%22lat%22%3A%2044.217042%2C%20%22lon%22%3A%20-72.56494%2C%20%22pharmacy_name%22%3A%20%22Wal-Mart%20Pharmacy%2010-2682%22%2C%20%22pharmid%22%3A%20%22VT28%22%2C%20%22sat_close%22%3A%2019%2C%20%22sat_open%22%3A%209.0%2C%20%22state%22%3A%20%22VT%22%2C%20%22sun_close%22%3A%2018%2C%20%22sun_open%22%3A%2010.0%2C%20%22type%22%3A%20%22chain%22%2C%20%22week_close%22%3A%2019.0%2C%20%22week_open%22%3A%208.0%7D%2C%20%22type%22%3A%20%22Feature%22%7D%2C%20%7B%22bbox%22%3A%20%5B-73.083852%2C%2044.8354982%2C%20-73.083852%2C%2044.8354982%5D%2C%20%22geometry%22%3A%20%7B%22coordinates%22%3A%20%5B-73.083852%2C%2044.8354982%5D%2C%20%22type%22%3A%20%22Point%22%7D%2C%20%22id%22%3A%20%2269%22%2C%20%22properties%22%3A%20%7B%22address%22%3A%20%22170%20Swanton%20Rd.%20Rte.%207%2C%20St.%20Albans%2C%20VT%2005478%22%2C%20%22lat%22%3A%2044.8354982%2C%20%22lon%22%3A%20-73.083852%2C%20%22pharmacy_name%22%3A%20%22Price%20Chopper%20Pharmacy%20%23127%22%2C%20%22pharmid%22%3A%20%22VT24%22%2C%20%22sat_close%22%3A%2017%2C%20%22sat_open%22%3A%209.0%2C%20%22state%22%3A%20%22VT%22%2C%20%22sun_close%22%3A%20-1%2C%20%22sun_open%22%3A%20-1.0%2C%20%22type%22%3A%20%22chain%22%2C%20%22week_close%22%3A%2019.0%2C%20%22week_open%22%3A%209.0%7D%2C%20%22type%22%3A%20%22Feature%22%7D%2C%20%7B%22bbox%22%3A%20%5B-73.080367%2C%2044.8414778%2C%20-73.080367%2C%2044.8414778%5D%2C%20%22geometry%22%3A%20%7B%22coordinates%22%3A%20%5B-73.080367%2C%2044.8414778%5D%2C%20%22type%22%3A%20%22Point%22%7D%2C%20%22id%22%3A%20%2270%22%2C%20%22properties%22%3A%20%7B%22address%22%3A%20%22290%20Highgate%20Commons%20Road%2C%20St%20Albans%2C%20Vermont%2C%2005478%22%2C%20%22lat%22%3A%2044.8414778%2C%20%22lon%22%3A%20-73.080367%2C%20%22pharmacy_name%22%3A%20%22Hannaford%20%238355%22%2C%20%22pharmid%22%3A%20%22VT23%22%2C%20%22sat_close%22%3A%2018%2C%20%22sat_open%22%3A%209.0%2C%20%22state%22%3A%20%22VT%22%2C%20%22sun_close%22%3A%2017%2C%20%22sun_open%22%3A%209.0%2C%20%22type%22%3A%20%22chain%22%2C%20%22week_close%22%3A%2020.0%2C%20%22week_open%22%3A%209.0%7D%2C%20%22type%22%3A%20%22Feature%22%7D%2C%20%7B%22bbox%22%3A%20%5B-72.971075%2C%2043.5859457%2C%20-72.971075%2C%2043.5859457%5D%2C%20%22geometry%22%3A%20%7B%22coordinates%22%3A%20%5B-72.971075%2C%2043.5859457%5D%2C%20%22type%22%3A%20%22Point%22%7D%2C%20%22id%22%3A%20%2271%22%2C%20%22properties%22%3A%20%7B%22address%22%3A%20%22318%20South%20Main%20St%2C%20Rutland%2C%20Vermont%2C%2005701%22%2C%20%22lat%22%3A%2043.5859457%2C%20%22lon%22%3A%20-72.971075%2C%20%22pharmacy_name%22%3A%20%22Hannaford%20%238306%22%2C%20%22pharmid%22%3A%20%22VT22%22%2C%20%22sat_close%22%3A%2018%2C%20%22sat_open%22%3A%209.0%2C%20%22state%22%3A%20%22VT%22%2C%20%22sun_close%22%3A%2017%2C%20%22sun_open%22%3A%209.0%2C%20%22type%22%3A%20%22chain%22%2C%20%22week_close%22%3A%2020.0%2C%20%22week_open%22%3A%209.0%7D%2C%20%22type%22%3A%20%22Feature%22%7D%2C%20%7B%22bbox%22%3A%20%5B-72.980631%2C%2043.6053053%2C%20-72.980631%2C%2043.6053053%5D%2C%20%22geometry%22%3A%20%7B%22coordinates%22%3A%20%5B-72.980631%2C%2043.6053053%5D%2C%20%22type%22%3A%20%22Point%22%7D%2C%20%22id%22%3A%20%2272%22%2C%20%22properties%22%3A%20%7B%22address%22%3A%20%2290%20Shopping%20Plaza%2C%20Rutland%2C%20VT%22%2C%20%22lat%22%3A%2043.6053053%2C%20%22lon%22%3A%20-72.980631%2C%20%22pharmacy_name%22%3A%20%22Wal-Mart%20Pharmacy%20%2310-2530%22%2C%20%22pharmid%22%3A%20%22VT21%22%2C%20%22sat_close%22%3A%2019%2C%20%22sat_open%22%3A%209.0%2C%20%22state%22%3A%20%22VT%22%2C%20%22sun_close%22%3A%2018%2C%20%22sun_open%22%3A%2010.0%2C%20%22type%22%3A%20%22chain%22%2C%20%22week_close%22%3A%2019.0%2C%20%22week_open%22%3A%208.0%7D%2C%20%22type%22%3A%20%22Feature%22%7D%2C%20%7B%22bbox%22%3A%20%5B-73.122204%2C%2044.4415818%2C%20-73.122204%2C%2044.4415818%5D%2C%20%22geometry%22%3A%20%7B%22coordinates%22%3A%20%5B-73.122204%2C%2044.4415818%5D%2C%20%22type%22%3A%20%22Point%22%7D%2C%20%22id%22%3A%20%2273%22%2C%20%22properties%22%3A%20%7B%22address%22%3A%20%22863%20Harvest%20Ln%2C%20Williston%2C%20VT%22%2C%20%22lat%22%3A%2044.4415818%2C%20%22lon%22%3A%20-73.122204%2C%20%22pharmacy_name%22%3A%20%22Wal-Mart%20%20Pharmacy%20%2310-2224%22%2C%20%22pharmid%22%3A%20%22VT20%22%2C%20%22sat_close%22%3A%2019%2C%20%22sat_open%22%3A%209.0%2C%20%22state%22%3A%20%22VT%22%2C%20%22sun_close%22%3A%2018%2C%20%22sun_open%22%3A%2010.0%2C%20%22type%22%3A%20%22chain%22%2C%20%22week_close%22%3A%2019.0%2C%20%22week_open%22%3A%208.0%7D%2C%20%22type%22%3A%20%22Feature%22%7D%2C%20%7B%22bbox%22%3A%20%5B-73.080982%2C%2044.8356961%2C%20-73.080982%2C%2044.8356961%5D%2C%20%22geometry%22%3A%20%7B%22coordinates%22%3A%20%5B-73.080982%2C%2044.8356961%5D%2C%20%22type%22%3A%20%22Point%22%7D%2C%20%22id%22%3A%20%2274%22%2C%20%22properties%22%3A%20%7B%22address%22%3A%20%22164%20Swanton%20Road%2C%20%20St.%20Albans%2C%20VT%2005478%22%2C%20%22lat%22%3A%2044.8356961%2C%20%22lon%22%3A%20-73.080982%2C%20%22pharmacy_name%22%3A%20%22Kinney%20Drugs%20%2318%22%2C%20%22pharmid%22%3A%20%22VT2%22%2C%20%22sat_close%22%3A%2018%2C%20%22sat_open%22%3A%209.0%2C%20%22state%22%3A%20%22VT%22%2C%20%22sun_close%22%3A%2016%2C%20%22sun_open%22%3A%209.0%2C%20%22type%22%3A%20%22chain%22%2C%20%22week_close%22%3A%2020.0%2C%20%22week_open%22%3A%208.0%7D%2C%20%22type%22%3A%20%22Feature%22%7D%2C%20%7B%22bbox%22%3A%20%5B-73.113686%2C%2044.4459042%2C%20-73.113686%2C%2044.4459042%5D%2C%20%22geometry%22%3A%20%7B%22coordinates%22%3A%20%5B-73.113686%2C%2044.4459042%5D%2C%20%22type%22%3A%20%22Point%22%7D%2C%20%22id%22%3A%20%2275%22%2C%20%22properties%22%3A%20%7B%22address%22%3A%20%2278%20Marshall%20Avenue%2C%20Williston%2C%20Vermont%2C%2005495%22%2C%20%22lat%22%3A%2044.4459042%2C%20%22lon%22%3A%20-73.113686%2C%20%22pharmacy_name%22%3A%20%22Hannaford%20%238398%22%2C%20%22pharmid%22%3A%20%22VT18%22%2C%20%22sat_close%22%3A%2018%2C%20%22sat_open%22%3A%209.0%2C%20%22state%22%3A%20%22VT%22%2C%20%22sun_close%22%3A%2017%2C%20%22sun_open%22%3A%209.0%2C%20%22type%22%3A%20%22chain%22%2C%20%22week_close%22%3A%2020.0%2C%20%22week_open%22%3A%209.0%7D%2C%20%22type%22%3A%20%22Feature%22%7D%2C%20%7B%22bbox%22%3A%20%5B-72.979824%2C%2043.6049713%2C%20-72.979824%2C%2043.6049713%5D%2C%20%22geometry%22%3A%20%7B%22coordinates%22%3A%20%5B-72.979824%2C%2043.6049713%5D%2C%20%22type%22%3A%20%22Point%22%7D%2C%20%22id%22%3A%20%2276%22%2C%20%22properties%22%3A%20%7B%22address%22%3A%20%22234%20Shopping%20Plaza%2C%20Rutland%2C%20VT%2005701%22%2C%20%22lat%22%3A%2043.6049713%2C%20%22lon%22%3A%20-72.979824%2C%20%22pharmacy_name%22%3A%20%22Price%20Chopper%20Pharmacy%20%23131%22%2C%20%22pharmid%22%3A%20%22VT17%22%2C%20%22sat_close%22%3A%2017%2C%20%22sat_open%22%3A%209.0%2C%20%22state%22%3A%20%22VT%22%2C%20%22sun_close%22%3A%20-1%2C%20%22sun_open%22%3A%20-1.0%2C%20%22type%22%3A%20%22chain%22%2C%20%22week_close%22%3A%2019.0%2C%20%22week_open%22%3A%209.0%7D%2C%20%22type%22%3A%20%22Feature%22%7D%2C%20%7B%22bbox%22%3A%20%5B-73.164586%2C%2044.0108758%2C%20-73.164586%2C%2044.0108758%5D%2C%20%22geometry%22%3A%20%7B%22coordinates%22%3A%20%5B-73.164586%2C%2044.0108758%5D%2C%20%22type%22%3A%20%22Point%22%7D%2C%20%22id%22%3A%20%2277%22%2C%20%22properties%22%3A%20%7B%22address%22%3A%20%2240%20Court%20Street%2C%20Middlebury%2C%20VT%2005753%22%2C%20%22lat%22%3A%2044.0108758%2C%20%22lon%22%3A%20-73.164586%2C%20%22pharmacy_name%22%3A%20%22Kinney%20Drugs%20%2338%22%2C%20%22pharmid%22%3A%20%22VT16%22%2C%20%22sat_close%22%3A%2018%2C%20%22sat_open%22%3A%209.0%2C%20%22state%22%3A%20%22VT%22%2C%20%22sun_close%22%3A%2016%2C%20%22sun_open%22%3A%209.0%2C%20%22type%22%3A%20%22chain%22%2C%20%22week_close%22%3A%2020.0%2C%20%22week_open%22%3A%209.0%7D%2C%20%22type%22%3A%20%22Feature%22%7D%2C%20%7B%22bbox%22%3A%20%5B-73.174321%2C%2044.5039486%2C%20-73.174321%2C%2044.5039486%5D%2C%20%22geometry%22%3A%20%7B%22coordinates%22%3A%20%5B-73.174321%2C%2044.5039486%5D%2C%20%22type%22%3A%20%22Point%22%7D%2C%20%22id%22%3A%20%2278%22%2C%20%22properties%22%3A%20%7B%22address%22%3A%20%22218%20Lower%20Mountain%20View%20Dr%2C%20Colchester%2C%20VT%2005446%22%2C%20%22lat%22%3A%2044.5039486%2C%20%22lon%22%3A%20-73.174321%2C%20%22pharmacy_name%22%3A%20%22Costco%20Pharmacy%20%23314%22%2C%20%22pharmid%22%3A%20%22VT15%22%2C%20%22sat_close%22%3A%2018%2C%20%22sat_open%22%3A%209.5%2C%20%22state%22%3A%20%22VT%22%2C%20%22sun_close%22%3A%20-1%2C%20%22sun_open%22%3A%20-1.0%2C%20%22type%22%3A%20%22chain%22%2C%20%22week_close%22%3A%2019.0%2C%20%22week_open%22%3A%2010.0%7D%2C%20%22type%22%3A%20%22Feature%22%7D%2C%20%7B%22bbox%22%3A%20%5B-73.21098%2C%2044.4493877%2C%20-73.21098%2C%2044.4493877%5D%2C%20%22geometry%22%3A%20%7B%22coordinates%22%3A%20%5B-73.21098%2C%2044.4493877%5D%2C%20%22type%22%3A%20%22Point%22%7D%2C%20%22id%22%3A%20%2279%22%2C%20%22properties%22%3A%20%7B%22address%22%3A%20%22595%20Shelburne%20Road%2C%20Burlington%2C%20VT%2005401%22%2C%20%22lat%22%3A%2044.4493877%2C%20%22lon%22%3A%20-73.21098%2C%20%22pharmacy_name%22%3A%20%22Price%20Chopper%20Pharmacy%20%23165%22%2C%20%22pharmid%22%3A%20%22VT13%22%2C%20%22sat_close%22%3A%2017%2C%20%22sat_open%22%3A%209.0%2C%20%22state%22%3A%20%22VT%22%2C%20%22sun_close%22%3A%2017%2C%20%22sun_open%22%3A%209.0%2C%20%22type%22%3A%20%22chain%22%2C%20%22week_close%22%3A%2020.0%2C%20%22week_open%22%3A%208.0%7D%2C%20%22type%22%3A%20%22Feature%22%7D%2C%20%7B%22bbox%22%3A%20%5B-73.242188%2C%2044.1734164%2C%20-73.242188%2C%2044.1734164%5D%2C%20%22geometry%22%3A%20%7B%22coordinates%22%3A%20%5B-73.242188%2C%2044.1734164%5D%2C%20%22type%22%3A%20%22Point%22%7D%2C%20%22id%22%3A%20%2280%22%2C%20%22properties%22%3A%20%7B%22address%22%3A%20%22115B%20Monkton%20Road%2C%20Vergennes%2C%20VT%2005491%22%2C%20%22lat%22%3A%2044.1734164%2C%20%22lon%22%3A%20-73.242188%2C%20%22pharmacy_name%22%3A%20%22Kinney%20Drugs%20%2322%22%2C%20%22pharmid%22%3A%20%22VT12%22%2C%20%22sat_close%22%3A%2017%2C%20%22sat_open%22%3A%209.0%2C%20%22state%22%3A%20%22VT%22%2C%20%22sun_close%22%3A%2015%2C%20%22sun_open%22%3A%209.0%2C%20%22type%22%3A%20%22chain%22%2C%20%22week_close%22%3A%2019.0%2C%20%22week_open%22%3A%209.0%7D%2C%20%22type%22%3A%20%22Feature%22%7D%2C%20%7B%22bbox%22%3A%20%5B-73.212706%2C%2044.4431861%2C%20-73.212706%2C%2044.4431861%5D%2C%20%22geometry%22%3A%20%7B%22coordinates%22%3A%20%5B-73.212706%2C%2044.4431861%5D%2C%20%22type%22%3A%20%22Point%22%7D%2C%20%22id%22%3A%20%2281%22%2C%20%22properties%22%3A%20%7B%22address%22%3A%20%22935%20Shelburne%20Road%2C%20South%20Burlington%2C%20Vermont%2C%2005403%22%2C%20%22lat%22%3A%2044.4431861%2C%20%22lon%22%3A%20-73.212706%2C%20%22pharmacy_name%22%3A%20%22Hannaford%20%238448%22%2C%20%22pharmid%22%3A%20%22VT110%22%2C%20%22sat_close%22%3A%2018%2C%20%22sat_open%22%3A%209.0%2C%20%22state%22%3A%20%22VT%22%2C%20%22sun_close%22%3A%2017%2C%20%22sun_open%22%3A%209.0%2C%20%22type%22%3A%20%22chain%22%2C%20%22week_close%22%3A%2020.0%2C%20%22week_open%22%3A%209.0%7D%2C%20%22type%22%3A%20%22Feature%22%7D%2C%20%7B%22bbox%22%3A%20%5B-73.18361%2C%2044.4621221%2C%20-73.18361%2C%2044.4621221%5D%2C%20%22geometry%22%3A%20%7B%22coordinates%22%3A%20%5B-73.18361%2C%2044.4621221%5D%2C%20%22type%22%3A%20%22Point%22%7D%2C%20%22id%22%3A%20%2282%22%2C%20%22properties%22%3A%20%7B%22address%22%3A%20%22217%20Dorset%20St%2C%20South%20Burlington%2C%20Vermont%2C%2005401%22%2C%20%22lat%22%3A%2044.4621221%2C%20%22lon%22%3A%20-73.18361%2C%20%22pharmacy_name%22%3A%20%22Hannaford%20%238357%22%2C%20%22pharmid%22%3A%20%22VT11%22%2C%20%22sat_close%22%3A%2018%2C%20%22sat_open%22%3A%209.0%2C%20%22state%22%3A%20%22VT%22%2C%20%22sun_close%22%3A%2017%2C%20%22sun_open%22%3A%209.0%2C%20%22type%22%3A%20%22chain%22%2C%20%22week_close%22%3A%2020.0%2C%20%22week_open%22%3A%209.0%7D%2C%20%22type%22%3A%20%22Feature%22%7D%2C%20%7B%22bbox%22%3A%20%5B-73.136714%2C%2044.5045543%2C%20-73.136714%2C%2044.5045543%5D%2C%20%22geometry%22%3A%20%7B%22coordinates%22%3A%20%5B-73.136714%2C%2044.5045543%5D%2C%20%22type%22%3A%20%22Point%22%7D%2C%20%22id%22%3A%20%2283%22%2C%20%22properties%22%3A%20%7B%22address%22%3A%20%229%20Susie%20Wilson%20Rd%2C%20Essex%20Junction%2C%20VT%22%2C%20%22lat%22%3A%2044.5045543%2C%20%22lon%22%3A%20-73.136714%2C%20%22pharmacy_name%22%3A%20%22Walgreens%20%2317471%22%2C%20%22pharmid%22%3A%20%22VT107%22%2C%20%22sat_close%22%3A%2017%2C%20%22sat_open%22%3A%209.0%2C%20%22state%22%3A%20%22VT%22%2C%20%22sun_close%22%3A%2017%2C%20%22sun_open%22%3A%209.0%2C%20%22type%22%3A%20%22chain%22%2C%20%22week_close%22%3A%2019.0%2C%20%22week_open%22%3A%209.0%7D%2C%20%22type%22%3A%20%22Feature%22%7D%2C%20%7B%22bbox%22%3A%20%5B-72.576011%2C%2044.2590394%2C%20-72.576011%2C%2044.2590394%5D%2C%20%22geometry%22%3A%20%7B%22coordinates%22%3A%20%5B-72.576011%2C%2044.2590394%5D%2C%20%22type%22%3A%20%22Point%22%7D%2C%20%22id%22%3A%20%2284%22%2C%20%22properties%22%3A%20%7B%22address%22%3A%20%2229%20Main%20St%20Ste%2031%2C%20Montpelier%2C%20VT%22%2C%20%22lat%22%3A%2044.2590394%2C%20%22lon%22%3A%20-72.576011%2C%20%22pharmacy_name%22%3A%20%22Walgreen%20Eastern%20Co.%2C%20Inc.%20d/b/a/%20Walgreens%20%2317596%22%2C%20%22pharmid%22%3A%20%22VT106%22%2C%20%22sat_close%22%3A%2018%2C%20%22sat_open%22%3A%209.0%2C%20%22state%22%3A%20%22VT%22%2C%20%22sun_close%22%3A%20-1%2C%20%22sun_open%22%3A%20-1.0%2C%20%22type%22%3A%20%22chain%22%2C%20%22week_close%22%3A%2020.0%2C%20%22week_open%22%3A%209.0%7D%2C%20%22type%22%3A%20%22Feature%22%7D%2C%20%7B%22bbox%22%3A%20%5B-73.241215%2C%2044.5049927%2C%20-73.241215%2C%2044.5049927%5D%2C%20%22geometry%22%3A%20%7B%22coordinates%22%3A%20%5B-73.241215%2C%2044.5049927%5D%2C%20%22type%22%3A%20%22Point%22%7D%2C%20%22id%22%3A%20%2285%22%2C%20%22properties%22%3A%20%7B%22address%22%3A%20%221024%20North%20Ave%2C%20Burlington%2C%20VT%22%2C%20%22lat%22%3A%2044.5049927%2C%20%22lon%22%3A%20-73.241215%2C%20%22pharmacy_name%22%3A%20%22Walgreen%20Eastern%20Co.%2C%20Inc.%20d/b/a%20Walgreens%20%2319570%22%2C%20%22pharmid%22%3A%20%22VT105%22%2C%20%22sat_close%22%3A%2018%2C%20%22sat_open%22%3A%209.0%2C%20%22state%22%3A%20%22VT%22%2C%20%22sun_close%22%3A%20-1%2C%20%22sun_open%22%3A%20-1.0%2C%20%22type%22%3A%20%22chain%22%2C%20%22week_close%22%3A%2019.0%2C%20%22week_open%22%3A%209.0%7D%2C%20%22type%22%3A%20%22Feature%22%7D%2C%20%7B%22bbox%22%3A%20%5B-73.27391%2C%2043.6024709%2C%20-73.27391%2C%2043.6024709%5D%2C%20%22geometry%22%3A%20%7B%22coordinates%22%3A%20%5B-73.27391%2C%2043.6024709%5D%2C%20%22type%22%3A%20%22Point%22%7D%2C%20%22id%22%3A%20%2286%22%2C%20%22properties%22%3A%20%7B%22address%22%3A%20%22621%20Route%2022A%20N%2C%20Fair%20Haven%2C%20VT%22%2C%20%22lat%22%3A%2043.6024709%2C%20%22lon%22%3A%20-73.27391%2C%20%22pharmacy_name%22%3A%20%22Walgreens%20%2318354%22%2C%20%22pharmid%22%3A%20%22VT104%22%2C%20%22sat_close%22%3A%2018%2C%20%22sat_open%22%3A%209.0%2C%20%22state%22%3A%20%22VT%22%2C%20%22sun_close%22%3A%2017%2C%20%22sun_open%22%3A%209.0%2C%20%22type%22%3A%20%22chain%22%2C%20%22week_close%22%3A%2019.0%2C%20%22week_open%22%3A%209.0%7D%2C%20%22type%22%3A%20%22Feature%22%7D%2C%20%7B%22bbox%22%3A%20%5B-72.86161%2C%2042.8647573%2C%20-72.86161%2C%2042.8647573%5D%2C%20%22geometry%22%3A%20%7B%22coordinates%22%3A%20%5B-72.86161%2C%2042.8647573%5D%2C%20%22type%22%3A%20%22Point%22%7D%2C%20%22id%22%3A%20%2287%22%2C%20%22properties%22%3A%20%7B%22address%22%3A%20%22107%20E%20Main%20St%2C%20Wilmington%2C%20VT%22%2C%20%22lat%22%3A%2042.8647573%2C%20%22lon%22%3A%20-72.86161%2C%20%22pharmacy_name%22%3A%20%22Walgreen%20Eastern%20Co.%2C%20Inc.%20d/b/a%20Walgreens%20%2317379%22%2C%20%22pharmid%22%3A%20%22VT103%22%2C%20%22sat_close%22%3A%2017%2C%20%22sat_open%22%3A%209.0%2C%20%22state%22%3A%20%22VT%22%2C%20%22sun_close%22%3A%2017%2C%20%22sun_open%22%3A%209.0%2C%20%22type%22%3A%20%22chain%22%2C%20%22week_close%22%3A%2019.0%2C%20%22week_open%22%3A%209.0%7D%2C%20%22type%22%3A%20%22Feature%22%7D%2C%20%7B%22bbox%22%3A%20%5B-73.055009%2C%2043.1779833%2C%20-73.055009%2C%2043.1779833%5D%2C%20%22geometry%22%3A%20%7B%22coordinates%22%3A%20%5B-73.055009%2C%2043.1779833%5D%2C%20%22type%22%3A%20%22Point%22%7D%2C%20%22id%22%3A%20%2288%22%2C%20%22properties%22%3A%20%7B%22address%22%3A%20%224993%20Main%20St%20Ste%20A%2C%20Manchester%2C%20VT%22%2C%20%22lat%22%3A%2043.1779833%2C%20%22lon%22%3A%20-73.055009%2C%20%22pharmacy_name%22%3A%20%22Walgreen%20Eastern%20Co.%2C%20Inc.%20d/b/a%20Walgreens%20%2318020%22%2C%20%22pharmid%22%3A%20%22VT102%22%2C%20%22sat_close%22%3A%2018%2C%20%22sat_open%22%3A%209.0%2C%20%22state%22%3A%20%22VT%22%2C%20%22sun_close%22%3A%2017%2C%20%22sun_open%22%3A%209.0%2C%20%22type%22%3A%20%22chain%22%2C%20%22week_close%22%3A%2019.0%2C%20%22week_open%22%3A%209.0%7D%2C%20%22type%22%3A%20%22Feature%22%7D%2C%20%7B%22bbox%22%3A%20%5B-73.043916%2C%2043.5939257%2C%20-73.043916%2C%2043.5939257%5D%2C%20%22geometry%22%3A%20%7B%22coordinates%22%3A%20%5B-73.043916%2C%2043.5939257%5D%2C%20%22type%22%3A%20%22Point%22%7D%2C%20%22id%22%3A%20%2289%22%2C%20%22properties%22%3A%20%7B%22address%22%3A%20%22294%20Main%20St%2C%20West%20Rutland%2C%20VT%22%2C%20%22lat%22%3A%2043.5939257%2C%20%22lon%22%3A%20-73.043916%2C%20%22pharmacy_name%22%3A%20%22Walgreen%20Eastern%20Co.%2C%20Inc.%20d/b/a%20Walgreens%20%2318278%22%2C%20%22pharmid%22%3A%20%22VT101%22%2C%20%22sat_close%22%3A%2018%2C%20%22sat_open%22%3A%209.0%2C%20%22state%22%3A%20%22VT%22%2C%20%22sun_close%22%3A%2017%2C%20%22sun_open%22%3A%209.0%2C%20%22type%22%3A%20%22chain%22%2C%20%22week_close%22%3A%2019.0%2C%20%22week_open%22%3A%209.0%7D%2C%20%22type%22%3A%20%22Feature%22%7D%2C%20%7B%22bbox%22%3A%20%5B-72.561294%2C%2042.87929%2C%20-72.561294%2C%2042.87929%5D%2C%20%22geometry%22%3A%20%7B%22coordinates%22%3A%20%5B-72.561294%2C%2042.87929%5D%2C%20%22type%22%3A%20%22Point%22%7D%2C%20%22id%22%3A%20%2290%22%2C%20%22properties%22%3A%20%7B%22address%22%3A%20%22896%20Putney%20Rd%20Ste%2025%2C%20Brattleboro%2C%20VT%22%2C%20%22lat%22%3A%2042.87929%2C%20%22lon%22%3A%20-72.561294%2C%20%22pharmacy_name%22%3A%20%22Walgreens%20%2318418%22%2C%20%22pharmid%22%3A%20%22VT100%22%2C%20%22sat_close%22%3A%20-1%2C%20%22sat_open%22%3A%20-1.0%2C%20%22state%22%3A%20%22VT%22%2C%20%22sun_close%22%3A%20-1%2C%20%22sun_open%22%3A%20-1.0%2C%20%22type%22%3A%20%22chain%22%2C%20%22week_close%22%3A%2018.0%2C%20%22week_open%22%3A%2010.0%7D%2C%20%22type%22%3A%20%22Feature%22%7D%2C%20%7B%22bbox%22%3A%20%5B-73.083914%2C%2044.5071379%2C%20-73.083914%2C%2044.5071379%5D%2C%20%22geometry%22%3A%20%7B%22coordinates%22%3A%20%5B-73.083914%2C%2044.5071379%5D%2C%20%22type%22%3A%20%22Point%22%7D%2C%20%22id%22%3A%20%2291%22%2C%20%22properties%22%3A%20%7B%22address%22%3A%20%2221A%20Essex%20Way%2C%20Essex%20Junction%2C%20Vermont%2C%2005452%22%2C%20%22lat%22%3A%2044.5071379%2C%20%22lon%22%3A%20-73.083914%2C%20%22pharmacy_name%22%3A%20%22Hannaford%20%238353%22%2C%20%22pharmid%22%3A%20%22VT10%22%2C%20%22sat_close%22%3A%2018%2C%20%22sat_open%22%3A%209.0%2C%20%22state%22%3A%20%22VT%22%2C%20%22sun_close%22%3A%2017%2C%20%22sun_open%22%3A%209.0%2C%20%22type%22%3A%20%22chain%22%2C%20%22week_close%22%3A%2020.0%2C%20%22week_open%22%3A%209.0%7D%2C%20%22type%22%3A%20%22Feature%22%7D%2C%20%7B%22bbox%22%3A%20%5B-73.4749547%2C%2044.6982079%2C%20-73.4749547%2C%2044.6982079%5D%2C%20%22geometry%22%3A%20%7B%22coordinates%22%3A%20%5B-73.4749547%2C%2044.6982079%5D%2C%20%22type%22%3A%20%22Point%22%7D%2C%20%22id%22%3A%20%2292%22%2C%20%22properties%22%3A%20%7B%22address%22%3A%20%22288%20Cornelia%20St%2C%20Plattsburgh%2C%20NY%2012901%22%2C%20%22lat%22%3A%2044.6982079%2C%20%22lon%22%3A%20-73.4749547%2C%20%22pharmacy_name%22%3A%20%22Kinney%20Drugs%20%2319%22%2C%20%22pharmid%22%3A%20%22NY8%22%2C%20%22sat_close%22%3A%2018%2C%20%22sat_open%22%3A%209.0%2C%20%22state%22%3A%20%22NY%22%2C%20%22sun_close%22%3A%2016%2C%20%22sun_open%22%3A%209.0%2C%20%22type%22%3A%20%22chain%22%2C%20%22week_close%22%3A%2020.0%2C%20%22week_open%22%3A%209.0%7D%2C%20%22type%22%3A%20%22Feature%22%7D%2C%20%7B%22bbox%22%3A%20%5B-73.4384058%2C%2043.8591998%2C%20-73.4384058%2C%2043.8591998%5D%2C%20%22geometry%22%3A%20%7B%22coordinates%22%3A%20%5B-73.4384058%2C%2043.8591998%5D%2C%20%22type%22%3A%20%22Point%22%7D%2C%20%22id%22%3A%20%2293%22%2C%20%22properties%22%3A%20%7B%22address%22%3A%20%221161%20State%20Hwy%209N%2C%20Ticonderoga%2C%20NY%2012883%22%2C%20%22lat%22%3A%2043.8591998%2C%20%22lon%22%3A%20-73.4384058%2C%20%22pharmacy_name%22%3A%20%22Walgreens%20%2318030%22%2C%20%22pharmid%22%3A%20%22NY74%22%2C%20%22sat_close%22%3A%2017%2C%20%22sat_open%22%3A%209.0%2C%20%22state%22%3A%20%22NY%22%2C%20%22sun_close%22%3A%20-1%2C%20%22sun_open%22%3A%20-1.0%2C%20%22type%22%3A%20%22chain%22%2C%20%22week_close%22%3A%2018.0%2C%20%22week_open%22%3A%2010.0%7D%2C%20%22type%22%3A%20%22Feature%22%7D%2C%20%7B%22bbox%22%3A%20%5B-73.47596641%2C%2044.6966669%2C%20-73.47596641%2C%2044.6966669%5D%2C%20%22geometry%22%3A%20%7B%22coordinates%22%3A%20%5B-73.47596641%2C%2044.6966669%5D%2C%20%22type%22%3A%20%22Point%22%7D%2C%20%22id%22%3A%20%2294%22%2C%20%22properties%22%3A%20%7B%22address%22%3A%20%22301%20Cornelia%20St%2C%20Plattsburgh%2C%20NY%2012901%22%2C%20%22lat%22%3A%2044.6966669%2C%20%22lon%22%3A%20-73.47596641%2C%20%22pharmacy_name%22%3A%20%22Walgreens%22%2C%20%22pharmid%22%3A%20%22NY7%22%2C%20%22sat_close%22%3A%2018%2C%20%22sat_open%22%3A%209.0%2C%20%22state%22%3A%20%22NY%22%2C%20%22sun_close%22%3A%2018%2C%20%22sun_open%22%3A%2010.0%2C%20%22type%22%3A%20%22chain%22%2C%20%22week_close%22%3A%2021.0%2C%20%22week_open%22%3A%209.0%7D%2C%20%22type%22%3A%20%22Feature%22%7D%2C%20%7B%22bbox%22%3A%20%5B-73.4896616%2C%2044.7012349%2C%20-73.4896616%2C%2044.7012349%5D%2C%20%22geometry%22%3A%20%7B%22coordinates%22%3A%20%5B-73.4896616%2C%2044.7012349%5D%2C%20%22type%22%3A%20%22Point%22%7D%2C%20%22id%22%3A%20%2295%22%2C%20%22properties%22%3A%20%7B%22address%22%3A%20%2260%20Smithfield%20Blvd%20Suite%2049%2C%20Plattsburgh%2C%20NY%2012901%22%2C%20%22lat%22%3A%2044.7012349%2C%20%22lon%22%3A%20-73.4896616%2C%20%22pharmacy_name%22%3A%20%22CVS%22%2C%20%22pharmid%22%3A%20%22NY6%22%2C%20%22sat_close%22%3A%2017%2C%20%22sat_open%22%3A%209.0%2C%20%22state%22%3A%20%22NY%22%2C%20%22sun_close%22%3A%2018%2C%20%22sun_open%22%3A%2010.0%2C%20%22type%22%3A%20%22chain%22%2C%20%22week_close%22%3A%2020.0%2C%20%22week_open%22%3A%209.0%7D%2C%20%22type%22%3A%20%22Feature%22%7D%2C%20%7B%22bbox%22%3A%20%5B-73.49582393%2C%2044.701211%2C%20-73.49582393%2C%2044.701211%5D%2C%20%22geometry%22%3A%20%7B%22coordinates%22%3A%20%5B-73.49582393%2C%2044.701211%5D%2C%20%22type%22%3A%20%22Point%22%7D%2C%20%22id%22%3A%20%2296%22%2C%20%22properties%22%3A%20%7B%22address%22%3A%20%227%20Pyramid%20Dr%2C%20Plattsburgh%2C%20NY%2012901%22%2C%20%22lat%22%3A%2044.701211%2C%20%22lon%22%3A%20-73.49582393%2C%20%22pharmacy_name%22%3A%20%22Hannaford%22%2C%20%22pharmid%22%3A%20%22NY5%22%2C%20%22sat_close%22%3A%2016%2C%20%22sat_open%22%3A%209.5%2C%20%22state%22%3A%20%22NY%22%2C%20%22sun_close%22%3A%2014%2C%20%22sun_open%22%3A%209.5%2C%20%22type%22%3A%20%22chain%22%2C%20%22week_close%22%3A%2020.0%2C%20%22week_open%22%3A%209.0%7D%2C%20%22type%22%3A%20%22Feature%22%7D%2C%20%7B%22bbox%22%3A%20%5B-73.4924492%2C%2044.6954674%2C%20-73.4924492%2C%2044.6954674%5D%2C%20%22geometry%22%3A%20%7B%22coordinates%22%3A%20%5B-73.4924492%2C%2044.6954674%5D%2C%20%22type%22%3A%20%22Point%22%7D%2C%20%22id%22%3A%20%2297%22%2C%20%22properties%22%3A%20%7B%22address%22%3A%20%2219%20Centre%20Dr%2C%20Plattsburgh%2C%20NY%2012901%22%2C%20%22lat%22%3A%2044.6954674%2C%20%22lon%22%3A%20-73.4924492%2C%20%22pharmacy_name%22%3A%20%22Market%2032%22%2C%20%22pharmid%22%3A%20%22NY4%22%2C%20%22sat_close%22%3A%2017%2C%20%22sat_open%22%3A%208.0%2C%20%22state%22%3A%20%22NY%22%2C%20%22sun_close%22%3A%2017%2C%20%22sun_open%22%3A%208.0%2C%20%22type%22%3A%20%22chain%22%2C%20%22week_close%22%3A%2020.0%2C%20%22week_open%22%3A%208.0%7D%2C%20%22type%22%3A%20%22Feature%22%7D%2C%20%7B%22bbox%22%3A%20%5B-73.4867137%2C%2044.6921796%2C%20-73.4867137%2C%2044.6921796%5D%2C%20%22geometry%22%3A%20%7B%22coordinates%22%3A%20%5B-73.4867137%2C%2044.6921796%5D%2C%20%22type%22%3A%20%22Point%22%7D%2C%20%22id%22%3A%20%2298%22%2C%20%22properties%22%3A%20%7B%22address%22%3A%20%2225%20Consumer%20Square%2C%20Plattsburgh%2C%20NY%2012901%22%2C%20%22lat%22%3A%2044.6921796%2C%20%22lon%22%3A%20-73.4867137%2C%20%22pharmacy_name%22%3A%20%22Walmart%22%2C%20%22pharmid%22%3A%20%22NY3%22%2C%20%22sat_close%22%3A%2019%2C%20%22sat_open%22%3A%209.0%2C%20%22state%22%3A%20%22NY%22%2C%20%22sun_close%22%3A%2018%2C%20%22sun_open%22%3A%2010.0%2C%20%22type%22%3A%20%22chain%22%2C%20%22week_close%22%3A%2019.0%2C%20%22week_open%22%3A%208.0%7D%2C%20%22type%22%3A%20%22Feature%22%7D%2C%20%7B%22bbox%22%3A%20%5B-73.37577787%2C%2043.0279462%2C%20-73.37577787%2C%2043.0279462%5D%2C%20%22geometry%22%3A%20%7B%22coordinates%22%3A%20%5B-73.37577787%2C%2043.0279462%5D%2C%20%22type%22%3A%20%22Point%22%7D%2C%20%22id%22%3A%20%2299%22%2C%20%22properties%22%3A%20%7B%22address%22%3A%20%222%20N%20Park%20St%2C%20Cambridge%2C%20NY%2012816%22%2C%20%22lat%22%3A%2043.0279462%2C%20%22lon%22%3A%20-73.37577787%2C%20%22pharmacy_name%22%3A%20%22Walgreens%20%2318207%22%2C%20%22pharmid%22%3A%20%22NY24%22%2C%20%22sat_close%22%3A%2018%2C%20%22sat_open%22%3A%209.0%2C%20%22state%22%3A%20%22NY%22%2C%20%22sun_close%22%3A%2018%2C%20%22sun_open%22%3A%2010.0%2C%20%22type%22%3A%20%22chain%22%2C%20%22week_close%22%3A%2020.0%2C%20%22week_open%22%3A%209.0%7D%2C%20%22type%22%3A%20%22Feature%22%7D%2C%20%7B%22bbox%22%3A%20%5B-73.2639694%2C%2043.39569325%2C%20-73.2639694%2C%2043.39569325%5D%2C%20%22geometry%22%3A%20%7B%22coordinates%22%3A%20%5B-73.2639694%2C%2043.39569325%5D%2C%20%22type%22%3A%20%22Point%22%7D%2C%20%22id%22%3A%20%22100%22%2C%20%22properties%22%3A%20%7B%22address%22%3A%20%22116%20Quaker%20St%2C%20Granville%2C%20NY%2012832%22%2C%20%22lat%22%3A%2043.39569325%2C%20%22lon%22%3A%20-73.2639694%2C%20%22pharmacy_name%22%3A%20%22Walgreens%20%2317717%22%2C%20%22pharmid%22%3A%20%22NY22%22%2C%20%22sat_close%22%3A%2018%2C%20%22sat_open%22%3A%209.0%2C%20%22state%22%3A%20%22NY%22%2C%20%22sun_close%22%3A%2017%2C%20%22sun_open%22%3A%209.0%2C%20%22type%22%3A%20%22chain%22%2C%20%22week_close%22%3A%2021.0%2C%20%22week_open%22%3A%209.0%7D%2C%20%22type%22%3A%20%22Feature%22%7D%2C%20%7B%22bbox%22%3A%20%5B-73.4065251%2C%2043.5477235%2C%20-73.4065251%2C%2043.5477235%5D%2C%20%22geometry%22%3A%20%7B%22coordinates%22%3A%20%5B-73.4065251%2C%2043.5477235%5D%2C%20%22type%22%3A%20%22Point%22%7D%2C%20%22id%22%3A%20%22101%22%2C%20%22properties%22%3A%20%7B%22address%22%3A%20%22170%20Broadway%20SUITE%201%2C%20Whitehall%2C%20NY%2012887%22%2C%20%22lat%22%3A%2043.5477235%2C%20%22lon%22%3A%20-73.4065251%2C%20%22pharmacy_name%22%3A%20%22CVS%20%235166%22%2C%20%22pharmid%22%3A%20%22NY20%22%2C%20%22sat_close%22%3A%2018%2C%20%22sat_open%22%3A%2010.0%2C%20%22state%22%3A%20%22NY%22%2C%20%22sun_close%22%3A%2017%2C%20%22sun_open%22%3A%2011.0%2C%20%22type%22%3A%20%22chain%22%2C%20%22week_close%22%3A%2019.0%2C%20%22week_open%22%3A%209.0%7D%2C%20%22type%22%3A%20%22Feature%22%7D%2C%20%7B%22bbox%22%3A%20%5B-73.4438493%2C%2044.9792752%2C%20-73.4438493%2C%2044.9792752%5D%2C%20%22geometry%22%3A%20%7B%22coordinates%22%3A%20%5B-73.4438493%2C%2044.9792752%5D%2C%20%22type%22%3A%20%22Point%22%7D%2C%20%22id%22%3A%20%22102%22%2C%20%22properties%22%3A%20%7B%22address%22%3A%20%22868%20US-11%2C%20Champlain%2C%20NY%2012919%22%2C%20%22lat%22%3A%2044.9792752%2C%20%22lon%22%3A%20-73.4438493%2C%20%22pharmacy_name%22%3A%20%22Kinney%20Drugs%20%2352%22%2C%20%22pharmid%22%3A%20%22NY2%22%2C%20%22sat_close%22%3A%2018%2C%20%22sat_open%22%3A%209.0%2C%20%22state%22%3A%20%22NY%22%2C%20%22sun_close%22%3A%2013%2C%20%22sun_open%22%3A%209.0%2C%20%22type%22%3A%20%22chain%22%2C%20%22week_close%22%3A%2020.0%2C%20%22week_open%22%3A%209.0%7D%2C%20%22type%22%3A%20%22Feature%22%7D%2C%20%7B%22bbox%22%3A%20%5B-73.43325492%2C%2043.8570136%2C%20-73.43325492%2C%2043.8570136%5D%2C%20%22geometry%22%3A%20%7B%22coordinates%22%3A%20%5B-73.43325492%2C%2043.8570136%5D%2C%20%22type%22%3A%20%22Point%22%7D%2C%20%22id%22%3A%20%22103%22%2C%20%22properties%22%3A%20%7B%22address%22%3A%20%221134%20Wicker%20St%2C%20Ticonderoga%2C%20NY%2012883%22%2C%20%22lat%22%3A%2043.8570136%2C%20%22lon%22%3A%20-73.43325492%2C%20%22pharmacy_name%22%3A%20%22Walmart%20%232424%22%2C%20%22pharmid%22%3A%20%22NY19%22%2C%20%22sat_close%22%3A%2019%2C%20%22sat_open%22%3A%209.0%2C%20%22state%22%3A%20%22NY%22%2C%20%22sun_close%22%3A%2018%2C%20%22sun_open%22%3A%2010.0%2C%20%22type%22%3A%20%22chain%22%2C%20%22week_close%22%3A%2019.0%2C%20%22week_open%22%3A%209.0%7D%2C%20%22type%22%3A%20%22Feature%22%7D%2C%20%7B%22bbox%22%3A%20%5B-73.525712%2C%2044.5770042%2C%20-73.525712%2C%2044.5770042%5D%2C%20%22geometry%22%3A%20%7B%22coordinates%22%3A%20%5B-73.525712%2C%2044.5770042%5D%2C%20%22type%22%3A%20%22Point%22%7D%2C%20%22id%22%3A%20%22104%22%2C%20%22properties%22%3A%20%7B%22address%22%3A%20%223%20Gorman%20Way%2C%20Peru%2C%20NY%2012972%22%2C%20%22lat%22%3A%2044.5770042%2C%20%22lon%22%3A%20-73.525712%2C%20%22pharmacy_name%22%3A%20%22Kinney%20Drugs%20%23121%22%2C%20%22pharmid%22%3A%20%22NY15%22%2C%20%22sat_close%22%3A%2015%2C%20%22sat_open%22%3A%209.0%2C%20%22state%22%3A%20%22NY%22%2C%20%22sun_close%22%3A%2013%2C%20%22sun_open%22%3A%209.0%2C%20%22type%22%3A%20%22chain%22%2C%20%22week_close%22%3A%2019.0%2C%20%22week_open%22%3A%209.0%7D%2C%20%22type%22%3A%20%22Feature%22%7D%2C%20%7B%22bbox%22%3A%20%5B-73.53598757%2C%2044.696942%2C%20-73.53598757%2C%2044.696942%5D%2C%20%22geometry%22%3A%20%7B%22coordinates%22%3A%20%5B-73.53598757%2C%2044.696942%5D%2C%20%22type%22%3A%20%22Point%22%7D%2C%20%22id%22%3A%20%22105%22%2C%20%22properties%22%3A%20%7B%22address%22%3A%20%222155%20NY-22B%2C%20Morrisonville%2C%20NY%2012962%22%2C%20%22lat%22%3A%2044.696942%2C%20%22lon%22%3A%20-73.53598757%2C%20%22pharmacy_name%22%3A%20%22Genoa%20Healthcare%22%2C%20%22pharmid%22%3A%20%22NY14%22%2C%20%22sat_close%22%3A%20-1%2C%20%22sat_open%22%3A%20-1.0%2C%20%22state%22%3A%20%22NY%22%2C%20%22sun_close%22%3A%20-1%2C%20%22sun_open%22%3A%20-1.0%2C%20%22type%22%3A%20%22chain%22%2C%20%22week_close%22%3A%2017.0%2C%20%22week_open%22%3A%208.5%7D%2C%20%22type%22%3A%20%22Feature%22%7D%2C%20%7B%22bbox%22%3A%20%5B-73.45173541%2C%2044.6785206%2C%20-73.45173541%2C%2044.6785206%5D%2C%20%22geometry%22%3A%20%7B%22coordinates%22%3A%20%5B-73.45173541%2C%2044.6785206%5D%2C%20%22type%22%3A%20%22Point%22%7D%2C%20%22id%22%3A%20%22106%22%2C%20%22properties%22%3A%20%7B%22address%22%3A%20%22112%20New%20York%20Rd%2C%20Plattsburgh%2C%20NY%2012901%22%2C%20%22lat%22%3A%2044.6785206%2C%20%22lon%22%3A%20-73.45173541%2C%20%22pharmacy_name%22%3A%20%22Kinney%20Drugs%20%2359%22%2C%20%22pharmid%22%3A%20%22NY13%22%2C%20%22sat_close%22%3A%2017%2C%20%22sat_open%22%3A%209.0%2C%20%22state%22%3A%20%22NY%22%2C%20%22sun_close%22%3A%2016%2C%20%22sun_open%22%3A%209.0%2C%20%22type%22%3A%20%22chain%22%2C%20%22week_close%22%3A%2020.0%2C%20%22week_open%22%3A%209.0%7D%2C%20%22type%22%3A%20%22Feature%22%7D%2C%20%7B%22bbox%22%3A%20%5B-73.45622125%2C%2044.7092305%2C%20-73.45622125%2C%2044.7092305%5D%2C%20%22geometry%22%3A%20%7B%22coordinates%22%3A%20%5B-73.45622125%2C%2044.7092305%5D%2C%20%22type%22%3A%20%22Point%22%7D%2C%20%22id%22%3A%20%22107%22%2C%20%22properties%22%3A%20%7B%22address%22%3A%20%226%20Veterans%20Ln%2C%20Plattsburgh%2C%20NY%2012901%22%2C%20%22lat%22%3A%2044.7092305%2C%20%22lon%22%3A%20-73.45622125%2C%20%22pharmacy_name%22%3A%20%22Kinney%20Drugs%20%2340%22%2C%20%22pharmid%22%3A%20%22NY11%22%2C%20%22sat_close%22%3A%2018%2C%20%22sat_open%22%3A%209.0%2C%20%22state%22%3A%20%22NY%22%2C%20%22sun_close%22%3A%2016%2C%20%22sun_open%22%3A%209.0%2C%20%22type%22%3A%20%22chain%22%2C%20%22week_close%22%3A%2020.0%2C%20%22week_open%22%3A%209.0%7D%2C%20%22type%22%3A%20%22Feature%22%7D%2C%20%7B%22bbox%22%3A%20%5B-73.51592575%2C%2044.6948198%2C%20-73.51592575%2C%2044.6948198%5D%2C%20%22geometry%22%3A%20%7B%22coordinates%22%3A%20%5B-73.51592575%2C%2044.6948198%5D%2C%20%22type%22%3A%20%22Point%22%7D%2C%20%22id%22%3A%20%22108%22%2C%20%22properties%22%3A%20%7B%22address%22%3A%20%221588%20Military%20Turnpike%2C%20Plattsburgh%2C%20NY%2012901%22%2C%20%22lat%22%3A%2044.6948198%2C%20%22lon%22%3A%20-73.51592575%2C%20%22pharmacy_name%22%3A%20%22Kinney%20Drugs%20%2350%22%2C%20%22pharmid%22%3A%20%22NY10%22%2C%20%22sat_close%22%3A%2018%2C%20%22sat_open%22%3A%209.0%2C%20%22state%22%3A%20%22NY%22%2C%20%22sun_close%22%3A%2016%2C%20%22sun_open%22%3A%209.0%2C%20%22type%22%3A%20%22chain%22%2C%20%22week_close%22%3A%2020.0%2C%20%22week_open%22%3A%209.0%7D%2C%20%22type%22%3A%20%22Feature%22%7D%2C%20%7B%22bbox%22%3A%20%5B-72.2748319%2C%2042.9327387%2C%20-72.2748319%2C%2042.9327387%5D%2C%20%22geometry%22%3A%20%7B%22coordinates%22%3A%20%5B-72.2748319%2C%2042.9327387%5D%2C%20%22type%22%3A%20%22Point%22%7D%2C%20%22id%22%3A%20%22109%22%2C%20%22properties%22%3A%20%7B%22address%22%3A%20%2217%20Ninety%20Third%20St%20%23234%2C%20Keene%2C%20NH%2003431%22%2C%20%22lat%22%3A%2042.9327387%2C%20%22lon%22%3A%20-72.2748319%2C%20%22pharmacy_name%22%3A%20%22Genoa%20Healthcare%22%2C%20%22pharmid%22%3A%20%22NH75%22%2C%20%22sat_close%22%3A%20-1%2C%20%22sat_open%22%3A%20-1.0%2C%20%22state%22%3A%20%22NH%22%2C%20%22sun_close%22%3A%20-1%2C%20%22sun_open%22%3A%20-1.0%2C%20%22type%22%3A%20%22chain%22%2C%20%22week_close%22%3A%2017.0%2C%20%22week_open%22%3A%208.5%7D%2C%20%22type%22%3A%20%22Feature%22%7D%2C%20%7B%22bbox%22%3A%20%5B-72.4290752%2C%2043.1063171%2C%20-72.4290752%2C%2043.1063171%5D%2C%20%22geometry%22%3A%20%7B%22coordinates%22%3A%20%5B-72.4290752%2C%2043.1063171%5D%2C%20%22type%22%3A%20%22Point%22%7D%2C%20%22id%22%3A%20%22110%22%2C%20%22properties%22%3A%20%7B%22address%22%3A%20%2214%20Pinnacle%20Ln%2C%20Walpole%2C%20NH%2003608%22%2C%20%22lat%22%3A%2043.1063171%2C%20%22lon%22%3A%20-72.4290752%2C%20%22pharmacy_name%22%3A%20%22Walgreens%20%2311985%22%2C%20%22pharmid%22%3A%20%22NH73%22%2C%20%22sat_close%22%3A%2021%2C%20%22sat_open%22%3A%209.0%2C%20%22state%22%3A%20%22NH%22%2C%20%22sun_close%22%3A%2021%2C%20%22sun_open%22%3A%209.0%2C%20%22type%22%3A%20%22chain%22%2C%20%22week_close%22%3A%2021.0%2C%20%22week_open%22%3A%209.0%7D%2C%20%22type%22%3A%20%22Feature%22%7D%2C%20%7B%22bbox%22%3A%20%5B-71.4974435%2C%2044.8923205%2C%20-71.4974435%2C%2044.8923205%5D%2C%20%22geometry%22%3A%20%7B%22coordinates%22%3A%20%5B-71.4974435%2C%2044.8923205%5D%2C%20%22type%22%3A%20%22Point%22%7D%2C%20%22id%22%3A%20%22111%22%2C%20%22properties%22%3A%20%7B%22address%22%3A%20%2291%20Main%20St%2C%20Colebrook%2C%20NH%2003576%22%2C%20%22lat%22%3A%2044.8923205%2C%20%22lon%22%3A%20-71.4974435%2C%20%22pharmacy_name%22%3A%20%22Walgreens%20%2319398%22%2C%20%22pharmid%22%3A%20%22NH71%22%2C%20%22sat_close%22%3A%2016%2C%20%22sat_open%22%3A%2010.0%2C%20%22state%22%3A%20%22NH%22%2C%20%22sun_close%22%3A%20-1%2C%20%22sun_open%22%3A%20-1.0%2C%20%22type%22%3A%20%22chain%22%2C%20%22week_close%22%3A%2018.0%2C%20%22week_open%22%3A%209.0%7D%2C%20%22type%22%3A%20%22Feature%22%7D%2C%20%7B%22bbox%22%3A%20%5B-71.57198765%2C%2044.49430925%2C%20-71.57198765%2C%2044.49430925%5D%2C%20%22geometry%22%3A%20%7B%22coordinates%22%3A%20%5B-71.57198765%2C%2044.49430925%5D%2C%20%22type%22%3A%20%22Point%22%7D%2C%20%22id%22%3A%20%22112%22%2C%20%22properties%22%3A%20%7B%22address%22%3A%20%22177%20Main%20St%2C%20Lancaster%2C%20NH%2003584%22%2C%20%22lat%22%3A%2044.49430925%2C%20%22lon%22%3A%20-71.57198765%2C%20%22pharmacy_name%22%3A%20%22Walgreens%20%20%2317167%22%2C%20%22pharmid%22%3A%20%22NH69%22%2C%20%22sat_close%22%3A%2017%2C%20%22sat_open%22%3A%209.0%2C%20%22state%22%3A%20%22NH%22%2C%20%22sun_close%22%3A%2017%2C%20%22sun_open%22%3A%209.0%2C%20%22type%22%3A%20%22chain%22%2C%20%22week_close%22%3A%2020.0%2C%20%22week_open%22%3A%209.0%7D%2C%20%22type%22%3A%20%22Feature%22%7D%2C%20%7B%22bbox%22%3A%20%5B-71.78630594%2C%2044.30909665%2C%20-71.78630594%2C%2044.30909665%5D%2C%20%22geometry%22%3A%20%7B%22coordinates%22%3A%20%5B-71.78630594%2C%2044.30909665%5D%2C%20%22type%22%3A%20%22Point%22%7D%2C%20%22id%22%3A%20%22113%22%2C%20%22properties%22%3A%20%7B%22address%22%3A%20%22136%20Meadow%20St%2C%20Littleton%2C%20NH%2003561%22%2C%20%22lat%22%3A%2044.30909665%2C%20%22lon%22%3A%20-71.78630594%2C%20%22pharmacy_name%22%3A%20%22Rite%20Aid%20%2304182%22%2C%20%22pharmid%22%3A%20%22NH67%22%2C%20%22sat_close%22%3A%2018%2C%20%22sat_open%22%3A%209.0%2C%20%22state%22%3A%20%22NH%22%2C%20%22sun_close%22%3A%2017%2C%20%22sun_open%22%3A%209.0%2C%20%22type%22%3A%20%22chain%22%2C%20%22week_close%22%3A%2020.0%2C%20%22week_open%22%3A%208.0%7D%2C%20%22type%22%3A%20%22Feature%22%7D%2C%20%7B%22bbox%22%3A%20%5B-71.7978151%2C%2044.3091189%2C%20-71.7978151%2C%2044.3091189%5D%2C%20%22geometry%22%3A%20%7B%22coordinates%22%3A%20%5B-71.7978151%2C%2044.3091189%5D%2C%20%22type%22%3A%20%22Point%22%7D%2C%20%22id%22%3A%20%22114%22%2C%20%22properties%22%3A%20%7B%22address%22%3A%20%22274%20Dells%20Rd%2C%20Littleton%2C%20NH%2003561%22%2C%20%22lat%22%3A%2044.3091189%2C%20%22lon%22%3A%20-71.7978151%2C%20%22pharmacy_name%22%3A%20%22Walgreens%20%2310410%22%2C%20%22pharmid%22%3A%20%22NH66%22%2C%20%22sat_close%22%3A%2017%2C%20%22sat_open%22%3A%209.0%2C%20%22state%22%3A%20%22NH%22%2C%20%22sun_close%22%3A%2017%2C%20%22sun_open%22%3A%209.0%2C%20%22type%22%3A%20%22chain%22%2C%20%22week_close%22%3A%2019.0%2C%20%22week_open%22%3A%209.0%7D%2C%20%22type%22%3A%20%22Feature%22%7D%2C%20%7B%22bbox%22%3A%20%5B-71.7985431%2C%2044.3042178%2C%20-71.7985431%2C%2044.3042178%5D%2C%20%22geometry%22%3A%20%7B%22coordinates%22%3A%20%5B-71.7985431%2C%2044.3042178%5D%2C%20%22type%22%3A%20%22Point%22%7D%2C%20%22id%22%3A%20%22115%22%2C%20%22properties%22%3A%20%7B%22address%22%3A%20%22615%20Meadow%20St%2C%20Littleton%2C%20NH%2003561%22%2C%20%22lat%22%3A%2044.3042178%2C%20%22lon%22%3A%20-71.7985431%2C%20%22pharmacy_name%22%3A%20%22Walmart%20%232681%22%2C%20%22pharmid%22%3A%20%22NH65%22%2C%20%22sat_close%22%3A%2018%2C%20%22sat_open%22%3A%209.0%2C%20%22state%22%3A%20%22NH%22%2C%20%22sun_close%22%3A%2018%2C%20%22sun_open%22%3A%2010.0%2C%20%22type%22%3A%20%22chain%22%2C%20%22week_close%22%3A%2019.0%2C%20%22week_open%22%3A%208.0%7D%2C%20%22type%22%3A%20%22Feature%22%7D%2C%20%7B%22bbox%22%3A%20%5B-71.80154151%2C%2044.30290545%2C%20-71.80154151%2C%2044.30290545%5D%2C%20%22geometry%22%3A%20%7B%22coordinates%22%3A%20%5B-71.80154151%2C%2044.30290545%5D%2C%20%22type%22%3A%20%22Point%22%7D%2C%20%22id%22%3A%20%22116%22%2C%20%22properties%22%3A%20%7B%22address%22%3A%20%22625%20Meadow%20St%2C%20Littleton%2C%20NH%2003561%22%2C%20%22lat%22%3A%2044.30290545%2C%20%22lon%22%3A%20-71.80154151%2C%20%22pharmacy_name%22%3A%20%22Shaws%20/%20Osco%22%2C%20%22pharmid%22%3A%20%22NH64%22%2C%20%22sat_close%22%3A%2017%2C%20%22sat_open%22%3A%209.0%2C%20%22state%22%3A%20%22NH%22%2C%20%22sun_close%22%3A%2017%2C%20%22sun_open%22%3A%2010.0%2C%20%22type%22%3A%20%22chain%22%2C%20%22week_close%22%3A%2020.0%2C%20%22week_open%22%3A%209.0%7D%2C%20%22type%22%3A%20%22Feature%22%7D%2C%20%7B%22bbox%22%3A%20%5B-72.02917278%2C%2044.1443803%2C%20-72.02917278%2C%2044.1443803%5D%2C%20%22geometry%22%3A%20%7B%22coordinates%22%3A%20%5B-72.02917278%2C%2044.1443803%5D%2C%20%22type%22%3A%20%22Point%22%7D%2C%20%22id%22%3A%20%22117%22%2C%20%22properties%22%3A%20%7B%22address%22%3A%20%2215%20Forest%20St%2C%20Woodsville%2C%20NH%2003785%22%2C%20%22lat%22%3A%2044.1443803%2C%20%22lon%22%3A%20-72.02917278%2C%20%22pharmacy_name%22%3A%20%22Shaws%20/%20Osco%22%2C%20%22pharmid%22%3A%20%22NH63%22%2C%20%22sat_close%22%3A%2017%2C%20%22sat_open%22%3A%209.0%2C%20%22state%22%3A%20%22NH%22%2C%20%22sun_close%22%3A%2017%2C%20%22sun_open%22%3A%2010.0%2C%20%22type%22%3A%20%22chain%22%2C%20%22week_close%22%3A%2019.0%2C%20%22week_open%22%3A%208.0%7D%2C%20%22type%22%3A%20%22Feature%22%7D%2C%20%7B%22bbox%22%3A%20%5B-72.0267492%2C%2044.1409177%2C%20-72.0267492%2C%2044.1409177%5D%2C%20%22geometry%22%3A%20%7B%22coordinates%22%3A%20%5B-72.0267492%2C%2044.1409177%5D%2C%20%22type%22%3A%20%22Point%22%7D%2C%20%22id%22%3A%20%22118%22%2C%20%22properties%22%3A%20%7B%22address%22%3A%20%224901%20Dartmouth%20College%20Hwy%2C%20Woodsville%2C%20NH%2003785%22%2C%20%22lat%22%3A%2044.1409177%2C%20%22lon%22%3A%20-72.0267492%2C%20%22pharmacy_name%22%3A%20%22Walmart%20%234389%22%2C%20%22pharmid%22%3A%20%22NH62%22%2C%20%22sat_close%22%3A%2019%2C%20%22sat_open%22%3A%209.0%2C%20%22state%22%3A%20%22NH%22%2C%20%22sun_close%22%3A%2018%2C%20%22sun_open%22%3A%2010.0%2C%20%22type%22%3A%20%22chain%22%2C%20%22week_close%22%3A%2019.0%2C%20%22week_open%22%3A%208.0%7D%2C%20%22type%22%3A%20%22Feature%22%7D%2C%20%7B%22bbox%22%3A%20%5B-72.2905548%2C%2043.6995702%2C%20-72.2905548%2C%2043.6995702%5D%2C%20%22geometry%22%3A%20%7B%22coordinates%22%3A%20%5B-72.2905548%2C%2043.6995702%5D%2C%20%22type%22%3A%20%22Point%22%7D%2C%20%22id%22%3A%20%22119%22%2C%20%22properties%22%3A%20%7B%22address%22%3A%20%2279%20S%20Main%20St%2C%20Hanover%2C%20NH%2003755%22%2C%20%22lat%22%3A%2043.6995702%2C%20%22lon%22%3A%20-72.2905548%2C%20%22pharmacy_name%22%3A%20%22CVS%20%235938%22%2C%20%22pharmid%22%3A%20%22NH61%22%2C%20%22sat_close%22%3A%2017%2C%20%22sat_open%22%3A%2010.0%2C%20%22state%22%3A%20%22NH%22%2C%20%22sun_close%22%3A%2017%2C%20%22sun_open%22%3A%2010.0%2C%20%22type%22%3A%20%22chain%22%2C%20%22week_close%22%3A%2020.0%2C%20%22week_open%22%3A%209.0%7D%2C%20%22type%22%3A%20%22Feature%22%7D%2C%20%7B%22bbox%22%3A%20%5B-72.2879924%2C%2043.6368107%2C%20-72.2879924%2C%2043.6368107%5D%2C%20%22geometry%22%3A%20%7B%22coordinates%22%3A%20%5B-72.2879924%2C%2043.6368107%5D%2C%20%22type%22%3A%20%22Point%22%7D%2C%20%22id%22%3A%20%22120%22%2C%20%22properties%22%3A%20%7B%22address%22%3A%20%22370%20Miracle%20Mile%2C%20Lebanon%2C%20NH%2003766%22%2C%20%22lat%22%3A%2043.6368107%2C%20%22lon%22%3A%20-72.2879924%2C%20%22pharmacy_name%22%3A%20%22Price%20Chopper%20%23227%22%2C%20%22pharmid%22%3A%20%22NH59%22%2C%20%22sat_close%22%3A%2017%2C%20%22sat_open%22%3A%209.0%2C%20%22state%22%3A%20%22NH%22%2C%20%22sun_close%22%3A%2015%2C%20%22sun_open%22%3A%209.0%2C%20%22type%22%3A%20%22chain%22%2C%20%22week_close%22%3A%2019.0%2C%20%22week_open%22%3A%209.0%7D%2C%20%22type%22%3A%20%22Feature%22%7D%2C%20%7B%22bbox%22%3A%20%5B-72.3175645%2C%2043.6362498%2C%20-72.3175645%2C%2043.6362498%5D%2C%20%22geometry%22%3A%20%7B%22coordinates%22%3A%20%5B-72.3175645%2C%2043.6362498%5D%2C%20%22type%22%3A%20%22Point%22%7D%2C%20%22id%22%3A%20%22121%22%2C%20%22properties%22%3A%20%7B%22address%22%3A%20%228%20Market%20St%2C%20West%20Lebanon%2C%20NH%2003784%22%2C%20%22lat%22%3A%2043.6362498%2C%20%22lon%22%3A%20-72.3175645%2C%20%22pharmacy_name%22%3A%20%22Hannaford%22%2C%20%22pharmid%22%3A%20%22NH58%22%2C%20%22sat_close%22%3A%2016%2C%20%22sat_open%22%3A%209.5%2C%20%22state%22%3A%20%22NH%22%2C%20%22sun_close%22%3A%2014%2C%20%22sun_open%22%3A%209.5%2C%20%22type%22%3A%20%22chain%22%2C%20%22week_close%22%3A%2020.0%2C%20%22week_open%22%3A%209.0%7D%2C%20%22type%22%3A%20%22Feature%22%7D%2C%20%7B%22bbox%22%3A%20%5B-72.3103149%2C%2043.6477914%2C%20-72.3103149%2C%2043.6477914%5D%2C%20%22geometry%22%3A%20%7B%22coordinates%22%3A%20%5B-72.3103149%2C%2043.6477914%5D%2C%20%22type%22%3A%20%22Point%22%7D%2C%20%22id%22%3A%20%22122%22%2C%20%22properties%22%3A%20%7B%22address%22%3A%20%22200%20S%20Main%20St%2C%20West%20Lebanon%2C%20NH%2003784%22%2C%20%22lat%22%3A%2043.6477914%2C%20%22lon%22%3A%20-72.3103149%2C%20%22pharmacy_name%22%3A%20%22CVS%20%2317827%22%2C%20%22pharmid%22%3A%20%22NH57%22%2C%20%22sat_close%22%3A%20-1%2C%20%22sat_open%22%3A%20-1.0%2C%20%22state%22%3A%20%22NH%22%2C%20%22sun_close%22%3A%20-1%2C%20%22sun_open%22%3A%20-1.0%2C%20%22type%22%3A%20%22chain%22%2C%20%22week_close%22%3A%2017.0%2C%20%22week_open%22%3A%209.0%7D%2C%20%22type%22%3A%20%22Feature%22%7D%2C%20%7B%22bbox%22%3A%20%5B-72.3160927%2C%2043.6318065%2C%20-72.3160927%2C%2043.6318065%5D%2C%20%22geometry%22%3A%20%7B%22coordinates%22%3A%20%5B-72.3160927%2C%2043.6318065%5D%2C%20%22type%22%3A%20%22Point%22%7D%2C%20%22id%22%3A%20%22123%22%2C%20%22properties%22%3A%20%7B%22address%22%3A%20%2210%20Benning%20St%2C%20West%20Lebanon%2C%20NH%2003784%22%2C%20%22lat%22%3A%2043.6318065%2C%20%22lon%22%3A%20-72.3160927%2C%20%22pharmacy_name%22%3A%20%22Rite%20Aid%20%2310289%22%2C%20%22pharmid%22%3A%20%22NH56%22%2C%20%22sat_close%22%3A%2017%2C%20%22sat_open%22%3A%209.0%2C%20%22state%22%3A%20%22NH%22%2C%20%22sun_close%22%3A%2017%2C%20%22sun_open%22%3A%209.0%2C%20%22type%22%3A%20%22chain%22%2C%20%22week_close%22%3A%2020.0%2C%20%22week_open%22%3A%208.0%7D%2C%20%22type%22%3A%20%22Feature%22%7D%2C%20%7B%22bbox%22%3A%20%5B-72.32073674%2C%2043.6300465%2C%20-72.32073674%2C%2043.6300465%5D%2C%20%22geometry%22%3A%20%7B%22coordinates%22%3A%20%5B-72.32073674%2C%2043.6300465%5D%2C%20%22type%22%3A%20%22Point%22%7D%2C%20%22id%22%3A%20%22124%22%2C%20%22properties%22%3A%20%7B%22address%22%3A%20%223%20Airport%20Rd%2C%20West%20Lebanon%2C%20NH%2003784%22%2C%20%22lat%22%3A%2043.6300465%2C%20%22lon%22%3A%20-72.32073674%2C%20%22pharmacy_name%22%3A%20%22Walgreens%20%239177%22%2C%20%22pharmid%22%3A%20%22NH55%22%2C%20%22sat_close%22%3A%2018%2C%20%22sat_open%22%3A%209.0%2C%20%22state%22%3A%20%22NH%22%2C%20%22sun_close%22%3A%2018%2C%20%22sun_open%22%3A%2010.0%2C%20%22type%22%3A%20%22chain%22%2C%20%22week_close%22%3A%2020.0%2C%20%22week_open%22%3A%209.0%7D%2C%20%22type%22%3A%20%22Feature%22%7D%2C%20%7B%22bbox%22%3A%20%5B-72.32394162%2C%2043.6291636%2C%20-72.32394162%2C%2043.6291636%5D%2C%20%22geometry%22%3A%20%7B%22coordinates%22%3A%20%5B-72.32394162%2C%2043.6291636%5D%2C%20%22type%22%3A%20%22Point%22%7D%2C%20%22id%22%3A%20%22125%22%2C%20%22properties%22%3A%20%7B%22address%22%3A%20%22250%20N%20Plainfield%20Rd%2C%20West%20Lebanon%2C%20NH%2003784%22%2C%20%22lat%22%3A%2043.6291636%2C%20%22lon%22%3A%20-72.32394162%2C%20%22pharmacy_name%22%3A%20%22CVS%20pharmacy%20%23647%22%2C%20%22pharmid%22%3A%20%22NH54%22%2C%20%22sat_close%22%3A%2021%2C%20%22sat_open%22%3A%208.0%2C%20%22state%22%3A%20%22NH%22%2C%20%22sun_close%22%3A%2021%2C%20%22sun_open%22%3A%208.0%2C%20%22type%22%3A%20%22chain%22%2C%20%22week_close%22%3A%2021.0%2C%20%22week_open%22%3A%208.0%7D%2C%20%22type%22%3A%20%22Feature%22%7D%2C%20%7B%22bbox%22%3A%20%5B-72.3247052%2C%2043.6230728%2C%20-72.3247052%2C%2043.6230728%5D%2C%20%22geometry%22%3A%20%7B%22coordinates%22%3A%20%5B-72.3247052%2C%2043.6230728%5D%2C%20%22type%22%3A%20%22Point%22%7D%2C%20%22id%22%3A%20%22126%22%2C%20%22properties%22%3A%20%7B%22address%22%3A%20%22285%20N%20Plainfield%20Rd%2C%20West%20Lebanon%2C%20NH%2003784%22%2C%20%22lat%22%3A%2043.6230728%2C%20%22lon%22%3A%20-72.3247052%2C%20%22pharmacy_name%22%3A%20%22Walmart%20Pharmacy%20%232138%22%2C%20%22pharmid%22%3A%20%22NH53%22%2C%20%22sat_close%22%3A%2018%2C%20%22sat_open%22%3A%209.0%2C%20%22state%22%3A%20%22NH%22%2C%20%22sun_close%22%3A%2018%2C%20%22sun_open%22%3A%2010.0%2C%20%22type%22%3A%20%22chain%22%2C%20%22week_close%22%3A%2019.0%2C%20%22week_open%22%3A%208.0%7D%2C%20%22type%22%3A%20%22Feature%22%7D%2C%20%7B%22bbox%22%3A%20%5B-72.32899039%2C%2043.3779035%2C%20-72.32899039%2C%2043.3779035%5D%2C%20%22geometry%22%3A%20%7B%22coordinates%22%3A%20%5B-72.32899039%2C%2043.3779035%5D%2C%20%22type%22%3A%20%22Point%22%7D%2C%20%22id%22%3A%20%22127%22%2C%20%22properties%22%3A%20%7B%22address%22%3A%20%2214%20Bowen%20St%2C%20Claremont%2C%20NH%2003743%22%2C%20%22lat%22%3A%2043.3779035%2C%20%22lon%22%3A%20-72.32899039%2C%20%22pharmacy_name%22%3A%20%22Walmart%20%231975%22%2C%20%22pharmid%22%3A%20%22NH52%22%2C%20%22sat_close%22%3A%2019%2C%20%22sat_open%22%3A%209.0%2C%20%22state%22%3A%20%22NH%22%2C%20%22sun_close%22%3A%2018%2C%20%22sun_open%22%3A%2010.0%2C%20%22type%22%3A%20%22chain%22%2C%20%22week_close%22%3A%2019.0%2C%20%22week_open%22%3A%208.0%7D%2C%20%22type%22%3A%20%22Feature%22%7D%2C%20%7B%22bbox%22%3A%20%5B-72.334446%2C%2043.373194%2C%20-72.334446%2C%2043.373194%5D%2C%20%22geometry%22%3A%20%7B%22coordinates%22%3A%20%5B-72.334446%2C%2043.373194%5D%2C%20%22type%22%3A%20%22Point%22%7D%2C%20%22id%22%3A%20%22128%22%2C%20%22properties%22%3A%20%7B%22address%22%3A%20%221%20Wall%20St%2C%20Claremont%2C%20NH%2003743%22%2C%20%22lat%22%3A%2043.373194%2C%20%22lon%22%3A%20-72.334446%2C%20%22pharmacy_name%22%3A%20%22CVS%20Pharmacy%20%235347%22%2C%20%22pharmid%22%3A%20%22NH51%22%2C%20%22sat_close%22%3A%2017%2C%20%22sat_open%22%3A%2010.0%2C%20%22state%22%3A%20%22NH%22%2C%20%22sun_close%22%3A%2017%2C%20%22sun_open%22%3A%2010.0%2C%20%22type%22%3A%20%22chain%22%2C%20%22week_close%22%3A%2019.0%2C%20%22week_open%22%3A%209.0%7D%2C%20%22type%22%3A%20%22Feature%22%7D%2C%20%7B%22bbox%22%3A%20%5B-72.33893009%2C%2043.37153002%2C%20-72.33893009%2C%2043.37153002%5D%2C%20%22geometry%22%3A%20%7B%22coordinates%22%3A%20%5B-72.33893009%2C%2043.37153002%5D%2C%20%22type%22%3A%20%22Point%22%7D%2C%20%22id%22%3A%20%22129%22%2C%20%22properties%22%3A%20%7B%22address%22%3A%20%2273%20Pleasant%20St%2C%20Claremont%2C%20NH%2003743%22%2C%20%22lat%22%3A%2043.37153002%2C%20%22lon%22%3A%20-72.33893009%2C%20%22pharmacy_name%22%3A%20%22Rite%20Aid%20%2310288%22%2C%20%22pharmid%22%3A%20%22NH50%22%2C%20%22sat_close%22%3A%2018%2C%20%22sat_open%22%3A%209.0%2C%20%22state%22%3A%20%22NH%22%2C%20%22sun_close%22%3A%2018%2C%20%22sun_open%22%3A%209.0%2C%20%22type%22%3A%20%22chain%22%2C%20%22week_close%22%3A%2020.0%2C%20%22week_open%22%3A%208.0%7D%2C%20%22type%22%3A%20%22Feature%22%7D%2C%20%7B%22bbox%22%3A%20%5B-72.344974%2C%2043.36397%2C%20-72.344974%2C%2043.36397%5D%2C%20%22geometry%22%3A%20%7B%22coordinates%22%3A%20%5B-72.344974%2C%2043.36397%5D%2C%20%22type%22%3A%20%22Point%22%7D%2C%20%22id%22%3A%20%22130%22%2C%20%22properties%22%3A%20%7B%22address%22%3A%20%2252%20W%20Pleasant%20St%2C%20Claremont%2C%20NH%2003743%22%2C%20%22lat%22%3A%2043.36397%2C%20%22lon%22%3A%20-72.344974%2C%20%22pharmacy_name%22%3A%20%22Genoa%20Healthcare%22%2C%20%22pharmid%22%3A%20%22NH48%22%2C%20%22sat_close%22%3A%20-1%2C%20%22sat_open%22%3A%20-1.0%2C%20%22state%22%3A%20%22NH%22%2C%20%22sun_close%22%3A%20-1%2C%20%22sun_open%22%3A%20-1.0%2C%20%22type%22%3A%20%22chain%22%2C%20%22week_close%22%3A%2017.0%2C%20%22week_open%22%3A%208.5%7D%2C%20%22type%22%3A%20%22Feature%22%7D%2C%20%7B%22bbox%22%3A%20%5B-72.29554413%2C%2042.9351326%2C%20-72.29554413%2C%2042.9351326%5D%2C%20%22geometry%22%3A%20%7B%22coordinates%22%3A%20%5B-72.29554413%2C%2042.9351326%5D%2C%20%22type%22%3A%20%22Point%22%7D%2C%20%22id%22%3A%20%22131%22%2C%20%22properties%22%3A%20%7B%22address%22%3A%20%22481%20West%20St%2C%20Keene%2C%20NH%2003431%22%2C%20%22lat%22%3A%2042.9351326%2C%20%22lon%22%3A%20-72.29554413%2C%20%22pharmacy_name%22%3A%20%22Hannaford%22%2C%20%22pharmid%22%3A%20%22NH47%22%2C%20%22sat_close%22%3A%2018%2C%20%22sat_open%22%3A%209.0%2C%20%22state%22%3A%20%22NH%22%2C%20%22sun_close%22%3A%2017%2C%20%22sun_open%22%3A%209.0%2C%20%22type%22%3A%20%22chain%22%2C%20%22week_close%22%3A%2020.0%2C%20%22week_open%22%3A%209.0%7D%2C%20%22type%22%3A%20%22Feature%22%7D%2C%20%7B%22bbox%22%3A%20%5B-72.294865%2C%2042.933445%2C%20-72.294865%2C%2042.933445%5D%2C%20%22geometry%22%3A%20%7B%22coordinates%22%3A%20%5B-72.294865%2C%2042.933445%5D%2C%20%22type%22%3A%20%22Point%22%7D%2C%20%22id%22%3A%20%22132%22%2C%20%22properties%22%3A%20%7B%22address%22%3A%20%22440%20West%20St%2C%20Keene%2C%20NH%2003431%22%2C%20%22lat%22%3A%2042.933445%2C%20%22lon%22%3A%20-72.294865%2C%20%22pharmacy_name%22%3A%20%22Walgreens%20%20%233154%22%2C%20%22pharmid%22%3A%20%22NH46%22%2C%20%22sat_close%22%3A%2018%2C%20%22sat_open%22%3A%209.0%2C%20%22state%22%3A%20%22NH%22%2C%20%22sun_close%22%3A%2018%2C%20%22sun_open%22%3A%209.0%2C%20%22type%22%3A%20%22chain%22%2C%20%22week_close%22%3A%2020.0%2C%20%22week_open%22%3A%208.0%7D%2C%20%22type%22%3A%20%22Feature%22%7D%2C%20%7B%22bbox%22%3A%20%5B-72.28818418%2C%2042.93261026%2C%20-72.28818418%2C%2042.93261026%5D%2C%20%22geometry%22%3A%20%7B%22coordinates%22%3A%20%5B-72.28818418%2C%2042.93261026%5D%2C%20%22type%22%3A%20%22Point%22%7D%2C%20%22id%22%3A%20%22133%22%2C%20%22properties%22%3A%20%7B%22address%22%3A%20%22268%20West%20St%2C%20Keene%2C%20NH%2003431%22%2C%20%22lat%22%3A%2042.93261026%2C%20%22lon%22%3A%20-72.28818418%2C%20%22pharmacy_name%22%3A%20%22CVS%20%23640%22%2C%20%22pharmid%22%3A%20%22NH45%22%2C%20%22sat_close%22%3A%2024%2C%20%22sat_open%22%3A%200.0%2C%20%22state%22%3A%20%22NH%22%2C%20%22sun_close%22%3A%2024%2C%20%22sun_open%22%3A%200.0%2C%20%22type%22%3A%20%22chain%22%2C%20%22week_close%22%3A%2024.0%2C%20%22week_open%22%3A%200.0%7D%2C%20%22type%22%3A%20%22Feature%22%7D%2C%20%7B%22bbox%22%3A%20%5B-72.30573073%2C%2042.92607693%2C%20-72.30573073%2C%2042.92607693%5D%2C%20%22geometry%22%3A%20%7B%22coordinates%22%3A%20%5B-72.30573073%2C%2042.92607693%5D%2C%20%22type%22%3A%20%22Point%22%7D%2C%20%22id%22%3A%20%22134%22%2C%20%22properties%22%3A%20%7B%22address%22%3A%20%2246%20Ash%20Brook%20Rd%2C%20Keene%2C%20NH%2003431%22%2C%20%22lat%22%3A%2042.92607693%2C%20%22lon%22%3A%20-72.30573073%2C%20%22pharmacy_name%22%3A%20%22CVS%20%2317203%22%2C%20%22pharmid%22%3A%20%22NH44%22%2C%20%22sat_close%22%3A%20-1%2C%20%22sat_open%22%3A%20-1.0%2C%20%22state%22%3A%20%22NH%22%2C%20%22sun_close%22%3A%20-1%2C%20%22sun_open%22%3A%20-1.0%2C%20%22type%22%3A%20%22chain%22%2C%20%22week_close%22%3A%2018.0%2C%20%22week_open%22%3A%2010.0%7D%2C%20%22type%22%3A%20%22Feature%22%7D%2C%20%7B%22bbox%22%3A%20%5B-72.28936107%2C%2042.92521274%2C%20-72.28936107%2C%2042.92521274%5D%2C%20%22geometry%22%3A%20%7B%22coordinates%22%3A%20%5B-72.28936107%2C%2042.92521274%5D%2C%20%22type%22%3A%20%22Point%22%7D%2C%20%22id%22%3A%20%22135%22%2C%20%22properties%22%3A%20%7B%22address%22%3A%20%22354%20Winchester%20St%2C%20Keene%2C%20NH%2003431%22%2C%20%22lat%22%3A%2042.92521274%2C%20%22lon%22%3A%20-72.28936107%2C%20%22pharmacy_name%22%3A%20%22Rite%20aid%20%2310284%22%2C%20%22pharmid%22%3A%20%22NH43%22%2C%20%22sat_close%22%3A%2018%2C%20%22sat_open%22%3A%209.0%2C%20%22state%22%3A%20%22NH%22%2C%20%22sun_close%22%3A%2017%2C%20%22sun_open%22%3A%209.0%2C%20%22type%22%3A%20%22chain%22%2C%20%22week_close%22%3A%2020.0%2C%20%22week_open%22%3A%208.0%7D%2C%20%22type%22%3A%20%22Feature%22%7D%2C%20%7B%22bbox%22%3A%20%5B-72.531544%2C%2042.8139767%2C%20-72.531544%2C%2042.8139767%5D%2C%20%22geometry%22%3A%20%7B%22coordinates%22%3A%20%5B-72.531544%2C%2042.8139767%5D%2C%20%22type%22%3A%20%22Point%22%7D%2C%20%22id%22%3A%20%22136%22%2C%20%22properties%22%3A%20%7B%22address%22%3A%20%22724%20Brattleboro%20Rd%2C%20Hinsdale%2C%20NH%2003451%22%2C%20%22lat%22%3A%2042.8139767%2C%20%22lon%22%3A%20-72.531544%2C%20%22pharmacy_name%22%3A%20%22Walmart%20%231907%22%2C%20%22pharmid%22%3A%20%22NH42%22%2C%20%22sat_close%22%3A%2019%2C%20%22sat_open%22%3A%209.0%2C%20%22state%22%3A%20%22NH%22%2C%20%22sun_close%22%3A%2018%2C%20%22sun_open%22%3A%2010.0%2C%20%22type%22%3A%20%22chain%22%2C%20%22week_close%22%3A%2019.0%2C%20%22week_open%22%3A%208.0%7D%2C%20%22type%22%3A%20%22Feature%22%7D%2C%20%7B%22bbox%22%3A%20%5B-72.38866024%2C%2042.76786006%2C%20-72.38866024%2C%2042.76786006%5D%2C%20%22geometry%22%3A%20%7B%22coordinates%22%3A%20%5B-72.38866024%2C%2042.76786006%5D%2C%20%22type%22%3A%20%22Point%22%7D%2C%20%22id%22%3A%20%22137%22%2C%20%22properties%22%3A%20%7B%22address%22%3A%20%2210%20Main%20St%2C%20Winchester%2C%20NH%2003470%22%2C%20%22lat%22%3A%2042.76786006%2C%20%22lon%22%3A%20-72.38866024%2C%20%22pharmacy_name%22%3A%20%22Rite%20Aid%20%2304800%22%2C%20%22pharmid%22%3A%20%22NH41%22%2C%20%22sat_close%22%3A%2017%2C%20%22sat_open%22%3A%209.0%2C%20%22state%22%3A%20%22NH%22%2C%20%22sun_close%22%3A%2017%2C%20%22sun_open%22%3A%209.0%2C%20%22type%22%3A%20%22chain%22%2C%20%22week_close%22%3A%2020.0%2C%20%22week_open%22%3A%208.0%7D%2C%20%22type%22%3A%20%22Feature%22%7D%2C%20%7B%22bbox%22%3A%20%5B-72.56108954%2C%2042.60531225%2C%20-72.56108954%2C%2042.60531225%5D%2C%20%22geometry%22%3A%20%7B%22coordinates%22%3A%20%5B-72.56108954%2C%2042.60531225%5D%2C%20%22type%22%3A%20%22Point%22%7D%2C%20%22id%22%3A%20%22138%22%2C%20%22properties%22%3A%20%7B%22address%22%3A%20%22240%20Avenue%20A%2C%20Turners%20Falls%2C%20MA%2001376%22%2C%20%22lat%22%3A%2042.60531225%2C%20%22lon%22%3A%20-72.56108954%2C%20%22pharmacy_name%22%3A%20%22Walgreens%20%2317488%22%2C%20%22pharmid%22%3A%20%22MA40%22%2C%20%22sat_close%22%3A%2018%2C%20%22sat_open%22%3A%209.0%2C%20%22state%22%3A%20%22MA%22%2C%20%22sun_close%22%3A%20-1%2C%20%22sun_open%22%3A%20-1.0%2C%20%22type%22%3A%20%22chain%22%2C%20%22week_close%22%3A%2019.0%2C%20%22week_open%22%3A%209.0%7D%2C%20%22type%22%3A%20%22Feature%22%7D%2C%20%7B%22bbox%22%3A%20%5B-72.57332628%2C%2042.6069448%2C%20-72.57332628%2C%2042.6069448%5D%2C%20%22geometry%22%3A%20%7B%22coordinates%22%3A%20%5B-72.57332628%2C%2042.6069448%5D%2C%20%22type%22%3A%20%22Point%22%7D%2C%20%22id%22%3A%20%22139%22%2C%20%22properties%22%3A%20%7B%22address%22%3A%20%2289%20French%20King%20Hwy%2C%20Greenfield%2C%20MA%2001301%22%2C%20%22lat%22%3A%2042.6069448%2C%20%22lon%22%3A%20-72.57332628%2C%20%22pharmacy_name%22%3A%20%22Stop%20and%20Shop%20Pharmacy%22%2C%20%22pharmid%22%3A%20%22MA39%22%2C%20%22sat_close%22%3A%2017%2C%20%22sat_open%22%3A%209.0%2C%20%22state%22%3A%20%22MA%22%2C%20%22sun_close%22%3A%2017%2C%20%22sun_open%22%3A%209.0%2C%20%22type%22%3A%20%22chain%22%2C%20%22week_close%22%3A%2020.0%2C%20%22week_open%22%3A%209.0%7D%2C%20%22type%22%3A%20%22Feature%22%7D%2C%20%7B%22bbox%22%3A%20%5B-72.5972384%2C%2042.5921691%2C%20-72.5972384%2C%2042.5921691%5D%2C%20%22geometry%22%3A%20%7B%22coordinates%22%3A%20%5B-72.5972384%2C%2042.5921691%5D%2C%20%22type%22%3A%20%22Point%22%7D%2C%20%22id%22%3A%20%22140%22%2C%20%22properties%22%3A%20%7B%22address%22%3A%20%22137%20Federal%20St%2C%20Greenfield%2C%20MA%2001301%22%2C%20%22lat%22%3A%2042.5921691%2C%20%22lon%22%3A%20-72.5972384%2C%20%22pharmacy_name%22%3A%20%22CVS%20%231094%22%2C%20%22pharmid%22%3A%20%22MA38%22%2C%20%22sat_close%22%3A%2024%2C%20%22sat_open%22%3A%200.0%2C%20%22state%22%3A%20%22MA%22%2C%20%22sun_close%22%3A%2024%2C%20%22sun_open%22%3A%200.0%2C%20%22type%22%3A%20%22chain%22%2C%20%22week_close%22%3A%2024.0%2C%20%22week_open%22%3A%200.0%7D%2C%20%22type%22%3A%20%22Feature%22%7D%2C%20%7B%22bbox%22%3A%20%5B-72.5968301%2C%2042.5981362%2C%20-72.5968301%2C%2042.5981362%5D%2C%20%22geometry%22%3A%20%7B%22coordinates%22%3A%20%5B-72.5968301%2C%2042.5981362%5D%2C%20%22type%22%3A%20%22Point%22%7D%2C%20%22id%22%3A%20%22141%22%2C%20%22properties%22%3A%20%7B%22address%22%3A%20%225%20Pierce%20St%2C%20Greenfield%2C%20MA%2001301%22%2C%20%22lat%22%3A%2042.5981362%2C%20%22lon%22%3A%20-72.5968301%2C%20%22pharmacy_name%22%3A%20%22Walgreens%20%20%237704%22%2C%20%22pharmid%22%3A%20%22MA37%22%2C%20%22sat_close%22%3A%2018%2C%20%22sat_open%22%3A%209.0%2C%20%22state%22%3A%20%22MA%22%2C%20%22sun_close%22%3A%2018%2C%20%22sun_open%22%3A%2010.0%2C%20%22type%22%3A%20%22chain%22%2C%20%22week_close%22%3A%2020.0%2C%20%22week_open%22%3A%209.0%7D%2C%20%22type%22%3A%20%22Feature%22%7D%2C%20%7B%22bbox%22%3A%20%5B-72.60419081%2C%2042.5920962%2C%20-72.60419081%2C%2042.5920962%5D%2C%20%22geometry%22%3A%20%7B%22coordinates%22%3A%20%5B-72.60419081%2C%2042.5920962%5D%2C%20%22type%22%3A%20%22Point%22%7D%2C%20%22id%22%3A%20%22142%22%2C%20%22properties%22%3A%20%7B%22address%22%3A%20%221%20Arch%20St%2C%20Greenfield%2C%20MA%2001301%22%2C%20%22lat%22%3A%2042.5920962%2C%20%22lon%22%3A%20-72.60419081%2C%20%22pharmacy_name%22%3A%20%22Genoa%20Healthcare%22%2C%20%22pharmid%22%3A%20%22MA36%22%2C%20%22sat_close%22%3A%20-1%2C%20%22sat_open%22%3A%20-1.0%2C%20%22state%22%3A%20%22MA%22%2C%20%22sun_close%22%3A%20-1%2C%20%22sun_open%22%3A%20-1.0%2C%20%22type%22%3A%20%22chain%22%2C%20%22week_close%22%3A%2017.0%2C%20%22week_open%22%3A%208.5%7D%2C%20%22type%22%3A%20%22Feature%22%7D%2C%20%7B%22bbox%22%3A%20%5B-72.59812965%2C%2042.5890211%2C%20-72.59812965%2C%2042.5890211%5D%2C%20%22geometry%22%3A%20%7B%22coordinates%22%3A%20%5B-72.59812965%2C%2042.5890211%5D%2C%20%22type%22%3A%20%22Point%22%7D%2C%20%22id%22%3A%20%22143%22%2C%20%22properties%22%3A%20%7B%22address%22%3A%20%2255%20Federal%20St%20%23105%2C%20Greenfield%2C%20MA%2001301%22%2C%20%22lat%22%3A%2042.5890211%2C%20%22lon%22%3A%20-72.59812965%2C%20%22pharmacy_name%22%3A%20%22Genoa%20Healthcare%22%2C%20%22pharmid%22%3A%20%22MA35%22%2C%20%22sat_close%22%3A%20-1%2C%20%22sat_open%22%3A%20-1.0%2C%20%22state%22%3A%20%22MA%22%2C%20%22sun_close%22%3A%20-1%2C%20%22sun_open%22%3A%20-1.0%2C%20%22type%22%3A%20%22chain%22%2C%20%22week_close%22%3A%2017.0%2C%20%22week_open%22%3A%208.5%7D%2C%20%22type%22%3A%20%22Feature%22%7D%2C%20%7B%22bbox%22%3A%20%5B-72.6049576%2C%2042.587172%2C%20-72.6049576%2C%2042.587172%5D%2C%20%22geometry%22%3A%20%7B%22coordinates%22%3A%20%5B-72.6049576%2C%2042.587172%5D%2C%20%22type%22%3A%20%22Point%22%7D%2C%20%22id%22%3A%20%22144%22%2C%20%22properties%22%3A%20%7B%22address%22%3A%20%22107%20Main%20St%2C%20Greenfield%2C%20MA%2001301%22%2C%20%22lat%22%3A%2042.587172%2C%20%22lon%22%3A%20-72.6049576%2C%20%22pharmacy_name%22%3A%20%22Rite%20Aid%20%2310074%22%2C%20%22pharmid%22%3A%20%22MA34%22%2C%20%22sat_close%22%3A%2017%2C%20%22sat_open%22%3A%209.0%2C%20%22state%22%3A%20%22MA%22%2C%20%22sun_close%22%3A%2017%2C%20%22sun_open%22%3A%209.0%2C%20%22type%22%3A%20%22chain%22%2C%20%22week_close%22%3A%2020.0%2C%20%22week_open%22%3A%208.0%7D%2C%20%22type%22%3A%20%22Feature%22%7D%2C%20%7B%22bbox%22%3A%20%5B-72.6254874%2C%2042.5871777%2C%20-72.6254874%2C%2042.5871777%5D%2C%20%22geometry%22%3A%20%7B%22coordinates%22%3A%20%5B-72.6254874%2C%2042.5871777%5D%2C%20%22type%22%3A%20%22Point%22%7D%2C%20%22id%22%3A%20%22145%22%2C%20%22properties%22%3A%20%7B%22address%22%3A%20%22237%20Mohawk%20Trail%2C%20Greenfield%2C%20MA%2001301%22%2C%20%22lat%22%3A%2042.5871777%2C%20%22lon%22%3A%20-72.6254874%2C%20%22pharmacy_name%22%3A%20%22Big%20Y%20pharmacy%22%2C%20%22pharmid%22%3A%20%22MA33%22%2C%20%22sat_close%22%3A%2015%2C%20%22sat_open%22%3A%209.0%2C%20%22state%22%3A%20%22MA%22%2C%20%22sun_close%22%3A%2015%2C%20%22sun_open%22%3A%209.0%2C%20%22type%22%3A%20%22chain%22%2C%20%22week_close%22%3A%2019.0%2C%20%22week_open%22%3A%209.0%7D%2C%20%22type%22%3A%20%22Feature%22%7D%2C%20%7B%22bbox%22%3A%20%5B-73.1077855%2C%2042.6652347%2C%20-73.1077855%2C%2042.6652347%5D%2C%20%22geometry%22%3A%20%7B%22coordinates%22%3A%20%5B-73.1077855%2C%2042.6652347%5D%2C%20%22type%22%3A%20%22Point%22%7D%2C%20%22id%22%3A%20%22146%22%2C%20%22properties%22%3A%20%7B%22address%22%3A%20%221415%20Curran%20Memorial%20Hwy%2C%20North%20Adams%2C%20MA%2001247%22%2C%20%22lat%22%3A%2042.6652347%2C%20%22lon%22%3A%20-73.1077855%2C%20%22pharmacy_name%22%3A%20%22Walmart%20%231984%22%2C%20%22pharmid%22%3A%20%22MA31%22%2C%20%22sat_close%22%3A%2019%2C%20%22sat_open%22%3A%209.0%2C%20%22state%22%3A%20%22MA%22%2C%20%22sun_close%22%3A%2018%2C%20%22sun_open%22%3A%2010.0%2C%20%22type%22%3A%20%22chain%22%2C%20%22week_close%22%3A%2019.0%2C%20%22week_open%22%3A%208.0%7D%2C%20%22type%22%3A%20%22Feature%22%7D%2C%20%7B%22bbox%22%3A%20%5B-73.1175962%2C%2042.6263398%2C%20-73.1175962%2C%2042.6263398%5D%2C%20%22geometry%22%3A%20%7B%22coordinates%22%3A%20%5B-73.1175962%2C%2042.6263398%5D%2C%20%22type%22%3A%20%22Point%22%7D%2C%20%22id%22%3A%20%22147%22%2C%20%22properties%22%3A%20%7B%22address%22%3A%20%2221%20Columbia%20St%2C%20Adams%2C%20MA%2001220%22%2C%20%22lat%22%3A%2042.6263398%2C%20%22lon%22%3A%20-73.1175962%2C%20%22pharmacy_name%22%3A%20%22Walgreens%20%2319038%22%2C%20%22pharmid%22%3A%20%22MA30%22%2C%20%22sat_close%22%3A%20-1%2C%20%22sat_open%22%3A%20-1.0%2C%20%22state%22%3A%20%22MA%22%2C%20%22sun_close%22%3A%20-1%2C%20%22sun_open%22%3A%20-1.0%2C%20%22type%22%3A%20%22chain%22%2C%20%22week_close%22%3A%2018.0%2C%20%22week_open%22%3A%209.0%7D%2C%20%22type%22%3A%20%22Feature%22%7D%2C%20%7B%22bbox%22%3A%20%5B-73.10957423%2C%2042.70102515%2C%20-73.10957423%2C%2042.70102515%5D%2C%20%22geometry%22%3A%20%7B%22coordinates%22%3A%20%5B-73.10957423%2C%2042.70102515%5D%2C%20%22type%22%3A%20%22Point%22%7D%2C%20%22id%22%3A%20%22148%22%2C%20%22properties%22%3A%20%7B%22address%22%3A%20%2250%20Lincoln%20St%2C%20North%20Adams%2C%20MA%2001247%22%2C%20%22lat%22%3A%2042.70102515%2C%20%22lon%22%3A%20-73.10957423%2C%20%22pharmacy_name%22%3A%20%22Walgreens%20%2319525%22%2C%20%22pharmid%22%3A%20%22MA29%22%2C%20%22sat_close%22%3A%2018%2C%20%22sat_open%22%3A%209.0%2C%20%22state%22%3A%20%22MA%22%2C%20%22sun_close%22%3A%2017%2C%20%22sun_open%22%3A%209.0%2C%20%22type%22%3A%20%22chain%22%2C%20%22week_close%22%3A%2019.0%2C%20%22week_open%22%3A%209.0%7D%2C%20%22type%22%3A%20%22Feature%22%7D%2C%20%7B%22bbox%22%3A%20%5B-73.1111064%2C%2042.7010215%2C%20-73.1111064%2C%2042.7010215%5D%2C%20%22geometry%22%3A%20%7B%22coordinates%22%3A%20%5B-73.1111064%2C%2042.7010215%5D%2C%20%22type%22%3A%20%22Point%22%7D%2C%20%22id%22%3A%20%22149%22%2C%20%22properties%22%3A%20%7B%22address%22%3A%20%2255%20Veterans%20Memorial%20Dr%2C%20North%20Adams%2C%20MA%2001247%22%2C%20%22lat%22%3A%2042.7010215%2C%20%22lon%22%3A%20-73.1111064%2C%20%22pharmacy_name%22%3A%20%22CVS%20%231131%22%2C%20%22pharmid%22%3A%20%22MA28%22%2C%20%22sat_close%22%3A%2018%2C%20%22sat_open%22%3A%209.0%2C%20%22state%22%3A%20%22MA%22%2C%20%22sun_close%22%3A%2017%2C%20%22sun_open%22%3A%209.0%2C%20%22type%22%3A%20%22chain%22%2C%20%22week_close%22%3A%2020.0%2C%20%22week_open%22%3A%208.0%7D%2C%20%22type%22%3A%20%22Feature%22%7D%2C%20%7B%22bbox%22%3A%20%5B-73.16577926%2C%2042.69926215%2C%20-73.16577926%2C%2042.69926215%5D%2C%20%22geometry%22%3A%20%7B%22coordinates%22%3A%20%5B-73.16577926%2C%2042.69926215%5D%2C%20%22type%22%3A%20%22Point%22%7D%2C%20%22id%22%3A%20%22150%22%2C%20%22properties%22%3A%20%7B%22address%22%3A%20%22876%20State%20Rd%2C%20North%20Adams%2C%20MA%2001247%22%2C%20%22lat%22%3A%2042.69926215%2C%20%22lon%22%3A%20-73.16577926%2C%20%22pharmacy_name%22%3A%20%22Stop%20and%20Shop%20%230784%22%2C%20%22pharmid%22%3A%20%22MA27%22%2C%20%22sat_close%22%3A%2017%2C%20%22sat_open%22%3A%209.0%2C%20%22state%22%3A%20%22MA%22%2C%20%22sun_close%22%3A%2017%2C%20%22sun_open%22%3A%209.0%2C%20%22type%22%3A%20%22chain%22%2C%20%22week_close%22%3A%2020.0%2C%20%22week_open%22%3A%208.0%7D%2C%20%22type%22%3A%20%22Feature%22%7D%2C%20%7B%22bbox%22%3A%20%5B-73.1835561%2C%2042.7024996%2C%20-73.1835561%2C%2042.7024996%5D%2C%20%22geometry%22%3A%20%7B%22coordinates%22%3A%20%5B-73.1835561%2C%2042.7024996%5D%2C%20%22type%22%3A%20%22Point%22%7D%2C%20%22id%22%3A%20%22151%22%2C%20%22properties%22%3A%20%7B%22address%22%3A%20%22212%20Main%20St%2C%20Williamstown%2C%20MA%2001267%22%2C%20%22lat%22%3A%2042.7024996%2C%20%22lon%22%3A%20-73.1835561%2C%20%22pharmacy_name%22%3A%20%22Walgreens%20%2318016%22%2C%20%22pharmid%22%3A%20%22MA26%22%2C%20%22sat_close%22%3A%20-1%2C%20%22sat_open%22%3A%20-1.0%2C%20%22state%22%3A%20%22MA%22%2C%20%22sun_close%22%3A%20-1%2C%20%22sun_open%22%3A%20-1.0%2C%20%22type%22%3A%20%22chain%22%2C%20%22week_close%22%3A%2018.0%2C%20%22week_open%22%3A%2010.0%7D%2C%20%22type%22%3A%20%22Feature%22%7D%2C%20%7B%22bbox%22%3A%20%5B-72.955099%2C%2043.5983353%2C%20-72.955099%2C%2043.5983353%5D%2C%20%22geometry%22%3A%20%7B%22coordinates%22%3A%20%5B-72.955099%2C%2043.5983353%5D%2C%20%22type%22%3A%20%22Point%22%7D%2C%20%22id%22%3A%20%22152%22%2C%20%22properties%22%3A%20%7B%22address%22%3A%20%22160%20Allen%20St%2C%20Rutland%2C%20VT%2005701%22%2C%20%22lat%22%3A%2043.5983353%2C%20%22lon%22%3A%20-72.955099%2C%20%22pharmacy_name%22%3A%20%22RRMC%20Pharmacy%22%2C%20%22pharmid%22%3A%20%22VT82%22%2C%20%22sat_close%22%3A%2016%2C%20%22sat_open%22%3A%208.0%2C%20%22state%22%3A%20%22VT%22%2C%20%22sun_close%22%3A%2016%2C%20%22sun_open%22%3A%209.0%2C%20%22type%22%3A%20%22independent%22%2C%20%22week_close%22%3A%2018.0%2C%20%22week_open%22%3A%208.0%7D%2C%20%22type%22%3A%20%22Feature%22%7D%2C%20%7B%22bbox%22%3A%20%5B-73.247375%2C%2044.5085803%2C%20-73.247375%2C%2044.5085803%5D%2C%20%22geometry%22%3A%20%7B%22coordinates%22%3A%20%5B-73.247375%2C%2044.5085803%5D%2C%20%22type%22%3A%20%22Point%22%7D%2C%20%22id%22%3A%20%22153%22%2C%20%22properties%22%3A%20%7B%22address%22%3A%20%221219%20North%20Avenue%20Burlington%2C%20VT%2005408%22%2C%20%22lat%22%3A%2044.5085803%2C%20%22lon%22%3A%20-73.247375%2C%20%22pharmacy_name%22%3A%20%22Vermont%20Family%20Pharmacy%22%2C%20%22pharmid%22%3A%20%22VT8%22%2C%20%22sat_close%22%3A%2013%2C%20%22sat_open%22%3A%2010.0%2C%20%22state%22%3A%20%22VT%22%2C%20%22sun_close%22%3A%20-1%2C%20%22sun_open%22%3A%20-1.0%2C%20%22type%22%3A%20%22independent%22%2C%20%22week_close%22%3A%2018.0%2C%20%22week_open%22%3A%209.0%7D%2C%20%22type%22%3A%20%22Feature%22%7D%2C%20%7B%22bbox%22%3A%20%5B-72.962479%2C%2043.5990251%2C%20-72.962479%2C%2043.5990251%5D%2C%20%22geometry%22%3A%20%7B%22coordinates%22%3A%20%5B-72.962479%2C%2043.5990251%5D%2C%20%22type%22%3A%20%22Point%22%7D%2C%20%22id%22%3A%20%22154%22%2C%20%22properties%22%3A%20%7B%22address%22%3A%20%2275%20Allen%20Street%20Rutland%2C%20VT%2005701%22%2C%20%22lat%22%3A%2043.5990251%2C%20%22lon%22%3A%20-72.962479%2C%20%22pharmacy_name%22%3A%20%22Rutland%20Pharmacy%22%2C%20%22pharmid%22%3A%20%22VT7%22%2C%20%22sat_close%22%3A%2018%2C%20%22sat_open%22%3A%209.0%2C%20%22state%22%3A%20%22VT%22%2C%20%22sun_close%22%3A%2018%2C%20%22sun_open%22%3A%209.0%2C%20%22type%22%3A%20%22independent%22%2C%20%22week_close%22%3A%2020.0%2C%20%22week_open%22%3A%208.0%7D%2C%20%22type%22%3A%20%22Feature%22%7D%2C%20%7B%22bbox%22%3A%20%5B-72.486323%2C%2043.301416%2C%20-72.486323%2C%2043.301416%5D%2C%20%22geometry%22%3A%20%7B%22coordinates%22%3A%20%5B-72.486323%2C%2043.301416%5D%2C%20%22type%22%3A%20%22Point%22%7D%2C%20%22id%22%3A%20%22155%22%2C%20%22properties%22%3A%20%7B%22address%22%3A%20%22100%20River%20St%2C%20Springfield%2C%20VT%2005156%22%2C%20%22lat%22%3A%2043.301416%2C%20%22lon%22%3A%20-72.486323%2C%20%22pharmacy_name%22%3A%20%22River%20Street%20Pharmacy%22%2C%20%22pharmid%22%3A%20%22VT66%22%2C%20%22sat_close%22%3A%20-1%2C%20%22sat_open%22%3A%20-1.0%2C%20%22state%22%3A%20%22VT%22%2C%20%22sun_close%22%3A%20-1%2C%20%22sun_open%22%3A%20-1.0%2C%20%22type%22%3A%20%22independent%22%2C%20%22week_close%22%3A%2017.0%2C%20%22week_open%22%3A%208.0%7D%2C%20%22type%22%3A%20%22Feature%22%7D%2C%20%7B%22bbox%22%3A%20%5B-72.706252%2C%2043.4010644%2C%20-72.706252%2C%2043.4010644%5D%2C%20%22geometry%22%3A%20%7B%22coordinates%22%3A%20%5B-72.706252%2C%2043.4010644%5D%2C%20%22type%22%3A%20%22Point%22%7D%2C%20%22id%22%3A%20%22156%22%2C%20%22properties%22%3A%20%7B%22address%22%3A%20%2257%20Pond%20Street%20Ludlow%2C%20VT%2005149%22%2C%20%22lat%22%3A%2043.4010644%2C%20%22lon%22%3A%20-72.706252%2C%20%22pharmacy_name%22%3A%20%22Ludlow%20Pharmacy%22%2C%20%22pharmid%22%3A%20%22VT61%22%2C%20%22sat_close%22%3A%2015%2C%20%22sat_open%22%3A%209.0%2C%20%22state%22%3A%20%22VT%22%2C%20%22sun_close%22%3A%20-1%2C%20%22sun_open%22%3A%20-1.0%2C%20%22type%22%3A%20%22independent%22%2C%20%22week_close%22%3A%2018.0%2C%20%22week_open%22%3A%209.0%7D%2C%20%22type%22%3A%20%22Feature%22%7D%2C%20%7B%22bbox%22%3A%20%5B-73.099228%2C%2043.80504%2C%20-73.099228%2C%2043.80504%5D%2C%20%22geometry%22%3A%20%7B%22coordinates%22%3A%20%5B-73.099228%2C%2043.80504%5D%2C%20%22type%22%3A%20%22Point%22%7D%2C%20%22id%22%3A%20%22157%22%2C%20%22properties%22%3A%20%7B%22address%22%3A%20%22420%20Grove%20St%20Brandon%20VT%2005733%22%2C%20%22lat%22%3A%2043.80504%2C%20%22lon%22%3A%20-73.099228%2C%20%22pharmacy_name%22%3A%20%22Brandon%20community%20Pharmacy%22%2C%20%22pharmid%22%3A%20%22VT57%22%2C%20%22sat_close%22%3A%2013%2C%20%22sat_open%22%3A%209.0%2C%20%22state%22%3A%20%22VT%22%2C%20%22sun_close%22%3A%20-1%2C%20%22sun_open%22%3A%20-1.0%2C%20%22type%22%3A%20%22independent%22%2C%20%22week_close%22%3A%2019.0%2C%20%22week_open%22%3A%208.0%7D%2C%20%22type%22%3A%20%22Feature%22%7D%2C%20%7B%22bbox%22%3A%20%5B-73.170026%2C%2044.5957828%2C%20-73.170026%2C%2044.5957828%5D%2C%20%22geometry%22%3A%20%7B%22coordinates%22%3A%20%5B-73.170026%2C%2044.5957828%5D%2C%20%22type%22%3A%20%22Point%22%7D%2C%20%22id%22%3A%20%22158%22%2C%20%22properties%22%3A%20%7B%22address%22%3A%20%22158%20Brentwood%20Dr%20%23%206%2C%20Colchester%2C%20VT%2005446%22%2C%20%22lat%22%3A%2044.5957828%2C%20%22lon%22%3A%20-73.170026%2C%20%22pharmacy_name%22%3A%20%22Community%20Health%20Pharmacy%20Colchester%22%2C%20%22pharmid%22%3A%20%22VT52%22%2C%20%22sat_close%22%3A%20-1%2C%20%22sat_open%22%3A%20-1.0%2C%20%22state%22%3A%20%22VT%22%2C%20%22sun_close%22%3A%20-1%2C%20%22sun_open%22%3A%20-1.0%2C%20%22type%22%3A%20%22independent%22%2C%20%22week_close%22%3A%2017.0%2C%20%22week_open%22%3A%208.5%7D%2C%20%22type%22%3A%20%22Feature%22%7D%2C%20%7B%22bbox%22%3A%20%5B-72.673161%2C%2044.996372%2C%20-72.673161%2C%2044.996372%5D%2C%20%22geometry%22%3A%20%7B%22coordinates%22%3A%20%5B-72.673161%2C%2044.996372%5D%2C%20%22type%22%3A%20%22Point%22%7D%2C%20%22id%22%3A%20%22159%22%2C%20%22properties%22%3A%20%7B%22address%22%3A%20%2244%20Main%20St%20Suite%20201%20Richford%20VT%2005476%22%2C%20%22lat%22%3A%2044.996372%2C%20%22lon%22%3A%20-72.673161%2C%20%22pharmacy_name%22%3A%20%22Notch%20Pharmacy%22%2C%20%22pharmid%22%3A%20%22VT43%22%2C%20%22sat_close%22%3A%2012%2C%20%22sat_open%22%3A%209.0%2C%20%22state%22%3A%20%22VT%22%2C%20%22sun_close%22%3A%20-1%2C%20%22sun_open%22%3A%20-1.0%2C%20%22type%22%3A%20%22independent%22%2C%20%22week_close%22%3A%2017.5%2C%20%22week_open%22%3A%209.0%7D%2C%20%22type%22%3A%20%22Feature%22%7D%2C%20%7B%22bbox%22%3A%20%5B-72.497956%2C%2043.3092014%2C%20-72.497956%2C%2043.3092014%5D%2C%20%22geometry%22%3A%20%7B%22coordinates%22%3A%20%5B-72.497956%2C%2043.3092014%5D%2C%20%22type%22%3A%20%22Point%22%7D%2C%20%22id%22%3A%20%22160%22%2C%20%22properties%22%3A%20%7B%22address%22%3A%20%22262%20River%20Street%20Springfield%2C%20VT%2005156%22%2C%20%22lat%22%3A%2043.3092014%2C%20%22lon%22%3A%20-72.497956%2C%20%22pharmacy_name%22%3A%20%22Springfield%20Pharmacy%22%2C%20%22pharmid%22%3A%20%22VT35%22%2C%20%22sat_close%22%3A%2013%2C%20%22sat_open%22%3A%209.0%2C%20%22state%22%3A%20%22VT%22%2C%20%22sun_close%22%3A%2013%2C%20%22sun_open%22%3A%209.0%2C%20%22type%22%3A%20%22independent%22%2C%20%22week_close%22%3A%2019.0%2C%20%22week_open%22%3A%209.0%7D%2C%20%22type%22%3A%20%22Feature%22%7D%2C%20%7B%22bbox%22%3A%20%5B-72.31872%2C%2043.6522981%2C%20-72.31872%2C%2043.6522981%5D%2C%20%22geometry%22%3A%20%7B%22coordinates%22%3A%20%5B-72.31872%2C%2043.6522981%5D%2C%20%22type%22%3A%20%22Point%22%7D%2C%20%22id%22%3A%20%22161%22%2C%20%22properties%22%3A%20%7B%22address%22%3A%20%22213%20Maple%20St%2C%20White%20River%20Junction%2C%20VT%2005001%22%2C%20%22lat%22%3A%2043.6522981%2C%20%22lon%22%3A%20-72.31872%2C%20%22pharmacy_name%22%3A%20%22Corner%20Drug%20Co%22%2C%20%22pharmid%22%3A%20%22VT3%22%2C%20%22sat_close%22%3A%2015%2C%20%22sat_open%22%3A%209.0%2C%20%22state%22%3A%20%22VT%22%2C%20%22sun_close%22%3A%20-1%2C%20%22sun_open%22%3A%20-1.0%2C%20%22type%22%3A%20%22independent%22%2C%20%22week_close%22%3A%2018.0%2C%20%22week_open%22%3A%209.0%7D%2C%20%22type%22%3A%20%22Feature%22%7D%2C%20%7B%22bbox%22%3A%20%5B-73.201427%2C%2044.4801784%2C%20-73.201427%2C%2044.4801784%5D%2C%20%22geometry%22%3A%20%7B%22coordinates%22%3A%20%5B-73.201427%2C%2044.4801784%5D%2C%20%22type%22%3A%20%22Point%22%7D%2C%20%22id%22%3A%20%22162%22%2C%20%22properties%22%3A%20%7B%22address%22%3A%20%221%20S%20Prospect%20St%2C%20Burlington%2C%20VT%22%2C%20%22lat%22%3A%2044.4801784%2C%20%22lon%22%3A%20-73.201427%2C%20%22pharmacy_name%22%3A%20%22University%20of%20Vermont%20Medical%20Center%20OutpatientPharmacy%22%2C%20%22pharmid%22%3A%20%22VT27%22%2C%20%22sat_close%22%3A%20-1%2C%20%22sat_open%22%3A%20-1.0%2C%20%22state%22%3A%20%22VT%22%2C%20%22sun_close%22%3A%20-1%2C%20%22sun_open%22%3A%20-1.0%2C%20%22type%22%3A%20%22independent%22%2C%20%22week_close%22%3A%2017.0%2C%20%22week_open%22%3A%208.5%7D%2C%20%22type%22%3A%20%22Feature%22%7D%2C%20%7B%22bbox%22%3A%20%5B-73.157056%2C%2044.4967903%2C%20-73.157056%2C%2044.4967903%5D%2C%20%22geometry%22%3A%20%7B%22coordinates%22%3A%20%5B-73.157056%2C%2044.4967903%5D%2C%20%22type%22%3A%20%22Point%22%7D%2C%20%22id%22%3A%20%22163%22%2C%20%22properties%22%3A%20%7B%22address%22%3A%20%22792%20College%20Pkwy%20Ste%20103%2C%20Colchester%2C%20VT%22%2C%20%22lat%22%3A%2044.4967903%2C%20%22lon%22%3A%20-73.157056%2C%20%22pharmacy_name%22%3A%20%22University%20of%20Vermont%20Medical%20Center%20Outpatient%20Pharmacy%22%2C%20%22pharmid%22%3A%20%22VT26%22%2C%20%22sat_close%22%3A%20-1%2C%20%22sat_open%22%3A%20-1.0%2C%20%22state%22%3A%20%22VT%22%2C%20%22sun_close%22%3A%20-1%2C%20%22sun_open%22%3A%20-1.0%2C%20%22type%22%3A%20%22independent%22%2C%20%22week_close%22%3A%2017.0%2C%20%22week_open%22%3A%208.5%7D%2C%20%22type%22%3A%20%22Feature%22%7D%2C%20%7B%22bbox%22%3A%20%5B-73.194585%2C%2044.4790648%2C%20-73.194585%2C%2044.4790648%5D%2C%20%22geometry%22%3A%20%7B%22coordinates%22%3A%20%5B-73.194585%2C%2044.4790648%5D%2C%20%22type%22%3A%20%22Point%22%7D%2C%20%22id%22%3A%20%22164%22%2C%20%22properties%22%3A%20%7B%22address%22%3A%20%22111%20Colchester%20Ave%2C%20Burlington%2C%20VT%22%2C%20%22lat%22%3A%2044.4790648%2C%20%22lon%22%3A%20-73.194585%2C%20%22pharmacy_name%22%3A%20%22University%20of%20Vermont%20Medical%20Center%20Outpatient%20Pharmacy%22%2C%20%22pharmid%22%3A%20%22VT25%22%2C%20%22sat_close%22%3A%2017%2C%20%22sat_open%22%3A%208.5%2C%20%22state%22%3A%20%22VT%22%2C%20%22sun_close%22%3A%2017%2C%20%22sun_open%22%3A%208.5%2C%20%22type%22%3A%20%22independent%22%2C%20%22week_close%22%3A%2021.0%2C%20%22week_open%22%3A%207.5%7D%2C%20%22type%22%3A%20%22Feature%22%7D%2C%20%7B%22bbox%22%3A%20%5B-72.667843%2C%2043.0472267%2C%20-72.667843%2C%2043.0472267%5D%2C%20%22geometry%22%3A%20%7B%22coordinates%22%3A%20%5B-72.667843%2C%2043.0472267%5D%2C%20%22type%22%3A%20%22Point%22%7D%2C%20%22id%22%3A%20%22165%22%2C%20%22properties%22%3A%20%7B%22address%22%3A%20%22170%20Grafton%20Road%2C%20Townshend%2C%20VT%2005353%22%2C%20%22lat%22%3A%2043.0472267%2C%20%22lon%22%3A%20-72.667843%2C%20%22pharmacy_name%22%3A%20%22Messenger%20Valley%20Pharmacy%22%2C%20%22pharmid%22%3A%20%22VT19%22%2C%20%22sat_close%22%3A%2014%2C%20%22sat_open%22%3A%208.0%2C%20%22state%22%3A%20%22VT%22%2C%20%22sun_close%22%3A%20-1%2C%20%22sun_open%22%3A%20-1.0%2C%20%22type%22%3A%20%22independent%22%2C%20%22week_close%22%3A%2018.0%2C%20%22week_open%22%3A%208.0%7D%2C%20%22type%22%3A%20%22Feature%22%7D%2C%20%7B%22bbox%22%3A%20%5B-72.656394%2C%2044.1488732%2C%20-72.656394%2C%2044.1488732%5D%2C%20%22geometry%22%3A%20%7B%22coordinates%22%3A%20%5B-72.656394%2C%2044.1488732%5D%2C%20%22type%22%3A%20%22Point%22%7D%2C%20%22id%22%3A%20%22166%22%2C%20%22properties%22%3A%20%7B%22address%22%3A%20%2214%20Depot%20Square%20Northfield%2C%20VT%2005663%22%2C%20%22lat%22%3A%2044.1488732%2C%20%22lon%22%3A%20-72.656394%2C%20%22pharmacy_name%22%3A%20%22Northfield%20Pharmacy%22%2C%20%22pharmid%22%3A%20%22VT14%22%2C%20%22sat_close%22%3A%2014%2C%20%22sat_open%22%3A%209.0%2C%20%22state%22%3A%20%22VT%22%2C%20%22sun_close%22%3A%2012%2C%20%22sun_open%22%3A%208.0%2C%20%22type%22%3A%20%22independent%22%2C%20%22week_close%22%3A%2018.0%2C%20%22week_open%22%3A%209.0%7D%2C%20%22type%22%3A%20%22Feature%22%7D%2C%20%7B%22bbox%22%3A%20%5B-72.96661%2C%2043.6123332%2C%20-72.96661%2C%2043.6123332%5D%2C%20%22geometry%22%3A%20%7B%22coordinates%22%3A%20%5B-72.96661%2C%2043.6123332%5D%2C%20%22type%22%3A%20%22Point%22%7D%2C%20%22id%22%3A%20%22167%22%2C%20%22properties%22%3A%20%7B%22address%22%3A%20%2262%20Woodstock%20Ave%20Ste%201%2C%20Rutland%2C%20VT%2005701%22%2C%20%22lat%22%3A%2043.6123332%2C%20%22lon%22%3A%20-72.96661%2C%20%22pharmacy_name%22%3A%20%22Beauchamp%20%5Cu0026%20O%5Cu0027Rourke%22%2C%20%22pharmid%22%3A%20%22VT117%22%2C%20%22sat_close%22%3A%2012%2C%20%22sat_open%22%3A%209.0%2C%20%22state%22%3A%20%22VT%22%2C%20%22sun_close%22%3A%20-1%2C%20%22sun_open%22%3A%20-1.0%2C%20%22type%22%3A%20%22independent%22%2C%20%22week_close%22%3A%2018.0%2C%20%22week_open%22%3A%208.0%7D%2C%20%22type%22%3A%20%22Feature%22%7D%2C%20%7B%22bbox%22%3A%20%5B-73.063909%2C%2043.1725285%2C%20-73.063909%2C%2043.1725285%5D%2C%20%22geometry%22%3A%20%7B%22coordinates%22%3A%20%5B-73.063909%2C%2043.1725285%5D%2C%20%22type%22%3A%20%22Point%22%7D%2C%20%22id%22%3A%20%22168%22%2C%20%22properties%22%3A%20%7B%22address%22%3A%20%2234%20Ways%20Lane%20Manchester%20CTR%22%2C%20%22lat%22%3A%2043.1725285%2C%20%22lon%22%3A%20-73.063909%2C%20%22pharmacy_name%22%3A%20%22The%20Pharmacy%20Northshire%20%28KSV%29%22%2C%20%22pharmid%22%3A%20%22VT116%22%2C%20%22sat_close%22%3A%2015%2C%20%22sat_open%22%3A%209.0%2C%20%22state%22%3A%20%22VT%22%2C%20%22sun_close%22%3A%20-1%2C%20%22sun_open%22%3A%20-1.0%2C%20%22type%22%3A%20%22independent%22%2C%20%22week_close%22%3A%2018.0%2C%20%22week_open%22%3A%209.0%7D%2C%20%22type%22%3A%20%22Feature%22%7D%2C%20%7B%22bbox%22%3A%20%5B-72.713565%2C%2044.4745121%2C%20-72.713565%2C%2044.4745121%5D%2C%20%22geometry%22%3A%20%7B%22coordinates%22%3A%20%5B-72.713565%2C%2044.4745121%5D%2C%20%22type%22%3A%20%22Point%22%7D%2C%20%22id%22%3A%20%22169%22%2C%20%22properties%22%3A%20%7B%22address%22%3A%20%221878%20Mountain%20Road%20Stowe%2C%20VT%2005672%22%2C%20%22lat%22%3A%2044.4745121%2C%20%22lon%22%3A%20-72.713565%2C%20%22pharmacy_name%22%3A%20%22Lamoille%20Health%20Pharmacy%22%2C%20%22pharmid%22%3A%20%22VT115%22%2C%20%22sat_close%22%3A%2014%2C%20%22sat_open%22%3A%209.0%2C%20%22state%22%3A%20%22VT%22%2C%20%22sun_close%22%3A%20-1%2C%20%22sun_open%22%3A%20-1.0%2C%20%22type%22%3A%20%22independent%22%2C%20%22week_close%22%3A%2018.0%2C%20%22week_open%22%3A%208.0%7D%2C%20%22type%22%3A%20%22Feature%22%7D%2C%20%7B%22bbox%22%3A%20%5B-73.070609%2C%2044.8068554%2C%20-73.070609%2C%2044.8068554%5D%2C%20%22geometry%22%3A%20%7B%22coordinates%22%3A%20%5B-73.070609%2C%2044.8068554%5D%2C%20%22type%22%3A%20%22Point%22%7D%2C%20%22id%22%3A%20%22170%22%2C%20%22properties%22%3A%20%7B%22address%22%3A%20%223%20Crest%20Rd%20St.%20Albans%20VT%2005450%20within%20the%20Dr%20office%20Commons%22%2C%20%22lat%22%3A%2044.8068554%2C%20%22lon%22%3A%20-73.070609%2C%20%22pharmacy_name%22%3A%20%22St.%20Albans%20Pharmacy%22%2C%20%22pharmid%22%3A%20%22VT114%22%2C%20%22sat_close%22%3A%2012%2C%20%22sat_open%22%3A%209.0%2C%20%22state%22%3A%20%22VT%22%2C%20%22sun_close%22%3A%20-1%2C%20%22sun_open%22%3A%20-1.0%2C%20%22type%22%3A%20%22independent%22%2C%20%22week_close%22%3A%2017.5%2C%20%22week_open%22%3A%208.5%7D%2C%20%22type%22%3A%20%22Feature%22%7D%2C%20%7B%22bbox%22%3A%20%5B-73.008426%2C%2044.6567244%2C%20-73.008426%2C%2044.6567244%5D%2C%20%22geometry%22%3A%20%7B%22coordinates%22%3A%20%5B-73.008426%2C%2044.6567244%5D%2C%20%22type%22%3A%20%22Point%22%7D%2C%20%22id%22%3A%20%22171%22%2C%20%22properties%22%3A%20%7B%22address%22%3A%20%22997%20Main%20St%20Fairfax%20VT%2005454%22%2C%20%22lat%22%3A%2044.6567244%2C%20%22lon%22%3A%20-73.008426%2C%20%22pharmacy_name%22%3A%20%22Fairfax%20Pharmacy%22%2C%20%22pharmid%22%3A%20%22VT113%22%2C%20%22sat_close%22%3A%2012%2C%20%22sat_open%22%3A%209.0%2C%20%22state%22%3A%20%22VT%22%2C%20%22sun_close%22%3A%20-1%2C%20%22sun_open%22%3A%20-1.0%2C%20%22type%22%3A%20%22independent%22%2C%20%22week_close%22%3A%2017.5%2C%20%22week_open%22%3A%208.5%7D%2C%20%22type%22%3A%20%22Feature%22%7D%2C%20%7B%22bbox%22%3A%20%5B-73.122928%2C%2044.9190623%2C%20-73.122928%2C%2044.9190623%5D%2C%20%22geometry%22%3A%20%7B%22coordinates%22%3A%20%5B-73.122928%2C%2044.9190623%5D%2C%20%22type%22%3A%20%22Point%22%7D%2C%20%22id%22%3A%20%22172%22%2C%20%22properties%22%3A%20%7B%22address%22%3A%20%2213%20York%20St%20Swanton%20VT%2005488%22%2C%20%22lat%22%3A%2044.9190623%2C%20%22lon%22%3A%20-73.122928%2C%20%22pharmacy_name%22%3A%20%22Swanton%20Rexall%22%2C%20%22pharmid%22%3A%20%22VT112%22%2C%20%22sat_close%22%3A%2012%2C%20%22sat_open%22%3A%209.0%2C%20%22state%22%3A%20%22VT%22%2C%20%22sun_close%22%3A%20-1%2C%20%22sun_open%22%3A%20-1.0%2C%20%22type%22%3A%20%22independent%22%2C%20%22week_close%22%3A%2017.5%2C%20%22week_open%22%3A%208.5%7D%2C%20%22type%22%3A%20%22Feature%22%7D%2C%20%7B%22bbox%22%3A%20%5B-72.513712%2C%2043.6270934%2C%20-72.513712%2C%2043.6270934%5D%2C%20%22geometry%22%3A%20%7B%22coordinates%22%3A%20%5B-72.513712%2C%2043.6270934%5D%2C%20%22type%22%3A%20%22Point%22%7D%2C%20%22id%22%3A%20%22173%22%2C%20%22properties%22%3A%20%7B%22address%22%3A%20%2232%20Pleasant%20Street%20Woodstock%2C%20VT%2005091%22%2C%20%22lat%22%3A%2043.6270934%2C%20%22lon%22%3A%20-72.513712%2C%20%22pharmacy_name%22%3A%20%22Ottaquechee%20Pharmacy%22%2C%20%22pharmid%22%3A%20%22VT111%22%2C%20%22sat_close%22%3A%20-1%2C%20%22sat_open%22%3A%20-1.0%2C%20%22state%22%3A%20%22VT%22%2C%20%22sun_close%22%3A%20-1%2C%20%22sun_open%22%3A%20-1.0%2C%20%22type%22%3A%20%22independent%22%2C%20%22week_close%22%3A%2018.0%2C%20%22week_open%22%3A%208.0%7D%2C%20%22type%22%3A%20%22Feature%22%7D%2C%20%7B%22bbox%22%3A%20%5B-73.107455%2C%2044.4361188%2C%20-73.107455%2C%2044.4361188%5D%2C%20%22geometry%22%3A%20%7B%22coordinates%22%3A%20%5B-73.107455%2C%2044.4361188%5D%2C%20%22type%22%3A%20%22Point%22%7D%2C%20%22id%22%3A%20%22174%22%2C%20%22properties%22%3A%20%7B%22address%22%3A%20%22434%20Hurricane%20Ln%2C%20Williston%2C%20VT%2005403%22%2C%20%22lat%22%3A%2044.4361188%2C%20%22lon%22%3A%20-73.107455%2C%20%22pharmacy_name%22%3A%20%22Freedom%20Pharmacy%22%2C%20%22pharmid%22%3A%20%22VT109%22%2C%20%22sat_close%22%3A%20-1%2C%20%22sat_open%22%3A%20-1.0%2C%20%22state%22%3A%20%22VT%22%2C%20%22sun_close%22%3A%20-1%2C%20%22sun_open%22%3A%20-1.0%2C%20%22type%22%3A%20%22independent%22%2C%20%22week_close%22%3A%2018.0%2C%20%22week_open%22%3A%209.0%7D%2C%20%22type%22%3A%20%22Feature%22%7D%2C%20%7B%22bbox%22%3A%20%5B-73.209015%2C%2044.4807158%2C%20-73.209015%2C%2044.4807158%5D%2C%20%22geometry%22%3A%20%7B%22coordinates%22%3A%20%5B-73.209015%2C%2044.4807158%5D%2C%20%22type%22%3A%20%22Point%22%7D%2C%20%22id%22%3A%20%22175%22%2C%20%22properties%22%3A%20%7B%22address%22%3A%20%22242%20Pearl%20St%20Burlington%20VT%2005401%22%2C%20%22lat%22%3A%2044.4807158%2C%20%22lon%22%3A%20-73.209015%2C%20%22pharmacy_name%22%3A%20%22Lakeside%20Pharmacy%22%2C%20%22pharmid%22%3A%20%22VT108%22%2C%20%22sat_close%22%3A%2016%2C%20%22sat_open%22%3A%209.0%2C%20%22state%22%3A%20%22VT%22%2C%20%22sun_close%22%3A%20-1%2C%20%22sun_open%22%3A%20-1.0%2C%20%22type%22%3A%20%22independent%22%2C%20%22week_close%22%3A%2019.0%2C%20%22week_open%22%3A%208.0%7D%2C%20%22type%22%3A%20%22Feature%22%7D%2C%20%7B%22bbox%22%3A%20%5B-73.196657%2C%2042.8819309%2C%20-73.196657%2C%2042.8819309%5D%2C%20%22geometry%22%3A%20%7B%22coordinates%22%3A%20%5B-73.196657%2C%2042.8819309%5D%2C%20%22type%22%3A%20%22Point%22%7D%2C%20%22id%22%3A%20%22176%22%2C%20%22properties%22%3A%20%7B%22address%22%3A%20%22205%20North%20St%2C%20Bennington%2C%20VT%22%2C%20%22lat%22%3A%2042.8819309%2C%20%22lon%22%3A%20-73.196657%2C%20%22pharmacy_name%22%3A%20%22The%20Pharmacy%20Inc%22%2C%20%22pharmid%22%3A%20%22VT1%22%2C%20%22sat_close%22%3A%2015%2C%20%22sat_open%22%3A%209.0%2C%20%22state%22%3A%20%22VT%22%2C%20%22sun_close%22%3A%20-1%2C%20%22sun_open%22%3A%20-1.0%2C%20%22type%22%3A%20%22independent%22%2C%20%22week_close%22%3A%2018.0%2C%20%22week_open%22%3A%209.0%7D%2C%20%22type%22%3A%20%22Feature%22%7D%2C%20%7B%22bbox%22%3A%20%5B-73.46914616%2C%2044.7008404%2C%20-73.46914616%2C%2044.7008404%5D%2C%20%22geometry%22%3A%20%7B%22coordinates%22%3A%20%5B-73.46914616%2C%2044.7008404%5D%2C%20%22type%22%3A%20%22Point%22%7D%2C%20%22id%22%3A%20%22177%22%2C%20%22properties%22%3A%20%7B%22address%22%3A%20%2275%20Beekman%20St%2C%20Plattsburgh%2C%20NY%2012901%22%2C%20%22lat%22%3A%2044.7008404%2C%20%22lon%22%3A%20-73.46914616%2C%20%22pharmacy_name%22%3A%20%22UVM%20Outpatient%22%2C%20%22pharmid%22%3A%20%22NY9%22%2C%20%22sat_close%22%3A%2023%2C%20%22sat_open%22%3A%207.0%2C%20%22state%22%3A%20%22NY%22%2C%20%22sun_close%22%3A%2023%2C%20%22sun_open%22%3A%207.0%2C%20%22type%22%3A%20%22independent%22%2C%20%22week_close%22%3A%2023.0%2C%20%22week_open%22%3A%207.0%7D%2C%20%22type%22%3A%20%22Feature%22%7D%2C%20%7B%22bbox%22%3A%20%5B-73.3516143%2C%2042.9012581%2C%20-73.3516143%2C%2042.9012581%5D%2C%20%22geometry%22%3A%20%7B%22coordinates%22%3A%20%5B-73.3516143%2C%2042.9012581%5D%2C%20%22type%22%3A%20%22Point%22%7D%2C%20%22id%22%3A%20%22178%22%2C%20%22properties%22%3A%20%7B%22address%22%3A%20%2224%20Church%20St%2C%20Hoosick%20Falls%2C%20NY%2012090%22%2C%20%22lat%22%3A%2042.9012581%2C%20%22lon%22%3A%20-73.3516143%2C%20%22pharmacy_name%22%3A%20%22Thorpe%5Cu0027s%20Pharmacy%22%2C%20%22pharmid%22%3A%20%22NY23%22%2C%20%22sat_close%22%3A%2012%2C%20%22sat_open%22%3A%208.0%2C%20%22state%22%3A%20%22NY%22%2C%20%22sun_close%22%3A%20-1%2C%20%22sun_open%22%3A%20-1.0%2C%20%22type%22%3A%20%22independent%22%2C%20%22week_close%22%3A%2018.0%2C%20%22week_open%22%3A%208.0%7D%2C%20%22type%22%3A%20%22Feature%22%7D%2C%20%7B%22bbox%22%3A%20%5B-73.2661715%2C%2043.3996914%2C%20-73.2661715%2C%2043.3996914%5D%2C%20%22geometry%22%3A%20%7B%22coordinates%22%3A%20%5B-73.2661715%2C%2043.3996914%5D%2C%20%22type%22%3A%20%22Point%22%7D%2C%20%22id%22%3A%20%22179%22%2C%20%22properties%22%3A%20%7B%22address%22%3A%20%2275%20Quaker%20St%2C%20Granville%2C%20NY%2012832%22%2C%20%22lat%22%3A%2043.3996914%2C%20%22lon%22%3A%20-73.2661715%2C%20%22pharmacy_name%22%3A%20%22Fred%5Cu0027s%20Granville%22%2C%20%22pharmid%22%3A%20%22NY21%22%2C%20%22sat_close%22%3A%2015%2C%20%22sat_open%22%3A%209.0%2C%20%22state%22%3A%20%22NY%22%2C%20%22sun_close%22%3A%20-1%2C%20%22sun_open%22%3A%20-1.0%2C%20%22type%22%3A%20%22independent%22%2C%20%22week_close%22%3A%2018.0%2C%20%22week_open%22%3A%209.0%7D%2C%20%22type%22%3A%20%22Feature%22%7D%2C%20%7B%22bbox%22%3A%20%5B-73.4598355%2C%2044.0480447%2C%20-73.4598355%2C%2044.0480447%5D%2C%20%22geometry%22%3A%20%7B%22coordinates%22%3A%20%5B-73.4598355%2C%2044.0480447%5D%2C%20%22type%22%3A%20%22Point%22%7D%2C%20%22id%22%3A%20%22180%22%2C%20%22properties%22%3A%20%7B%22address%22%3A%20%224315%20Main%20St%2C%20Port%20Henry%2C%20NY%2012974%22%2C%20%22lat%22%3A%2044.0480447%2C%20%22lon%22%3A%20-73.4598355%2C%20%22pharmacy_name%22%3A%20%22Moriah%20Pharmacy%22%2C%20%22pharmid%22%3A%20%22NY18%22%2C%20%22sat_close%22%3A%2013%2C%20%22sat_open%22%3A%209.0%2C%20%22state%22%3A%20%22NY%22%2C%20%22sun_close%22%3A%20-1%2C%20%22sun_open%22%3A%20-1.0%2C%20%22type%22%3A%20%22independent%22%2C%20%22week_close%22%3A%2017.5%2C%20%22week_open%22%3A%209.0%7D%2C%20%22type%22%3A%20%22Feature%22%7D%2C%20%7B%22bbox%22%3A%20%5B-73.398193%2C%2044.3716105%2C%20-73.398193%2C%2044.3716105%5D%2C%20%22geometry%22%3A%20%7B%22coordinates%22%3A%20%5B-73.398193%2C%2044.3716105%5D%2C%20%22type%22%3A%20%22Point%22%7D%2C%20%22id%22%3A%20%22181%22%2C%20%22properties%22%3A%20%7B%22address%22%3A%20%223932%20NY-22%2C%20Willsboro%2C%20NY%2012996%22%2C%20%22lat%22%3A%2044.3716105%2C%20%22lon%22%3A%20-73.398193%2C%20%22pharmacy_name%22%3A%20%22Willsboro%20Pharmacy%22%2C%20%22pharmid%22%3A%20%22NY17%22%2C%20%22sat_close%22%3A%2013%2C%20%22sat_open%22%3A%209.0%2C%20%22state%22%3A%20%22NY%22%2C%20%22sun_close%22%3A%20-1%2C%20%22sun_open%22%3A%20-1.0%2C%20%22type%22%3A%20%22independent%22%2C%20%22week_close%22%3A%2017.5%2C%20%22week_open%22%3A%209.0%7D%2C%20%22type%22%3A%20%22Feature%22%7D%2C%20%7B%22bbox%22%3A%20%5B-73.480103%2C%2044.5046219%2C%20-73.480103%2C%2044.5046219%5D%2C%20%22geometry%22%3A%20%7B%22coordinates%22%3A%20%5B-73.480103%2C%2044.5046219%5D%2C%20%22type%22%3A%20%22Point%22%7D%2C%20%22id%22%3A%20%22182%22%2C%20%22properties%22%3A%20%7B%22address%22%3A%20%221730%20Front%20St%2C%20Keeseville%2C%20NY%2012944%22%2C%20%22lat%22%3A%2044.5046219%2C%20%22lon%22%3A%20-73.480103%2C%20%22pharmacy_name%22%3A%20%22Keeseville%20Pharmacy%22%2C%20%22pharmid%22%3A%20%22NY16%22%2C%20%22sat_close%22%3A%2015%2C%20%22sat_open%22%3A%209.0%2C%20%22state%22%3A%20%22NY%22%2C%20%22sun_close%22%3A%20-1%2C%20%22sun_open%22%3A%20-1.0%2C%20%22type%22%3A%20%22independent%22%2C%20%22week_close%22%3A%2018.0%2C%20%22week_open%22%3A%208.0%7D%2C%20%22type%22%3A%20%22Feature%22%7D%2C%20%7B%22bbox%22%3A%20%5B-73.46020053%2C%2044.6999725%2C%20-73.46020053%2C%2044.6999725%5D%2C%20%22geometry%22%3A%20%7B%22coordinates%22%3A%20%5B-73.46020053%2C%2044.6999725%5D%2C%20%22type%22%3A%20%22Point%22%7D%2C%20%22id%22%3A%20%22183%22%2C%20%22properties%22%3A%20%7B%22address%22%3A%20%2228%20Montcalm%20Ave%2C%20Plattsburgh%2C%20NY%2012901%22%2C%20%22lat%22%3A%2044.6999725%2C%20%22lon%22%3A%20-73.46020053%2C%20%22pharmacy_name%22%3A%20%22Condo%20Pharmacy%22%2C%20%22pharmid%22%3A%20%22NY12%22%2C%20%22sat_close%22%3A%2015%2C%20%22sat_open%22%3A%209.0%2C%20%22state%22%3A%20%22NY%22%2C%20%22sun_close%22%3A%20-1%2C%20%22sun_open%22%3A%20-1.0%2C%20%22type%22%3A%20%22independent%22%2C%20%22week_close%22%3A%2019.0%2C%20%22week_open%22%3A%208.0%7D%2C%20%22type%22%3A%20%22Feature%22%7D%2C%20%7B%22bbox%22%3A%20%5B-73.3713735%2C%2044.9832215%2C%20-73.3713735%2C%2044.9832215%5D%2C%20%22geometry%22%3A%20%7B%22coordinates%22%3A%20%5B-73.3713735%2C%2044.9832215%5D%2C%20%22type%22%3A%20%22Point%22%7D%2C%20%22id%22%3A%20%22184%22%2C%20%22properties%22%3A%20%7B%22address%22%3A%20%2272%20Champlain%20St%2C%20Rouses%20Point%2C%20NY%2012979%22%2C%20%22lat%22%3A%2044.9832215%2C%20%22lon%22%3A%20-73.3713735%2C%20%22pharmacy_name%22%3A%20%22Cornerstone%20Drug%20and%20Gift%20Inc%22%2C%20%22pharmid%22%3A%20%22NY1%22%2C%20%22sat_close%22%3A%2015%2C%20%22sat_open%22%3A%209.0%2C%20%22state%22%3A%20%22NY%22%2C%20%22sun_close%22%3A%20-1%2C%20%22sun_open%22%3A%20-1.0%2C%20%22type%22%3A%20%22independent%22%2C%20%22week_close%22%3A%2018.0%2C%20%22week_open%22%3A%208.0%7D%2C%20%22type%22%3A%20%22Feature%22%7D%2C%20%7B%22bbox%22%3A%20%5B-71.48309332%2C%2044.90296451%2C%20-71.48309332%2C%2044.90296451%5D%2C%20%22geometry%22%3A%20%7B%22coordinates%22%3A%20%5B-71.48309332%2C%2044.90296451%5D%2C%20%22type%22%3A%20%22Point%22%7D%2C%20%22id%22%3A%20%22185%22%2C%20%22properties%22%3A%20%7B%22address%22%3A%20%22141%20Corliss%20Ln%2C%20Colebrook%2C%20NH%2003576%22%2C%20%22lat%22%3A%2044.90296451%2C%20%22lon%22%3A%20-71.48309332%2C%20%22pharmacy_name%22%3A%20%22North%20Country%20Healthcare%20Pharmacy%22%2C%20%22pharmid%22%3A%20%22NH72%22%2C%20%22sat_close%22%3A%20-1%2C%20%22sat_open%22%3A%20-1.0%2C%20%22state%22%3A%20%22NH%22%2C%20%22sun_close%22%3A%20-1%2C%20%22sun_open%22%3A%20-1.0%2C%20%22type%22%3A%20%22independent%22%2C%20%22week_close%22%3A%2017.0%2C%20%22week_open%22%3A%208.5%7D%2C%20%22type%22%3A%20%22Feature%22%7D%2C%20%7B%22bbox%22%3A%20%5B-71.55445147%2C%2044.48576325%2C%20-71.55445147%2C%2044.48576325%5D%2C%20%22geometry%22%3A%20%7B%22coordinates%22%3A%20%5B-71.55445147%2C%2044.48576325%5D%2C%20%22type%22%3A%20%22Point%22%7D%2C%20%22id%22%3A%20%22186%22%2C%20%22properties%22%3A%20%7B%22address%22%3A%20%22173%20Middle%20St%2C%20Lancaster%2C%20NH%2003584%22%2C%20%22lat%22%3A%2044.48576325%2C%20%22lon%22%3A%20-71.55445147%2C%20%22pharmacy_name%22%3A%20%22North%20Country%20Healthcare%20Pharmacy%22%2C%20%22pharmid%22%3A%20%22NH70%22%2C%20%22sat_close%22%3A%20-1%2C%20%22sat_open%22%3A%20-1.0%2C%20%22state%22%3A%20%22NH%22%2C%20%22sun_close%22%3A%20-1%2C%20%22sun_open%22%3A%20-1.0%2C%20%22type%22%3A%20%22independent%22%2C%20%22week_close%22%3A%2017.5%2C%20%22week_open%22%3A%209.0%7D%2C%20%22type%22%3A%20%22Feature%22%7D%2C%20%7B%22bbox%22%3A%20%5B-71.75881662%2C%2044.3082322%2C%20-71.75881662%2C%2044.3082322%5D%2C%20%22geometry%22%3A%20%7B%22coordinates%22%3A%20%5B-71.75881662%2C%2044.3082322%5D%2C%20%22type%22%3A%20%22Point%22%7D%2C%20%22id%22%3A%20%22187%22%2C%20%22properties%22%3A%20%7B%22address%22%3A%20%22338%20Union%20St%2C%20Littleton%2C%20NH%2003561%22%2C%20%22lat%22%3A%2044.3082322%2C%20%22lon%22%3A%20-71.75881662%2C%20%22pharmacy_name%22%3A%20%22Eastern%20States%20Compounding%20Pharmacy%22%2C%20%22pharmid%22%3A%20%22NH68%22%2C%20%22sat_close%22%3A%20-1%2C%20%22sat_open%22%3A%20-1.0%2C%20%22state%22%3A%20%22NH%22%2C%20%22sun_close%22%3A%20-1%2C%20%22sun_open%22%3A%20-1.0%2C%20%22type%22%3A%20%22independent%22%2C%20%22week_close%22%3A%2017.0%2C%20%22week_open%22%3A%208.5%7D%2C%20%22type%22%3A%20%22Feature%22%7D%2C%20%7B%22bbox%22%3A%20%5B-72.25966618%2C%2043.6759474%2C%20-72.25966618%2C%2043.6759474%5D%2C%20%22geometry%22%3A%20%7B%22coordinates%22%3A%20%5B-72.25966618%2C%2043.6759474%5D%2C%20%22type%22%3A%20%22Point%22%7D%2C%20%22id%22%3A%20%22188%22%2C%20%22properties%22%3A%20%7B%22address%22%3A%20%2212%20Centerra%20Pkwy%2C%20Lebanon%2C%20NH%2003766%22%2C%20%22lat%22%3A%2043.6759474%2C%20%22lon%22%3A%20-72.25966618%2C%20%22pharmacy_name%22%3A%20%22Darmouth%20Hitchcock%20at%20Centerra%22%2C%20%22pharmid%22%3A%20%22NH60%22%2C%20%22sat_close%22%3A%2021%2C%20%22sat_open%22%3A%207.0%2C%20%22state%22%3A%20%22NH%22%2C%20%22sun_close%22%3A%2021%2C%20%22sun_open%22%3A%207.0%2C%20%22type%22%3A%20%22independent%22%2C%20%22week_close%22%3A%2021.0%2C%20%22week_open%22%3A%207.0%7D%2C%20%22type%22%3A%20%22Feature%22%7D%2C%20%7B%22bbox%22%3A%20%5B-72.34048811%2C%2043.368568%2C%20-72.34048811%2C%2043.368568%5D%2C%20%22geometry%22%3A%20%7B%22coordinates%22%3A%20%5B-72.34048811%2C%2043.368568%5D%2C%20%22type%22%3A%20%22Point%22%7D%2C%20%22id%22%3A%20%22189%22%2C%20%22properties%22%3A%20%7B%22address%22%3A%20%22109%20Pleasant%20St%2C%20Claremont%2C%20NH%2003743%22%2C%20%22lat%22%3A%2043.368568%2C%20%22lon%22%3A%20-72.34048811%2C%20%22pharmacy_name%22%3A%20%22Sugar%20River%20Pharmacy%22%2C%20%22pharmid%22%3A%20%22NH49%22%2C%20%22sat_close%22%3A%2016%2C%20%22sat_open%22%3A%209.0%2C%20%22state%22%3A%20%22NH%22%2C%20%22sun_close%22%3A%20-1%2C%20%22sun_open%22%3A%20-1.0%2C%20%22type%22%3A%20%22independent%22%2C%20%22week_close%22%3A%2018.5%2C%20%22week_open%22%3A%208.5%7D%2C%20%22type%22%3A%20%22Feature%22%7D%2C%20%7B%22bbox%22%3A%20%5B-72.7385117%2C%2042.6037424%2C%20-72.7385117%2C%2042.6037424%5D%2C%20%22geometry%22%3A%20%7B%22coordinates%22%3A%20%5B-72.7385117%2C%2042.6037424%5D%2C%20%22type%22%3A%20%22Point%22%7D%2C%20%22id%22%3A%20%22190%22%2C%20%22properties%22%3A%20%7B%22address%22%3A%20%2252%20Bridge%20St%2C%20Shelburne%20Falls%2C%20MA%2001370%22%2C%20%22lat%22%3A%2042.6037424%2C%20%22lon%22%3A%20-72.7385117%2C%20%22pharmacy_name%22%3A%20%22Baker%20Pharmacy%22%2C%20%22pharmid%22%3A%20%22MA32%22%2C%20%22sat_close%22%3A%2015%2C%20%22sat_open%22%3A%208.5%2C%20%22state%22%3A%20%22MA%22%2C%20%22sun_close%22%3A%20-1%2C%20%22sun_open%22%3A%20-1.0%2C%20%22type%22%3A%20%22independent%22%2C%20%22week_close%22%3A%2018.0%2C%20%22week_open%22%3A%208.5%7D%2C%20%22type%22%3A%20%22Feature%22%7D%2C%20%7B%22bbox%22%3A%20%5B-73.20438668%2C%2042.7099652%2C%20-73.20438668%2C%2042.7099652%5D%2C%20%22geometry%22%3A%20%7B%22coordinates%22%3A%20%5B-73.20438668%2C%2042.7099652%5D%2C%20%22type%22%3A%20%22Point%22%7D%2C%20%22id%22%3A%20%22191%22%2C%20%22properties%22%3A%20%7B%22address%22%3A%20%2272%20Spring%20St%2C%20Williamstown%2C%20MA%2001267%22%2C%20%22lat%22%3A%2042.7099652%2C%20%22lon%22%3A%20-73.20438668%2C%20%22pharmacy_name%22%3A%20%22Williamstown%20Apothecary%22%2C%20%22pharmid%22%3A%20%22MA25%22%2C%20%22sat_close%22%3A%2014%2C%20%22sat_open%22%3A%208.0%2C%20%22state%22%3A%20%22MA%22%2C%20%22sun_close%22%3A%2013%2C%20%22sun_open%22%3A%209.0%2C%20%22type%22%3A%20%22independent%22%2C%20%22week_close%22%3A%2018.0%2C%20%22week_open%22%3A%208.0%7D%2C%20%22type%22%3A%20%22Feature%22%7D%5D%2C%20%22type%22%3A%20%22FeatureCollection%22%7D%29%3B%0A%0A%20%20%20%20%20%20%20%20%0A%20%20%20%20%0A%20%20%20%20geo_json_679db4f500cf480d8685191530a7d021.bindTooltip%28%0A%20%20%20%20function%28layer%29%7B%0A%20%20%20%20let%20div%20%3D%20L.DomUtil.create%28%27div%27%29%3B%0A%20%20%20%20%0A%20%20%20%20let%20handleObject%20%3D%20feature%3D%3Etypeof%28feature%29%3D%3D%27object%27%20%3F%20JSON.stringify%28feature%29%20%3A%20feature%3B%0A%20%20%20%20let%20fields%20%3D%20%5B%22pharmid%22%2C%20%22pharmacy_name%22%2C%20%22type%22%2C%20%22address%22%2C%20%22state%22%2C%20%22lat%22%2C%20%22lon%22%2C%20%22week_open%22%2C%20%22week_close%22%2C%20%22sat_open%22%2C%20%22sat_close%22%2C%20%22sun_open%22%2C%20%22sun_close%22%5D%3B%0A%20%20%20%20let%20aliases%20%3D%20%5B%22pharmid%22%2C%20%22pharmacy_name%22%2C%20%22type%22%2C%20%22address%22%2C%20%22state%22%2C%20%22lat%22%2C%20%22lon%22%2C%20%22week_open%22%2C%20%22week_close%22%2C%20%22sat_open%22%2C%20%22sat_close%22%2C%20%22sun_open%22%2C%20%22sun_close%22%5D%3B%0A%20%20%20%20let%20table%20%3D%20%27%3Ctable%3E%27%20%2B%0A%20%20%20%20%20%20%20%20String%28%0A%20%20%20%20%20%20%20%20fields.map%28%0A%20%20%20%20%20%20%20%20%28v%2Ci%29%3D%3E%0A%20%20%20%20%20%20%20%20%60%3Ctr%3E%0A%20%20%20%20%20%20%20%20%20%20%20%20%3Cth%3E%24%7Baliases%5Bi%5D%7D%3C/th%3E%0A%20%20%20%20%20%20%20%20%20%20%20%20%0A%20%20%20%20%20%20%20%20%20%20%20%20%3Ctd%3E%24%7BhandleObject%28layer.feature.properties%5Bv%5D%29%7D%3C/td%3E%0A%20%20%20%20%20%20%20%20%3C/tr%3E%60%29.join%28%27%27%29%29%0A%20%20%20%20%2B%27%3C/table%3E%27%3B%0A%20%20%20%20div.innerHTML%3Dtable%3B%0A%20%20%20%20%0A%20%20%20%20return%20div%0A%20%20%20%20%7D%0A%20%20%20%20%2C%7B%22className%22%3A%20%22foliumtooltip%22%2C%20%22sticky%22%3A%20true%7D%29%3B%0A%20%20%20%20%20%20%20%20%20%20%20%20%20%20%20%20%20%20%20%20%20%0A%3C/script%3E onload=\"this.contentDocument.open();this.contentDocument.write(    decodeURIComponent(this.getAttribute('data-html')));this.contentDocument.close();\" allowfullscreen webkitallowfullscreen mozallowfullscreen></iframe></div></div>"
      ],
      "text/plain": [
       "<folium.folium.Map at 0x7f9f66acc340>"
      ]
     },
     "execution_count": 88,
     "metadata": {},
     "output_type": "execute_result"
    }
   ],
   "source": [
    "pharmacies.explore()"
   ]
  },
  {
   "cell_type": "code",
   "execution_count": 89,
   "metadata": {},
   "outputs": [
    {
     "ename": "ParserError",
     "evalue": "Error tokenizing data. C error: Expected 1 fields in line 5, saw 5\n",
     "output_type": "error",
     "traceback": [
      "\u001b[0;31m---------------------------------------------------------------------------\u001b[0m",
      "\u001b[0;31mParserError\u001b[0m                               Traceback (most recent call last)",
      "Input \u001b[0;32mIn [89]\u001b[0m, in \u001b[0;36m<cell line: 10>\u001b[0;34m()\u001b[0m\n\u001b[1;32m      1\u001b[0m \u001b[38;5;66;03m# staffing_interpolated.csv is confidential. \u001b[39;00m\n\u001b[1;32m      2\u001b[0m \u001b[38;5;66;03m# with permission from researchers, download from OSF at https://osf.io/download/b956m/ \u001b[39;00m\n\u001b[1;32m      3\u001b[0m \u001b[38;5;66;03m#if not os.path.exists(\"./data/raw/private/staffing_interpolated.csv\"):\u001b[39;00m\n\u001b[0;32m   (...)\u001b[0m\n\u001b[1;32m      8\u001b[0m     \n\u001b[1;32m      9\u001b[0m \u001b[38;5;66;03m# Load pharmacy staffing data \u001b[39;00m\n\u001b[0;32m---> 10\u001b[0m pharm_staffing \u001b[38;5;241m=\u001b[39m pd\u001b[38;5;241m.\u001b[39mread_csv(\u001b[38;5;124m'\u001b[39m\u001b[38;5;124m./data/raw/private/staffing_interpolated.csv\u001b[39m\u001b[38;5;124m'\u001b[39m)\n\u001b[1;32m     11\u001b[0m pharm_staffing\u001b[38;5;241m.\u001b[39mhead()\n",
      "File \u001b[0;32m/cvmfs/cybergis.illinois.edu/software/conda/cybergisx/python3-0.9.0/lib/python3.8/site-packages/pandas/util/_decorators.py:311\u001b[0m, in \u001b[0;36mdeprecate_nonkeyword_arguments.<locals>.decorate.<locals>.wrapper\u001b[0;34m(*args, **kwargs)\u001b[0m\n\u001b[1;32m    305\u001b[0m \u001b[38;5;28;01mif\u001b[39;00m \u001b[38;5;28mlen\u001b[39m(args) \u001b[38;5;241m>\u001b[39m num_allow_args:\n\u001b[1;32m    306\u001b[0m     warnings\u001b[38;5;241m.\u001b[39mwarn(\n\u001b[1;32m    307\u001b[0m         msg\u001b[38;5;241m.\u001b[39mformat(arguments\u001b[38;5;241m=\u001b[39marguments),\n\u001b[1;32m    308\u001b[0m         \u001b[38;5;167;01mFutureWarning\u001b[39;00m,\n\u001b[1;32m    309\u001b[0m         stacklevel\u001b[38;5;241m=\u001b[39mstacklevel,\n\u001b[1;32m    310\u001b[0m     )\n\u001b[0;32m--> 311\u001b[0m \u001b[38;5;28;01mreturn\u001b[39;00m \u001b[43mfunc\u001b[49m\u001b[43m(\u001b[49m\u001b[38;5;241;43m*\u001b[39;49m\u001b[43margs\u001b[49m\u001b[43m,\u001b[49m\u001b[43m \u001b[49m\u001b[38;5;241;43m*\u001b[39;49m\u001b[38;5;241;43m*\u001b[39;49m\u001b[43mkwargs\u001b[49m\u001b[43m)\u001b[49m\n",
      "File \u001b[0;32m/cvmfs/cybergis.illinois.edu/software/conda/cybergisx/python3-0.9.0/lib/python3.8/site-packages/pandas/io/parsers/readers.py:586\u001b[0m, in \u001b[0;36mread_csv\u001b[0;34m(filepath_or_buffer, sep, delimiter, header, names, index_col, usecols, squeeze, prefix, mangle_dupe_cols, dtype, engine, converters, true_values, false_values, skipinitialspace, skiprows, skipfooter, nrows, na_values, keep_default_na, na_filter, verbose, skip_blank_lines, parse_dates, infer_datetime_format, keep_date_col, date_parser, dayfirst, cache_dates, iterator, chunksize, compression, thousands, decimal, lineterminator, quotechar, quoting, doublequote, escapechar, comment, encoding, encoding_errors, dialect, error_bad_lines, warn_bad_lines, on_bad_lines, delim_whitespace, low_memory, memory_map, float_precision, storage_options)\u001b[0m\n\u001b[1;32m    571\u001b[0m kwds_defaults \u001b[38;5;241m=\u001b[39m _refine_defaults_read(\n\u001b[1;32m    572\u001b[0m     dialect,\n\u001b[1;32m    573\u001b[0m     delimiter,\n\u001b[0;32m   (...)\u001b[0m\n\u001b[1;32m    582\u001b[0m     defaults\u001b[38;5;241m=\u001b[39m{\u001b[38;5;124m\"\u001b[39m\u001b[38;5;124mdelimiter\u001b[39m\u001b[38;5;124m\"\u001b[39m: \u001b[38;5;124m\"\u001b[39m\u001b[38;5;124m,\u001b[39m\u001b[38;5;124m\"\u001b[39m},\n\u001b[1;32m    583\u001b[0m )\n\u001b[1;32m    584\u001b[0m kwds\u001b[38;5;241m.\u001b[39mupdate(kwds_defaults)\n\u001b[0;32m--> 586\u001b[0m \u001b[38;5;28;01mreturn\u001b[39;00m \u001b[43m_read\u001b[49m\u001b[43m(\u001b[49m\u001b[43mfilepath_or_buffer\u001b[49m\u001b[43m,\u001b[49m\u001b[43m \u001b[49m\u001b[43mkwds\u001b[49m\u001b[43m)\u001b[49m\n",
      "File \u001b[0;32m/cvmfs/cybergis.illinois.edu/software/conda/cybergisx/python3-0.9.0/lib/python3.8/site-packages/pandas/io/parsers/readers.py:488\u001b[0m, in \u001b[0;36m_read\u001b[0;34m(filepath_or_buffer, kwds)\u001b[0m\n\u001b[1;32m    485\u001b[0m     \u001b[38;5;28;01mreturn\u001b[39;00m parser\n\u001b[1;32m    487\u001b[0m \u001b[38;5;28;01mwith\u001b[39;00m parser:\n\u001b[0;32m--> 488\u001b[0m     \u001b[38;5;28;01mreturn\u001b[39;00m \u001b[43mparser\u001b[49m\u001b[38;5;241;43m.\u001b[39;49m\u001b[43mread\u001b[49m\u001b[43m(\u001b[49m\u001b[43mnrows\u001b[49m\u001b[43m)\u001b[49m\n",
      "File \u001b[0;32m/cvmfs/cybergis.illinois.edu/software/conda/cybergisx/python3-0.9.0/lib/python3.8/site-packages/pandas/io/parsers/readers.py:1047\u001b[0m, in \u001b[0;36mTextFileReader.read\u001b[0;34m(self, nrows)\u001b[0m\n\u001b[1;32m   1045\u001b[0m \u001b[38;5;28;01mdef\u001b[39;00m \u001b[38;5;21mread\u001b[39m(\u001b[38;5;28mself\u001b[39m, nrows\u001b[38;5;241m=\u001b[39m\u001b[38;5;28;01mNone\u001b[39;00m):\n\u001b[1;32m   1046\u001b[0m     nrows \u001b[38;5;241m=\u001b[39m validate_integer(\u001b[38;5;124m\"\u001b[39m\u001b[38;5;124mnrows\u001b[39m\u001b[38;5;124m\"\u001b[39m, nrows)\n\u001b[0;32m-> 1047\u001b[0m     index, columns, col_dict \u001b[38;5;241m=\u001b[39m \u001b[38;5;28;43mself\u001b[39;49m\u001b[38;5;241;43m.\u001b[39;49m\u001b[43m_engine\u001b[49m\u001b[38;5;241;43m.\u001b[39;49m\u001b[43mread\u001b[49m\u001b[43m(\u001b[49m\u001b[43mnrows\u001b[49m\u001b[43m)\u001b[49m\n\u001b[1;32m   1049\u001b[0m     \u001b[38;5;28;01mif\u001b[39;00m index \u001b[38;5;129;01mis\u001b[39;00m \u001b[38;5;28;01mNone\u001b[39;00m:\n\u001b[1;32m   1050\u001b[0m         \u001b[38;5;28;01mif\u001b[39;00m col_dict:\n\u001b[1;32m   1051\u001b[0m             \u001b[38;5;66;03m# Any column is actually fine:\u001b[39;00m\n",
      "File \u001b[0;32m/cvmfs/cybergis.illinois.edu/software/conda/cybergisx/python3-0.9.0/lib/python3.8/site-packages/pandas/io/parsers/c_parser_wrapper.py:224\u001b[0m, in \u001b[0;36mCParserWrapper.read\u001b[0;34m(self, nrows)\u001b[0m\n\u001b[1;32m    222\u001b[0m \u001b[38;5;28;01mtry\u001b[39;00m:\n\u001b[1;32m    223\u001b[0m     \u001b[38;5;28;01mif\u001b[39;00m \u001b[38;5;28mself\u001b[39m\u001b[38;5;241m.\u001b[39mlow_memory:\n\u001b[0;32m--> 224\u001b[0m         chunks \u001b[38;5;241m=\u001b[39m \u001b[38;5;28;43mself\u001b[39;49m\u001b[38;5;241;43m.\u001b[39;49m\u001b[43m_reader\u001b[49m\u001b[38;5;241;43m.\u001b[39;49m\u001b[43mread_low_memory\u001b[49m\u001b[43m(\u001b[49m\u001b[43mnrows\u001b[49m\u001b[43m)\u001b[49m\n\u001b[1;32m    225\u001b[0m         \u001b[38;5;66;03m# destructive to chunks\u001b[39;00m\n\u001b[1;32m    226\u001b[0m         data \u001b[38;5;241m=\u001b[39m _concatenate_chunks(chunks)\n",
      "File \u001b[0;32m/cvmfs/cybergis.illinois.edu/software/conda/cybergisx/python3-0.9.0/lib/python3.8/site-packages/pandas/_libs/parsers.pyx:801\u001b[0m, in \u001b[0;36mpandas._libs.parsers.TextReader.read_low_memory\u001b[0;34m()\u001b[0m\n",
      "File \u001b[0;32m/cvmfs/cybergis.illinois.edu/software/conda/cybergisx/python3-0.9.0/lib/python3.8/site-packages/pandas/_libs/parsers.pyx:857\u001b[0m, in \u001b[0;36mpandas._libs.parsers.TextReader._read_rows\u001b[0;34m()\u001b[0m\n",
      "File \u001b[0;32m/cvmfs/cybergis.illinois.edu/software/conda/cybergisx/python3-0.9.0/lib/python3.8/site-packages/pandas/_libs/parsers.pyx:843\u001b[0m, in \u001b[0;36mpandas._libs.parsers.TextReader._tokenize_rows\u001b[0;34m()\u001b[0m\n",
      "File \u001b[0;32m/cvmfs/cybergis.illinois.edu/software/conda/cybergisx/python3-0.9.0/lib/python3.8/site-packages/pandas/_libs/parsers.pyx:1925\u001b[0m, in \u001b[0;36mpandas._libs.parsers.raise_parser_error\u001b[0;34m()\u001b[0m\n",
      "\u001b[0;31mParserError\u001b[0m: Error tokenizing data. C error: Expected 1 fields in line 5, saw 5\n"
     ]
    }
   ],
   "source": [
    "# staffing_interpolated.csv is confidential. \n",
    "# with permission from researchers, download from OSF at https://osf.io/download/b956m/ \n",
    "#if not os.path.exists(\"./data/raw/private/staffing_interpolated.csv\"):\n",
    "#    print(\"Loading pharmacy staffing levels\", flush=True)\n",
    "#    url = 'https://osf.io/download/b956m/'\n",
    "#    r = requests.get(url, allow_redirects=True)\n",
    "#    open('./data/raw/private/staffing_interpolated.csv', 'wb').write(r.content)\n",
    "    \n",
    "# Load pharmacy staffing data \n",
    "pharm_staffing = pd.read_csv('./data/raw/private/staffing_interpolated.csv')\n",
    "pharm_staffing.head()"
   ]
  },
  {
   "cell_type": "code",
   "execution_count": null,
   "metadata": {},
   "outputs": [],
   "source": [
    "# Join private staffing data to pharmacies dataset (locations, hours of operations, etc.) \n",
    "pharmacies_df = pd.merge(pharmacies, pharm_staffing, on='pharmid', how = 'left')\n",
    "pharmacies_df"
   ]
  },
  {
   "cell_type": "markdown",
   "metadata": {},
   "source": [
    "### (2) Population Dataset\n",
    "\n",
    "**Standard Metadata**\n",
    "\n",
    "- `Abstract`: Secondary data pulled from the US Census Bureau, containing information on demographics of county subdivisions (towns). This data also contains information from the Census defining towns as metropolitan or micropolitan. \n",
    "- `Spatial Coverage`: Vermont. \n",
    "- `Spatial Resolution`: County subdivisions (towns) \n",
    "- `Spatial Reference System`: NA\n",
    "- `Temporal Coverage`: 2018-2022 ACS (5-year estimates)\n",
    "- `Temporal Resolution`: NA. \n",
    "- `Lineage`: This data is downloaded using the TidyCensus package in R. This allowed for necessary data to be easily downloaded with the corresponding GEOID (FIPS) for each town in our study area. The R code to retrieve this data is in the procedure/code folder. Only total population and age variables were selected, as these are the only demographic data necessary for our study. The metropolitan and micropolitan classifications are downloaded separately and appended to the population dataset in this notebook. \n",
    "- `Distribution`: The total population and age data is downloadable from the US Census Bureau ACS page (https://data.census.gov/table?g=040XX00US50$0600000) and the town classifications are downloadable at: https://www2.census.gov/programs-surveys/metro-micro/geographies/reference-files/2020/delineation-files/ (list 3). \n",
    "- `Constraints`: US Census Bureau data is in the public domain. \n",
    "- `Data Quality`: Census provides data on margins of error. \n",
    "- `Variables`: \n",
    "\n",
    "| Label |  Definition | Type | Accuracy | Domain | Missing Data Value(s) | Missing Data Frequency |\n",
    "| :--: |  :--: | :--: | :--: | :--: | :--: | :--: |\n",
    "| GEOID |  Town unique identifier | Integer | NA | NA | NA | NA |\n",
    "| total_pop |  Total population in a town | Integer | Defined by Census | 0 - ~45,000 | NA | NA |\n",
    "| subdivision_name |  Name of county subdivision (town) | Text | NA |  NA  | NA | NA |\n",
    "| elderly_pop |  Total elderly population in a town | Integer | Defined by Census | 0 - ~1,000 | NA | NA |\n",
    "| percent_elderly |  Percent elderly residents in a town | Decimal | Defined by Census |  0% - ~50%  | NA | NA |\n",
    "| geometry |  Geo data for each town in study area | Text | NA |  NA  | NA | NA |\n",
    "| necta |  Classified as metropolitan or micropolitan | Text | Defined by Census |  NA  | NaN | Frequent because missing data means town is rural |"
   ]
  },
  {
   "cell_type": "markdown",
   "metadata": {},
   "source": [
    "#### Load and Visualize Population Data\n",
    "\n",
    "This dataset contains population data by town for all states in our study area (VT, NH, MA, NY). VT towns have data on micropolitan/metropolitan classification and elderly population. "
   ]
  },
  {
   "cell_type": "code",
   "execution_count": null,
   "metadata": {},
   "outputs": [],
   "source": [
    "# Read in population data by town\n",
    "population_df = gpd.read_file('./data/raw/public/population/tidycensus_population.gpkg')\n",
    "\n",
    "# Read in metropolitan / micropolitan classifications (NECTAS)\n",
    "nectas_df =  gpd.read_file('./data/raw/public/population/nectas.csv')\n",
    "\n",
    "# Join NECTAS classifications to population data with subdivision and county FIPS\n",
    "pop_df = pd.merge(population_df, nectas_df[['fips_subdivision', 'necta', 'fips_county', 'fips_state']], on=['fips_subdivision','fips_county', 'fips_state'], how = 'left')\n",
    "\n",
    "# Save as geopackage into public/derived\n",
    "pop_df.to_file('./data//derived/public/pop_data.gpkg', driver='GPKG')\n",
    "\n",
    "pop_df.head()"
   ]
  },
  {
   "cell_type": "code",
   "execution_count": null,
   "metadata": {},
   "outputs": [],
   "source": [
    "# All geometries for which we have obtained population data\n",
    "pop_df.plot()"
   ]
  },
  {
   "cell_type": "markdown",
   "metadata": {},
   "source": [
    "### (3) OpenStreetMap Roads for Vermont and Surroundings\n",
    "\n",
    "**Standard Metadata**\n",
    "\n",
    "- `Abstract`: This is a graph data structure representing roads and streets in Vermont and surrounding areas. The data is derived from OpenStreetMap via the Overpass API and OSMnx python package.\n",
    "- `Spatial Coverage`: The state of Vermont and a 64373.8 meter (40 mile) buffer around the state.\n",
    "- `Spatial Resolution`: The spatial resolution varies by region and feature. Distances are calculated with the full spatial resolution of the dataset, but the graph model is simplified to vertices at intersections and dead ends only.\n",
    "- `Spatial Reference System`: WGS 1984 geographic coordinate system (EPSG:4326)\n",
    "- `Temporal Coverage`: Data was queried on 24-1-2024\n",
    "- `Temporal Resolution`: Data represents a snapshot of the OpenStreetMap database at a moment in time. Data currency varies by region and feature, depending on how recently any OpenStreetMap users have digitized or updated the map.\n",
    "- `Lineage`: See code for creation at procedure/code/00_road_network.ipynb. OpenStreetMap data is volunteered by users, and lineage varies on a feature-by-feature basis. OSMnx software version 1.8.1 was used to query the data from OpenStreetMap using the Overpass API with the query `ox.graph_from_place('Vermont', network_type='drive', buffer_dist=64373.8)`. By default, this saves data in the WGS 1984 geographic coordinate system (EPSG:4326), calculates the distance of all lines, and simplifies the road network by combining road segments between intersections into a single edge. The road network is then saved as a NetworkX graph data structure in a .graphml file.\n",
    "- `Distribution`: This graph dataset is stored on OSF at https://osf.io/bwrmu/ while the original data is stored on OpenStreetMap and distributed via the Overpass API <https://wiki.openstreetmap.org/wiki/Overpass_API>\n",
    "- `Constraints`: The graph dataset is published with a BSD 3-Clause license, while the original OpenStreetMap data is published with the Open Data Commons Open Database License (<https://opendatacommons.org/licenses/odbl/>). The data is (c) OpenStreetMap Contributors, and this copyright and license information must be attached to any public uses or distributions of the data.\n",
    "- `Data Quality`: Data has been checked for speed attribute completeness. Routing errors and resulting service areas calculated on the graph from hospitals were checked for topological errors and consistency, resulting in discovery of four erroneous \"dead-ends\" where one-way access roads terminated in parking areas. These four dead-end nodes are removed from the analysis code so that routes start on the correct one-way exit from parking areas.\n",
    "- `Variables`:\n",
    "\n",
    "\n",
    "| Label | Alias | Definition | Type | Accuracy | Domain | Missing Data Value(s) | Missing Data Frequency |\n",
    "| :--: | :--: | :--: | :--: | :--: | :--: | :--: | :--: |\n",
    "| osmid | osmid | unique OpenStreetMap identifier | long integer | n/a | n/a | none | none |\n",
    "| highway | highway | highway key from OpenStreetMap with values indicating highway type | text | unknown | residential, tertiary, secondary, primary, unclassified, trunk, etc. See <https://wiki.openstreetmap.org/wiki/Key:highway> | no value recorded | 194,089 of 577,399 edges missing highway type |\n",
    "| oneway | oneway | road is for one-way travel only | text representing boolean | unknown | {true, false} | n/a | n/a |\n",
    "| reversed | reversed | road direction is opposite the sequence of coordinates | text representing boolean | unknown | {true, false} | n/a | n/a |\n",
    "| length | length | length in meters | decimal | geodesic calculation with epsg 4326 | unknown | n/a | none |\n",
    "| maxspeed | maximum speed limit | maximum speed limit (assumed kph unless other units are written) | text composed of an integer, integer with speed limit, or list of speeds | unknown | one  | no value recorded | 411,768 of 577,399 edges missing speed limit\n",
    " |\n"
   ]
  },
  {
   "cell_type": "markdown",
   "metadata": {
    "tags": []
   },
   "source": [
    "#### Load the Road Network\n",
    "\n",
    "If `Vermont_Network_Buffer.graphml` does not already exist, this cell will query the road network from OpenStreetMap.  \n",
    "\n",
    "Each of the road network code blocks may take a few mintues to run."
   ]
  },
  {
   "cell_type": "code",
   "execution_count": null,
   "metadata": {},
   "outputs": [],
   "source": [
    "%%time\n",
    "# To create a new graph from OpenStreetMap, delete or rename the graph file (if it exists)\n",
    "# AND set OSM to True\n",
    "# This is more likely to work on a local computer than CyberGISX \n",
    "# This network was created on Windows with Python 3.12.1 and osmnx 1.8.1 on 2024-01-24\n",
    "# using the 00_road_network.ipynb script\n",
    "\n",
    "OSM = False\n",
    "\n",
    "# Define the place name for Vermont\n",
    "place_name_vermont = 'Vermont, USA'\n",
    "\n",
    "roads_path = \"./data/raw/private/osm_roads.graphml\"\n",
    "\n",
    "# if buffered street network is not saved, and OSM is preferred, generate a new graph from OpenStreetMap and save it\n",
    "if not os.path.exists(roads_path) and OSM:\n",
    "    print(\"Loading buffered Vermont road network from OpenStreetMap. Please wait... runtime may exceed 9min...\", flush=True)\n",
    "    G = ox.graph_from_place(place_name_vermont, network_type='drive', buffer_dist=64373.8) \n",
    "    print(\"Saving road network to\", roads_path, \" Please wait...\", flush=True)\n",
    "    ox.save_graphml(G, roads_path)\n",
    "    print(\"Data saved.\")\n",
    "    \n",
    "# otherwise, if buffered street network is not saved, download graph from the OSF project\n",
    "elif not os.path.exists(roads_path):\n",
    "    print(\"Downloading buffered Vermont road network from OSF...\", flush=True)\n",
    "    url = 'https://osf.io/download/bwrmu/'  \n",
    "    r = requests.get(url, allow_redirects=True)\n",
    "    print(\"Saving road network to\", roads_path, \" Please wait...\", flush=True)\n",
    "    open(roads_path, 'wb').write(r.content)\n",
    "    \n",
    "# load the saved network graph\n",
    "if os.path.exists(roads_path):\n",
    "    print(\"Loading road network from\", roads_path, \"Please wait...\", flush=True)\n",
    "    G = ox.load_graphml(roads_path) \n",
    "    print(\"Data loaded.\") \n",
    "else:\n",
    "    print(\"Error: could not load the road network from file.\")"
   ]
  },
  {
   "cell_type": "markdown",
   "metadata": {
    "tags": []
   },
   "source": [
    "#### Plot the Road Network"
   ]
  },
  {
   "cell_type": "code",
   "execution_count": null,
   "metadata": {},
   "outputs": [],
   "source": [
    "%%time\n",
    "ox.plot_graph(G, node_size = 1, bgcolor = 'white', node_color = 'black', edge_color = \"#333333\", node_alpha = 0.2, edge_linewidth = 0.5)"
   ]
  },
  {
   "cell_type": "markdown",
   "metadata": {
    "tags": []
   },
   "source": [
    "#### Check speed limits and highway types\n",
    "\n",
    "Display all the unique speed limit values and count how many network edges (road segments) have each value.\n",
    "We will compare this to our cleaned network later."
   ]
  },
  {
   "cell_type": "code",
   "execution_count": null,
   "metadata": {},
   "outputs": [],
   "source": [
    "%%time\n",
    "# Turn network edges into a geodataframe\n",
    "edges = ox.graph_to_gdfs(G, nodes=False, edges=True)\n",
    "\n",
    "# Count frequency of each speed value\n",
    "speed_values = edges['maxspeed'].value_counts()\n",
    "\n",
    "# Ouput number of edges and frequences of speed values\n",
    "print(str(len(edges)) + \" edges in graph\")\n",
    "print(speed_values.to_string())"
   ]
  },
  {
   "cell_type": "markdown",
   "metadata": {},
   "source": [
    "Display all the unique highway types, which are used to impute the speed limits for each category of highway."
   ]
  },
  {
   "cell_type": "code",
   "execution_count": null,
   "metadata": {},
   "outputs": [],
   "source": [
    "# view all highway types\n",
    "print(edges['highway'].value_counts())"
   ]
  },
  {
   "cell_type": "markdown",
   "metadata": {
    "tags": []
   },
   "source": [
    "#### Process the road network\n",
    "\n",
    "Impute speed limits with `add_edge_speeds` function. "
   ]
  },
  {
   "cell_type": "code",
   "execution_count": null,
   "metadata": {},
   "outputs": [],
   "source": [
    "%%time\n",
    "ox.speed.add_edge_speeds(G)"
   ]
  },
  {
   "cell_type": "markdown",
   "metadata": {},
   "source": [
    "Calculate travel time with the `add_edge_travel_times` function."
   ]
  },
  {
   "cell_type": "code",
   "execution_count": null,
   "metadata": {},
   "outputs": [],
   "source": [
    "%%time\n",
    "ox.speed.add_edge_travel_times(G)"
   ]
  },
  {
   "cell_type": "markdown",
   "metadata": {},
   "source": [
    "Add a point geomerty to each node in the graph, to facilitate constructing catchment area polygons later on."
   ]
  },
  {
   "cell_type": "code",
   "execution_count": null,
   "metadata": {},
   "outputs": [],
   "source": [
    "%%time\n",
    "# Create point geometries for each node in the graph, to make constructing catchment area polygons easier\n",
    "for node, data in G.nodes(data=True):\n",
    "    data['geometry']=Point(data['x'], data['y'])"
   ]
  },
  {
   "cell_type": "code",
   "execution_count": null,
   "metadata": {},
   "outputs": [],
   "source": [
    "%%time\n",
    "# Turn network edges into a geodataframe\n",
    "nodes,edges = ox.graph_to_gdfs(G, nodes=True, edges=True)\n",
    "\n",
    "# Count frequency of each speed value\n",
    "speed_values = edges['speed_kph'].value_counts()\n",
    "\n",
    "# Ouput number of edges and frequences of speed values\n",
    "print(str(len(edges)) + \" edges in graph\")\n",
    "print(speed_values.to_string())"
   ]
  },
  {
   "cell_type": "markdown",
   "metadata": {},
   "source": [
    "**Unplanned deviation**: We discovered four errors in which one-way parking lot entrance lanes terminated without any topological connection to routes through the parking lot our out the exit lane. In the unplanned deviation below, we remove the four dead-end nodes such that the pharmacy locations join the network on the exit lane rather than entrance lane, and proceed to calculate travel routes correctly."
   ]
  },
  {
   "cell_type": "code",
   "execution_count": null,
   "metadata": {},
   "outputs": [],
   "source": [
    "# Drop four dead-end nodes for parking lot entrances\n",
    "nodes.drop([205007938, 5976921845, 204567135, 61755372], inplace = True)"
   ]
  },
  {
   "cell_type": "markdown",
   "metadata": {},
   "source": [
    "Speeds have been imputed and converted to kilometers per hour."
   ]
  },
  {
   "cell_type": "code",
   "execution_count": null,
   "metadata": {},
   "outputs": [],
   "source": [
    "# calculate a color scheme for edges based on speed\n",
    "ec = ox.plot.get_edge_colors_by_attr(G, attr=\"speed_kph\", cmap='YlOrRd')\n",
    "\n",
    "# plot edge speeds\n",
    "fig, ax = ox.plot_graph(G, node_size=0, edge_color=ec, bgcolor=\"white\")"
   ]
  },
  {
   "cell_type": "markdown",
   "metadata": {},
   "source": [
    "The graph of speed limits looks accurate, with local roads at low speeds and state and federal highways at higher speeds."
   ]
  },
  {
   "cell_type": "markdown",
   "metadata": {
    "tags": []
   },
   "source": [
    "### Data transformations\n",
    "\n",
    "The data transformations taken in this study primarily occur in our primary data. Minimal transformations were made to the population and road network data sets. The population dataset is an aggregate of two data frames: one with total population and percent elderly in county subdivisions, and one with metropolitan or micropolitan class at the county subdivision level, so these datasets were merged. \n",
    "\n",
    "The initial pharmacy list encompassing all retail pharmacies in Vermont and within ten miles of the Vermont border was derived from data from the Vermont Office of Professional Regulation (OPR) and checked against a dataset of pharmacy locations from the Department of Homeland Security (DHS) in order to increase our confidence in the pharmacy list. The DHS data set included the geolocations for pharmacies across the United States, while the OPR dataset provided addresses for each pharmacy licensed in Vermont. Using the MMQGIS plugin in QGIS, all pharmacies in the OPR dataset were geolocated. A 100 meter buffer was then placed around these points to account for some error in geolocation as well as the possibility for variation in the placement of the point within a given pharmacy building footprint. The DHS pharmacies that were located within these buffers were merged. All the DHS pharmacy locations that fell outside of the OPR pharmacy buffers were then manually checked against Google Maps to confirm whether they were active and separate retail pharmacies from those in the OPR dataset. All permanently closed pharmacies and non-retail pharmacies were omitted from the DHS dataset, which remedied all the discrepancies between the two datasets. There were no active separate retail pharmacies in the DHS dataset that were missed in the OPR dataset (not within OPR buffer). Thus, we have high confidence in the data accuracy for active Vermont retail pharmacies as a result of this method. The initial raw OPR list contained 127 pharmacies, and we included only 117 Vermont pharmacies in our analysis. \n",
    "\n",
    "In order to locate the out-of-state pharmacies of interest, a 10 mile buffer was created around the Vermont state boundary and all DHS pharmacies that intersected with this buffer were selected. This includes pharmacies in New York, Massachusetts, and New Hampshire. A ten mile buffer was chosen since this geographic extent includes the nearby major out-of-state towns that are likely to service Vermont residents, including Lebanon, NH, North Adams, MA, Greenfield MA, Plattsburgh, NY, and Keene, NH. There were no urban centers that were excluded and within a reasonable distance of the Vermont border. These locations were checked against queried pharmacy locations from OpenStreetMap (OSM), using the QuickOSM plugin in QGIS, and manually checked against pharmacy locations on Google Maps. Ultimately, a list of out-of-state pharmacies was compiled through repeated Google Maps searches along the outside of the Vermont border. Through this triangulation, permanently closed pharmacies and non-retail pharmacies were removed from the list, and any extra pharmacies that were present on Google Maps or OSM were checked against each other and added to the out-of-state list.  75 out-of-state retail pharmacies were included. This was in the range of the DHS dataset for out-of-state pharmacies in our study area (78) and far more than the number of queried pharmacies from OSM in GQIS using the QuickOSM plugin (45). This makes sense considering the inaccuracy and outdated nature of the DHS and OSM datasets.  Our confidence in the out-of-state retail pharmacy locations is slightly diminished since these pharmacy locations are not based on a recent dataset from the respective states.  However, the out-of-state locations are as not significant as Vermont locations and are primarily included to minimize the edge effects of such an analysis. As such, out-of-state pharmacy locations were not surveyed to collect hours of operations or staffing data; instead, their hours were pulled from online. \n",
    "\n",
    "Once the list of in-state pharmacies was confirmed and the list of out-of-state pharmacies was compiled, these datasets were aggregated and variable columns for staffing and hours of operations were created. A column for the number of pharmacists, number of pharmacy technicians, and opening and closing hours was created for weekdays, Saturdays, and Sundays. For all hours of operation, the opening and closing times were reported on the 24-hour clock. If the pharmacy is closed on Saturday or Sunday, the values for staffing were reported as zero, and the open and close hours were reported as -1. Pharmacies that opened or closed at the half-hour mark were denoted in our data frame with a 0.5; However, because the variation in accessibility was unlikely to be significant in intervals under one hour, we did not calculate accessibility for half hours. For example, a pharmacy that opened at 8:30 am was not included in the accessibility measurement until 9 am, and one that closed at 5:30 pm was not included in the 5 pm accessibility calculation. \n",
    "\n",
    "**Unplanned Deviation:** There was missing data for staffing levels for 15 pharmacy locations in our VT study area due to non-response from survey participants. Therefore, we assumed that on-line pharmacy hours for the locations were correct and we interpolated staffing levels based on weekday, Saturday, and Sunday averages of the collected data for the same pharmacy type (chain vs independent). During our data collection process, we originally classified pharmacies as chain, grocery, or independent, but ultimately decided to group grocery and chain as there were relatively few grocery locations and their staffing models appeared to be similar. For independent pharmacies, the average number of pharmacists and technicians was 2 and 4 on weekdays, 1 and 2 on Saturdays, and 1 and 2 on Sundays. For chain pharmacies, these values were 1 and 2 on weekdays, 1 and 1 on Saturdays, and 1 and 1 on Sundays. We reached out to regional pharmacy managers of large pharmacy chains attempting to collect staffing data for multiple locations. \n",
    "\n",
    "**Unplanned Deviation:** One pharmacy chain regional manager provided budgeted weekly hours for pharmacists and pharmacy technicians. We combined this data with operational hours of their pharmacy locations to estimate staffing levels.\n",
    "\n",
    "**Unplanned Deviation:** In order to limit the time of our data collection, we did not collect any staffing data for pharmacies outside of Vermont. Instead, we used the interpolated values from Vermont pharmacies, since the accuracy of staffing data for these pharmacies is not as important due to the fact that they were included to minimize edge effects in our analysis. We adjusted the staffing data for one outlier, where a location reported an unusually high number of pharmacy technicians (15) working on weekdays. Recognizing this figure as an outlier, we adjusted it by considering the ratio between the reported number of weekend technicians (4) and weekday technicians, as well as the standard ratio between pharmacists and pharmacy technicians, resulting in an adjustment to 7 weekday technicians."
   ]
  },
  {
   "cell_type": "markdown",
   "metadata": {},
   "source": [
    "## **Analysis**"
   ]
  },
  {
   "cell_type": "markdown",
   "metadata": {
    "jp-MarkdownHeadingCollapsed": true,
    "tags": []
   },
   "source": [
    "This section implements the enhanced 2-step floating catchment area (E2SFCA) method. \n",
    "\n",
    "We adapted code originally developed by Kang et al. (2020) to calculate distance-weighted catchment areas for each hospital. Prior to this study, Holler et al. (2023) improved the efficiency, legibility and accuracy of the code in a reproduction study. In this study, we have adapted the method to calculate accessibility for pharmacies and extended it to consider accessibility over time. First, we create a dictionary (with a node and its corresponding drive time from the pharmacy) of all nodes within a 30 minute drive time (using single_source_dijkstra_path_length function). From here, two more dictionaries are constructed by querying the original one (20 min and 10 min). From these dictionaries, single part convex hulls are created for each drive time interval and appended into a single list (one list with 3 polygon geometries for each unique pharmacy). Within the list, the polygons are differenced from each other to produce three catchment areas (not overlapping)."
   ]
  },
  {
   "cell_type": "markdown",
   "metadata": {},
   "source": [
    "#### Creating catchment areas"
   ]
  },
  {
   "cell_type": "markdown",
   "metadata": {},
   "source": [
    "Runs spatial join to find a unique nearest node for each pharmacy."
   ]
  },
  {
   "cell_type": "code",
   "execution_count": null,
   "metadata": {},
   "outputs": [],
   "source": [
    "nodes_osmid = gpd.GeoDataFrame(nodes[[\"geometry\"]]).reset_index()\n",
    "# print(nodes_osmid.head())\n",
    "\n",
    "pharmacies_osm = gpd.sjoin_nearest(pharmacies_df, nodes_osmid, distance_col=\"distances\")\n",
    "\n",
    "#rename column from osmid to nearest_osm, so that it works with other code\n",
    "pharmacies_osm = pharmacies_osm.rename(columns={\"osmid\": \"nearest_osm\"})"
   ]
  },
  {
   "cell_type": "markdown",
   "metadata": {},
   "source": [
    "Three different catchment areas are created for each pharmacy using convex hulls, represented by the time it takes to drive 10, 20, and 30 minutes from a given pharmacy. These drive times are weighted differently, with the 10-minute catchment carrying the most weight and the 30-minute catchment carrying the least weight."
   ]
  },
  {
   "cell_type": "code",
   "execution_count": null,
   "metadata": {},
   "outputs": [],
   "source": [
    "distances = [600, 1200, 1800] # Distances in travel time (seconds!) (10 min, 20 min, 30 min)\n",
    "weights = [1.0, 0.68, 0.22] # Relative weights of 10 minute catchment, 20 minute catchment, and 30 minute catchment\n",
    "\n",
    "# initialize catchment list, composed of 3 empty geodataframes for 3 distance bands\n",
    "catchments = []\n",
    "for distance in distances:\n",
    "    catchments.append(gpd.GeoDataFrame())\n",
    "    \n",
    "# initialize results geodataframe to store final catchment areas\n",
    "results = gpd.GeoDataFrame(columns = [\"geometry\",\"pharmid\",\"weight\"], crs = \"EPSG:4326\", geometry = \"geometry\")\n",
    "\n",
    "# calculate catchment areas\n",
    "print(\"Working on pharmacy:\")\n",
    "for ind in pharmacies_osm.index:\n",
    "    print(str(ind + 1) + \"/\" + str(len(pharmacies_osm)), end = '\\r')\n",
    "    # print(pharmacies_osm['pharmid'][ind], end=' ')\n",
    "    ## CREATE DICTIONARIES ##\n",
    "    # create dictionary of nearest nodes\n",
    "    nearest_nodes_30 = nx.single_source_dijkstra_path_length(G, pharmacies_osm['nearest_osm'][ind], distances[2], \"travel_time\") # creating the largest graph from which 10 and 20 minute drive times can be extracted from\n",
    "\n",
    "    # extract values within 20 and 10 (respectively) minutes drive times\n",
    "    nearest_nodes_20 = dict()\n",
    "    nearest_nodes_10 = dict()\n",
    "    for key, value in nearest_nodes_30.items():\n",
    "        if value <= distances[1]:\n",
    "            nearest_nodes_20[key] = value\n",
    "        if value <= distances[0]:\n",
    "            nearest_nodes_10[key] = value\n",
    "\n",
    "    ## CREATE POLYGONS FOR 3 DISTANCE CATEGORIES (10 min, 20 min, 30 min) ##\n",
    "\n",
    "    # 30 MIN\n",
    "    # If the graph already has a geometry attribute with point data,\n",
    "    # this line will create a GeoPandas GeoDataFrame from the nearest_nodes_30 dictionary\n",
    "    points_30 = gpd.GeoDataFrame(gpd.GeoSeries(nx.get_node_attributes(G.subgraph(nearest_nodes_30), 'geometry')))\n",
    "\n",
    "    # This line converts the nearest_nodes_30 dictionary into a Pandas data frame and joins it to points\n",
    "    # left_index=True and right_index=True are options for merge() to join on the index values\n",
    "    points_30 = points_30.merge(pd.Series(nearest_nodes_30).to_frame(), left_index=True, right_index=True)\n",
    "\n",
    "    # Re-name the columns and set the geodataframe geometry to the geometry column\n",
    "    points_30 = points_30.rename(columns={'0_x':'geometry','0_y':'z'}).set_geometry('geometry')\n",
    "\n",
    "    # Create a convex hull polygon from the points\n",
    "    polygon_30 = gpd.GeoDataFrame(gpd.GeoSeries(points_30.unary_union.convex_hull))\n",
    "    polygon_30 = polygon_30.rename(columns={0:'geometry'}).set_geometry('geometry')\n",
    "    polygon_30[\"weight\"] = weights[2]\n",
    "\n",
    "    # 20 MIN # 1200 seconds!\n",
    "    # Select nodes less than or equal to 20\n",
    "    points_20 = points_30.query(\"z <= \" + str(distances[1]))\n",
    "\n",
    "    # Create a convex hull polygon from the points\n",
    "    polygon_20 = gpd.GeoDataFrame(gpd.GeoSeries(points_20.unary_union.convex_hull))\n",
    "    polygon_20 = polygon_20.rename(columns={0:'geometry'}).set_geometry('geometry')\n",
    "    polygon_20[\"weight\"] = weights[1]\n",
    "\n",
    "    # 10 MIN # 600 seconds!\n",
    "    # Select nodes less than or equal to 10\n",
    "    points_10 = points_30.query(\"z <= \" + str(distances[0]))\n",
    "\n",
    "    # Create a convex hull polygon from the points\n",
    "    polygon_10 = gpd.GeoDataFrame(gpd.GeoSeries(points_10.unary_union.convex_hull))\n",
    "    polygon_10 = polygon_10.rename(columns={0:'geometry'}).set_geometry('geometry')\n",
    "    polygon_10[\"weight\"] = weights[0]\n",
    "    \n",
    "    # Clip the overlapping distance ploygons (create two donuts + hole)\n",
    "    polygon_30_hole = gpd.overlay(polygon_30, polygon_20, how =\"difference\")\n",
    "    polygon_20_hole = gpd.overlay(polygon_20, polygon_10, how =\"difference\")\n",
    "    \n",
    "    # Create dataframe combining polygon_10, polygon_20, polygon_30\n",
    "    polygons = pd.concat([polygon_10, polygon_20_hole, polygon_30_hole])\n",
    "    polygons.set_crs(crs=\"EPSG:4326\", inplace = True)\n",
    "    # polygons = pd.concat([polygon_10, polygon_20, polygon_30])\n",
    "    # polygons.set_crs(crs=\"EPSG:4326\", inplace = True)\n",
    "    \n",
    "    polygons_gdf = polygons\n",
    "    polygons_gdf[\"pharmid\"] = pharmacies_osm['pharmid'][ind]\n",
    "    #polygons_gdf[\"weight\"] = weights\n",
    "\n",
    "    results = pd.concat([results, polygons_gdf])"
   ]
  },
  {
   "cell_type": "markdown",
   "metadata": {},
   "source": [
    "The interactive map below shows the three catchment areas for each pharmacy in our study area.\n",
    "We check for completeness by counting the catchment areas and dividing by the total number of pharmacies, expecting a value of 3 catchment areas per pharmacy."
   ]
  },
  {
   "cell_type": "code",
   "execution_count": null,
   "metadata": {},
   "outputs": [],
   "source": [
    "print(len(results) / 192) # Value of 3.0 confirms all pharmacies, since there are 192 pharmacies in our study area and 3 polygons per pharmacy"
   ]
  },
  {
   "cell_type": "code",
   "execution_count": null,
   "metadata": {},
   "outputs": [],
   "source": [
    "results.explore(\"weight\", categorical=True, cmap='GnBu', style_kwds={'fillOpacity': 0.3})\n",
    "# try results.explore(\"weight\")"
   ]
  },
  {
   "cell_type": "markdown",
   "metadata": {},
   "source": [
    "#### Service-to-population ratio calculations\n",
    "To begin the process of calulating service-to-population ratios, town areas must be calculated since this is the final geographic unit we want to display our results in.\n",
    "This code calculates the areas where catchment areas overlap with different town geometries (fragments), and then estimates the population within these fragments by assessing the proportion of each town covered by a specific fragment.\n",
    "Next, these fragments are assigned weights based on the distance to a pharmacy location, culminating in an estimated population that may use services in a given pharmacy location."
   ]
  },
  {
   "cell_type": "code",
   "execution_count": null,
   "metadata": {},
   "outputs": [],
   "source": [
    "# Change CRS to match prior to analysis, should be mapped in VT State Plane projection\n",
    "results.to_crs(\"EPSG:6589\", inplace = True)\n",
    "pop_df.to_crs(\"EPSG:6589\", inplace = True)"
   ]
  },
  {
   "cell_type": "code",
   "execution_count": null,
   "metadata": {},
   "outputs": [],
   "source": [
    "# Calculate town areas\n",
    "pop_df['town_area'] = pop_df.geometry.area\n",
    "#display(pop_df)\n",
    "\n",
    "# Run the overlay to find intersection of fragments (fragments are where each individual catchment area overlaps with a different town geometry)\n",
    "fragments = gpd.overlay(pop_df, results, how = 'intersection')\n",
    "\n",
    "# Calculate fragment areas\n",
    "fragments['frag_area'] = fragments.geometry.area\n",
    "\n",
    "# Calculate area ratios to see how much of a town is covered by the given fragment --> used to estimate the population in that fragment\n",
    "fragments['area_ratio']= fragments['frag_area'] / fragments['town_area']\n",
    "\n",
    "# Calculate fragment value by multiplying area_ratio by distance weight\n",
    "fragments['value'] = fragments['weight'] * fragments['area_ratio']\n",
    "\n",
    "# Calculate population served in each fragment\n",
    "fragments['pop_value'] = fragments['total_pop']*fragments['value']\n",
    "\n",
    "fragments.head()"
   ]
  },
  {
   "cell_type": "markdown",
   "metadata": {},
   "source": [
    "Next, a value for the total population served by each pharmacy is calculated by aggregating all the fragments within a given pharmacy catchment. Service-to-population ratios will ultimately be aggregated into Vermont municipalities. "
   ]
  },
  {
   "cell_type": "code",
   "execution_count": null,
   "metadata": {},
   "outputs": [],
   "source": [
    "# Sum population served per pharmacy \n",
    "sum_values = fragments[[\"pharmid\",\"pop_value\"]]\n",
    "sum_values = sum_values.groupby(by = ['pharmid']).sum('pop_value')\n",
    "sum_values.rename(columns={'pop_value': 'total_value'}, inplace = True) \n",
    "sum_values.head()\n",
    "\n",
    "# Join summed values by pharmacy to pharmacies_df\n",
    "pop_join = sum_values.merge(pharmacies_df, on='pharmid', how = 'left')\n",
    "pd.set_option('display.max_columns', None)\n",
    "\n",
    "# Only display this data for testing. It reveals confidential information at the pharmacy level.\n",
    "# pop_join.head()"
   ]
  },
  {
   "cell_type": "markdown",
   "metadata": {},
   "source": [
    "Then, the number of pharmacists and pharmacy technicians that work at each pharmacy is derived, and service-to-population ratios can be calculated by dividing this service value by the population value (total_value) for a pharmacy. An individual service-to-population ratio is derived for each hour on weekdays, Saturdays, and Sundays, as well as these days generally. The ratio for entire days represents a point in the day when all pharmacies are open, between the time when the last pharmacy opens and the first pharmacy closes (all pharmacists and technicians are working). "
   ]
  },
  {
   "cell_type": "code",
   "execution_count": null,
   "metadata": {},
   "outputs": [],
   "source": [
    "# Calculate number of staff that work at each pharmacy\n",
    "# Weekday\n",
    "pop_join['week_staff'] = pop_join['week_pharm'] + 0.5 * pop_join['week_tech']\n",
    "\n",
    "#Saturday\n",
    "pop_join['sat_staff'] = pop_join['sat_pharm'] + 0.5 * pop_join['sat_tech']\n",
    "\n",
    "# Sunday\n",
    "pop_join['sun_staff'] = pop_join['sun_pharm'] + 0.5 * pop_join['sun_tech']\n",
    "\n",
    "# Calculate service to pop ratio for each pharmacy for Weekdays, Saturdays, and Sundays between 7am-11pm\n",
    "def calculate_sp_ratios(pop_join, day_type):\n",
    "    pop_join[f'sp_ratio_{day_type}'] = pop_join[f'{day_type}_staff'] / pop_join['total_value']\n",
    "    \n",
    "    for hour in range(7, 24):\n",
    "        pop_join[f'sp_ratio_{hour}{day_type}'] = np.where((pop_join[f'{day_type}_open'] <= hour) & (pop_join[f'{day_type}_close'] >= hour), \n",
    "                                                       pop_join[f'{day_type}_staff'] / pop_join['total_value'], \n",
    "                                                       np.nan)\n",
    "# Weekday\n",
    "calculate_sp_ratios(pop_join, 'week')\n",
    "\n",
    "# Saturday\n",
    "calculate_sp_ratios(pop_join, 'sat')\n",
    "\n",
    "# Sunday\n",
    "calculate_sp_ratios(pop_join, 'sun')\n",
    "\n",
    "# Only display this data for testing. It reveals confidential information at the pharmacy level.\n",
    "# pop_join.head()"
   ]
  },
  {
   "cell_type": "markdown",
   "metadata": {},
   "source": [
    "Since our desired final result will be represented in county subdivisions, we do not need to recalculate network distances and catchments.\n",
    "Instead, we can join our service to population ratio data back to the fragments used above."
   ]
  },
  {
   "cell_type": "code",
   "execution_count": null,
   "metadata": {},
   "outputs": [],
   "source": [
    "# Join to the fragments df\n",
    "frag_join = fragments.merge(pop_join, on = 'pharmid', how = 'left')\n",
    "\n",
    "# Only display this data for testing. It reveals confidential information at the pharmacy level.\n",
    "# frag_join.head()"
   ]
  },
  {
   "cell_type": "markdown",
   "metadata": {},
   "source": [
    "The service-to-population ratios for each fragment must be multiplied by the area-weight and distance weights once again.\n",
    "Then, all of these ratios for the fragments are summed within a county subdivision (GEOID) to create an accessibility measure for each town.\n",
    "\n",
    "**Unplanned Deviation:**  \n",
    "An earlier report did not apply the area weight to this second step of the two-step floating catchment method. \n",
    "In this version, we multiply the service to population ratios by `value`, which is the distance weight multiplied by the area weight."
   ]
  },
  {
   "cell_type": "code",
   "execution_count": null,
   "metadata": {},
   "outputs": [],
   "source": [
    "# Calculate weighted service to population ratio for each slice of time (weight correspond to distance from the pharmacy still)\n",
    "frag_join['sp_weighted_w'] =  frag_join['sp_ratio_week'] * frag_join['value'] \n",
    "frag_join['sp_weighted_s'] =  frag_join['sp_ratio_sat'] * frag_join['value']  \n",
    "frag_join['sp_weighted_su'] =  frag_join['sp_ratio_sun'] * frag_join['value'] \n",
    "\n",
    "def calculate_weighted_sp_ratios(frag_join, day_type):\n",
    "    for hour in range(7, 24):\n",
    "        frag_join[f'sp_weighted_{hour}{day_type}'] = frag_join[f'sp_ratio_{hour}{day_type}'] * frag_join['value']\n",
    "\n",
    "# Weekday\n",
    "calculate_weighted_sp_ratios(frag_join, 'week')\n",
    "\n",
    "# Saturday\n",
    "calculate_weighted_sp_ratios(frag_join, 'sat')\n",
    "\n",
    "# Sunday\n",
    "calculate_weighted_sp_ratios(frag_join, 'sun')\n",
    "\n",
    "# Make all NaN values 0, since these values represent 0 access\n",
    "frag_join.fillna(0, inplace = True)\n",
    "\n",
    "# Sum weighted service to population ratio by town\n",
    "accessibility_towns = frag_join.groupby('GEOID').sum()\n",
    "\n",
    "accessibility_towns.head()"
   ]
  },
  {
   "cell_type": "markdown",
   "metadata": {},
   "source": [
    "Lastly, these accessibility measures are rescaled to an estimate of pharmacist-equivalent staff (one pharmacist or two pharmacy tecnicians) per 10,000 people so that they are interpretable, whole numbers. This allows for easier comparison between towns. "
   ]
  },
  {
   "cell_type": "code",
   "execution_count": null,
   "metadata": {},
   "outputs": [],
   "source": [
    "#Normalize (multiply by large constant)\n",
    "#Full Days\n",
    "accessibility_towns['access_w'] = accessibility_towns['sp_weighted_w']*10000\n",
    "accessibility_towns['access_s'] = accessibility_towns['sp_weighted_s']*10000\n",
    "accessibility_towns['access_su'] = accessibility_towns['sp_weighted_su']*10000\n",
    "\n",
    "def calculate_accessibility_times(accessibility_towns, day_type):\n",
    "    for hour in range(7, 24):\n",
    "        accessibility_towns[f'access_{hour}{day_type}'] = accessibility_towns[f'sp_weighted_{hour}{day_type}'] * 10000\n",
    "\n",
    "# Weekday times\n",
    "calculate_accessibility_times(accessibility_towns, 'week')\n",
    "\n",
    "# Saturday times\n",
    "calculate_accessibility_times(accessibility_towns, 'sat')\n",
    "\n",
    "# Sunday times\n",
    "calculate_accessibility_times(accessibility_towns, 'sun')\n",
    "\n",
    "#Select just access columns \n",
    "accessibility_towns = accessibility_towns[[col for col in accessibility_towns.columns if col.startswith('access')]]\n",
    "accessibility_towns.head()"
   ]
  },
  {
   "cell_type": "markdown",
   "metadata": {},
   "source": [
    "This output displays an interactive map with all of the accessibility scores for each day and hour by county subdivisions. The results appear acurate. "
   ]
  },
  {
   "cell_type": "code",
   "execution_count": null,
   "metadata": {},
   "outputs": [],
   "source": [
    "# Join back to geometries in pop_df for mapping. Pop_df contains town geometries\n",
    "mapping_df = pd.merge(accessibility_towns, pop_df[['GEOID', 'geometry', 'fips_state', 'necta', 'pct_elderly']], on='GEOID', how='left')\n",
    "mapping_df = mapping_df[mapping_df['fips_state'].isin(['50'])]\n",
    "mapping_df = gpd.GeoDataFrame(mapping_df, crs=\"EPSG:6589\", geometry='geometry')\n",
    "mapping_df.explore(\"access_w\", tooltip=[\"access_w\", \"access_s\", \"access_su\"], cmap=\"Greens\", scheme='Quantiles', k=6, legend_kwds={'scale':False}) # View geometries of interest with weekday, sat, sun summaries"
   ]
  },
  {
   "cell_type": "markdown",
   "metadata": {
    "tags": []
   },
   "source": [
    "## **Results**\n",
    "\n"
   ]
  },
  {
   "cell_type": "markdown",
   "metadata": {},
   "source": [
    "### Study Area\n",
    "\n",
    "First, we calculate population density of each county subdivision and report the number of county subdivisions per NECTA category."
   ]
  },
  {
   "cell_type": "code",
   "execution_count": null,
   "metadata": {},
   "outputs": [],
   "source": [
    "# Prepare pharmacies for mapping\n",
    "pharmacies_df.to_crs(\"EPSG:6589\", inplace = True) # Match CRS for Vermont\n",
    "pharmacies_map = pharmacies_df[pharmacies_df['state'] == 'VT']\n",
    "\n",
    "# Replace NaN values in 'necta' column with 'Rural'. All towns that are not metropolitan or micropolitan are rural. \n",
    "mapping_df['necta'].fillna('Rural', inplace=True)\n",
    "\n",
    "# Replace 'Metropolitan NECTA' and 'Micropolitan NECTA' with 'Metropolitan' and 'Micropolitan', respectively\n",
    "mapping_df['necta'] = mapping_df['necta'].replace({'Metropolitan NECTA': 'Metropolitan', 'Micropolitan NECTA': 'Micropolitan'})\n",
    "\n",
    "necta_summary = mapping_df[['necta', 'GEOID']].groupby(\"necta\").count()\n",
    "necta_summary.rename(columns={\"GEOID\": \"N\"}, inplace=True)\n",
    "print(necta_summary)"
   ]
  },
  {
   "cell_type": "markdown",
   "metadata": {},
   "source": [
    "Select county subdivisions in Vermont and calculate population density. Select pharmacies in Vermont and transform into into Vermont State Plane system."
   ]
  },
  {
   "cell_type": "code",
   "execution_count": null,
   "metadata": {},
   "outputs": [],
   "source": [
    "# Calculate population denisty by town\n",
    "popdensity_df = pop_df.copy()\n",
    "popdensity_df = popdensity_df[popdensity_df['fips_state'].isin(['50'])]\n",
    "popdensity_df.to_crs(\"EPSG:6589\", inplace = True)\n",
    "popdensity_df['town_area_km2'] = popdensity_df['town_area'] / 10**6\n",
    "popdensity_df['pop_density'] = popdensity_df['total_pop']/popdensity_df['town_area_km2']\n",
    "popdensity_df['pop_density'] = popdensity_df['pop_density'].replace([np.inf, -np.inf], 0) #make inf values zero since they arise from total_pop = 0"
   ]
  },
  {
   "cell_type": "markdown",
   "metadata": {},
   "source": [
    "#### Figure 1: Mapping town types, population density, and pharmacy locations in VT"
   ]
  },
  {
   "cell_type": "code",
   "execution_count": null,
   "metadata": {},
   "outputs": [],
   "source": [
    "# Custom color map for pop density\n",
    "base_cmap = plt.get_cmap('Blues')\n",
    "num_colors = 256\n",
    "\n",
    "custom_colors = []\n",
    "for i in range(num_colors):\n",
    "    color = colors.rgb_to_hsv(base_cmap(i)[:3])  # Convert RGB to HSV\n",
    "    color[1] *= 0.7  # Reduce saturation by one third\n",
    "    custom_colors.append(colors.hsv_to_rgb(color))  # Convert back to RGB\n",
    "\n",
    "custom_cmap = colors.LinearSegmentedColormap.from_list(\"custom_blues\", custom_colors, N=num_colors)\n",
    "\n",
    "# Map Population Density\n",
    "fig1, ax = plt.subplots(figsize=(12.3, 10.8))\n",
    "popdensity_df.plot(column='pop_density', scheme = 'jenkscaspallforced',k=5, cmap=custom_cmap, legend = False, ax=ax)\n",
    "\n",
    "metropolitan_df = mapping_df[mapping_df['necta'] == 'Metropolitan']\n",
    "micropolitan_df = mapping_df[mapping_df['necta'] == 'Micropolitan']\n",
    "\n",
    "metropolitan_boundary = metropolitan_df.dissolve(by='necta')['geometry'].boundary\n",
    "micropolitan_boundary = micropolitan_df.dissolve(by='necta')['geometry'].boundary\n",
    "\n",
    "# Plot only the merged exterior boundaries of the 'Metropolitan NECTA' group\n",
    "metropolitan_boundary.plot(ax=ax, color='black', linewidth=1.5)\n",
    "\n",
    "# Plot only the merged exterior boundaries of the 'Micropolitan NECTA' group\n",
    "micropolitan_boundary.plot(ax=ax, color='black', linestyle = 'dashed', linewidth=1.5)\n",
    "\n",
    "vt_boundary = popdensity_df.dissolve().boundary\n",
    "vt_boundary.plot(ax=ax, color='black', linewidth=.75)\n",
    "\n",
    "# Legend\n",
    "legend_elements = [\n",
    "    Line2D([0], [0], color='black', lw=2, label='Metropolitan'),\n",
    "    Line2D([0], [0], color='black', lw=2, linestyle= 'dashed', label='Micropolitan'),\n",
    "    Line2D([0], [0], marker='o', color='w', markerfacecolor='white', markeredgecolor='black', markersize=9, label='Pharmacy')\n",
    "]\n",
    "\n",
    "pd_colorbar = plt.cm.ScalarMappable(cmap=custom_cmap, norm=plt.Normalize(vmin=0, vmax=2046.6))\n",
    "cbar = plt.colorbar(pd_colorbar, shrink = .38, pad=.001, label = 'Population Density (person/km^2)', location=\"bottom\")\n",
    "ax.legend(handles=legend_elements, loc='lower right', fontsize=10, bbox_to_anchor=(.95,.2))\n",
    "\n",
    "# Plot pharmacy locations\n",
    "pharmacies_map.plot(ax=ax, marker='o', facecolor='white', edgecolor='black', markersize=50, label='VT Pharmacies', legend = True)\n",
    "plt.text(0.22, 0.71, 'Burlington', transform=ax.transAxes, size=11, weight=\"bold\", color='white',\n",
    "         path_effects=[path_effects.Stroke(linewidth=2, foreground='black'), path_effects.Normal()])\n",
    "\n",
    "#fig.patch.set_edgecolor('black') #Border\n",
    "#fig.patch.set_linewidth(2)\n",
    "\n",
    "plt.axis('off')\n",
    "plt.show()\n",
    "\n",
    "#Export figure to results/figures\n",
    "fig1.savefig(\"./results/figures/figure1.jpg\", dpi=300)"
   ]
  },
  {
   "cell_type": "markdown",
   "metadata": {},
   "source": [
    "**Figure 1**. Vermont study area with population density and pharmacy locations across the state. Metropolitan and micropolitan towns are outlined. "
   ]
  },
  {
   "cell_type": "markdown",
   "metadata": {},
   "source": [
    "Our study area included 117 retail pharmacies in Vermont and 75 out-of-state retail pharmacies. One group of county subdivisions is classified as metropolitan, known as the Burlington Metropolitan Area, totaling 35 metropolitan towns, while four other groups of county subdivisions in Vermont are classified as micropolitan, totaling 48 micropolitan towns (Figure 1). Rural towns comprise 172 of the 255 towns in Vermont. Clusters of pharmacies tend to appear in these metropolitan and micropolitan areas with greater population densities, whereas pharmacies tend to be more sparsely distributed in rural towns across Vermont (Figure 1). The micropolitan cluster spanning Vermont's eastern border is part of the Claremont-Lebanon NH-VT micropolitan area, with Lebanon, NH, being the largest city, explaining the lack of pharmacy clustering shown in this region in Figure 1."
   ]
  },
  {
   "cell_type": "markdown",
   "metadata": {},
   "source": [
    "### Hypothesis 1 - Spatial Dimension\n",
    "\n",
    "Calculate mean access by NECTA type."
   ]
  },
  {
   "cell_type": "code",
   "execution_count": null,
   "metadata": {},
   "outputs": [],
   "source": [
    "# Weekday accessibility by classification table\n",
    "means_by_metro = mapping_df.groupby('necta').mean()\n",
    "weekdaymean_by_metro = means_by_metro[['access_w']]\n",
    "\n",
    "weekdaymean_by_metro.columns = ['Mean Access']\n",
    "table_1 = tabulate(weekdaymean_by_metro, headers='keys', tablefmt='simple_grid')\n",
    "print(table_1)"
   ]
  },
  {
   "cell_type": "markdown",
   "metadata": {},
   "source": [
    "#### Figure 2: Weekday accessibility"
   ]
  },
  {
   "cell_type": "code",
   "execution_count": null,
   "metadata": {},
   "outputs": [],
   "source": [
    "# set global maximum for mapping accessibility scores\n",
    "maxacc = 8\n",
    "\n",
    "# Map of weekday pharmacy accessibility\n",
    "fig2, ax = plt.subplots(figsize=(12, 12), facecolor = 'white')\n",
    "mapping_df.plot(column='access_w', cmap='Greens', legend = False, ax=ax, vmax=maxacc)\n",
    "\n",
    "# Dissolve the geometries for each group to merge adjacent polygons \n",
    "metropolitan_df = mapping_df[mapping_df['necta'] == 'Metropolitan']\n",
    "micropolitan_df = mapping_df[mapping_df['necta'] == 'Micropolitan']\n",
    "\n",
    "metropolitan_boundary = metropolitan_df.dissolve(by='necta')['geometry'].boundary\n",
    "micropolitan_boundary = micropolitan_df.dissolve(by='necta')['geometry'].boundary\n",
    "\n",
    "# Plot exterior boundaries of the 'Metropolitan NECTA' group\n",
    "metropolitan_boundary.plot(ax=ax, color='black', linewidth=1.2)\n",
    "\n",
    "# Plot exterior boundaries of the 'Micropolitan NECTA' group\n",
    "micropolitan_boundary.plot(ax=ax, color='black',linestyle = \"dashed\", linewidth=1.5)\n",
    "\n",
    "legend_elements = [\n",
    "    Line2D([0], [0], color='black', lw=2, label='Metropolitan'),\n",
    "    Line2D([0], [0], color='black', linestyle = 'dashed',lw=2, label='Micropolitan')\n",
    "]\n",
    "ax.legend(handles=legend_elements, loc='lower right', fontsize=12, bbox_to_anchor=(1,.2))\n",
    "colorbar = plt.cm.ScalarMappable(cmap='Greens', norm=plt.Normalize(vmin=0, vmax=maxacc))\n",
    "\n",
    "#fig.patch.set_edgecolor('black') #Border\n",
    "#fig.patch.set_linewidth(2)  \n",
    "#plt.subplots_adjust(right = .9, top = .9)\n",
    "\n",
    "# Colorbar settings\n",
    "cbar = plt.colorbar(colorbar, shrink = .5, pad=.02, label = 'Accessibility', location=\"bottom\")\n",
    "cbar.set_ticks([0, 2, 4, 6, 8])\n",
    "\n",
    "#plt.title(label = 'Pharmacy Accessibility during Conventional \\n Weekday Business Hours',\n",
    "          #fontsize=13)\n",
    "    \n",
    "plt.axis('off')\n",
    "plt.show()\n",
    "\n",
    "# Save figure\n",
    "fig2.savefig(\"./results/figures/figure2.jpg\", dpi=300)"
   ]
  },
  {
   "cell_type": "markdown",
   "metadata": {},
   "source": [
    "**Figure 2.** Spatial accessibility during conventional weekday business hours, representing a time period when all pharmacies are operational (maximum accessibility). \n",
    "\n",
    "During conventional weekday business hours when all pharmacies are open, accessibility to pharmacies varied considerably across towns (Figure 2). Figure 2 illustrates generally higher accessibility in metropolitan and micropolitan towns, with some of the highest accessibility measures falling around some of the largest urban areas in Vermont such as Burlington and Rutland (Figure 2). The mean accessibility scores were 4.20, 4.25, and 3.01 for metropolitan, micropolitan, and rural towns, respectively, indicating that micropolitan have virtually the same access as metropolitan municipalities (1% difference), while rural towns have 28% less access on average compared to metropolitan municipalities. However, some sparsely-populated rural towns in the Northeast portion of the state also demonstrated very high accessibility to pharmacies (Figure 2), due to the high service-to-population ratio considering the small populations of those municipalities. "
   ]
  },
  {
   "cell_type": "markdown",
   "metadata": {},
   "source": [
    "#### Statistical Significance"
   ]
  },
  {
   "cell_type": "code",
   "execution_count": null,
   "metadata": {},
   "outputs": [],
   "source": [
    "# Check for normal distribution in weekday metro, micro, rural\n",
    "access_w_metro = mapping_df[mapping_df['necta'] == 'Metropolitan']['access_w']\n",
    "access_w_micro = mapping_df[mapping_df['necta'] == 'Micropolitan']['access_w']\n",
    "access_w_rural = mapping_df[mapping_df['necta'] == 'Rural']['access_w']\n",
    "\n",
    "plt.hist(access_w_rural, bins=10)\n",
    "plt.hist(access_w_metro, bins=10)\n",
    "plt.hist(access_w_micro, bins=10)\n",
    "print(\"Not normal distribution. Cannot use ANOVA test. Use Kruskal-Wallis instead.\")"
   ]
  },
  {
   "cell_type": "code",
   "execution_count": null,
   "metadata": {},
   "outputs": [],
   "source": [
    "# Kruskal Wallis Test for significant difference of means between necta classification during conventional business hours\n",
    "h_statistic_1, p_value_1 = kruskal(access_w_metro, access_w_micro, access_w_rural)\n",
    "                 \n",
    "print(\"Kruskal-Wallis H Statistic:\", h_statistic_1)\n",
    "print(\"P-value:\", p_value_1)\n",
    "\n",
    "alpha = 0.05\n",
    "if p_value_1 < alpha:\n",
    "    print(\"Reject the null hypothesis. There is a significant difference in mean access during conventional weekday \\nbusiness hours between metropolitan, micropolitan, and rural towns.\")\n",
    "else:\n",
    "    print(\"Fail to reject the null hypothesis. There is no significant difference in mean access between groups.\")"
   ]
  },
  {
   "cell_type": "markdown",
   "metadata": {},
   "source": [
    "Metropolitan and micropolitan towns had a mean relative accessibility of 4.20 and 4.25, respectively, while rural towns had a mean relative accessibility measure of 3.01. We employed the Kruskal-Wallis difference of means test and found that there is a significant difference in mean access to pharmacies during conventional weekday business hours between metropolitan, micropolitan, and rural towns(H(2) = 27.7, p < 0.0001). "
   ]
  },
  {
   "cell_type": "markdown",
   "metadata": {
    "tags": []
   },
   "source": [
    "### Hypothesis 2 - Temporal Dimension"
   ]
  },
  {
   "cell_type": "markdown",
   "metadata": {},
   "source": [
    "Calculate mean access by type of day, and then map accessibility by county subdivision for each type of day."
   ]
  },
  {
   "cell_type": "code",
   "execution_count": null,
   "metadata": {},
   "outputs": [],
   "source": [
    "# Mean accessibility by day table\n",
    "mean_access_day = mapping_df[['access_w', 'access_s', 'access_su']].mean()\n",
    "mean_access_day_df = mean_access_day.to_frame().rename(columns={0: 'Mean Access'})\n",
    "mean_access_day_df.index = ['Weekday', 'Saturday', 'Sunday']\n",
    "table_2 = tabulate(mean_access_day_df, headers='keys', tablefmt='simple_grid')\n",
    "print(table_2)"
   ]
  },
  {
   "cell_type": "markdown",
   "metadata": {},
   "source": [
    "#### Figure 3: Accessibility variation by day of the week"
   ]
  },
  {
   "cell_type": "code",
   "execution_count": null,
   "metadata": {},
   "outputs": [],
   "source": [
    "# Map accessibility by day of the week\n",
    "mapping_df1 = mapping_df\n",
    "#print(mapping_df1[['access_w', 'access_s', 'access_su']].min().min())  # Min accessibility value\n",
    "#print(mapping_df1[['access_w', 'access_s', 'access_su']].max().max())  # Max accessibility value\n",
    "\n",
    "fig3, axs = plt.subplots(1, 3, figsize=(22.5, 10), facecolor = 'white')\n",
    "plt.subplots_adjust(wspace=-.4)\n",
    "\n",
    "for i, column in enumerate(['access_w', 'access_s', 'access_su']):\n",
    "    ax = axs[i]\n",
    "    mapping_df1.plot(column=column, cmap='Greens', linewidth=0.2, ax=ax, edgecolor='0.8', legend=False,\n",
    "                vmin=0, vmax=maxacc)\n",
    "    \n",
    "    # Plot only the merged exterior boundaries of the 'Metropolitan NECTA' group\n",
    "    metropolitan_boundary.plot(ax=ax, color='black', linewidth=.9)\n",
    "\n",
    "    # Plot only the merged exterior boundaries of the 'Micropolitan NECTA' group\n",
    "    micropolitan_boundary.plot(ax=ax, color='black', linestyle = 'dashed', linewidth=.9)\n",
    "    \n",
    "    axs[0].set_title(label='Weekday', fontsize=14)\n",
    "    axs[1].set_title('Saturday', fontsize=14)\n",
    "    axs[2].set_title('Sunday', fontsize=14)\n",
    "    ax.axis('off')\n",
    "\n",
    "cbar = fig.colorbar(plt.cm.ScalarMappable(norm=plt.Normalize(vmin=0, vmax=maxacc), cmap='Greens'), ax=axs, #Max was set to 20 for visualization purposes\n",
    "                    orientation='horizontal', pad=.07, shrink=.5)\n",
    "cbar.set_label('Accessibility')\n",
    "\n",
    "#fig.patch.set_edgecolor('black') #Border\n",
    "#fig.patch.set_linewidth(2)       #Border\n",
    "plt.subplots_adjust(right=1)\n",
    "\n",
    "cbar.ax.set_position([0.26, 0.05, .5, 0.05])\n",
    "\n",
    "ax.legend(handles=legend_elements, loc='lower right', fontsize=12, bbox_to_anchor=(.9,-.129))\n",
    "\n",
    "plt.show()\n",
    "\n",
    "#Save Figure\n",
    "fig3.savefig(\"./results/figures/figure3.jpg\", dpi=300)"
   ]
  },
  {
   "cell_type": "markdown",
   "metadata": {},
   "source": [
    "**Figure 3**. Spatial accessibility across days of the week. Each map represents the maximum accessibility on each day when all pharmacies that plan to open that day are operational. \n",
    "\n",
    "Spatial accessibility to pharmacy care across Vermont towns dropped considerably on Saturdays and Sundays, with more significant drops in accessibility occurring on Sundays (Figure 3, 4). Mean access scores to pharmacy care were 3.4, 2.0, and 1.4 on weekdays, Saturdays, and Sundays, respectively, with access dropping by 41% on Saturdays and 58% on Sundays across the state. Peak access represents the times of the day when all pharmacies that are open on that specific day are operational. Drops in accessibility remained mostly spatially constant; clusters with the highest accessibility on weekdays, especially in metropolitan and micropolitan areas, remained the areas with the highest accessibility on Saturdays and Sundays, with the exception of municipalities in the northeast corner of the state (Figure 3)."
   ]
  },
  {
   "cell_type": "markdown",
   "metadata": {},
   "source": [
    "#### Figure 4: Accessibility by time of day"
   ]
  },
  {
   "cell_type": "code",
   "execution_count": null,
   "metadata": {},
   "outputs": [],
   "source": [
    "linegraph_df = mapping_df.copy()  \n",
    "\n",
    "# Weekday\n",
    "access_columns_w = ['access_7week','access_8week','access_9week','access_10week','access_11week','access_12week', 'access_13week','access_14week','access_15week','access_16week','access_17week','access_18week','access_19week', 'access_20week', 'access_21week', 'access_22week']\n",
    "values_w = linegraph_df[access_columns_w].mean()  # Calculate the mean value for each access column\n",
    "\n",
    "# Saturday\n",
    "access_columns_s = ['access_7sat','access_8sat','access_9sat','access_10sat','access_11sat','access_12sat','access_13sat','access_14sat','access_15sat','access_16sat','access_17sat','access_18sat','access_19sat', 'access_20sat', 'access_21sat', 'access_22sat']\n",
    "values_s = linegraph_df[access_columns_s].mean()  # Calculate the mean value for each access column\n",
    "\n",
    "# Sunday\n",
    "access_columns_su = ['access_7sun','access_8sun','access_9sun','access_10sun', 'access_11sun','access_12sun','access_13sun','access_14sun', 'access_15sun', 'access_16sun', 'access_17sun', 'access_18sun', 'access_19sun', 'access_20sun', 'access_21sun', 'access_22sun']\n",
    "values_su = linegraph_df[access_columns_su].mean()  # Calculate the mean value for each access column\n",
    "\n",
    "# X-axis values for all three days\n",
    "common_x_values = ['7am', '8am', '9am', '10am', '11am','12pm','1pm', '2pm', '3pm', '4pm', '5pm', '6pm', '7pm', '8pm', '9pm', '10pm']\n",
    "\n",
    "# Plot together\n",
    "fig, ax = plt.subplots(figsize=(10, 6))\n",
    "plt.plot(common_x_values, values_w, label='Weekday', color='black', linestyle='-')\n",
    "plt.plot(common_x_values, values_s, label='Saturday', color='black', linestyle='-.')\n",
    "plt.plot(common_x_values, values_su, label='Sunday', color='black', linestyle=':')\n",
    "#plt.title('Access by Time of Day')\n",
    "plt.xlabel('Time of Day')\n",
    "plt.ylabel('Mean Accessibility')\n",
    "plt.xticks() \n",
    "plt.yticks()\n",
    "plt.legend()\n",
    "plt.show()\n",
    "\n",
    "# save figure\n",
    "fig.savefig(\"./results/figures/figure4.jpg\", dpi=300)"
   ]
  },
  {
   "cell_type": "markdown",
   "metadata": {},
   "source": [
    "**Figure 4.** Mean accessibility throughout hours of the day, broken down by days of the week. \n",
    "\n",
    "On Saturdays and Sundays, there was no access to pharmacies across the state before 8 am and very minimal access before 9 am. By contrast, mean access rose substantially by 8 am on weekdays, to a level around peak mean access on Saturdays and Sundays. Access was relatively constant between 10 am and 4 pm on all days. Mean access was near zero by 7 pm on Saturdays and Sundays, while mean access did not reach zero until 10 pm on weekdays (Figure 4)."
   ]
  },
  {
   "cell_type": "markdown",
   "metadata": {},
   "source": [
    "#### Figure 5: Accessibility at extreme hours"
   ]
  },
  {
   "cell_type": "code",
   "execution_count": null,
   "metadata": {},
   "outputs": [],
   "source": [
    "fig, ax = plt.subplots(figsize=(10, 10), facecolor = \"white\")\n",
    "mapping_df.plot(column='access_23week', cmap='Greens', ax=ax, linewidth=0.2, edgecolor= '.8', vmax=.5)\n",
    "mapping_df.dissolve().boundary.plot(ax=ax, color='black', linewidth=1)\n",
    "\n",
    "cb = plt.cm.ScalarMappable(cmap='Greens', norm=plt.Normalize(vmin=0, vmax=.5))\n",
    "#cbar = plt.colorbar(cb, shrink = .5, orientation = 'horizontal', pad=0, label = 'Accessibility')\n",
    "\n",
    "metropolitan_boundary.plot(ax=ax, color='black', linewidth=.8)\n",
    "micropolitan_boundary.plot(ax=ax, color='black',linestyle = \"dashed\", linewidth=.8)\n",
    "\n",
    "#fig.patch.set_edgecolor('black') #Border\n",
    "#fig.patch.set_linewidth(2)  \n",
    "plt.subplots_adjust(right = .5, top = .9)\n",
    "\n",
    "# Colorbar and Legend\n",
    "cbar = plt.colorbar(cb, shrink = .5, orientation = 'horizontal', pad=0, label = 'Accessibility')\n",
    "ax.legend(handles=legend_elements, loc='lower right', fontsize=12, bbox_to_anchor=(.92,.135))\n",
    "\n",
    "plt.axis('off')\n",
    "plt.tight_layout()\n",
    "plt.show()\n",
    "\n",
    "# Save Figure\n",
    "fig.savefig(\"./results/figures/figure5.jpg\", dpi=300)"
   ]
  },
  {
   "cell_type": "markdown",
   "metadata": {},
   "source": [
    "**Figure 5.** Late night accessibility. Represents access between 10 pm and 7 am. \n",
    "\n",
    "There were no 24-hour pharmacies in the State of Vermont and only two 24-hour pharmacies in our entire study area. We mapped the accessibility to pharmacy care between between 10 pm and 7 am on a typical weekday. Besides the very limited access in the southeast portion of the state, there was no access to late-night pharmacy care across Vermont towns (Figure 5). Interestingly, this represents the only series of times when pharmacy accessibility is not highest within Vermont's metropolitan or micropolitan counties."
   ]
  },
  {
   "cell_type": "markdown",
   "metadata": {},
   "source": [
    "#### Statistical Significance"
   ]
  },
  {
   "cell_type": "code",
   "execution_count": null,
   "metadata": {},
   "outputs": [],
   "source": [
    "access_w_test = pd.Series(mapping_df['access_w'])\n",
    "access_s_test = pd.Series(mapping_df['access_s'])\n",
    "access_su_test = pd.Series(mapping_df['access_su'])\n",
    "\n",
    "# Check for distribution between days of week. \n",
    "plt.hist(access_w_test, bins=10) \n",
    "plt.hist(access_s_test , bins=10) \n",
    "plt.hist(access_su_test, bins=10) \n",
    "print(\"Distribution is not normal. Cannot use ANOVA test. Use Kruskal-Wallis instead.\")"
   ]
  },
  {
   "cell_type": "code",
   "execution_count": null,
   "metadata": {},
   "outputs": [],
   "source": [
    "# Run Kruskal-Wallis Test\n",
    "h_statistic_2, p_value_2 = kruskal(access_w_test, access_s_test, access_su_test)\n",
    "                 \n",
    "print(\"Kruskal-Wallis H Statistic:\", h_statistic_2)\n",
    "print(\"P-value:\", p_value_2)\n",
    "\n",
    "alpha = 0.05\n",
    "if p_value_2 < alpha:\n",
    "    print(\"Reject the null hypothesis. There is a significant difference in mean access between weekdays, Saturdays, and Sundays.\")\n",
    "else:\n",
    "    print(\"Fail to reject the null hypothesis. There is no significant difference in mean access between days.\")\n",
    "                    "
   ]
  },
  {
   "cell_type": "markdown",
   "metadata": {},
   "source": [
    "Utilizing the Kruskal Wallis test, we found there to be a significant difference in mean access across between these days(H(2) = 202.7, p<0.0001). "
   ]
  },
  {
   "cell_type": "markdown",
   "metadata": {},
   "source": [
    "### Hypothesis 3 - Spatio-Temporal Dynamics\n",
    "\n",
    "Calculate mean access by NECTA classification and type of day. Simplify NECTA classification to rural and urban categories by merging micropolitan and metropolitan into \"urban\". Then calculate the percentage change from urban to rural for each type of day by finding `(Rural Access - Urban Access) / Urban Access * 100`"
   ]
  },
  {
   "cell_type": "code",
   "execution_count": null,
   "metadata": {},
   "outputs": [],
   "source": [
    "# Accessibility by Day and metropolitan/micropolitan Table\n",
    "means_by_metro = mapping_df.groupby('necta').mean()\n",
    "means_by_metro = necta_summary.join(means_by_metro[['access_w','access_s','access_su']])\n",
    "\n",
    "n_rural = means_by_metro.iat[0,0] + means_by_metro.iat[1,0]\n",
    "\n",
    "means_by_metro.loc['Non-rural'] = [n_rural, \n",
    "                                   (means_by_metro.iat[0,0] * means_by_metro.iat[0,1] + means_by_metro.iat[1,0] * means_by_metro.iat[1,1]) / n_rural,\n",
    "                                   (means_by_metro.iat[0,0] * means_by_metro.iat[0,2] + means_by_metro.iat[1,0] * means_by_metro.iat[1,2]) / n_rural,\n",
    "                                   (means_by_metro.iat[0,0] * means_by_metro.iat[0,3] + means_by_metro.iat[1,0] * means_by_metro.iat[1,3]) / n_rural]\n",
    "\n",
    "means_by_metro = means_by_metro.iloc[[3,2]]\n",
    "\n",
    "means_by_metro.loc['Percent Change'] = ['-',\n",
    "                                            (means_by_metro.iat[1,1] - means_by_metro.iat[0,1]) / means_by_metro.iat[0,1] * 100,\n",
    "                                            (means_by_metro.iat[1,2] - means_by_metro.iat[0,2]) / means_by_metro.iat[0,2] * 100,\n",
    "                                            (means_by_metro.iat[1,3] - means_by_metro.iat[0,3]) / means_by_metro.iat[0,3] * 100]\n",
    "\n",
    "print(tabulate(means_by_metro, tablefmt = 'fancy_grid', headers=[\"\",\"N\",\"Weekday Mean Access\", \"Saturday Mean Access\", \"Sunday Mean Access\"]))\n",
    "#means_by_metro"
   ]
  },
  {
   "cell_type": "markdown",
   "metadata": {},
   "source": [
    "**Table 1.** Mean Accessibility on weekdays, Saturdays, and Sundays, broken down by non-rural and rural subdivisions. Percent differences are calculated to see how accessibility gaps differ throughout the week. \n",
    "\n",
    "**Unplanned deviation:** to simplify the analysis of impact on service for rural areas beyond normal working hours, we combined the micropolitan and metropolitan areas with an average weighted by the number of county-subdivisions in each category (35 metropolitan and 48 micropolitan). \n",
    "\n",
    "The average accessibility to pharmacy care in rural areas exhibited a more pronounced decline during weekends when contrasted with urban areas. On weekdays, the average accessibility across rural towns was 29% lower than that of urban areas. However, accessibility across rural towns experienced more substantial declines on the weekend, dropping by 31% on Saturdays and 40% on Sundays compared to urban areas (Figure 6). "
   ]
  },
  {
   "cell_type": "markdown",
   "metadata": {},
   "source": [
    "#### Figure 7: Time of day and NECTA classification"
   ]
  },
  {
   "cell_type": "code",
   "execution_count": 90,
   "metadata": {},
   "outputs": [
    {
     "data": {
      "image/png": "[encoded data removed]",
      "text/plain": [
       "<Figure size 720x864 with 3 Axes>"
      ]
     },
     "metadata": {
      "needs_background": "light"
     },
     "output_type": "display_data"
    }
   ],
   "source": [
    "access_columns = ['access_7week','access_8week','access_9week','access_10week','access_11week','access_12week',\n",
    "                  'access_13week','access_14week','access_15week','access_16week','access_17week','access_18week',\n",
    "                  'access_19week', 'access_20week', 'access_21week', 'access_22week']\n",
    "linegraph_df2 = mapping_df.groupby('necta')[access_columns].mean()\n",
    "linegraph_df2 = linegraph_df2.T\n",
    "\n",
    "access_columns2 = ['access_7sat','access_8sat','access_9sat','access_10sat','access_11sat','access_12sat',\n",
    "                   'access_13sat','access_14sat','access_15sat','access_16sat','access_17sat','access_18sat',\n",
    "                   'access_19sat', 'access_20sat', 'access_21sat', 'access_22sat']\n",
    "linegraph_df3 = mapping_df.groupby('necta')[access_columns2].mean()\n",
    "linegraph_df3 = linegraph_df3.T\n",
    "\n",
    "access_columns3 = ['access_7sun','access_8sun','access_9sun','access_10sun', 'access_11sun','access_12sun',\n",
    "                   'access_13sun','access_14sun', 'access_15sun', 'access_16sun', 'access_17sun', 'access_18sun', \n",
    "                   'access_19sun', 'access_20sun', 'access_21sun', 'access_22sun']\n",
    "linegraph_df4 = mapping_df.groupby('necta')[access_columns3].mean()\n",
    "linegraph_df4 = linegraph_df4.T\n",
    "\n",
    "fig, axs = plt.subplots(3, 1, figsize=(10, 12), sharey = True)  \n",
    "\n",
    "custom_ticks = [0,1,2,3,4,5,6,7,8,9,10,11,12,13,14,15]\n",
    "time_labels = ['7am','8am', '9am','10am','11am','12pm','1pm','2pm', '3pm','4pm','5pm','6pm', '7pm','8pm','9pm','10pm']\n",
    "\n",
    "\n",
    "# Weekday \n",
    "linegraph_df2.plot(time_labels, kind='line', color= ['#8AB5DB','#6787A3','#3B4E5E'] , ax=axs[0], legend = None)  \n",
    "axs[0].set_title('Weekday')\n",
    "axs[0].set_xlabel('')\n",
    "axs[0].set_ylabel('Mean Access Value')\n",
    "axs[0].set_xticks(custom_ticks)  \n",
    "axs[0].set_xticklabels(time_labels, rotation= 45) \n",
    "axs[0].grid(axis='y', linestyle='-', linewidth=0.08, color='black')\n",
    "\n",
    "# Saturday\n",
    "linegraph_df3.plot(time_labels, kind='line', color = ['#8AB5DB','#6787A3','#3B4E5E'] , ax=axs[1], legend = None) \n",
    "axs[1].set_title('Saturday')\n",
    "axs[1].set_xlabel('')\n",
    "axs[1].set_ylabel('Mean Access Value')\n",
    "axs[1].set_xticks(custom_ticks) \n",
    "axs[1].set_xticklabels(time_labels, rotation = 45) \n",
    "axs[1].grid(axis='y', linestyle='-', linewidth=0.08, color='black')\n",
    "\n",
    "# Sunday\n",
    "linegraph_df4.plot(time_labels, kind='line', color = ['#8AB5DB','#6787A3','#2A3742'], ax=axs[2], legend= None)  \n",
    "axs[2].set_title('Sunday')\n",
    "axs[2].set_xlabel('')\n",
    "axs[2].set_ylabel('Mean Access Value')\n",
    "axs[2].set_xticks(custom_ticks)  \n",
    "axs[2].set_xticklabels(time_labels, rotation = 45) \n",
    "axs[2].grid(axis='y', linestyle='-', linewidth=0.08, color='black')\n",
    "\n",
    "handles, labels = axs[0].get_legend_handles_labels()\n",
    "fig.legend(handles, labels, loc='lower center', ncol=3, fontsize=12, title='', title_fontsize='large', labels = ['Metropolitan','Micropolitan','Rural'], bbox_to_anchor=(0.5, -0.04))\n",
    "\n",
    "#fig.patch.set_edgecolor('black') #Border\n",
    "#fig.patch.set_linewidth(2)  \n",
    "\n",
    "#plt.suptitle('Mean Access by Time of Day', x=0.51, y=1.0, fontsize=16, ha='center')\n",
    "plt.tight_layout()\n",
    "plt.show()\n",
    "\n",
    "# Save Figure\n",
    "fig.savefig(\"./results/figures/figure7.jpg\", dpi=300)"
   ]
  },
  {
   "cell_type": "markdown",
   "metadata": {},
   "source": [
    "**Figure 7.** Mean Accessibility across hours of the day for weekdays, Saturdays, and Sundays by NECTA classification. \n",
    "\n",
    "Figure 7 indicates minimal variation in patterns of absolute access between metropolitan, micropolitan, and rural towns throughout the hours of each day. On each respective day, rural, metropolitan, and micropolitan towns' accessibility scores mirror each other across hours of the day, suggesting that access does not disproportionally fall in rural towns outside of conventional business hours (i.e. 9-5) on weekdays. We expected there to be certain slices of time for which significant variations in absolute accessibility scores between metropolitan, micropolitan, and rural towns would arise; however, this was not the case. Although accessibility scores appear to fall consistently between town types across days, it is difficult to tell how the percent differences in access change. See Figure 8. "
   ]
  },
  {
   "cell_type": "code",
   "execution_count": 91,
   "metadata": {},
   "outputs": [
    {
     "data": {
      "image/png": "[encoded data removed]",
      "text/plain": [
       "<Figure size 720x432 with 1 Axes>"
      ]
     },
     "metadata": {
      "needs_background": "light"
     },
     "output_type": "display_data"
    }
   ],
   "source": [
    "# WEEKDAY\n",
    "mapping_df['necta'].fillna('Rural', inplace=True)\n",
    "\n",
    "access_columns = ['access_7week','access_8week','access_9week','access_10week','access_11week',\n",
    "                  'access_12week', 'access_13week','access_14week','access_15week','access_16week',\n",
    "                  'access_17week','access_18week','access_19week', 'access_20week', 'access_21week', \n",
    "                  'access_22week']\n",
    "\n",
    "hourly_diff_df = mapping_df.groupby('necta')[access_columns].mean() # Mean access by hour of the day after grouping by NECTA\n",
    "hourly_diff_df = hourly_diff_df.T\n",
    "hourly_diff_df['Non-rural'] = (hourly_diff_df['Metropolitan'] * 35 + hourly_diff_df['Micropolitan'] * 48) / (35 + 48) #weighted average to \n",
    "hourly_diff_df['%_diff'] = ((hourly_diff_df['Rural'] - hourly_diff_df['Non-rural']) / hourly_diff_df['Non-rural']) * 100 #Percent diff between rural and non-rural\n",
    "hourly_diff_df['%_diff']['access_22week']=0 #Make this value 0. Both accessibility values too small to take meaningful % difference. Both values virtually 0 access\n",
    "hourly_diff_df['%_diff'] = hourly_diff_df['%_diff'].abs() #Take absolute value for plotting\n",
    "hourly_diff_df\n",
    "\n",
    "# SATURDAY\n",
    "access_columns2 = ['access_7sat','access_8sat','access_9sat','access_10sat','access_11sat','access_12sat',\n",
    "                   'access_13sat','access_14sat','access_15sat','access_16sat','access_17sat','access_18sat',\n",
    "                   'access_19sat', 'access_20sat', 'access_21sat', 'access_22sat']\n",
    "\n",
    "hourly_diff_df2 = mapping_df.groupby('necta')[access_columns2].mean() # Mean access by hour of the day after grouping by NECTA\n",
    "hourly_diff_df2 = hourly_diff_df2.T\n",
    "hourly_diff_df2['Non-rural'] = (hourly_diff_df2['Metropolitan'] * 35 + hourly_diff_df2['Micropolitan'] * 48) / (35 + 48) #weighted average to \n",
    "hourly_diff_df2['%_diff'] = ((hourly_diff_df2['Rural'] - hourly_diff_df2['Non-rural']) / hourly_diff_df2['Non-rural']) * 100 #Percent diff between rural and non-rural\n",
    "hourly_diff_df2['%_diff']['access_22sat']=0 #Make this value 0. Both accessibility values too small to take meaningful % difference. Both values virtually 0 access\n",
    "hourly_diff_df2['%_diff'] = hourly_diff_df2['%_diff'].abs() #Take absolute value for plotting\n",
    "hourly_diff_df2\n",
    "\n",
    "# SUN\n",
    "access_columns3 = ['access_7sun','access_8sun','access_9sun','access_10sun', 'access_11sun','access_12sun',\n",
    "                   'access_13sun','access_14sun', 'access_15sun', 'access_16sun', 'access_17sun', 'access_18sun', \n",
    "                   'access_19sun', 'access_20sun', 'access_21sun', 'access_22sun']\n",
    "\n",
    "hourly_diff_df3 = mapping_df.groupby('necta')[access_columns3].mean() # Mean access by hour of the day after grouping by NECTA\n",
    "hourly_diff_df3 = hourly_diff_df3.T\n",
    "hourly_diff_df3['Non-rural'] = (hourly_diff_df3['Metropolitan'] * 35 + hourly_diff_df3['Micropolitan'] * 48) / (35 + 48) #weighted average to \n",
    "hourly_diff_df3['%_diff'] = ((hourly_diff_df3['Rural'] - hourly_diff_df3['Non-rural']) / hourly_diff_df3['Non-rural']) * 100 #Percent diff between rural and non-rural\n",
    "hourly_diff_df3['%_diff']['access_22sun']=0 #Make this value 0. Both accessibility values too small to take meaningful % difference. Both values virtually 0 access\n",
    "hourly_diff_df3['%_diff'] = hourly_diff_df3['%_diff'].abs() #Take absolute value for plotting\n",
    "hourly_diff_df3\n",
    "\n",
    "common_x_values = ['7am', '8am', '9am', '10am', '11am','12pm','1pm', '2pm', '3pm', '4pm', '5pm', '6pm', '7pm', '8pm', '9pm', '10pm']\n",
    "\n",
    "# PLOT TOGETHER\n",
    "figure = plt.figure(figsize=(10, 6))\n",
    "plt.plot(common_x_values, hourly_diff_df['%_diff'], label='Weekday', color = 'black',linestyle='-')\n",
    "plt.plot(common_x_values, hourly_diff_df2['%_diff'], label='Saturday', color = 'black', linestyle='-.')\n",
    "plt.plot(common_x_values, hourly_diff_df3['%_diff'], label='Sunday', color = 'black', linestyle=':')\n",
    "\n",
    "plt.ylabel('Urban-Rural Percent Change in Access')\n",
    "plt.grid(axis='y', linestyle='-', linewidth=0.08, color='black')\n",
    "plt.xticks(rotation=45)\n",
    "plt.legend()\n",
    "plt.tight_layout()\n",
    "plt.show()\n",
    "\n",
    "# Save Figure\n",
    "figure.savefig(\"./results/figures/figure8.jpg\", dpi=300)"
   ]
  },
  {
   "cell_type": "markdown",
   "metadata": {},
   "source": [
    "**Figure 8.** Percent difference in mean accessibility scores across hours of the day between rural and urban areas by day of the week.\n",
    "\n",
    "Although absolute differences in accessibility scores between metropolitan, micropolitan, and rural towns did not appear to significantly change throughout the hours of each day (Figure 7), there were observed variations in percent difference accessibility. In addition to exacerbated urban-rural differences on weekends, accessibility differences were also exacerbated outside of conventional daily business hours, with more significant differences arising at more extreme hours of the day on weekdays, Saturdays, and Sundays (Figure 8). "
   ]
  },
  {
   "cell_type": "markdown",
   "metadata": {},
   "source": [
    "#### Accessibility GIFs (accessory visuals)"
   ]
  },
  {
   "cell_type": "code",
   "execution_count": 92,
   "metadata": {},
   "outputs": [],
   "source": [
    "def plot_accessibility_map(mapping_df, metropolitan_boundary, micropolitan_boundary, time_column, ax):\n",
    "    mapping_df.plot(column=time_column, cmap='Greens', legend=False, ax=ax, vmax=maxacc)\n",
    "    metropolitan_boundary.plot(ax=ax, color='black', linewidth=1.2)\n",
    "    micropolitan_boundary.plot(ax=ax, color='black', linestyle = \"dashed\", linewidth=1.2)\n",
    "    mapping_df.dissolve().boundary.plot(ax=ax, color='black', linewidth=1)\n",
    "    ax.set_axis_off()\n",
    "    \n",
    "# WEEKDAY GIF\n",
    "if not os.path.exists('results/GIFs'):\n",
    "    os.makedirs('results/GIFs')\n",
    "\n",
    "time_columns = ['access_7week','access_8week','access_9week','access_10week','access_11week','access_12week', 'access_13week','access_14week','access_15week','access_16week','access_17week','access_18week','access_19week', 'access_20week', 'access_21week', 'access_22week']\n",
    "time_labels = ['7 am', '8 am', '9 am','10 am', '11 am', '12pm', '1 pm','2 pm', '3 pm', '4 pm', '5 pm','6 pm', '7 pm', '8 pm','9 pm', '10 pm']\n",
    "\n",
    "for time_column, time_label in zip(time_columns, time_labels):\n",
    "    fig, ax = plt.subplots(figsize=(8, 8))\n",
    "    plot_accessibility_map(mapping_df, metropolitan_boundary, micropolitan_boundary, time_column, ax)\n",
    "    ax.set_title(time_label, fontsize=14)\n",
    "    plt.axis('off')\n",
    "    plt.savefig(f'results/GIFs/{time_column}.png', bbox_inches='tight')\n",
    "    plt.close()\n",
    "\n",
    "# Create GIF from images\n",
    "images = []\n",
    "for time_column in time_columns:\n",
    "    images.append(imageio.imread(f'results/GIFs/{time_column}.png'))\n",
    "\n",
    "imageio.mimsave('results/GIFs/Week.gif', images, duration=1)\n",
    "\n",
    "# Remove temp image files\n",
    "for time_column in time_columns:\n",
    "    os.remove(f'results/GIFs/{time_column}.png')"
   ]
  },
  {
   "cell_type": "code",
   "execution_count": 93,
   "metadata": {},
   "outputs": [],
   "source": [
    "# SATURDAY GIF\n",
    "time_columns_saturday = ['access_7sat', 'access_8sat', 'access_9sat', 'access_10sat', 'access_11sat', 'access_12sat', 'access_13sat', 'access_14sat', 'access_15sat', 'access_16sat', 'access_17sat', 'access_18sat', 'access_19sat', 'access_20sat', 'access_21sat', 'access_22sat']\n",
    "time_labels_saturday = ['7 am', '8 am', '9 am', '10 am', '11 am', '12 pm', '1 pm', '2 pm', '3 pm', '4 pm', '5 pm', '6 pm', '7 pm', '8 pm', '9 pm', '10 pm']\n",
    "\n",
    "for time_column, time_label in zip(time_columns_saturday, time_labels_saturday):\n",
    "    fig, ax = plt.subplots(figsize=(8, 8))\n",
    "    plot_accessibility_map(mapping_df, metropolitan_boundary, micropolitan_boundary, time_column, ax)\n",
    "    ax.set_title(time_label, fontsize=14)\n",
    "    plt.axis('off')\n",
    "    plt.savefig(f'results/GIFs/{time_column}.png', bbox_inches='tight')\n",
    "    plt.close()\n",
    "\n",
    "images_saturday = []\n",
    "for time_column in time_columns_saturday:\n",
    "    images_saturday.append(imageio.imread(f'results/GIFs/{time_column}.png'))\n",
    "\n",
    "imageio.mimsave('results/GIFs/Saturday.gif', images_saturday, duration=1)\n",
    "\n",
    "for time_column in time_columns_saturday:\n",
    "    os.remove(f'results/GIFs/{time_column}.png')\n",
    "\n",
    "# SUNDAY GIF\n",
    "time_columns_sunday = ['access_7sun', 'access_8sun', 'access_9sun', 'access_10sun', 'access_11sun', 'access_12sun', 'access_13sun', 'access_14sun', 'access_15sun', 'access_16sun', 'access_17sun', 'access_18sun', 'access_19sun', 'access_20sun', 'access_21sun', 'access_22sun']\n",
    "time_labels_sunday = ['7 am', '8 am', '9 am', '10 am', '11 am', '12 pm', '1 pm', '2 pm', '3 pm', '4 pm', '5 pm', '6 pm', '7 pm', '8 pm', '9 pm', '10 pm']\n",
    "\n",
    "for time_column, time_label in zip(time_columns_sunday, time_labels_sunday):\n",
    "    fig, ax = plt.subplots(figsize=(8, 8))\n",
    "    plot_accessibility_map(mapping_df, metropolitan_boundary, micropolitan_boundary, time_column, ax)\n",
    "    ax.set_title(time_label, fontsize=14)\n",
    "    plt.axis('off')\n",
    "    plt.savefig(f'results/GIFs/{time_column}.png', bbox_inches='tight')\n",
    "    plt.close()\n",
    "\n",
    "images_sunday = []\n",
    "for time_column in time_columns_sunday:\n",
    "    images_sunday.append(imageio.imread(f'results/GIFs/{time_column}.png'))\n",
    "\n",
    "imageio.mimsave('results/GIFs/Sunday.gif', images_sunday, duration=1)\n",
    "\n",
    "for time_column in time_columns_sunday:\n",
    "    os.remove(f'results/GIFs/{time_column}.png')"
   ]
  },
  {
   "cell_type": "markdown",
   "metadata": {},
   "source": [
    "**Access final GIF in results/GIFs folder.** Compiled outside of this notebook using Adobe Premiere Pro. "
   ]
  },
  {
   "cell_type": "markdown",
   "metadata": {
    "tags": []
   },
   "source": [
    "## Discussion\n",
    "\n",
    "Minimal research has been conducted on the spatial accessibility to pharmacy care across the United States or on pharmacy accessibility in Vermont more generally. Yet, geographical access remains a crucial component of healthcare utilization rates. The objective of this study was to evaluate spatiotemporal variation in access to pharmacy care across Vermont, focusing on the accessibility differences between rural, micropolitan, and metropolitan towns. Understanding this variation in spatial accessibility to pharmacy care can help to craft policy to alleviate disparities in access to this increasingly important part of primary healthcare. By employing the Enhanced 2-Step Floating Catchment Area (E2SFCA) method in a temporally explicit manner, our analysis revealed significant disparities in pharmacy access across different geographic areas and temporal segments of the week in Vermont.\n",
    "\n",
    "Our results indicated that rural towns in Vermont generally have less access to pharmacy care compared to micropolitan and metropolitan towns during standard weekday business hours, leading us to accept our first hypothesis. As expected, Burlington, the state's largest city, consistently displayed some of the highest accessibility of pharmacies of all Vermont municipalities. These findings align with a large body of research that highlights the relative challenges of accessing healthcare in rural areas across the US, and more specifically, research that shows urban-rural disparity in pharmacy care (Wang & Ramroop, 2018; Zhou et al., 2021). Although some towns in the Northeast Kingdom, Vermont's most rural region, had some of the highest relative accessibility during regular weekday business hours, this result arises due to the unusual fact that there are two nearby pharmacies across the border in New Hampshire and some of the lowest population counts, creating an abnormally high service-to-population ratio for these towns. \n",
    "\n",
    "Despite variations in spatial accessibility across towns during conventional weekday business hours, our results demonstrate a consistent trend of diminished access during weekends across all town types and extreme difficulty accessing pharmacy care in the early mornings or late evenings across the state. These results led us to accept our second hypothesis, which suggested that access to pharmacy services fluctuates significantly across different temporal segments, with more limited access outside of typical business hours. Specifically, pharmacy accessibility was significantly more limited before 9 am and after 5 pm on Saturdays and Sundays than on weekdays (Figure 4). There was virtually no access to pharmacies between 10 pm and 7 am on weekdays, but for a longer period, between 7 pm and 8 am, on weekends (Figure 4). According to Qato et al. (2017), 10.7% of chain pharmacies and 4.9% of all pharmacies nationwide in the US offered 24-hour services in 2015. By contrast, Vermont had no pharmacies (0%) providing 24-hour services, indicating greater difficulty in accessing late-night pharmacy services compared to the national average. Pharmacies open 24 hours a day play a critical role in providing round-the-clock access to essential medications and medical services, potentially offering particular benefits for individuals with chronic conditions, families with young children, and those facing emergency situations.\n",
    "\n",
    "Our study suggests that temporal dimensions of access, particularly diminished weekend access, have a more significant impact than the rural-urban divide on overall access to pharmacies across Vermont. The disparity in mean accessibility scores was much greater between days of the week than it was between urban and rural areas on weekdays, Saturdays, or Sundays. This emphasis on temporal dimensions of access could be partly attributed to Vermont's widespread rurality. Given that Vermont has only one metropolitan area, which is relatively small, and its micropolitan areas are relatively rural, the stark contrast in access between these three town types may not be as pronounced due to the similarity in their compositions. This idea may also explain the similar, and sometimes even greater, accessibility in micropolitan towns compared to metropolitan towns during certain temporal segments of the week. While pharmacy operational hours tended to be similar between metropolitan and micropolitan towns, the generally lower population counts in micropolitan municipalities may have explained higher service-to-population ratios in these towns, and thus, consistently higher accessibility measures than metropolitan towns. This underscores the notion that pharmacies' operational hours are crucial for providing substantial pharmacy care across the state and highlights the broader challenges of ensuring consistent healthcare access across rural areas like Vermont. \n",
    "\n",
    "Urban-rural differences in accessibility remain crucial, particularly given that rural towns have 33% lower mean pharmacy accessibility compared to non-rural areas during standard business hours. Importantly, we found that accessibility differences between urban and rural areas on Saturdays and Sundays were more extreme than during weekdays (Figure 6), demonstrating that accessibility issues for rural towns are generally exacerbated on weekends. While the difference was marginal on Saturdays, on Sundays, the difference in access between urban and rural areas was more extreme than on weekdays(29% vs 40%). In addition to heightened rural access disparity on weekends, these differences in mean accessibility were exacerbated outside of 9 am to 5 pm daily business hours on weekdays, Saturdays, and Sundays, with the disparity increasing at more extreme hours. We hypothesized that differences in spatial accessibility between rural and metropolitan areas would be greater outside of conventional business hours, meaning both outside of Monday through Friday operating hours and outside of the hours of 9am to 5pm on any day. Thus, we accepted our third hypothesis, indicating that differences were exacerbated on weekends and before 9 am or after 5 pm daily. \n",
    "\n",
    "These findings have important implications for service providers and public health planning in Vermont. By identifying disparities in pharmacy accessibility between town types and temporal segments, our analysis provides potential areas for targeted intervention to improve healthcare access for Vermont residents. Extending hours of operations and increasing pharmacy staffing on weekends across select Vermont pharmacies could substantially improve Vermont residents' access to essential medications and healthcare services. Considering the exacerbated urban-rural accessibility disparity on weekends, it may be particularly important to focus on implementing these measures in Vermont's rural regions, effectively improving access for a significant portion of Vermont towns. Policy intervention should also aim to address the complete void in accessibility during extreme hours, such as late nights or early mornings, which indiscriminately impacts all town types. Expanding access to pharmacies is an important component of increasing accessibility to quality primary healthcare for Vermont municipalities. Although our analysis did not investigate the spatial accessibility to pharmacy care during public holidays, we suspect that access is severely limited on these days based on our other results. It may be important to increase efforts to provide pharmacy services on holidays on top of weekends and late-night hours to expand access for all Vermont residents and advance health equity. \n"
   ]
  },
  {
   "cell_type": "markdown",
   "metadata": {},
   "source": [
    "#### Bias and threats to validity\n",
    "\n",
    "Edge effects arise from measuring spatial accessibility to pharmacy care for Vermont towns along the state border since populations in these towns may receive pharmacy care from outside of Vermont. Although we have included a 10-mile buffer around Vermont in our study area to account for these effects, we are less confident in the out-of-state pharmacy dataset-- We may be missing some pharmacy locations, which may underestimate accessibility to pharmacies in these border towns. Additionally, staffing data was not collected for any pharmacies outside of Vermont. Boundary effects may have also impacted our results more broadly, as people who live closer to a town's edge may be more likely to visit pharmacies outside of their town; Kang et al. (2020) used hexagonal grids as the final geographic units for their maps to “minimize orientation bias from edge effects.” However, we present our results by town as these geographical units are more easily interpretable and are politically meaningful. We used an area-weighted overlay to depict our final results in town geographical units. \n",
    "\n",
    "This study is also limited by our data collection process and our model's ability to encapsulate the complex dynamics of pharmacy staffing, especially in minimally staffed areas. Pharmacy staffing levels were often reported as a range by survey respondents, as staffing levels change weekly. Much of this variation is a result of low and inconsistent staffing levels, which forces variation in the pharmacies staffing schedule. If the survey respondent provided precise staffing levels rather than a range, we used the reported levels directly. If they provided a range, we used the lower bound unless the survey respondent indicated that the greater number works a majority of the weekdays. For example, some pharmacies staff MWF with three technicians and TR with two technicians; in this case, three techs would be reported as the typical number for weekday staffing. However, if the survey respondent indicated that \"two to three\" technicians typically work on a weekday, then a value of two was recorded. This method helps to ensure consistency across data collection while representing the worst case staffing scenario. Based on conversations with pharmacies during the data collection process, it seems that pharmacies across the state are often dealing with these worst-case staffing levels.  Additionally, pharmacies sometimes reported that there was staffing overlap during the middle of the day for a few hours, with employees working the morning shift overlapping with employees working in the afternoons. The dynamics of this overlap was difficult to capture in our data collection. In this case, the fewer number of staff were recorded as the majority of the day is covered by this number, disregarding the lunch overlap. \n",
    "\n",
    "The decision to weigh pharmacists as twice as important as pharmacy technicians in accessibility calculations was decided upon in a fairly arbitrary manner. It is unclear what the relative contribution of pharmacists versus pharmacy technicians is in providing patients access to pharmacy services. \n",
    "\n",
    "We were initially interested in modeling the limited accessibility around lunch hours. However, there were complex dynamics of lunch staffing and lunch breaks that would have made this analysis too inaccurate. Some chains reported closing for lunch completely, while other chains noted that the pharmacist would take a break but technicians would continue working. In this case, prescriptions could be picked up, but patients looking for consultations and other duties fulfilled by the pharmacist would have to wait until the end of the lunch break. Additionally, there was often some overlap of staffing shifts around lunch hours. In sum, there is uncertainty about the level of services provided at the lunch hour and there is variability between service locations. We suspect that true accessibility is likely lower than displayed in our results around lunch hours.\n",
    "\n",
    "We were unable to collect data from all pharmacy locations in Vermont. Some pharmacy locations were unwilling to provide staffing levels to us. For locations with missing staffing data, the data was filled in based on the averages from collected data on the same pharmacy type. For other locations, we estimated staffing levels based on total budgeted hours per week and the open hours of the pharmacy. We expect that these interpolations and estimations may smooth the true data and bias results slightly toward the null for each of our hypotheses. Pharmacies would need to  report more complete data on operating hours and staffing levels in order to improve public health research and policy on pharmacy accessibility."
   ]
  },
  {
   "cell_type": "markdown",
   "metadata": {},
   "source": [
    "## Conclusion"
   ]
  },
  {
   "cell_type": "markdown",
   "metadata": {},
   "source": [
    "Our study successfully used the E2SFCA method to reveal important urban-rural differences in the spatial accessibility of pharmacies across Vermont and characterized how these accessibility differences vary based on temporal characteristics throughout a given week. This study indicates that rural towns have considerably worse access to pharmacy care in the state compared to metropolitan and micropolitan towns but that this difference in accessibility fluctuates throughout days of the week and times of the day, further confirming that considering the temporal dimension in spatial accessibility to healthcare studies can have important public health implications. In our case, publicly accessible datasets did not suffice for investigating the spatial accessibility to pharmacies in Vermont. Instead, we implemented a data collection process that was crucial to understanding the variation in accessibility. Future spatial accessibility analyses should consider undertaking similar data collection to investigate spatial accessibility to healthcare when all necessary datasets may not be preexisting. \n",
    "\n",
    "We believe that it may be important for future research to further explore the demographic relationships between towns and their spatial accessibility to pharmacies. This study did not take into account demographic or socioeconomic differences between county subdivisions that may impact accessibility to pharmacy care other than rurality. Additionally, the role of independent versus chain pharmacies within the greater pharmacy and healthcare landscape is becoming increasingly investigated, and exploring how different pharmacy types contribute to accessibility variations in future work could provide valuable insights for healthcare planning and resource allocation. Furthermore, disasters like the Vermont floods of 2023 and health crises like the COVID-19 pandemic have significantly impacted demand on health care resources, integrity of road transportation networks, and ability of pharmacies to maintain normal working hours. Lastly, it may be important to explore health outcomes related to pharmacy accessibility against the pharmacy accessibility measurements in future work to better understand the public health significance of variation in spatial accessibility to pharmacies. Although our study did not investigate these dimensions of additional research, we have developed the spatial data and methodological framework using open science research practices to support such future research.\n"
   ]
  },
  {
   "cell_type": "markdown",
   "metadata": {},
   "source": [
    "## Acknowledgements\n",
    "\n",
    "- `Funding Name`: National Science Foundation Directorate for Social, Behavioral and Economic Sciences\n",
    "- `Funding Title`: Transforming theory-building and STEM education through reproductions and replications in the geographical sciences\n",
    "- `Award info URI`: https://www.nsf.gov/awardsearch/showAward?AWD_ID=2049837\n",
    "- `Award number`: BCS-2049837\n",
    "\n",
    "This report is based upon the template for Reproducible and Replicable Research in Human-Environment and Geographical Sciences, DOI:[10.17605/OSF.IO/W29MQ](https://doi.org/10.17605/OSF.IO/W29MQ)"
   ]
  },
  {
   "cell_type": "markdown",
   "metadata": {},
   "source": [
    "### References\n",
    "Arcury, T. A., Preisser, J. S., Gesler, W. M., & Powers, J. M. (2005). Access to Transportation and Health Care Utilization in a Rural Region. The Journal of Rural Health, 21(1), 31–38. https://doi.org/10.1111/j.1748-0361.2005.tb00059.x\n",
    "\n",
    "Berenbrok, L. A., Tang, S., Gabriel, N., Guo, J., Sharareh, N., Patel, N., Dickson, S., & Hernandez, I. (2022). Access to community pharmacies: A nationwide geographic information systems cross-sectional analysis. Journal of the American Pharmacists Association, 62(6), 1816-1822.e2. https://doi.org/10.1016/j.japh.2022.07.003\n",
    "\n",
    "Goodman, D. C., Fisher, E., Stukel, T. A., & Chang, C. (1997). The distance to community medical care and the likelihood of hospitalization: Is closer always better? American Journal of Public Health, 87(7), 1144–1150. https://doi.org/10.2105/AJPH.87.7.1144\n",
    "\n",
    "Grabenstein, J. D. (2022). Essential services: Quantifying the contributions of America’s pharmacists in COVID-19 clinical interventions. Journal of the American Pharmacists Association, 62(6), 1929-1945.e1. https://doi.org/10.1016/j.japh.2022.08.010\n",
    "\n",
    "Hiscock, R., Pearce, J., Blakely, T., & Witten, K. (2008). Is Neighborhood Access to Health Care Provision Associated with Individual‐Level Utilization and Satisfaction? Health Services Research, 43(6), 2183–2200. https://doi.org/10.1111/j.1475-6773.2008.00877.x\n",
    "\n",
    "Holler, J., Burt, D., Udoh, K., Kedron, P & Cordola, B. (2023). Reproduction and Reanalysis of Kang et al 2020 Spatial Accessibility of COVID-19 Health Care Resources. https://doi.org/10.17605/OSF.IO/N92V3\n",
    "\n",
    "IKRAM, S. Z., HU, Y., & WANG, F. (2015). DISPARITIES IN SPATIAL ACCESSIBILITY OF PHARMACIES IN BATON ROUGE, LOUISIANA. Geographical Review, 105(4), 492–510.\n",
    "\n",
    "Jumadi, J., Fikriyah, V. N., Hadibasyir, H. Z., Sunariya, M. I. T., Priyono, K. D., Setiyadi, N. A., Carver, S. J., Norman, P. D., Malleson, N. S., Rohman, A., & Lotfata, A. (2022). Spatiotemporal Accessibility of COVID-19 Healthcare Facilities in Jakarta, Indonesia. Sustainability, 14(21), 14478. https://doi.org/10.3390/su142114478\n",
    "\n",
    "Kang, J.-Y., Michels, A., Lyu, F., Wang, S., Agbodo, N., Freeman, V. L., & Wang, S. (2020). Rapidly measuring spatial accessibility of COVID-19 healthcare resources: A case study of Illinois, USA. International Journal of Health Geographics, 19(1), 36. https://doi.org/10.1186/s12942-020-00229-x\n",
    "\n",
    "Kim, K., & Kwon, K. (2022). Time-varying spatial accessibility of primary healthcare services based on spatiotemporal variations in demand, supply, and traffic conditions: A case study of Seoul, South Korea. Journal of Transport & Health, 27, 101531. https://doi.org/10.1016/j.jth.2022.101531\n",
    "\n",
    "Kirby, J. B., & Yabroff, K. R. (2020). Rural–Urban Differences in Access to Primary Care: Beyond the Usual Source of Care Provider. American Journal of Preventive Medicine, 58(1), 89–96. https://doi.org/10.1016/j.amepre.2019.08.026\n",
    "\n",
    "Law, M., Dijkstra, A., Douillard, J., & Morgan, S. (2011). Geographic Accessibility of Community Pharmacies in Ontario. Healthcare Policy | Politiques de Santé, 36–45. https://doi.org/10.12927/hcpol.2011.22097\n",
    "\n",
    "Luo, W., & Qi, Y. (2009). An enhanced two-step floating catchment area (E2SFCA) method for measuring spatial accessibility to primary care physicians. Health & Place, 15(4), 1100–1107. https://doi.org/10.1016/j.healthplace.2009.06.002\n",
    "\n",
    "Luo, W., & Wang, F. (2003). Measures of Spatial Accessibility to Health Care in a GIS Environment: Synthesis and a Case Study in the Chicago Region. Environment and Planning B: Planning and Design, 30(6), 865–884. https://doi.org/10.1068/b29120\n",
    "\n",
    "Martin, C. B., Hales, C. M., Gu, Q., & Ogden, C. L. (2019). Prescription drug use in the United States, 2015–2016. (NCHS Data Brief No. 334). National Center for Health Statistics.\n",
    "\n",
    "Qato, D. M., Zenk, S., Wilder, J., Harrington, R., Gaskin, D., & Alexander, G. C. (2017). The availability of pharmacies in the United States: 2007–2015. PLOS ONE, 12(8), e0183172. https://doi.org/10.1371/journal.pone.0183172\n",
    "\n",
    "San-Juan-Rodriguez, A., Newman, T. V., Hernandez, I., Swart, E. C. S., Klein-Fedyshin, M., Shrank, W. H., & Parekh, N. (2018). Impact of community pharmacist-provided preventive services on clinical, utilization, and economic outcomes: An umbrella review. Preventive Medicine, 115, 145–155. https://doi.org/10.1016/j.ypmed.2018.08.029\n",
    "\n",
    "Steeb, D. R., & Ramaswamy, R. (2019). Recognizing and engaging pharmacists in global public health in limited resource settings. Journal of Global Health, 9(1), 010318. https://doi.org/10.7189/jogh.09.010318\n",
    "\n",
    "Tharumia Jagadeesan, C., & Wirtz, V. J. (2021). Geographical accessibility of medicines: A systematic literature review of pharmacy mapping. Journal of Pharmaceutical Policy and Practice, 14(1), 28. https://doi.org/10.1186/s40545-020-00291-7\n",
    "\n",
    "Vermont State Department of Health. (n.d.). Health Care Workforce Census Pharmacists, 2021. https://www.healthvermont.gov/sites/default/files/document/HSI-stats-prov-pharm21-report.pdf\n",
    "\n",
    "Wang, L., & Ramroop, S. (2018). Geographic disparities in accessing community pharmacies among vulnerable populations in the Greater Toronto Area. Canadian Journal of Public Health / Revue Canadienne de Santé Publique, 109(5/6), 821–832. JSTOR.\n",
    "\n",
    "Zhou, Y., Beyer, K. M. M., Laud, P. W., Winn, A. N., Pezzin, L. E., Nattinger, A. B., & Neuner, J. (2021). An adapted two-step floating catchment area method accounting for urban–rural differences in spatial access to pharmacies. Journal of Pharmaceutical Health Services Research, 12(1), 69–77. https://doi.org/10.1093/jphsr/rmaa022\n"
   ]
  }
 ],
 "metadata": {
  "colab": {
   "provenance": []
  },
  "kernelspec": {
   "display_name": "Python 3-0.9.0",
   "language": "python",
   "name": "python3-0.9.0"
  },
  "language_info": {
   "codemirror_mode": {
    "name": "ipython",
    "version": 3
   },
   "file_extension": ".py",
   "mimetype": "text/x-python",
   "name": "python",
   "nbconvert_exporter": "python",
   "pygments_lexer": "ipython3",
   "version": "3.8.12"
  }
 },
 "nbformat": 4,
 "nbformat_minor": 4
}
