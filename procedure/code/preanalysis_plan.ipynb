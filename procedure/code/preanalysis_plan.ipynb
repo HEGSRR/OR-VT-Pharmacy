{
 "cells": [
  {
   "cell_type": "markdown",
   "metadata": {
    "id": "7gUZzqUXf91d"
   },
   "source": [
    "# Pre-Analysis\n",
    "\n"
   ]
  },
  {
   "cell_type": "markdown",
   "metadata": {
    "id": "ynQbJHvcVm55",
    "jp-MarkdownHeadingCollapsed": true,
    "tags": []
   },
   "source": [
    "Version 1.0 \\| First Created September 18, 2023 \\| Updated November 2023\n",
    "\n",
    "## Jupyter Notebook\n",
    "\n",
    "This is an Jupyter Notebook document. For more details on using a Jupyter Notebook see <https://docs.jupyter.org/en/latest/>.\n",
    "\n"
   ]
  },
  {
   "cell_type": "markdown",
   "metadata": {},
   "source": [
    "# A Space-Time Accessibility Analysis of Pharmacy Care in Vermont\n",
    "\n",
    "### Authors\n",
    "\n",
    "- Sam Roubin\\*, sroubin@middlebury.edu, @samroubin, https://orcid.org/0009-0005-5490-3744, Middlebury College\n",
    "- Joseph Holler, jholler@middlebury.edu, @josephholler, https://orcid.org/0000-0002-2381-2699, Middlebury College\n",
    "\n",
    "\\* Corresponding author and creator\n",
    "\n"
   ]
  },
  {
   "cell_type": "markdown",
   "metadata": {},
   "source": [
    "### Abstract\n",
    "\n",
    "Pharmacy care is a fundamental aspect of primary healthcare and is gaining greater recognition in the healthcare landscape. Patient-pharmacist interactions have recently evolved beyond the conventional role of medication dispensing and have embraced a more patient-centric medication management role. Recent research has underscored the importance of pharmacy access in primary care, as patients tend to visit pharmacies at higher rates than primary care providers and pharmacies are particularly valuable for reaching rural populations.\n",
    "\n",
    "Our research aims to measure the spatial variation in access to pharmacy care across the state of Vermont through adapting an established healthcare accessibility model encompassing the enhanced 2-step floating catchment area (E2SFCA) method. Specifically, it seeks to identify areas of the state that have particularly limited access to pharmacies. This research is temporally explicit, as it will analyze variation in accessibility at specific times of the day and week. Such temporally granular data has added benefits for the research since it provides information on how spatial accessibility varies at irregular times, improving our understanding of when pharmacy care may be particularly limited for certain populations. Previous studies have used the two step floating catchment area (2SFCA) and the E2SFCA method to measure spatial accesibility of pharmacy care across geographic scales and regions (e.g. on both the state and national levels). However, no prior studies have done so in Vermont. The results of this study are of interest to both service providers and Vermont state public health officials and may have important implications for public health planning in the state. \n",
    "\n",
    "This study adapts and extends the methodology used in Kang et al.'s (2020) \"Rapidly measuring spatial accessibility of COVID-19 healthcare resources: a case study of Illinois, USA\" to measure spatial accessibility of pharmacy care across Vermont. \n",
    "\n"
   ]
  },
  {
   "cell_type": "markdown",
   "metadata": {},
   "source": [
    "### Study metadata - Answer below for final maps\n",
    "\n",
    "- `Key words`: Pharmacy accessibility, spatial accessibility, pharmacy deserts, spatial analysis, pharmacy care, Vermont healthcare, rural healthcare, pharmacy services, Vermont public health, E2FSCA. \n",
    "- `Subject`: Medicine and Health Sciences: Public Health: Health Services Research OR Social and Behavioral Sciences: Geography: Spatial Science\n",
    "- `Date created`: 9/18/2023\n",
    "- `Date modified`: 11/8/2023\n",
    "- `Spatial Coverage`: The state of Vermont and areas within 10-miles of the Vermont border (MA, NY, NH). Canada is excluded. \n",
    "- `Spatial Resolution`: Municipalities, roughly same size as zipcodes, politically meaningful. The smallest spatial units of data will likely be around 5km hexagon grids, as the smallest distance between zipcode centroids were around 4km. Additionally, census tract data may be used to include social vulnerability index (SVI) in our analysis. \n",
    "- `Spatial Reference System`: EPSG 6589  \n",
    "- `Temporal Coverage`: The temporal extent is not explicitly determined. Pharmacies have been asked to provide their staffing levels over the period of roughly a month. The results from the study will be theoretically based on a single point in time in the Fall of 2023. This is a one time measuremement, and the study does not investigate change over time. \n",
    "- `Temporal Resolution`: The temporal resoution of this study varies. It will be as granular as a period of a couple of hours of a week to whole days, or an entire work week. Spatial access will be assessed and compared across specific hours of the days, between week days and Saturdays, weekdays and Sundays, and other combinations of these temporal units. \n",
    "- `Funding Name`: NA\n",
    "- `Funding Title`: NA\n",
    "- `Award info URI`: NA\n",
    "- `Award number`: NA"
   ]
  },
  {
   "cell_type": "markdown",
   "metadata": {},
   "source": [
    "## Study design\n",
    "\n",
    "Our study is original research that adapts the method set forth by Kang et al. (2020) to measure spatial accesibility to COVID-19 healthcare resources. Specifically, we will adapt the supply variables and change our geographic area of interest but will largely follow the same methodology, with minor relevant changes for our analysis. \n",
    "\n",
    "Holler (include OSF link) previously reproduced the Kang et al. \n",
    "\n",
    "General research question This study is largerly a descriptive model that characterizes access to pharmacy care across the state. Importantly, the model will be run in a temporally explicit manner to describe how variation in access is impacted during a given week. Primary driver of this study was that rural populations across Vermont experience increased difficulty in . We hypothesize tha: Rural places have more significanlty limited access to pharmacy care, expecially outside of normal 9am-5pm monday through Friday business hours. Although this study does not address a specific hypothesis due to its descriptive nature, several specific research questions arise from studying temporally-explicit spatial accessibility of pharmacy care in Vermont. We are primarily interested in whether certain areas of the state have particularly limited access to pharmacy care. We are also interested in how access varies across certain times of the day, days of the week, or a combination of these. Are there gaps in spatial accesibility to pharmacy care in Vermont, especially at different times of the day or days of the week? This question can be answered with a temporally-explicit model that creates a series of maps demonstrating varying accesibility. \n",
    "\n",
    "The specific time intervals for which we will measure accessibility have not yet been determined. However, it is likely that we will run the model for weekdays, Saturdays, and Sundays generally, and then during time periods that are likely to pose accessibility issues to patients, such as early mornings (i.e. before 9 am), lunch hours, and evenings (i.e. after 6 pm). Running this model for explicit time periods increases the granularity of our analysis and may drive a more comprehensive understanding of the spatial accessibility to pharmacy care across Vermont. \n",
    "\n",
    "The model is based on the Enhanced 2-Step Floating Catchment (E2SFCA) method, first developed by Luo and Qi (2009) to measure the spatial accesibility to primary care physicians. Since then, this method has been widely adopted to measure the spatial accessibility to a wide range of services; still, it appears to primarily be used to address access to healthcare resources. \n",
    "Background on the E2SFCA. Mention how we plan to adapt it. \n",
    "\n",
    "Though there is some uncertainty in all that our analysis will entail, we are also interested in the relationship between social vulnerability and pharmacy access as well as the impact that independent versus chain pharmacies have on the accessibility landscape. Considering Vermont's aging population and the elderly's increased reliance on pharmaceuticals, we are interested in the relationship between the presence of elderly populations and pharmacy access, which is likely correlated with SVI as age is taken into account in this measure of vulnerability. \n",
    "\n",
    "Specific statistical tests? Only to test hypothesis. \n",
    "- Simple t-test, is there a difference between urban and rural accesibility to pharmacy care, maybe weighted by population. \n",
    "- Metropolitan, micropolitan, and rural, see if there's statistically significant difference between groups. Plan to compare access across these groups at various time extents, presuming that there will be more extreme differences during extreme business hours - these classifications are by town, another justifcation to use towns for final maps as geographic unit\n",
    "\n",
    "\n",
    "\n",
    "## Materials and procedure"
   ]
  },
  {
   "cell_type": "markdown",
   "metadata": {
    "id": "lpUbJuwsgQJu"
   },
   "source": [
    "## Computational environment\n",
    "\n",
    "Similar to Kang et al. (2020), this study was run using CyberGIS-Jupyter. \n",
    "\n",
    "Please refer to `00-Python-environment-setup.ipynb` for details.\n",
    "\n"
   ]
  },
  {
   "cell_type": "code",
   "execution_count": null,
   "metadata": {},
   "outputs": [],
   "source": [
    "# Import modules, define directories\n",
    "import numpy as np\n",
    "import pandas as pd\n",
    "import geopandas as gpd\n",
    "import networkx as nx\n",
    "import osmnx as ox\n",
    "import re\n",
    "from shapely.geometry import Point, LineString, Polygon\n",
    "import matplotlib.pyplot as plt\n",
    "from tqdm import tqdm\n",
    "import multiprocessing as mp\n",
    "import folium\n",
    "import itertools\n",
    "import os\n",
    "import time\n",
    "import warnings\n",
    "import IPython\n",
    "from IPython.display import display, clear_output\n",
    "\n",
    "warnings.filterwarnings(\"ignore\")\n",
    "print('\\n'.join(f'{m.__name__}=={m.__version__}' for m in globals().values() if getattr(m, '__version__', None)))\n",
    "\n"
   ]
  },
  {
   "cell_type": "markdown",
   "metadata": {
    "id": "dEwHjXmlVXZI",
    "tags": []
   },
   "source": [
    "### Data and variables\n",
    "\n",
    "Three main datasets will be used for this study, only one of which includes primary data: 1) A retail pharmacy dataset, including the locations, hours of operations, and staffing levels of each retail pharmacy, 2) a residential dataset, and 3) a road network dataset. The list of active pharmacies was sourced from the Vermont Office of Professional Regulation(OPR)and the Homeland Infrastructure Foundation-Level Data (HIFLD) provided by the Department of Homeland Security (DHS). A list of all pharmacies within the study area was compiled by aggregating these data sources and checking them against Google Maps and OpenStreetMap. By conducting surveys, we verified the publicly available data regarding operational hours and gathered information on staffing levels. The residential dataset is sourced from the United States Census Bureau and contains information on the populations living in given census tracts and zipcodes (?), as well as the demographics of those tracts. The road network dataset is pulled from OpenStreetMap (OSM) using the OSMnx package in Python. \n",
    "\n",
    "The sole primary data source for the study include the data we collected on pharmacies, while the secondary data sources for the study include the residential dataset and the road network data. \n"
   ]
  },
  {
   "cell_type": "markdown",
   "metadata": {},
   "source": [
    "#### Pharmacy Dataset\n",
    "\n",
    "\n",
    "**Standard Metadata**\n",
    "\n",
    "- `Abstract`: Brief description of the data source\n",
    "- `Spatial Coverage`: Specify the geographic extent of your study. This may be a place name and link to a feature in a gazetteer like GeoNames or OpenStreetMap, or a well known text (WKT) representation of a bounding box.\n",
    "- `Spatial Resolution`: Specify the spatial resolution as a scale factor, description of the level of detail of each unit of observation (including administrative level of administrative areas), and/or or distance of a raster GRID size\n",
    "- `Spatial Reference System`: Specify the geographic or projected coordinate system for the study\n",
    "- `Temporal Coverage`: Specify the temporal extent of your study---i.e. the range of time represented by the data observations.\n",
    "- `Temporal Resolution`: Specify the temporal resolution of your study---i.e. the duration of time for which each observation represents or the revisit period for repeated observations\n",
    "- `Lineage`: Describe and/or cite data sources and/or methodological steps planned to create this data source.\n",
    "  - sampling scheme, including spatial sampling\n",
    "  - target sample size and method for determining sample size\n",
    "  - stopping criteria for data collection and sampling (e.g. sample size, time elapsed)\n",
    "  - de-identification / anonymization\n",
    "  - experimental manipulation\n",
    "- `Distribution`: Describe who will make the data available and how?\n",
    "- `Constraints`: Legal constraints for *access* or *use* to protect *privacy* or *intellectual property rights*\n",
    "- `Data Quality`: State any planned quality assessment\n",
    "- `Variables`: For each variable, enter the following information. If you have two or more variables per data source, you may want to present this information in table form (shown below)\n",
    "  - `Label`: variable name as used in the data or code\n",
    "  - `Alias`: intuitive natural language name\n",
    "  - `Definition`: Short description or definition of the variable. Include measurement units in description.\n",
    "  - `Type`: data type, e.g. character string, integer, real\n",
    "  - `Accuracy`: e.g. uncertainty of measurements\n",
    "  - `Domain`: Expected range of Maximum and Minimum of numerical data, or codes or categories of nominal data, or reference to a standard codebook\n",
    "  - `Missing Data Value(s)`: Values used to represent missing data and frequency of missing data observations\n",
    "  - `Missing Data Frequency`: Frequency of missing data observations: not yet known for data to be collected\n",
    "\n",
    "| Label | Alias | Definition | Type | Accuracy | Domain | Missing Data Value(s) | Missing Data Frequency |\n",
    "| :--: | :--: | :--: | :--: | :--: | :--: | :--: | :--: |\n",
    "| variable1 | ... | ... | ... | ... | ... | ... | ... |\n",
    "| variable2 | ... | ... | ... | ... | ... | ... | ... |\n",
    "\n"
   ]
  },
  {
   "cell_type": "markdown",
   "metadata": {},
   "source": [
    "#### Residential Dataset\n",
    "\n",
    "think about attribute table for the pharmacy data\n",
    "**Standard Metadata**\n",
    "\n",
    "- `Abstract`: Brief description of the data source\n",
    "- `Spatial Coverage`: Specify the geographic extent of your study. This may be a place name and link to a feature in a gazetteer like GeoNames or OpenStreetMap, or a well known text (WKT) representation of a bounding box.\n",
    "- `Spatial Resolution`: Specify the spatial resolution as a scale factor, description of the level of detail of each unit of observation (including administrative level of administrative areas), and/or or distance of a raster GRID size\n",
    "- `Spatial Reference System`: Specify the geographic or projected coordinate system for the study\n",
    "- `Temporal Coverage`: Specify the temporal extent of your study---i.e. the range of time represented by the data observations.\n",
    "- `Temporal Resolution`: Specify the temporal resolution of your study---i.e. the duration of time for which each observation represents or the revisit period for repeated observations\n",
    "- `Lineage`: Describe and/or cite data sources and/or methodological steps used to create this data source\n",
    "- `Distribution`: Describe how the data is distributed, including any persistent identifier (e.g. DOI) or URL for data access\n",
    "- `Constraints`: Legal constraints for *access* or *use* to protect *privacy* or *intellectual property rights*\n",
    "- `Data Quality`: State result of quality assessment or state \"Quality unknown\"\n",
    "- `Variables`: For each variable, enter the following information. If you have two or more variables per data source, you may want to present this information in table form (shown below)\n",
    "  - `Label`: variable name as used in the data or code\n",
    "  - `Alias`: intuitive natural language name\n",
    "  - `Definition`: Short description or definition of the variable. Include measurement units in description.\n",
    "  - `Type`: data type, e.g. character string, integer, real\n",
    "  - `Accuracy`: e.g. uncertainty of measurements\n",
    "  - `Domain`: Range (Maximum and Minimum) of numerical data, or codes or categories of nominal data, or reference to a standard codebook\n",
    "  - `Missing Data Value(s)`: Values used to represent missing data and frequency of missing data observations\n",
    "  - `Missing Data Frequency`: Frequency of missing data observations\n",
    "\n",
    "| Label | Alias | Definition | Type | Accuracy | Domain | Missing Data Value(s) | Missing Data Frequency |\n",
    "| :--: | :--: | :--: | :--: | :--: | :--: | :--: | :--: |\n",
    "| variable1 | ... | ... | ... | ... | ... | ... | ... |\n",
    "| variable2 | ... | ... | ... | ... | ... | ... | ... |"
   ]
  },
  {
   "cell_type": "markdown",
   "metadata": {},
   "source": [
    "#### OpenStreetMap Road Network \n",
    "\n",
    "**Standard Metadata**\n",
    "\n",
    "- `Abstract`: Brief description of the data source\n",
    "- `Spatial Coverage`: Specify the geographic extent of your study. This may be a place name and link to a feature in a gazetteer like GeoNames or OpenStreetMap, or a well known text (WKT) representation of a bounding box.\n",
    "- `Spatial Resolution`: Specify the spatial resolution as a scale factor, description of the level of detail of each unit of observation (including administrative level of administrative areas), and/or or distance of a raster GRID size\n",
    "- `Spatial Reference System`: Specify the geographic or projected coordinate system for the study\n",
    "- `Temporal Coverage`: Specify the temporal extent of your study---i.e. the range of time represented by the data observations.\n",
    "- `Temporal Resolution`: Specify the temporal resolution of your study---i.e. the duration of time for which each observation represents or the revisit period for repeated observations\n",
    "- `Lineage`: Describe and/or cite data sources and/or methodological steps used to create this data source\n",
    "- `Distribution`: Describe how the data is distributed, including any persistent identifier (e.g. DOI) or URL for data access\n",
    "- `Constraints`: Legal constraints for *access* or *use* to protect *privacy* or *intellectual property rights*\n",
    "- `Data Quality`: State result of quality assessment or state \"Quality unknown\"\n",
    "- `Variables`: For each variable, enter the following information. If you have two or more variables per data source, you may want to present this information in table form (shown below)\n",
    "  - `Label`: variable name as used in the data or code\n",
    "  - `Alias`: intuitive natural language name\n",
    "  - `Definition`: Short description or definition of the variable. Include measurement units in description.\n",
    "  - `Type`: data type, e.g. character string, integer, real\n",
    "  - `Accuracy`: e.g. uncertainty of measurements\n",
    "  - `Domain`: Range (Maximum and Minimum) of numerical data, or codes or categories of nominal data, or reference to a standard codebook\n",
    "  - `Missing Data Value(s)`: Values used to represent missing data and frequency of missing data observations\n",
    "  - `Missing Data Frequency`: Frequency of missing data observations\n",
    "\n",
    "| Label | Alias | Definition | Type | Accuracy | Domain | Missing Data Value(s) | Missing Data Frequency |\n",
    "| :--: | :--: | :--: | :--: | :--: | :--: | :--: | :--: |\n",
    "| variable1 | ... | ... | ... | ... | ... | ... | ... |\n",
    "| variable2 | ... | ... | ... | ... | ... | ... | ... |\n",
    "\n"
   ]
  },
  {
   "cell_type": "markdown",
   "metadata": {},
   "source": [
    "#### Secondary data source2 name\n",
    "\n",
    "... same form as above...\n",
    "\n"
   ]
  },
  {
   "cell_type": "markdown",
   "metadata": {},
   "source": [
    "### Prior observations  \n",
    "\n",
    "Prior experience with the study area, prior data collection, or prior observation of the data can compromise the validity of a study, e.g. through p-hacking.\n",
    "Therefore, disclose any prior experience or observations at the time of study pre-registration here, with example text below:\n",
    "\n",
    "At the time of this study pre-registration, the authors had _____ prior knowledge of the geography of the study region with regards to the ____ phenomena to be studied.\n",
    "This study is related to ____ prior studies by the authors\n",
    "\n",
    "For each primary data source, declare the extent to which authors had already engaged with the data:\n",
    "\n",
    "- [ ] no data collection has started\n",
    "- [ ] pilot test data has been collected\n",
    "- [ ] data collection is in progress and data has not been observed\n",
    "- [ ] data collection is in progress and __% of data has been observed\n",
    "- [ ] data collection is complete and data has been observed. Explain how authors have already manipulated / explored the data.\n",
    "\n",
    "For each secondary source, declare the extent to which authors had already engaged with the data:\n",
    "\n",
    "- [ ] data is not available yet\n",
    "- [ ] data is available, but only metadata has been observed\n",
    "- [ ] metadata and descriptive statistics have been observed\n",
    "- [ ] metadata and a pilot test subset or sample of the full dataset have been observed\n",
    "- [ ] the full dataset has been observed. Explain how authors have already manipulated / explored the data.\n",
    "\n",
    "If pilot test data has been collected or acquired, describe how the researchers observed and analyzed the pilot test, and the extent to which the pilot test influenced the research design.\n",
    "\n"
   ]
  },
  {
   "cell_type": "markdown",
   "metadata": {},
   "source": [
    "### Bias and threats to validity\n",
    "\n",
    "Boundary effects, modifiable areal unit problem --> units for SVI dont necessarily align with the areas served by the pharmacies\n",
    "\n",
    "Boundary effects solved by using road networks and population data \n",
    "\n",
    "Given the research design and primary data to be collected and/or secondary data to be used, discuss common threats to validity and the approach to mitigating those threats, with an emphasis on geographic threats to validity.\n",
    "\n",
    "These include:\n",
    "  - uneven primary data collection due to geographic inaccessibility or other constraints\n",
    "  - multiple hypothesis testing\n",
    "  - edge or boundary effects\n",
    "  - the modifiable areal unit problem\n",
    "  - nonstationarity\n",
    "  - spatial dependence or autocorrelation\n",
    "  - temporal dependence or autocorrelation\n",
    "  - spatial scale dependency\n",
    "  - spatial anisotropies\n",
    "  - confusion of spatial and a-spatial causation\n",
    "  - ecological fallacy\n",
    "  - uncertainty e.g. from spatial disaggregation, anonymization, differential privacy\n",
    "\n",
    "Estimating number of pharmacist and pharmacy technicians based on budegeted hours. Potentially missing pharmacy locations outside of Vermont. \n"
   ]
  },
  {
   "cell_type": "markdown",
   "metadata": {},
   "source": [
    "### Data transformations\n",
    "\n",
    "Describe all data transformations planned to prepare data sources for analysis.\n",
    "This section should explain with the fullest detail possible how to transform data from the **raw** state at the time of acquisition or observation, to the pre-processed **derived** state ready for the main analysis.\n",
    "Including steps to check and mitigate sources of **bias** and **threats to validity**.\n",
    "The method may anticipate **contingencies**, e.g. tests for normality and alternative decisions to make based on the results of the test.\n",
    "More specifically, all the **geographic** and **variable** transformations required to prepare input data as described in the data and variables section above to match the study's spatio-temporal characteristics as described in the study metadata and study design sections.\n",
    "Visual workflow diagrams may help communicate the methodology in this section.\n",
    "\n",
    "Examples of **geographic** transformations include coordinate system transformations, aggregation, disaggregation, spatial interpolation, distance calculations, zonal statistics, etc.\n",
    "\n",
    "Examples of **variable** transformations include standardization, normalization, constructed variables, imputation, classification, etc.\n",
    "\n",
    "Be sure to include any steps planned to **exclude** observations with *missing* or *outlier* data, to **group** observations by *attribute* or *geographic* criteria, or to **impute** missing data or apply spatial or temporal **interpolation**.\n",
    "\n"
   ]
  },
  {
   "cell_type": "markdown",
   "metadata": {},
   "source": [
    "### Analysis\n",
    "\n",
    "Describe the methods of analysis that will directly test the hypotheses or provide results to answer the research questions.\n",
    "This section should explicitly define any spatial / statistical *models* and their *parameters*, including *grouping* criteria, *weighting* criteria, and *significance thresholds*.\n",
    "Also explain any follow-up analyses or validations.\n",
    "\n",
    "SVI correlations, independent versus chain pharmacies. "
   ]
  },
  {
   "cell_type": "markdown",
   "metadata": {},
   "source": [
    "## Results\n",
    "\n",
    "Describe how results are to be presented.\n",
    "\n"
   ]
  },
  {
   "cell_type": "markdown",
   "metadata": {},
   "source": [
    "## Discussion\n",
    "\n",
    "Describe how the results are to be interpreted *vis a vis* each hypothesis or research question.\n",
    "\n"
   ]
  },
  {
   "cell_type": "markdown",
   "metadata": {},
   "source": [
    "## Integrity Statement\n",
    "\n",
    "Include an integrity statement - The authors of this preregistration state that they completed this preregistration to the best of their knowledge and that no other preregistration exists pertaining to the same hypotheses and research.\n",
    "If a prior registration *does* exist, explain the rationale for revising the registration here.\n",
    "\n"
   ]
  },
  {
   "cell_type": "markdown",
   "metadata": {},
   "source": [
    "# Acknowledgements\n",
    "\n",
    "- `Funding Name`: name of funding for the project\n",
    "- `Funding Title`: title of project grant\n",
    "- `Award info URI`: web address for award information\n",
    "- `Award number`: award number\n",
    "\n",
    "This report is based upon the template for Reproducible and Replicable Research in Human-Environment and Geographical Sciences, DOI:[10.17605/OSF.IO/W29MQ](https://doi.org/10.17605/OSF.IO/W29MQ)"
   ]
  },
  {
   "cell_type": "markdown",
   "metadata": {},
   "source": [
    "## References"
   ]
  }
 ],
 "metadata": {
  "colab": {
   "provenance": []
  },
  "kernelspec": {
   "display_name": "Python 3",
   "language": "python",
   "name": "python3"
  },
  "language_info": {
   "codemirror_mode": {
    "name": "ipython",
    "version": 3
   },
   "file_extension": ".py",
   "mimetype": "text/x-python",
   "name": "python",
   "nbconvert_exporter": "python",
   "pygments_lexer": "ipython3",
   "version": "3.8.12"
  }
 },
 "nbformat": 4,
 "nbformat_minor": 4
}
