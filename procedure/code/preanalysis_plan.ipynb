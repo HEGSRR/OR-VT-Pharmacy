{
 "cells": [
  {
   "cell_type": "markdown",
   "metadata": {
    "id": "7gUZzqUXf91d"
   },
   "source": [
    "# Pre-Analysis\n",
    "\n"
   ]
  },
  {
   "cell_type": "markdown",
   "metadata": {
    "id": "ynQbJHvcVm55",
    "jp-MarkdownHeadingCollapsed": true,
    "tags": []
   },
   "source": [
    "Version 1.0 \\| First Created September 18, 2023 \\| Updated January 2024\n",
    "\n",
    "## Jupyter Notebook\n",
    "\n",
    "This is an Jupyter Notebook document. For more details on using a Jupyter Notebook see <https://docs.jupyter.org/en/latest/>.\n",
    "\n"
   ]
  },
  {
   "cell_type": "markdown",
   "metadata": {},
   "source": [
    "# A Spatio-Temporal Accessibility Analysis of Pharmacy Care in Vermont, USA\n",
    "\n",
    "### Authors\n",
    "\n",
    "- Sam Roubin\\*, sroubin@middlebury.edu, @samroubin, https://orcid.org/0009-0005-5490-3744, Middlebury College\n",
    "- Joseph Holler, jholler@middlebury.edu, @josephholler, https://orcid.org/0000-0002-2381-2699, Middlebury College\n",
    "\n",
    "\\* Corresponding author and creator\n",
    "\n"
   ]
  },
  {
   "cell_type": "markdown",
   "metadata": {},
   "source": [
    "### Abstract\n",
    "\n",
    "Pharmacy care is a fundamental aspect of primary healthcare and is gaining greater recognition in the healthcare landscape. Recent research has underscored the importance of pharmacy access in primary care, as pharmacies are visited at higher rates than primary care providers and are particularly valuable for reaching rural populations. We aim to measure spatiotemporal variation in access to pharmacy care across the state of Vermont using the enhanced 2-step floating catchment area (E2SFCA) method. Specifically, we seek to identify areas that have particularly limited access to pharmacies. This research is temporally explicit, as it will analyze variation in accessibility at specific times of the day and days of the week. Such temporally granular data has benefits for the research since it provides information on how spatial accessibility varies at irregular times, improving our understanding of when pharmacy care is particularly limited for certain populations. Results will be depicted as a series of spatial accessibility maps, covering diverse temporal extents to capture variations in pharmacy working hours. Previous studies have used the two step floating catchment area (2SFCA) and the E2SFCA method to measure spatial accessibility of pharmacy care across geographic scales and regions. To our knowledge, this is the first temporally-explicit study of pharmacy care, and the first E2SFCA study of pharmacy accessibility in Vermont. The results of this study are of interest to service providers and Vermont state public health officials and may have important implications for public health planning in the state. \n",
    "\n",
    "This study adapts and extends the methodology used in Kang et al.'s (2020) \"Rapidly measuring spatial accessibility of COVID-19 healthcare resources: a case study of Illinois, USA\" to measure spatial accessibility of pharmacy care across Vermont. \n",
    "\n"
   ]
  },
  {
   "cell_type": "markdown",
   "metadata": {
    "jp-MarkdownHeadingCollapsed": true,
    "tags": []
   },
   "source": [
    "### Study metadata \n",
    "\n",
    "- `Key words`: Pharmacy, spatial accessibility, pharmacy deserts, Vermont, E2FSCA. \n",
    "- `Subject`: Medicine and Health Sciences: Public Health: Health Services Research OR Social and Behavioral Sciences: Geography: Spatial Science\n",
    "- `Date created`: 9/18/2023\n",
    "- `Date modified`: 1/9/2024\n",
    "- `Spatial Coverage`: The state of Vermont and areas within 10-miles of the Vermont border (MA, NY, NH). Canada is excluded. \n",
    "- `Spatial Resolution`: Vermont towns / county subdivisions. These units are roughly the same size as zipcodes, but they represent politically meaningful geographic units. \n",
    "- `Spatial Reference System`: EPSG 6589  \n",
    "- `Temporal Coverage`: Data was collected from October, 2023 to January, 2024. The temporal extent is not explicitly determined. Pharmacies have been asked to provide their staffing levels over the data collection period. The results from the study will be theoretically based on a single point in time in the fall/winter of 2023. This is a one time measuremement, and the study does not investigate change over time. \n",
    "- `Temporal Resolution`: The temporal resoution of this study varies. Final maps will represent periods of a couple of hours of a week to whole days, or an entire work week. Spatial access will be assessed and compared across specific hours of the days, between weekdays and Saturdays, weekdays and Sundays, and other combinations of these temporal units. "
   ]
  },
  {
   "cell_type": "markdown",
   "metadata": {},
   "source": [
    "## Study design\n",
    "\n",
    "Our study represents original research employing the Enhanced 2-Step Floating Catchment Area (E2SFCA) method to assess spatial and temporal dimensions of pharmacy accessibility across Vermont. Holler et al. (2022) previously [reproduced Kang et al.'s (2020) study](https://osf.io/n92v3/) on spatial accessibility of COVID-19 healthcare resources in Illinois, USA. Our research extends the the foundational code from this reproduction study, making relevant changes for our analysis. While retaining the core methodology, we make geographic adjustments, such as modifying the geographic area of interest and spatial resolution of accessibility measurements. We also introduce temporal considerations for a more nuanced analysis of pharmacy access. \n",
    "\n",
    "This study is an observational study that employs a descriptive model, based upon the E2SFCA method, first developed by Luo and Qi (2009) to measure spatial accessibility to primary care physicians. Since then, this method has been widely adopted to measure the spatial accessibility to a wide range of services; still, it appears to primarily be used to address access to healthcare resources.  \n",
    "\n",
    "The overarching objective of this study is to understand how access to pharmacy care varies spatiotemporally across Vermont. Our investigation is primarily driven by the hypothesis that rural populations across Vermont experience increased difficulty in accessing pharmacy services,  particularly beyond the conventional 9 am to 5 pm business hours on weekdays. We will conduct multiple runs of a spatial accessibility model at varying times of day and days of the week (temporally-explicitly) in order to describe how general variation in spatial access is impacted throughout a given week. Results will generally be depicted in series of spatial accesibility maps. Three primary research questions and hypotheses arise from studying temporally explicit spatial accessibility of pharmacy care in Vermont. \n",
    "\n",
    "1. Geographical Variation: Do certain areas of the state exhibit particularly limited access to pharmacy care during normal business hours?\n",
    "    - H1: Rural towns have relatively limited access to pharmacy care when compared to microplitan and metropolitan towns. \n",
    "    - H1 Null: There is no significant difference in access to pharmacy care among Vermont towns classified as metropolitan, micropolitan, and rural.\n",
    "\n",
    "\n",
    "2. Temporal Fluctuations: How does the accessibility to pharmacies fluctuate across different temporal segments of the day, various days of  the week, or combinations of these temporal dimensions? \n",
    "    - H2: The accessibility to all pharmacies varies across temporal segments, including different times of the day, days of the week, and combinations of these temporal dimensions, with more limited access outside of typical 9 am to 5 pm weekday business hours.\n",
    "    - H2 Null: There is no significant difference in average accessibility to pharmacy services at different times of day or days of week. \n",
    "\n",
    "\n",
    "3. Spatiotemporal: Presuming that we have observed differences in pharmacy accessibility in rural areas, are spatial differences in access exacerbated outside of conventional business hours? \n",
    "    - H3: Spatial differences in access will be exacerbated outside of the convetional weekday business hours, with larger differences arising at more extreme hours. \n",
    "    - H3 Null: Spatial differences in access do not vary outside of conventional weekday business hours. \n",
    "    \n",
    "It is important to note that the classifications of metropolitan, micropolitan, and rural are based on town (county subdivision) geographical units, providing justification to use towns as the geographic units for the final maps in our study. Additionally, these units are politically meaningful, which also informed this decision.  \n",
    "\n",
    "Our hypotheses are based on the primary care accessibility literature, which has demonstrated urban-rural differences in access. It has also been shown that rural residents are less likely than their metropolitan counterparts to have usual source of care providers available during nights and weekends (Kirby & Yabroff, 2020). To assess our hypothesis regarding diminished spatial accessibility to pharmacy services for rural populations, we may utilize the ANOVA test weighted by population to compare accessibility across metropolitan, micropolitan, and rural towns. This statistical test is commonly used to analyze the difference between the means of more than two groups. We plan to use choropleth maps to illustrate the spatial variation in pharmacy access. Testing for statistically significant difference of means weighted by population will also be used to determine whether accessibility varies temporally. However, it is decidedly more complex to run statistical tests that encapsulate the complexity of spatiotemporal variations in access to pharmacy care. As such, we may demonstrate our results in a more descriptive manner through comparing maps of accesibility over varying time extents for different geographic regions, or summarizing accessibility measures in interesting categories of the state for these various time extents. \n",
    "\n",
    "The specific time intervals for which we will measure accessibility have not yet been finalized. We will choose a range of time intervals, including time periods that are likely to pose accessibility issues to patients. This approach establishes temporal granularity, aiming to provide a comprehensive understanding of the spatial and temporal accessibility dynamics within pharmacy care across Vermont. Our plan involves running the model on weekdays, Saturdays, and Sundays generally, and then during key time slots such as early mornings (i.e. before 9 am), lunch hours, and evenings (i.e. after 6 pm). \n",
    "\n",
    "Once we have tested the three hypotheses enumerated above, we may conduct some additional exploratory analyses on the relationship between social vulnerability and pharmacy access, as well as the impact that independent versus chain pharmacies have on the accessibility landscape. Considering Vermont's aging population and the elderly's increased reliance on pharmaceuticals, we are curious about the relationship between the presence of elderly populations and pharmacy access. To demonstrate these results, we envision creating scaterplots that compare percent elderly population in a town to the town's spatial accesibility measure and running linear regression tests weighted by population. It may alternately be possible to categorize the percentage of elderly in three categories (i.e. high, medium, low) and test for significant difference of means of spatial accessibility between these groups.  By investigating these relationships, our study aims to explore some factors associated with pharmacy accessibility in Vermont, offering insights with potential additional implications for public health planning and resource allocation. \n",
    "\n",
    "## Materials and procedure"
   ]
  },
  {
   "cell_type": "markdown",
   "metadata": {
    "id": "lpUbJuwsgQJu"
   },
   "source": [
    "## Computational environment\n",
    "\n",
    "Similar to Kang et al. (2020), this study was run using CyberGIS-Jupyter. This study will use the an updated software environment from the reproduction study, using Python (3.11.4) instead of Python (3.7.6) Jupyter Notebooks in the CybgerGISX environment. It consists of the software packages listed below. The research completed  by accessing the CyberGISX environment from the MacOS operating system. Running Jupyter Noteboooks in a cyberinfrastructure environment is recommended to gain the advantages of parallel computing.\n"
   ]
  },
  {
   "cell_type": "code",
   "execution_count": null,
   "metadata": {},
   "outputs": [],
   "source": [
    "# Import modules, define directories\n",
    "import numpy as np\n",
    "import pandas as pd\n",
    "import geopandas as gpd\n",
    "import networkx as nx\n",
    "import osmnx as ox\n",
    "import re\n",
    "from shapely.geometry import Point, LineString, Polygon\n",
    "import matplotlib.pyplot as plt\n",
    "from tqdm import tqdm\n",
    "import multiprocessing as mp\n",
    "import folium\n",
    "import itertools\n",
    "import os\n",
    "import time\n",
    "import warnings\n",
    "import IPython\n",
    "from IPython.display import display, clear_output\n",
    "\n",
    "warnings.filterwarnings(\"ignore\")\n",
    "print('\\n'.join(f'{m.__name__}=={m.__version__}' for m in globals().values() if getattr(m, '__version__', None)))\n",
    "\n"
   ]
  },
  {
   "cell_type": "markdown",
   "metadata": {
    "id": "dEwHjXmlVXZI",
    "tags": []
   },
   "source": [
    "### Data and variables\n",
    "\n",
    "Three main datasets will be used for this study, only one of which includes primary data: 1) A retail pharmacy dataset, including the locations, hours of operations, and staffing levels of each retail pharmacy, 2) a population dataset, and 3) a road network dataset. The list of active pharmacies was sourced from the Vermont Office of Professional Regulation (OPR) and the Homeland Infrastructure Foundation-Level Data (HIFLD) provided by the Department of Homeland Security (DHS). A list of all pharmacies within the study area was compiled by aggregating these data sources and checking them against Google Maps and OpenStreetMap (OSM). By conducting surveys, we verified the publicly available data regarding operational hours and gathered information on staffing levels. The populations dataset is sourced from the United States Census Bureau's American Community Survey and contains information on the populations living in Vermont towns, as well as the demographics of those towns. The road network dataset is pulled from OSM using the OSMnx package in Python. \n",
    "\n",
    "The sole primary data source for the study include the data we collected on pharmacies, while the secondary data sources for the study include the residential dataset and the road network data. \n"
   ]
  },
  {
   "cell_type": "markdown",
   "metadata": {},
   "source": [
    "#### Pharmacy Dataset\n",
    "\n",
    "\n",
    "**Standard Metadata**\n",
    "\n",
    "- `Abstract`: This dataset is primary data that was collected through surveying all VT pharmacies and pharmacies within 10 miles of the VT border about their staffing levels and hours of operations. It contains information on each pharmacy's location, hours of operations on weekdays, Saturdays, and Sundays, and the number of pharmacists and pharmacy technicians that typically work on a given day. \n",
    "- `Spatial Coverage`: Vermont and ten miles within in Vermont state border, encompassing parts of New York, Massachusetts, and New Hampshire. Canada was excluded. \n",
    "- `Spatial Resolution`: This data specifies the specific coordinates of the pharmacy locations of interest. Resolution is not relevant. \n",
    "- `Spatial Reference System`: EPSG 6589 in order to match the results maps. \n",
    "- `Temporal Coverage`: Data was collected over the course of a couple of months, but it theoretically represents a an average or typical week in the fall or early winter of 2023. \n",
    "- `Temporal Resolution`: A week. Differential data was collected for weekdays, Saturdays, and Sundays of a typical week. \n",
    "- `Lineage`: Initial pharmacy list was downloaded from the Vermont Office of Professional Regulation (https://secure.professionals.vermont.gov/prweb/PRServletCustom/app/NGLPGuestUser/V9csDxL3sXkkjMC_FR2HrA*/!STANDARD) and modified to exclude no longer active pharmacies and non-retail pharmacies. The pharmacy locations were checked against Google Maps and a national pharmacy dataset from the Department of Homeland Security (DHS) to ensure all pharmacies in the state were included. Pharmacy locations outside of Vermont but within study area were incuded through querying pharmacies from OSM in QGIS, Google Maps searches, and the DHS pharmacy dataset. Newly permanently closed pharmacies were omitted from the data. All collected data on hours of operations and staffing were manually inputted by the authors. \n",
    "- `Distribution`: The majority of this dataset will be made public and downloadable on a GitHub repository. The staffing data will not be made public due to the proprietary nature of this information; however, the staffing data may be available upon request. \n",
    "- `Constraints`: We have agreed not to publicly release staffing levels of the pharmacy locations due to the proprietary nature of this data for some of the larger pharmacy chains.\n",
    "- `Data Quality`: The initial pharmacy list was checked against the DHS dataset and visualized in GIS (sattelite imagery) against OpenStreetMap to ensure the correct locations of active pharmacies. We also check hours of operations posted online against what we are told during our surveys -- hours of operations incorrectly posted online were edited to match survey responses. \n",
    "- `Variables`: \n",
    "\n",
    "| Label | Definition | Type |\n",
    "| :--: | :--: | :--: | \n",
    "| x coordinate | GPS coordinates. Lat | Decimal | \n",
    "| y coordinate | GPS coordinates. Lon | Decimal | \n",
    "| address | pharmacy street address | Text |  \n",
    "| week_hours | hours of operations on weekdays | Text | \n",
    "| week_lunch | lunchbreak hours on weekdays |  Text | \n",
    "| sat_hours| hours of operations on Saturdays | Text | \n",
    "| sat_lunch | lunchbreak hours on Saturdays | Text |\n",
    "| sun_hours| hours of operations on Sundays | Text | \n",
    "| sun_lunch | lunchbreak hours on Sundays | Text | \n",
    "| week_pharm| Typical # pharmacists on weekday | Integer | \n",
    "| week_tech| Typical # pharm. techs on weekdays  | Integer | \n",
    "| sat_pharm| Typical # pharmacists on Saturday | Integer| \n",
    "| sat_tech| Typical # pharm. techs on Saturdays  | Integer| \n",
    "| sun_pharm| Typical # pharmacists on Sundays | Integer | \n",
    "| sun_tech| Typical # pharm. techs on Sudays| Integer| \n",
    "\n",
    "\n",
    "  - `Accuracy`: We are confident in the accuracy of the pharmacy list in Vermont. Our confidence in the out-of-state retail pharmacy locations is slightly diminished since these pharmacy locations are not based on a recent dataset from the respective states. We have confidence in the quality of the data on pharmacy staffing and hours of operations since we collected the data through surveying all pharmacies. The spatial accuracy of the datasat is further confirmed as we ensured that the point coordinates for the pharmacies were within the building footprint polygon on the OSM map layer in QGIS. \n",
    "  - `Domain`:  The expected range of all of the pharmacy operational hours is from roughly 8am to 9pm. The expected range of pharmacist and technicians is from one to ten for weekdays, Saturdays, and Sundays. \n",
    "  - `Missing Data Value(s)`: For any missing data on the number of pharmacists and pharmacy technicians at a given pharmacy location, the values are empty/null. \n",
    "  - `Missing Data Frequency`: Not yet known for data to be collected. We expect there to be some pharmacy locations from which we are unable to collect data. \n",
    "\n",
    "\n",
    "\n"
   ]
  },
  {
   "cell_type": "markdown",
   "metadata": {},
   "source": [
    "#### Population Dataset\n",
    "\n",
    "**Standard Metadata**\n",
    "\n",
    "- `Abstract`: Secondary data pulled from the US Census Bureau's American Community Survey (ACS), containing information on demographics of county subdivisions (towns). This data also contains information from the Census defining towns as metropolitan or micropolitan. \n",
    "- `Spatial Coverage`: Vermont. \n",
    "- `Spatial Resolution`: County subdivisions (towns) \n",
    "- `Spatial Reference System`: NA\n",
    "- `Temporal Coverage`: 2018-2022 ACS (5-year estimates)\n",
    "- `Temporal Resolution`: NA. \n",
    "- `Lineage`: This data is downloaded from ACS 2018-2022. Only total population and age variables will be selected, as these are the only demographic data necessary for our study. The data on age is reported as cohorts. All cohorts older than 65 will be combined to create a percent value for the elderly population in each town. Elderly is commonly defined as 65 years or older. The metropolitan and micropolitan classifications are downloaded separately and appended to the population dataset. \n",
    "- `Distribution`: The total population and age data is downloadable from the US Census Bureau ACS page (https://data.census.gov/table?g=040XX00US50$0600000) and the town classifications are downloadable at: https://www2.census.gov/programs-surveys/metro-micro/geographies/reference-files/2020/delineation-files/. \n",
    "- `Constraints`: US Census Bureau data is in the public domain. \n",
    "- `Data Quality`: Census provides data on margins of error. \n",
    "- `Variables`: \n",
    "\n",
    "| Label |  Definition | Type | Accuracy | Domain | Missing Data Value(s) | Missing Data Frequency |\n",
    "| :--: |  :--: | :--: | :--: | :--: | :--: | :--: |\n",
    "| total_pop |  Total population in a town | Integer | Defined by Census | 0 - ~45,000 | NA | NA |\n",
    "| percent_elderly |  Percent elderly residents in a town | Decimal | Defined by Census |  0% - ~50%  | NA | NA |\n",
    "| class |  Classified as metropolitan or micropolitan | Text | Defined by Census |  NA  | Null | Frequent because missing data means town is rural |"
   ]
  },
  {
   "cell_type": "markdown",
   "metadata": {},
   "source": [
    "#### OpenStreetMap Road Network \n",
    "\n",
    "**Standard Metadata**\n",
    "\n",
    "- `Abstract`: Combines OpenStreetMap (OSM) data with network analysis algorithms from the python package, NetworkX. Contains information on road networks and speed limits, which are used to calculate travel times. \n",
    "- `Spatial Coverage`: Road network data will be pulled for the study area-- Vermont and a 10-mile buffer surrounding the VT border (excluding Canada)\n",
    "- `Spatial Resolution`: NA\n",
    "- `Spatial Reference System`: EPSG 6589.\n",
    "- `Temporal Coverage`: This data is queried at the time of our analysis.  \n",
    "- `Temporal Resolution`: This data represents a single point in time when the data was queried in January 2024. \n",
    "- `Lineage`: The road network is pulled from OpenStreetMap, which is initially projected. The road segments within this network are then categorized by their unique speed limit value. A network setting function is subsequently used to clean the road network to work better with drive-time analysis. This function calculates the speed limits using the OSMnx data and populates any missing speed limit values with averages of other segments of the same road type. Then, it calculates travel times based on the speed limits and road distances. \n",
    "- `Distribution`: The data will be accessible based on the public code that will be released, which pulls in the necessary data for our study area. \n",
    "- `Constraints`: OpenStreetMap® is open data, licensed under the Open Data Commons Open Database License (ODbL) by the OpenStreetMap Foundation (OSMF). You are free to copy, distribute, transmit and adapt our data, as long as you credit OpenStreetMap and its contributors. If you alter or build upon our data, you may distribute the result only under the same licence. The full legal code explains your rights and responsibilities.\n",
    "- `Data Quality`: Quality unknown\n",
    "- `Variables`: Exact variables unnecessary at this time. Code will be provided and publicly accessible to retrieve the road network data used in our study. \n"
   ]
  },
  {
   "cell_type": "markdown",
   "metadata": {},
   "source": [
    "### Prior observations  \n",
    "\n",
    "At the time of this study pre-registration, we have some prior knowledge of the geography of the study region with regards to the pharmacy accessibility. Since the study includes primary data, we have been collecting the data on pharmacy staffing and hours of operations of pharmacy locations within the study area. Given the data collection methodology, which mostly includes surveying individual pharmacies over the phone, we are aware of the data we have collected. However, we have not observed or analyzed this data in full and have paid little attention towards the the patterns in the data. Although we do not specifically ask about how pharmacist staff are feeling about their staffing levels and patient accessibility, some survey respondents have expressed their concerns about staffing difficulty across the state. Speaking to pharmacists on the phone has brought to light certain sentiments about the pharmacy landscape in Vermont; however, no specific distribution of these sentiments (i.e. rural vs urban) has been observed or analyzed. No data manipulation has occurred. \n",
    "\n",
    "This study is related to Holler et al. (2022) in its methodology, but we have not conducted any prior studies regarding pharmacy accessibility or healthcare accessibility in Vermont. \n",
    "\n",
    "Pharmacy Dataset (Primary): \n",
    "- Data collection is in progress and all of the data has been observed due to the nature of surveying and recording data manually. No data manipulation has occured. \n",
    "\n",
    "Population Dataset (Secondary): \n",
    "- Data is available, but only metadata has been observed\n",
    "\n",
    "Road Network Dataset (Secondary):\n",
    "- Data has not been observed. The data will be pulled in during the analysis using the OSMnx package in python. \n",
    "\n"
   ]
  },
  {
   "cell_type": "markdown",
   "metadata": {},
   "source": [
    "### Bias and threats to validity\n",
    "\n",
    "Edge effects arise from measuring spatial accessibility to pharmacy care for Vermont towns along the state border since populations in these towns may receive pharmacy care from outside of Vermont. Although we have included a 10-mile buffer around Vermont in our study area to account for these effects, we are less confident in the out-of-state pharmacy dataset-- We may be missing some pharmacy locations, which may underestimate accessibility to pharmacies in these border towns. Boundary effects may also impact our results more broadly, as people who live closer to a town's edge may be more likely to visit pharmacies outside of of their town; Kang et al. (2020) used hexagonal grids as the final geographic units for their maps to “minimize orientation bias from edge effects.” However, we will present our results by town as these geographical units are more easily intepretable and are politcally meaningful. We will use an area-weighted overlay to depict our final results in town geographical units. \n",
    "\n",
    "This study is also limited by our data collection process and our model's ability to encapsulate the complex dynamics of pharmacy staffing, especially in minimally staffed areas. Pharmacy staffing levels were often reported as a range by survey respondents, as staffing levels change weekly. Much of this variation is a result from low and inconsistent staffing levels, which forces variation in the pharmacies staffing schedule. If the survey respondent did not provide a range, the number of pharmacists and was reported directly. If provided with a range, the lower number was selected unless the survey respondent indicated that the greater number works a majority of the weekdays. For example, some pharmacies staff MWF with three technicians and TR with two technicians; in this case, three techs would be reported as the typical number for weekday staffing. However, if the survey respondent indicated that \"two to three\" technicians typically work on a weekday, then a value of two was recorded. This method helps to ensure consistency across data collection while representing the worst case staffing scenario. Based on conversations with pharmacies during the data collection process, it seems that pharmacies across the state are often dealing with these worst case staffing levels.  Additionally, pharmacies sometimes reported that there was staffing overlap during the middle of the day for a few hours, with employees working the morning shift overlapping with employees working in the afternoons. The dynamics of this overlap was difficult to capture in our data collection. In this case, the fewer number of staff were recorded as the majority of the day is covered by this number, disregarding the lunch overlap. \n",
    "\n",
    "We were unable to collect data from all pharmacy locations in the study area. Some locations are unwilling to provide staffing levels to us. For locations with missing staffing data, the data will be filled in based on the averages from collected data on the same pharmacy type. Based on our current data, this is likeley to be around one pharmacist and three technicians on weekdays, and one pharmacist and on technician on Saturdays and Sundays. We expect that this may bias results slightly towards the null for each of our hypotheses. Staffing levels for Hannaford Pharmacy locations within the study area were provided by the regional manager to streamline the data collection process in the form of weekly budgeted pharmacist and pharmacy technician hours. Using the pharmacy hours of operations, we will calculate the average number of staff working at each Hannaford location daily. This presents an inconsitency with the data collection of the other pharmacies in the study area. \n",
    "\n",
    "Lastly, we expect the modifiable areal unit problem to arise in our analyis of elderly and social vulnerability in relation to pharmacy spatial accessibility, since the units for SVI and demographic data from the ACS do not necessarily align with the areas served by the pharmacies (catchment areas).  \n",
    "\n",
    "\n"
   ]
  },
  {
   "cell_type": "markdown",
   "metadata": {
    "tags": []
   },
   "source": [
    "### Data transformations\n",
    "\n",
    "The data transformations taken in this study primarily occur in our primary data. Minimal transformations are made to the population and road network data sets. The population dataset will be transformed to calculate the percent of the population of a given town that is over 65 years old. The raw data reports these percentages in ages cohorts, so combining all cohorts 65 years and up will yield this data. This is the sole transformation made in the population data. \n",
    "\n",
    "The initial pharmacy list encompassing all retail pharmacies in Vermont and within ten miles of the Vermont border was derived from data from the Vermont Office of Professional Regulation (OPR) and checked against a dataset of pharmacy locations from the Department of Homeland Security (DHS) in order to increase out confidence in the pharmacy list. The DHS data set included the geolocations (coordinates) for pharmacies across the United States, while the OPR dataset provided addresses for each pharmacy licensed in Vermont. We found that the DHS attribute information on pharmacy name and address were inaccurate, but the locations of pharmacies were accurate. Using the MMQGIS plugin in QGIS, all pharmacies in the OPR dataset were geolocated. Both datasets were projected in the Vermont coordinate system EPSG 6589. A 100 meter buffer was then placed around these points to account for some error in geolocation as well as the possibility for variation in the placement of the point within a given pharmacy building. The DHS pharmacies that were located within these buffers were merged. Then, all of the DHS pharmacy locations that fell outside of the OPR pharmacy buffers were then manually checked against google maps to confirm whether they were active and separate retail pharmacies from those in the OPR dataset. All permanently closed pharmacies and non-retail pharmacies were omitted from the DHS dataset, which remedied all of the discrepancies between the two datasets. The points that occured outside of the bulding footprint, likely due to error in the geolocation, were moved to the correct building based on the Google Maps location of the pharmacy. There were no active separate retail pharmacies in the DHS dataset that were missed in the OPR dataset (not within OPR buffer). Thus, we have high confidence in the data accuracy for active the list of Vermont retail pharmacies as a result of this method. \n",
    "\n",
    "In order to locate the out-of-state pharmacies of interest, a 10 mile buffer was created around the Vermont state boundary and all DHS pharmacies that intersected with this buffer were selected. This includes pharmacies in New York, Massachusetts, and New Hampshire. A ten mile buffer was chosen since this geographic extent includes the nearby major out-of-state towns that are likely to service Vermont residents, including Lebanon, NH, North Adams, MA, Greenfield MA, Plattsburgh, NY, and Keene, NH. There were no urban centers that were excluded and within a reasonable distance of the Vermont border.  These locations were checked against queried pharmacy locations from OpenStreetMap (OSM), using the QuickOSM plugin in QGIS, and manually checked against pharmacy locations on Google Maps. Through this triangulation, permanently closed pharmacies and non-retail pharmacies were removed from the list, and any extra pharmacies that were present on Google Maps or OSM were checked against each other and added to the out-of-state list. \n",
    "\n",
    "Once the list of in-state pharmacies was confirmed and the list of out-of-state pharmacies was compiled, these datasets were aggregated and variable columns for staffing and hours of operations were created. The final data table for analysis has not been created yet, but it is likely to be broken up by time segments of interest for weekdays, Saturdays, and Sundays, and the number of pharmacists and technicians that work during will be recorded under that segment for each pharmacy location. If the pharmacy is closed during that time period, the values for staffing will be reported as zero. Again, we are unsure exactly what these time segments of interest will be, but they will likely be at times during today when we expect accessibility issues to be heightened (i.e 7 am - 9 am, lunch hours, or 7 pm - 9 pm). The dataset will also include full weekdays, Saturdays, and Sundays, not broken down by certain periods during the day.   \n",
    "\n",
    "We expect missing data for staffing levels of numerous pharmacy locations in our study area due to incompliance from survey participants. The staffing levels will be filled in based on averages of the collected data for the same pharmacy type (chain vs independent). As of our current results, we expect to fill in missing data values based on pharmacy type with 1 pharmacist and 3 technicians on weekdays, and 1 pharmacist and 1 technician on Saturdays and Sundays. We will be able to collect data on hours of operations in full, since there are no proprietary concerns with operational hours data. Averages of the same pharmacy type. \n",
    "\n"
   ]
  },
  {
   "cell_type": "markdown",
   "metadata": {},
   "source": [
    "### Analysis\n",
    "\n",
    "As briefly described in the study design, the methods of analysis to these hypotheses include both illustrative and quantitative methods. All three hypotheses will be considered descriptively through the creation of maps that demonstrate varying spatial accessibility to pharmacy care accross Vermont towns. Difference of means statistical tests weighted by population (potentially the ANOVA test) will likely be used to test the first hypothesis of whether there is significant urban-rural differences in spatial accessibility to pharmacy care and the second hypothesis of whether there are significant differences in access between temporal segments of the week, with worsening access outside of conventional Monday to Friday business hours. We will use standard p<.05 as the statsitical threshold for these tests. \n",
    "\n",
    "To test the relationship between elderly population and access to pharmacy care, we may produce scatterplots of spatial accessibility versus percent eldery by town and use linear regression tests weighted by population. \n",
    "\n",
    "Our third hypothesis relies on the rejection of null hypothesis one and two. If we find that null hypothesis one is accepted, we can form a new, analagous hypothesis to our third hypothesis. Instead of testing wether limited rural access is exacerbated outside of normal business hours, we may be able to select towns across Vermont that had the lowest spatial accessibility measure in H1 (regardless of classification) and still conduct analyses to indicate whether these towns' limited access to pharmacy care is exacerbated outside of conventional business hours when compared to all other towns. "
   ]
  },
  {
   "cell_type": "markdown",
   "metadata": {},
   "source": [
    "## Results\n",
    "\n",
    "Results will be presented in a series of maps depicting varying spatial accesibility to pharmacy care by Vermont town across a series of temporal segments. Results will also be summarized using graphs that compare spatial accessibility by variables such as temporal segments, rurality, or percent elderly. The expected figures for each hypothesis are summarized below: \n",
    "\n",
    "H1:\n",
    "- General spatial accessibility map of Vermont towns during conventional weekday business hours, representing a maximum in accessibility across the state. This may include indication of which counties are rural. \n",
    "- Bar graph comparing average accessibility measure by metropolitan, micropolitan, and rural towns. \n",
    "\n",
    "H2: \n",
    "- Graph with temporal segments versus average spatial accessibility measure, broken down by days of the week and hours of the day. \n",
    "    \n",
    "H3:\n",
    "- Individual spatial accessibility maps by town, run at different temporal segments. \n",
    "- Similar graph to H2 stated above, but with the additional breakdown of metropolitan, micropolitan, and rural towns. Visual could show percent difference in average accessibility between time segments.\n",
    "\n",
    "\n",
    "Elderly and Accessibility:\n",
    "- Two layered map: One layer showing spatial accessibility by town as in H1, and another layer highlighting places with especially high elderly populations. \n",
    "- Scatter plot with percent eldery versus spatial accessibility measure. \n",
    "\n"
   ]
  },
  {
   "cell_type": "markdown",
   "metadata": {
    "jp-MarkdownHeadingCollapsed": true,
    "tags": []
   },
   "source": [
    "## Discussion\n",
    "\n",
    "We will discuss our results in light of our three hypotheses, emphasizing the public health implications of our results. \n",
    "\n",
    "If we reject the null hypothesis one and find that there are significant differences in the accessibility to pharmacy care between towns classified as metropolitan, micropolitan, and rural,  our results add to a body of literature that indicate gaps in healthcare access for rural populations. These results may have implications for pharmacy care planning in rural areas of the state going forward. If the null hypothesis is accepted, our results will still elucidate areas of the state that demonstrate limited access to pharmacies, which is valuable information for resource allocation and other planning despite its classification. \n",
    "\n",
    "We have little doubt that our second null hypothesis will be rejected. It is logical and intuitive to access across Vermont to be limited outside of normal business hours, since many pharmacies are closed outside of these times. This hypothesis primarily stands to provide a logical flow through the spatial and temporal dimensions of this study. \n",
    "\n",
    "Our third hypothesis relies on the rejection of null hypothesis one and two. If we reject null hypothesis one and subsequently reject null hypothesis three, finding that already-limited rural access is exacerbated outside of normal business hours, this provides valuable information on ways that pharmacy access could be improved for underserved areas by focusing on the temporal dimensions of access. For example, shifting hours of operations of certain pharmacies may have a tangible impact on reducing accessibility gaps. By contrast, if we find that urban-rural access gaps are not exacerbated outside of conventional business hours, this suggests that the temporal dimensions of pharmacy accessibility do not need as much attention when crafting policy. "
   ]
  },
  {
   "cell_type": "markdown",
   "metadata": {},
   "source": [
    "## Integrity Statement\n",
    "\n",
    "The authors of this preregistration state that they completed this preregistration to the best of their knowledge and that no other preregistration exists pertaining to the same hypotheses and research.\n",
    "\n",
    "\n"
   ]
  },
  {
   "cell_type": "markdown",
   "metadata": {},
   "source": [
    "# Acknowledgements\n",
    "\n",
    "- `Funding Name`: National Science Foundation Directorate for Social, Behavioral and Economic Sciences\n",
    "- `Funding Title`: Transforming theory-building and STEM education through reproductions and replications in the geographical sciences\n",
    "- `Award info URI`: https://www.nsf.gov/awardsearch/showAward?AWD_ID=2049837\n",
    "- `Award number`: BCS-2049837\n",
    "\n",
    "This report is based upon the template for Reproducible and Replicable Research in Human-Environment and Geographical Sciences, DOI:[10.17605/OSF.IO/W29MQ](https://doi.org/10.17605/OSF.IO/W29MQ)"
   ]
  },
  {
   "cell_type": "markdown",
   "metadata": {},
   "source": [
    "## References\n",
    "Holler, J., Burt, D., Udoh, K., & Kedron, P. (2022). Reproduction and Reanalysis of Kang et al 2020 Spatial Accessibility of COVID-19 Health Care Resources. https://doi.org/10.17605/OSF.IO/N92V3\n",
    "\n",
    "Kang et al. 2020. Rapidly Measuring Spatial Accessibility of COVID-19 Healthcare Resources: A Case Study of Illinois, USA. *International Journal of Health Geographics* 19:36. DOI:[10.1186/s12942-020-00229-x](https://doi.org/10.1186/s12942-020-00229-x).\n",
    "\n",
    "Kirby, J. B., & Yabroff, K. R. (2020). Rural–Urban Differences in Access to Primary Care: Beyond the Usual Source of Care Provider. American Journal of Preventive Medicine, 58(1), 89–96. https://doi.org/10.1016/j.amepre.2019.08.026\n",
    "\n",
    "Luo, W., & Qi, Y. (2009). An enhanced two-step floating catchment area (E2SFCA) method for measuring spatial accessibility to primary care physicians. *Health & place*, 15(4), 1100-1107."
   ]
  },
  {
   "cell_type": "code",
   "execution_count": null,
   "metadata": {},
   "outputs": [],
   "source": []
  }
 ],
 "metadata": {
  "colab": {
   "provenance": []
  },
  "kernelspec": {
   "display_name": "Python 3-0.9.0",
   "language": "python",
   "name": "python3-0.9.0"
  },
  "language_info": {
   "codemirror_mode": {
    "name": "ipython",
    "version": 3
   },
   "file_extension": ".py",
   "mimetype": "text/x-python",
   "name": "python",
   "nbconvert_exporter": "python",
   "pygments_lexer": "ipython3",
   "version": "3.8.12"
  }
 },
 "nbformat": 4,
 "nbformat_minor": 4
}
