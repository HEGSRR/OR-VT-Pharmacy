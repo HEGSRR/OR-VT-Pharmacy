{
 "cells": [
  {
   "cell_type": "markdown",
   "metadata": {
    "editable": true,
    "slideshow": {
     "slide_type": ""
    },
    "tags": []
   },
   "source": [
    "# Spatio-Temporal Accessibility of Pharmacy Care in Vermont, USA\n",
    "\n",
    "## Comparing Results of Alternative Study Versions\n",
    "\n",
    "### Authors\n",
    "\n",
    "- Sam Roubin, sroubin@middlebury.edu, https://orcid.org/0009-0005-5490-3744, Middlebury College\n",
    "- Joseph Holler\\*, josephh@middlebury.edu, https://orcid.org/0000-0002-2381-2699, Middlebury College\n",
    "- Peter Kedron, peterkedron@ucsb.edu, https://orcid.org/0000-0002-1093-3416, University of California, Santa Barbara\n",
    "\n",
    "\\* Corresponding author"
   ]
  },
  {
   "cell_type": "markdown",
   "metadata": {},
   "source": [
    "## **Materials and procedure**"
   ]
  },
  {
   "cell_type": "markdown",
   "metadata": {
    "id": "lpUbJuwsgQJu"
   },
   "source": [
    "### Computational environment\n",
    "\n",
    "Similar to Kang et al. (2020), this study was run using CyberGIS-Jupyter. This study uses an updated software environment from the reproduction study, using Python Jupyter Notebooks in the CyberGISX environment available at https://cybergisxhub.cigi.illinois.edu/. In particular, we use the Python 3-0.9.0 Kernel running Python 3.8.12, pandas 1.3.5, geopandas 0.10.2, networkx 2.6.3 and osmnx 1.1.2. \n"
   ]
  },
  {
   "cell_type": "code",
   "execution_count": null,
   "metadata": {
    "tags": []
   },
   "outputs": [],
   "source": [
    "# Import modules\n",
    "import numpy as np\n",
    "import pandas as pd\n",
    "import geopandas as gpd\n",
    "import seaborn as sns\n",
    "import re\n",
    "from shapely.geometry import Point, LineString, Polygon\n",
    "import matplotlib.pyplot as plt\n",
    "import os\n",
    "from IPython.display import display, clear_output\n",
    "from shapely.ops import nearest_points   #for pharmacy_setting function\n",
    "from scipy.stats import kruskal\n",
    "from matplotlib import colors\n",
    "from matplotlib.colors import Normalize\n",
    "from matplotlib.cm import ScalarMappable\n",
    "import matplotlib.patheffects as path_effects\n",
    "from tabulate import tabulate\n",
    "from matplotlib.colors import ListedColormap\n",
    "from mpl_toolkits.axes_grid1.anchored_artists import AnchoredSizeBar\n",
    "from matplotlib.font_manager import FontProperties\n",
    "from matplotlib.patches import Patch\n",
    "from matplotlib.lines import Line2D\n",
    "import imageio\n",
    "import math\n",
    "import warnings\n",
    "import scikit_posthocs as sp\n",
    "warnings.filterwarnings(\"ignore\")\n",
    "print('\\n'.join(f'{m.__name__}=={m.__version__}' for m in globals().values() if getattr(m, '__version__', None)))"
   ]
  },
  {
   "cell_type": "markdown",
   "metadata": {
    "tags": []
   },
   "source": [
    "### Check Directories"
   ]
  },
  {
   "cell_type": "code",
   "execution_count": null,
   "metadata": {
    "tags": []
   },
   "outputs": [],
   "source": [
    "# Use to set work directory properly\n",
    "if os.path.basename(os.getcwd()) == 'code':\n",
    "    os.chdir('../../')\n",
    "os.getcwd()"
   ]
  },
  {
   "cell_type": "code",
   "execution_count": null,
   "metadata": {},
   "outputs": [],
   "source": [
    "# define the desired result sets to compare\n",
    "set1 = \"009\"\n",
    "set2 = \"001\"\n",
    "\n",
    "# save figures? Switch to True to save figures\n",
    "figsave = True\n",
    "\n",
    "def make_fig_file(fignum):\n",
    "    fig_folder = \"./results/figures/sets_\" + set1 + \"_\" + set2\n",
    "    os.makedirs(fig_folder, exist_ok=True)\n",
    "    return fig_folder + \"/figure\" + str(fignum) + \".png\""
   ]
  },
  {
   "cell_type": "code",
   "execution_count": null,
   "metadata": {},
   "outputs": [],
   "source": [
    "# load results\n",
    "coi = [\"access_w\", \"access_s\", \"access_su\"]\n",
    "colnames1 = {item: item + set1 for item in coi}\n",
    "colnames2 = {item: item + set2 for item in coi}\n",
    "\n",
    "def loadResults(setNum):\n",
    "    setDesc_file = \"./data/derived/public/result_sets/results_\" + setNum + \".txt\"\n",
    "    setResult_file = \"./data/derived/public/result_sets/results_\" + setNum + \".gpkg\"\n",
    "    with open(setDesc_file, 'r') as f:\n",
    "        setDesc = f.read()\n",
    "    print(setDesc)\n",
    "    results = gpd.read_file(setResult_file)\n",
    "    results = results.loc[:, :'minority_pop'].join(results[coi + ['geometry']])\n",
    "    return results\n",
    "\n",
    "print(\"First Result Set:\\n\")\n",
    "results1 = loadResults(set1).rename(columns = colnames1)\n",
    "\n",
    "print(\"\\nsubtracting Second Result Set:\\n\")\n",
    "results2 = loadResults(set2).rename(columns = colnames2)[['GEOID'] + list(colnames2.values())]\n",
    "\n",
    "results_comb = results1.merge(results2, on=\"GEOID\")"
   ]
  },
  {
   "cell_type": "code",
   "execution_count": null,
   "metadata": {
    "tags": []
   },
   "outputs": [],
   "source": [
    "results_comb"
   ]
  },
  {
   "cell_type": "code",
   "execution_count": null,
   "metadata": {},
   "outputs": [],
   "source": [
    "# Calculate Difference and Pct Difference\n",
    "for i in coi:\n",
    "    results_comb[i] = results_comb[i + set1] - results_comb[i + set2]\n",
    "    results_comb[i + \"pctdif\"] = results_comb[i] / (results_comb[i + set1] + results_comb[i + set2]) * 100\n",
    "    \n",
    "results_comb\n",
    "mapping_df = results_comb\n",
    "mapping_df"
   ]
  },
  {
   "cell_type": "markdown",
   "metadata": {
    "tags": []
   },
   "source": [
    "## **Results**\n",
    "\n"
   ]
  },
  {
   "cell_type": "markdown",
   "metadata": {},
   "source": [
    "### Hypothesis 1 - Spatial Dimension\n",
    "\n",
    "Calculate mean access by NECTA type."
   ]
  },
  {
   "cell_type": "code",
   "execution_count": null,
   "metadata": {},
   "outputs": [],
   "source": [
    "# Weekday accessibility by classification table\n",
    "mapping_df['necta'].fillna('Rural', inplace=True)\n",
    "# Replace 'Metropolitan NECTA' and 'Micropolitan NECTA' with 'Metropolitan' and 'Micropolitan', respectively\n",
    "mapping_df['necta'] = mapping_df['necta'].replace({'Metropolitan NECTA': 'Metropolitan', 'Micropolitan NECTA': 'Micropolitan'})\n",
    "\n",
    "# Group by NECTA and calculate means\n",
    "means_by_metro = mapping_df.groupby('necta').mean()\n",
    "weekdaymean_by_metro = means_by_metro[['access_w']]\n",
    "\n",
    "weekdaymean_by_metro.columns = ['Mean Access']\n",
    "table_1 = tabulate(weekdaymean_by_metro, headers='keys', tablefmt='simple_grid')\n",
    "print(table_1)"
   ]
  },
  {
   "cell_type": "markdown",
   "metadata": {},
   "source": [
    "#### Figure 2: Weekday accessibility"
   ]
  },
  {
   "cell_type": "code",
   "execution_count": null,
   "metadata": {},
   "outputs": [],
   "source": [
    "# Map of weekday pharmacy accessibility\n",
    "fig2, ax = plt.subplots(figsize=(12, 12), facecolor = 'white')\n",
    "\n",
    "extreme = math.ceil(max([abs(min(mapping_df['access_w'])) , max(mapping_df['access_w']) ]))\n",
    "\n",
    "mapping_df.plot(column='access_w', cmap='PRGn', legend = False, ax=ax, vmax=extreme, vmin=-extreme)\n",
    "mapping_df.dissolve().boundary.plot(ax=ax, color='black', linewidth=1)\n",
    "\n",
    "# Dissolve the geometries for each group to merge adjacent polygons \n",
    "metropolitan_df = mapping_df[mapping_df['necta'] == 'Metropolitan']\n",
    "micropolitan_df = mapping_df[mapping_df['necta'] == 'Micropolitan']\n",
    "\n",
    "metropolitan_boundary = metropolitan_df.dissolve(by='necta')['geometry'].boundary\n",
    "micropolitan_boundary = micropolitan_df.dissolve(by='necta')['geometry'].boundary\n",
    "\n",
    "# Plot exterior boundaries of the 'Metropolitan NECTA' group\n",
    "metropolitan_boundary.plot(ax=ax, color='black', linewidth=1.2)\n",
    "\n",
    "# Plot exterior boundaries of the 'Micropolitan NECTA' group\n",
    "micropolitan_boundary.plot(ax=ax, color='black',linestyle = \"dashed\", linewidth=1.5)\n",
    "\n",
    "legend_elements = [\n",
    "    Line2D([0], [0], color='black', lw=2, label='Metropolitan'),\n",
    "    Line2D([0], [0], color='black', linestyle = 'dashed',lw=2, label='Micropolitan')\n",
    "]\n",
    "ax.legend(handles=legend_elements, loc='lower right', fontsize=12, bbox_to_anchor=(1,.2))\n",
    "colorbar = plt.cm.ScalarMappable(cmap='PRGn', norm=plt.Normalize(vmin=-extreme, vmax=extreme))\n",
    "\n",
    "# Colorbar settings\n",
    "cbar = plt.colorbar(colorbar, shrink = .5, pad=.02, label = 'Difference in Accessibility', location=\"bottom\")\n",
    "cbar.set_ticks([-extreme, -(extreme/2), 0, extreme/2, extreme])\n",
    "\n",
    "    \n",
    "plt.axis('off')\n",
    "plt.show()\n",
    "\n",
    "# Save figure\n",
    "if figsave:\n",
    "    fig2.savefig(make_fig_file(2), dpi=300, bbox_inches='tight')"
   ]
  },
  {
   "cell_type": "markdown",
   "metadata": {},
   "source": [
    "**Figure 2.** Spatial accessibility during conventional weekday business hours, representing a time period when all pharmacies are operational (maximum accessibility). "
   ]
  },
  {
   "cell_type": "markdown",
   "metadata": {},
   "source": [
    "#### Statistical Significance"
   ]
  },
  {
   "cell_type": "code",
   "execution_count": null,
   "metadata": {},
   "outputs": [],
   "source": [
    "# Check for normal distribution in weekday metro, micro, rural\n",
    "access_w_metro = mapping_df[mapping_df['necta'] == 'Metropolitan']['access_w']\n",
    "access_w_micro = mapping_df[mapping_df['necta'] == 'Micropolitan']['access_w']\n",
    "access_w_rural = mapping_df[mapping_df['necta'] == 'Rural']['access_w']\n",
    "\n",
    "plt.hist(access_w_rural, bins=10)\n",
    "plt.hist(access_w_metro, bins=10)\n",
    "plt.hist(access_w_micro, bins=10)\n",
    "print(\"Not normal distribution. Cannot use ANOVA test. Use Kruskal-Wallis instead.\")"
   ]
  },
  {
   "cell_type": "code",
   "execution_count": null,
   "metadata": {},
   "outputs": [],
   "source": [
    "# Kruskal Wallis Test for significant difference of means between necta classification during conventional business hours\n",
    "h_statistic_1, p_value_1 = kruskal(access_w_metro, access_w_micro, access_w_rural)\n",
    "                 \n",
    "print(\"Kruskal-Wallis H Statistic:\", h_statistic_1)\n",
    "print(\"P-value:\", p_value_1)\n",
    "\n",
    "alpha = 0.05\n",
    "if p_value_1 < alpha:\n",
    "    print(\"Reject the null hypothesis. There is a significant difference in mean access during conventional weekday \\nbusiness hours between metropolitan, micropolitan, and rural towns.\")\n",
    "else:\n",
    "    print(\"Fail to reject the null hypothesis. There is no significant difference in mean access between groups.\")"
   ]
  },
  {
   "cell_type": "code",
   "execution_count": null,
   "metadata": {},
   "outputs": [],
   "source": [
    "dunn_data = np.concatenate([access_w_metro, access_w_micro, access_w_rural])\n",
    "dunn_groups = ['access_w_metro']*len(access_w_metro) + ['access_w_micro']*len(access_w_micro) + ['access_w_rural']*len(access_w_rural)\n",
    "dunn_df = pd.DataFrame({'value': dunn_data, 'group': dunn_groups})\n",
    "\n",
    "# Perform Dunn's test with p-value adjustment (e.g., 'holm')\n",
    "dunn_results = sp.posthoc_dunn(dunn_df, val_col='value', group_col='group', p_adjust='holm')\n",
    "print(\"\\nDunn's Post Hoc Test Results (p-values):\\n\", dunn_results)"
   ]
  },
  {
   "cell_type": "code",
   "execution_count": null,
   "metadata": {},
   "outputs": [],
   "source": [
    "# Create the scatter plot\n",
    "import matplotlib.patches as mpatches\n",
    "\n",
    "nectas = {'Rural': '#ccebc5',\n",
    "          'Micropolitan': '#7bccc4', \n",
    "          'Metropolitan': '#0868ac'\n",
    "          }\n",
    "\n",
    "color_list = [nectas[group] for group in mapping_df['necta']]\n",
    "\n",
    "legend_handles = []\n",
    "for key, value in nectas.items():\n",
    "    patch = mpatches.Patch(color=value, label=key)\n",
    "    legend_handles.append(patch)\n",
    "\n",
    "mapping_df['pop_density'] = mapping_df['total_pop'] / (mapping_df.geometry.area / 10**6)\n",
    "mapping_df.plot.scatter('pop_density', 'access_w', c=color_list, alpha=0.7)\n",
    "\n",
    "# Add labels and title\n",
    "plt.xlabel(\"Population Density\")\n",
    "plt.xscale('log')\n",
    "plt.ylabel(\"Weekday Access\")\n",
    "plt.legend(handles=legend_handles)"
   ]
  },
  {
   "cell_type": "markdown",
   "metadata": {},
   "source": [
    "Scatterplot of Population and Weekday Access to illustrate relationship between NECTA classification, population density of county subdivisions, and spatial accessibility."
   ]
  },
  {
   "cell_type": "markdown",
   "metadata": {
    "tags": []
   },
   "source": [
    "### Hypothesis 2 - Temporal Dimension"
   ]
  },
  {
   "cell_type": "markdown",
   "metadata": {},
   "source": [
    "Calculate mean access by type of day, and then map accessibility by county subdivision for each type of day."
   ]
  },
  {
   "cell_type": "code",
   "execution_count": null,
   "metadata": {},
   "outputs": [],
   "source": [
    "# Mean accessibility by day table\n",
    "mean_access_day = mapping_df[['access_w', 'access_s', 'access_su']].mean()\n",
    "mean_access_day_df = mean_access_day.to_frame().rename(columns={0: 'Mean Access'})\n",
    "mean_access_day_df.index = ['Weekday', 'Saturday', 'Sunday']\n",
    "table_2 = tabulate(mean_access_day_df, headers='keys', tablefmt='simple_grid')\n",
    "print(table_2)"
   ]
  },
  {
   "cell_type": "markdown",
   "metadata": {},
   "source": [
    "#### Figure 3: Accessibility variation by day of the week"
   ]
  },
  {
   "cell_type": "code",
   "execution_count": null,
   "metadata": {},
   "outputs": [],
   "source": [
    "# Map accessibility by day of the week\n",
    "mapping_df1 = mapping_df\n",
    "\n",
    "extreme = math.ceil(max([abs(mapping_df1[['access_w', 'access_s', 'access_su']].min().min()),  # Min accessibility value\n",
    "mapping_df1[['access_w', 'access_s', 'access_su']].max().max()]))  # Max accessibility value\n",
    "\n",
    "fig3, axs = plt.subplots(1, 3, figsize=(22.5, 10), facecolor = 'white')\n",
    "plt.subplots_adjust(wspace=-.4)\n",
    "\n",
    "for i, column in enumerate(['access_w', 'access_s', 'access_su']):\n",
    "    ax = axs[i]\n",
    "    mapping_df1.plot(column=column, cmap='PRGn', linewidth=0.2, ax=ax, edgecolor='0.8', legend=False,\n",
    "                vmin=-extreme, vmax=extreme)\n",
    "    mapping_df1.dissolve().boundary.plot(ax=ax, color='black', linewidth=1)\n",
    "    \n",
    "    # Plot only the merged exterior boundaries of the 'Metropolitan NECTA' group\n",
    "    metropolitan_boundary.plot(ax=ax, color='black', linewidth=.9)\n",
    "\n",
    "    # Plot only the merged exterior boundaries of the 'Micropolitan NECTA' group\n",
    "    micropolitan_boundary.plot(ax=ax, color='black', linestyle = 'dashed', linewidth=.9)\n",
    "    \n",
    "    axs[0].set_title(label='a) Weekday', fontsize=14)\n",
    "    axs[1].set_title('b) Saturday', fontsize=14)\n",
    "    axs[2].set_title('c) Sunday', fontsize=14)\n",
    "    ax.axis('off')\n",
    "\n",
    "cbar = plt.colorbar(plt.cm.ScalarMappable(norm=plt.Normalize(vmin=-extreme, vmax=extreme), cmap='PRGn'), ax=axs, #Max was set to 20 for visualization purposes\n",
    "                    orientation='horizontal', pad=.02, shrink=.2)\n",
    "cbar.set_label('Difference in Accessibility')\n",
    "cbar.set_ticks([-extreme, -(extreme/2), 0, extreme/2, extreme])\n",
    "\n",
    "#fig.patch.set_edgecolor('black') # Figure Border\n",
    "#fig.patch.set_linewidth(2)       # Figure Border\n",
    "plt.subplots_adjust(right=1)\n",
    "\n",
    "cbar.ax.set_position([0.45, 0.05, .2, 0.05])\n",
    "\n",
    "ax.legend(handles=legend_elements, loc='lower right', fontsize=12, bbox_to_anchor=(.9,-.129))\n",
    "\n",
    "plt.show()\n",
    "\n",
    "#Save Figure\n",
    "if figsave:\n",
    "    fig3.savefig(make_fig_file(3), dpi=300, bbox_inches='tight')"
   ]
  },
  {
   "cell_type": "markdown",
   "metadata": {},
   "source": [
    "**Figure 3**. Spatial accessibility across days of the week. Each map represents the maximum accessibility on each day when all pharmacies that plan to open that day are operational. "
   ]
  },
  {
   "cell_type": "markdown",
   "metadata": {},
   "source": [
    "#### Statistical Significance"
   ]
  },
  {
   "cell_type": "code",
   "execution_count": null,
   "metadata": {},
   "outputs": [],
   "source": [
    "access_w_test = pd.Series(mapping_df['access_w'])\n",
    "access_s_test = pd.Series(mapping_df['access_s'])\n",
    "access_su_test = pd.Series(mapping_df['access_su'])\n",
    "\n",
    "# Check for distribution between days of week. \n",
    "plt.hist(access_w_test, bins=10) \n",
    "plt.hist(access_s_test , bins=10) \n",
    "plt.hist(access_su_test, bins=10) \n",
    "print(\"Distribution is not normal. Cannot use ANOVA test. Use Kruskal-Wallis instead.\")"
   ]
  },
  {
   "cell_type": "code",
   "execution_count": null,
   "metadata": {},
   "outputs": [],
   "source": [
    "# Run Kruskal-Wallis Test\n",
    "h_statistic_2, p_value_2 = kruskal(access_w_test, access_s_test, access_su_test)\n",
    "                 \n",
    "print(\"Kruskal-Wallis H Statistic:\", h_statistic_2)\n",
    "print(\"P-value:\", p_value_2)\n",
    "\n",
    "alpha = 0.05\n",
    "if p_value_2 < alpha:\n",
    "    print(\"Reject the null hypothesis. There is a significant difference in mean access between weekdays, Saturdays, and Sundays.\")\n",
    "else:\n",
    "    print(\"Fail to reject the null hypothesis. There is no significant difference in mean access between days.\")\n",
    "                    "
   ]
  },
  {
   "cell_type": "code",
   "execution_count": null,
   "metadata": {},
   "outputs": [],
   "source": [
    "dunn_data = np.concatenate([access_w_test, access_s_test, access_su_test])\n",
    "dunn_groups = ['access_w_test']*len(access_w_test) + ['access_s_test']*len(access_s_test) + ['access_su_test']*len(access_su_test)\n",
    "dunn_df = pd.DataFrame({'value': dunn_data, 'group': dunn_groups})\n",
    "\n",
    "# Perform Dunn's test with p-value adjustment (e.g., 'holm')\n",
    "dunn_results = sp.posthoc_dunn(dunn_df, val_col='value', group_col='group', p_adjust='holm')\n",
    "print(\"\\nDunn's Post Hoc Test Results (p-values):\\n\", dunn_results)"
   ]
  },
  {
   "cell_type": "markdown",
   "metadata": {},
   "source": [
    "### Hypothesis 3 - Spatio-Temporal Dynamics\n",
    "\n",
    "Calculate mean access by NECTA classification and type of day. Simplify NECTA classification to rural and urban categories by merging micropolitan and metropolitan into \"urban\". Then calculate the percentage change from urban to rural for each type of day by finding the normalized percent difference with:  \n",
    "`(Metro - Micro Access) / (Metro + Micro) * 100`  \n",
    "`(Metro - Rural Access) / (Metro + Rural) * 100`  \n",
    "`(Micro - Rural Access) / (Micro + Rural) * 100`"
   ]
  },
  {
   "cell_type": "code",
   "execution_count": null,
   "metadata": {},
   "outputs": [],
   "source": [
    "# Accessibility by Day and metropolitan/micropolitan Table\n",
    "means_by_metro = mapping_df.groupby('necta').mean()[['access_w','access_s','access_su']]\n",
    "means_by_metro = means_by_metro.rename(columns={\"access_w\": \"Weekday\", \n",
    "                                                \"access_s\": \"Saturday\",\n",
    "                                                \"access_su\": \"Sunday\"})\n",
    "means_by_metro = means_by_metro.transpose()\n",
    "means_by_metro = means_by_metro.rename(columns={\"Metropolitan\": \"Metro\", \n",
    "                                                \"Micropolitan\": \"Micro\"})\n",
    "\n",
    "def pctdiff(df, col1, col2):\n",
    "    newcol = col1 + \"_\" + col2\n",
    "    df[newcol] = (df[col1] - df[col2])/(df[col1] + df[col2]) * 100\n",
    "    return df\n",
    "\n",
    "means_by_metro = round(pctdiff(means_by_metro, \"Metro\", \"Micro\"), 2)\n",
    "means_by_metro = round(pctdiff(means_by_metro, \"Metro\", \"Rural\"), 2)\n",
    "means_by_metro = round(pctdiff(means_by_metro, \"Micro\", \"Rural\"), 2)\n",
    "\n",
    "means_by_metro\n",
    "\n",
    "# print(tabulate(means_by_metro, tablefmt = 'fancy_grid', headers=[\"\",\"N\",\"Weekday Mean Access\", \"Saturday Mean Access\", \"Sunday Mean Access\"]))\n",
    "#means_by_metro"
   ]
  },
  {
   "cell_type": "markdown",
   "metadata": {},
   "source": [
    "**Table 1.** Mean Accessibility on weekdays, Saturdays, and Sundays, broken down by Metropolitan, Micropolitan, and Rural county subdivisions.\n",
    "Normalized percent differences are calculated to see how accessibility gaps differ throughout the week. "
   ]
  }
 ],
 "metadata": {
  "colab": {
   "provenance": []
  },
  "kernelspec": {
   "display_name": "Python 3-0.9.0",
   "language": "python",
   "name": "python3-0.9.0"
  },
  "language_info": {
   "codemirror_mode": {
    "name": "ipython",
    "version": 3
   },
   "file_extension": ".py",
   "mimetype": "text/x-python",
   "name": "python",
   "nbconvert_exporter": "python",
   "pygments_lexer": "ipython3",
   "version": "3.8.12"
  }
 },
 "nbformat": 4,
 "nbformat_minor": 4
}
