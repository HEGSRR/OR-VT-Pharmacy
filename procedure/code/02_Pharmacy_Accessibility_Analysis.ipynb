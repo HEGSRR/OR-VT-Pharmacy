{
 "cells": [
  {
   "cell_type": "markdown",
   "metadata": {
    "tags": []
   },
   "source": [
    "## A Spatio-Temporal Accessibility Analysis of Pharmacy Care in Vermont, USA\n",
    "---\n",
    "\n",
    "Extends and adapts studies *by* Kang, J. Y., A. Michels, F. Lyu, Shaohua Wang, N. Agbodo, V. L. Freeman, and Shaowen Wang. 2020. Rapidly measuring spatial accessibility of COVID-19 healthcare resources: a case study of Illinois, USA. International Journal of Health Geographics 19 (1):1–17. DOI:[10.1186/s12942-020-00229-x](https://ij-healthgeographics.biomedcentral.com/articles/10.1186/s12942-020-00229-x) AND Holler, J., Burt, D., Udoh, K., & Kedron, P. (2022). Reproduction and Reanalysis of Kang et al 2020 Spatial Accessibility of COVID-19 Health Care Resources. https://doi.org/10.17605/OSF.IO/N92V3\n",
    "\n",
    "\n",
    "\n",
    "Authors: Sam Roubin, Joseph Holler, Peter Kedron\n",
    "\n",
    "Reproduction Materials Available at: https://github.com/samroubin/VTPharmacy/tree/main\n",
    "\n",
    "Created: `2024-01-14`\n",
    "Revised: `2023-01-`"
   ]
  },
  {
   "cell_type": "markdown",
   "metadata": {
    "tags": []
   },
   "source": [
    "### Original Data\n",
    "To perform the ESFCA method, three types of data are required, as follows: (1) road network, (2) population, and (3) pharmacy information. The road network can be obtained from the [OpenStreetMap Python Library, called OSMNX](https://github.com/gboeing/osmnx). The population data is available from the US Census Bureau on the [American Community Survey]. Lastly, hospital information available on our GitHub repository: "
   ]
  },
  {
   "cell_type": "markdown",
   "metadata": {},
   "source": [
    "### Modules\n",
    "Import necessary libraries to run this model.\n",
    "See `environment.yml` for the library versions used for this analysis."
   ]
  },
  {
   "cell_type": "code",
   "execution_count": 17,
   "metadata": {},
   "outputs": [
    {
     "name": "stdout",
     "output_type": "stream",
     "text": [
      "numpy==1.22.0\n",
      "pandas==1.3.5\n",
      "geopandas==0.10.2\n",
      "networkx==2.6.3\n",
      "osmnx==1.1.2\n",
      "re==2.2.1\n",
      "folium==0.12.1.post1\n",
      "IPython==8.3.0\n",
      "requests==2.27.1\n"
     ]
    }
   ],
   "source": [
    "# Import modules\n",
    "import numpy as np\n",
    "import pandas as pd\n",
    "import geopandas as gpd\n",
    "import networkx as nx\n",
    "import osmnx as ox\n",
    "import re\n",
    "from shapely.geometry import Point, LineString, Polygon\n",
    "import matplotlib.pyplot as plt\n",
    "from tqdm import tqdm\n",
    "import multiprocessing as mp\n",
    "import folium\n",
    "import itertools\n",
    "import os\n",
    "import time\n",
    "import warnings\n",
    "import IPython\n",
    "import requests\n",
    "from IPython.display import display, clear_output\n",
    "from shapely.ops import nearest_points   #for hospital_setting function\n",
    "\n",
    "warnings.filterwarnings(\"ignore\")\n",
    "print('\\n'.join(f'{m.__name__}=={m.__version__}' for m in globals().values() if getattr(m, '__version__', None)))"
   ]
  },
  {
   "cell_type": "markdown",
   "metadata": {},
   "source": [
    "## Check Directories\n",
    "\n",
    "Because we have restructured the repository for replication, we need to check our working directory and make necessary adjustments."
   ]
  },
  {
   "cell_type": "code",
   "execution_count": 18,
   "metadata": {},
   "outputs": [
    {
     "data": {
      "text/plain": [
       "'/home/jovyan/work/VTPharmacy'"
      ]
     },
     "execution_count": 18,
     "metadata": {},
     "output_type": "execute_result"
    }
   ],
   "source": [
    "# Check working directory\n",
    "os.getcwd()"
   ]
  },
  {
   "cell_type": "code",
   "execution_count": 19,
   "metadata": {},
   "outputs": [
    {
     "data": {
      "text/plain": [
       "'/home/jovyan/work/VTPharmacy'"
      ]
     },
     "execution_count": 19,
     "metadata": {},
     "output_type": "execute_result"
    }
   ],
   "source": [
    "# Use to set work directory properly\n",
    "if os.path.basename(os.getcwd()) == 'code':\n",
    "    os.chdir('../../')\n",
    "os.getcwd()"
   ]
  },
  {
   "cell_type": "markdown",
   "metadata": {},
   "source": [
    "## Load and Visualize Data\n",
    "\n",
    "### Population by VT Town"
   ]
  },
  {
   "cell_type": "code",
   "execution_count": 25,
   "metadata": {},
   "outputs": [
    {
     "data": {
      "text/html": [
       "<div>\n",
       "<style scoped>\n",
       "    .dataframe tbody tr th:only-of-type {\n",
       "        vertical-align: middle;\n",
       "    }\n",
       "\n",
       "    .dataframe tbody tr th {\n",
       "        vertical-align: top;\n",
       "    }\n",
       "\n",
       "    .dataframe thead th {\n",
       "        text-align: right;\n",
       "    }\n",
       "</style>\n",
       "<table border=\"1\" class=\"dataframe\">\n",
       "  <thead>\n",
       "    <tr style=\"text-align: right;\">\n",
       "      <th></th>\n",
       "      <th>GEOID</th>\n",
       "      <th>fips_state</th>\n",
       "      <th>fips_county</th>\n",
       "      <th>fips_subdivision</th>\n",
       "      <th>subdivision_name</th>\n",
       "      <th>total_pop</th>\n",
       "      <th>elderly_pop</th>\n",
       "      <th>pct_elderly</th>\n",
       "      <th>geometry</th>\n",
       "      <th>necta</th>\n",
       "    </tr>\n",
       "  </thead>\n",
       "  <tbody>\n",
       "    <tr>\n",
       "      <th>0</th>\n",
       "      <td>5002172925</td>\n",
       "      <td>50</td>\n",
       "      <td>021</td>\n",
       "      <td>72925</td>\n",
       "      <td>Tinmouth town, Rutland County, Vermont</td>\n",
       "      <td>553.0</td>\n",
       "      <td>106.0</td>\n",
       "      <td>19.168174</td>\n",
       "      <td>POLYGON ((449711.296 100614.842, 449743.203 10...</td>\n",
       "      <td>Micropolitan NECTA</td>\n",
       "    </tr>\n",
       "    <tr>\n",
       "      <th>1</th>\n",
       "      <td>5002135425</td>\n",
       "      <td>50</td>\n",
       "      <td>021</td>\n",
       "      <td>35425</td>\n",
       "      <td>Ira town, Rutland County, Vermont</td>\n",
       "      <td>368.0</td>\n",
       "      <td>102.0</td>\n",
       "      <td>27.717391</td>\n",
       "      <td>POLYGON ((449900.184 115630.096, 450297.708 12...</td>\n",
       "      <td>Metropolitan NECTA</td>\n",
       "    </tr>\n",
       "    <tr>\n",
       "      <th>2</th>\n",
       "      <td>5002135425</td>\n",
       "      <td>50</td>\n",
       "      <td>021</td>\n",
       "      <td>35425</td>\n",
       "      <td>Ira town, Rutland County, Vermont</td>\n",
       "      <td>368.0</td>\n",
       "      <td>102.0</td>\n",
       "      <td>27.717391</td>\n",
       "      <td>POLYGON ((449900.184 115630.096, 450297.708 12...</td>\n",
       "      <td>Micropolitan NECTA</td>\n",
       "    </tr>\n",
       "    <tr>\n",
       "      <th>3</th>\n",
       "      <td>5002165275</td>\n",
       "      <td>50</td>\n",
       "      <td>021</td>\n",
       "      <td>65275</td>\n",
       "      <td>Shrewsbury town, Rutland County, Vermont</td>\n",
       "      <td>1096.0</td>\n",
       "      <td>287.0</td>\n",
       "      <td>26.186131</td>\n",
       "      <td>POLYGON ((464931.031 119490.248, 477790.314 11...</td>\n",
       "      <td>Micropolitan NECTA</td>\n",
       "    </tr>\n",
       "    <tr>\n",
       "      <th>4</th>\n",
       "      <td>5002175925</td>\n",
       "      <td>50</td>\n",
       "      <td>021</td>\n",
       "      <td>75925</td>\n",
       "      <td>Wallingford town, Rutland County, Vermont</td>\n",
       "      <td>2129.0</td>\n",
       "      <td>423.0</td>\n",
       "      <td>19.868483</td>\n",
       "      <td>POLYGON ((457737.600 100051.450, 458359.707 10...</td>\n",
       "      <td>Micropolitan NECTA</td>\n",
       "    </tr>\n",
       "  </tbody>\n",
       "</table>\n",
       "</div>"
      ],
      "text/plain": [
       "        GEOID fips_state fips_county fips_subdivision  \\\n",
       "0  5002172925         50         021            72925   \n",
       "1  5002135425         50         021            35425   \n",
       "2  5002135425         50         021            35425   \n",
       "3  5002165275         50         021            65275   \n",
       "4  5002175925         50         021            75925   \n",
       "\n",
       "                            subdivision_name  total_pop  elderly_pop  \\\n",
       "0     Tinmouth town, Rutland County, Vermont      553.0        106.0   \n",
       "1          Ira town, Rutland County, Vermont      368.0        102.0   \n",
       "2          Ira town, Rutland County, Vermont      368.0        102.0   \n",
       "3   Shrewsbury town, Rutland County, Vermont     1096.0        287.0   \n",
       "4  Wallingford town, Rutland County, Vermont     2129.0        423.0   \n",
       "\n",
       "   pct_elderly                                           geometry  \\\n",
       "0    19.168174  POLYGON ((449711.296 100614.842, 449743.203 10...   \n",
       "1    27.717391  POLYGON ((449900.184 115630.096, 450297.708 12...   \n",
       "2    27.717391  POLYGON ((449900.184 115630.096, 450297.708 12...   \n",
       "3    26.186131  POLYGON ((464931.031 119490.248, 477790.314 11...   \n",
       "4    19.868483  POLYGON ((457737.600 100051.450, 458359.707 10...   \n",
       "\n",
       "                necta  \n",
       "0  Micropolitan NECTA  \n",
       "1  Metropolitan NECTA  \n",
       "2  Micropolitan NECTA  \n",
       "3  Micropolitan NECTA  \n",
       "4  Micropolitan NECTA  "
      ]
     },
     "execution_count": 25,
     "metadata": {},
     "output_type": "execute_result"
    }
   ],
   "source": [
    "# Read in population data by town\n",
    "population_df = gpd.read_file('./data/raw/public/population/tidycensus_alldata.gpkg')\n",
    "population_df.head()\n",
    "\n",
    "# Read in metropolitan / micropolitan classifications (NECTAS)\n",
    "nectas_df =  gpd.read_file('./data/raw/public/population/nectas.csv')\n",
    "nectas_df.head()\n",
    "\n",
    "# Join NECTAS classifications to population data with subdivision FIPS\n",
    "final_population_df = pd.merge(population_df, nectas_df[['fips_subdivision', 'necta']], on='fips_subdivision')\n",
    "final_population_df.head()\n",
    " # any way to check that this joined properly?\n"
   ]
  },
  {
   "cell_type": "code",
   "execution_count": null,
   "metadata": {},
   "outputs": [],
   "source": [
    "# Read in covid case data - not using to simplify the study, \n",
    "# but did not want to delete the path in case someone wants to bring this in later.\n",
    "\n",
    "# covid_data = gpd.read_file('./data/raw/public/PopData/Chicago_ZIPCODE.shp')\n",
    "# covid_data['cases'] = covid_data['cases']\n",
    "# covid_data.head()"
   ]
  },
  {
   "cell_type": "markdown",
   "metadata": {},
   "source": [
    "### Load Hospital Data\n",
    "\n",
    "Note that 999 is treated as a \"NULL\"/\"NA\" so these hospitals are filtered out. This data contains the number of ICU beds and ventilators at each hospital."
   ]
  },
  {
   "cell_type": "code",
   "execution_count": null,
   "metadata": {},
   "outputs": [],
   "source": [
    "# Read in hospital data\n",
    "pharmacies = gpd.read_file('./data/raw/public/HospitalData/Chicago_Hospital_Info.shp')\n",
    "hospitals.head()"
   ]
  },
  {
   "cell_type": "markdown",
   "metadata": {},
   "source": [
    "### Generate and Plot Map of Hospitals"
   ]
  },
  {
   "cell_type": "code",
   "execution_count": null,
   "metadata": {
    "scrolled": true
   },
   "outputs": [],
   "source": [
    "# Plot hospital data\n",
    "m = folium.Map(location=[41.85, -87.65], tiles='cartodbpositron', zoom_start=10)\n",
    "for i in range(0, len(hospitals)):\n",
    "    folium.CircleMarker(\n",
    "      location=[hospitals.iloc[i]['Y'], hospitals.iloc[i]['X']],\n",
    "      popup=\"{}{}\\n{}{}\\n{}{}\".format('Hospital Name: ',hospitals.iloc[i]['Hospital'],\n",
    "                                      'ICU Beds: ',hospitals.iloc[i]['Adult ICU'],\n",
    "                                      'Ventilators: ', hospitals.iloc[i]['Total Vent']),\n",
    "      radius=5,\n",
    "      color='blue',\n",
    "      fill=True,\n",
    "      fill_opacity=0.6,\n",
    "      legend_name = 'Hospitals'\n",
    "    ).add_to(m)\n",
    "legend_html =   '''<div style=\"position: fixed; width: 20%; heigh: auto;\n",
    "                            bottom: 10px; left: 10px;\n",
    "                            solid grey; z-index:9999; font-size:14px;\n",
    "                            \">&nbsp; Legend<br>'''\n",
    "\n",
    "m"
   ]
  },
  {
   "cell_type": "markdown",
   "metadata": {},
   "source": [
    "### Load the Road Network\n",
    "\n",
    "If `Vermont_Network_Buffer.graphml` does not already exist, this cell will query the road network from OpenStreetMap.  \n",
    "\n",
    "Each of the road network code blocks may take a few mintues to run."
   ]
  },
  {
   "cell_type": "code",
   "execution_count": 6,
   "metadata": {},
   "outputs": [
    {
     "name": "stdout",
     "output_type": "stream",
     "text": [
      "Loading buffered Vermont road network from OpenStreetMap. Please wait... runtime may exceed 9min...\n",
      "Saving Vermont road network to raw/private/Vermont_Network_Buffer.graphml. Please wait...\n",
      "Data saved.\n",
      "CPU times: user 7min 42s, sys: 11.5 s, total: 7min 53s\n",
      "Wall time: 7min 57s\n"
     ]
    }
   ],
   "source": [
    "%%time\n",
    "\n",
    "# To create a new graph from OpenStreetMap, delete or rename data/raw/private/Vermont_Network_Buffer.graphml\n",
    "# (if it exists), and set OSM to True\n",
    "OSM = False\n",
    "\n",
    "# Define the place name for Vermont\n",
    "place_name_vermont = 'Vermont, USA'\n",
    "\n",
    "# if buffered street network is not saved, and OSM is preferred, generate a new graph from OpenStreetMap and save it\n",
    "if not os.path.exists(\"./data/raw/private/Vermont_Network_Buffer.graphml\") and OSM:\n",
    "    print(\"Loading buffered Vermont road network from OpenStreetMap. Please wait... runtime may exceed 9min...\", flush=True)\n",
    "    G = ox.graph_from_place('Vermont', network_type='drive', buffer_dist=16093.4) \n",
    "    print(\"Saving Vermont road network to raw/private/Vermont_Network_Buffer.graphml. Please wait...\", flush=True)\n",
    "    ox.save_graphml(G, './data/raw/private/Vermont_Network_Buffer.graphml')\n",
    "    print(\"Data saved.\")\n",
    "    \n",
    "# otherwise, if buffered street network is not saved, download graph from the OSF project\n",
    "elif not os.path.exists(\"./data/raw/private/Vermont_Network_Buffer.graphml\"):\n",
    "    print(\"Downloading buffered Vermont road network from OSF...\", flush=True)\n",
    "    url = 'https://osf.io/download/65a6bf5aa246ff0cd5dd3ee8/'  \n",
    "    r = requests.get(url, allow_redirects=True)\n",
    "    print(\"Saving buffered Vermont road network to file...\", flush=True)\n",
    "    open('./data/raw/private/Vermont_Network_Buffer.graphml', 'wb').write(r.content)\n",
    "    \n",
    "# load the saved network graph\n",
    "if os.path.exists(\"./data/raw/private/Vermont_Network_Buffer.graphml\"):\n",
    "    print(\"Loading buffered Vermont road network from raw/private/Vermont_Network_Buffer.graphml. Please wait...\", flush=True)\n",
    "    G = ox.load_graphml('./data/raw/private/Vermont_Network_Buffer.graphml') \n",
    "    print(\"Data loaded.\") \n",
    "else:\n",
    "    print(\"Error: could not load the road network from file.\")"
   ]
  },
  {
   "cell_type": "markdown",
   "metadata": {
    "tags": []
   },
   "source": [
    "### Plot the Road Network"
   ]
  },
  {
   "cell_type": "code",
   "execution_count": null,
   "metadata": {},
   "outputs": [],
   "source": [
    "%%time\n",
    "ox.plot_graph(G, node_size = 1, bgcolor = 'white', node_color = 'black', edge_color = \"#333333\", node_alpha = 0.5, edge_linewidth = 0.5)"
   ]
  },
  {
   "cell_type": "markdown",
   "metadata": {
    "tags": []
   },
   "source": [
    "#### Check speed limits and highway types\n",
    "\n",
    "Display all the unique speed limit values and count how many network edges (road segments) have each value.\n",
    "We will compare this to our cleaned network later."
   ]
  },
  {
   "cell_type": "code",
   "execution_count": 13,
   "metadata": {},
   "outputs": [
    {
     "name": "stdout",
     "output_type": "stream",
     "text": [
      "182688 edges in graph\n",
      "25 mph                                              5463\n",
      "30 mph                                              4746\n",
      "35 mph                                              3599\n",
      "50 mph                                              2396\n",
      "40 mph                                              2225\n",
      "55 mph                                              1130\n",
      "45 mph                                               881\n",
      "65 mph                                               375\n",
      "[40 mph, 50 mph]                                     214\n",
      "20 mph                                               192\n",
      "90                                                   160\n",
      "50                                                   143\n",
      "[35 mph, 50 mph]                                      86\n",
      "[25 mph, 35 mph]                                      83\n",
      "[30 mph, 40 mph]                                      74\n",
      "[40 mph, 30 mph]                                      72\n",
      "[35 mph, 40 mph]                                      69\n",
      "[40 mph, 35 mph]                                      69\n",
      "15 mph                                                58\n",
      "80                                                    57\n",
      "[50 mph, 45 mph]                                      48\n",
      "70                                                    48\n",
      "10 mph                                                44\n",
      "[40 mph, 45 mph]                                      44\n",
      "[30 mph, 35 mph]                                      42\n",
      "[30 mph, 50 mph]                                      41\n",
      "[25 mph, 30 mph]                                      38\n",
      "[35 mph, 30 mph]                                      38\n",
      "[40 mph, 55 mph]                                      36\n",
      "100                                                   36\n",
      "30                                                    36\n",
      "[30 mph, 45 mph]                                      34\n",
      "[35 mph, 45 mph]                                      32\n",
      "[25 mph, 40 mph]                                      28\n",
      "[45 mph, 55 mph]                                      26\n",
      "[55 mph, 45 mph]                                      25\n",
      "70 mph                                                24\n",
      "[35 mph, 55 mph]                                      18\n",
      "[30 mph, 55 mph]                                      18\n",
      "60 mph                                                16\n",
      "[40 mph, 50 mph, 35 mph]                              14\n",
      "[50 mph, 35 mph, 40 mph]                              14\n",
      "[50 mph, 55 mph]                                      14\n",
      "[30 mph, 20 mph]                                      14\n",
      "5 mph                                                 12\n",
      "[30, 15 mph]                                          11\n",
      "40                                                    10\n",
      "[40 mph, 50 mph, 30 mph]                              10\n",
      "60                                                    10\n",
      "[55 mph, 65 mph]                                      10\n",
      "[25 mph, 45 mph]                                      10\n",
      "[25 mph, 50 mph]                                       8\n",
      "[50 mph, 30 mph, 40 mph]                               7\n",
      "[40 mph, 50 mph, 45 mph]                               6\n",
      "[25 mph, 40 mph, 30 mph]                               5\n",
      "[30 mph, 35 mph, 45 mph]                               4\n",
      "[40 mph, 20 mph]                                       4\n",
      "[25 mph, 5 mph]                                        4\n",
      "[90, 50]                                               4\n",
      "[25 mph, 40 mph, 50 mph]                               3\n",
      "[30 mph, 50 mph, 40 mph]                               3\n",
      "[25 mph, 40 mph, 35 mph]                               3\n",
      "[25 mph, 35 mph, 40 mph]                               3\n",
      "[25 mph, 35 mph, 30 mph]                               3\n",
      "[50 mph, 30 mph, 35 mph]                               3\n",
      "[35 mph, 50 mph, 30 mph]                               3\n",
      "[100, 50]                                              3\n",
      "[40, 70]                                               2\n",
      "[70, 50]                                               2\n",
      "[80, 50]                                               2\n",
      "[40, 80]                                               2\n",
      "[40 mph, 35 mph, 30 mph]                               2\n",
      "[35 mph, 15 mph]                                       2\n",
      "[10 mph, 35 mph]                                       2\n",
      "[30 mph, 35 mph, 40 mph]                               2\n",
      "15                                                     2\n",
      "[65 mph, 70 mph]                                       2\n",
      "[50 mph, 25 mph, 40 mph]                               2\n",
      "[40 mph, 45 mph, 25 mph, 30 mph, 35 mph]               2\n",
      "[40 mph, 45 mph, 25 mph, 30 mph, 35 mph, 15 mph]       2\n",
      "[30 mph, 40 mph, 45 mph]                               2\n",
      "[40 mph, 45 mph, 30 mph]                               2\n",
      "[30 mph, 50 mph, 35 mph]                               2\n",
      "[35 mph, 20 mph, 30 mph]                               2\n",
      "[30 mph, 35 mph, 20 mph]                               2\n",
      "[30 mph, 40 mph, 35 mph]                               2\n",
      "[35 mph, 50 mph, 45 mph]                               2\n",
      "[35 mph, 45 mph, 30 mph]                               2\n",
      "[35 mph, 40 mph, 30 mph]                               2\n",
      "[25 mph, 20 mph]                                       2\n",
      "[100, 70]                                              2\n",
      "[35 mph, 20 mph]                                       2\n",
      "[50 mph, 25 mph, 35 mph]                               1\n",
      "[50 mph, 30 mph, 35 mph, 40 mph]                       1\n",
      "[25 mph, 40 mph, 50 mph, 35 mph]                       1\n",
      "[50 mph, 25 mph, 35 mph, 40 mph]                       1\n",
      "[55 mph, 15 mph]                                       1\n",
      "[25 mph, 35 mph, 50 mph]                               1\n",
      "[55 mph, 30 mph, 45 mph]                               1\n",
      "[45 mph, 55 mph, 30 mph]                               1\n",
      "[40 mph, 15, 65 mph]                                   1\n",
      "[40 mph, 15 mph]                                       1\n",
      "[30, 50]                                               1\n",
      "[40 mph, 50 mph, 30 mph, 35 mph]                       1\n",
      "[25 mph, 50 mph, 40 mph]                               1\n",
      "[55 mph, 60 mph]                                       1\n",
      "[35 mph, 40 mph, 55 mph]                               1\n",
      "[35 mph, 40 mph, 45 mph]                               1\n",
      "[50 mph, 35 mph, 40 mph, 55 mph]                       1\n",
      "[25 mph, 35 mph, 45 mph, 40 mph]                       1\n",
      "[25 mph, 30 mph, 35 mph]                               1\n",
      "[40 mph, 35 mph, 45 mph]                               1\n",
      "[30 mph, 35 mph, 55 mph]                               1\n",
      "[40 mph, 35 mph, 55 mph]                               1\n",
      "[40 mph, 50 mph, 55 mph, 35 mph]                       1\n",
      "[35 mph, 55 mph, 30 mph]                               1\n",
      "[25 mph, 40 mph, 35 mph, 45 mph]                       1\n",
      "[50 mph, 25 mph, 40 mph, 30 mph]                       1\n",
      "[25 mph, 40 mph, 50 mph, 30 mph]                       1\n",
      "5                                                      1\n",
      "[25 mph, 30 mph, 40 mph]                               1\n",
      "CPU times: user 10.4 s, sys: 0 ns, total: 10.4 s\n",
      "Wall time: 10.4 s\n"
     ]
    }
   ],
   "source": [
    "%%time\n",
    "# Turn network edges into a geodataframe\n",
    "edges = ox.graph_to_gdfs(G, nodes=False, edges=True)\n",
    "\n",
    "# Count frequency of each speed value\n",
    "speed_values = edges['maxspeed'].value_counts()\n",
    "\n",
    "# Ouput number of edges and frequences of speed values\n",
    "print(str(len(edges)) + \" edges in graph\")\n",
    "print(speed_values.to_string())"
   ]
  },
  {
   "cell_type": "markdown",
   "metadata": {},
   "source": [
    "Display all the unique highway types, which are used to impute the speed limits for each category of highway."
   ]
  },
  {
   "cell_type": "code",
   "execution_count": 14,
   "metadata": {},
   "outputs": [
    {
     "name": "stdout",
     "output_type": "stream",
     "text": [
      "residential                              115636\n",
      "unclassified                              20317\n",
      "tertiary                                  16120\n",
      "primary                                   13762\n",
      "secondary                                 11371\n",
      "trunk                                      3216\n",
      "motorway_link                               716\n",
      "motorway                                    482\n",
      "[unclassified, residential]                 442\n",
      "primary_link                                181\n",
      "trunk_link                                  134\n",
      "secondary_link                               70\n",
      "tertiary_link                                64\n",
      "[tertiary, residential]                      50\n",
      "[tertiary, unclassified]                     30\n",
      "[tertiary, secondary]                        24\n",
      "road                                         16\n",
      "escape                                        8\n",
      "[primary, secondary]                          6\n",
      "[road, residential]                           6\n",
      "living_street                                 5\n",
      "[trunk, motorway]                             4\n",
      "[trunk, trunk_link]                           4\n",
      "[tertiary, tertiary_link]                     4\n",
      "rest_area                                     4\n",
      "[primary, trunk]                              3\n",
      "[secondary, residential]                      2\n",
      "[living_street, residential]                  2\n",
      "[tertiary, unclassified, residential]         2\n",
      "[motorway_link, motorway]                     2\n",
      "[secondary, unclassified]                     2\n",
      "[primary, primary_link]                       1\n",
      "[secondary_link, primary_link]                1\n",
      "[secondary, primary_link]                     1\n",
      "Name: highway, dtype: int64\n"
     ]
    }
   ],
   "source": [
    "# view all highway types\n",
    "print(edges['highway'].value_counts())"
   ]
  },
  {
   "cell_type": "markdown",
   "metadata": {},
   "source": [
    "The OSMNx algorithm to impute missing speed limit data assumes that units are kilometers per hour unless the units are specified.\n",
    "Therefore, search for network edges containing speed limit data without units within the United States, where speed limits are defined in miles per hour."
   ]
  },
  {
   "cell_type": "code",
   "execution_count": 15,
   "metadata": {},
   "outputs": [
    {
     "data": {
      "text/html": [
       "<div style=\"width:100%;\"><div style=\"position:relative;width:100%;height:0;padding-bottom:60%;\"><span style=\"color:#565656\">Make this Notebook Trusted to load map: File -> Trust Notebook</span><iframe src=\"about:blank\" style=\"position:absolute;width:100%;height:100%;left:0;top:0;border:none !important;\" data-html=%3C%21DOCTYPE%20html%3E%0A%3Chead%3E%20%20%20%20%0A%20%20%20%20%3Cmeta%20http-equiv%3D%22content-type%22%20content%3D%22text/html%3B%20charset%3DUTF-8%22%20/%3E%0A%20%20%20%20%0A%20%20%20%20%20%20%20%20%3Cscript%3E%0A%20%20%20%20%20%20%20%20%20%20%20%20L_NO_TOUCH%20%3D%20false%3B%0A%20%20%20%20%20%20%20%20%20%20%20%20L_DISABLE_3D%20%3D%20false%3B%0A%20%20%20%20%20%20%20%20%3C/script%3E%0A%20%20%20%20%0A%20%20%20%20%3Cstyle%3Ehtml%2C%20body%20%7Bwidth%3A%20100%25%3Bheight%3A%20100%25%3Bmargin%3A%200%3Bpadding%3A%200%3B%7D%3C/style%3E%0A%20%20%20%20%3Cstyle%3E%23map%20%7Bposition%3Aabsolute%3Btop%3A0%3Bbottom%3A0%3Bright%3A0%3Bleft%3A0%3B%7D%3C/style%3E%0A%20%20%20%20%3Cscript%20src%3D%22https%3A//cdn.jsdelivr.net/npm/leaflet%401.6.0/dist/leaflet.js%22%3E%3C/script%3E%0A%20%20%20%20%3Cscript%20src%3D%22https%3A//code.jquery.com/jquery-1.12.4.min.js%22%3E%3C/script%3E%0A%20%20%20%20%3Cscript%20src%3D%22https%3A//maxcdn.bootstrapcdn.com/bootstrap/3.2.0/js/bootstrap.min.js%22%3E%3C/script%3E%0A%20%20%20%20%3Cscript%20src%3D%22https%3A//cdnjs.cloudflare.com/ajax/libs/Leaflet.awesome-markers/2.0.2/leaflet.awesome-markers.js%22%3E%3C/script%3E%0A%20%20%20%20%3Clink%20rel%3D%22stylesheet%22%20href%3D%22https%3A//cdn.jsdelivr.net/npm/leaflet%401.6.0/dist/leaflet.css%22/%3E%0A%20%20%20%20%3Clink%20rel%3D%22stylesheet%22%20href%3D%22https%3A//maxcdn.bootstrapcdn.com/bootstrap/3.2.0/css/bootstrap.min.css%22/%3E%0A%20%20%20%20%3Clink%20rel%3D%22stylesheet%22%20href%3D%22https%3A//maxcdn.bootstrapcdn.com/bootstrap/3.2.0/css/bootstrap-theme.min.css%22/%3E%0A%20%20%20%20%3Clink%20rel%3D%22stylesheet%22%20href%3D%22https%3A//maxcdn.bootstrapcdn.com/font-awesome/4.6.3/css/font-awesome.min.css%22/%3E%0A%20%20%20%20%3Clink%20rel%3D%22stylesheet%22%20href%3D%22https%3A//cdnjs.cloudflare.com/ajax/libs/Leaflet.awesome-markers/2.0.2/leaflet.awesome-markers.css%22/%3E%0A%20%20%20%20%3Clink%20rel%3D%22stylesheet%22%20href%3D%22https%3A//cdn.jsdelivr.net/gh/python-visualization/folium/folium/templates/leaflet.awesome.rotate.min.css%22/%3E%0A%20%20%20%20%0A%20%20%20%20%20%20%20%20%20%20%20%20%3Cmeta%20name%3D%22viewport%22%20content%3D%22width%3Ddevice-width%2C%0A%20%20%20%20%20%20%20%20%20%20%20%20%20%20%20%20initial-scale%3D1.0%2C%20maximum-scale%3D1.0%2C%20user-scalable%3Dno%22%20/%3E%0A%20%20%20%20%20%20%20%20%20%20%20%20%3Cstyle%3E%0A%20%20%20%20%20%20%20%20%20%20%20%20%20%20%20%20%23map_a630c23d75e04a0493295b5a3a66f188%20%7B%0A%20%20%20%20%20%20%20%20%20%20%20%20%20%20%20%20%20%20%20%20position%3A%20relative%3B%0A%20%20%20%20%20%20%20%20%20%20%20%20%20%20%20%20%20%20%20%20width%3A%20100.0%25%3B%0A%20%20%20%20%20%20%20%20%20%20%20%20%20%20%20%20%20%20%20%20height%3A%20100.0%25%3B%0A%20%20%20%20%20%20%20%20%20%20%20%20%20%20%20%20%20%20%20%20left%3A%200.0%25%3B%0A%20%20%20%20%20%20%20%20%20%20%20%20%20%20%20%20%20%20%20%20top%3A%200.0%25%3B%0A%20%20%20%20%20%20%20%20%20%20%20%20%20%20%20%20%7D%0A%20%20%20%20%20%20%20%20%20%20%20%20%3C/style%3E%0A%20%20%20%20%20%20%20%20%0A%20%20%20%20%0A%20%20%20%20%20%20%20%20%20%20%20%20%20%20%20%20%20%20%20%20%3Cstyle%3E%0A%20%20%20%20%20%20%20%20%20%20%20%20%20%20%20%20%20%20%20%20%20%20%20%20.foliumtooltip%20%7B%0A%20%20%20%20%20%20%20%20%20%20%20%20%20%20%20%20%20%20%20%20%20%20%20%20%20%20%20%20%0A%20%20%20%20%20%20%20%20%20%20%20%20%20%20%20%20%20%20%20%20%20%20%20%20%7D%0A%20%20%20%20%20%20%20%20%20%20%20%20%20%20%20%20%20%20%20%20%20%20%20.foliumtooltip%20table%7B%0A%20%20%20%20%20%20%20%20%20%20%20%20%20%20%20%20%20%20%20%20%20%20%20%20%20%20%20%20margin%3A%20auto%3B%0A%20%20%20%20%20%20%20%20%20%20%20%20%20%20%20%20%20%20%20%20%20%20%20%20%7D%0A%20%20%20%20%20%20%20%20%20%20%20%20%20%20%20%20%20%20%20%20%20%20%20%20.foliumtooltip%20tr%7B%0A%20%20%20%20%20%20%20%20%20%20%20%20%20%20%20%20%20%20%20%20%20%20%20%20%20%20%20%20text-align%3A%20left%3B%0A%20%20%20%20%20%20%20%20%20%20%20%20%20%20%20%20%20%20%20%20%20%20%20%20%7D%0A%20%20%20%20%20%20%20%20%20%20%20%20%20%20%20%20%20%20%20%20%20%20%20%20.foliumtooltip%20th%7B%0A%20%20%20%20%20%20%20%20%20%20%20%20%20%20%20%20%20%20%20%20%20%20%20%20%20%20%20%20padding%3A%202px%3B%20padding-right%3A%208px%3B%0A%20%20%20%20%20%20%20%20%20%20%20%20%20%20%20%20%20%20%20%20%20%20%20%20%7D%0A%20%20%20%20%20%20%20%20%20%20%20%20%20%20%20%20%20%20%20%20%3C/style%3E%0A%20%20%20%20%20%20%20%20%20%20%20%20%0A%3C/head%3E%0A%3Cbody%3E%20%20%20%20%0A%20%20%20%20%0A%20%20%20%20%20%20%20%20%20%20%20%20%3Cdiv%20class%3D%22folium-map%22%20id%3D%22map_a630c23d75e04a0493295b5a3a66f188%22%20%3E%3C/div%3E%0A%20%20%20%20%20%20%20%20%0A%3C/body%3E%0A%3Cscript%3E%20%20%20%20%0A%20%20%20%20%0A%20%20%20%20%20%20%20%20%20%20%20%20var%20map_a630c23d75e04a0493295b5a3a66f188%20%3D%20L.map%28%0A%20%20%20%20%20%20%20%20%20%20%20%20%20%20%20%20%22map_a630c23d75e04a0493295b5a3a66f188%22%2C%0A%20%20%20%20%20%20%20%20%20%20%20%20%20%20%20%20%7B%0A%20%20%20%20%20%20%20%20%20%20%20%20%20%20%20%20%20%20%20%20center%3A%20%5B43.9844149%2C%20-72.8264345%5D%2C%0A%20%20%20%20%20%20%20%20%20%20%20%20%20%20%20%20%20%20%20%20crs%3A%20L.CRS.EPSG3857%2C%0A%20%20%20%20%20%20%20%20%20%20%20%20%20%20%20%20%20%20%20%20zoom%3A%2010%2C%0A%20%20%20%20%20%20%20%20%20%20%20%20%20%20%20%20%20%20%20%20zoomControl%3A%20true%2C%0A%20%20%20%20%20%20%20%20%20%20%20%20%20%20%20%20%20%20%20%20preferCanvas%3A%20false%2C%0A%20%20%20%20%20%20%20%20%20%20%20%20%20%20%20%20%7D%0A%20%20%20%20%20%20%20%20%20%20%20%20%29%3B%0A%20%20%20%20%20%20%20%20%20%20%20%20L.control.scale%28%29.addTo%28map_a630c23d75e04a0493295b5a3a66f188%29%3B%0A%0A%20%20%20%20%20%20%20%20%20%20%20%20%0A%0A%20%20%20%20%20%20%20%20%0A%20%20%20%20%0A%20%20%20%20%20%20%20%20%20%20%20%20var%20tile_layer_68fab972c532435ca7857bf854c67811%20%3D%20L.tileLayer%28%0A%20%20%20%20%20%20%20%20%20%20%20%20%20%20%20%20%22https%3A//%7Bs%7D.tile.openstreetmap.org/%7Bz%7D/%7Bx%7D/%7By%7D.png%22%2C%0A%20%20%20%20%20%20%20%20%20%20%20%20%20%20%20%20%7B%22attribution%22%3A%20%22Data%20by%20%5Cu0026copy%3B%20%5Cu003ca%20href%3D%5C%22http%3A//openstreetmap.org%5C%22%5Cu003eOpenStreetMap%5Cu003c/a%5Cu003e%2C%20under%20%5Cu003ca%20href%3D%5C%22http%3A//www.openstreetmap.org/copyright%5C%22%5Cu003eODbL%5Cu003c/a%5Cu003e.%22%2C%20%22detectRetina%22%3A%20false%2C%20%22maxNativeZoom%22%3A%2018%2C%20%22maxZoom%22%3A%2018%2C%20%22minZoom%22%3A%200%2C%20%22noWrap%22%3A%20false%2C%20%22opacity%22%3A%201%2C%20%22subdomains%22%3A%20%22abc%22%2C%20%22tms%22%3A%20false%7D%0A%20%20%20%20%20%20%20%20%20%20%20%20%29.addTo%28map_a630c23d75e04a0493295b5a3a66f188%29%3B%0A%20%20%20%20%20%20%20%20%0A%20%20%20%20%0A%20%20%20%20%20%20%20%20%20%20%20%20map_a630c23d75e04a0493295b5a3a66f188.fitBounds%28%0A%20%20%20%20%20%20%20%20%20%20%20%20%20%20%20%20%5B%5B43.2639618%2C%20-73.269614%5D%2C%20%5B44.704868%2C%20-72.383255%5D%5D%2C%0A%20%20%20%20%20%20%20%20%20%20%20%20%20%20%20%20%7B%7D%0A%20%20%20%20%20%20%20%20%20%20%20%20%29%3B%0A%20%20%20%20%20%20%20%20%0A%20%20%20%20%0A%20%20%20%20%20%20%20%20function%20geo_json_d555db30558a47d4a86a3966b2ad208b_styler%28feature%29%20%7B%0A%20%20%20%20%20%20%20%20%20%20%20%20switch%28feature.id%29%20%7B%0A%20%20%20%20%20%20%20%20%20%20%20%20%20%20%20%20default%3A%0A%20%20%20%20%20%20%20%20%20%20%20%20%20%20%20%20%20%20%20%20return%20%7B%22fillOpacity%22%3A%200.5%2C%20%22weight%22%3A%202%7D%3B%0A%20%20%20%20%20%20%20%20%20%20%20%20%7D%0A%20%20%20%20%20%20%20%20%7D%0A%20%20%20%20%20%20%20%20function%20geo_json_d555db30558a47d4a86a3966b2ad208b_highlighter%28feature%29%20%7B%0A%20%20%20%20%20%20%20%20%20%20%20%20switch%28feature.id%29%20%7B%0A%20%20%20%20%20%20%20%20%20%20%20%20%20%20%20%20default%3A%0A%20%20%20%20%20%20%20%20%20%20%20%20%20%20%20%20%20%20%20%20return%20%7B%22fillOpacity%22%3A%200.75%7D%3B%0A%20%20%20%20%20%20%20%20%20%20%20%20%7D%0A%20%20%20%20%20%20%20%20%7D%0A%20%20%20%20%20%20%20%20function%20geo_json_d555db30558a47d4a86a3966b2ad208b_pointToLayer%28feature%2C%20latlng%29%20%7B%0A%20%20%20%20%20%20%20%20%20%20%20%20var%20opts%20%3D%20%7B%22bubblingMouseEvents%22%3A%20true%2C%20%22color%22%3A%20%22%233388ff%22%2C%20%22dashArray%22%3A%20null%2C%20%22dashOffset%22%3A%20null%2C%20%22fill%22%3A%20true%2C%20%22fillColor%22%3A%20%22%233388ff%22%2C%20%22fillOpacity%22%3A%200.2%2C%20%22fillRule%22%3A%20%22evenodd%22%2C%20%22lineCap%22%3A%20%22round%22%2C%20%22lineJoin%22%3A%20%22round%22%2C%20%22opacity%22%3A%201.0%2C%20%22radius%22%3A%202%2C%20%22stroke%22%3A%20true%2C%20%22weight%22%3A%203%7D%3B%0A%20%20%20%20%20%20%20%20%20%20%20%20%0A%20%20%20%20%20%20%20%20%20%20%20%20let%20style%20%3D%20geo_json_d555db30558a47d4a86a3966b2ad208b_styler%28feature%29%0A%20%20%20%20%20%20%20%20%20%20%20%20Object.assign%28opts%2C%20style%29%0A%20%20%20%20%20%20%20%20%20%20%20%20%0A%20%20%20%20%20%20%20%20%20%20%20%20return%20new%20L.CircleMarker%28latlng%2C%20opts%29%0A%20%20%20%20%20%20%20%20%7D%0A%0A%20%20%20%20%20%20%20%20function%20geo_json_d555db30558a47d4a86a3966b2ad208b_onEachFeature%28feature%2C%20layer%29%20%7B%0A%20%20%20%20%20%20%20%20%20%20%20%20layer.on%28%7B%0A%20%20%20%20%20%20%20%20%20%20%20%20%20%20%20%20mouseout%3A%20function%28e%29%20%7B%0A%20%20%20%20%20%20%20%20%20%20%20%20%20%20%20%20%20%20%20%20if%28typeof%20e.target.setStyle%20%3D%3D%3D%20%22function%22%29%7B%0A%20%20%20%20%20%20%20%20%20%20%20%20%20%20%20%20%20%20%20%20%20%20%20%20geo_json_d555db30558a47d4a86a3966b2ad208b.resetStyle%28e.target%29%3B%0A%20%20%20%20%20%20%20%20%20%20%20%20%20%20%20%20%20%20%20%20%7D%0A%20%20%20%20%20%20%20%20%20%20%20%20%20%20%20%20%7D%2C%0A%20%20%20%20%20%20%20%20%20%20%20%20%20%20%20%20mouseover%3A%20function%28e%29%20%7B%0A%20%20%20%20%20%20%20%20%20%20%20%20%20%20%20%20%20%20%20%20if%28typeof%20e.target.setStyle%20%3D%3D%3D%20%22function%22%29%7B%0A%20%20%20%20%20%20%20%20%20%20%20%20%20%20%20%20%20%20%20%20%20%20%20%20const%20highlightStyle%20%3D%20geo_json_d555db30558a47d4a86a3966b2ad208b_highlighter%28e.target.feature%29%0A%20%20%20%20%20%20%20%20%20%20%20%20%20%20%20%20%20%20%20%20%20%20%20%20e.target.setStyle%28highlightStyle%29%3B%0A%20%20%20%20%20%20%20%20%20%20%20%20%20%20%20%20%20%20%20%20%7D%0A%20%20%20%20%20%20%20%20%20%20%20%20%20%20%20%20%7D%2C%0A%20%20%20%20%20%20%20%20%20%20%20%20%7D%29%3B%0A%20%20%20%20%20%20%20%20%7D%3B%0A%20%20%20%20%20%20%20%20var%20geo_json_d555db30558a47d4a86a3966b2ad208b%20%3D%20L.geoJson%28null%2C%20%7B%0A%20%20%20%20%20%20%20%20%20%20%20%20%20%20%20%20onEachFeature%3A%20geo_json_d555db30558a47d4a86a3966b2ad208b_onEachFeature%2C%0A%20%20%20%20%20%20%20%20%20%20%20%20%0A%20%20%20%20%20%20%20%20%20%20%20%20%20%20%20%20style%3A%20geo_json_d555db30558a47d4a86a3966b2ad208b_styler%2C%0A%20%20%20%20%20%20%20%20%20%20%20%20%20%20%20%20pointToLayer%3A%20geo_json_d555db30558a47d4a86a3966b2ad208b_pointToLayer%0A%20%20%20%20%20%20%20%20%7D%29%3B%0A%0A%20%20%20%20%20%20%20%20function%20geo_json_d555db30558a47d4a86a3966b2ad208b_add%20%28data%29%20%7B%0A%20%20%20%20%20%20%20%20%20%20%20%20geo_json_d555db30558a47d4a86a3966b2ad208b%0A%20%20%20%20%20%20%20%20%20%20%20%20%20%20%20%20.addData%28data%29%0A%20%20%20%20%20%20%20%20%20%20%20%20%20%20%20%20.addTo%28map_a630c23d75e04a0493295b5a3a66f188%29%3B%0A%20%20%20%20%20%20%20%20%7D%0A%20%20%20%20%20%20%20%20%20%20%20%20geo_json_d555db30558a47d4a86a3966b2ad208b_add%28%7B%22bbox%22%3A%20%5B-73.269614%2C%2043.2639618%2C%20-72.383255%2C%2044.704868%5D%2C%20%22features%22%3A%20%5B%7B%22bbox%22%3A%20%5B-72.3840594%2C%2044.6657264%2C%20-72.38371%2C%2044.665958%5D%2C%20%22geometry%22%3A%20%7B%22coordinates%22%3A%20%5B%5B-72.38371%2C%2044.665958%5D%2C%20%5B-72.3840594%2C%2044.6657264%5D%5D%2C%20%22type%22%3A%20%22LineString%22%7D%2C%20%22id%22%3A%20%22%28204831583%2C%20204831584%2C%200%29%22%2C%20%22properties%22%3A%20%7B%22access%22%3A%20null%2C%20%22bridge%22%3A%20null%2C%20%22highway%22%3A%20%22unclassified%22%2C%20%22junction%22%3A%20null%2C%20%22lanes%22%3A%20null%2C%20%22length%22%3A%2037.772%2C%20%22maxspeed%22%3A%20%2250%22%2C%20%22name%22%3A%20%22Post%20Road%22%2C%20%22oneway%22%3A%20false%2C%20%22osmid%22%3A%2019712723%2C%20%22ref%22%3A%20null%2C%20%22speed_kph%22%3A%2050.0%2C%20%22travel_time%22%3A%202.7%2C%20%22tunnel%22%3A%20null%2C%20%22width%22%3A%20null%7D%2C%20%22type%22%3A%20%22Feature%22%7D%2C%20%7B%22bbox%22%3A%20%5B-72.383753%2C%2044.665958%2C%20-72.38371%2C%2044.666567%5D%2C%20%22geometry%22%3A%20%7B%22coordinates%22%3A%20%5B%5B-72.38371%2C%2044.665958%5D%2C%20%5B-72.383753%2C%2044.666351%5D%2C%20%5B-72.383747%2C%2044.666567%5D%5D%2C%20%22type%22%3A%20%22LineString%22%7D%2C%20%22id%22%3A%20%22%28204831583%2C%20204844143%2C%200%29%22%2C%20%22properties%22%3A%20%7B%22access%22%3A%20%22yes%22%2C%20%22bridge%22%3A%20null%2C%20%22highway%22%3A%20%22unclassified%22%2C%20%22junction%22%3A%20null%2C%20%22lanes%22%3A%20null%2C%20%22length%22%3A%2067.855%2C%20%22maxspeed%22%3A%20%2250%22%2C%20%22name%22%3A%20%22Wylie%20Hill%20Road%22%2C%20%22oneway%22%3A%20false%2C%20%22osmid%22%3A%20970231142%2C%20%22ref%22%3A%20null%2C%20%22speed_kph%22%3A%2050.0%2C%20%22travel_time%22%3A%204.9%2C%20%22tunnel%22%3A%20null%2C%20%22width%22%3A%20null%7D%2C%20%22type%22%3A%20%22Feature%22%7D%2C%20%7B%22bbox%22%3A%20%5B-72.38371%2C%2044.6652785%2C%20-72.3836604%2C%2044.665958%5D%2C%20%22geometry%22%3A%20%7B%22coordinates%22%3A%20%5B%5B-72.38371%2C%2044.665958%5D%2C%20%5B-72.383664%2C%2044.665645%5D%2C%20%5B-72.3836604%2C%2044.6652785%5D%5D%2C%20%22type%22%3A%20%22LineString%22%7D%2C%20%22id%22%3A%20%22%28204831583%2C%20204844137%2C%200%29%22%2C%20%22properties%22%3A%20%7B%22access%22%3A%20%22yes%22%2C%20%22bridge%22%3A%20null%2C%20%22highway%22%3A%20%22unclassified%22%2C%20%22junction%22%3A%20null%2C%20%22lanes%22%3A%20null%2C%20%22length%22%3A%2075.74799999999999%2C%20%22maxspeed%22%3A%20%2250%22%2C%20%22name%22%3A%20%22Wylie%20Hill%20Road%22%2C%20%22oneway%22%3A%20false%2C%20%22osmid%22%3A%20970231142%2C%20%22ref%22%3A%20null%2C%20%22speed_kph%22%3A%2050.0%2C%20%22travel_time%22%3A%205.5%2C%20%22tunnel%22%3A%20null%2C%20%22width%22%3A%20null%7D%2C%20%22type%22%3A%20%22Feature%22%7D%2C%20%7B%22bbox%22%3A%20%5B-72.3840594%2C%2044.6657264%2C%20-72.38371%2C%2044.665958%5D%2C%20%22geometry%22%3A%20%7B%22coordinates%22%3A%20%5B%5B-72.3840594%2C%2044.6657264%5D%2C%20%5B-72.38371%2C%2044.665958%5D%5D%2C%20%22type%22%3A%20%22LineString%22%7D%2C%20%22id%22%3A%20%22%28204831584%2C%20204831583%2C%200%29%22%2C%20%22properties%22%3A%20%7B%22access%22%3A%20null%2C%20%22bridge%22%3A%20null%2C%20%22highway%22%3A%20%22unclassified%22%2C%20%22junction%22%3A%20null%2C%20%22lanes%22%3A%20null%2C%20%22length%22%3A%2037.772%2C%20%22maxspeed%22%3A%20%2250%22%2C%20%22name%22%3A%20%22Post%20Road%22%2C%20%22oneway%22%3A%20false%2C%20%22osmid%22%3A%2019712723%2C%20%22ref%22%3A%20null%2C%20%22speed_kph%22%3A%2050.0%2C%20%22travel_time%22%3A%202.7%2C%20%22tunnel%22%3A%20null%2C%20%22width%22%3A%20null%7D%2C%20%22type%22%3A%20%22Feature%22%7D%2C%20%7B%22bbox%22%3A%20%5B-72.403879%2C%2044.657693%2C%20-72.3840594%2C%2044.6657264%5D%2C%20%22geometry%22%3A%20%7B%22coordinates%22%3A%20%5B%5B-72.3840594%2C%2044.6657264%5D%2C%20%5B-72.384205%2C%2044.66562%5D%2C%20%5B-72.384609%2C%2044.665328%5D%2C%20%5B-72.385009%2C%2044.665024%5D%2C%20%5B-72.385317%2C%2044.664833%5D%2C%20%5B-72.385642%2C%2044.664676%5D%2C%20%5B-72.385976%2C%2044.664569%5D%2C%20%5B-72.386529%2C%2044.664433%5D%2C%20%5B-72.386664%2C%2044.664389%5D%2C%20%5B-72.386794%2C%2044.664327%5D%2C%20%5B-72.386919%2C%2044.664244%5D%2C%20%5B-72.38714%2C%2044.664051%5D%2C%20%5B-72.387251%2C%2044.663966%5D%2C%20%5B-72.387373%2C%2044.663895%5D%2C%20%5B-72.387502%2C%2044.663833%5D%2C%20%5B-72.387912%2C%2044.663689%5D%2C%20%5B-72.389158%2C%2044.66329%5D%2C%20%5B-72.390408%2C%2044.662897%5D%2C%20%5B-72.390836%2C%2044.662792%5D%2C%20%5B-72.391335%2C%2044.662678%5D%2C%20%5B-72.391611%2C%2044.662592%5D%2C%20%5B-72.391945%2C%2044.662467%5D%2C%20%5B-72.392152%2C%2044.662396%5D%2C%20%5B-72.392576%2C%2044.662263%5D%2C%20%5B-72.392714%2C%2044.662209%5D%2C%20%5B-72.392847%2C%2044.662137%5D%2C%20%5B-72.393006%2C%2044.662013%5D%2C%20%5B-72.393104%2C%2044.661904%5D%2C%20%5B-72.393233%2C%2044.661724%5D%2C%20%5B-72.393664%2C%2044.661051%5D%2C%20%5B-72.393896%2C%2044.660592%5D%2C%20%5B-72.394095%2C%2044.660125%5D%2C%20%5B-72.394319%2C%2044.659665%5D%2C%20%5B-72.394535%2C%2044.659371%5D%2C%20%5B-72.394981%2C%2044.658913%5D%2C%20%5B-72.39519%2C%2044.658718%5D%2C%20%5B-72.395306%2C%2044.65863%5D%2C%20%5B-72.395436%2C%2044.658552%5D%2C%20%5B-72.395494%2C%2044.658524%5D%2C%20%5B-72.39557%2C%2044.658504%5D%2C%20%5B-72.395781%2C%2044.65847%5D%2C%20%5B-72.396497%2C%2044.658412%5D%2C%20%5B-72.396641%2C%2044.658396%5D%2C%20%5B-72.396784%2C%2044.658375%5D%2C%20%5B-72.3976244%2C%2044.6582017%5D%2C%20%5B-72.3977027%2C%2044.6581994%5D%2C%20%5B-72.3978124%2C%2044.658182%5D%2C%20%5B-72.3979634%2C%2044.6581568%5D%2C%20%5B-72.398617%2C%2044.658058%5D%2C%20%5B-72.399257%2C%2044.657944%5D%2C%20%5B-72.3997781%2C%2044.6578607%5D%2C%20%5B-72.400114%2C%2044.657807%5D%2C%20%5B-72.400682%2C%2044.657735%5D%2C%20%5B-72.400839%2C%2044.657724%5D%2C%20%5B-72.40118%2C%2044.657699%5D%2C%20%5B-72.401613%2C%2044.657693%5D%2C%20%5B-72.401831%2C%2044.657716%5D%2C%20%5B-72.402189%2C%2044.657801%5D%2C%20%5B-72.402569%2C%2044.657937%5D%2C%20%5B-72.402958%2C%2044.658093%5D%2C%20%5B-72.403449%2C%2044.658282%5D%2C%20%5B-72.403521%2C%2044.6583%5D%2C%20%5B-72.403879%2C%2044.658363%5D%5D%2C%20%22type%22%3A%20%22LineString%22%7D%2C%20%22id%22%3A%20%22%28204831584%2C%20204831643%2C%200%29%22%2C%20%22properties%22%3A%20%7B%22access%22%3A%20null%2C%20%22bridge%22%3A%20%22yes%22%2C%20%22highway%22%3A%20%22unclassified%22%2C%20%22junction%22%3A%20null%2C%20%22lanes%22%3A%20null%2C%20%22length%22%3A%201962.4070000000008%2C%20%22maxspeed%22%3A%20%2250%22%2C%20%22name%22%3A%20%22Post%20Road%22%2C%20%22oneway%22%3A%20false%2C%20%22osmid%22%3A%20%5B235716651%2C%2019712723%2C%20235716660%5D%2C%20%22ref%22%3A%20null%2C%20%22speed_kph%22%3A%2050.0%2C%20%22travel_time%22%3A%20141.3%2C%20%22tunnel%22%3A%20null%2C%20%22width%22%3A%20null%7D%2C%20%22type%22%3A%20%22Feature%22%7D%2C%20%7B%22bbox%22%3A%20%5B-72.403879%2C%2044.657693%2C%20-72.3840594%2C%2044.6657264%5D%2C%20%22geometry%22%3A%20%7B%22coordinates%22%3A%20%5B%5B-72.403879%2C%2044.658363%5D%2C%20%5B-72.403521%2C%2044.6583%5D%2C%20%5B-72.403449%2C%2044.658282%5D%2C%20%5B-72.402958%2C%2044.658093%5D%2C%20%5B-72.402569%2C%2044.657937%5D%2C%20%5B-72.402189%2C%2044.657801%5D%2C%20%5B-72.401831%2C%2044.657716%5D%2C%20%5B-72.401613%2C%2044.657693%5D%2C%20%5B-72.40118%2C%2044.657699%5D%2C%20%5B-72.400839%2C%2044.657724%5D%2C%20%5B-72.400682%2C%2044.657735%5D%2C%20%5B-72.400114%2C%2044.657807%5D%2C%20%5B-72.3997781%2C%2044.6578607%5D%2C%20%5B-72.399257%2C%2044.657944%5D%2C%20%5B-72.398617%2C%2044.658058%5D%2C%20%5B-72.3979634%2C%2044.6581568%5D%2C%20%5B-72.3978124%2C%2044.658182%5D%2C%20%5B-72.3977027%2C%2044.6581994%5D%2C%20%5B-72.3976244%2C%2044.6582017%5D%2C%20%5B-72.396784%2C%2044.658375%5D%2C%20%5B-72.396641%2C%2044.658396%5D%2C%20%5B-72.396497%2C%2044.658412%5D%2C%20%5B-72.395781%2C%2044.65847%5D%2C%20%5B-72.39557%2C%2044.658504%5D%2C%20%5B-72.395494%2C%2044.658524%5D%2C%20%5B-72.395436%2C%2044.658552%5D%2C%20%5B-72.395306%2C%2044.65863%5D%2C%20%5B-72.39519%2C%2044.658718%5D%2C%20%5B-72.394981%2C%2044.658913%5D%2C%20%5B-72.394535%2C%2044.659371%5D%2C%20%5B-72.394319%2C%2044.659665%5D%2C%20%5B-72.394095%2C%2044.660125%5D%2C%20%5B-72.393896%2C%2044.660592%5D%2C%20%5B-72.393664%2C%2044.661051%5D%2C%20%5B-72.393233%2C%2044.661724%5D%2C%20%5B-72.393104%2C%2044.661904%5D%2C%20%5B-72.393006%2C%2044.662013%5D%2C%20%5B-72.392847%2C%2044.662137%5D%2C%20%5B-72.392714%2C%2044.662209%5D%2C%20%5B-72.392576%2C%2044.662263%5D%2C%20%5B-72.392152%2C%2044.662396%5D%2C%20%5B-72.391945%2C%2044.662467%5D%2C%20%5B-72.391611%2C%2044.662592%5D%2C%20%5B-72.391335%2C%2044.662678%5D%2C%20%5B-72.390836%2C%2044.662792%5D%2C%20%5B-72.390408%2C%2044.662897%5D%2C%20%5B-72.389158%2C%2044.66329%5D%2C%20%5B-72.387912%2C%2044.663689%5D%2C%20%5B-72.387502%2C%2044.663833%5D%2C%20%5B-72.387373%2C%2044.663895%5D%2C%20%5B-72.387251%2C%2044.663966%5D%2C%20%5B-72.38714%2C%2044.664051%5D%2C%20%5B-72.386919%2C%2044.664244%5D%2C%20%5B-72.386794%2C%2044.664327%5D%2C%20%5B-72.386664%2C%2044.664389%5D%2C%20%5B-72.386529%2C%2044.664433%5D%2C%20%5B-72.385976%2C%2044.664569%5D%2C%20%5B-72.385642%2C%2044.664676%5D%2C%20%5B-72.385317%2C%2044.664833%5D%2C%20%5B-72.385009%2C%2044.665024%5D%2C%20%5B-72.384609%2C%2044.665328%5D%2C%20%5B-72.384205%2C%2044.66562%5D%2C%20%5B-72.3840594%2C%2044.6657264%5D%5D%2C%20%22type%22%3A%20%22LineString%22%7D%2C%20%22id%22%3A%20%22%28204831643%2C%20204831584%2C%200%29%22%2C%20%22properties%22%3A%20%7B%22access%22%3A%20null%2C%20%22bridge%22%3A%20%22yes%22%2C%20%22highway%22%3A%20%22unclassified%22%2C%20%22junction%22%3A%20null%2C%20%22lanes%22%3A%20null%2C%20%22length%22%3A%201962.4069999999995%2C%20%22maxspeed%22%3A%20%2250%22%2C%20%22name%22%3A%20%22Post%20Road%22%2C%20%22oneway%22%3A%20false%2C%20%22osmid%22%3A%20%5B235716651%2C%20235716660%2C%2019712723%5D%2C%20%22ref%22%3A%20null%2C%20%22speed_kph%22%3A%2050.0%2C%20%22travel_time%22%3A%20141.3%2C%20%22tunnel%22%3A%20null%2C%20%22width%22%3A%20null%7D%2C%20%22type%22%3A%20%22Feature%22%7D%2C%20%7B%22bbox%22%3A%20%5B-72.38371%2C%2044.6652785%2C%20-72.3836604%2C%2044.665958%5D%2C%20%22geometry%22%3A%20%7B%22coordinates%22%3A%20%5B%5B-72.3836604%2C%2044.6652785%5D%2C%20%5B-72.383664%2C%2044.665645%5D%2C%20%5B-72.38371%2C%2044.665958%5D%5D%2C%20%22type%22%3A%20%22LineString%22%7D%2C%20%22id%22%3A%20%22%28204844137%2C%20204831583%2C%200%29%22%2C%20%22properties%22%3A%20%7B%22access%22%3A%20%22yes%22%2C%20%22bridge%22%3A%20null%2C%20%22highway%22%3A%20%22unclassified%22%2C%20%22junction%22%3A%20null%2C%20%22lanes%22%3A%20null%2C%20%22length%22%3A%2075.74799999999999%2C%20%22maxspeed%22%3A%20%2250%22%2C%20%22name%22%3A%20%22Wylie%20Hill%20Road%22%2C%20%22oneway%22%3A%20false%2C%20%22osmid%22%3A%20970231142%2C%20%22ref%22%3A%20null%2C%20%22speed_kph%22%3A%2050.0%2C%20%22travel_time%22%3A%205.5%2C%20%22tunnel%22%3A%20null%2C%20%22width%22%3A%20null%7D%2C%20%22type%22%3A%20%22Feature%22%7D%2C%20%7B%22bbox%22%3A%20%5B-72.383811%2C%2044.666567%2C%20-72.383747%2C%2044.667032%5D%2C%20%22geometry%22%3A%20%7B%22coordinates%22%3A%20%5B%5B-72.383747%2C%2044.666567%5D%2C%20%5B-72.383811%2C%2044.667032%5D%5D%2C%20%22type%22%3A%20%22LineString%22%7D%2C%20%22id%22%3A%20%22%28204844143%2C%20204844145%2C%200%29%22%2C%20%22properties%22%3A%20%7B%22access%22%3A%20%22yes%22%2C%20%22bridge%22%3A%20null%2C%20%22highway%22%3A%20%22unclassified%22%2C%20%22junction%22%3A%20null%2C%20%22lanes%22%3A%20null%2C%20%22length%22%3A%2051.953%2C%20%22maxspeed%22%3A%20%2250%22%2C%20%22name%22%3A%20%22Wylie%20Hill%20Road%22%2C%20%22oneway%22%3A%20false%2C%20%22osmid%22%3A%20970231142%2C%20%22ref%22%3A%20null%2C%20%22speed_kph%22%3A%2050.0%2C%20%22travel_time%22%3A%203.7%2C%20%22tunnel%22%3A%20null%2C%20%22width%22%3A%20null%7D%2C%20%22type%22%3A%20%22Feature%22%7D%2C%20%7B%22bbox%22%3A%20%5B-72.383753%2C%2044.665958%2C%20-72.38371%2C%2044.666567%5D%2C%20%22geometry%22%3A%20%7B%22coordinates%22%3A%20%5B%5B-72.383747%2C%2044.666567%5D%2C%20%5B-72.383753%2C%2044.666351%5D%2C%20%5B-72.38371%2C%2044.665958%5D%5D%2C%20%22type%22%3A%20%22LineString%22%7D%2C%20%22id%22%3A%20%22%28204844143%2C%20204831583%2C%200%29%22%2C%20%22properties%22%3A%20%7B%22access%22%3A%20%22yes%22%2C%20%22bridge%22%3A%20null%2C%20%22highway%22%3A%20%22unclassified%22%2C%20%22junction%22%3A%20null%2C%20%22lanes%22%3A%20null%2C%20%22length%22%3A%2067.855%2C%20%22maxspeed%22%3A%20%2250%22%2C%20%22name%22%3A%20%22Wylie%20Hill%20Road%22%2C%20%22oneway%22%3A%20false%2C%20%22osmid%22%3A%20970231142%2C%20%22ref%22%3A%20null%2C%20%22speed_kph%22%3A%2050.0%2C%20%22travel_time%22%3A%204.9%2C%20%22tunnel%22%3A%20null%2C%20%22width%22%3A%20null%7D%2C%20%22type%22%3A%20%22Feature%22%7D%2C%20%7B%22bbox%22%3A%20%5B-72.383811%2C%2044.666567%2C%20-72.383747%2C%2044.667032%5D%2C%20%22geometry%22%3A%20%7B%22coordinates%22%3A%20%5B%5B-72.383811%2C%2044.667032%5D%2C%20%5B-72.383747%2C%2044.666567%5D%5D%2C%20%22type%22%3A%20%22LineString%22%7D%2C%20%22id%22%3A%20%22%28204844145%2C%20204844143%2C%200%29%22%2C%20%22properties%22%3A%20%7B%22access%22%3A%20%22yes%22%2C%20%22bridge%22%3A%20null%2C%20%22highway%22%3A%20%22unclassified%22%2C%20%22junction%22%3A%20null%2C%20%22lanes%22%3A%20null%2C%20%22length%22%3A%2051.953%2C%20%22maxspeed%22%3A%20%2250%22%2C%20%22name%22%3A%20%22Wylie%20Hill%20Road%22%2C%20%22oneway%22%3A%20false%2C%20%22osmid%22%3A%20970231142%2C%20%22ref%22%3A%20null%2C%20%22speed_kph%22%3A%2050.0%2C%20%22travel_time%22%3A%203.7%2C%20%22tunnel%22%3A%20null%2C%20%22width%22%3A%20null%7D%2C%20%22type%22%3A%20%22Feature%22%7D%2C%20%7B%22bbox%22%3A%20%5B-72.384591%2C%2044.667032%2C%20-72.383811%2C%2044.674484%5D%2C%20%22geometry%22%3A%20%7B%22coordinates%22%3A%20%5B%5B-72.383811%2C%2044.667032%5D%2C%20%5B-72.38384%2C%2044.667207%5D%2C%20%5B-72.383997%2C%2044.668509%5D%2C%20%5B-72.3840074%2C%2044.668611%5D%2C%20%5B-72.384173%2C%2044.670236%5D%2C%20%5B-72.384235%2C%2044.670664%5D%2C%20%5B-72.384287%2C%2044.671095%5D%2C%20%5B-72.384397%2C%2044.672172%5D%2C%20%5B-72.384548%2C%2044.673907%5D%2C%20%5B-72.38458%2C%2044.6743358%5D%2C%20%5B-72.384591%2C%2044.674484%5D%5D%2C%20%22type%22%3A%20%22LineString%22%7D%2C%20%22id%22%3A%20%22%28204844145%2C%20204844161%2C%200%29%22%2C%20%22properties%22%3A%20%7B%22access%22%3A%20%22yes%22%2C%20%22bridge%22%3A%20null%2C%20%22highway%22%3A%20%22unclassified%22%2C%20%22junction%22%3A%20null%2C%20%22lanes%22%3A%20null%2C%20%22length%22%3A%20830.999%2C%20%22maxspeed%22%3A%20%2250%22%2C%20%22name%22%3A%20%22Wylie%20Hill%20Road%22%2C%20%22oneway%22%3A%20false%2C%20%22osmid%22%3A%2019713253%2C%20%22ref%22%3A%20null%2C%20%22speed_kph%22%3A%2050.0%2C%20%22travel_time%22%3A%2059.8%2C%20%22tunnel%22%3A%20null%2C%20%22width%22%3A%20null%7D%2C%20%22type%22%3A%20%22Feature%22%7D%2C%20%7B%22bbox%22%3A%20%5B-72.390228%2C%2044.674484%2C%20-72.383255%2C%2044.704868%5D%2C%20%22geometry%22%3A%20%7B%22coordinates%22%3A%20%5B%5B-72.384591%2C%2044.674484%5D%2C%20%5B-72.384647%2C%2044.675805%5D%2C%20%5B-72.384705%2C%2044.676447%5D%2C%20%5B-72.3847267%2C%2044.6768499%5D%2C%20%5B-72.38474%2C%2044.677097%5D%2C%20%5B-72.384758%2C%2044.677531%5D%2C%20%5B-72.384751%2C%2044.677962%5D%2C%20%5B-72.384736%2C%2044.678179%5D%2C%20%5B-72.384637%2C%2044.678827%5D%2C%20%5B-72.384531%2C%2044.679474%5D%2C%20%5B-72.3844536%2C%2044.6800388%5D%2C%20%5B-72.3843238%2C%2044.6809851%5D%2C%20%5B-72.384293%2C%2044.68121%5D%2C%20%5B-72.384243%2C%2044.681649%5D%2C%20%5B-72.384228%2C%2044.6817514%5D%2C%20%5B-72.384183%2C%2044.682059%5D%2C%20%5B-72.383931%2C%2044.683333%5D%2C%20%5B-72.383822%2C%2044.683982%5D%2C%20%5B-72.383706%2C%2044.684633%5D%2C%20%5B-72.383475%2C%2044.6857%5D%2C%20%5B-72.3834121%2C%2044.6862631%5D%2C%20%5B-72.383404%2C%2044.686336%5D%2C%20%5B-72.383344%2C%2044.686981%5D%2C%20%5B-72.383274%2C%2044.687626%5D%2C%20%5B-72.383255%2C%2044.688059%5D%2C%20%5B-72.383282%2C%2044.688492%5D%2C%20%5B-72.383382%2C%2044.689137%5D%2C%20%5B-72.3834016%2C%2044.6897993%5D%2C%20%5B-72.383521%2C%2044.690439%5D%2C%20%5B-72.383549%2C%2044.690869%5D%2C%20%5B-72.383555%2C%2044.691093%5D%2C%20%5B-72.383578%2C%2044.691211%5D%2C%20%5B-72.383585%2C%2044.691244%5D%2C%20%5B-72.383685%2C%2044.691422%5D%2C%20%5B-72.383924%2C%2044.691762%5D%2C%20%5B-72.384134%2C%2044.692148%5D%2C%20%5B-72.384244%2C%2044.692332%5D%2C%20%5B-72.384371%2C%2044.692507%5D%2C%20%5B-72.384459%2C%2044.692701%5D%2C%20%5B-72.384837%2C%2044.693942%5D%2C%20%5B-72.38495%2C%2044.69435%5D%2C%20%5B-72.384978%2C%2044.694558%5D%2C%20%5B-72.384966%2C%2044.694777%5D%2C%20%5B-72.384973%2C%2044.695217%5D%2C%20%5B-72.385024%2C%2044.695633%5D%2C%20%5B-72.385066%2C%2044.695853%5D%2C%20%5B-72.385086%2C%2044.696065%5D%2C%20%5B-72.385097%2C%2044.696272%5D%2C%20%5B-72.385144%2C%2044.696481%5D%2C%20%5B-72.385197%2C%2044.696678%5D%2C%20%5B-72.385267%2C%2044.696884%5D%2C%20%5B-72.38536%2C%2044.697076%5D%2C%20%5B-72.385666%2C%2044.697638%5D%2C%20%5B-72.385994%2C%2044.698208%5D%2C%20%5B-72.386084%2C%2044.69836%5D%2C%20%5B-72.386209%2C%2044.698571%5D%2C%20%5B-72.386306%2C%2044.698763%5D%2C%20%5B-72.386472%2C%2044.699175%5D%2C%20%5B-72.3865065%2C%2044.6992512%5D%2C%20%5B-72.386823%2C%2044.699951%5D%2C%20%5B-72.3869961%2C%2044.7003858%5D%2C%20%5B-72.387143%2C%2044.700755%5D%2C%20%5B-72.387351%2C%2044.701372%5D%2C%20%5B-72.387463%2C%2044.701827%5D%2C%20%5B-72.387507%2C%2044.702005%5D%2C%20%5B-72.387568%2C%2044.702214%5D%2C%20%5B-72.3875932%2C%2044.7022891%5D%2C%20%5B-72.387774%2C%2044.702827%5D%2C%20%5B-72.387859%2C%2044.703031%5D%2C%20%5B-72.387973%2C%2044.703209%5D%2C%20%5B-72.388101%2C%2044.703384%5D%2C%20%5B-72.388206%2C%2044.703573%5D%2C%20%5B-72.388276%2C%2044.703776%5D%2C%20%5B-72.388328%2C%2044.703986%5D%2C%20%5B-72.388398%2C%2044.704188%5D%2C%20%5B-72.388468%2C%2044.704321%5D%2C%20%5B-72.388558%2C%2044.704428%5D%2C%20%5B-72.388613%2C%2044.704463%5D%2C%20%5B-72.388716%2C%2044.704503%5D%2C%20%5B-72.388748%2C%2044.704516%5D%2C%20%5B-72.388945%2C%2044.70455%5D%2C%20%5B-72.389381%2C%2044.704634%5D%2C%20%5B-72.389808%2C%2044.704725%5D%2C%20%5B-72.390051%2C%2044.704787%5D%2C%20%5B-72.390228%2C%2044.704868%5D%5D%2C%20%22type%22%3A%20%22LineString%22%7D%2C%20%22id%22%3A%20%22%28204844161%2C%20204844260%2C%200%29%22%2C%20%22properties%22%3A%20%7B%22access%22%3A%20%22yes%22%2C%20%22bridge%22%3A%20%22yes%22%2C%20%22highway%22%3A%20%22unclassified%22%2C%20%22junction%22%3A%20null%2C%20%22lanes%22%3A%20null%2C%20%22length%22%3A%203542.8089999999997%2C%20%22maxspeed%22%3A%20%2250%22%2C%20%22name%22%3A%20%22Wylie%20Hill%20Road%22%2C%20%22oneway%22%3A%20false%2C%20%22osmid%22%3A%20%5B970231207%2C%2019713253%2C%20970231206%2C%20970231143%5D%2C%20%22ref%22%3A%20null%2C%20%22speed_kph%22%3A%2050.0%2C%20%22travel_time%22%3A%20255.1%2C%20%22tunnel%22%3A%20null%2C%20%22width%22%3A%20null%7D%2C%20%22type%22%3A%20%22Feature%22%7D%2C%20%7B%22bbox%22%3A%20%5B-72.384591%2C%2044.667032%2C%20-72.383811%2C%2044.674484%5D%2C%20%22geometry%22%3A%20%7B%22coordinates%22%3A%20%5B%5B-72.384591%2C%2044.674484%5D%2C%20%5B-72.38458%2C%2044.6743358%5D%2C%20%5B-72.384548%2C%2044.673907%5D%2C%20%5B-72.384397%2C%2044.672172%5D%2C%20%5B-72.384287%2C%2044.671095%5D%2C%20%5B-72.384235%2C%2044.670664%5D%2C%20%5B-72.384173%2C%2044.670236%5D%2C%20%5B-72.3840074%2C%2044.668611%5D%2C%20%5B-72.383997%2C%2044.668509%5D%2C%20%5B-72.38384%2C%2044.667207%5D%2C%20%5B-72.383811%2C%2044.667032%5D%5D%2C%20%22type%22%3A%20%22LineString%22%7D%2C%20%22id%22%3A%20%22%28204844161%2C%20204844145%2C%200%29%22%2C%20%22properties%22%3A%20%7B%22access%22%3A%20%22yes%22%2C%20%22bridge%22%3A%20null%2C%20%22highway%22%3A%20%22unclassified%22%2C%20%22junction%22%3A%20null%2C%20%22lanes%22%3A%20null%2C%20%22length%22%3A%20830.999%2C%20%22maxspeed%22%3A%20%2250%22%2C%20%22name%22%3A%20%22Wylie%20Hill%20Road%22%2C%20%22oneway%22%3A%20false%2C%20%22osmid%22%3A%2019713253%2C%20%22ref%22%3A%20null%2C%20%22speed_kph%22%3A%2050.0%2C%20%22travel_time%22%3A%2059.8%2C%20%22tunnel%22%3A%20null%2C%20%22width%22%3A%20null%7D%2C%20%22type%22%3A%20%22Feature%22%7D%2C%20%7B%22bbox%22%3A%20%5B-72.390228%2C%2044.674484%2C%20-72.383255%2C%2044.704868%5D%2C%20%22geometry%22%3A%20%7B%22coordinates%22%3A%20%5B%5B-72.390228%2C%2044.704868%5D%2C%20%5B-72.390051%2C%2044.704787%5D%2C%20%5B-72.389808%2C%2044.704725%5D%2C%20%5B-72.389381%2C%2044.704634%5D%2C%20%5B-72.388945%2C%2044.70455%5D%2C%20%5B-72.388748%2C%2044.704516%5D%2C%20%5B-72.388716%2C%2044.704503%5D%2C%20%5B-72.388613%2C%2044.704463%5D%2C%20%5B-72.388558%2C%2044.704428%5D%2C%20%5B-72.388468%2C%2044.704321%5D%2C%20%5B-72.388398%2C%2044.704188%5D%2C%20%5B-72.388328%2C%2044.703986%5D%2C%20%5B-72.388276%2C%2044.703776%5D%2C%20%5B-72.388206%2C%2044.703573%5D%2C%20%5B-72.388101%2C%2044.703384%5D%2C%20%5B-72.387973%2C%2044.703209%5D%2C%20%5B-72.387859%2C%2044.703031%5D%2C%20%5B-72.387774%2C%2044.702827%5D%2C%20%5B-72.3875932%2C%2044.7022891%5D%2C%20%5B-72.387568%2C%2044.702214%5D%2C%20%5B-72.387507%2C%2044.702005%5D%2C%20%5B-72.387463%2C%2044.701827%5D%2C%20%5B-72.387351%2C%2044.701372%5D%2C%20%5B-72.387143%2C%2044.700755%5D%2C%20%5B-72.3869961%2C%2044.7003858%5D%2C%20%5B-72.386823%2C%2044.699951%5D%2C%20%5B-72.3865065%2C%2044.6992512%5D%2C%20%5B-72.386472%2C%2044.699175%5D%2C%20%5B-72.386306%2C%2044.698763%5D%2C%20%5B-72.386209%2C%2044.698571%5D%2C%20%5B-72.386084%2C%2044.69836%5D%2C%20%5B-72.385994%2C%2044.698208%5D%2C%20%5B-72.385666%2C%2044.697638%5D%2C%20%5B-72.38536%2C%2044.697076%5D%2C%20%5B-72.385267%2C%2044.696884%5D%2C%20%5B-72.385197%2C%2044.696678%5D%2C%20%5B-72.385144%2C%2044.696481%5D%2C%20%5B-72.385097%2C%2044.696272%5D%2C%20%5B-72.385086%2C%2044.696065%5D%2C%20%5B-72.385066%2C%2044.695853%5D%2C%20%5B-72.385024%2C%2044.695633%5D%2C%20%5B-72.384973%2C%2044.695217%5D%2C%20%5B-72.384966%2C%2044.694777%5D%2C%20%5B-72.384978%2C%2044.694558%5D%2C%20%5B-72.38495%2C%2044.69435%5D%2C%20%5B-72.384837%2C%2044.693942%5D%2C%20%5B-72.384459%2C%2044.692701%5D%2C%20%5B-72.384371%2C%2044.692507%5D%2C%20%5B-72.384244%2C%2044.692332%5D%2C%20%5B-72.384134%2C%2044.692148%5D%2C%20%5B-72.383924%2C%2044.691762%5D%2C%20%5B-72.383685%2C%2044.691422%5D%2C%20%5B-72.383585%2C%2044.691244%5D%2C%20%5B-72.383578%2C%2044.691211%5D%2C%20%5B-72.383555%2C%2044.691093%5D%2C%20%5B-72.383549%2C%2044.690869%5D%2C%20%5B-72.383521%2C%2044.690439%5D%2C%20%5B-72.3834016%2C%2044.6897993%5D%2C%20%5B-72.383382%2C%2044.689137%5D%2C%20%5B-72.383282%2C%2044.688492%5D%2C%20%5B-72.383255%2C%2044.688059%5D%2C%20%5B-72.383274%2C%2044.687626%5D%2C%20%5B-72.383344%2C%2044.686981%5D%2C%20%5B-72.383404%2C%2044.686336%5D%2C%20%5B-72.3834121%2C%2044.6862631%5D%2C%20%5B-72.383475%2C%2044.6857%5D%2C%20%5B-72.383706%2C%2044.684633%5D%2C%20%5B-72.383822%2C%2044.683982%5D%2C%20%5B-72.383931%2C%2044.683333%5D%2C%20%5B-72.384183%2C%2044.682059%5D%2C%20%5B-72.384228%2C%2044.6817514%5D%2C%20%5B-72.384243%2C%2044.681649%5D%2C%20%5B-72.384293%2C%2044.68121%5D%2C%20%5B-72.3843238%2C%2044.6809851%5D%2C%20%5B-72.3844536%2C%2044.6800388%5D%2C%20%5B-72.384531%2C%2044.679474%5D%2C%20%5B-72.384637%2C%2044.678827%5D%2C%20%5B-72.384736%2C%2044.678179%5D%2C%20%5B-72.384751%2C%2044.677962%5D%2C%20%5B-72.384758%2C%2044.677531%5D%2C%20%5B-72.38474%2C%2044.677097%5D%2C%20%5B-72.3847267%2C%2044.6768499%5D%2C%20%5B-72.384705%2C%2044.676447%5D%2C%20%5B-72.384647%2C%2044.675805%5D%2C%20%5B-72.384591%2C%2044.674484%5D%5D%2C%20%22type%22%3A%20%22LineString%22%7D%2C%20%22id%22%3A%20%22%28204844260%2C%20204844161%2C%200%29%22%2C%20%22properties%22%3A%20%7B%22access%22%3A%20%22yes%22%2C%20%22bridge%22%3A%20%22yes%22%2C%20%22highway%22%3A%20%22unclassified%22%2C%20%22junction%22%3A%20null%2C%20%22lanes%22%3A%20null%2C%20%22length%22%3A%203542.8089999999997%2C%20%22maxspeed%22%3A%20%2250%22%2C%20%22name%22%3A%20%22Wylie%20Hill%20Road%22%2C%20%22oneway%22%3A%20false%2C%20%22osmid%22%3A%20%5B19713253%2C%20970231143%2C%20970231206%2C%20970231207%5D%2C%20%22ref%22%3A%20null%2C%20%22speed_kph%22%3A%2050.0%2C%20%22travel_time%22%3A%20255.1%2C%20%22tunnel%22%3A%20null%2C%20%22width%22%3A%20null%7D%2C%20%22type%22%3A%20%22Feature%22%7D%2C%20%7B%22bbox%22%3A%20%5B-72.5999549%2C%2043.2639618%2C%20-72.5980992%2C%2043.264876%5D%2C%20%22geometry%22%3A%20%7B%22coordinates%22%3A%20%5B%5B-72.5999549%2C%2043.264876%5D%2C%20%5B-72.5997134%2C%2043.2646671%5D%2C%20%5B-72.5996247%2C%2043.2645811%5D%2C%20%5B-72.5995363%2C%2043.2645285%5D%2C%20%5B-72.599381%2C%2043.2644585%5D%2C%20%5B-72.5990723%2C%2043.2643305%5D%2C%20%5B-72.598953%2C%2043.2642829%5D%2C%20%5B-72.598596%2C%2043.2641438%5D%2C%20%5B-72.5980992%2C%2043.2639618%5D%5D%2C%20%22type%22%3A%20%22LineString%22%7D%2C%20%22id%22%3A%20%22%28205417354%2C%20205449685%2C%200%29%22%2C%20%22properties%22%3A%20%7B%22access%22%3A%20null%2C%20%22bridge%22%3A%20null%2C%20%22highway%22%3A%20%22residential%22%2C%20%22junction%22%3A%20null%2C%20%22lanes%22%3A%20null%2C%20%22length%22%3A%20183.952%2C%20%22maxspeed%22%3A%20%225%22%2C%20%22name%22%3A%20%22Common%20Street%22%2C%20%22oneway%22%3A%20true%2C%20%22osmid%22%3A%2019753604%2C%20%22ref%22%3A%20null%2C%20%22speed_kph%22%3A%205.0%2C%20%22travel_time%22%3A%20132.4%2C%20%22tunnel%22%3A%20null%2C%20%22width%22%3A%20null%7D%2C%20%22type%22%3A%20%22Feature%22%7D%2C%20%7B%22bbox%22%3A%20%5B-73.24378%2C%2043.323213%2C%20-73.243477%2C%2043.323328%5D%2C%20%22geometry%22%3A%20%7B%22coordinates%22%3A%20%5B%5B-73.243477%2C%2043.323213%5D%2C%20%5B-73.2435704%2C%2043.3232607%5D%2C%20%5B-73.2436717%2C%2043.3232994%5D%2C%20%5B-73.24378%2C%2043.323328%5D%5D%2C%20%22type%22%3A%20%22LineString%22%7D%2C%20%22id%22%3A%20%22%28205166752%2C%20205166754%2C%200%29%22%2C%20%22properties%22%3A%20%7B%22access%22%3A%20null%2C%20%22bridge%22%3A%20null%2C%20%22highway%22%3A%20%22residential%22%2C%20%22junction%22%3A%20null%2C%20%22lanes%22%3A%20null%2C%20%22length%22%3A%2027.807000000000002%2C%20%22maxspeed%22%3A%20%2230%22%2C%20%22name%22%3A%20%22Sawmill%20Road%22%2C%20%22oneway%22%3A%20false%2C%20%22osmid%22%3A%2019734699%2C%20%22ref%22%3A%20null%2C%20%22speed_kph%22%3A%2030.0%2C%20%22travel_time%22%3A%203.3%2C%20%22tunnel%22%3A%20null%2C%20%22width%22%3A%20null%7D%2C%20%22type%22%3A%20%22Feature%22%7D%2C%20%7B%22bbox%22%3A%20%5B-73.24378%2C%2043.323328%2C%20-73.243508%2C%2043.323443%5D%2C%20%22geometry%22%3A%20%7B%22coordinates%22%3A%20%5B%5B-73.24378%2C%2043.323328%5D%2C%20%5B-73.243508%2C%2043.323443%5D%5D%2C%20%22type%22%3A%20%22LineString%22%7D%2C%20%22id%22%3A%20%22%28205166754%2C%20205331970%2C%200%29%22%2C%20%22properties%22%3A%20%7B%22access%22%3A%20null%2C%20%22bridge%22%3A%20null%2C%20%22highway%22%3A%20%22residential%22%2C%20%22junction%22%3A%20null%2C%20%22lanes%22%3A%20null%2C%20%22length%22%3A%2025.449%2C%20%22maxspeed%22%3A%20%2230%22%2C%20%22name%22%3A%20%22Sawmill%20Road%22%2C%20%22oneway%22%3A%20false%2C%20%22osmid%22%3A%20919356354%2C%20%22ref%22%3A%20null%2C%20%22speed_kph%22%3A%2030.0%2C%20%22travel_time%22%3A%203.1%2C%20%22tunnel%22%3A%20null%2C%20%22width%22%3A%20null%7D%2C%20%22type%22%3A%20%22Feature%22%7D%2C%20%7B%22bbox%22%3A%20%5B-73.24378%2C%2043.323213%2C%20-73.243477%2C%2043.323328%5D%2C%20%22geometry%22%3A%20%7B%22coordinates%22%3A%20%5B%5B-73.24378%2C%2043.323328%5D%2C%20%5B-73.2436717%2C%2043.3232994%5D%2C%20%5B-73.2435704%2C%2043.3232607%5D%2C%20%5B-73.243477%2C%2043.323213%5D%5D%2C%20%22type%22%3A%20%22LineString%22%7D%2C%20%22id%22%3A%20%22%28205166754%2C%20205166752%2C%200%29%22%2C%20%22properties%22%3A%20%7B%22access%22%3A%20null%2C%20%22bridge%22%3A%20null%2C%20%22highway%22%3A%20%22residential%22%2C%20%22junction%22%3A%20null%2C%20%22lanes%22%3A%20null%2C%20%22length%22%3A%2027.807000000000002%2C%20%22maxspeed%22%3A%20%2230%22%2C%20%22name%22%3A%20%22Sawmill%20Road%22%2C%20%22oneway%22%3A%20false%2C%20%22osmid%22%3A%2019734699%2C%20%22ref%22%3A%20null%2C%20%22speed_kph%22%3A%2030.0%2C%20%22travel_time%22%3A%203.3%2C%20%22tunnel%22%3A%20null%2C%20%22width%22%3A%20null%7D%2C%20%22type%22%3A%20%22Feature%22%7D%2C%20%7B%22bbox%22%3A%20%5B-73.269614%2C%2043.320372%2C%20-73.24378%2C%2043.324355%5D%2C%20%22geometry%22%3A%20%7B%22coordinates%22%3A%20%5B%5B-73.24378%2C%2043.323328%5D%2C%20%5B-73.243943%2C%2043.323335%5D%2C%20%5B-73.245288%2C%2043.3234998%5D%2C%20%5B-73.2456229%2C%2043.3235526%5D%2C%20%5B-73.246021%2C%2043.323609%5D%2C%20%5B-73.246471%2C%2043.3236589%5D%2C%20%5B-73.2469626%2C%2043.3237135%5D%2C%20%5B-73.2469693%2C%2043.3237142%5D%2C%20%5B-73.247247%2C%2043.323745%5D%2C%20%5B-73.248753%2C%2043.323936%5D%2C%20%5B-73.250256%2C%2043.324093%5D%2C%20%5B-73.251268%2C%2043.324205%5D%2C%20%5B-73.251767%2C%2043.324286%5D%2C%20%5B-73.251914%2C%2043.324324%5D%2C%20%5B-73.252054%2C%2043.324346%5D%2C%20%5B-73.252186%2C%2043.324355%5D%2C%20%5B-73.252691%2C%2043.32432%5D%2C%20%5B-73.252831%2C%2043.324299%5D%2C%20%5B-73.252965%2C%2043.324247%5D%2C%20%5B-73.253075%2C%2043.324139%5D%2C%20%5B-73.253296%2C%2043.323774%5D%2C%20%5B-73.253438%2C%2043.32362%5D%2C%20%5B-73.253614%2C%2043.323499%5D%2C%20%5B-73.254059%2C%2043.323261%5D%2C%20%5B-73.254293%2C%2043.323169%5D%2C%20%5B-73.254388%2C%2043.323089%5D%2C%20%5B-73.254996%2C%2043.322923%5D%2C%20%5B-73.255708%2C%2043.322655%5D%2C%20%5B-73.256142%2C%2043.322504%5D%2C%20%5B-73.257473%2C%2043.321986%5D%2C%20%5B-73.257537%2C%2043.321969%5D%2C%20%5B-73.257824%2C%2043.321927%5D%2C%20%5B-73.25807%2C%2043.321878%5D%2C%20%5B-73.258413%2C%2043.321832%5D%2C%20%5B-73.258794%2C%2043.32183%5D%2C%20%5B-73.259293%2C%2043.321869%5D%2C%20%5B-73.260051%2C%2043.322018%5D%2C%20%5B-73.260315%2C%2043.322085%5D%2C%20%5B-73.260619%2C%2043.322176%5D%2C%20%5B-73.261481%2C%2043.32236%5D%2C%20%5B-73.261828%2C%2043.322484%5D%2C%20%5B-73.261974%2C%2043.322511%5D%2C%20%5B-73.262038%2C%2043.322512%5D%2C%20%5B-73.262126%2C%2043.322501%5D%2C%20%5B-73.262804%2C%2043.322369%5D%2C%20%5B-73.262973%2C%2043.322354%5D%2C%20%5B-73.263689%2C%2043.322357%5D%2C%20%5B-73.263778%2C%2043.322351%5D%2C%20%5B-73.263966%2C%2043.322314%5D%2C%20%5B-73.264896%2C%2043.322053%5D%2C%20%5B-73.265052%2C%2043.321995%5D%2C%20%5B-73.265404%2C%2043.321795%5D%2C%20%5B-73.266661%2C%2043.321161%5D%2C%20%5B-73.266773%2C%2043.321115%5D%2C%20%5B-73.267071%2C%2043.321019%5D%2C%20%5B-73.26751%2C%2043.320906%5D%2C%20%5B-73.268222%2C%2043.320759%5D%2C%20%5B-73.268442%2C%2043.320733%5D%2C%20%5B-73.268655%2C%2043.320681%5D%2C%20%5B-73.269614%2C%2043.320372%5D%5D%2C%20%22type%22%3A%20%22LineString%22%7D%2C%20%22id%22%3A%20%22%28205166754%2C%20221419028%2C%200%29%22%2C%20%22properties%22%3A%20%7B%22access%22%3A%20null%2C%20%22bridge%22%3A%20%22yes%22%2C%20%22highway%22%3A%20%22residential%22%2C%20%22junction%22%3A%20null%2C%20%22lanes%22%3A%20null%2C%20%22length%22%3A%202262.952%2C%20%22maxspeed%22%3A%20%2230%22%2C%20%22name%22%3A%20%22Sawmill%20Road%22%2C%20%22oneway%22%3A%20false%2C%20%22osmid%22%3A%20%5B20626912%2C%20919356354%2C%20919356355%2C%2019745651%5D%2C%20%22ref%22%3A%20null%2C%20%22speed_kph%22%3A%2030.0%2C%20%22travel_time%22%3A%20271.6%2C%20%22tunnel%22%3A%20null%2C%20%22width%22%3A%20null%7D%2C%20%22type%22%3A%20%22Feature%22%7D%2C%20%7B%22bbox%22%3A%20%5B-73.24378%2C%2043.323328%2C%20-73.243508%2C%2043.323443%5D%2C%20%22geometry%22%3A%20%7B%22coordinates%22%3A%20%5B%5B-73.243508%2C%2043.323443%5D%2C%20%5B-73.24378%2C%2043.323328%5D%5D%2C%20%22type%22%3A%20%22LineString%22%7D%2C%20%22id%22%3A%20%22%28205331970%2C%20205166754%2C%200%29%22%2C%20%22properties%22%3A%20%7B%22access%22%3A%20null%2C%20%22bridge%22%3A%20null%2C%20%22highway%22%3A%20%22residential%22%2C%20%22junction%22%3A%20null%2C%20%22lanes%22%3A%20null%2C%20%22length%22%3A%2025.449%2C%20%22maxspeed%22%3A%20%2230%22%2C%20%22name%22%3A%20%22Sawmill%20Road%22%2C%20%22oneway%22%3A%20false%2C%20%22osmid%22%3A%20919356354%2C%20%22ref%22%3A%20null%2C%20%22speed_kph%22%3A%2030.0%2C%20%22travel_time%22%3A%203.1%2C%20%22tunnel%22%3A%20null%2C%20%22width%22%3A%20null%7D%2C%20%22type%22%3A%20%22Feature%22%7D%2C%20%7B%22bbox%22%3A%20%5B-73.269614%2C%2043.320372%2C%20-73.24378%2C%2043.324355%5D%2C%20%22geometry%22%3A%20%7B%22coordinates%22%3A%20%5B%5B-73.269614%2C%2043.320372%5D%2C%20%5B-73.268655%2C%2043.320681%5D%2C%20%5B-73.268442%2C%2043.320733%5D%2C%20%5B-73.268222%2C%2043.320759%5D%2C%20%5B-73.26751%2C%2043.320906%5D%2C%20%5B-73.267071%2C%2043.321019%5D%2C%20%5B-73.266773%2C%2043.321115%5D%2C%20%5B-73.266661%2C%2043.321161%5D%2C%20%5B-73.265404%2C%2043.321795%5D%2C%20%5B-73.265052%2C%2043.321995%5D%2C%20%5B-73.264896%2C%2043.322053%5D%2C%20%5B-73.263966%2C%2043.322314%5D%2C%20%5B-73.263778%2C%2043.322351%5D%2C%20%5B-73.263689%2C%2043.322357%5D%2C%20%5B-73.262973%2C%2043.322354%5D%2C%20%5B-73.262804%2C%2043.322369%5D%2C%20%5B-73.262126%2C%2043.322501%5D%2C%20%5B-73.262038%2C%2043.322512%5D%2C%20%5B-73.261974%2C%2043.322511%5D%2C%20%5B-73.261828%2C%2043.322484%5D%2C%20%5B-73.261481%2C%2043.32236%5D%2C%20%5B-73.260619%2C%2043.322176%5D%2C%20%5B-73.260315%2C%2043.322085%5D%2C%20%5B-73.260051%2C%2043.322018%5D%2C%20%5B-73.259293%2C%2043.321869%5D%2C%20%5B-73.258794%2C%2043.32183%5D%2C%20%5B-73.258413%2C%2043.321832%5D%2C%20%5B-73.25807%2C%2043.321878%5D%2C%20%5B-73.257824%2C%2043.321927%5D%2C%20%5B-73.257537%2C%2043.321969%5D%2C%20%5B-73.257473%2C%2043.321986%5D%2C%20%5B-73.256142%2C%2043.322504%5D%2C%20%5B-73.255708%2C%2043.322655%5D%2C%20%5B-73.254996%2C%2043.322923%5D%2C%20%5B-73.254388%2C%2043.323089%5D%2C%20%5B-73.254293%2C%2043.323169%5D%2C%20%5B-73.254059%2C%2043.323261%5D%2C%20%5B-73.253614%2C%2043.323499%5D%2C%20%5B-73.253438%2C%2043.32362%5D%2C%20%5B-73.253296%2C%2043.323774%5D%2C%20%5B-73.253075%2C%2043.324139%5D%2C%20%5B-73.252965%2C%2043.324247%5D%2C%20%5B-73.252831%2C%2043.324299%5D%2C%20%5B-73.252691%2C%2043.32432%5D%2C%20%5B-73.252186%2C%2043.324355%5D%2C%20%5B-73.252054%2C%2043.324346%5D%2C%20%5B-73.251914%2C%2043.324324%5D%2C%20%5B-73.251767%2C%2043.324286%5D%2C%20%5B-73.251268%2C%2043.324205%5D%2C%20%5B-73.250256%2C%2043.324093%5D%2C%20%5B-73.248753%2C%2043.323936%5D%2C%20%5B-73.247247%2C%2043.323745%5D%2C%20%5B-73.2469693%2C%2043.3237142%5D%2C%20%5B-73.2469626%2C%2043.3237135%5D%2C%20%5B-73.246471%2C%2043.3236589%5D%2C%20%5B-73.246021%2C%2043.323609%5D%2C%20%5B-73.2456229%2C%2043.3235526%5D%2C%20%5B-73.245288%2C%2043.3234998%5D%2C%20%5B-73.243943%2C%2043.323335%5D%2C%20%5B-73.24378%2C%2043.323328%5D%5D%2C%20%22type%22%3A%20%22LineString%22%7D%2C%20%22id%22%3A%20%22%28221419028%2C%20205166754%2C%200%29%22%2C%20%22properties%22%3A%20%7B%22access%22%3A%20null%2C%20%22bridge%22%3A%20%22yes%22%2C%20%22highway%22%3A%20%22residential%22%2C%20%22junction%22%3A%20null%2C%20%22lanes%22%3A%20null%2C%20%22length%22%3A%202262.9519999999993%2C%20%22maxspeed%22%3A%20%2230%22%2C%20%22name%22%3A%20%22Sawmill%20Road%22%2C%20%22oneway%22%3A%20false%2C%20%22osmid%22%3A%20%5B20626912%2C%20919356354%2C%2019745651%2C%20919356355%5D%2C%20%22ref%22%3A%20null%2C%20%22speed_kph%22%3A%2030.0%2C%20%22travel_time%22%3A%20271.6%2C%20%22tunnel%22%3A%20null%2C%20%22width%22%3A%20null%7D%2C%20%22type%22%3A%20%22Feature%22%7D%5D%2C%20%22type%22%3A%20%22FeatureCollection%22%7D%29%3B%0A%0A%20%20%20%20%20%20%20%20%0A%20%20%20%20%0A%20%20%20%20geo_json_d555db30558a47d4a86a3966b2ad208b.bindTooltip%28%0A%20%20%20%20function%28layer%29%7B%0A%20%20%20%20let%20div%20%3D%20L.DomUtil.create%28%27div%27%29%3B%0A%20%20%20%20%0A%20%20%20%20let%20handleObject%20%3D%20feature%3D%3Etypeof%28feature%29%3D%3D%27object%27%20%3F%20JSON.stringify%28feature%29%20%3A%20feature%3B%0A%20%20%20%20let%20fields%20%3D%20%5B%22osmid%22%2C%20%22highway%22%2C%20%22oneway%22%2C%20%22length%22%2C%20%22speed_kph%22%2C%20%22travel_time%22%2C%20%22name%22%2C%20%22access%22%2C%20%22lanes%22%2C%20%22width%22%2C%20%22bridge%22%2C%20%22ref%22%2C%20%22maxspeed%22%2C%20%22junction%22%2C%20%22tunnel%22%5D%3B%0A%20%20%20%20let%20aliases%20%3D%20%5B%22osmid%22%2C%20%22highway%22%2C%20%22oneway%22%2C%20%22length%22%2C%20%22speed_kph%22%2C%20%22travel_time%22%2C%20%22name%22%2C%20%22access%22%2C%20%22lanes%22%2C%20%22width%22%2C%20%22bridge%22%2C%20%22ref%22%2C%20%22maxspeed%22%2C%20%22junction%22%2C%20%22tunnel%22%5D%3B%0A%20%20%20%20let%20table%20%3D%20%27%3Ctable%3E%27%20%2B%0A%20%20%20%20%20%20%20%20String%28%0A%20%20%20%20%20%20%20%20fields.map%28%0A%20%20%20%20%20%20%20%20%28v%2Ci%29%3D%3E%0A%20%20%20%20%20%20%20%20%60%3Ctr%3E%0A%20%20%20%20%20%20%20%20%20%20%20%20%3Cth%3E%24%7Baliases%5Bi%5D%7D%3C/th%3E%0A%20%20%20%20%20%20%20%20%20%20%20%20%0A%20%20%20%20%20%20%20%20%20%20%20%20%3Ctd%3E%24%7BhandleObject%28layer.feature.properties%5Bv%5D%29%7D%3C/td%3E%0A%20%20%20%20%20%20%20%20%3C/tr%3E%60%29.join%28%27%27%29%29%0A%20%20%20%20%2B%27%3C/table%3E%27%3B%0A%20%20%20%20div.innerHTML%3Dtable%3B%0A%20%20%20%20%0A%20%20%20%20return%20div%0A%20%20%20%20%7D%0A%20%20%20%20%2C%7B%22className%22%3A%20%22foliumtooltip%22%2C%20%22sticky%22%3A%20true%7D%29%3B%0A%20%20%20%20%20%20%20%20%20%20%20%20%20%20%20%20%20%20%20%20%20%0A%3C/script%3E onload=\"this.contentDocument.open();this.contentDocument.write(    decodeURIComponent(this.getAttribute('data-html')));this.contentDocument.close();\" allowfullscreen webkitallowfullscreen mozallowfullscreen></iframe></div></div>"
      ],
      "text/plain": [
       "<folium.folium.Map at 0x7f6289598340>"
      ]
     },
     "execution_count": 15,
     "metadata": {},
     "output_type": "execute_result"
    }
   ],
   "source": [
    "# find edges with speed values\n",
    "unitless = edges[edges.maxspeed.notna()]\n",
    "\n",
    "# find edges with speed values containing only a number without units\n",
    "unitless = unitless[unitless.maxspeed.str.isnumeric().fillna(False)]\n",
    "\n",
    "# explore unitless edges south of Canadian border (45 degrees latitude)\n",
    "unitless[unitless.bounds['maxy']<45].explore()\n",
    "\n",
    "# 503 road segments contain speed data without units, and these are almost exclusively in Canada.\n",
    "# It hardly seems worthwhile to fix these few segments. "
   ]
  },
  {
   "cell_type": "markdown",
   "metadata": {},
   "source": [
    "Only 503 edges in the network contain speed limit information without units, and very few of these are located within the United States."
   ]
  },
  {
   "cell_type": "markdown",
   "metadata": {
    "tags": []
   },
   "source": [
    "### Process the road network\n",
    "\n",
    "Impute speed limits with `add_edge_speeds` function. "
   ]
  },
  {
   "cell_type": "code",
   "execution_count": null,
   "metadata": {},
   "outputs": [],
   "source": [
    "%%time\n",
    "ox.speed.add_edge_speeds(G)"
   ]
  },
  {
   "cell_type": "markdown",
   "metadata": {},
   "source": [
    "Calculate travel time with the `add_edge_travel_times` function."
   ]
  },
  {
   "cell_type": "code",
   "execution_count": null,
   "metadata": {},
   "outputs": [],
   "source": [
    "%%time\n",
    "ox.speed.add_edge_travel_times(G)"
   ]
  },
  {
   "cell_type": "markdown",
   "metadata": {},
   "source": [
    "Add a point geomerty to each node in the graph, to facilitate constructing catchment area polygons later on."
   ]
  },
  {
   "cell_type": "code",
   "execution_count": null,
   "metadata": {},
   "outputs": [],
   "source": [
    "%%time\n",
    "G = network_setting(G)\n",
    "# Create point geometries for each node in the graph, to make constructing catchment area polygons easier\n",
    "for node, data in G.nodes(data=True):\n",
    "    data['geometry']=Point(data['x'], data['y'])"
   ]
  },
  {
   "cell_type": "markdown",
   "metadata": {},
   "source": [
    "#### Check speed limits\n",
    "Display all the unique speed limit values and count how many network edges (road segments) have each value."
   ]
  },
  {
   "cell_type": "code",
   "execution_count": null,
   "metadata": {},
   "outputs": [],
   "source": [
    "%%time\n",
    "# Turn network edges into a geodataframe\n",
    "edges = ox.graph_to_gdfs(G, nodes=False, edges=True)\n",
    "\n",
    "# Count frequency of each speed value\n",
    "speed_values = edges['speed_kph'].value_counts()\n",
    "\n",
    "# Ouput number of edges and frequences of speed values\n",
    "print(str(len(edges)) + \" edges in graph\")\n",
    "print(speed_values.to_string())"
   ]
  },
  {
   "cell_type": "markdown",
   "metadata": {},
   "source": [
    "Speeds have been imputed and converted to kilometers per hour."
   ]
  },
  {
   "cell_type": "code",
   "execution_count": null,
   "metadata": {},
   "outputs": [],
   "source": [
    "# calculate a color scheme for edges based on speed\n",
    "ec = ox.plot.get_edge_colors_by_attr(G, attr=\"speed_kph\", cmap='viridis')\n",
    "\n",
    "# plot edge speeds\n",
    "fig, ax = ox.plot_graph(G, node_size=0, edge_color=ec, bgcolor=\"white\")\n",
    "\n",
    "# note: the aesthetics of this could be improved!"
   ]
  },
  {
   "cell_type": "markdown",
   "metadata": {},
   "source": [
    "The graph of speed limits looks accurate, with local roads at low speeds and state and federal highways at higher speeds."
   ]
  },
  {
   "cell_type": "markdown",
   "metadata": {
    "tags": []
   },
   "source": [
    "## \"Helper\" Functions\n",
    "\n",
    "These functions are called when the model is run. \n",
    "\n",
    "### hospital_setting\n",
    "\n",
    "Finds the nearest network node for each hospital.\n",
    "\n",
    "Args:\n",
    "\n",
    "* hospital: GeoDataFrame of hospitals\n",
    "* G: OSMNX network\n",
    "\n",
    "Returns:\n",
    "\n",
    "* GeoDataFrame of hospitals with info on nearest network node"
   ]
  },
  {
   "cell_type": "code",
   "execution_count": null,
   "metadata": {},
   "outputs": [],
   "source": [
    "def hospital_setting(hospitals, nodes):\n",
    "    \n",
    "    join = gpd.sjoin_nearest(hospitals, nodes, distance_col=\"distances\")\n",
    "    \n",
    "    #rename column from osmid to nearest_osm, so that it works with other code\n",
    "    join = join.rename(columns={\"osmid\": \"nearest_osm\"})\n",
    "    \n",
    "    ## Some reformatting to get the GDF to look like it did before ##\n",
    "    # Drop columns\n",
    "    columns_to_drop = ['index_right', 'x', 'y', 'highway', 'ref', 'distances']\n",
    "    join = join[join.columns[~join.columns.isin(columns_to_drop)]]\n",
    "\n",
    "    return(join)\n"
   ]
  },
  {
   "cell_type": "markdown",
   "metadata": {
    "tags": []
   },
   "source": [
    "### pop_centroid\n",
    "\n",
    "Converts geodata (population at census tract level) to centroids\n",
    "\n",
    "Args:\n",
    "\n",
    "* pop_data: a GeodataFrame\n",
    "* pop_type: a string, either \"pop\" for at-risk population over 50 years old, or \"covid\" for COVID-19 case data\n",
    "\n",
    "Returns:\n",
    "\n",
    "* GeoDataFrame of centroids with population data. Three columns: code, pop, and geometry. Geometry is the centroid of each population. "
   ]
  },
  {
   "cell_type": "code",
   "execution_count": null,
   "metadata": {},
   "outputs": [],
   "source": [
    "def pop_centroid (pop_data, pop_type):\n",
    "\n",
    "    pop_data = pop_data.to_crs({'init': 'epsg:4326'})\n",
    "\n",
    "    #Select at risk pop where population is greater than 0\n",
    "    pop_data=pop_data[pop_data['OverFifty']>=0]\n",
    "    \n",
    "    # replace the geometry with its centroid\n",
    "    pop_data[\"geometry\"] =  pop_data[\"geometry\"].centroid\n",
    "    \n",
    "    # rename columns\n",
    "    pop_data = pop_data.rename(columns={\"GEOID\": \"code\", \"OverFifty\": \"pop\"})\n",
    "    \n",
    "    # keep only code, pop, and geometry columns\n",
    "    pop_data = pop_data[[\"code\", \"pop\", \"geometry\"]]\n",
    "    \n",
    "    return(pop_data)"
   ]
  },
  {
   "cell_type": "markdown",
   "metadata": {
    "tags": []
   },
   "source": [
    "### djikstra_cca_polygons\n",
    "\n",
    "Function written by Joe Holler + Derrick Burt. A more efficient way to calculate distance-weighted catchment areas for each hospital. First, create a dictionary (with a node and its corresponding drive time from the hospital) of all nodes within a 30 minute drive time (using networkx single_cource_dijkstra_path_length function). From here, two more dictionaries are constructed by querying the original one. From these dictionaries, single part convex hulls are created for each drive time interval and appended into a single list (one list with 3 polygon geometries). Within the list, the polygons are differenced from each other to produce three catchment areas.\n",
    "\n",
    "Args:\n",
    "* G: cleaned network graph *with node point geometries attached*\n",
    "* nearest_osm: A unique nearest node ID calculated for a single hospital\n",
    "* distances: 3 distances (in drive time) to calculate catchment areas from\n",
    "* distance_unit: unit to calculate (time)\n",
    "\n",
    "Returns:\n",
    "* A list of 3 differenced (not-overlapping) catchment area polygons (10 min poly, 20 min poly, 30 min poly)"
   ]
  },
  {
   "cell_type": "code",
   "execution_count": null,
   "metadata": {},
   "outputs": [],
   "source": [
    "def dijkstra_cca_polygons(G, nearest_osm, distances, distance_unit = \"travel_time\"):\n",
    "    \n",
    "    ## Distance_unit is given in seconds ##\n",
    "    \n",
    "    ## CREATE DICTIONARIES ##\n",
    "    # create dictionary of nearest nodes\n",
    "    nearest_nodes_30 = nx.single_source_dijkstra_path_length(G, nearest_osm, distances[2], distance_unit) # creating the largest graph from which 10 and 20 minute drive times can be extracted from\n",
    "    \n",
    "    # extract values within 20 and 10 (respectively) minutes drive times\n",
    "    nearest_nodes_20 = dict()\n",
    "    nearest_nodes_10 = dict()\n",
    "    for key, value in nearest_nodes_30.items():\n",
    "        if value <= distances[1]:\n",
    "            nearest_nodes_20[key] = value\n",
    "        if value <= distances[0]:\n",
    "            nearest_nodes_10[key] = value\n",
    "    \n",
    "    ## CREATE POLYGONS FOR 3 DISTANCE CATEGORIES (10 min, 20 min, 30 min) ##\n",
    "    \n",
    "    # 30 MIN\n",
    "    # If the graph already has a geometry attribute with point data,\n",
    "    # this line will create a GeoPandas GeoDataFrame from the nearest_nodes_30 dictionary\n",
    "    points_30 = gpd.GeoDataFrame(gpd.GeoSeries(nx.get_node_attributes(G.subgraph(nearest_nodes_30), 'geometry')))\n",
    "\n",
    "    # This line converts the nearest_nodes_30 dictionary into a Pandas data frame and joins it to points\n",
    "    # left_index=True and right_index=True are options for merge() to join on the index values\n",
    "    points_30 = points_30.merge(pd.Series(nearest_nodes_30).to_frame(), left_index=True, right_index=True)\n",
    "\n",
    "    # Re-name the columns and set the geodataframe geometry to the geometry column\n",
    "    points_30 = points_30.rename(columns={'0_x':'geometry','0_y':'z'}).set_geometry('geometry')\n",
    "\n",
    "    # Create a convex hull polygon from the points\n",
    "    polygon_30 = gpd.GeoDataFrame(gpd.GeoSeries(points_30.unary_union.convex_hull))\n",
    "    polygon_30 = polygon_30.rename(columns={0:'geometry'}).set_geometry('geometry')\n",
    "    \n",
    "    # 20 MIN # 1200 seconds!\n",
    "    # Select nodes less than or equal to 20\n",
    "    points_20 = points_30.query(\"z <= 1200\")\n",
    "    \n",
    "    # Create a convex hull polygon from the points\n",
    "    polygon_20 = gpd.GeoDataFrame(gpd.GeoSeries(points_20.unary_union.convex_hull))\n",
    "    polygon_20 = polygon_20.rename(columns={0:'geometry'}).set_geometry('geometry')\n",
    "    \n",
    "    # 10 MIN # 600 seconds!\n",
    "    # Select nodes less than or equal to 10\n",
    "    points_10 = points_30.query(\"z <= 600\")\n",
    "    \n",
    "    # Create a convex hull polygon from the points\n",
    "    polygon_10 = gpd.GeoDataFrame(gpd.GeoSeries(points_10.unary_union.convex_hull))\n",
    "    polygon_10 = polygon_10.rename(columns={0:'geometry'}).set_geometry('geometry')\n",
    "    \n",
    "    # Create empty list and append polygons\n",
    "    polygons = []\n",
    "    \n",
    "    # Append\n",
    "    polygons.append(polygon_10)\n",
    "    polygons.append(polygon_20)\n",
    "    polygons.append(polygon_30)\n",
    "    \n",
    "    # Clip the overlapping distance ploygons (create two donuts + hole)\n",
    "    for i in reversed(range(1, len(distances))):\n",
    "        polygons[i] = gpd.overlay(polygons[i], polygons[i-1], how=\"difference\")\n",
    "\n",
    "    return polygons"
   ]
  },
  {
   "cell_type": "markdown",
   "metadata": {},
   "source": [
    "### hospital_measure_acc (adjusted to incorporate dijkstra_cca_polygons)\n",
    "\n",
    "Measures the effect of a single hospital on the surrounding area. (Uses `dijkstra_cca_polygons`)\n",
    "\n",
    "Args:\n",
    "\n",
    "* \\_thread\\_id: int used to keep track of which thread this is\n",
    "* hospital: Geopandas dataframe with information on a hospital\n",
    "* pop_data: Geopandas dataframe with population data\n",
    "* distances: Distances in time to calculate accessibility for\n",
    "* weights: how to weight the different travel distances\n",
    "\n",
    "Returns:\n",
    "\n",
    "* Tuple containing:\n",
    "    * Int (\\_thread\\_id)\n",
    "    * GeoDataFrame of catchment areas with key stats"
   ]
  },
  {
   "cell_type": "code",
   "execution_count": null,
   "metadata": {},
   "outputs": [],
   "source": [
    "def hospital_measure_acc (_thread_id, hospital, pop_data, distances, weights):\n",
    "    \n",
    "    # Create polygons\n",
    "    polygons = dijkstra_cca_polygons(G, hospital['nearest_osm'], distances)\n",
    "    \n",
    "    # iterate over pop_data and check if each point is within a polygon\n",
    "    # if so, multiply the pop and weight for that polygon and appends it to num_pops. \n",
    "    num_pops = []\n",
    "    for j in pop_data.index:\n",
    "        point = pop_data['geometry'][j]\n",
    "        # Multiply polygons by weights\n",
    "        for k in range(len(polygons)):\n",
    "            if len(polygons[k]) > 0: # To exclude the weirdo (convex hull is not polygon)\n",
    "                if (point.within(polygons[k].iloc[0][\"geometry\"])):\n",
    "                    num_pops.append(pop_data['pop'][j]*weights[k])  \n",
    "    \n",
    "    # sum all the weighted populations\n",
    "    total_pop = sum(num_pops)\n",
    "    \n",
    "    # update polygons with time, total population, and ICU beds. Set CRS to 4326, then convert to 32616\n",
    "    for i in range(len(distances)):\n",
    "        polygons[i]['time']=distances[i]\n",
    "        polygons[i]['total_pop']=total_pop\n",
    "        polygons[i]['hospital_icu_beds'] = float(hospital['Adult ICU'])/polygons[i]['total_pop'] # proportion of # of beds over pops in 10 mins\n",
    "        polygons[i].crs = { 'init' : 'epsg:4326'}\n",
    "        polygons[i] = polygons[i].to_crs({'init':'epsg:32616'})\n",
    "    \n",
    "    # print the thread ID\n",
    "    print('{:.0f}'.format(_thread_id), end=\" \", flush=True)\n",
    "    \n",
    "    # return a tuple containing the thread ID and a list of copied polygons\n",
    "    return(_thread_id, [ polygon.copy(deep=True) for polygon in polygons ]) "
   ]
  },
  {
   "cell_type": "markdown",
   "metadata": {
    "tags": []
   },
   "source": [
    "### measure_acc_par\n",
    "\n",
    "Parallel implementation of accessibility measurement.\n",
    "\n",
    "Args:\n",
    "\n",
    "* hospitals: Geodataframe of hospitals\n",
    "* pop_data: Geodataframe containing population data\n",
    "* network: OSMNX street network\n",
    "* distances: list of distances to calculate catchments for\n",
    "* weights: list of floats to apply to different catchments\n",
    "* num\\_proc: number of processors to use.\n",
    "\n",
    "Returns:\n",
    "\n",
    "* Geodataframe of catchments with accessibility statistics calculated"
   ]
  },
  {
   "cell_type": "code",
   "execution_count": null,
   "metadata": {},
   "outputs": [],
   "source": [
    "def measure_acc_par (hospitals, pop_data, network, distances, weights, num_proc = 4):\n",
    "    \n",
    "    # initialize catchment list, 3 empty geodataframes\n",
    "    catchments = []\n",
    "    for distance in distances:\n",
    "        catchments.append(gpd.GeoDataFrame())\n",
    "        \n",
    "    # pool = mp.Pool(processes = num_proc)\n",
    "    \n",
    "    # makes a list of all hospital info.  len = 66\n",
    "    # looks like this, except with all info, and for all 66 hospitals\n",
    "    # [[2, Methodist Hospital of Chicago, Chicago], [4, Advocate Christ Medical Center, Oak Lawn]]\n",
    "    hospital_list = [ hospitals.iloc[i] for i in range(len(hospitals)) ]\n",
    "    \n",
    "    print(\"Calculating\", len(hospital_list), \"hospital catchments...\\ncompleted number:\", end=\" \")\n",
    "    \n",
    "    # call hospital_acc_unpacker\n",
    "    # returns a tuple containing the thread ID and a list of copied polygons\n",
    "    #results = pool.map(hospital_acc_unpacker, zip(range(len(hospital_list)), hospital_list, itertools.repeat(pop_data), itertools.repeat(distances), itertools.repeat(weights)))\n",
    "    \n",
    "    results = []  \n",
    "    for i in range(len(hospital_list)): #do from 1 to 66\n",
    "        result = hospital_measure_acc(i, hospital_list[i], pop_data, distances, weights)\n",
    "        results.append(result)\n",
    "\n",
    "    # pool.close()\n",
    "    \n",
    "    # sort and extract the results\n",
    "    results.sort()\n",
    "    results = [ r[1] for r in results ]\n",
    "    \n",
    "    # combine catchment results into the respective GeoDataFrames in the catchments list\n",
    "    for i in range(len(results)):\n",
    "        for j in range(len(distances)):\n",
    "            catchments[j] = catchments[j].append(results[i][j], sort=False)\n",
    "            \n",
    "    return catchments"
   ]
  },
  {
   "cell_type": "markdown",
   "metadata": {},
   "source": [
    "### overlapping_function\n",
    "\n",
    "Calculates how all catchment areas overlap with and affect the accessibility of each grid in our grid file.\n",
    "\n",
    "Args:\n",
    "\n",
    "* grid_file: GeoDataFrame of our grid\n",
    "* catchments: GeoDataFrame of our catchments\n",
    "* service_type: the kind of care being provided (ICU beds vs. ventilators)\n",
    "* weights: the weight to apply to each service type\n",
    "* num\\_proc: the number of processors\n",
    "\n",
    "Returns:\n",
    "\n",
    "* Geodataframe - grid\\_file with calculated stats"
   ]
  },
  {
   "cell_type": "code",
   "execution_count": null,
   "metadata": {},
   "outputs": [],
   "source": [
    "def overlapping_function (grid_file, catchments, service_type, weights, num_proc = 4):\n",
    "\n",
    "    ## Area Weighted Reaggregation\n",
    "        # set weighted to False for original 50% threshold method\n",
    "        # switch to True for area-weighted overlay\n",
    "    weighted = True\n",
    "\n",
    "    # if the value to be calculated is already in the hegaxon grid, delete it\n",
    "    # otherwise, the field name gets a suffix _1 in the overlay step\n",
    "    if resource in list(grid_file.columns.values):\n",
    "        grid_file = grid_file.drop(resource, axis = 1)\n",
    "\n",
    "    # calculate hexagon 'target' areas\n",
    "    grid_file['area'] = grid_file.area\n",
    "\n",
    "    # Intersection overlay of hospital catchments and hexagon grid\n",
    "    print(\"Intersecting hospital catchments with hexagon grid...\")\n",
    "    fragments = gpd.overlay(grid_file, geocatchments, how='intersection')\n",
    "\n",
    "    # Calculate percent coverage of the hexagon by the hospital catchment as\n",
    "    # fragment area / target(hexagon) area\n",
    "    fragments['percent'] = fragments.area / fragments['area']\n",
    "\n",
    "    # if using weighted aggregation... \n",
    "    if weighted:\n",
    "        print(\"Calculating area-weighted value...\")\n",
    "        # multiply the service/population ratio by the distance weight and the percent coverage\n",
    "        fragments['value'] = fragments[resource] * fragments['weight'] * fragments['percent']\n",
    "\n",
    "    # if using the 50% coverage rule for unweighted aggregation...\n",
    "    else:\n",
    "        print(\"Calculating value for hexagons with >=50% overlap...\")\n",
    "        # filter for only the fragments with > 50% coverage by hospital catchment\n",
    "        fragments = fragments[fragments['percent']>=0.5]\n",
    "        # multiply the service/population ration by the distance weight\n",
    "        fragments['value'] = fragments[resource] * fragments['weight']\n",
    "\n",
    "    # select just the hexagon id and value from the fragments,\n",
    "    # group the fragments by the (hexagon) id,\n",
    "    # and sum the values\n",
    "    print(\"Summarizing results by hexagon id...\")\n",
    "    sum_results = fragments[['id', 'value']].groupby(by = ['id']).sum()\n",
    "\n",
    "    # join the results to the hexagon grid_file based on hexagon id\n",
    "    print(\"Joining results to hexagons...\")\n",
    "    results = pd.merge(grid_file, sum_results, how=\"left\", on = \"id\")\n",
    "\n",
    "    # rename value column name to the resource name \n",
    "    return(results.rename(columns = {'value' : resource}))"
   ]
  },
  {
   "cell_type": "markdown",
   "metadata": {},
   "source": [
    "### normalization\n",
    "\n",
    "Normalizes our result (Geodataframe)."
   ]
  },
  {
   "cell_type": "code",
   "execution_count": null,
   "metadata": {},
   "outputs": [],
   "source": [
    "def normalization (result, resource):\n",
    "    result[resource]=(result[resource]-min(result[resource]))/(max(result[resource])-min(result[resource]))\n",
    "    return result"
   ]
  },
  {
   "cell_type": "markdown",
   "metadata": {},
   "source": [
    "### file_import\n",
    "\n",
    "Imports all files we need to run our code and pulls the Illinois network from OSMNX if it is not present (will take a while). \n",
    "\n",
    "**NOTE:** even if we calculate accessibility for just Chicago, we want to use the Illinois network (or at least we should not use the Chicago network) because using the Chicago network will result in hospitals near but outside of Chicago having an infinite distance (unreachable because roads do not extend past Chicago).\n",
    "\n",
    "Args:\n",
    "\n",
    "* pop_type: population type, either \"pop\" for general population or \"covid\" for COVID-19 cases\n",
    "* region: the region to use for our hospital and grid file (\"Chicago\" or \"Illinois\")\n",
    "\n",
    "Returns:\n",
    "\n",
    "* G: OSMNX network\n",
    "* hospitals: Geodataframe of hospitals\n",
    "* grid_file: Geodataframe of grids\n",
    "* pop_data: Geodataframe of population"
   ]
  },
  {
   "cell_type": "code",
   "execution_count": null,
   "metadata": {},
   "outputs": [],
   "source": [
    "def output_map(output_grid, base_map, hospitals, resource):\n",
    "    ax=output_grid.plot(column=resource, cmap='PuBuGn',figsize=(18,12), legend=True, zorder=1)\n",
    "    # Next two lines set bounds for our x- and y-axes because it looks like there's a weird \n",
    "    # Point at the bottom left of the map that's messing up our frame (Maja)\n",
    "    ax.set_xlim([314000, 370000])\n",
    "    ax.set_ylim([540000, 616000])\n",
    "    base_map.plot(ax=ax, facecolor=\"none\", edgecolor='gray', lw=0.1)\n",
    "    hospitals.plot(ax=ax, markersize=10, zorder=1, c='blue')"
   ]
  },
  {
   "cell_type": "markdown",
   "metadata": {},
   "source": [
    "## Run the model\n",
    "\n",
    "Below you can customize the input of the model:\n",
    "\n",
    "* Processor - the number of processors to use\n",
    "* Population - the population to calculate the measure for\n",
    "* Resource - the hospital resource of interest\n",
    "* Hospital - all hospitals or subset to check code"
   ]
  },
  {
   "cell_type": "markdown",
   "metadata": {},
   "source": [
    "### Process population data"
   ]
  },
  {
   "cell_type": "code",
   "execution_count": null,
   "metadata": {
    "tags": []
   },
   "outputs": [],
   "source": [
    "''' \n",
    "To simplify the reanalysis, in variables I will hardcode the use of \n",
    "    4 processors\n",
    "    Population: Population at Risk\n",
    "    Resource: ICU Beds\n",
    "    Hospital: All hospitals\n",
    "'''\n",
    "\n",
    "resource = \"hospital_icu_beds\"\n",
    "num_proc = 4\n",
    "pop_type = \"pop\"\n",
    "\n",
    "## Create centroids for atrisk population at the census tract level\n",
    "pop_data = pop_centroid(atrisk_data, pop_type)    \n",
    "    \n",
    "distances = [600, 1200, 1800] # Distances in travel time (seconds!)\n",
    "weights = [1.0, 0.68, 0.22] # Weights where weights[0] is applied to distances[0]"
   ]
  },
  {
   "cell_type": "code",
   "execution_count": null,
   "metadata": {},
   "outputs": [],
   "source": [
    "pop_data"
   ]
  },
  {
   "cell_type": "markdown",
   "metadata": {},
   "source": [
    "### Process hospital data"
   ]
  },
  {
   "cell_type": "code",
   "execution_count": null,
   "metadata": {},
   "outputs": [],
   "source": [
    "hospitals"
   ]
  },
  {
   "cell_type": "code",
   "execution_count": null,
   "metadata": {},
   "outputs": [],
   "source": [
    "#Finds the nearest network node for each hospital\n",
    "hospitals = hospital_setting(hospitals, nodes)"
   ]
  },
  {
   "cell_type": "code",
   "execution_count": null,
   "metadata": {},
   "outputs": [],
   "source": [
    "hospitals\n"
   ]
  },
  {
   "cell_type": "markdown",
   "metadata": {},
   "source": [
    "### Visualize catchment areas for hospital #4"
   ]
  },
  {
   "cell_type": "code",
   "execution_count": null,
   "metadata": {},
   "outputs": [],
   "source": [
    "# Create point geometries for entire graph\n",
    "\n",
    "# which hospital to visualize? \n",
    "fighosp = 4\n",
    "\n",
    "# Create catchment for hospital 4\n",
    "poly = dijkstra_cca_polygons(G, hospitals['nearest_osm'][fighosp], distances)\n",
    "\n",
    "# Reproject polygons\n",
    "for i in range(len(poly)):\n",
    "    poly[i].crs = { 'init' : 'epsg:4326'}\n",
    "    poly[i] = poly[i].to_crs({'init':'epsg:32616'})\n",
    "\n",
    "# Reproject hospitals \n",
    "hospital_subset = hospitals.iloc[[fighosp]].to_crs(epsg=32616)\n",
    "\n",
    "fig, ax = plt.subplots(figsize=(12,8))\n",
    "\n",
    "min_10 = poly[0].plot(ax=ax, color=\"royalblue\", label=\"10 min drive\")\n",
    "min_20 = poly[1].plot(ax=ax, color=\"cornflowerblue\", label=\"20 min drive\")\n",
    "min_30 = poly[2].plot(ax=ax, color=\"lightsteelblue\", label=\"30 min drive\")\n",
    "\n",
    "hospital_subset.plot(ax=ax, color=\"red\", legend=True, label = \"hospital\")\n",
    "\n",
    "# Add legend\n",
    "ax.legend()"
   ]
  },
  {
   "cell_type": "markdown",
   "metadata": {},
   "source": [
    "### Calculate hospital catchment areas"
   ]
  },
  {
   "cell_type": "code",
   "execution_count": null,
   "metadata": {},
   "outputs": [],
   "source": [
    "%%time\n",
    "\n",
    "catchments = measure_acc_par(hospitals, pop_data, G, distances, weights, num_proc)"
   ]
  },
  {
   "cell_type": "markdown",
   "metadata": {
    "tags": []
   },
   "source": [
    "### Calculate accessibility"
   ]
  },
  {
   "cell_type": "markdown",
   "metadata": {},
   "source": [
    "### Post-process the catchments (for area weighted reaggregation)"
   ]
  },
  {
   "cell_type": "code",
   "execution_count": null,
   "metadata": {},
   "outputs": [],
   "source": [
    "# add weight field to each catchment polygon\n",
    "for i in range(len(weights)):\n",
    "    catchments[i]['weight'] = weights[i]\n",
    "# combine the three sets of catchment polygons into one geodataframe\n",
    "geocatchments = pd.concat([catchments[0], catchments[1], catchments[2]])\n",
    "geocatchments"
   ]
  },
  {
   "cell_type": "markdown",
   "metadata": {},
   "source": [
    "### Area Weighted Reaagregation"
   ]
  },
  {
   "cell_type": "code",
   "execution_count": null,
   "metadata": {},
   "outputs": [],
   "source": [
    "%%time\n",
    "result = overlapping_function(grid_file, catchments, resource, weights, num_proc)"
   ]
  },
  {
   "cell_type": "code",
   "execution_count": null,
   "metadata": {},
   "outputs": [],
   "source": [
    "%%time\n",
    "result = normalization (result, resource)"
   ]
  },
  {
   "cell_type": "markdown",
   "metadata": {},
   "source": [
    "## Results & Discussion\n",
    "\n",
    "Extensive cleaning of unneccesary variables and lines of code that were never called.\n",
    "\n",
    "### Making code more efficient and easier to read with GeoPandas\n",
    "\n",
    "1. Made the __pop_centroid__ function much faster - preciosly took 3:30 to run, now less than a second. Instead of creating an empty GDF and iterating over all of the population geometries, adding data to this new GDF, I just used the native GeoPandas centroid method, replacing the population geometries with centroids, and then dropping other unnecessary columns from atrisk_data. \n",
    "\n",
    "2. Rewrote the __hospital_setting__ function to find each hospital's nearest node using GeoPandas nearest join method. What took 1:20 to run now runs in less than a second. I also cleaned the GDF so that it matched what we were working with before. \n",
    "\n",
    "### Removed parallel processing from two functions. \n",
    "\n",
    "1. __overlapping_function__\n",
    "2. __measure_acc_par__\n",
    "\n",
    "### Theoretical Changes to the methodology\n",
    "\n",
    "Area weighted reaggregation - \n",
    "assigned speeds to the road network using osnmx. \n",
    "\n",
    "### Simplifying Code for future students\n",
    "\n",
    "My greatest contribution to this replication has been the simplification of code and adding documentation to functions. This has made the code much easier for future students to read through and understand, and has not sacrificed processing times. I also made a visual workflow, visualizing the replication study from start to finish, including all data and functions used to manipulate them. \n",
    "\n",
    "Simplifications include:\n",
    "\n",
    "I removed the dropdown menu that allows you to choose between population groups and hospital data. The benefits of this dropdown options were minimal, and it just made the code more confusing to follow and modify. In the form of a dropdown selection, it prevents the study from being one script, and introduces potential error as groups try to replicate eachother, if they are not clear about which choices they made with their mouse in the dropdown. \n",
    "\n",
    "I was able to delete the function __overlap_calc__, after implementing its function into __overlapping_function__ which was implements the area weighted reaggregation.\n",
    "\n",
    "I removed a code block that filtered rows where the \"hospital_icu_beds\" value is infinity, which did not do anything. \n",
    "\n"
   ]
  },
  {
   "cell_type": "markdown",
   "metadata": {
    "tags": []
   },
   "source": [
    "### Accessibility Map"
   ]
  },
  {
   "cell_type": "code",
   "execution_count": null,
   "metadata": {},
   "outputs": [],
   "source": [
    "%%time\n",
    "hospitals = hospitals.to_crs({'init': 'epsg:26971'})\n",
    "result = result.to_crs({'init': 'epsg:26971'})\n",
    "output_map(result, pop_data, hospitals, resource)"
   ]
  },
  {
   "cell_type": "markdown",
   "metadata": {},
   "source": [
    "Classified Accessibility Outputs"
   ]
  },
  {
   "cell_type": "markdown",
   "metadata": {},
   "source": [
    "### Conclusion\n",
    "\n",
    "to be written."
   ]
  },
  {
   "cell_type": "markdown",
   "metadata": {},
   "source": [
    "### References\n",
    "\n",
    "Luo, W., & Qi, Y. (2009). An enhanced two-step floating catchment area (E2SFCA) method for measuring spatial accessibility to primary care physicians. Health & place, 15(4), 1100-1107."
   ]
  }
 ],
 "metadata": {
  "kernelspec": {
   "display_name": "Python 3-0.9.0",
   "language": "python",
   "name": "python3-0.9.0"
  },
  "language_info": {
   "codemirror_mode": {
    "name": "ipython",
    "version": 3
   },
   "file_extension": ".py",
   "mimetype": "text/x-python",
   "name": "python",
   "nbconvert_exporter": "python",
   "pygments_lexer": "ipython3",
   "version": "3.8.12"
  }
 },
 "nbformat": 4,
 "nbformat_minor": 4
}
