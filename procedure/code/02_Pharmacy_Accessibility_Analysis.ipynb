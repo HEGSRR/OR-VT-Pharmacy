{
 "cells": [
  {
   "cell_type": "markdown",
   "metadata": {
    "tags": []
   },
   "source": [
    "## A Spatio-Temporal Accessibility Analysis of Pharmacy Care in Vermont, USA\n",
    "---\n",
    "\n",
    "Extends and adapts studies *by* Kang, J. Y., A. Michels, F. Lyu, Shaohua Wang, N. Agbodo, V. L. Freeman, and Shaowen Wang. 2020. Rapidly measuring spatial accessibility of COVID-19 healthcare resources: a case study of Illinois, USA. International Journal of Health Geographics 19 (1):1–17. DOI:[10.1186/s12942-020-00229-x](https://ij-healthgeographics.biomedcentral.com/articles/10.1186/s12942-020-00229-x) AND Holler, J., Burt, D., Udoh, K., & Kedron, P. (2022). Reproduction and Reanalysis of Kang et al 2020 Spatial Accessibility of COVID-19 Health Care Resources. https://doi.org/10.17605/OSF.IO/N92V3\n",
    "\n",
    "\n",
    "\n",
    "Authors: Sam Roubin, Joseph Holler, Peter Kedron\n",
    "\n",
    "Reproduction Materials Available at: https://github.com/samroubin/VTPharmacy/tree/main\n",
    "\n",
    "Created: `2024-01-14`\n",
    "Revised: `2023-01-`"
   ]
  },
  {
   "cell_type": "markdown",
   "metadata": {
    "tags": []
   },
   "source": [
    "### Original Data\n",
    "To perform the ESFCA method, three types of data are required, as follows: (1) road network, (2) population, and (3) pharmacy information. The road network can be obtained from the [OpenStreetMap Python Library, called OSMNX](https://github.com/gboeing/osmnx). The population data is available from the US Census Bureau on the [American Community Survey]. Lastly, hospital information available on our GitHub repository: "
   ]
  },
  {
   "cell_type": "markdown",
   "metadata": {},
   "source": [
    "### Modules\n",
    "Import necessary libraries to run this model.\n",
    "See `environment.yml` for the library versions used for this analysis."
   ]
  },
  {
   "cell_type": "code",
   "execution_count": 1,
   "metadata": {},
   "outputs": [
    {
     "name": "stdout",
     "output_type": "stream",
     "text": [
      "numpy==1.22.0\n",
      "pandas==1.3.5\n",
      "geopandas==0.10.2\n",
      "networkx==2.6.3\n",
      "osmnx==1.1.2\n",
      "re==2.2.1\n",
      "folium==0.12.1.post1\n",
      "IPython==8.3.0\n",
      "requests==2.27.1\n"
     ]
    }
   ],
   "source": [
    "# Import modules\n",
    "import numpy as np\n",
    "import pandas as pd\n",
    "import geopandas as gpd\n",
    "import networkx as nx\n",
    "import osmnx as ox\n",
    "import re\n",
    "from shapely.geometry import Point, LineString, Polygon\n",
    "import matplotlib.pyplot as plt\n",
    "from tqdm import tqdm\n",
    "import multiprocessing as mp\n",
    "import folium\n",
    "import itertools\n",
    "import os\n",
    "import time\n",
    "import warnings\n",
    "import IPython\n",
    "import requests\n",
    "from IPython.display import display, clear_output\n",
    "from shapely.ops import nearest_points   #for hospital_setting function\n",
    "\n",
    "warnings.filterwarnings(\"ignore\")\n",
    "print('\\n'.join(f'{m.__name__}=={m.__version__}' for m in globals().values() if getattr(m, '__version__', None)))"
   ]
  },
  {
   "cell_type": "markdown",
   "metadata": {},
   "source": [
    "## Check Directories\n"
   ]
  },
  {
   "cell_type": "code",
   "execution_count": 2,
   "metadata": {},
   "outputs": [
    {
     "data": {
      "text/plain": [
       "'/home/jovyan/work/VTPharmacy/procedure/code'"
      ]
     },
     "execution_count": 2,
     "metadata": {},
     "output_type": "execute_result"
    }
   ],
   "source": [
    "# Check working directory\n",
    "os.getcwd()"
   ]
  },
  {
   "cell_type": "code",
   "execution_count": 3,
   "metadata": {},
   "outputs": [
    {
     "data": {
      "text/plain": [
       "'/home/jovyan/work/VTPharmacy'"
      ]
     },
     "execution_count": 3,
     "metadata": {},
     "output_type": "execute_result"
    }
   ],
   "source": [
    "# Use to set work directory properly\n",
    "if os.path.basename(os.getcwd()) == 'code':\n",
    "    os.chdir('../../')\n",
    "os.getcwd()"
   ]
  },
  {
   "cell_type": "markdown",
   "metadata": {},
   "source": [
    "## Load and Visualize Data\n",
    "\n",
    "### Population by town for all states in study area (VT, NH, MA, NY)"
   ]
  },
  {
   "cell_type": "code",
   "execution_count": 43,
   "metadata": {},
   "outputs": [
    {
     "data": {
      "text/plain": [
       "1895"
      ]
     },
     "execution_count": 43,
     "metadata": {},
     "output_type": "execute_result"
    }
   ],
   "source": [
    "len(final_population_df)"
   ]
  },
  {
   "cell_type": "code",
   "execution_count": 4,
   "metadata": {},
   "outputs": [
    {
     "data": {
      "text/html": [
       "<div>\n",
       "<style scoped>\n",
       "    .dataframe tbody tr th:only-of-type {\n",
       "        vertical-align: middle;\n",
       "    }\n",
       "\n",
       "    .dataframe tbody tr th {\n",
       "        vertical-align: top;\n",
       "    }\n",
       "\n",
       "    .dataframe thead th {\n",
       "        text-align: right;\n",
       "    }\n",
       "</style>\n",
       "<table border=\"1\" class=\"dataframe\">\n",
       "  <thead>\n",
       "    <tr style=\"text-align: right;\">\n",
       "      <th></th>\n",
       "      <th>GEOID</th>\n",
       "      <th>fips_state</th>\n",
       "      <th>fips_county</th>\n",
       "      <th>fips_subdivision</th>\n",
       "      <th>subdivision_name</th>\n",
       "      <th>total_pop</th>\n",
       "      <th>elderly_pop</th>\n",
       "      <th>pct_elderly</th>\n",
       "      <th>geometry</th>\n",
       "      <th>necta</th>\n",
       "    </tr>\n",
       "  </thead>\n",
       "  <tbody>\n",
       "    <tr>\n",
       "      <th>0</th>\n",
       "      <td>5001773675</td>\n",
       "      <td>50</td>\n",
       "      <td>017</td>\n",
       "      <td>73675</td>\n",
       "      <td>Tunbridge town, Orange County, Vermont</td>\n",
       "      <td>1337.0</td>\n",
       "      <td>189.0</td>\n",
       "      <td>14.136126</td>\n",
       "      <td>MULTIPOLYGON (((494016.737 152571.233, 494092....</td>\n",
       "      <td>NaN</td>\n",
       "    </tr>\n",
       "    <tr>\n",
       "      <th>1</th>\n",
       "      <td>5000975175</td>\n",
       "      <td>50</td>\n",
       "      <td>009</td>\n",
       "      <td>75175</td>\n",
       "      <td>Victory town, Essex County, Vermont</td>\n",
       "      <td>70.0</td>\n",
       "      <td>19.0</td>\n",
       "      <td>27.142857</td>\n",
       "      <td>MULTIPOLYGON (((546966.722 227691.457, 547619....</td>\n",
       "      <td>NaN</td>\n",
       "    </tr>\n",
       "    <tr>\n",
       "      <th>2</th>\n",
       "      <td>5000902162</td>\n",
       "      <td>50</td>\n",
       "      <td>009</td>\n",
       "      <td>02162</td>\n",
       "      <td>Avery's gore, Essex County, Vermont</td>\n",
       "      <td>0.0</td>\n",
       "      <td>0.0</td>\n",
       "      <td>NaN</td>\n",
       "      <td>MULTIPOLYGON (((551630.172 271974.320, 556994....</td>\n",
       "      <td>NaN</td>\n",
       "    </tr>\n",
       "    <tr>\n",
       "      <th>3</th>\n",
       "      <td>5000159650</td>\n",
       "      <td>50</td>\n",
       "      <td>001</td>\n",
       "      <td>59650</td>\n",
       "      <td>Ripton town, Addison County, Vermont</td>\n",
       "      <td>739.0</td>\n",
       "      <td>145.0</td>\n",
       "      <td>19.621110</td>\n",
       "      <td>MULTIPOLYGON (((454852.030 171483.437, 457345....</td>\n",
       "      <td>NaN</td>\n",
       "    </tr>\n",
       "    <tr>\n",
       "      <th>4</th>\n",
       "      <td>5000108575</td>\n",
       "      <td>50</td>\n",
       "      <td>001</td>\n",
       "      <td>08575</td>\n",
       "      <td>Bridport town, Addison County, Vermont</td>\n",
       "      <td>1225.0</td>\n",
       "      <td>284.0</td>\n",
       "      <td>23.183673</td>\n",
       "      <td>MULTIPOLYGON (((426786.611 165125.435, 426899....</td>\n",
       "      <td>NaN</td>\n",
       "    </tr>\n",
       "  </tbody>\n",
       "</table>\n",
       "</div>"
      ],
      "text/plain": [
       "        GEOID fips_state fips_county fips_subdivision  \\\n",
       "0  5001773675         50         017            73675   \n",
       "1  5000975175         50         009            75175   \n",
       "2  5000902162         50         009            02162   \n",
       "3  5000159650         50         001            59650   \n",
       "4  5000108575         50         001            08575   \n",
       "\n",
       "                         subdivision_name  total_pop  elderly_pop  \\\n",
       "0  Tunbridge town, Orange County, Vermont     1337.0        189.0   \n",
       "1     Victory town, Essex County, Vermont       70.0         19.0   \n",
       "2     Avery's gore, Essex County, Vermont        0.0          0.0   \n",
       "3    Ripton town, Addison County, Vermont      739.0        145.0   \n",
       "4  Bridport town, Addison County, Vermont     1225.0        284.0   \n",
       "\n",
       "   pct_elderly                                           geometry necta  \n",
       "0    14.136126  MULTIPOLYGON (((494016.737 152571.233, 494092....   NaN  \n",
       "1    27.142857  MULTIPOLYGON (((546966.722 227691.457, 547619....   NaN  \n",
       "2          NaN  MULTIPOLYGON (((551630.172 271974.320, 556994....   NaN  \n",
       "3    19.621110  MULTIPOLYGON (((454852.030 171483.437, 457345....   NaN  \n",
       "4    23.183673  MULTIPOLYGON (((426786.611 165125.435, 426899....   NaN  "
      ]
     },
     "execution_count": 4,
     "metadata": {},
     "output_type": "execute_result"
    }
   ],
   "source": [
    "# Read in population data by town\n",
    "population_df = gpd.read_file('./data/raw/public/population/popdata_allstates.gpkg')\n",
    "population_df.head()\n",
    "\n",
    "\n",
    "# Read in metropolitan / micropolitan classifications (NECTAS)\n",
    "nectas_df =  gpd.read_file('./data/raw/public/population/nectas.csv')\n",
    "nectas_df.head()\n",
    "\n",
    "\n",
    "# Join NECTAS classifications to population data with subdivision and county FIPS\n",
    "final_population_df = pd.merge(population_df, nectas_df[['fips_subdivision', 'necta', 'fips_county', 'fips_state']], on=['fips_subdivision','fips_county', 'fips_state'], how = 'left')\n",
    "final_population_df.head()\n",
    "\n",
    "\n",
    "# Save as geopackage into public/derived\n",
    "\n"
   ]
  },
  {
   "cell_type": "code",
   "execution_count": 5,
   "metadata": {},
   "outputs": [
    {
     "ename": "TypeError",
     "evalue": "'NoneType' object is not subscriptable",
     "output_type": "error",
     "traceback": [
      "\u001b[0;31m---------------------------------------------------------------------------\u001b[0m",
      "\u001b[0;31mTypeError\u001b[0m                                 Traceback (most recent call last)",
      "File \u001b[0;32m/cvmfs/cybergis.illinois.edu/software/conda/cybergisx/python3-0.9.0/lib/python3.8/site-packages/IPython/core/formatters.py:343\u001b[0m, in \u001b[0;36mBaseFormatter.__call__\u001b[0;34m(self, obj)\u001b[0m\n\u001b[1;32m    341\u001b[0m     method \u001b[38;5;241m=\u001b[39m get_real_method(obj, \u001b[38;5;28mself\u001b[39m\u001b[38;5;241m.\u001b[39mprint_method)\n\u001b[1;32m    342\u001b[0m     \u001b[38;5;28;01mif\u001b[39;00m method \u001b[38;5;129;01mis\u001b[39;00m \u001b[38;5;129;01mnot\u001b[39;00m \u001b[38;5;28;01mNone\u001b[39;00m:\n\u001b[0;32m--> 343\u001b[0m         \u001b[38;5;28;01mreturn\u001b[39;00m \u001b[43mmethod\u001b[49m\u001b[43m(\u001b[49m\u001b[43m)\u001b[49m\n\u001b[1;32m    344\u001b[0m     \u001b[38;5;28;01mreturn\u001b[39;00m \u001b[38;5;28;01mNone\u001b[39;00m\n\u001b[1;32m    345\u001b[0m \u001b[38;5;28;01melse\u001b[39;00m:\n",
      "File \u001b[0;32m/cvmfs/cybergis.illinois.edu/software/conda/cybergisx/python3-0.9.0/lib/python3.8/site-packages/folium/folium.py:299\u001b[0m, in \u001b[0;36mMap._repr_html_\u001b[0;34m(self, **kwargs)\u001b[0m\n\u001b[1;32m    297\u001b[0m     \u001b[38;5;28mself\u001b[39m\u001b[38;5;241m.\u001b[39m_parent \u001b[38;5;241m=\u001b[39m \u001b[38;5;28;01mNone\u001b[39;00m\n\u001b[1;32m    298\u001b[0m \u001b[38;5;28;01melse\u001b[39;00m:\n\u001b[0;32m--> 299\u001b[0m     out \u001b[38;5;241m=\u001b[39m \u001b[38;5;28;43mself\u001b[39;49m\u001b[38;5;241;43m.\u001b[39;49m\u001b[43m_parent\u001b[49m\u001b[38;5;241;43m.\u001b[39;49m\u001b[43m_repr_html_\u001b[49m\u001b[43m(\u001b[49m\u001b[38;5;241;43m*\u001b[39;49m\u001b[38;5;241;43m*\u001b[39;49m\u001b[43mkwargs\u001b[49m\u001b[43m)\u001b[49m\n\u001b[1;32m    300\u001b[0m \u001b[38;5;28;01mreturn\u001b[39;00m out\n",
      "File \u001b[0;32m/cvmfs/cybergis.illinois.edu/software/conda/cybergisx/python3-0.9.0/lib/python3.8/site-packages/branca/element.py:331\u001b[0m, in \u001b[0;36mFigure._repr_html_\u001b[0;34m(self, **kwargs)\u001b[0m\n\u001b[1;32m    322\u001b[0m \u001b[38;5;28;01mdef\u001b[39;00m \u001b[38;5;21m_repr_html_\u001b[39m(\u001b[38;5;28mself\u001b[39m, \u001b[38;5;241m*\u001b[39m\u001b[38;5;241m*\u001b[39mkwargs):\n\u001b[1;32m    323\u001b[0m     \u001b[38;5;124;03m\"\"\"Displays the Figure in a Jupyter notebook.\u001b[39;00m\n\u001b[1;32m    324\u001b[0m \n\u001b[1;32m    325\u001b[0m \u001b[38;5;124;03m    Percent-encoded HTML is stored in data-html attribute, which is used to populate\u001b[39;00m\n\u001b[0;32m   (...)\u001b[0m\n\u001b[1;32m    329\u001b[0m \n\u001b[1;32m    330\u001b[0m \u001b[38;5;124;03m    \"\"\"\u001b[39;00m\n\u001b[0;32m--> 331\u001b[0m     html \u001b[38;5;241m=\u001b[39m urllib\u001b[38;5;241m.\u001b[39mparse\u001b[38;5;241m.\u001b[39mquote(\u001b[38;5;28;43mself\u001b[39;49m\u001b[38;5;241;43m.\u001b[39;49m\u001b[43mrender\u001b[49m\u001b[43m(\u001b[49m\u001b[38;5;241;43m*\u001b[39;49m\u001b[38;5;241;43m*\u001b[39;49m\u001b[43mkwargs\u001b[49m\u001b[43m)\u001b[49m)\n\u001b[1;32m    332\u001b[0m     onload \u001b[38;5;241m=\u001b[39m (\n\u001b[1;32m    333\u001b[0m         \u001b[38;5;124m'\u001b[39m\u001b[38;5;124mthis.contentDocument.open();\u001b[39m\u001b[38;5;124m'\u001b[39m\n\u001b[1;32m    334\u001b[0m         \u001b[38;5;124m'\u001b[39m\u001b[38;5;124mthis.contentDocument.write(\u001b[39m\u001b[38;5;124m'\u001b[39m\n\u001b[0;32m   (...)\u001b[0m\n\u001b[1;32m    337\u001b[0m         \u001b[38;5;124m'\u001b[39m\u001b[38;5;124mthis.contentDocument.close();\u001b[39m\u001b[38;5;124m'\u001b[39m\n\u001b[1;32m    338\u001b[0m     )\n\u001b[1;32m    340\u001b[0m     \u001b[38;5;28;01mif\u001b[39;00m \u001b[38;5;28mself\u001b[39m\u001b[38;5;241m.\u001b[39mheight \u001b[38;5;129;01mis\u001b[39;00m \u001b[38;5;28;01mNone\u001b[39;00m:\n",
      "File \u001b[0;32m/cvmfs/cybergis.illinois.edu/software/conda/cybergisx/python3-0.9.0/lib/python3.8/site-packages/branca/element.py:319\u001b[0m, in \u001b[0;36mFigure.render\u001b[0;34m(self, **kwargs)\u001b[0m\n\u001b[1;32m    317\u001b[0m \u001b[38;5;124;03m\"\"\"Renders the HTML representation of the element.\"\"\"\u001b[39;00m\n\u001b[1;32m    318\u001b[0m \u001b[38;5;28;01mfor\u001b[39;00m name, child \u001b[38;5;129;01min\u001b[39;00m \u001b[38;5;28mself\u001b[39m\u001b[38;5;241m.\u001b[39m_children\u001b[38;5;241m.\u001b[39mitems():\n\u001b[0;32m--> 319\u001b[0m     \u001b[43mchild\u001b[49m\u001b[38;5;241;43m.\u001b[39;49m\u001b[43mrender\u001b[49m\u001b[43m(\u001b[49m\u001b[38;5;241;43m*\u001b[39;49m\u001b[38;5;241;43m*\u001b[39;49m\u001b[43mkwargs\u001b[49m\u001b[43m)\u001b[49m\n\u001b[1;32m    320\u001b[0m \u001b[38;5;28;01mreturn\u001b[39;00m \u001b[38;5;28mself\u001b[39m\u001b[38;5;241m.\u001b[39m_template\u001b[38;5;241m.\u001b[39mrender(this\u001b[38;5;241m=\u001b[39m\u001b[38;5;28mself\u001b[39m, kwargs\u001b[38;5;241m=\u001b[39mkwargs)\n",
      "File \u001b[0;32m/cvmfs/cybergis.illinois.edu/software/conda/cybergisx/python3-0.9.0/lib/python3.8/site-packages/folium/folium.py:368\u001b[0m, in \u001b[0;36mMap.render\u001b[0;34m(self, **kwargs)\u001b[0m\n\u001b[1;32m    349\u001b[0m figure\u001b[38;5;241m.\u001b[39mheader\u001b[38;5;241m.\u001b[39madd_child(Element(\n\u001b[1;32m    350\u001b[0m     \u001b[38;5;124m'\u001b[39m\u001b[38;5;124m<style>html, body \u001b[39m\u001b[38;5;124m{\u001b[39m\u001b[38;5;124m'\u001b[39m\n\u001b[1;32m    351\u001b[0m     \u001b[38;5;124m'\u001b[39m\u001b[38;5;124mwidth: 100\u001b[39m\u001b[38;5;124m%\u001b[39m\u001b[38;5;124m;\u001b[39m\u001b[38;5;124m'\u001b[39m\n\u001b[0;32m   (...)\u001b[0m\n\u001b[1;32m    355\u001b[0m     \u001b[38;5;124m'\u001b[39m\u001b[38;5;124m}\u001b[39m\u001b[38;5;124m'\u001b[39m\n\u001b[1;32m    356\u001b[0m     \u001b[38;5;124m'\u001b[39m\u001b[38;5;124m</style>\u001b[39m\u001b[38;5;124m'\u001b[39m), name\u001b[38;5;241m=\u001b[39m\u001b[38;5;124m'\u001b[39m\u001b[38;5;124mcss_style\u001b[39m\u001b[38;5;124m'\u001b[39m)\n\u001b[1;32m    358\u001b[0m figure\u001b[38;5;241m.\u001b[39mheader\u001b[38;5;241m.\u001b[39madd_child(Element(\n\u001b[1;32m    359\u001b[0m     \u001b[38;5;124m'\u001b[39m\u001b[38;5;124m<style>#map \u001b[39m\u001b[38;5;124m{\u001b[39m\u001b[38;5;124m'\u001b[39m\n\u001b[1;32m    360\u001b[0m     \u001b[38;5;124m'\u001b[39m\u001b[38;5;124mposition:absolute;\u001b[39m\u001b[38;5;124m'\u001b[39m\n\u001b[0;32m   (...)\u001b[0m\n\u001b[1;32m    365\u001b[0m     \u001b[38;5;124m'\u001b[39m\u001b[38;5;124m}\u001b[39m\u001b[38;5;124m'\u001b[39m\n\u001b[1;32m    366\u001b[0m     \u001b[38;5;124m'\u001b[39m\u001b[38;5;124m</style>\u001b[39m\u001b[38;5;124m'\u001b[39m), name\u001b[38;5;241m=\u001b[39m\u001b[38;5;124m'\u001b[39m\u001b[38;5;124mmap_style\u001b[39m\u001b[38;5;124m'\u001b[39m)\n\u001b[0;32m--> 368\u001b[0m \u001b[38;5;28;43msuper\u001b[39;49m\u001b[43m(\u001b[49m\u001b[43mMap\u001b[49m\u001b[43m,\u001b[49m\u001b[43m \u001b[49m\u001b[38;5;28;43mself\u001b[39;49m\u001b[43m)\u001b[49m\u001b[38;5;241;43m.\u001b[39;49m\u001b[43mrender\u001b[49m\u001b[43m(\u001b[49m\u001b[38;5;241;43m*\u001b[39;49m\u001b[38;5;241;43m*\u001b[39;49m\u001b[43mkwargs\u001b[49m\u001b[43m)\u001b[49m\n",
      "File \u001b[0;32m/cvmfs/cybergis.illinois.edu/software/conda/cybergisx/python3-0.9.0/lib/python3.8/site-packages/folium/elements.py:21\u001b[0m, in \u001b[0;36mJSCSSMixin.render\u001b[0;34m(self, **kwargs)\u001b[0m\n\u001b[1;32m     18\u001b[0m \u001b[38;5;28;01mfor\u001b[39;00m name, url \u001b[38;5;129;01min\u001b[39;00m \u001b[38;5;28mself\u001b[39m\u001b[38;5;241m.\u001b[39mdefault_css:\n\u001b[1;32m     19\u001b[0m     figure\u001b[38;5;241m.\u001b[39mheader\u001b[38;5;241m.\u001b[39madd_child(CssLink(url), name\u001b[38;5;241m=\u001b[39mname)\n\u001b[0;32m---> 21\u001b[0m \u001b[38;5;28;43msuper\u001b[39;49m\u001b[43m(\u001b[49m\u001b[43m)\u001b[49m\u001b[38;5;241;43m.\u001b[39;49m\u001b[43mrender\u001b[49m\u001b[43m(\u001b[49m\u001b[38;5;241;43m*\u001b[39;49m\u001b[38;5;241;43m*\u001b[39;49m\u001b[43mkwargs\u001b[49m\u001b[43m)\u001b[49m\n",
      "File \u001b[0;32m/cvmfs/cybergis.illinois.edu/software/conda/cybergisx/python3-0.9.0/lib/python3.8/site-packages/branca/element.py:643\u001b[0m, in \u001b[0;36mMacroElement.render\u001b[0;34m(self, **kwargs)\u001b[0m\n\u001b[1;32m    639\u001b[0m     figure\u001b[38;5;241m.\u001b[39mscript\u001b[38;5;241m.\u001b[39madd_child(Element(script(\u001b[38;5;28mself\u001b[39m, kwargs)),\n\u001b[1;32m    640\u001b[0m                             name\u001b[38;5;241m=\u001b[39m\u001b[38;5;28mself\u001b[39m\u001b[38;5;241m.\u001b[39mget_name())\n\u001b[1;32m    642\u001b[0m \u001b[38;5;28;01mfor\u001b[39;00m name, element \u001b[38;5;129;01min\u001b[39;00m \u001b[38;5;28mself\u001b[39m\u001b[38;5;241m.\u001b[39m_children\u001b[38;5;241m.\u001b[39mitems():\n\u001b[0;32m--> 643\u001b[0m     \u001b[43melement\u001b[49m\u001b[38;5;241;43m.\u001b[39;49m\u001b[43mrender\u001b[49m\u001b[43m(\u001b[49m\u001b[38;5;241;43m*\u001b[39;49m\u001b[38;5;241;43m*\u001b[39;49m\u001b[43mkwargs\u001b[49m\u001b[43m)\u001b[49m\n",
      "File \u001b[0;32m/cvmfs/cybergis.illinois.edu/software/conda/cybergisx/python3-0.9.0/lib/python3.8/site-packages/folium/features.py:626\u001b[0m, in \u001b[0;36mGeoJson.render\u001b[0;34m(self, **kwargs)\u001b[0m\n\u001b[1;32m    623\u001b[0m     \u001b[38;5;28;01mif\u001b[39;00m \u001b[38;5;28mself\u001b[39m\u001b[38;5;241m.\u001b[39mhighlight:\n\u001b[1;32m    624\u001b[0m         \u001b[38;5;28mself\u001b[39m\u001b[38;5;241m.\u001b[39mhighlight_map \u001b[38;5;241m=\u001b[39m mapper\u001b[38;5;241m.\u001b[39mget_highlight_map(\n\u001b[1;32m    625\u001b[0m             \u001b[38;5;28mself\u001b[39m\u001b[38;5;241m.\u001b[39mhighlight_function)\n\u001b[0;32m--> 626\u001b[0m \u001b[38;5;28;43msuper\u001b[39;49m\u001b[43m(\u001b[49m\u001b[43mGeoJson\u001b[49m\u001b[43m,\u001b[49m\u001b[43m \u001b[49m\u001b[38;5;28;43mself\u001b[39;49m\u001b[43m)\u001b[49m\u001b[38;5;241;43m.\u001b[39;49m\u001b[43mrender\u001b[49m\u001b[43m(\u001b[49m\u001b[43m)\u001b[49m\n",
      "File \u001b[0;32m/cvmfs/cybergis.illinois.edu/software/conda/cybergisx/python3-0.9.0/lib/python3.8/site-packages/branca/element.py:643\u001b[0m, in \u001b[0;36mMacroElement.render\u001b[0;34m(self, **kwargs)\u001b[0m\n\u001b[1;32m    639\u001b[0m     figure\u001b[38;5;241m.\u001b[39mscript\u001b[38;5;241m.\u001b[39madd_child(Element(script(\u001b[38;5;28mself\u001b[39m, kwargs)),\n\u001b[1;32m    640\u001b[0m                             name\u001b[38;5;241m=\u001b[39m\u001b[38;5;28mself\u001b[39m\u001b[38;5;241m.\u001b[39mget_name())\n\u001b[1;32m    642\u001b[0m \u001b[38;5;28;01mfor\u001b[39;00m name, element \u001b[38;5;129;01min\u001b[39;00m \u001b[38;5;28mself\u001b[39m\u001b[38;5;241m.\u001b[39m_children\u001b[38;5;241m.\u001b[39mitems():\n\u001b[0;32m--> 643\u001b[0m     \u001b[43melement\u001b[49m\u001b[38;5;241;43m.\u001b[39;49m\u001b[43mrender\u001b[49m\u001b[43m(\u001b[49m\u001b[38;5;241;43m*\u001b[39;49m\u001b[38;5;241;43m*\u001b[39;49m\u001b[43mkwargs\u001b[49m\u001b[43m)\u001b[49m\n",
      "File \u001b[0;32m/cvmfs/cybergis.illinois.edu/software/conda/cybergisx/python3-0.9.0/lib/python3.8/site-packages/folium/features.py:916\u001b[0m, in \u001b[0;36mGeoJsonDetail.render\u001b[0;34m(self, **kwargs)\u001b[0m\n\u001b[1;32m    914\u001b[0m \u001b[38;5;28;01mif\u001b[39;00m \u001b[38;5;28misinstance\u001b[39m(\u001b[38;5;28mself\u001b[39m\u001b[38;5;241m.\u001b[39m_parent, GeoJson):\n\u001b[1;32m    915\u001b[0m     keys \u001b[38;5;241m=\u001b[39m \u001b[38;5;28mtuple\u001b[39m(\u001b[38;5;28mself\u001b[39m\u001b[38;5;241m.\u001b[39m_parent\u001b[38;5;241m.\u001b[39mdata[\u001b[38;5;124m'\u001b[39m\u001b[38;5;124mfeatures\u001b[39m\u001b[38;5;124m'\u001b[39m][\u001b[38;5;241m0\u001b[39m][\u001b[38;5;124m'\u001b[39m\u001b[38;5;124mproperties\u001b[39m\u001b[38;5;124m'\u001b[39m]\u001b[38;5;241m.\u001b[39mkeys())\n\u001b[0;32m--> 916\u001b[0m     \u001b[38;5;28;43mself\u001b[39;49m\u001b[38;5;241;43m.\u001b[39;49m\u001b[43mwarn_for_geometry_collections\u001b[49m\u001b[43m(\u001b[49m\u001b[43m)\u001b[49m\n\u001b[1;32m    917\u001b[0m \u001b[38;5;28;01melif\u001b[39;00m \u001b[38;5;28misinstance\u001b[39m(\u001b[38;5;28mself\u001b[39m\u001b[38;5;241m.\u001b[39m_parent, TopoJson):\n\u001b[1;32m    918\u001b[0m     obj_name \u001b[38;5;241m=\u001b[39m \u001b[38;5;28mself\u001b[39m\u001b[38;5;241m.\u001b[39m_parent\u001b[38;5;241m.\u001b[39mobject_path\u001b[38;5;241m.\u001b[39msplit(\u001b[38;5;124m'\u001b[39m\u001b[38;5;124m.\u001b[39m\u001b[38;5;124m'\u001b[39m)[\u001b[38;5;241m-\u001b[39m\u001b[38;5;241m1\u001b[39m]\n",
      "File \u001b[0;32m/cvmfs/cybergis.illinois.edu/software/conda/cybergisx/python3-0.9.0/lib/python3.8/site-packages/folium/features.py:900\u001b[0m, in \u001b[0;36mGeoJsonDetail.warn_for_geometry_collections\u001b[0;34m(self)\u001b[0m\n\u001b[1;32m    898\u001b[0m \u001b[38;5;28;01mdef\u001b[39;00m \u001b[38;5;21mwarn_for_geometry_collections\u001b[39m(\u001b[38;5;28mself\u001b[39m):\n\u001b[1;32m    899\u001b[0m     \u001b[38;5;124;03m\"\"\"Checks for GeoJson GeometryCollection features to warn user about incompatibility.\"\"\"\u001b[39;00m\n\u001b[0;32m--> 900\u001b[0m     geom_collections \u001b[38;5;241m=\u001b[39m [\n\u001b[1;32m    901\u001b[0m         feature\u001b[38;5;241m.\u001b[39mget(\u001b[38;5;124m'\u001b[39m\u001b[38;5;124mproperties\u001b[39m\u001b[38;5;124m'\u001b[39m) \u001b[38;5;28;01mif\u001b[39;00m feature\u001b[38;5;241m.\u001b[39mget(\u001b[38;5;124m'\u001b[39m\u001b[38;5;124mproperties\u001b[39m\u001b[38;5;124m'\u001b[39m) \u001b[38;5;129;01mis\u001b[39;00m \u001b[38;5;129;01mnot\u001b[39;00m \u001b[38;5;28;01mNone\u001b[39;00m \u001b[38;5;28;01melse\u001b[39;00m key\n\u001b[1;32m    902\u001b[0m         \u001b[38;5;28;01mfor\u001b[39;00m key, feature \u001b[38;5;129;01min\u001b[39;00m \u001b[38;5;28menumerate\u001b[39m(\u001b[38;5;28mself\u001b[39m\u001b[38;5;241m.\u001b[39m_parent\u001b[38;5;241m.\u001b[39mdata[\u001b[38;5;124m'\u001b[39m\u001b[38;5;124mfeatures\u001b[39m\u001b[38;5;124m'\u001b[39m])\n\u001b[1;32m    903\u001b[0m         \u001b[38;5;28;01mif\u001b[39;00m feature[\u001b[38;5;124m'\u001b[39m\u001b[38;5;124mgeometry\u001b[39m\u001b[38;5;124m'\u001b[39m][\u001b[38;5;124m'\u001b[39m\u001b[38;5;124mtype\u001b[39m\u001b[38;5;124m'\u001b[39m] \u001b[38;5;241m==\u001b[39m \u001b[38;5;124m'\u001b[39m\u001b[38;5;124mGeometryCollection\u001b[39m\u001b[38;5;124m'\u001b[39m\n\u001b[1;32m    904\u001b[0m     ]\n\u001b[1;32m    905\u001b[0m     \u001b[38;5;28;01mif\u001b[39;00m \u001b[38;5;28many\u001b[39m(geom_collections):\n\u001b[1;32m    906\u001b[0m         warnings\u001b[38;5;241m.\u001b[39mwarn(\n\u001b[1;32m    907\u001b[0m             \u001b[38;5;124m\"\u001b[39m\u001b[38;5;132;01m{}\u001b[39;00m\u001b[38;5;124m is not configured to render for GeoJson GeometryCollection geometries. \u001b[39m\u001b[38;5;124m\"\u001b[39m\n\u001b[1;32m    908\u001b[0m             \u001b[38;5;124m\"\u001b[39m\u001b[38;5;124mPlease consider reworking these features: \u001b[39m\u001b[38;5;132;01m{}\u001b[39;00m\u001b[38;5;124m to MultiPolygon for full functionality.\u001b[39m\u001b[38;5;130;01m\\n\u001b[39;00m\u001b[38;5;124m\"\u001b[39m\n\u001b[1;32m    909\u001b[0m             \u001b[38;5;124m\"\u001b[39m\u001b[38;5;124mhttps://tools.ietf.org/html/rfc7946#page-9\u001b[39m\u001b[38;5;124m\"\u001b[39m\u001b[38;5;241m.\u001b[39mformat(\u001b[38;5;28mself\u001b[39m\u001b[38;5;241m.\u001b[39m_name, geom_collections), \u001b[38;5;167;01mUserWarning\u001b[39;00m)\n",
      "File \u001b[0;32m/cvmfs/cybergis.illinois.edu/software/conda/cybergisx/python3-0.9.0/lib/python3.8/site-packages/folium/features.py:903\u001b[0m, in \u001b[0;36m<listcomp>\u001b[0;34m(.0)\u001b[0m\n\u001b[1;32m    898\u001b[0m \u001b[38;5;28;01mdef\u001b[39;00m \u001b[38;5;21mwarn_for_geometry_collections\u001b[39m(\u001b[38;5;28mself\u001b[39m):\n\u001b[1;32m    899\u001b[0m     \u001b[38;5;124;03m\"\"\"Checks for GeoJson GeometryCollection features to warn user about incompatibility.\"\"\"\u001b[39;00m\n\u001b[1;32m    900\u001b[0m     geom_collections \u001b[38;5;241m=\u001b[39m [\n\u001b[1;32m    901\u001b[0m         feature\u001b[38;5;241m.\u001b[39mget(\u001b[38;5;124m'\u001b[39m\u001b[38;5;124mproperties\u001b[39m\u001b[38;5;124m'\u001b[39m) \u001b[38;5;28;01mif\u001b[39;00m feature\u001b[38;5;241m.\u001b[39mget(\u001b[38;5;124m'\u001b[39m\u001b[38;5;124mproperties\u001b[39m\u001b[38;5;124m'\u001b[39m) \u001b[38;5;129;01mis\u001b[39;00m \u001b[38;5;129;01mnot\u001b[39;00m \u001b[38;5;28;01mNone\u001b[39;00m \u001b[38;5;28;01melse\u001b[39;00m key\n\u001b[1;32m    902\u001b[0m         \u001b[38;5;28;01mfor\u001b[39;00m key, feature \u001b[38;5;129;01min\u001b[39;00m \u001b[38;5;28menumerate\u001b[39m(\u001b[38;5;28mself\u001b[39m\u001b[38;5;241m.\u001b[39m_parent\u001b[38;5;241m.\u001b[39mdata[\u001b[38;5;124m'\u001b[39m\u001b[38;5;124mfeatures\u001b[39m\u001b[38;5;124m'\u001b[39m])\n\u001b[0;32m--> 903\u001b[0m         \u001b[38;5;28;01mif\u001b[39;00m \u001b[43mfeature\u001b[49m\u001b[43m[\u001b[49m\u001b[38;5;124;43m'\u001b[39;49m\u001b[38;5;124;43mgeometry\u001b[39;49m\u001b[38;5;124;43m'\u001b[39;49m\u001b[43m]\u001b[49m\u001b[43m[\u001b[49m\u001b[38;5;124;43m'\u001b[39;49m\u001b[38;5;124;43mtype\u001b[39;49m\u001b[38;5;124;43m'\u001b[39;49m\u001b[43m]\u001b[49m \u001b[38;5;241m==\u001b[39m \u001b[38;5;124m'\u001b[39m\u001b[38;5;124mGeometryCollection\u001b[39m\u001b[38;5;124m'\u001b[39m\n\u001b[1;32m    904\u001b[0m     ]\n\u001b[1;32m    905\u001b[0m     \u001b[38;5;28;01mif\u001b[39;00m \u001b[38;5;28many\u001b[39m(geom_collections):\n\u001b[1;32m    906\u001b[0m         warnings\u001b[38;5;241m.\u001b[39mwarn(\n\u001b[1;32m    907\u001b[0m             \u001b[38;5;124m\"\u001b[39m\u001b[38;5;132;01m{}\u001b[39;00m\u001b[38;5;124m is not configured to render for GeoJson GeometryCollection geometries. \u001b[39m\u001b[38;5;124m\"\u001b[39m\n\u001b[1;32m    908\u001b[0m             \u001b[38;5;124m\"\u001b[39m\u001b[38;5;124mPlease consider reworking these features: \u001b[39m\u001b[38;5;132;01m{}\u001b[39;00m\u001b[38;5;124m to MultiPolygon for full functionality.\u001b[39m\u001b[38;5;130;01m\\n\u001b[39;00m\u001b[38;5;124m\"\u001b[39m\n\u001b[1;32m    909\u001b[0m             \u001b[38;5;124m\"\u001b[39m\u001b[38;5;124mhttps://tools.ietf.org/html/rfc7946#page-9\u001b[39m\u001b[38;5;124m\"\u001b[39m\u001b[38;5;241m.\u001b[39mformat(\u001b[38;5;28mself\u001b[39m\u001b[38;5;241m.\u001b[39m_name, geom_collections), \u001b[38;5;167;01mUserWarning\u001b[39;00m)\n",
      "\u001b[0;31mTypeError\u001b[0m: 'NoneType' object is not subscriptable"
     ]
    },
    {
     "data": {
      "text/plain": [
       "<folium.folium.Map at 0x7f4cf3b13100>"
      ]
     },
     "execution_count": 5,
     "metadata": {},
     "output_type": "execute_result"
    }
   ],
   "source": [
    "final_population_df.explore()"
   ]
  },
  {
   "cell_type": "markdown",
   "metadata": {},
   "source": [
    "### Load Pharmacy Data\n",
    "\n",
    "This data contains the hours of operations and the number of pharmacists and pharmacy technicians staffed at each pharmacy"
   ]
  },
  {
   "cell_type": "code",
   "execution_count": 9,
   "metadata": {},
   "outputs": [
    {
     "data": {
      "text/html": [
       "<div>\n",
       "<style scoped>\n",
       "    .dataframe tbody tr th:only-of-type {\n",
       "        vertical-align: middle;\n",
       "    }\n",
       "\n",
       "    .dataframe tbody tr th {\n",
       "        vertical-align: top;\n",
       "    }\n",
       "\n",
       "    .dataframe thead th {\n",
       "        text-align: right;\n",
       "    }\n",
       "</style>\n",
       "<table border=\"1\" class=\"dataframe\">\n",
       "  <thead>\n",
       "    <tr style=\"text-align: right;\">\n",
       "      <th></th>\n",
       "      <th>pharmid</th>\n",
       "      <th>pharmacy_name</th>\n",
       "      <th>type</th>\n",
       "      <th>address</th>\n",
       "      <th>state</th>\n",
       "      <th>lat</th>\n",
       "      <th>lon</th>\n",
       "      <th>week_open</th>\n",
       "      <th>week_close</th>\n",
       "      <th>week_pharm</th>\n",
       "      <th>week_tech</th>\n",
       "      <th>sat_open</th>\n",
       "      <th>sat_close</th>\n",
       "      <th>sat_pharm</th>\n",
       "      <th>sat_tech</th>\n",
       "      <th>sun_open</th>\n",
       "      <th>sun_close</th>\n",
       "      <th>sun_pharm</th>\n",
       "      <th>sun_tech</th>\n",
       "      <th>geometry</th>\n",
       "    </tr>\n",
       "  </thead>\n",
       "  <tbody>\n",
       "    <tr>\n",
       "      <th>0</th>\n",
       "      <td>VT1</td>\n",
       "      <td>The Pharmacy Inc</td>\n",
       "      <td>independent</td>\n",
       "      <td>205 North St, Bennington, VT</td>\n",
       "      <td>VT</td>\n",
       "      <td>42.881931</td>\n",
       "      <td>-73.196657</td>\n",
       "      <td>9:00:00</td>\n",
       "      <td>18:00:00</td>\n",
       "      <td>3.0</td>\n",
       "      <td>5.0</td>\n",
       "      <td>9:00:00</td>\n",
       "      <td>15:00:00</td>\n",
       "      <td>1.0</td>\n",
       "      <td>2.0</td>\n",
       "      <td>Closed</td>\n",
       "      <td>Closed</td>\n",
       "      <td>NaN</td>\n",
       "      <td>NaN</td>\n",
       "      <td>POINT (-73.19666 42.88193)</td>\n",
       "    </tr>\n",
       "    <tr>\n",
       "      <th>1</th>\n",
       "      <td>VT2</td>\n",
       "      <td>Kinney Drugs #18</td>\n",
       "      <td>chain</td>\n",
       "      <td>164 Swanton Road,  St. Albans, VT 05478</td>\n",
       "      <td>VT</td>\n",
       "      <td>44.835696</td>\n",
       "      <td>-73.080982</td>\n",
       "      <td>8:00:00</td>\n",
       "      <td>20:00:00</td>\n",
       "      <td>2.0</td>\n",
       "      <td>5.0</td>\n",
       "      <td>9:00:00</td>\n",
       "      <td>18:00:00</td>\n",
       "      <td>1.0</td>\n",
       "      <td>2.0</td>\n",
       "      <td>9:00:00</td>\n",
       "      <td>16:00:00</td>\n",
       "      <td>1.0</td>\n",
       "      <td>2.0</td>\n",
       "      <td>POINT (-73.08098 44.83570)</td>\n",
       "    </tr>\n",
       "    <tr>\n",
       "      <th>2</th>\n",
       "      <td>VT3</td>\n",
       "      <td>Corner Drug Co</td>\n",
       "      <td>independent</td>\n",
       "      <td>213 Maple St, White River Junction, VT 05001</td>\n",
       "      <td>VT</td>\n",
       "      <td>43.652298</td>\n",
       "      <td>-72.318720</td>\n",
       "      <td>9:00:00</td>\n",
       "      <td>18:00:00</td>\n",
       "      <td>1.0</td>\n",
       "      <td>2.0</td>\n",
       "      <td>9:00:00</td>\n",
       "      <td>15:00:00</td>\n",
       "      <td>1.0</td>\n",
       "      <td>2.0</td>\n",
       "      <td>Closed</td>\n",
       "      <td>Closed</td>\n",
       "      <td>NaN</td>\n",
       "      <td>NaN</td>\n",
       "      <td>POINT (-72.31872 43.65230)</td>\n",
       "    </tr>\n",
       "    <tr>\n",
       "      <th>3</th>\n",
       "      <td>VT4</td>\n",
       "      <td>Kinney Drugs #21</td>\n",
       "      <td>chain</td>\n",
       "      <td>82 Pearl Street, Essex Junction, VT 05452</td>\n",
       "      <td>VT</td>\n",
       "      <td>44.493619</td>\n",
       "      <td>-73.120292</td>\n",
       "      <td>9:00:00</td>\n",
       "      <td>19:00:00</td>\n",
       "      <td>1.0</td>\n",
       "      <td>3.0</td>\n",
       "      <td>9:00:00</td>\n",
       "      <td>18:00:00</td>\n",
       "      <td>1.0</td>\n",
       "      <td>1.0</td>\n",
       "      <td>9:00:00</td>\n",
       "      <td>16:00:00</td>\n",
       "      <td>1.0</td>\n",
       "      <td>1.0</td>\n",
       "      <td>POINT (-73.12029 44.49362)</td>\n",
       "    </tr>\n",
       "    <tr>\n",
       "      <th>4</th>\n",
       "      <td>VT5</td>\n",
       "      <td>Kinney Drugs #11</td>\n",
       "      <td>chain</td>\n",
       "      <td>800 Us Route 302, Barre, VT 05641</td>\n",
       "      <td>VT</td>\n",
       "      <td>44.221775</td>\n",
       "      <td>-72.545779</td>\n",
       "      <td>9:00:00</td>\n",
       "      <td>20:00:00</td>\n",
       "      <td>2.0</td>\n",
       "      <td>3.0</td>\n",
       "      <td>9:00:00</td>\n",
       "      <td>18:00:00</td>\n",
       "      <td>1.0</td>\n",
       "      <td>3.0</td>\n",
       "      <td>9:00:00</td>\n",
       "      <td>16:00:00</td>\n",
       "      <td>1.0</td>\n",
       "      <td>3.0</td>\n",
       "      <td>POINT (-72.54578 44.22178)</td>\n",
       "    </tr>\n",
       "  </tbody>\n",
       "</table>\n",
       "</div>"
      ],
      "text/plain": [
       "  pharmid     pharmacy_name         type  \\\n",
       "0     VT1  The Pharmacy Inc  independent   \n",
       "1     VT2  Kinney Drugs #18        chain   \n",
       "2     VT3    Corner Drug Co  independent   \n",
       "3     VT4  Kinney Drugs #21        chain   \n",
       "4     VT5  Kinney Drugs #11        chain   \n",
       "\n",
       "                                        address state        lat        lon  \\\n",
       "0                  205 North St, Bennington, VT    VT  42.881931 -73.196657   \n",
       "1       164 Swanton Road,  St. Albans, VT 05478    VT  44.835696 -73.080982   \n",
       "2  213 Maple St, White River Junction, VT 05001    VT  43.652298 -72.318720   \n",
       "3     82 Pearl Street, Essex Junction, VT 05452    VT  44.493619 -73.120292   \n",
       "4             800 Us Route 302, Barre, VT 05641    VT  44.221775 -72.545779   \n",
       "\n",
       "  week_open week_close  week_pharm  week_tech sat_open sat_close  sat_pharm  \\\n",
       "0   9:00:00   18:00:00         3.0        5.0  9:00:00  15:00:00        1.0   \n",
       "1   8:00:00   20:00:00         2.0        5.0  9:00:00  18:00:00        1.0   \n",
       "2   9:00:00   18:00:00         1.0        2.0  9:00:00  15:00:00        1.0   \n",
       "3   9:00:00   19:00:00         1.0        3.0  9:00:00  18:00:00        1.0   \n",
       "4   9:00:00   20:00:00         2.0        3.0  9:00:00  18:00:00        1.0   \n",
       "\n",
       "   sat_tech sun_open sun_close  sun_pharm  sun_tech  \\\n",
       "0       2.0   Closed    Closed        NaN       NaN   \n",
       "1       2.0  9:00:00  16:00:00        1.0       2.0   \n",
       "2       2.0   Closed    Closed        NaN       NaN   \n",
       "3       1.0  9:00:00  16:00:00        1.0       1.0   \n",
       "4       3.0  9:00:00  16:00:00        1.0       3.0   \n",
       "\n",
       "                     geometry  \n",
       "0  POINT (-73.19666 42.88193)  \n",
       "1  POINT (-73.08098 44.83570)  \n",
       "2  POINT (-72.31872 43.65230)  \n",
       "3  POINT (-73.12029 44.49362)  \n",
       "4  POINT (-72.54578 44.22178)  "
      ]
     },
     "execution_count": 9,
     "metadata": {},
     "output_type": "execute_result"
    }
   ],
   "source": [
    "# Read in pharmacy data\n",
    "pharmacies = gpd.read_file('./data/raw/public/pharmacy/test.gpkg')\n",
    "pharmacies.head()"
   ]
  },
  {
   "cell_type": "code",
   "execution_count": 11,
   "metadata": {},
   "outputs": [
    {
     "data": {
      "text/html": [
       "<div style=\"width:100%;\"><div style=\"position:relative;width:100%;height:0;padding-bottom:60%;\"><span style=\"color:#565656\">Make this Notebook Trusted to load map: File -> Trust Notebook</span><iframe src=\"about:blank\" style=\"position:absolute;width:100%;height:100%;left:0;top:0;border:none !important;\" data-html=%3C%21DOCTYPE%20html%3E%0A%3Chead%3E%20%20%20%20%0A%20%20%20%20%3Cmeta%20http-equiv%3D%22content-type%22%20content%3D%22text/html%3B%20charset%3DUTF-8%22%20/%3E%0A%20%20%20%20%0A%20%20%20%20%20%20%20%20%3Cscript%3E%0A%20%20%20%20%20%20%20%20%20%20%20%20L_NO_TOUCH%20%3D%20false%3B%0A%20%20%20%20%20%20%20%20%20%20%20%20L_DISABLE_3D%20%3D%20false%3B%0A%20%20%20%20%20%20%20%20%3C/script%3E%0A%20%20%20%20%0A%20%20%20%20%3Cstyle%3Ehtml%2C%20body%20%7Bwidth%3A%20100%25%3Bheight%3A%20100%25%3Bmargin%3A%200%3Bpadding%3A%200%3B%7D%3C/style%3E%0A%20%20%20%20%3Cstyle%3E%23map%20%7Bposition%3Aabsolute%3Btop%3A0%3Bbottom%3A0%3Bright%3A0%3Bleft%3A0%3B%7D%3C/style%3E%0A%20%20%20%20%3Cscript%20src%3D%22https%3A//cdn.jsdelivr.net/npm/leaflet%401.6.0/dist/leaflet.js%22%3E%3C/script%3E%0A%20%20%20%20%3Cscript%20src%3D%22https%3A//code.jquery.com/jquery-1.12.4.min.js%22%3E%3C/script%3E%0A%20%20%20%20%3Cscript%20src%3D%22https%3A//maxcdn.bootstrapcdn.com/bootstrap/3.2.0/js/bootstrap.min.js%22%3E%3C/script%3E%0A%20%20%20%20%3Cscript%20src%3D%22https%3A//cdnjs.cloudflare.com/ajax/libs/Leaflet.awesome-markers/2.0.2/leaflet.awesome-markers.js%22%3E%3C/script%3E%0A%20%20%20%20%3Clink%20rel%3D%22stylesheet%22%20href%3D%22https%3A//cdn.jsdelivr.net/npm/leaflet%401.6.0/dist/leaflet.css%22/%3E%0A%20%20%20%20%3Clink%20rel%3D%22stylesheet%22%20href%3D%22https%3A//maxcdn.bootstrapcdn.com/bootstrap/3.2.0/css/bootstrap.min.css%22/%3E%0A%20%20%20%20%3Clink%20rel%3D%22stylesheet%22%20href%3D%22https%3A//maxcdn.bootstrapcdn.com/bootstrap/3.2.0/css/bootstrap-theme.min.css%22/%3E%0A%20%20%20%20%3Clink%20rel%3D%22stylesheet%22%20href%3D%22https%3A//maxcdn.bootstrapcdn.com/font-awesome/4.6.3/css/font-awesome.min.css%22/%3E%0A%20%20%20%20%3Clink%20rel%3D%22stylesheet%22%20href%3D%22https%3A//cdnjs.cloudflare.com/ajax/libs/Leaflet.awesome-markers/2.0.2/leaflet.awesome-markers.css%22/%3E%0A%20%20%20%20%3Clink%20rel%3D%22stylesheet%22%20href%3D%22https%3A//cdn.jsdelivr.net/gh/python-visualization/folium/folium/templates/leaflet.awesome.rotate.min.css%22/%3E%0A%20%20%20%20%0A%20%20%20%20%20%20%20%20%20%20%20%20%3Cmeta%20name%3D%22viewport%22%20content%3D%22width%3Ddevice-width%2C%0A%20%20%20%20%20%20%20%20%20%20%20%20%20%20%20%20initial-scale%3D1.0%2C%20maximum-scale%3D1.0%2C%20user-scalable%3Dno%22%20/%3E%0A%20%20%20%20%20%20%20%20%20%20%20%20%3Cstyle%3E%0A%20%20%20%20%20%20%20%20%20%20%20%20%20%20%20%20%23map_00f59c51e26843d5870ea4b3ec1decaa%20%7B%0A%20%20%20%20%20%20%20%20%20%20%20%20%20%20%20%20%20%20%20%20position%3A%20relative%3B%0A%20%20%20%20%20%20%20%20%20%20%20%20%20%20%20%20%20%20%20%20width%3A%20100.0%25%3B%0A%20%20%20%20%20%20%20%20%20%20%20%20%20%20%20%20%20%20%20%20height%3A%20100.0%25%3B%0A%20%20%20%20%20%20%20%20%20%20%20%20%20%20%20%20%20%20%20%20left%3A%200.0%25%3B%0A%20%20%20%20%20%20%20%20%20%20%20%20%20%20%20%20%20%20%20%20top%3A%200.0%25%3B%0A%20%20%20%20%20%20%20%20%20%20%20%20%20%20%20%20%7D%0A%20%20%20%20%20%20%20%20%20%20%20%20%3C/style%3E%0A%20%20%20%20%20%20%20%20%0A%20%20%20%20%0A%20%20%20%20%20%20%20%20%20%20%20%20%20%20%20%20%20%20%20%20%3Cstyle%3E%0A%20%20%20%20%20%20%20%20%20%20%20%20%20%20%20%20%20%20%20%20%20%20%20%20.foliumtooltip%20%7B%0A%20%20%20%20%20%20%20%20%20%20%20%20%20%20%20%20%20%20%20%20%20%20%20%20%20%20%20%20%0A%20%20%20%20%20%20%20%20%20%20%20%20%20%20%20%20%20%20%20%20%20%20%20%20%7D%0A%20%20%20%20%20%20%20%20%20%20%20%20%20%20%20%20%20%20%20%20%20%20%20.foliumtooltip%20table%7B%0A%20%20%20%20%20%20%20%20%20%20%20%20%20%20%20%20%20%20%20%20%20%20%20%20%20%20%20%20margin%3A%20auto%3B%0A%20%20%20%20%20%20%20%20%20%20%20%20%20%20%20%20%20%20%20%20%20%20%20%20%7D%0A%20%20%20%20%20%20%20%20%20%20%20%20%20%20%20%20%20%20%20%20%20%20%20%20.foliumtooltip%20tr%7B%0A%20%20%20%20%20%20%20%20%20%20%20%20%20%20%20%20%20%20%20%20%20%20%20%20%20%20%20%20text-align%3A%20left%3B%0A%20%20%20%20%20%20%20%20%20%20%20%20%20%20%20%20%20%20%20%20%20%20%20%20%7D%0A%20%20%20%20%20%20%20%20%20%20%20%20%20%20%20%20%20%20%20%20%20%20%20%20.foliumtooltip%20th%7B%0A%20%20%20%20%20%20%20%20%20%20%20%20%20%20%20%20%20%20%20%20%20%20%20%20%20%20%20%20padding%3A%202px%3B%20padding-right%3A%208px%3B%0A%20%20%20%20%20%20%20%20%20%20%20%20%20%20%20%20%20%20%20%20%20%20%20%20%7D%0A%20%20%20%20%20%20%20%20%20%20%20%20%20%20%20%20%20%20%20%20%3C/style%3E%0A%20%20%20%20%20%20%20%20%20%20%20%20%0A%3C/head%3E%0A%3Cbody%3E%20%20%20%20%0A%20%20%20%20%0A%20%20%20%20%20%20%20%20%20%20%20%20%3Cdiv%20class%3D%22folium-map%22%20id%3D%22map_00f59c51e26843d5870ea4b3ec1decaa%22%20%3E%3C/div%3E%0A%20%20%20%20%20%20%20%20%0A%3C/body%3E%0A%3Cscript%3E%20%20%20%20%0A%20%20%20%20%0A%20%20%20%20%20%20%20%20%20%20%20%20var%20map_00f59c51e26843d5870ea4b3ec1decaa%20%3D%20L.map%28%0A%20%20%20%20%20%20%20%20%20%20%20%20%20%20%20%20%22map_00f59c51e26843d5870ea4b3ec1decaa%22%2C%0A%20%20%20%20%20%20%20%20%20%20%20%20%20%20%20%20%7B%0A%20%20%20%20%20%20%20%20%20%20%20%20%20%20%20%20%20%20%20%20center%3A%20%5B43.791772%2C%20-72.509540445%5D%2C%0A%20%20%20%20%20%20%20%20%20%20%20%20%20%20%20%20%20%20%20%20crs%3A%20L.CRS.EPSG3857%2C%0A%20%20%20%20%20%20%20%20%20%20%20%20%20%20%20%20%20%20%20%20zoom%3A%2010%2C%0A%20%20%20%20%20%20%20%20%20%20%20%20%20%20%20%20%20%20%20%20zoomControl%3A%20true%2C%0A%20%20%20%20%20%20%20%20%20%20%20%20%20%20%20%20%20%20%20%20preferCanvas%3A%20false%2C%0A%20%20%20%20%20%20%20%20%20%20%20%20%20%20%20%20%7D%0A%20%20%20%20%20%20%20%20%20%20%20%20%29%3B%0A%20%20%20%20%20%20%20%20%20%20%20%20L.control.scale%28%29.addTo%28map_00f59c51e26843d5870ea4b3ec1decaa%29%3B%0A%0A%20%20%20%20%20%20%20%20%20%20%20%20%0A%0A%20%20%20%20%20%20%20%20%0A%20%20%20%20%0A%20%20%20%20%20%20%20%20%20%20%20%20var%20tile_layer_36a88391870549a89b2c9fe8bd7afaaf%20%3D%20L.tileLayer%28%0A%20%20%20%20%20%20%20%20%20%20%20%20%20%20%20%20%22https%3A//%7Bs%7D.tile.openstreetmap.org/%7Bz%7D/%7Bx%7D/%7By%7D.png%22%2C%0A%20%20%20%20%20%20%20%20%20%20%20%20%20%20%20%20%7B%22attribution%22%3A%20%22Data%20by%20%5Cu0026copy%3B%20%5Cu003ca%20href%3D%5C%22http%3A//openstreetmap.org%5C%22%5Cu003eOpenStreetMap%5Cu003c/a%5Cu003e%2C%20under%20%5Cu003ca%20href%3D%5C%22http%3A//www.openstreetmap.org/copyright%5C%22%5Cu003eODbL%5Cu003c/a%5Cu003e.%22%2C%20%22detectRetina%22%3A%20false%2C%20%22maxNativeZoom%22%3A%2018%2C%20%22maxZoom%22%3A%2018%2C%20%22minZoom%22%3A%200%2C%20%22noWrap%22%3A%20false%2C%20%22opacity%22%3A%201%2C%20%22subdomains%22%3A%20%22abc%22%2C%20%22tms%22%3A%20false%7D%0A%20%20%20%20%20%20%20%20%20%20%20%20%29.addTo%28map_00f59c51e26843d5870ea4b3ec1decaa%29%3B%0A%20%20%20%20%20%20%20%20%0A%20%20%20%20%0A%20%20%20%20%20%20%20%20%20%20%20%20map_00f59c51e26843d5870ea4b3ec1decaa.fitBounds%28%0A%20%20%20%20%20%20%20%20%20%20%20%20%20%20%20%20%5B%5B42.587172%2C%20-73.53598757%5D%2C%20%5B44.996372%2C%20-71.48309332%5D%5D%2C%0A%20%20%20%20%20%20%20%20%20%20%20%20%20%20%20%20%7B%7D%0A%20%20%20%20%20%20%20%20%20%20%20%20%29%3B%0A%20%20%20%20%20%20%20%20%0A%20%20%20%20%0A%20%20%20%20%20%20%20%20function%20geo_json_f0c59457714f4881bec2960070b7a002_styler%28feature%29%20%7B%0A%20%20%20%20%20%20%20%20%20%20%20%20switch%28feature.id%29%20%7B%0A%20%20%20%20%20%20%20%20%20%20%20%20%20%20%20%20default%3A%0A%20%20%20%20%20%20%20%20%20%20%20%20%20%20%20%20%20%20%20%20return%20%7B%22fillOpacity%22%3A%200.5%2C%20%22weight%22%3A%202%7D%3B%0A%20%20%20%20%20%20%20%20%20%20%20%20%7D%0A%20%20%20%20%20%20%20%20%7D%0A%20%20%20%20%20%20%20%20function%20geo_json_f0c59457714f4881bec2960070b7a002_highlighter%28feature%29%20%7B%0A%20%20%20%20%20%20%20%20%20%20%20%20switch%28feature.id%29%20%7B%0A%20%20%20%20%20%20%20%20%20%20%20%20%20%20%20%20default%3A%0A%20%20%20%20%20%20%20%20%20%20%20%20%20%20%20%20%20%20%20%20return%20%7B%22fillOpacity%22%3A%200.75%7D%3B%0A%20%20%20%20%20%20%20%20%20%20%20%20%7D%0A%20%20%20%20%20%20%20%20%7D%0A%20%20%20%20%20%20%20%20function%20geo_json_f0c59457714f4881bec2960070b7a002_pointToLayer%28feature%2C%20latlng%29%20%7B%0A%20%20%20%20%20%20%20%20%20%20%20%20var%20opts%20%3D%20%7B%22bubblingMouseEvents%22%3A%20true%2C%20%22color%22%3A%20%22%233388ff%22%2C%20%22dashArray%22%3A%20null%2C%20%22dashOffset%22%3A%20null%2C%20%22fill%22%3A%20true%2C%20%22fillColor%22%3A%20%22%233388ff%22%2C%20%22fillOpacity%22%3A%200.2%2C%20%22fillRule%22%3A%20%22evenodd%22%2C%20%22lineCap%22%3A%20%22round%22%2C%20%22lineJoin%22%3A%20%22round%22%2C%20%22opacity%22%3A%201.0%2C%20%22radius%22%3A%202%2C%20%22stroke%22%3A%20true%2C%20%22weight%22%3A%203%7D%3B%0A%20%20%20%20%20%20%20%20%20%20%20%20%0A%20%20%20%20%20%20%20%20%20%20%20%20let%20style%20%3D%20geo_json_f0c59457714f4881bec2960070b7a002_styler%28feature%29%0A%20%20%20%20%20%20%20%20%20%20%20%20Object.assign%28opts%2C%20style%29%0A%20%20%20%20%20%20%20%20%20%20%20%20%0A%20%20%20%20%20%20%20%20%20%20%20%20return%20new%20L.CircleMarker%28latlng%2C%20opts%29%0A%20%20%20%20%20%20%20%20%7D%0A%0A%20%20%20%20%20%20%20%20function%20geo_json_f0c59457714f4881bec2960070b7a002_onEachFeature%28feature%2C%20layer%29%20%7B%0A%20%20%20%20%20%20%20%20%20%20%20%20layer.on%28%7B%0A%20%20%20%20%20%20%20%20%20%20%20%20%20%20%20%20mouseout%3A%20function%28e%29%20%7B%0A%20%20%20%20%20%20%20%20%20%20%20%20%20%20%20%20%20%20%20%20if%28typeof%20e.target.setStyle%20%3D%3D%3D%20%22function%22%29%7B%0A%20%20%20%20%20%20%20%20%20%20%20%20%20%20%20%20%20%20%20%20%20%20%20%20geo_json_f0c59457714f4881bec2960070b7a002.resetStyle%28e.target%29%3B%0A%20%20%20%20%20%20%20%20%20%20%20%20%20%20%20%20%20%20%20%20%7D%0A%20%20%20%20%20%20%20%20%20%20%20%20%20%20%20%20%7D%2C%0A%20%20%20%20%20%20%20%20%20%20%20%20%20%20%20%20mouseover%3A%20function%28e%29%20%7B%0A%20%20%20%20%20%20%20%20%20%20%20%20%20%20%20%20%20%20%20%20if%28typeof%20e.target.setStyle%20%3D%3D%3D%20%22function%22%29%7B%0A%20%20%20%20%20%20%20%20%20%20%20%20%20%20%20%20%20%20%20%20%20%20%20%20const%20highlightStyle%20%3D%20geo_json_f0c59457714f4881bec2960070b7a002_highlighter%28e.target.feature%29%0A%20%20%20%20%20%20%20%20%20%20%20%20%20%20%20%20%20%20%20%20%20%20%20%20e.target.setStyle%28highlightStyle%29%3B%0A%20%20%20%20%20%20%20%20%20%20%20%20%20%20%20%20%20%20%20%20%7D%0A%20%20%20%20%20%20%20%20%20%20%20%20%20%20%20%20%7D%2C%0A%20%20%20%20%20%20%20%20%20%20%20%20%7D%29%3B%0A%20%20%20%20%20%20%20%20%7D%3B%0A%20%20%20%20%20%20%20%20var%20geo_json_f0c59457714f4881bec2960070b7a002%20%3D%20L.geoJson%28null%2C%20%7B%0A%20%20%20%20%20%20%20%20%20%20%20%20%20%20%20%20onEachFeature%3A%20geo_json_f0c59457714f4881bec2960070b7a002_onEachFeature%2C%0A%20%20%20%20%20%20%20%20%20%20%20%20%0A%20%20%20%20%20%20%20%20%20%20%20%20%20%20%20%20style%3A%20geo_json_f0c59457714f4881bec2960070b7a002_styler%2C%0A%20%20%20%20%20%20%20%20%20%20%20%20%20%20%20%20pointToLayer%3A%20geo_json_f0c59457714f4881bec2960070b7a002_pointToLayer%0A%20%20%20%20%20%20%20%20%7D%29%3B%0A%0A%20%20%20%20%20%20%20%20function%20geo_json_f0c59457714f4881bec2960070b7a002_add%20%28data%29%20%7B%0A%20%20%20%20%20%20%20%20%20%20%20%20geo_json_f0c59457714f4881bec2960070b7a002%0A%20%20%20%20%20%20%20%20%20%20%20%20%20%20%20%20.addData%28data%29%0A%20%20%20%20%20%20%20%20%20%20%20%20%20%20%20%20.addTo%28map_00f59c51e26843d5870ea4b3ec1decaa%29%3B%0A%20%20%20%20%20%20%20%20%7D%0A%20%20%20%20%20%20%20%20%20%20%20%20geo_json_f0c59457714f4881bec2960070b7a002_add%28%7B%22bbox%22%3A%20%5B-73.53598757%2C%2042.587172%2C%20-71.48309332%2C%2044.996372%5D%2C%20%22features%22%3A%20%5B%7B%22bbox%22%3A%20%5B-73.196657%2C%2042.8819309%2C%20-73.196657%2C%2042.8819309%5D%2C%20%22geometry%22%3A%20%7B%22coordinates%22%3A%20%5B-73.196657%2C%2042.8819309%5D%2C%20%22type%22%3A%20%22Point%22%7D%2C%20%22id%22%3A%20%220%22%2C%20%22properties%22%3A%20%7B%22address%22%3A%20%22205%20North%20St%2C%20Bennington%2C%20VT%22%2C%20%22lat%22%3A%2042.8819309%2C%20%22lon%22%3A%20-73.196657%2C%20%22pharmacy_name%22%3A%20%22The%20Pharmacy%20Inc%22%2C%20%22pharmid%22%3A%20%22VT1%22%2C%20%22sat_close%22%3A%20%2215%3A00%3A00%22%2C%20%22sat_open%22%3A%20%229%3A00%3A00%22%2C%20%22sat_pharm%22%3A%201.0%2C%20%22sat_tech%22%3A%202.0%2C%20%22state%22%3A%20%22VT%22%2C%20%22sun_close%22%3A%20%22Closed%22%2C%20%22sun_open%22%3A%20%22Closed%22%2C%20%22sun_pharm%22%3A%20null%2C%20%22sun_tech%22%3A%20null%2C%20%22type%22%3A%20%22independent%22%2C%20%22week_close%22%3A%20%2218%3A00%3A00%22%2C%20%22week_open%22%3A%20%229%3A00%3A00%22%2C%20%22week_pharm%22%3A%203.0%2C%20%22week_tech%22%3A%205.0%7D%2C%20%22type%22%3A%20%22Feature%22%7D%2C%20%7B%22bbox%22%3A%20%5B-73.080982%2C%2044.8356961%2C%20-73.080982%2C%2044.8356961%5D%2C%20%22geometry%22%3A%20%7B%22coordinates%22%3A%20%5B-73.080982%2C%2044.8356961%5D%2C%20%22type%22%3A%20%22Point%22%7D%2C%20%22id%22%3A%20%221%22%2C%20%22properties%22%3A%20%7B%22address%22%3A%20%22164%20Swanton%20Road%2C%20%20St.%20Albans%2C%20VT%2005478%22%2C%20%22lat%22%3A%2044.8356961%2C%20%22lon%22%3A%20-73.080982%2C%20%22pharmacy_name%22%3A%20%22Kinney%20Drugs%20%2318%22%2C%20%22pharmid%22%3A%20%22VT2%22%2C%20%22sat_close%22%3A%20%2218%3A00%3A00%22%2C%20%22sat_open%22%3A%20%229%3A00%3A00%22%2C%20%22sat_pharm%22%3A%201.0%2C%20%22sat_tech%22%3A%202.0%2C%20%22state%22%3A%20%22VT%22%2C%20%22sun_close%22%3A%20%2216%3A00%3A00%22%2C%20%22sun_open%22%3A%20%229%3A00%3A00%22%2C%20%22sun_pharm%22%3A%201.0%2C%20%22sun_tech%22%3A%202.0%2C%20%22type%22%3A%20%22chain%22%2C%20%22week_close%22%3A%20%2220%3A00%3A00%22%2C%20%22week_open%22%3A%20%228%3A00%3A00%22%2C%20%22week_pharm%22%3A%202.0%2C%20%22week_tech%22%3A%205.0%7D%2C%20%22type%22%3A%20%22Feature%22%7D%2C%20%7B%22bbox%22%3A%20%5B-72.31872%2C%2043.6522981%2C%20-72.31872%2C%2043.6522981%5D%2C%20%22geometry%22%3A%20%7B%22coordinates%22%3A%20%5B-72.31872%2C%2043.6522981%5D%2C%20%22type%22%3A%20%22Point%22%7D%2C%20%22id%22%3A%20%222%22%2C%20%22properties%22%3A%20%7B%22address%22%3A%20%22213%20Maple%20St%2C%20White%20River%20Junction%2C%20VT%2005001%22%2C%20%22lat%22%3A%2043.6522981%2C%20%22lon%22%3A%20-72.31872%2C%20%22pharmacy_name%22%3A%20%22Corner%20Drug%20Co%22%2C%20%22pharmid%22%3A%20%22VT3%22%2C%20%22sat_close%22%3A%20%2215%3A00%3A00%22%2C%20%22sat_open%22%3A%20%229%3A00%3A00%22%2C%20%22sat_pharm%22%3A%201.0%2C%20%22sat_tech%22%3A%202.0%2C%20%22state%22%3A%20%22VT%22%2C%20%22sun_close%22%3A%20%22Closed%22%2C%20%22sun_open%22%3A%20%22Closed%22%2C%20%22sun_pharm%22%3A%20null%2C%20%22sun_tech%22%3A%20null%2C%20%22type%22%3A%20%22independent%22%2C%20%22week_close%22%3A%20%2218%3A00%3A00%22%2C%20%22week_open%22%3A%20%229%3A00%3A00%22%2C%20%22week_pharm%22%3A%201.0%2C%20%22week_tech%22%3A%202.0%7D%2C%20%22type%22%3A%20%22Feature%22%7D%2C%20%7B%22bbox%22%3A%20%5B-73.120292%2C%2044.4936189%2C%20-73.120292%2C%2044.4936189%5D%2C%20%22geometry%22%3A%20%7B%22coordinates%22%3A%20%5B-73.120292%2C%2044.4936189%5D%2C%20%22type%22%3A%20%22Point%22%7D%2C%20%22id%22%3A%20%223%22%2C%20%22properties%22%3A%20%7B%22address%22%3A%20%2282%20Pearl%20Street%2C%20Essex%20Junction%2C%20VT%2005452%22%2C%20%22lat%22%3A%2044.4936189%2C%20%22lon%22%3A%20-73.120292%2C%20%22pharmacy_name%22%3A%20%22Kinney%20Drugs%20%2321%22%2C%20%22pharmid%22%3A%20%22VT4%22%2C%20%22sat_close%22%3A%20%2218%3A00%3A00%22%2C%20%22sat_open%22%3A%20%229%3A00%3A00%22%2C%20%22sat_pharm%22%3A%201.0%2C%20%22sat_tech%22%3A%201.0%2C%20%22state%22%3A%20%22VT%22%2C%20%22sun_close%22%3A%20%2216%3A00%3A00%22%2C%20%22sun_open%22%3A%20%229%3A00%3A00%22%2C%20%22sun_pharm%22%3A%201.0%2C%20%22sun_tech%22%3A%201.0%2C%20%22type%22%3A%20%22chain%22%2C%20%22week_close%22%3A%20%2219%3A00%3A00%22%2C%20%22week_open%22%3A%20%229%3A00%3A00%22%2C%20%22week_pharm%22%3A%201.0%2C%20%22week_tech%22%3A%203.0%7D%2C%20%22type%22%3A%20%22Feature%22%7D%2C%20%7B%22bbox%22%3A%20%5B-72.545779%2C%2044.2217753%2C%20-72.545779%2C%2044.2217753%5D%2C%20%22geometry%22%3A%20%7B%22coordinates%22%3A%20%5B-72.545779%2C%2044.2217753%5D%2C%20%22type%22%3A%20%22Point%22%7D%2C%20%22id%22%3A%20%224%22%2C%20%22properties%22%3A%20%7B%22address%22%3A%20%22800%20Us%20Route%20302%2C%20Barre%2C%20VT%2005641%22%2C%20%22lat%22%3A%2044.2217753%2C%20%22lon%22%3A%20-72.545779%2C%20%22pharmacy_name%22%3A%20%22Kinney%20Drugs%20%2311%22%2C%20%22pharmid%22%3A%20%22VT5%22%2C%20%22sat_close%22%3A%20%2218%3A00%3A00%22%2C%20%22sat_open%22%3A%20%229%3A00%3A00%22%2C%20%22sat_pharm%22%3A%201.0%2C%20%22sat_tech%22%3A%203.0%2C%20%22state%22%3A%20%22VT%22%2C%20%22sun_close%22%3A%20%2216%3A00%3A00%22%2C%20%22sun_open%22%3A%20%229%3A00%3A00%22%2C%20%22sun_pharm%22%3A%201.0%2C%20%22sun_tech%22%3A%203.0%2C%20%22type%22%3A%20%22chain%22%2C%20%22week_close%22%3A%20%2220%3A00%3A00%22%2C%20%22week_open%22%3A%20%229%3A00%3A00%22%2C%20%22week_pharm%22%3A%202.0%2C%20%22week_tech%22%3A%203.0%7D%2C%20%22type%22%3A%20%22Feature%22%7D%2C%20%7B%22bbox%22%3A%20%5B-72.591685%2C%2044.5745923%2C%20-72.591685%2C%2044.5745923%5D%2C%20%22geometry%22%3A%20%7B%22coordinates%22%3A%20%5B-72.591685%2C%2044.5745923%5D%2C%20%22type%22%3A%20%22Point%22%7D%2C%20%22id%22%3A%20%225%22%2C%20%22properties%22%3A%20%7B%22address%22%3A%20%2297%20Morrisville%20Plaza%20Po%20Box%20979%2C%20Morrisville%2C%20VT%22%2C%20%22lat%22%3A%2044.5745923%2C%20%22lon%22%3A%20-72.591685%2C%20%22pharmacy_name%22%3A%20%22Kinney%20Drugs%20%2323%22%2C%20%22pharmid%22%3A%20%22VT6%22%2C%20%22sat_close%22%3A%20%2218%3A00%3A00%22%2C%20%22sat_open%22%3A%20%229%3A00%3A00%22%2C%20%22sat_pharm%22%3A%201.0%2C%20%22sat_tech%22%3A%201.0%2C%20%22state%22%3A%20%22VT%22%2C%20%22sun_close%22%3A%20%2216%3A00%3A00%22%2C%20%22sun_open%22%3A%20%229%3A00%3A00%22%2C%20%22sun_pharm%22%3A%201.0%2C%20%22sun_tech%22%3A%201.0%2C%20%22type%22%3A%20%22chain%22%2C%20%22week_close%22%3A%20%2219%3A00%3A00%22%2C%20%22week_open%22%3A%20%228%3A00%3A00%22%2C%20%22week_pharm%22%3A%201.0%2C%20%22week_tech%22%3A%203.0%7D%2C%20%22type%22%3A%20%22Feature%22%7D%2C%20%7B%22bbox%22%3A%20%5B-72.962479%2C%2043.5990251%2C%20-72.962479%2C%2043.5990251%5D%2C%20%22geometry%22%3A%20%7B%22coordinates%22%3A%20%5B-72.962479%2C%2043.5990251%5D%2C%20%22type%22%3A%20%22Point%22%7D%2C%20%22id%22%3A%20%226%22%2C%20%22properties%22%3A%20%7B%22address%22%3A%20%2275%20Allen%20Street%20Rutland%2C%20VT%2005701%22%2C%20%22lat%22%3A%2043.5990251%2C%20%22lon%22%3A%20-72.962479%2C%20%22pharmacy_name%22%3A%20%22Rutland%20Pharmacy%22%2C%20%22pharmid%22%3A%20%22VT7%22%2C%20%22sat_close%22%3A%20%2218%3A00%3A00%22%2C%20%22sat_open%22%3A%20%229%3A00%3A00%22%2C%20%22sat_pharm%22%3A%201.0%2C%20%22sat_tech%22%3A%204.0%2C%20%22state%22%3A%20%22VT%22%2C%20%22sun_close%22%3A%20%2218%3A00%3A00%22%2C%20%22sun_open%22%3A%20%229%3A00%3A00%22%2C%20%22sun_pharm%22%3A%201.0%2C%20%22sun_tech%22%3A%204.0%2C%20%22type%22%3A%20%22independent%22%2C%20%22week_close%22%3A%20%2220%3A00%3A00%22%2C%20%22week_open%22%3A%20%228%3A00%3A00%22%2C%20%22week_pharm%22%3A%202.0%2C%20%22week_tech%22%3A%2015.0%7D%2C%20%22type%22%3A%20%22Feature%22%7D%2C%20%7B%22bbox%22%3A%20%5B-73.247375%2C%2044.5085803%2C%20-73.247375%2C%2044.5085803%5D%2C%20%22geometry%22%3A%20%7B%22coordinates%22%3A%20%5B-73.247375%2C%2044.5085803%5D%2C%20%22type%22%3A%20%22Point%22%7D%2C%20%22id%22%3A%20%227%22%2C%20%22properties%22%3A%20%7B%22address%22%3A%20%221219%20North%20Avenue%20Burlington%2C%20VT%2005408%22%2C%20%22lat%22%3A%2044.5085803%2C%20%22lon%22%3A%20-73.247375%2C%20%22pharmacy_name%22%3A%20%22Vermont%20Family%20Pharmacy%22%2C%20%22pharmid%22%3A%20%22VT8%22%2C%20%22sat_close%22%3A%20%2213%3A00%3A00%22%2C%20%22sat_open%22%3A%20%2210%3A00%3A00%22%2C%20%22sat_pharm%22%3A%201.0%2C%20%22sat_tech%22%3A%201.0%2C%20%22state%22%3A%20%22VT%22%2C%20%22sun_close%22%3A%20%22Closed%22%2C%20%22sun_open%22%3A%20%22Closed%22%2C%20%22sun_pharm%22%3A%20null%2C%20%22sun_tech%22%3A%20null%2C%20%22type%22%3A%20%22independent%22%2C%20%22week_close%22%3A%20%2218%3A00%3A00%22%2C%20%22week_open%22%3A%20%229%3A00%3A00%22%2C%20%22week_pharm%22%3A%203.0%2C%20%22week_tech%22%3A%202.0%7D%2C%20%22type%22%3A%20%22Feature%22%7D%2C%20%7B%22bbox%22%3A%20%5B-73.20802%2C%2044.4568582%2C%20-73.20802%2C%2044.4568582%5D%2C%20%22geometry%22%3A%20%7B%22coordinates%22%3A%20%5B-73.20802%2C%2044.4568582%5D%2C%20%22type%22%3A%20%22Point%22%7D%2C%20%22id%22%3A%20%228%22%2C%20%22properties%22%3A%20%7B%22address%22%3A%20%22308%20Shelburne%20Road%2C%20Burlington%2C%20VT%2005401%22%2C%20%22lat%22%3A%2044.4568582%2C%20%22lon%22%3A%20-73.20802%2C%20%22pharmacy_name%22%3A%20%22Kinney%20Drugs%20%2329%22%2C%20%22pharmid%22%3A%20%22VT9%22%2C%20%22sat_close%22%3A%20%2217%3A00%3A00%22%2C%20%22sat_open%22%3A%20%229%3A00%3A00%22%2C%20%22sat_pharm%22%3A%201.0%2C%20%22sat_tech%22%3A%201.0%2C%20%22state%22%3A%20%22VT%22%2C%20%22sun_close%22%3A%20%2215%3A00%3A00%22%2C%20%22sun_open%22%3A%20%229%3A00%3A00%22%2C%20%22sun_pharm%22%3A%201.0%2C%20%22sun_tech%22%3A%201.0%2C%20%22type%22%3A%20%22chain%22%2C%20%22week_close%22%3A%20%2219%3A00%3A00%22%2C%20%22week_open%22%3A%20%229%3A00%3A00%22%2C%20%22week_pharm%22%3A%201.0%2C%20%22week_tech%22%3A%202.0%7D%2C%20%22type%22%3A%20%22Feature%22%7D%2C%20%7B%22bbox%22%3A%20%5B-73.083914%2C%2044.5071379%2C%20-73.083914%2C%2044.5071379%5D%2C%20%22geometry%22%3A%20%7B%22coordinates%22%3A%20%5B-73.083914%2C%2044.5071379%5D%2C%20%22type%22%3A%20%22Point%22%7D%2C%20%22id%22%3A%20%229%22%2C%20%22properties%22%3A%20%7B%22address%22%3A%20%2221A%20Essex%20Way%2C%20Essex%20Junction%2C%20Vermont%2C%2005452%22%2C%20%22lat%22%3A%2044.5071379%2C%20%22lon%22%3A%20-73.083914%2C%20%22pharmacy_name%22%3A%20%22Hannaford%20%238353%22%2C%20%22pharmid%22%3A%20%22VT10%22%2C%20%22sat_close%22%3A%20%2218%3A00%3A00%22%2C%20%22sat_open%22%3A%20%229%3A00%3A00%22%2C%20%22sat_pharm%22%3A%201.0%2C%20%22sat_tech%22%3A%201.0%2C%20%22state%22%3A%20%22VT%22%2C%20%22sun_close%22%3A%20%2217%3A00%3A00%22%2C%20%22sun_open%22%3A%20%229%3A00%3A00%22%2C%20%22sun_pharm%22%3A%201.0%2C%20%22sun_tech%22%3A%201.0%2C%20%22type%22%3A%20%22grocery%22%2C%20%22week_close%22%3A%20%2220%3A00%3A00%22%2C%20%22week_open%22%3A%20%229%3A00%3A00%22%2C%20%22week_pharm%22%3A%201.0%2C%20%22week_tech%22%3A%203.0%7D%2C%20%22type%22%3A%20%22Feature%22%7D%2C%20%7B%22bbox%22%3A%20%5B-73.18361%2C%2044.4621221%2C%20-73.18361%2C%2044.4621221%5D%2C%20%22geometry%22%3A%20%7B%22coordinates%22%3A%20%5B-73.18361%2C%2044.4621221%5D%2C%20%22type%22%3A%20%22Point%22%7D%2C%20%22id%22%3A%20%2210%22%2C%20%22properties%22%3A%20%7B%22address%22%3A%20%22217%20Dorset%20St%2C%20South%20Burlington%2C%20Vermont%2C%2005401%22%2C%20%22lat%22%3A%2044.4621221%2C%20%22lon%22%3A%20-73.18361%2C%20%22pharmacy_name%22%3A%20%22Hannaford%20%238357%22%2C%20%22pharmid%22%3A%20%22VT11%22%2C%20%22sat_close%22%3A%20%2218%3A00%3A00%22%2C%20%22sat_open%22%3A%20%229%3A00%3A00%22%2C%20%22sat_pharm%22%3A%201.0%2C%20%22sat_tech%22%3A%201.0%2C%20%22state%22%3A%20%22VT%22%2C%20%22sun_close%22%3A%20%2217%3A00%3A00%22%2C%20%22sun_open%22%3A%20%229%3A00%3A00%22%2C%20%22sun_pharm%22%3A%201.0%2C%20%22sun_tech%22%3A%201.0%2C%20%22type%22%3A%20%22grocery%22%2C%20%22week_close%22%3A%20%2220%3A00%3A00%22%2C%20%22week_open%22%3A%20%229%3A00%3A00%22%2C%20%22week_pharm%22%3A%201.0%2C%20%22week_tech%22%3A%201.0%7D%2C%20%22type%22%3A%20%22Feature%22%7D%2C%20%7B%22bbox%22%3A%20%5B-73.242188%2C%2044.1734164%2C%20-73.242188%2C%2044.1734164%5D%2C%20%22geometry%22%3A%20%7B%22coordinates%22%3A%20%5B-73.242188%2C%2044.1734164%5D%2C%20%22type%22%3A%20%22Point%22%7D%2C%20%22id%22%3A%20%2211%22%2C%20%22properties%22%3A%20%7B%22address%22%3A%20%22115B%20Monkton%20Road%2C%20Vergennes%2C%20VT%2005491%22%2C%20%22lat%22%3A%2044.1734164%2C%20%22lon%22%3A%20-73.242188%2C%20%22pharmacy_name%22%3A%20%22Kinney%20Drugs%20%2322%22%2C%20%22pharmid%22%3A%20%22VT12%22%2C%20%22sat_close%22%3A%20%2217%3A00%3A00%22%2C%20%22sat_open%22%3A%20%229%3A00%3A00%22%2C%20%22sat_pharm%22%3A%20null%2C%20%22sat_tech%22%3A%20null%2C%20%22state%22%3A%20%22VT%22%2C%20%22sun_close%22%3A%20%2215%3A00%3A00%22%2C%20%22sun_open%22%3A%20%229%3A00%3A00%22%2C%20%22sun_pharm%22%3A%20null%2C%20%22sun_tech%22%3A%20null%2C%20%22type%22%3A%20%22chain%22%2C%20%22week_close%22%3A%20%2219%3A00%3A00%22%2C%20%22week_open%22%3A%20%229%3A00%3A00%22%2C%20%22week_pharm%22%3A%20null%2C%20%22week_tech%22%3A%20null%7D%2C%20%22type%22%3A%20%22Feature%22%7D%2C%20%7B%22bbox%22%3A%20%5B-73.21098%2C%2044.4493877%2C%20-73.21098%2C%2044.4493877%5D%2C%20%22geometry%22%3A%20%7B%22coordinates%22%3A%20%5B-73.21098%2C%2044.4493877%5D%2C%20%22type%22%3A%20%22Point%22%7D%2C%20%22id%22%3A%20%2212%22%2C%20%22properties%22%3A%20%7B%22address%22%3A%20%22595%20Shelburne%20Road%2C%20Burlington%2C%20VT%2005401%22%2C%20%22lat%22%3A%2044.4493877%2C%20%22lon%22%3A%20-73.21098%2C%20%22pharmacy_name%22%3A%20%22Price%20Chopper%20Pharmacy%20%23165%22%2C%20%22pharmid%22%3A%20%22VT13%22%2C%20%22sat_close%22%3A%20%2217%3A00%3A00%22%2C%20%22sat_open%22%3A%20%229%3A00%3A00%22%2C%20%22sat_pharm%22%3A%201.0%2C%20%22sat_tech%22%3A%201.0%2C%20%22state%22%3A%20%22VT%22%2C%20%22sun_close%22%3A%20%2217%3A00%3A00%22%2C%20%22sun_open%22%3A%20%229%3A00%3A00%22%2C%20%22sun_pharm%22%3A%201.0%2C%20%22sun_tech%22%3A%200.0%2C%20%22type%22%3A%20%22grocery%22%2C%20%22week_close%22%3A%20%2220%3A00%3A00%22%2C%20%22week_open%22%3A%20%228%3A00%3A00%22%2C%20%22week_pharm%22%3A%201.0%2C%20%22week_tech%22%3A%201.0%7D%2C%20%22type%22%3A%20%22Feature%22%7D%2C%20%7B%22bbox%22%3A%20%5B-72.656394%2C%2044.1488732%2C%20-72.656394%2C%2044.1488732%5D%2C%20%22geometry%22%3A%20%7B%22coordinates%22%3A%20%5B-72.656394%2C%2044.1488732%5D%2C%20%22type%22%3A%20%22Point%22%7D%2C%20%22id%22%3A%20%2213%22%2C%20%22properties%22%3A%20%7B%22address%22%3A%20%2214%20Depot%20Square%20Northfield%2C%20VT%2005663%22%2C%20%22lat%22%3A%2044.1488732%2C%20%22lon%22%3A%20-72.656394%2C%20%22pharmacy_name%22%3A%20%22Northfield%20Pharmacy%20%22%2C%20%22pharmid%22%3A%20%22VT14%22%2C%20%22sat_close%22%3A%20%2214%3A00%3A00%22%2C%20%22sat_open%22%3A%20%229%3A00%3A00%22%2C%20%22sat_pharm%22%3A%201.0%2C%20%22sat_tech%22%3A%200.0%2C%20%22state%22%3A%20%22VT%22%2C%20%22sun_close%22%3A%20%2212%3A00%3A00%22%2C%20%22sun_open%22%3A%20%228%3A00%3A00%22%2C%20%22sun_pharm%22%3A%201.0%2C%20%22sun_tech%22%3A%202.0%2C%20%22type%22%3A%20%22independent%22%2C%20%22week_close%22%3A%20%2218%3A00%3A00%22%2C%20%22week_open%22%3A%20%229%3A00%3A00%22%2C%20%22week_pharm%22%3A%202.0%2C%20%22week_tech%22%3A%202.0%7D%2C%20%22type%22%3A%20%22Feature%22%7D%2C%20%7B%22bbox%22%3A%20%5B-73.174321%2C%2044.5039486%2C%20-73.174321%2C%2044.5039486%5D%2C%20%22geometry%22%3A%20%7B%22coordinates%22%3A%20%5B-73.174321%2C%2044.5039486%5D%2C%20%22type%22%3A%20%22Point%22%7D%2C%20%22id%22%3A%20%2214%22%2C%20%22properties%22%3A%20%7B%22address%22%3A%20%22218%20Lower%20Mountain%20View%20Dr%2C%20Colchester%2C%20VT%2005446%22%2C%20%22lat%22%3A%2044.5039486%2C%20%22lon%22%3A%20-73.174321%2C%20%22pharmacy_name%22%3A%20%22Costco%20Pharmacy%20%23314%22%2C%20%22pharmid%22%3A%20%22VT15%22%2C%20%22sat_close%22%3A%20%2218%3A00%3A00%22%2C%20%22sat_open%22%3A%20%229%3A30%3A00%22%2C%20%22sat_pharm%22%3A%202.0%2C%20%22sat_tech%22%3A%205.0%2C%20%22state%22%3A%20%22VT%22%2C%20%22sun_close%22%3A%20%22Closed%22%2C%20%22sun_open%22%3A%20%22Closed%22%2C%20%22sun_pharm%22%3A%20null%2C%20%22sun_tech%22%3A%20null%2C%20%22type%22%3A%20%22department%22%2C%20%22week_close%22%3A%20%2219%3A00%3A00%22%2C%20%22week_open%22%3A%20%2210%3A00%3A00%22%2C%20%22week_pharm%22%3A%202.0%2C%20%22week_tech%22%3A%205.0%7D%2C%20%22type%22%3A%20%22Feature%22%7D%2C%20%7B%22bbox%22%3A%20%5B-73.164586%2C%2044.0108758%2C%20-73.164586%2C%2044.0108758%5D%2C%20%22geometry%22%3A%20%7B%22coordinates%22%3A%20%5B-73.164586%2C%2044.0108758%5D%2C%20%22type%22%3A%20%22Point%22%7D%2C%20%22id%22%3A%20%2215%22%2C%20%22properties%22%3A%20%7B%22address%22%3A%20%2240%20Court%20Street%2C%20Middlebury%2C%20VT%2005753%22%2C%20%22lat%22%3A%2044.0108758%2C%20%22lon%22%3A%20-73.164586%2C%20%22pharmacy_name%22%3A%20%22Kinney%20Drugs%20%2338%22%2C%20%22pharmid%22%3A%20%22VT16%22%2C%20%22sat_close%22%3A%20%2218%3A00%3A00%22%2C%20%22sat_open%22%3A%20%229%3A00%3A00%22%2C%20%22sat_pharm%22%3A%201.0%2C%20%22sat_tech%22%3A%201.0%2C%20%22state%22%3A%20%22VT%22%2C%20%22sun_close%22%3A%20%2216%3A00%3A00%22%2C%20%22sun_open%22%3A%20%229%3A00%3A00%22%2C%20%22sun_pharm%22%3A%201.0%2C%20%22sun_tech%22%3A%201.0%2C%20%22type%22%3A%20%22chain%22%2C%20%22week_close%22%3A%20%2220%3A00%3A00%22%2C%20%22week_open%22%3A%20%229%3A00%3A00%22%2C%20%22week_pharm%22%3A%201.0%2C%20%22week_tech%22%3A%203.0%7D%2C%20%22type%22%3A%20%22Feature%22%7D%2C%20%7B%22bbox%22%3A%20%5B-72.979824%2C%2043.6049713%2C%20-72.979824%2C%2043.6049713%5D%2C%20%22geometry%22%3A%20%7B%22coordinates%22%3A%20%5B-72.979824%2C%2043.6049713%5D%2C%20%22type%22%3A%20%22Point%22%7D%2C%20%22id%22%3A%20%2216%22%2C%20%22properties%22%3A%20%7B%22address%22%3A%20%22234%20Shopping%20Plaza%2C%20Rutland%2C%20VT%2005701%22%2C%20%22lat%22%3A%2043.6049713%2C%20%22lon%22%3A%20-72.979824%2C%20%22pharmacy_name%22%3A%20%22Price%20Chopper%20Pharmacy%20%23131%22%2C%20%22pharmid%22%3A%20%22VT17%22%2C%20%22sat_close%22%3A%20%2217%3A00%3A00%22%2C%20%22sat_open%22%3A%20%229%3A00%3A00%22%2C%20%22sat_pharm%22%3A%20null%2C%20%22sat_tech%22%3A%20null%2C%20%22state%22%3A%20%22VT%22%2C%20%22sun_close%22%3A%20%22Closed%22%2C%20%22sun_open%22%3A%20%22Closed%22%2C%20%22sun_pharm%22%3A%20null%2C%20%22sun_tech%22%3A%20null%2C%20%22type%22%3A%20%22grocery%22%2C%20%22week_close%22%3A%20%2219%3A00%3A00%22%2C%20%22week_open%22%3A%20%229%3A00%3A00%22%2C%20%22week_pharm%22%3A%20null%2C%20%22week_tech%22%3A%20null%7D%2C%20%22type%22%3A%20%22Feature%22%7D%2C%20%7B%22bbox%22%3A%20%5B-73.113686%2C%2044.4459042%2C%20-73.113686%2C%2044.4459042%5D%2C%20%22geometry%22%3A%20%7B%22coordinates%22%3A%20%5B-73.113686%2C%2044.4459042%5D%2C%20%22type%22%3A%20%22Point%22%7D%2C%20%22id%22%3A%20%2217%22%2C%20%22properties%22%3A%20%7B%22address%22%3A%20%2278%20Marshall%20Avenue%2C%20Williston%2C%20Vermont%2C%2005495%22%2C%20%22lat%22%3A%2044.4459042%2C%20%22lon%22%3A%20-73.113686%2C%20%22pharmacy_name%22%3A%20%22Hannaford%20%238398%22%2C%20%22pharmid%22%3A%20%22VT18%22%2C%20%22sat_close%22%3A%20%2218%3A00%3A00%22%2C%20%22sat_open%22%3A%20%229%3A00%3A00%22%2C%20%22sat_pharm%22%3A%201.0%2C%20%22sat_tech%22%3A%201.0%2C%20%22state%22%3A%20%22VT%22%2C%20%22sun_close%22%3A%20%2217%3A00%3A00%22%2C%20%22sun_open%22%3A%20%229%3A00%3A00%22%2C%20%22sun_pharm%22%3A%201.0%2C%20%22sun_tech%22%3A%201.0%2C%20%22type%22%3A%20%22grocery%22%2C%20%22week_close%22%3A%20%2220%3A00%3A00%22%2C%20%22week_open%22%3A%20%229%3A00%3A00%22%2C%20%22week_pharm%22%3A%201.0%2C%20%22week_tech%22%3A%202.0%7D%2C%20%22type%22%3A%20%22Feature%22%7D%2C%20%7B%22bbox%22%3A%20%5B-72.667843%2C%2043.0472267%2C%20-72.667843%2C%2043.0472267%5D%2C%20%22geometry%22%3A%20%7B%22coordinates%22%3A%20%5B-72.667843%2C%2043.0472267%5D%2C%20%22type%22%3A%20%22Point%22%7D%2C%20%22id%22%3A%20%2218%22%2C%20%22properties%22%3A%20%7B%22address%22%3A%20%22170%20Grafton%20Road%2C%20Townshend%2C%20VT%2005353%22%2C%20%22lat%22%3A%2043.0472267%2C%20%22lon%22%3A%20-72.667843%2C%20%22pharmacy_name%22%3A%20%22Messenger%20Valley%20Pharmacy%22%2C%20%22pharmid%22%3A%20%22VT19%22%2C%20%22sat_close%22%3A%20%2214%3A00%3A00%22%2C%20%22sat_open%22%3A%20%228%3A00%3A00%22%2C%20%22sat_pharm%22%3A%201.0%2C%20%22sat_tech%22%3A%202.0%2C%20%22state%22%3A%20%22VT%22%2C%20%22sun_close%22%3A%20%22Closed%22%2C%20%22sun_open%22%3A%20%22Closed%22%2C%20%22sun_pharm%22%3A%20null%2C%20%22sun_tech%22%3A%20null%2C%20%22type%22%3A%20%22independent%22%2C%20%22week_close%22%3A%20%2218%3A00%3A00%22%2C%20%22week_open%22%3A%20%228%3A00%3A00%22%2C%20%22week_pharm%22%3A%202.0%2C%20%22week_tech%22%3A%206.0%7D%2C%20%22type%22%3A%20%22Feature%22%7D%2C%20%7B%22bbox%22%3A%20%5B-73.122204%2C%2044.4415818%2C%20-73.122204%2C%2044.4415818%5D%2C%20%22geometry%22%3A%20%7B%22coordinates%22%3A%20%5B-73.122204%2C%2044.4415818%5D%2C%20%22type%22%3A%20%22Point%22%7D%2C%20%22id%22%3A%20%2219%22%2C%20%22properties%22%3A%20%7B%22address%22%3A%20%22863%20Harvest%20Ln%2C%20Williston%2C%20VT%22%2C%20%22lat%22%3A%2044.4415818%2C%20%22lon%22%3A%20-73.122204%2C%20%22pharmacy_name%22%3A%20%22Wal-Mart%20%20Pharmacy%20%2310-2224%22%2C%20%22pharmid%22%3A%20%22VT20%22%2C%20%22sat_close%22%3A%20%2219%3A00%3A00%22%2C%20%22sat_open%22%3A%20%229%3A00%3A00%22%2C%20%22sat_pharm%22%3A%201.0%2C%20%22sat_tech%22%3A%201.0%2C%20%22state%22%3A%20%22VT%22%2C%20%22sun_close%22%3A%20%2218%3A00%3A00%22%2C%20%22sun_open%22%3A%20%2210%3A00%3A00%22%2C%20%22sun_pharm%22%3A%201.0%2C%20%22sun_tech%22%3A%201.0%2C%20%22type%22%3A%20%22department%22%2C%20%22week_close%22%3A%20%2219%3A00%3A00%22%2C%20%22week_open%22%3A%20%228%3A00%3A00%22%2C%20%22week_pharm%22%3A%201.0%2C%20%22week_tech%22%3A%202.0%7D%2C%20%22type%22%3A%20%22Feature%22%7D%2C%20%7B%22bbox%22%3A%20%5B-72.980631%2C%2043.6053053%2C%20-72.980631%2C%2043.6053053%5D%2C%20%22geometry%22%3A%20%7B%22coordinates%22%3A%20%5B-72.980631%2C%2043.6053053%5D%2C%20%22type%22%3A%20%22Point%22%7D%2C%20%22id%22%3A%20%2220%22%2C%20%22properties%22%3A%20%7B%22address%22%3A%20%2290%20Shopping%20Plaza%2C%20Rutland%2C%20VT%22%2C%20%22lat%22%3A%2043.6053053%2C%20%22lon%22%3A%20-72.980631%2C%20%22pharmacy_name%22%3A%20%22Wal-Mart%20Pharmacy%20%2310-2530%22%2C%20%22pharmid%22%3A%20%22VT21%22%2C%20%22sat_close%22%3A%20%2219%3A00%3A00%22%2C%20%22sat_open%22%3A%20%229%3A00%3A00%22%2C%20%22sat_pharm%22%3A%201.0%2C%20%22sat_tech%22%3A%201.0%2C%20%22state%22%3A%20%22VT%22%2C%20%22sun_close%22%3A%20%2218%3A00%3A00%22%2C%20%22sun_open%22%3A%20%2210%3A00%3A00%22%2C%20%22sun_pharm%22%3A%201.0%2C%20%22sun_tech%22%3A%201.0%2C%20%22type%22%3A%20%22department%22%2C%20%22week_close%22%3A%20%2219%3A00%3A00%22%2C%20%22week_open%22%3A%20%228%3A00%3A00%22%2C%20%22week_pharm%22%3A%201.0%2C%20%22week_tech%22%3A%203.0%7D%2C%20%22type%22%3A%20%22Feature%22%7D%2C%20%7B%22bbox%22%3A%20%5B-72.971075%2C%2043.5859457%2C%20-72.971075%2C%2043.5859457%5D%2C%20%22geometry%22%3A%20%7B%22coordinates%22%3A%20%5B-72.971075%2C%2043.5859457%5D%2C%20%22type%22%3A%20%22Point%22%7D%2C%20%22id%22%3A%20%2221%22%2C%20%22properties%22%3A%20%7B%22address%22%3A%20%22318%20South%20Main%20St%2C%20Rutland%2C%20Vermont%2C%2005701%22%2C%20%22lat%22%3A%2043.5859457%2C%20%22lon%22%3A%20-72.971075%2C%20%22pharmacy_name%22%3A%20%22Hannaford%20%238306%22%2C%20%22pharmid%22%3A%20%22VT22%22%2C%20%22sat_close%22%3A%20%2218%3A00%3A00%22%2C%20%22sat_open%22%3A%20%229%3A00%3A00%22%2C%20%22sat_pharm%22%3A%201.0%2C%20%22sat_tech%22%3A%201.0%2C%20%22state%22%3A%20%22VT%22%2C%20%22sun_close%22%3A%20%2217%3A00%3A00%22%2C%20%22sun_open%22%3A%20%229%3A00%3A00%22%2C%20%22sun_pharm%22%3A%201.0%2C%20%22sun_tech%22%3A%201.0%2C%20%22type%22%3A%20%22grocery%22%2C%20%22week_close%22%3A%20%2220%3A00%3A00%22%2C%20%22week_open%22%3A%20%229%3A00%3A00%22%2C%20%22week_pharm%22%3A%201.0%2C%20%22week_tech%22%3A%202.0%7D%2C%20%22type%22%3A%20%22Feature%22%7D%2C%20%7B%22bbox%22%3A%20%5B-73.080367%2C%2044.8414778%2C%20-73.080367%2C%2044.8414778%5D%2C%20%22geometry%22%3A%20%7B%22coordinates%22%3A%20%5B-73.080367%2C%2044.8414778%5D%2C%20%22type%22%3A%20%22Point%22%7D%2C%20%22id%22%3A%20%2222%22%2C%20%22properties%22%3A%20%7B%22address%22%3A%20%22290%20Highgate%20Commons%20Road%2C%20St%20Albans%2C%20Vermont%2C%2005478%22%2C%20%22lat%22%3A%2044.8414778%2C%20%22lon%22%3A%20-73.080367%2C%20%22pharmacy_name%22%3A%20%22Hannaford%20%238355%22%2C%20%22pharmid%22%3A%20%22VT23%22%2C%20%22sat_close%22%3A%20%2218%3A00%3A00%22%2C%20%22sat_open%22%3A%20%229%3A00%3A00%22%2C%20%22sat_pharm%22%3A%201.0%2C%20%22sat_tech%22%3A%201.0%2C%20%22state%22%3A%20%22VT%22%2C%20%22sun_close%22%3A%20%2217%3A00%3A00%22%2C%20%22sun_open%22%3A%20%229%3A00%3A00%22%2C%20%22sun_pharm%22%3A%201.0%2C%20%22sun_tech%22%3A%201.0%2C%20%22type%22%3A%20%22grocery%22%2C%20%22week_close%22%3A%20%2220%3A00%3A00%22%2C%20%22week_open%22%3A%20%229%3A00%3A00%22%2C%20%22week_pharm%22%3A%201.0%2C%20%22week_tech%22%3A%202.0%7D%2C%20%22type%22%3A%20%22Feature%22%7D%2C%20%7B%22bbox%22%3A%20%5B-73.083852%2C%2044.8354982%2C%20-73.083852%2C%2044.8354982%5D%2C%20%22geometry%22%3A%20%7B%22coordinates%22%3A%20%5B-73.083852%2C%2044.8354982%5D%2C%20%22type%22%3A%20%22Point%22%7D%2C%20%22id%22%3A%20%2223%22%2C%20%22properties%22%3A%20%7B%22address%22%3A%20%22170%20Swanton%20Rd.%20Rte.%207%2C%20St.%20Albans%2C%20VT%2005478%22%2C%20%22lat%22%3A%2044.8354982%2C%20%22lon%22%3A%20-73.083852%2C%20%22pharmacy_name%22%3A%20%22Price%20Chopper%20Pharmacy%20%23127%22%2C%20%22pharmid%22%3A%20%22VT24%22%2C%20%22sat_close%22%3A%20%2217%3A00%3A00%22%2C%20%22sat_open%22%3A%20%229%3A00%3A00%22%2C%20%22sat_pharm%22%3A%20null%2C%20%22sat_tech%22%3A%20null%2C%20%22state%22%3A%20%22VT%22%2C%20%22sun_close%22%3A%20%22Closed%22%2C%20%22sun_open%22%3A%20%22Closed%22%2C%20%22sun_pharm%22%3A%20null%2C%20%22sun_tech%22%3A%20null%2C%20%22type%22%3A%20%22grocery%22%2C%20%22week_close%22%3A%20%2219%3A00%3A00%22%2C%20%22week_open%22%3A%20%229%3A00%3A00%22%2C%20%22week_pharm%22%3A%20null%2C%20%22week_tech%22%3A%20null%7D%2C%20%22type%22%3A%20%22Feature%22%7D%2C%20%7B%22bbox%22%3A%20%5B-73.194585%2C%2044.4790648%2C%20-73.194585%2C%2044.4790648%5D%2C%20%22geometry%22%3A%20%7B%22coordinates%22%3A%20%5B-73.194585%2C%2044.4790648%5D%2C%20%22type%22%3A%20%22Point%22%7D%2C%20%22id%22%3A%20%2224%22%2C%20%22properties%22%3A%20%7B%22address%22%3A%20%22111%20Colchester%20Ave%2C%20Burlington%2C%20VT%22%2C%20%22lat%22%3A%2044.4790648%2C%20%22lon%22%3A%20-73.194585%2C%20%22pharmacy_name%22%3A%20%22University%20of%20Vermont%20Medical%20Center%20Outpatient%20Pharmacy%22%2C%20%22pharmid%22%3A%20%22VT25%22%2C%20%22sat_close%22%3A%20%2217%3A00%3A00%22%2C%20%22sat_open%22%3A%20%228%3A30%3A00%22%2C%20%22sat_pharm%22%3A%202.0%2C%20%22sat_tech%22%3A%204.0%2C%20%22state%22%3A%20%22VT%22%2C%20%22sun_close%22%3A%20%2217%3A00%3A00%22%2C%20%22sun_open%22%3A%20%228%3A30%3A00%22%2C%20%22sun_pharm%22%3A%202.0%2C%20%22sun_tech%22%3A%204.0%2C%20%22type%22%3A%20%22hospital%22%2C%20%22week_close%22%3A%20%2221%3A00%3A00%22%2C%20%22week_open%22%3A%20%227%3A30%3A00%22%2C%20%22week_pharm%22%3A%203.0%2C%20%22week_tech%22%3A%206.0%7D%2C%20%22type%22%3A%20%22Feature%22%7D%2C%20%7B%22bbox%22%3A%20%5B-73.157056%2C%2044.4967903%2C%20-73.157056%2C%2044.4967903%5D%2C%20%22geometry%22%3A%20%7B%22coordinates%22%3A%20%5B-73.157056%2C%2044.4967903%5D%2C%20%22type%22%3A%20%22Point%22%7D%2C%20%22id%22%3A%20%2225%22%2C%20%22properties%22%3A%20%7B%22address%22%3A%20%22792%20College%20Pkwy%20Ste%20103%2C%20Colchester%2C%20VT%22%2C%20%22lat%22%3A%2044.4967903%2C%20%22lon%22%3A%20-73.157056%2C%20%22pharmacy_name%22%3A%20%22University%20of%20Vermont%20Medical%20Center%20Outpatient%20Pharmacy%22%2C%20%22pharmid%22%3A%20%22VT26%22%2C%20%22sat_close%22%3A%20%22Closed%22%2C%20%22sat_open%22%3A%20%22Closed%22%2C%20%22sat_pharm%22%3A%20null%2C%20%22sat_tech%22%3A%20null%2C%20%22state%22%3A%20%22VT%22%2C%20%22sun_close%22%3A%20%22Closed%22%2C%20%22sun_open%22%3A%20%22Closed%22%2C%20%22sun_pharm%22%3A%20null%2C%20%22sun_tech%22%3A%20null%2C%20%22type%22%3A%20%22hospital%22%2C%20%22week_close%22%3A%20%2217%3A00%3A00%22%2C%20%22week_open%22%3A%20%228%3A30%3A00%22%2C%20%22week_pharm%22%3A%201.0%2C%20%22week_tech%22%3A%202.0%7D%2C%20%22type%22%3A%20%22Feature%22%7D%2C%20%7B%22bbox%22%3A%20%5B-73.201427%2C%2044.4801784%2C%20-73.201427%2C%2044.4801784%5D%2C%20%22geometry%22%3A%20%7B%22coordinates%22%3A%20%5B-73.201427%2C%2044.4801784%5D%2C%20%22type%22%3A%20%22Point%22%7D%2C%20%22id%22%3A%20%2226%22%2C%20%22properties%22%3A%20%7B%22address%22%3A%20%221%20S%20Prospect%20St%2C%20Burlington%2C%20VT%22%2C%20%22lat%22%3A%2044.4801784%2C%20%22lon%22%3A%20-73.201427%2C%20%22pharmacy_name%22%3A%20%22University%20of%20Vermont%20Medical%20Center%20OutpatientPharmacy%22%2C%20%22pharmid%22%3A%20%22VT27%22%2C%20%22sat_close%22%3A%20%22Closed%22%2C%20%22sat_open%22%3A%20%22Closed%22%2C%20%22sat_pharm%22%3A%20null%2C%20%22sat_tech%22%3A%20null%2C%20%22state%22%3A%20%22VT%22%2C%20%22sun_close%22%3A%20%22Closed%22%2C%20%22sun_open%22%3A%20%22Closed%22%2C%20%22sun_pharm%22%3A%20null%2C%20%22sun_tech%22%3A%20null%2C%20%22type%22%3A%20%22hospital%22%2C%20%22week_close%22%3A%20%2217%3A00%3A00%22%2C%20%22week_open%22%3A%20%228%3A30%3A00%22%2C%20%22week_pharm%22%3A%202.0%2C%20%22week_tech%22%3A%202.0%7D%2C%20%22type%22%3A%20%22Feature%22%7D%2C%20%7B%22bbox%22%3A%20%5B-72.56494%2C%2044.217042%2C%20-72.56494%2C%2044.217042%5D%2C%20%22geometry%22%3A%20%7B%22coordinates%22%3A%20%5B-72.56494%2C%2044.217042%5D%2C%20%22type%22%3A%20%22Point%22%7D%2C%20%22id%22%3A%20%2227%22%2C%20%22properties%22%3A%20%7B%22address%22%3A%20%22282%20Berlin%20Mall%20Rd%20Ste%201%2C%20Berlin%2C%20VT%22%2C%20%22lat%22%3A%2044.217042%2C%20%22lon%22%3A%20-72.56494%2C%20%22pharmacy_name%22%3A%20%22Wal-Mart%20Pharmacy%2010-2682%22%2C%20%22pharmid%22%3A%20%22VT28%22%2C%20%22sat_close%22%3A%20%2219%3A00%3A00%22%2C%20%22sat_open%22%3A%20%229%3A00%3A00%22%2C%20%22sat_pharm%22%3A%201.0%2C%20%22sat_tech%22%3A%201.0%2C%20%22state%22%3A%20%22VT%22%2C%20%22sun_close%22%3A%20%2218%3A00%3A00%22%2C%20%22sun_open%22%3A%20%2210%3A00%3A00%22%2C%20%22sun_pharm%22%3A%201.0%2C%20%22sun_tech%22%3A%201.0%2C%20%22type%22%3A%20%22department%22%2C%20%22week_close%22%3A%20%2219%3A00%3A00%22%2C%20%22week_open%22%3A%20%228%3A00%3A00%22%2C%20%22week_pharm%22%3A%202.0%2C%20%22week_tech%22%3A%205.0%7D%2C%20%22type%22%3A%20%22Feature%22%7D%2C%20%7B%22bbox%22%3A%20%5B-73.212034%2C%2042.897737%2C%20-73.212034%2C%2042.897737%5D%2C%20%22geometry%22%3A%20%7B%22coordinates%22%3A%20%5B-73.212034%2C%2042.897737%5D%2C%20%22type%22%3A%20%22Point%22%7D%2C%20%22id%22%3A%20%2228%22%2C%20%22properties%22%3A%20%7B%22address%22%3A%20%22212%20Northside%20Dr%2C%20Bennington%2C%20VT%22%2C%20%22lat%22%3A%2042.897737%2C%20%22lon%22%3A%20-73.212034%2C%20%22pharmacy_name%22%3A%20%22Wal-Mart%20Pharmacy%20%23%2010-2289%22%2C%20%22pharmid%22%3A%20%22VT29%22%2C%20%22sat_close%22%3A%20%2219%3A00%3A00%22%2C%20%22sat_open%22%3A%20%229%3A00%3A00%22%2C%20%22sat_pharm%22%3A%201.0%2C%20%22sat_tech%22%3A%201.0%2C%20%22state%22%3A%20%22VT%22%2C%20%22sun_close%22%3A%20%2218%3A00%3A00%22%2C%20%22sun_open%22%3A%20%2210%3A00%3A00%22%2C%20%22sun_pharm%22%3A%201.0%2C%20%22sun_tech%22%3A%201.0%2C%20%22type%22%3A%20%22department%22%2C%20%22week_close%22%3A%20%2219%3A00%3A00%22%2C%20%22week_open%22%3A%20%228%3A00%3A00%22%2C%20%22week_pharm%22%3A%201.0%2C%20%22week_tech%22%3A%203.0%7D%2C%20%22type%22%3A%20%22Feature%22%7D%2C%20%7B%22bbox%22%3A%20%5B-73.122746%2C%2044.6218481%2C%20-73.122746%2C%2044.6218481%5D%2C%20%22geometry%22%3A%20%7B%22coordinates%22%3A%20%5B-73.122746%2C%2044.6218481%5D%2C%20%22type%22%3A%20%22Point%22%7D%2C%20%22id%22%3A%20%2229%22%2C%20%22properties%22%3A%20%7B%22address%22%3A%20%223%20Centre%20Drive%2C%20Milton%2C%20VT%2005468%22%2C%20%22lat%22%3A%2044.6218481%2C%20%22lon%22%3A%20-73.122746%2C%20%22pharmacy_name%22%3A%20%22Kinney%20Drugs%20%2335%22%2C%20%22pharmid%22%3A%20%22VT30%22%2C%20%22sat_close%22%3A%20%2218%3A00%3A00%22%2C%20%22sat_open%22%3A%20%229%3A00%3A00%22%2C%20%22sat_pharm%22%3A%201.0%2C%20%22sat_tech%22%3A%201.0%2C%20%22state%22%3A%20%22VT%22%2C%20%22sun_close%22%3A%20%2216%3A00%3A00%22%2C%20%22sun_open%22%3A%20%229%3A00%3A00%22%2C%20%22sun_pharm%22%3A%201.0%2C%20%22sun_tech%22%3A%201.0%2C%20%22type%22%3A%20%22chain%22%2C%20%22week_close%22%3A%20%2220%3A00%3A00%22%2C%20%22week_open%22%3A%20%229%3A00%3A00%22%2C%20%22week_pharm%22%3A%201.0%2C%20%22week_tech%22%3A%202.0%7D%2C%20%22type%22%3A%20%22Feature%22%7D%2C%20%7B%22bbox%22%3A%20%5B-73.158992%2C%2044.4636532%2C%20-73.158992%2C%2044.4636532%5D%2C%20%22geometry%22%3A%20%7B%22coordinates%22%3A%20%5B-73.158992%2C%2044.4636532%5D%2C%20%22type%22%3A%20%22Point%22%7D%2C%20%22id%22%3A%20%2230%22%2C%20%22properties%22%3A%20%7B%22address%22%3A%20%221653%20Williston%20Road%2C%20%20South%20Burlington%2C%20VT%22%2C%20%22lat%22%3A%2044.4636532%2C%20%22lon%22%3A%20-73.158992%2C%20%22pharmacy_name%22%3A%20%22Kinney%20Drugs%20%2355%22%2C%20%22pharmid%22%3A%20%22VT31%22%2C%20%22sat_close%22%3A%20%2217%3A00%3A00%22%2C%20%22sat_open%22%3A%20%229%3A00%3A00%22%2C%20%22sat_pharm%22%3A%201.0%2C%20%22sat_tech%22%3A%201.0%2C%20%22state%22%3A%20%22VT%22%2C%20%22sun_close%22%3A%20%2213%3A00%3A00%22%2C%20%22sun_open%22%3A%20%229%3A00%3A00%22%2C%20%22sun_pharm%22%3A%201.0%2C%20%22sun_tech%22%3A%201.0%2C%20%22type%22%3A%20%22chain%22%2C%20%22week_close%22%3A%20%2219%3A00%3A00%22%2C%20%22week_open%22%3A%20%229%3A00%3A00%22%2C%20%22week_pharm%22%3A%201.0%2C%20%22week_tech%22%3A%201.0%7D%2C%20%22type%22%3A%20%22Feature%22%7D%2C%20%7B%22bbox%22%3A%20%5B-72.119599%2C%2043.9806695%2C%20-72.119599%2C%2043.9806695%5D%2C%20%22geometry%22%3A%20%7B%22coordinates%22%3A%20%5B-72.119599%2C%2043.9806695%5D%2C%20%22type%22%3A%20%22Point%22%7D%2C%20%22id%22%3A%20%2231%22%2C%20%22properties%22%3A%20%7B%22address%22%3A%20%22901%20Lower%20Plain%2C%20%20Bradford%2C%20VT%2005033%22%2C%20%22lat%22%3A%2043.9806695%2C%20%22lon%22%3A%20-72.119599%2C%20%22pharmacy_name%22%3A%20%22Kinney%20Drugs%20%2356%22%2C%20%22pharmid%22%3A%20%22VT32%22%2C%20%22sat_close%22%3A%20%2217%3A00%3A00%22%2C%20%22sat_open%22%3A%20%229%3A00%3A00%22%2C%20%22sat_pharm%22%3A%201.0%2C%20%22sat_tech%22%3A%202.0%2C%20%22state%22%3A%20%22VT%22%2C%20%22sun_close%22%3A%20%2214%3A00%3A00%22%2C%20%22sun_open%22%3A%20%229%3A00%3A00%22%2C%20%22sun_pharm%22%3A%201.0%2C%20%22sun_tech%22%3A%201.0%2C%20%22type%22%3A%20%22chain%22%2C%20%22week_close%22%3A%20%2219%3A00%3A00%22%2C%20%22week_open%22%3A%20%229%3A00%3A00%22%2C%20%22week_pharm%22%3A%201.0%2C%20%22week_tech%22%3A%205.0%7D%2C%20%22type%22%3A%20%22Feature%22%7D%2C%20%7B%22bbox%22%3A%20%5B-72.16458%2C%2044.9510114%2C%20-72.16458%2C%2044.9510114%5D%2C%20%22geometry%22%3A%20%7B%22coordinates%22%3A%20%5B-72.16458%2C%2044.9510114%5D%2C%20%22type%22%3A%20%22Point%22%7D%2C%20%22id%22%3A%20%2232%22%2C%20%22properties%22%3A%20%7B%22address%22%3A%20%2255%20Shattuck%20Hill%20Road%2C%20Newport%2C%20VT%2005855%22%2C%20%22lat%22%3A%2044.9510114%2C%20%22lon%22%3A%20-72.16458%2C%20%22pharmacy_name%22%3A%20%22Kinney%20Drugs%20%2358%22%2C%20%22pharmid%22%3A%20%22VT33%22%2C%20%22sat_close%22%3A%20%2217%3A00%3A00%22%2C%20%22sat_open%22%3A%20%229%3A00%3A00%22%2C%20%22sat_pharm%22%3A%201.0%2C%20%22sat_tech%22%3A%204.0%2C%20%22state%22%3A%20%22VT%22%2C%20%22sun_close%22%3A%20%2216%3A00%3A00%22%2C%20%22sun_open%22%3A%20%229%3A00%3A00%22%2C%20%22sun_pharm%22%3A%201.0%2C%20%22sun_tech%22%3A%203.0%2C%20%22type%22%3A%20%22chain%22%2C%20%22week_close%22%3A%20%2219%3A00%3A00%22%2C%20%22week_open%22%3A%20%228%3A00%3A00%22%2C%20%22week_pharm%22%3A%202.0%2C%20%22week_tech%22%3A%206.0%7D%2C%20%22type%22%3A%20%22Feature%22%7D%2C%20%7B%22bbox%22%3A%20%5B-73.212151%2C%2042.8975753%2C%20-73.212151%2C%2042.8975753%5D%2C%20%22geometry%22%3A%20%7B%22coordinates%22%3A%20%5B-73.212151%2C%2042.8975753%5D%2C%20%22type%22%3A%20%22Point%22%7D%2C%20%22id%22%3A%20%2233%22%2C%20%22properties%22%3A%20%7B%22address%22%3A%20%22214%20Northside%20Drive%2C%20Bennington%2C%20VT%2005201%22%2C%20%22lat%22%3A%2042.8975753%2C%20%22lon%22%3A%20-73.212151%2C%20%22pharmacy_name%22%3A%20%22Price%20Chopper%20Pharmacy%20%23171%22%2C%20%22pharmid%22%3A%20%22VT34%22%2C%20%22sat_close%22%3A%20%2217%3A00%3A00%22%2C%20%22sat_open%22%3A%20%229%3A00%3A00%22%2C%20%22sat_pharm%22%3A%201.0%2C%20%22sat_tech%22%3A%200.0%2C%20%22state%22%3A%20%22VT%22%2C%20%22sun_close%22%3A%20%2217%3A00%3A00%22%2C%20%22sun_open%22%3A%20%229%3A00%3A00%22%2C%20%22sun_pharm%22%3A%201.0%2C%20%22sun_tech%22%3A%200.0%2C%20%22type%22%3A%20%22grocery%22%2C%20%22week_close%22%3A%20%2220%3A00%3A00%22%2C%20%22week_open%22%3A%20%229%3A00%3A00%22%2C%20%22week_pharm%22%3A%201.0%2C%20%22week_tech%22%3A%202.0%7D%2C%20%22type%22%3A%20%22Feature%22%7D%2C%20%7B%22bbox%22%3A%20%5B-72.497956%2C%2043.3092014%2C%20-72.497956%2C%2043.3092014%5D%2C%20%22geometry%22%3A%20%7B%22coordinates%22%3A%20%5B-72.497956%2C%2043.3092014%5D%2C%20%22type%22%3A%20%22Point%22%7D%2C%20%22id%22%3A%20%2234%22%2C%20%22properties%22%3A%20%7B%22address%22%3A%20%22262%20River%20Street%20Springfield%2C%20VT%2005156%22%2C%20%22lat%22%3A%2043.3092014%2C%20%22lon%22%3A%20-72.497956%2C%20%22pharmacy_name%22%3A%20%22Springfield%20Pharmacy%22%2C%20%22pharmid%22%3A%20%22VT35%22%2C%20%22sat_close%22%3A%20%2213%3A00%3A00%22%2C%20%22sat_open%22%3A%20%229%3A00%3A00%22%2C%20%22sat_pharm%22%3A%201.0%2C%20%22sat_tech%22%3A%201.0%2C%20%22state%22%3A%20%22VT%22%2C%20%22sun_close%22%3A%20%2213%3A00%3A00%22%2C%20%22sun_open%22%3A%20%229%3A00%3A00%22%2C%20%22sun_pharm%22%3A%201.0%2C%20%22sun_tech%22%3A%201.0%2C%20%22type%22%3A%20%22independent%22%2C%20%22week_close%22%3A%20%2219%3A00%3A00%22%2C%20%22week_open%22%3A%20%229%3A00%3A00%22%2C%20%22week_pharm%22%3A%201.0%2C%20%22week_tech%22%3A%202.0%7D%2C%20%22type%22%3A%20%22Feature%22%7D%2C%20%7B%22bbox%22%3A%20%5B-73.065811%2C%2044.5118603%2C%20-73.065811%2C%2044.5118603%5D%2C%20%22geometry%22%3A%20%7B%22coordinates%22%3A%20%5B-73.065811%2C%2044.5118603%5D%2C%20%22type%22%3A%20%22Point%22%7D%2C%20%22id%22%3A%20%2235%22%2C%20%22properties%22%3A%20%7B%22address%22%3A%20%2290%20Center%20Road%2C%20Essex%20Junction%2C%20VT%2005452%22%2C%20%22lat%22%3A%2044.5118603%2C%20%22lon%22%3A%20-73.065811%2C%20%22pharmacy_name%22%3A%20%22Price%20Chopper%20Pharmacy%20%23192%22%2C%20%22pharmid%22%3A%20%22VT36%22%2C%20%22sat_close%22%3A%20%2217%3A00%3A00%22%2C%20%22sat_open%22%3A%20%229%3A00%3A00%22%2C%20%22sat_pharm%22%3A%201.0%2C%20%22sat_tech%22%3A%200.0%2C%20%22state%22%3A%20%22VT%22%2C%20%22sun_close%22%3A%20%2217%3A00%3A00%22%2C%20%22sun_open%22%3A%20%229%3A00%3A00%22%2C%20%22sun_pharm%22%3A%201.0%2C%20%22sun_tech%22%3A%200.0%2C%20%22type%22%3A%20%22grocery%22%2C%20%22week_close%22%3A%20%2220%3A00%3A00%22%2C%20%22week_open%22%3A%20%228%3A00%3A00%22%2C%20%22week_pharm%22%3A%201.0%2C%20%22week_tech%22%3A%201.0%7D%2C%20%22type%22%3A%20%22Feature%22%7D%2C%20%7B%22bbox%22%3A%20%5B-72.596656%2C%2044.5728994%2C%20-72.596656%2C%2044.5728994%5D%2C%20%22geometry%22%3A%20%7B%22coordinates%22%3A%20%5B-72.596656%2C%2044.5728994%5D%2C%20%22type%22%3A%20%22Point%22%7D%2C%20%22id%22%3A%20%2236%22%2C%20%22properties%22%3A%20%7B%22address%22%3A%20%2280%20Fairgrounds%20Plaza%2CMorrisville%2C%20Vermont%2C%2005661%22%2C%20%22lat%22%3A%2044.5728994%2C%20%22lon%22%3A%20-72.596656%2C%20%22pharmacy_name%22%3A%20%22Hannaford%20%238162%22%2C%20%22pharmid%22%3A%20%22VT37%22%2C%20%22sat_close%22%3A%20%2218%3A00%3A00%22%2C%20%22sat_open%22%3A%20%229%3A00%3A00%22%2C%20%22sat_pharm%22%3A%201.0%2C%20%22sat_tech%22%3A%201.0%2C%20%22state%22%3A%20%22VT%22%2C%20%22sun_close%22%3A%20%2217%3A00%3A00%22%2C%20%22sun_open%22%3A%20%229%3A00%3A00%22%2C%20%22sun_pharm%22%3A%201.0%2C%20%22sun_tech%22%3A%201.0%2C%20%22type%22%3A%20%22grocery%22%2C%20%22week_close%22%3A%20%2220%3A00%3A00%22%2C%20%22week_open%22%3A%20%229%3A00%3A00%22%2C%20%22week_pharm%22%3A%201.0%2C%20%22week_tech%22%3A%202.0%7D%2C%20%22type%22%3A%20%22Feature%22%7D%2C%20%7B%22bbox%22%3A%20%5B-73.244441%2C%2044.5063431%2C%20-73.244441%2C%2044.5063431%5D%2C%20%22geometry%22%3A%20%7B%22coordinates%22%3A%20%5B-73.244441%2C%2044.5063431%5D%2C%20%22type%22%3A%20%22Point%22%7D%2C%20%22id%22%3A%20%2237%22%2C%20%22properties%22%3A%20%7B%22address%22%3A%20%221127%20North%20Avenue%2C%20Burlington%2C%20Vermont%2C%2005408%22%2C%20%22lat%22%3A%2044.5063431%2C%20%22lon%22%3A%20-73.244441%2C%20%22pharmacy_name%22%3A%20%22Hannaford%20%20%238161%22%2C%20%22pharmid%22%3A%20%22VT38%22%2C%20%22sat_close%22%3A%20%2218%3A00%3A00%22%2C%20%22sat_open%22%3A%20%229%3A00%3A00%22%2C%20%22sat_pharm%22%3A%201.0%2C%20%22sat_tech%22%3A%201.0%2C%20%22state%22%3A%20%22VT%22%2C%20%22sun_close%22%3A%20%2217%3A00%3A00%22%2C%20%22sun_open%22%3A%20%229%3A00%3A00%22%2C%20%22sun_pharm%22%3A%201.0%2C%20%22sun_tech%22%3A%201.0%2C%20%22type%22%3A%20%22grocery%22%2C%20%22week_close%22%3A%20%2220%3A00%3A00%22%2C%20%22week_open%22%3A%20%229%3A00%3A00%22%2C%20%22week_pharm%22%3A%201.0%2C%20%22week_tech%22%3A%202.0%7D%2C%20%22type%22%3A%20%22Feature%22%7D%2C%20%7B%22bbox%22%3A%20%5B-72.505793%2C%2044.1741328%2C%20-72.505793%2C%2044.1741328%5D%2C%20%22geometry%22%3A%20%7B%22coordinates%22%3A%20%5B-72.505793%2C%2044.1741328%5D%2C%20%22type%22%3A%20%22Point%22%7D%2C%20%22id%22%3A%20%2238%22%2C%20%22properties%22%3A%20%7B%22address%22%3A%20%22456%20South%20Barre%20Road%2C%20Barre%2C%20Vermont%2C%2005641%22%2C%20%22lat%22%3A%2044.1741328%2C%20%22lon%22%3A%20-72.505793%2C%20%22pharmacy_name%22%3A%20%22Hannaford%20%238129%22%2C%20%22pharmid%22%3A%20%22VT39%22%2C%20%22sat_close%22%3A%20%2218%3A00%3A00%22%2C%20%22sat_open%22%3A%20%229%3A00%3A00%22%2C%20%22sat_pharm%22%3A%201.0%2C%20%22sat_tech%22%3A%201.0%2C%20%22state%22%3A%20%22VT%22%2C%20%22sun_close%22%3A%20%2217%3A00%3A00%22%2C%20%22sun_open%22%3A%20%229%3A00%3A00%22%2C%20%22sun_pharm%22%3A%201.0%2C%20%22sun_tech%22%3A%201.0%2C%20%22type%22%3A%20%22grocery%22%2C%20%22week_close%22%3A%20%2220%3A00%3A00%22%2C%20%22week_open%22%3A%20%229%3A00%3A00%22%2C%20%22week_pharm%22%3A%201.0%2C%20%22week_tech%22%3A%203.0%7D%2C%20%22type%22%3A%20%22Feature%22%7D%2C%20%7B%22bbox%22%3A%20%5B-72.56457%2C%2042.8390823%2C%20-72.56457%2C%2042.8390823%5D%2C%20%22geometry%22%3A%20%7B%22coordinates%22%3A%20%5B-72.56457%2C%2042.8390823%5D%2C%20%22type%22%3A%20%22Point%22%7D%2C%20%22id%22%3A%20%2239%22%2C%20%22properties%22%3A%20%7B%22address%22%3A%20%22476%20Canal%20St%2C%20Brattleboro%2C%20VT%22%2C%20%22lat%22%3A%2042.8390823%2C%20%22lon%22%3A%20-72.56457%2C%20%22pharmacy_name%22%3A%20%22Walgreens%20%20Pharmacy%20%2307270%22%2C%20%22pharmid%22%3A%20%22VT40%22%2C%20%22sat_close%22%3A%20%2218%3A00%3A00%22%2C%20%22sat_open%22%3A%20%229%3A00%3A00%22%2C%20%22sat_pharm%22%3A%20null%2C%20%22sat_tech%22%3A%20null%2C%20%22state%22%3A%20%22VT%22%2C%20%22sun_close%22%3A%20%2217%3A00%3A00%22%2C%20%22sun_open%22%3A%20%229%3A00%3A00%22%2C%20%22sun_pharm%22%3A%20null%2C%20%22sun_tech%22%3A%20null%2C%20%22type%22%3A%20%22chain%22%2C%20%22week_close%22%3A%20%2220%3A00%3A00%22%2C%20%22week_open%22%3A%20%229%3A00%3A00%22%2C%20%22week_pharm%22%3A%20null%2C%20%22week_tech%22%3A%20null%7D%2C%20%22type%22%3A%20%22Feature%22%7D%2C%20%7B%22bbox%22%3A%20%5B-73.155718%2C%2044.00123%2C%20-73.155718%2C%2044.00123%5D%2C%20%22geometry%22%3A%20%7B%22coordinates%22%3A%20%5B-73.155718%2C%2044.00123%5D%2C%20%22type%22%3A%20%22Point%22%7D%2C%20%22id%22%3A%20%2240%22%2C%20%22properties%22%3A%20%7B%22address%22%3A%20%22260%20Court%20St%2C%20Middlebury%2C%20Vermont%2C%2005753%22%2C%20%22lat%22%3A%2044.00123%2C%20%22lon%22%3A%20-73.155718%2C%20%22pharmacy_name%22%3A%20%22Hannaford%20%238121%22%2C%20%22pharmid%22%3A%20%22VT41%22%2C%20%22sat_close%22%3A%20%2216%3A00%3A00%22%2C%20%22sat_open%22%3A%20%229%3A30%3A00%22%2C%20%22sat_pharm%22%3A%201.0%2C%20%22sat_tech%22%3A%201.0%2C%20%22state%22%3A%20%22VT%22%2C%20%22sun_close%22%3A%20%2214%3A00%3A00%22%2C%20%22sun_open%22%3A%20%229%3A30%3A00%22%2C%20%22sun_pharm%22%3A%201.0%2C%20%22sun_tech%22%3A%201.0%2C%20%22type%22%3A%20%22grocery%22%2C%20%22week_close%22%3A%20%2220%3A00%3A00%22%2C%20%22week_open%22%3A%20%229%3A00%3A00%22%2C%20%22week_pharm%22%3A%201.0%2C%20%22week_tech%22%3A%202.0%7D%2C%20%22type%22%3A%20%22Feature%22%7D%2C%20%7B%22bbox%22%3A%20%5B-72.971247%2C%2043.610508%2C%20-72.971247%2C%2043.610508%5D%2C%20%22geometry%22%3A%20%7B%22coordinates%22%3A%20%5B-72.971247%2C%2043.610508%5D%2C%20%22type%22%3A%20%22Point%22%7D%2C%20%22id%22%3A%20%2241%22%2C%20%22properties%22%3A%20%7B%22address%22%3A%20%2210%20Woodstock%20Ave%2C%20Rutland%2C%20VT%22%2C%20%22lat%22%3A%2043.610508%2C%20%22lon%22%3A%20-72.971247%2C%20%22pharmacy_name%22%3A%20%22Walgreens%20Pharmacy%20%2301756%22%2C%20%22pharmid%22%3A%20%22VT42%22%2C%20%22sat_close%22%3A%20%2217%3A00%3A00%22%2C%20%22sat_open%22%3A%20%229%3A00%3A00%22%2C%20%22sat_pharm%22%3A%201.0%2C%20%22sat_tech%22%3A%201.0%2C%20%22state%22%3A%20%22VT%22%2C%20%22sun_close%22%3A%20%2217%3A00%3A00%22%2C%20%22sun_open%22%3A%20%229%3A00%3A00%22%2C%20%22sun_pharm%22%3A%201.0%2C%20%22sun_tech%22%3A%201.0%2C%20%22type%22%3A%20%22chain%22%2C%20%22week_close%22%3A%20%2221%3A00%3A00%22%2C%20%22week_open%22%3A%20%229%3A00%3A00%22%2C%20%22week_pharm%22%3A%201.0%2C%20%22week_tech%22%3A%203.0%7D%2C%20%22type%22%3A%20%22Feature%22%7D%2C%20%7B%22bbox%22%3A%20%5B-72.673161%2C%2044.996372%2C%20-72.673161%2C%2044.996372%5D%2C%20%22geometry%22%3A%20%7B%22coordinates%22%3A%20%5B-72.673161%2C%2044.996372%5D%2C%20%22type%22%3A%20%22Point%22%7D%2C%20%22id%22%3A%20%2242%22%2C%20%22properties%22%3A%20%7B%22address%22%3A%20%2244%20Main%20St%20Suite%20201%20Richford%20VT%2005476%22%2C%20%22lat%22%3A%2044.996372%2C%20%22lon%22%3A%20-72.673161%2C%20%22pharmacy_name%22%3A%20%22Notch%20Pharmacy%22%2C%20%22pharmid%22%3A%20%22VT43%22%2C%20%22sat_close%22%3A%20%2212%3A00%3A00%22%2C%20%22sat_open%22%3A%20%229%3A00%3A00%22%2C%20%22sat_pharm%22%3A%201.0%2C%20%22sat_tech%22%3A%201.0%2C%20%22state%22%3A%20%22VT%22%2C%20%22sun_close%22%3A%20%22Closed%22%2C%20%22sun_open%22%3A%20%22Closed%22%2C%20%22sun_pharm%22%3A%20null%2C%20%22sun_tech%22%3A%20null%2C%20%22type%22%3A%20%22independent%22%2C%20%22week_close%22%3A%20%2217%3A30%3A00%22%2C%20%22week_open%22%3A%20%229%3A00%3A00%22%2C%20%22week_pharm%22%3A%202.0%2C%20%22week_tech%22%3A%205.0%7D%2C%20%22type%22%3A%20%22Feature%22%7D%2C%20%7B%22bbox%22%3A%20%5B-72.877874%2C%2044.6445618%2C%20-72.877874%2C%2044.6445618%5D%2C%20%22geometry%22%3A%20%7B%22coordinates%22%3A%20%5B-72.877874%2C%2044.6445618%5D%2C%20%22type%22%3A%20%22Point%22%7D%2C%20%22id%22%3A%20%2243%22%2C%20%22properties%22%3A%20%7B%22address%22%3A%20%22155%20S.%20Main%20Street%20%2C%20Cambridge%2C%20VT%2005444%22%2C%20%22lat%22%3A%2044.6445618%2C%20%22lon%22%3A%20-72.877874%2C%20%22pharmacy_name%22%3A%20%22Kinney%20Drugs%20%2386%22%2C%20%22pharmid%22%3A%20%22VT44%22%2C%20%22sat_close%22%3A%20%2216%3A00%3A00%22%2C%20%22sat_open%22%3A%20%229%3A00%3A00%22%2C%20%22sat_pharm%22%3A%201.0%2C%20%22sat_tech%22%3A%201.0%2C%20%22state%22%3A%20%22VT%22%2C%20%22sun_close%22%3A%20%22Closed%22%2C%20%22sun_open%22%3A%20%22Closed%22%2C%20%22sun_pharm%22%3A%20null%2C%20%22sun_tech%22%3A%20null%2C%20%22type%22%3A%20%22chain%22%2C%20%22week_close%22%3A%20%2218%3A00%3A00%22%2C%20%22week_open%22%3A%20%228%3A30%3A00%22%2C%20%22week_pharm%22%3A%201.0%2C%20%22week_tech%22%3A%202.0%7D%2C%20%22type%22%3A%20%22Feature%22%7D%2C%20%7B%22bbox%22%3A%20%5B-72.016287%2C%2044.4459427%2C%20-72.016287%2C%2044.4459427%5D%2C%20%22geometry%22%3A%20%7B%22coordinates%22%3A%20%5B-72.016287%2C%2044.4459427%5D%2C%20%22type%22%3A%20%22Point%22%7D%2C%20%22id%22%3A%20%2244%22%2C%20%22properties%22%3A%20%7B%22address%22%3A%20%22957%20Memorial%20Drive%2C%20St.%20Johnsbury%2C%20VT%2005819%22%2C%20%22lat%22%3A%2044.4459427%2C%20%22lon%22%3A%20-72.016287%2C%20%22pharmacy_name%22%3A%20%22Kinney%20Drugs%20%2393%22%2C%20%22pharmid%22%3A%20%22VT45%22%2C%20%22sat_close%22%3A%20%2218%3A00%3A00%22%2C%20%22sat_open%22%3A%20%229%3A00%3A00%22%2C%20%22sat_pharm%22%3A%201.0%2C%20%22sat_tech%22%3A%203.0%2C%20%22state%22%3A%20%22VT%22%2C%20%22sun_close%22%3A%20%2216%3A00%3A00%22%2C%20%22sun_open%22%3A%20%229%3A00%3A00%22%2C%20%22sun_pharm%22%3A%201.0%2C%20%22sun_tech%22%3A%203.0%2C%20%22type%22%3A%20%22chain%22%2C%20%22week_close%22%3A%20%2220%3A00%3A00%22%2C%20%22week_open%22%3A%20%228%3A00%3A00%22%2C%20%22week_pharm%22%3A%202.0%2C%20%22week_tech%22%3A%203.0%7D%2C%20%22type%22%3A%20%22Feature%22%7D%2C%20%7B%22bbox%22%3A%20%5B-72.001568%2C%2044.525759%2C%20-72.001568%2C%2044.525759%5D%2C%20%22geometry%22%3A%20%7B%22coordinates%22%3A%20%5B-72.001568%2C%2044.525759%5D%2C%20%22type%22%3A%20%22Point%22%7D%2C%20%22id%22%3A%20%2245%22%2C%20%22properties%22%3A%20%7B%22address%22%3A%20%22407%20Broad%20Street%2C%20Lyndonville%2C%20VT%2005851%22%2C%20%22lat%22%3A%2044.525759%2C%20%22lon%22%3A%20-72.001568%2C%20%22pharmacy_name%22%3A%20%22Kinney%20Drugs%20%2394%22%2C%20%22pharmid%22%3A%20%22VT46%22%2C%20%22sat_close%22%3A%20%2218%3A00%3A00%22%2C%20%22sat_open%22%3A%20%229%3A00%3A00%22%2C%20%22sat_pharm%22%3A%20null%2C%20%22sat_tech%22%3A%20null%2C%20%22state%22%3A%20%22VT%22%2C%20%22sun_close%22%3A%20%2217%3A00%3A00%22%2C%20%22sun_open%22%3A%20%229%3A00%3A00%22%2C%20%22sun_pharm%22%3A%20null%2C%20%22sun_tech%22%3A%20null%2C%20%22type%22%3A%20%22chain%22%2C%20%22week_close%22%3A%20%2219%3A00%3A00%22%2C%20%22week_open%22%3A%20%229%3A00%3A00%22%2C%20%22week_pharm%22%3A%20null%2C%20%22week_tech%22%3A%20null%7D%2C%20%22type%22%3A%20%22Feature%22%7D%2C%20%7B%22bbox%22%3A%20%5B-72.600905%2C%2043.8231594%2C%20-72.600905%2C%2043.8231594%5D%2C%20%22geometry%22%3A%20%7B%22coordinates%22%3A%20%5B-72.600905%2C%2043.8231594%5D%2C%20%22type%22%3A%20%22Point%22%7D%2C%20%22id%22%3A%20%2246%22%2C%20%22properties%22%3A%20%7B%22address%22%3A%20%221823%20VT-107%20Ste%202%2C%20Bethel%2C%20VT%2005032%22%2C%20%22lat%22%3A%2043.8231594%2C%20%22lon%22%3A%20-72.600905%2C%20%22pharmacy_name%22%3A%20%22Rite%20Aid%20%2310308%22%2C%20%22pharmid%22%3A%20%22VT47%22%2C%20%22sat_close%22%3A%20%22Closed%22%2C%20%22sat_open%22%3A%20%22Closed%22%2C%20%22sat_pharm%22%3A%20null%2C%20%22sat_tech%22%3A%20null%2C%20%22state%22%3A%20%22VT%22%2C%20%22sun_close%22%3A%20%22Closed%22%2C%20%22sun_open%22%3A%20%22Closed%22%2C%20%22sun_pharm%22%3A%20null%2C%20%22sun_tech%22%3A%20null%2C%20%22type%22%3A%20%22chain%22%2C%20%22week_close%22%3A%20%2218%3A00%3A00%22%2C%20%22week_open%22%3A%20%229%3A00%3A00%22%2C%20%22week_pharm%22%3A%201.0%2C%20%22week_tech%22%3A%200.0%7D%2C%20%22type%22%3A%20%22Feature%22%7D%2C%20%7B%22bbox%22%3A%20%5B-72.557868%2C%2042.8509152%2C%20-72.557868%2C%2042.8509152%5D%2C%20%22geometry%22%3A%20%7B%22coordinates%22%3A%20%5B-72.557868%2C%2042.8509152%5D%2C%20%22type%22%3A%20%22Point%22%7D%2C%20%22id%22%3A%20%2247%22%2C%20%22properties%22%3A%20%7B%22address%22%3A%20%22499%20Canal%20St%2C%20Unit%203%2C%20Brattleboro%2C%20VT%2005301%22%2C%20%22lat%22%3A%2042.8509152%2C%20%22lon%22%3A%20-72.557868%2C%20%22pharmacy_name%22%3A%20%22Rite%20Aid%20%2310315%22%2C%20%22pharmid%22%3A%20%22VT48%22%2C%20%22sat_close%22%3A%20%2217%3A00%3A00%22%2C%20%22sat_open%22%3A%20%229%3A00%3A00%22%2C%20%22sat_pharm%22%3A%202.0%2C%20%22sat_tech%22%3A%205.0%2C%20%22state%22%3A%20%22VT%22%2C%20%22sun_close%22%3A%20%2217%3A00%3A00%22%2C%20%22sun_open%22%3A%20%229%3A00%3A00%22%2C%20%22sun_pharm%22%3A%202.0%2C%20%22sun_tech%22%3A%205.0%2C%20%22type%22%3A%20%22chain%22%2C%20%22week_close%22%3A%20%2220%3A00%3A00%22%2C%20%22week_open%22%3A%20%228%3A00%3A00%22%2C%20%22week_pharm%22%3A%202.0%2C%20%22week_tech%22%3A%205.0%7D%2C%20%22type%22%3A%20%22Feature%22%7D%2C%20%7B%22bbox%22%3A%20%5B-72.665612%2C%2043.9232616%2C%20-72.665612%2C%2043.9232616%5D%2C%20%22geometry%22%3A%20%7B%22coordinates%22%3A%20%5B-72.665612%2C%2043.9232616%5D%2C%20%22type%22%3A%20%22Point%22%7D%2C%20%22id%22%3A%20%2248%22%2C%20%22properties%22%3A%20%7B%22address%22%3A%20%2212%20N%20Main%20St%2C%20Randolph%2C%20VT%2005060%22%2C%20%22lat%22%3A%2043.9232616%2C%20%22lon%22%3A%20-72.665612%2C%20%22pharmacy_name%22%3A%20%22Rite%20Aid%20%2310309%22%2C%20%22pharmid%22%3A%20%22VT49%22%2C%20%22sat_close%22%3A%20%2217%3A00%3A00%22%2C%20%22sat_open%22%3A%20%229%3A00%3A00%22%2C%20%22sat_pharm%22%3A%201.0%2C%20%22sat_tech%22%3A%201.0%2C%20%22state%22%3A%20%22VT%22%2C%20%22sun_close%22%3A%20%2217%3A00%3A00%22%2C%20%22sun_open%22%3A%20%229%3A00%3A00%22%2C%20%22sun_pharm%22%3A%201.0%2C%20%22sun_tech%22%3A%201.0%2C%20%22type%22%3A%20%22chain%22%2C%20%22week_close%22%3A%20%2220%3A00%3A00%22%2C%20%22week_open%22%3A%20%228%3A00%3A00%22%2C%20%22week_pharm%22%3A%201.0%2C%20%22week_tech%22%3A%203.0%7D%2C%20%22type%22%3A%20%22Feature%22%7D%2C%20%7B%22bbox%22%3A%20%5B-72.490464%2C%2043.303297%2C%20-72.490464%2C%2043.303297%5D%2C%20%22geometry%22%3A%20%7B%22coordinates%22%3A%20%5B-72.490464%2C%2043.303297%5D%2C%20%22type%22%3A%20%22Point%22%7D%2C%20%22id%22%3A%20%2249%22%2C%20%22properties%22%3A%20%7B%22address%22%3A%20%2255%20Springfield%20Plaza%2C%20Springfield%2C%20VT%2005156%22%2C%20%22lat%22%3A%2043.303297%2C%20%22lon%22%3A%20-72.490464%2C%20%22pharmacy_name%22%3A%20%22Rite%20Aid%20%2310313%22%2C%20%22pharmid%22%3A%20%22VT50%22%2C%20%22sat_close%22%3A%20%2218%3A00%3A00%22%2C%20%22sat_open%22%3A%20%229%3A00%3A00%22%2C%20%22sat_pharm%22%3A%201.0%2C%20%22sat_tech%22%3A%202.0%2C%20%22state%22%3A%20%22VT%22%2C%20%22sun_close%22%3A%20%2218%3A00%3A00%22%2C%20%22sun_open%22%3A%20%229%3A00%3A00%22%2C%20%22sun_pharm%22%3A%201.0%2C%20%22sun_tech%22%3A%202.0%2C%20%22type%22%3A%20%22chain%22%2C%20%22week_close%22%3A%20%2221%3A00%3A00%22%2C%20%22week_open%22%3A%20%228%3A00%3A00%22%2C%20%22week_pharm%22%3A%201.0%2C%20%22week_tech%22%3A%205.0%7D%2C%20%22type%22%3A%20%22Feature%22%7D%2C%20%7B%22bbox%22%3A%20%5B-72.38693%2C%2043.4811699%2C%20-72.38693%2C%2043.4811699%5D%2C%20%22geometry%22%3A%20%7B%22coordinates%22%3A%20%5B-72.38693%2C%2043.4811699%5D%2C%20%22type%22%3A%20%22Point%22%7D%2C%20%22id%22%3A%20%2250%22%2C%20%22properties%22%3A%20%7B%22address%22%3A%20%2252%20Main%20St%2C%20Windsor%2C%20VT%2005089%22%2C%20%22lat%22%3A%2043.4811699%2C%20%22lon%22%3A%20-72.38693%2C%20%22pharmacy_name%22%3A%20%22Rite%20Aid%20%2310310%22%2C%20%22pharmid%22%3A%20%22VT51%22%2C%20%22sat_close%22%3A%20%2217%3A00%3A00%22%2C%20%22sat_open%22%3A%20%229%3A00%3A00%22%2C%20%22sat_pharm%22%3A%201.0%2C%20%22sat_tech%22%3A%201.0%2C%20%22state%22%3A%20%22VT%22%2C%20%22sun_close%22%3A%20%2217%3A00%3A00%22%2C%20%22sun_open%22%3A%20%229%3A00%3A00%22%2C%20%22sun_pharm%22%3A%201.0%2C%20%22sun_tech%22%3A%201.0%2C%20%22type%22%3A%20%22chain%22%2C%20%22week_close%22%3A%20%2220%3A00%3A00%22%2C%20%22week_open%22%3A%20%228%3A00%3A00%22%2C%20%22week_pharm%22%3A%201.0%2C%20%22week_tech%22%3A%202.0%7D%2C%20%22type%22%3A%20%22Feature%22%7D%2C%20%7B%22bbox%22%3A%20%5B-73.170026%2C%2044.5957828%2C%20-73.170026%2C%2044.5957828%5D%2C%20%22geometry%22%3A%20%7B%22coordinates%22%3A%20%5B-73.170026%2C%2044.5957828%5D%2C%20%22type%22%3A%20%22Point%22%7D%2C%20%22id%22%3A%20%2251%22%2C%20%22properties%22%3A%20%7B%22address%22%3A%20%22158%20Brentwood%20Dr%20%23%206%2C%20Colchester%2C%20VT%2005446%22%2C%20%22lat%22%3A%2044.5957828%2C%20%22lon%22%3A%20-73.170026%2C%20%22pharmacy_name%22%3A%20%22Community%20Health%20Pharmacy%20Colchester%22%2C%20%22pharmid%22%3A%20%22VT52%22%2C%20%22sat_close%22%3A%20%22Closed%22%2C%20%22sat_open%22%3A%20%22Closed%22%2C%20%22sat_pharm%22%3A%20null%2C%20%22sat_tech%22%3A%20null%2C%20%22state%22%3A%20%22VT%22%2C%20%22sun_close%22%3A%20%22Closed%22%2C%20%22sun_open%22%3A%20%22Closed%22%2C%20%22sun_pharm%22%3A%20null%2C%20%22sun_tech%22%3A%20null%2C%20%22type%22%3A%20%22independent%22%2C%20%22week_close%22%3A%20%2217%3A00%3A00%22%2C%20%22week_open%22%3A%20%228%3A30%3A00%22%2C%20%22week_pharm%22%3A%205.0%2C%20%22week_tech%22%3A%208.0%7D%2C%20%22type%22%3A%20%22Feature%22%7D%2C%20%7B%22bbox%22%3A%20%5B-73.207927%2C%2043.608945%2C%20-73.207927%2C%2043.608945%5D%2C%20%22geometry%22%3A%20%7B%22coordinates%22%3A%20%5B-73.207927%2C%2043.608945%5D%2C%20%22type%22%3A%20%22Point%22%7D%2C%20%22id%22%3A%20%2252%22%2C%20%22properties%22%3A%20%7B%22address%22%3A%20%2234%20Route%2030%20North%20Po%20Box%20284%2C%20Bomoseen%2C%20VT05732%22%2C%20%22lat%22%3A%2043.608945%2C%20%22lon%22%3A%20-73.207927%2C%20%22pharmacy_name%22%3A%20%22Kinney%20Drugs%20%2398%22%2C%20%22pharmid%22%3A%20%22VT53%22%2C%20%22sat_close%22%3A%20%2217%3A00%3A00%22%2C%20%22sat_open%22%3A%20%229%3A00%3A00%22%2C%20%22sat_pharm%22%3A%20null%2C%20%22sat_tech%22%3A%20null%2C%20%22state%22%3A%20%22VT%22%2C%20%22sun_close%22%3A%20%2214%3A00%3A00%22%2C%20%22sun_open%22%3A%20%2210%3A00%3A00%22%2C%20%22sun_pharm%22%3A%20null%2C%20%22sun_tech%22%3A%20null%2C%20%22type%22%3A%20%22chain%22%2C%20%22week_close%22%3A%20%2219%3A00%3A00%22%2C%20%22week_open%22%3A%20%229%3A00%3A00%22%2C%20%22week_pharm%22%3A%20null%2C%20%22week_tech%22%3A%20null%7D%2C%20%22type%22%3A%20%22Feature%22%7D%2C%20%7B%22bbox%22%3A%20%5B-73.202165%2C%2042.8954029%2C%20-73.202165%2C%2042.8954029%5D%2C%20%22geometry%22%3A%20%7B%22coordinates%22%3A%20%5B-73.202165%2C%2042.8954029%5D%2C%20%22type%22%3A%20%22Point%22%7D%2C%20%22id%22%3A%20%2253%22%2C%20%22properties%22%3A%20%7B%22address%22%3A%20%228%20Kocher%20Dr.%2C%20Bennington%2C%20VT%2005201%22%2C%20%22lat%22%3A%2042.8954029%2C%20%22lon%22%3A%20-73.202165%2C%20%22pharmacy_name%22%3A%20%22CVS%20%23337%22%2C%20%22pharmid%22%3A%20%22VT54%22%2C%20%22sat_close%22%3A%20%2217%3A00%3A00%22%2C%20%22sat_open%22%3A%20%2210%3A00%3A00%22%2C%20%22sat_pharm%22%3A%201.0%2C%20%22sat_tech%22%3A%204.0%2C%20%22state%22%3A%20%22VT%22%2C%20%22sun_close%22%3A%20%2216%3A00%3A00%22%2C%20%22sun_open%22%3A%20%2210%3A00%3A00%22%2C%20%22sun_pharm%22%3A%201.0%2C%20%22sun_tech%22%3A%204.0%2C%20%22type%22%3A%20%22chain%22%2C%20%22week_close%22%3A%20%2221%3A00%3A00%22%2C%20%22week_open%22%3A%20%229%3A00%3A00%22%2C%20%22week_pharm%22%3A%201.0%2C%20%22week_tech%22%3A%205.0%7D%2C%20%22type%22%3A%20%22Feature%22%7D%2C%20%7B%22bbox%22%3A%20%5B-72.973377%2C%2043.610392%2C%20-72.973377%2C%2043.610392%5D%2C%20%22geometry%22%3A%20%7B%22coordinates%22%3A%20%5B-72.973377%2C%2043.610392%5D%2C%20%22type%22%3A%20%22Point%22%7D%2C%20%22id%22%3A%20%2254%22%2C%20%22properties%22%3A%20%7B%22address%22%3A%20%2231%20S%20Main%20Street%2C%20Rutland%2C%20VT%2005701%22%2C%20%22lat%22%3A%2043.610392%2C%20%22lon%22%3A%20-72.973377%2C%20%22pharmacy_name%22%3A%20%22CVS%20%23673%22%2C%20%22pharmid%22%3A%20%22VT55%22%2C%20%22sat_close%22%3A%20%2217%3A00%3A00%22%2C%20%22sat_open%22%3A%20%229%3A00%3A00%22%2C%20%22sat_pharm%22%3A%201.0%2C%20%22sat_tech%22%3A%202.0%2C%20%22state%22%3A%20%22VT%22%2C%20%22sun_close%22%3A%20%2217%3A00%3A00%22%2C%20%22sun_open%22%3A%20%229%3A00%3A00%22%2C%20%22sun_pharm%22%3A%201.0%2C%20%22sun_tech%22%3A%202.0%2C%20%22type%22%3A%20%22chain%22%2C%20%22week_close%22%3A%20%2219%3A00%3A00%22%2C%20%22week_open%22%3A%20%229%3A00%3A00%22%2C%20%22week_pharm%22%3A%201.0%2C%20%22week_tech%22%3A%203.0%7D%2C%20%22type%22%3A%20%22Feature%22%7D%2C%20%7B%22bbox%22%3A%20%5B-72.753072%2C%2044.3348811%2C%20-72.753072%2C%2044.3348811%5D%2C%20%22geometry%22%3A%20%7B%22coordinates%22%3A%20%5B-72.753072%2C%2044.3348811%5D%2C%20%22type%22%3A%20%22Point%22%7D%2C%20%22id%22%3A%20%2255%22%2C%20%22properties%22%3A%20%7B%22address%22%3A%20%2280%20South%20Main%2C%20Waterbury%2C%20VT%22%2C%20%22lat%22%3A%2044.3348811%2C%20%22lon%22%3A%20-72.753072%2C%20%22pharmacy_name%22%3A%20%22Kinney%20Drugs%20%23101%22%2C%20%22pharmid%22%3A%20%22VT56%22%2C%20%22sat_close%22%3A%20%2217%3A00%3A00%22%2C%20%22sat_open%22%3A%20%229%3A00%3A00%22%2C%20%22sat_pharm%22%3A%201.0%2C%20%22sat_tech%22%3A%201.0%2C%20%22state%22%3A%20%22VT%22%2C%20%22sun_close%22%3A%20%2214%3A00%3A00%22%2C%20%22sun_open%22%3A%20%229%3A00%3A00%22%2C%20%22sun_pharm%22%3A%201.0%2C%20%22sun_tech%22%3A%201.0%2C%20%22type%22%3A%20%22chain%22%2C%20%22week_close%22%3A%20%2219%3A00%3A00%22%2C%20%22week_open%22%3A%20%228%3A30%3A00%22%2C%20%22week_pharm%22%3A%201.0%2C%20%22week_tech%22%3A%202.0%7D%2C%20%22type%22%3A%20%22Feature%22%7D%2C%20%7B%22bbox%22%3A%20%5B-73.099228%2C%2043.80504%2C%20-73.099228%2C%2043.80504%5D%2C%20%22geometry%22%3A%20%7B%22coordinates%22%3A%20%5B-73.099228%2C%2043.80504%5D%2C%20%22type%22%3A%20%22Point%22%7D%2C%20%22id%22%3A%20%2256%22%2C%20%22properties%22%3A%20%7B%22address%22%3A%20%22420%20Grove%20St%20Brandon%20VT%2005733%22%2C%20%22lat%22%3A%2043.80504%2C%20%22lon%22%3A%20-73.099228%2C%20%22pharmacy_name%22%3A%20%22Brandon%20community%20Pharmacy%22%2C%20%22pharmid%22%3A%20%22VT57%22%2C%20%22sat_close%22%3A%20%2213%3A00%3A00%22%2C%20%22sat_open%22%3A%20%229%3A00%3A00%22%2C%20%22sat_pharm%22%3A%201.0%2C%20%22sat_tech%22%3A%201.0%2C%20%22state%22%3A%20%22VT%22%2C%20%22sun_close%22%3A%20%22Closed%22%2C%20%22sun_open%22%3A%20%22Closed%22%2C%20%22sun_pharm%22%3A%20null%2C%20%22sun_tech%22%3A%20null%2C%20%22type%22%3A%20%22independent%22%2C%20%22week_close%22%3A%20%2219%3A00%3A00%22%2C%20%22week_open%22%3A%20%228%3A00%3A00%22%2C%20%22week_pharm%22%3A%201.0%2C%20%22week_tech%22%3A%201.0%7D%2C%20%22type%22%3A%20%22Feature%22%7D%2C%20%7B%22bbox%22%3A%20%5B-72.663224%2C%2043.9120554%2C%20-72.663224%2C%2043.9120554%5D%2C%20%22geometry%22%3A%20%7B%22coordinates%22%3A%20%5B-72.663224%2C%2043.9120554%5D%2C%20%22type%22%3A%20%22Point%22%7D%2C%20%22id%22%3A%20%2257%22%2C%20%22properties%22%3A%20%7B%22address%22%3A%20%22151%20Vermont%20Route%2012%20South%2C%20Randolph%2C%20VT%2005060%22%2C%20%22lat%22%3A%2043.9120554%2C%20%22lon%22%3A%20-72.663224%2C%20%22pharmacy_name%22%3A%20%22Kinney%20Drugs%20%23102%22%2C%20%22pharmid%22%3A%20%22VT58%22%2C%20%22sat_close%22%3A%20%2217%3A00%3A00%22%2C%20%22sat_open%22%3A%20%229%3A00%3A00%22%2C%20%22sat_pharm%22%3A%20null%2C%20%22sat_tech%22%3A%20null%2C%20%22state%22%3A%20%22VT%22%2C%20%22sun_close%22%3A%20%22Closed%22%2C%20%22sun_open%22%3A%20%22Closed%22%2C%20%22sun_pharm%22%3A%20null%2C%20%22sun_tech%22%3A%20null%2C%20%22type%22%3A%20%22chain%22%2C%20%22week_close%22%3A%20%2219%3A00%3A00%22%2C%20%22week_open%22%3A%20%229%3A00%3A00%22%2C%20%22week_pharm%22%3A%20null%2C%20%22week_tech%22%3A%20null%7D%2C%20%22type%22%3A%20%22Feature%22%7D%2C%20%7B%22bbox%22%3A%20%5B-73.222903%2C%2042.9070358%2C%20-73.222903%2C%2042.9070358%5D%2C%20%22geometry%22%3A%20%7B%22coordinates%22%3A%20%5B-73.222903%2C%2042.9070358%5D%2C%20%22type%22%3A%20%22Point%22%7D%2C%20%22id%22%3A%20%2258%22%2C%20%22properties%22%3A%20%7B%22address%22%3A%20%22141%20Hannaford%20Sq%2C%20Bennington%2C%20Vermont%2C%2005201%22%2C%20%22lat%22%3A%2042.9070358%2C%20%22lon%22%3A%20-73.222903%2C%20%22pharmacy_name%22%3A%20%22Hannaford%20%238303%22%2C%20%22pharmid%22%3A%20%22VT59%22%2C%20%22sat_close%22%3A%20%2216%3A00%3A00%22%2C%20%22sat_open%22%3A%20%229%3A30%3A00%22%2C%20%22sat_pharm%22%3A%201.0%2C%20%22sat_tech%22%3A%201.0%2C%20%22state%22%3A%20%22VT%22%2C%20%22sun_close%22%3A%20%2214%3A00%3A00%22%2C%20%22sun_open%22%3A%20%229%3A30%3A00%22%2C%20%22sun_pharm%22%3A%201.0%2C%20%22sun_tech%22%3A%201.0%2C%20%22type%22%3A%20%22grocery%22%2C%20%22week_close%22%3A%20%2220%3A00%3A00%22%2C%20%22week_open%22%3A%20%229%3A00%3A00%22%2C%20%22week_pharm%22%3A%201.0%2C%20%22week_tech%22%3A%201.0%7D%2C%20%22type%22%3A%20%22Feature%22%7D%2C%20%7B%22bbox%22%3A%20%5B-73.079117%2C%2044.5093%2C%20-73.079117%2C%2044.5093%5D%2C%20%22geometry%22%3A%20%7B%22coordinates%22%3A%20%5B-73.079117%2C%2044.5093%5D%2C%20%22type%22%3A%20%22Point%22%7D%2C%20%22id%22%3A%20%2259%22%2C%20%22properties%22%3A%20%7B%22address%22%3A%20%227%20Essex%20Way%2C%20Essex%20Junction%2C%20VT%2005452%22%2C%20%22lat%22%3A%2044.5093%2C%20%22lon%22%3A%20-73.079117%2C%20%22pharmacy_name%22%3A%20%22CVS%20%231052%22%2C%20%22pharmid%22%3A%20%22VT60%22%2C%20%22sat_close%22%3A%20%2218%3A00%3A00%22%2C%20%22sat_open%22%3A%20%2210%3A00%3A00%22%2C%20%22sat_pharm%22%3A%20null%2C%20%22sat_tech%22%3A%20null%2C%20%22state%22%3A%20%22VT%22%2C%20%22sun_close%22%3A%20%2217%3A00%3A00%22%2C%20%22sun_open%22%3A%20%2211%3A00%3A00%22%2C%20%22sun_pharm%22%3A%20null%2C%20%22sun_tech%22%3A%20null%2C%20%22type%22%3A%20%22chain%22%2C%20%22week_close%22%3A%20%2219%3A00%3A00%22%2C%20%22week_open%22%3A%20%229%3A00%3A00%22%2C%20%22week_pharm%22%3A%20null%2C%20%22week_tech%22%3A%20null%7D%2C%20%22type%22%3A%20%22Feature%22%7D%2C%20%7B%22bbox%22%3A%20%5B-72.706252%2C%2043.4010644%2C%20-72.706252%2C%2043.4010644%5D%2C%20%22geometry%22%3A%20%7B%22coordinates%22%3A%20%5B-72.706252%2C%2043.4010644%5D%2C%20%22type%22%3A%20%22Point%22%7D%2C%20%22id%22%3A%20%2260%22%2C%20%22properties%22%3A%20%7B%22address%22%3A%20%2257%20Pond%20Street%20Ludlow%2C%20VT%2005149%22%2C%20%22lat%22%3A%2043.4010644%2C%20%22lon%22%3A%20-72.706252%2C%20%22pharmacy_name%22%3A%20%22Ludlow%20Pharmacy%22%2C%20%22pharmid%22%3A%20%22VT61%22%2C%20%22sat_close%22%3A%20%2215%3A00%3A00%22%2C%20%22sat_open%22%3A%20%229%3A00%3A00%22%2C%20%22sat_pharm%22%3A%201.0%2C%20%22sat_tech%22%3A%201.0%2C%20%22state%22%3A%20%22VT%22%2C%20%22sun_close%22%3A%20%22Closed%22%2C%20%22sun_open%22%3A%20%22Closed%22%2C%20%22sun_pharm%22%3A%20null%2C%20%22sun_tech%22%3A%20null%2C%20%22type%22%3A%20%22independent%22%2C%20%22week_close%22%3A%20%2218%3A00%3A00%22%2C%20%22week_open%22%3A%20%229%3A00%3A00%22%2C%20%22week_pharm%22%3A%201.0%2C%20%22week_tech%22%3A%201.0%7D%2C%20%22type%22%3A%20%22Feature%22%7D%2C%20%7B%22bbox%22%3A%20%5B-73.207609%2C%2044.4507283%2C%20-73.207609%2C%2044.4507283%5D%2C%20%22geometry%22%3A%20%7B%22coordinates%22%3A%20%5B-73.207609%2C%2044.4507283%5D%2C%20%22type%22%3A%20%22Point%22%7D%2C%20%22id%22%3A%20%2261%22%2C%20%22properties%22%3A%20%7B%22address%22%3A%20%22514%20Farrell%20St%2C%20Burlington%2C%20VT%22%2C%20%22lat%22%3A%2044.4507283%2C%20%22lon%22%3A%20-73.207609%2C%20%22pharmacy_name%22%3A%20%22Walgreen%20Eastern%20Co.%2C%20Inc.%20%2311526%22%2C%20%22pharmid%22%3A%20%22VT62%22%2C%20%22sat_close%22%3A%20%22Closed%22%2C%20%22sat_open%22%3A%20%22Closed%22%2C%20%22sat_pharm%22%3A%20null%2C%20%22sat_tech%22%3A%20null%2C%20%22state%22%3A%20%22VT%22%2C%20%22sun_close%22%3A%20%22Closed%22%2C%20%22sun_open%22%3A%20%22Closed%22%2C%20%22sun_pharm%22%3A%20null%2C%20%22sun_tech%22%3A%20null%2C%20%22type%22%3A%20%22chain%22%2C%20%22week_close%22%3A%20%2218%3A00%3A00%22%2C%20%22week_open%22%3A%20%229%3A00%3A00%22%2C%20%22week_pharm%22%3A%201.0%2C%20%22week_tech%22%3A%202.0%7D%2C%20%22type%22%3A%20%22Feature%22%7D%2C%20%7B%22bbox%22%3A%20%5B-72.18045%2C%2044.7509413%2C%20-72.18045%2C%2044.7509413%5D%2C%20%22geometry%22%3A%20%7B%22coordinates%22%3A%20%5B-72.18045%2C%2044.7509413%5D%2C%20%22type%22%3A%20%22Point%22%7D%2C%20%22id%22%3A%20%2262%22%2C%20%22properties%22%3A%20%7B%22address%22%3A%20%2216%20Church%20Street%2C%20Barton%2C%20VT%2005822%22%2C%20%22lat%22%3A%2044.7509413%2C%20%22lon%22%3A%20-72.18045%2C%20%22pharmacy_name%22%3A%20%22Kinney%20Drugs%20%23105%22%2C%20%22pharmid%22%3A%20%22VT63%22%2C%20%22sat_close%22%3A%20%2213%3A00%3A00%22%2C%20%22sat_open%22%3A%20%229%3A00%3A00%22%2C%20%22sat_pharm%22%3A%200.0%2C%20%22sat_tech%22%3A%201.0%2C%20%22state%22%3A%20%22VT%22%2C%20%22sun_close%22%3A%20%22Closed%22%2C%20%22sun_open%22%3A%20%22Closed%22%2C%20%22sun_pharm%22%3A%20null%2C%20%22sun_tech%22%3A%20null%2C%20%22type%22%3A%20%22chain%22%2C%20%22week_close%22%3A%20%2218%3A00%3A00%22%2C%20%22week_open%22%3A%20%229%3A00%3A00%22%2C%20%22week_pharm%22%3A%201.0%2C%20%22week_tech%22%3A%201.0%7D%2C%20%22type%22%3A%20%22Feature%22%7D%2C%20%7B%22bbox%22%3A%20%5B-73.113114%2C%2044.334959%2C%20-73.113114%2C%2044.334959%5D%2C%20%22geometry%22%3A%20%7B%22coordinates%22%3A%20%5B-73.113114%2C%2044.334959%5D%2C%20%22type%22%3A%20%22Point%22%7D%2C%20%22id%22%3A%20%2263%22%2C%20%22properties%22%3A%20%7B%22address%22%3A%20%2210212%20Route%20116%2C%20Hinesburg%2C%20VT%2005461%22%2C%20%22lat%22%3A%2044.334959%2C%20%22lon%22%3A%20-73.113114%2C%20%22pharmacy_name%22%3A%20%22Kinney%20Drugs%20%23103%22%2C%20%22pharmid%22%3A%20%22VT64%22%2C%20%22sat_close%22%3A%20%2217%3A00%3A00%22%2C%20%22sat_open%22%3A%20%229%3A00%3A00%22%2C%20%22sat_pharm%22%3A%201.0%2C%20%22sat_tech%22%3A%202.0%2C%20%22state%22%3A%20%22VT%22%2C%20%22sun_close%22%3A%20%2216%3A00%3A00%22%2C%20%22sun_open%22%3A%20%229%3A00%3A00%22%2C%20%22sun_pharm%22%3A%201.0%2C%20%22sun_tech%22%3A%201.0%2C%20%22type%22%3A%20%22chain%22%2C%20%22week_close%22%3A%20%2219%3A00%3A00%22%2C%20%22week_open%22%3A%20%229%3A00%3A00%22%2C%20%22week_pharm%22%3A%201.0%2C%20%22week_tech%22%3A%203.0%7D%2C%20%22type%22%3A%20%22Feature%22%7D%2C%20%7B%22bbox%22%3A%20%5B-73.215556%2C%2044.4066842%2C%20-73.215556%2C%2044.4066842%5D%2C%20%22geometry%22%3A%20%7B%22coordinates%22%3A%20%5B-73.215556%2C%2044.4066842%5D%2C%20%22type%22%3A%20%22Point%22%7D%2C%20%22id%22%3A%20%2264%22%2C%20%22properties%22%3A%20%7B%22address%22%3A%20%2247%20Executive%20Drive%2C%20Shelburne%2C%20VT%2005482%22%2C%20%22lat%22%3A%2044.4066842%2C%20%22lon%22%3A%20-73.215556%2C%20%22pharmacy_name%22%3A%20%22Kinney%20Drugs%20%23107%22%2C%20%22pharmid%22%3A%20%22VT65%22%2C%20%22sat_close%22%3A%20%2217%3A00%3A00%22%2C%20%22sat_open%22%3A%20%229%3A00%3A00%22%2C%20%22sat_pharm%22%3A%201.0%2C%20%22sat_tech%22%3A%200.0%2C%20%22state%22%3A%20%22VT%22%2C%20%22sun_close%22%3A%20%22Closed%22%2C%20%22sun_open%22%3A%20%22Closed%22%2C%20%22sun_pharm%22%3A%20null%2C%20%22sun_tech%22%3A%20null%2C%20%22type%22%3A%20%22chain%22%2C%20%22week_close%22%3A%20%2219%3A00%3A00%22%2C%20%22week_open%22%3A%20%229%3A00%3A00%22%2C%20%22week_pharm%22%3A%201.0%2C%20%22week_tech%22%3A%202.0%7D%2C%20%22type%22%3A%20%22Feature%22%7D%2C%20%7B%22bbox%22%3A%20%5B-72.486323%2C%2043.301416%2C%20-72.486323%2C%2043.301416%5D%2C%20%22geometry%22%3A%20%7B%22coordinates%22%3A%20%5B-72.486323%2C%2043.301416%5D%2C%20%22type%22%3A%20%22Point%22%7D%2C%20%22id%22%3A%20%2265%22%2C%20%22properties%22%3A%20%7B%22address%22%3A%20%22100%20River%20St%2C%20Springfield%2C%20VT%2005156%22%2C%20%22lat%22%3A%2043.301416%2C%20%22lon%22%3A%20-72.486323%2C%20%22pharmacy_name%22%3A%20%22River%20Street%20Pharmacy%22%2C%20%22pharmid%22%3A%20%22VT66%22%2C%20%22sat_close%22%3A%20%22Closed%22%2C%20%22sat_open%22%3A%20%22Closed%22%2C%20%22sat_pharm%22%3A%20null%2C%20%22sat_tech%22%3A%20null%2C%20%22state%22%3A%20%22VT%22%2C%20%22sun_close%22%3A%20%22Closed%22%2C%20%22sun_open%22%3A%20%22Closed%22%2C%20%22sun_pharm%22%3A%20null%2C%20%22sun_tech%22%3A%20null%2C%20%22type%22%3A%20%22independent%22%2C%20%22week_close%22%3A%20%2217%3A00%3A00%22%2C%20%22week_open%22%3A%20%228%3A00%3A00%22%2C%20%22week_pharm%22%3A%201.0%2C%20%22week_tech%22%3A%201.0%7D%2C%20%22type%22%3A%20%22Feature%22%7D%2C%20%7B%22bbox%22%3A%20%5B-73.111692%2C%2044.4468357%2C%20-73.111692%2C%2044.4468357%5D%2C%20%22geometry%22%3A%20%7B%22coordinates%22%3A%20%5B-73.111692%2C%2044.4468357%5D%2C%20%22type%22%3A%20%22Point%22%7D%2C%20%22id%22%3A%20%2266%22%2C%20%22properties%22%3A%20%7B%22address%22%3A%20%2249%20Wright%20Ave%2C%20Williston%2C%20VT%2005495%22%2C%20%22lat%22%3A%2044.4468357%2C%20%22lon%22%3A%20-73.111692%2C%20%22pharmacy_name%22%3A%20%22CVS%20%237103%22%2C%20%22pharmid%22%3A%20%22VT67%22%2C%20%22sat_close%22%3A%20%2218%3A00%3A00%22%2C%20%22sat_open%22%3A%20%2210%3A00%3A00%22%2C%20%22sat_pharm%22%3A%201.0%2C%20%22sat_tech%22%3A%202.0%2C%20%22state%22%3A%20%22VT%22%2C%20%22sun_close%22%3A%20%2217%3A00%3A00%22%2C%20%22sun_open%22%3A%20%2211%3A00%3A00%22%2C%20%22sun_pharm%22%3A%201.0%2C%20%22sun_tech%22%3A%202.0%2C%20%22type%22%3A%20%22chain%22%2C%20%22week_close%22%3A%20%2219%3A00%3A00%22%2C%20%22week_open%22%3A%20%229%3A00%3A00%22%2C%20%22week_pharm%22%3A%201.0%2C%20%22week_tech%22%3A%203.0%7D%2C%20%22type%22%3A%20%22Feature%22%7D%2C%20%7B%22bbox%22%3A%20%5B-73.181054%2C%2044.5091138%2C%20-73.181054%2C%2044.5091138%5D%2C%20%22geometry%22%3A%20%7B%22coordinates%22%3A%20%5B-73.181054%2C%2044.5091138%5D%2C%20%22type%22%3A%20%22Point%22%7D%2C%20%22id%22%3A%20%2267%22%2C%20%22properties%22%3A%20%7B%22address%22%3A%20%2266%20Mountain%20View%20Dr%2C%20Colchester%2C%20VT%22%2C%20%22lat%22%3A%2044.5091138%2C%20%22lon%22%3A%20-73.181054%2C%20%22pharmacy_name%22%3A%20%22Osco%20Pharmacy%20%230615%22%2C%20%22pharmid%22%3A%20%22VT68%22%2C%20%22sat_close%22%3A%20%2217%3A00%3A00%22%2C%20%22sat_open%22%3A%20%229%3A00%3A00%22%2C%20%22sat_pharm%22%3A%201.0%2C%20%22sat_tech%22%3A%200.0%2C%20%22state%22%3A%20%22VT%22%2C%20%22sun_close%22%3A%20%2217%3A00%3A00%22%2C%20%22sun_open%22%3A%20%2210%3A00%3A00%22%2C%20%22sun_pharm%22%3A%201.0%2C%20%22sun_tech%22%3A%201.0%2C%20%22type%22%3A%20%22grocery%22%2C%20%22week_close%22%3A%20%2220%3A00%3A00%22%2C%20%22week_open%22%3A%20%229%3A00%3A00%22%2C%20%22week_pharm%22%3A%201.0%2C%20%22week_tech%22%3A%202.0%7D%2C%20%22type%22%3A%20%22Feature%22%7D%2C%20%7B%22bbox%22%3A%20%5B-72.573114%2C%2044.2112472%2C%20-72.573114%2C%2044.2112472%5D%2C%20%22geometry%22%3A%20%7B%22coordinates%22%3A%20%5B-72.573114%2C%2044.2112472%5D%2C%20%22type%22%3A%20%22Point%22%7D%2C%20%22id%22%3A%20%2268%22%2C%20%22properties%22%3A%20%7B%22address%22%3A%20%22160%20Paine%20Tpke%20N%2C%20Berlin%2C%20VT%22%2C%20%22lat%22%3A%2044.2112472%2C%20%22lon%22%3A%20-72.573114%2C%20%22pharmacy_name%22%3A%20%22Osco%20Pharmacy%20%230616%22%2C%20%22pharmid%22%3A%20%22VT69%22%2C%20%22sat_close%22%3A%20%2217%3A00%3A00%22%2C%20%22sat_open%22%3A%20%229%3A00%3A00%22%2C%20%22sat_pharm%22%3A%201.0%2C%20%22sat_tech%22%3A%201.0%2C%20%22state%22%3A%20%22VT%22%2C%20%22sun_close%22%3A%20%2217%3A00%3A00%22%2C%20%22sun_open%22%3A%20%2210%3A00%3A00%22%2C%20%22sun_pharm%22%3A%201.0%2C%20%22sun_tech%22%3A%201.0%2C%20%22type%22%3A%20%22grocery%22%2C%20%22week_close%22%3A%20%2220%3A00%3A00%22%2C%20%22week_open%22%3A%20%229%3A00%3A00%22%2C%20%22week_pharm%22%3A%201.0%2C%20%22week_tech%22%3A%201.0%7D%2C%20%22type%22%3A%20%22Feature%22%7D%2C%20%7B%22bbox%22%3A%20%5B-73.207108%2C%2044.4496912%2C%20-73.207108%2C%2044.4496912%5D%2C%20%22geometry%22%3A%20%7B%22coordinates%22%3A%20%5B-73.207108%2C%2044.4496912%5D%2C%20%22type%22%3A%20%22Point%22%7D%2C%20%22id%22%3A%20%2269%22%2C%20%22properties%22%3A%20%7B%22address%22%3A%20%22570%20Shelburne%20Rd%2C%20Burlington%2C%20VT%22%2C%20%22lat%22%3A%2044.4496912%2C%20%22lon%22%3A%20-73.207108%2C%20%22pharmacy_name%22%3A%20%22Osco%20Pharmacy%20%230117%22%2C%20%22pharmid%22%3A%20%22VT70%22%2C%20%22sat_close%22%3A%20%2217%3A00%3A00%22%2C%20%22sat_open%22%3A%20%229%3A00%3A00%22%2C%20%22sat_pharm%22%3A%20null%2C%20%22sat_tech%22%3A%20null%2C%20%22state%22%3A%20%22VT%22%2C%20%22sun_close%22%3A%20%2217%3A00%3A00%22%2C%20%22sun_open%22%3A%20%2210%3A00%3A00%22%2C%20%22sun_pharm%22%3A%20null%2C%20%22sun_tech%22%3A%20null%2C%20%22type%22%3A%20%22grocery%22%2C%20%22week_close%22%3A%20%2220%3A00%3A00%22%2C%20%22week_open%22%3A%20%229%3A00%3A00%22%2C%20%22week_pharm%22%3A%20null%2C%20%22week_tech%22%3A%20null%7D%2C%20%22type%22%3A%20%22Feature%22%7D%2C%20%7B%22bbox%22%3A%20%5B-73.108296%2C%2044.4468585%2C%20-73.108296%2C%2044.4468585%5D%2C%20%22geometry%22%3A%20%7B%22coordinates%22%3A%20%5B-73.108296%2C%2044.4468585%5D%2C%20%22type%22%3A%20%22Point%22%7D%2C%20%22id%22%3A%20%2270%22%2C%20%22properties%22%3A%20%7B%22address%22%3A%20%2271%20Boxwood%20St%2C%20Williston%2C%20%20VT%22%2C%20%22lat%22%3A%2044.4468585%2C%20%22lon%22%3A%20-73.108296%2C%20%22pharmacy_name%22%3A%20%22Osco%20Pharmacy%20%232518%22%2C%20%22pharmid%22%3A%20%22VT71%22%2C%20%22sat_close%22%3A%20%2217%3A00%3A00%22%2C%20%22sat_open%22%3A%20%229%3A00%3A00%22%2C%20%22sat_pharm%22%3A%201.0%2C%20%22sat_tech%22%3A%200.0%2C%20%22state%22%3A%20%22VT%22%2C%20%22sun_close%22%3A%20%2217%3A00%3A00%22%2C%20%22sun_open%22%3A%20%2210%3A00%3A00%22%2C%20%22sun_pharm%22%3A%201.0%2C%20%22sun_tech%22%3A%200.0%2C%20%22type%22%3A%20%22grocery%22%2C%20%22week_close%22%3A%20%2220%3A00%3A00%22%2C%20%22week_open%22%3A%20%229%3A00%3A00%22%2C%20%22week_pharm%22%3A%201.0%2C%20%22week_tech%22%3A%202.0%7D%2C%20%22type%22%3A%20%22Feature%22%7D%2C%20%7B%22bbox%22%3A%20%5B-72.74383%2C%2044.3477265%2C%20-72.74383%2C%2044.3477265%5D%2C%20%22geometry%22%3A%20%7B%22coordinates%22%3A%20%5B-72.74383%2C%2044.3477265%5D%2C%20%22type%22%3A%20%22Point%22%7D%2C%20%22id%22%3A%20%2271%22%2C%20%22properties%22%3A%20%7B%22address%22%3A%20%22820%20Waterbury%20Stowe%20Rd%2C%20Waterbury%2C%20VT%22%2C%20%22lat%22%3A%2044.3477265%2C%20%22lon%22%3A%20-72.74383%2C%20%22pharmacy_name%22%3A%20%22Osco%20Pharmacy%20%230649%22%2C%20%22pharmid%22%3A%20%22VT72%22%2C%20%22sat_close%22%3A%20%2217%3A00%3A00%22%2C%20%22sat_open%22%3A%20%229%3A00%3A00%22%2C%20%22sat_pharm%22%3A%201.0%2C%20%22sat_tech%22%3A%201.0%2C%20%22state%22%3A%20%22VT%22%2C%20%22sun_close%22%3A%20%2217%3A00%3A00%22%2C%20%22sun_open%22%3A%20%2210%3A00%3A00%22%2C%20%22sun_pharm%22%3A%201.0%2C%20%22sun_tech%22%3A%201.0%2C%20%22type%22%3A%20%22grocery%22%2C%20%22week_close%22%3A%20%2220%3A00%3A00%22%2C%20%22week_open%22%3A%20%229%3A00%3A00%22%2C%20%22week_pharm%22%3A%201.0%2C%20%22week_tech%22%3A%202.0%7D%2C%20%22type%22%3A%20%22Feature%22%7D%2C%20%7B%22bbox%22%3A%20%5B-72.122893%2C%2043.9842958%2C%20-72.122893%2C%2043.9842958%5D%2C%20%22geometry%22%3A%20%7B%22coordinates%22%3A%20%5B-72.122893%2C%2043.9842958%5D%2C%20%22type%22%3A%20%22Point%22%7D%2C%20%22id%22%3A%20%2272%22%2C%20%22properties%22%3A%20%7B%22address%22%3A%20%22586%20Lower%20Plain%2C%20Bradford%2C%20Vermont%2C%2005033%22%2C%20%22lat%22%3A%2043.9842958%2C%20%22lon%22%3A%20-72.122893%2C%20%22pharmacy_name%22%3A%20%22Hannaford%20%238426%22%2C%20%22pharmid%22%3A%20%22VT73%22%2C%20%22sat_close%22%3A%20%2216%3A00%3A00%22%2C%20%22sat_open%22%3A%20%229%3A30%3A00%22%2C%20%22sat_pharm%22%3A%201.0%2C%20%22sat_tech%22%3A%201.0%2C%20%22state%22%3A%20%22VT%22%2C%20%22sun_close%22%3A%20%2214%3A00%3A00%22%2C%20%22sun_open%22%3A%20%229%3A30%3A00%22%2C%20%22sun_pharm%22%3A%201.0%2C%20%22sun_tech%22%3A%201.0%2C%20%22type%22%3A%20%22grocery%22%2C%20%22week_close%22%3A%20%2220%3A00%3A00%22%2C%20%22week_open%22%3A%20%229%3A00%3A00%22%2C%20%22week_pharm%22%3A%201.0%2C%20%22week_tech%22%3A%202.0%7D%2C%20%22type%22%3A%20%22Feature%22%7D%2C%20%7B%22bbox%22%3A%20%5B-73.089705%2C%2044.8419113%2C%20-73.089705%2C%2044.8419113%5D%2C%20%22geometry%22%3A%20%7B%22coordinates%22%3A%20%5B-73.089705%2C%2044.8419113%5D%2C%20%22type%22%3A%20%22Point%22%7D%2C%20%22id%22%3A%20%2273%22%2C%20%22properties%22%3A%20%7B%22address%22%3A%20%22700%20Tuckers%20Way%2C%20Saint%20Albans%2C%20VT%22%2C%20%22lat%22%3A%2044.8419113%2C%20%22lon%22%3A%20-73.089705%2C%20%22pharmacy_name%22%3A%20%22Wal-Mart%20Pharmacy%20%2310-2332%22%2C%20%22pharmid%22%3A%20%22VT74%22%2C%20%22sat_close%22%3A%20%2217%3A00%3A00%22%2C%20%22sat_open%22%3A%20%229%3A00%3A00%22%2C%20%22sat_pharm%22%3A%201.0%2C%20%22sat_tech%22%3A%202.0%2C%20%22state%22%3A%20%22VT%22%2C%20%22sun_close%22%3A%20%2216%3A00%3A00%22%2C%20%22sun_open%22%3A%20%2210%3A00%3A00%22%2C%20%22sun_pharm%22%3A%201.0%2C%20%22sun_tech%22%3A%201.0%2C%20%22type%22%3A%20%22department%22%2C%20%22week_close%22%3A%20%2219%3A00%3A00%22%2C%20%22week_open%22%3A%20%228%3A00%3A00%22%2C%20%22week_pharm%22%3A%201.0%2C%20%22week_tech%22%3A%203.0%7D%2C%20%22type%22%3A%20%22Feature%22%7D%2C%20%7B%22bbox%22%3A%20%5B-73.122375%2C%2044.6236486%2C%20-73.122375%2C%2044.6236486%5D%2C%20%22geometry%22%3A%20%7B%22coordinates%22%3A%20%5B-73.122375%2C%2044.6236486%5D%2C%20%22type%22%3A%20%22Point%22%7D%2C%20%22id%22%3A%20%2274%22%2C%20%22properties%22%3A%20%7B%22address%22%3A%20%22259%20Route%207%20South%2C%20Milton%2C%20Vermont%2C%2005468%22%2C%20%22lat%22%3A%2044.6236486%2C%20%22lon%22%3A%20-73.122375%2C%20%22pharmacy_name%22%3A%20%22Hannaford%20%238274%22%2C%20%22pharmid%22%3A%20%22VT75%22%2C%20%22sat_close%22%3A%20%2216%3A00%3A00%22%2C%20%22sat_open%22%3A%20%229%3A30%3A00%22%2C%20%22sat_pharm%22%3A%201.0%2C%20%22sat_tech%22%3A%201.0%2C%20%22state%22%3A%20%22VT%22%2C%20%22sun_close%22%3A%20%2214%3A00%3A00%22%2C%20%22sun_open%22%3A%20%229%3A30%3A00%22%2C%20%22sun_pharm%22%3A%201.0%2C%20%22sun_tech%22%3A%201.0%2C%20%22type%22%3A%20%22grocery%22%2C%20%22week_close%22%3A%20%2220%3A00%3A00%22%2C%20%22week_open%22%3A%20%229%3A00%3A00%22%2C%20%22week_pharm%22%3A%201.0%2C%20%22week_tech%22%3A%201.0%7D%2C%20%22type%22%3A%20%22Feature%22%7D%2C%20%7B%22bbox%22%3A%20%5B-72.552914%2C%2044.2317464%2C%20-72.552914%2C%2044.2317464%5D%2C%20%22geometry%22%3A%20%7B%22coordinates%22%3A%20%5B-72.552914%2C%2044.2317464%5D%2C%20%22type%22%3A%20%22Point%22%7D%2C%20%22id%22%3A%20%2275%22%2C%20%22properties%22%3A%20%7B%22address%22%3A%20%221634%20US%20Route%20302%2C%20Barre%2C%20VT%2005641%22%2C%20%22lat%22%3A%2044.2317464%2C%20%22lon%22%3A%20-72.552914%2C%20%22pharmacy_name%22%3A%20%22CVS%20%2310127%22%2C%20%22pharmid%22%3A%20%22VT76%22%2C%20%22sat_close%22%3A%20%2218%3A00%3A00%22%2C%20%22sat_open%22%3A%20%2210%3A00%3A00%22%2C%20%22sat_pharm%22%3A%201.0%2C%20%22sat_tech%22%3A%203.0%2C%20%22state%22%3A%20%22VT%22%2C%20%22sun_close%22%3A%20%2217%3A00%3A00%22%2C%20%22sun_open%22%3A%20%2211%3A00%3A00%22%2C%20%22sun_pharm%22%3A%201.0%2C%20%22sun_tech%22%3A%202.0%2C%20%22type%22%3A%20%22chain%22%2C%20%22week_close%22%3A%20%2219%3A00%3A00%22%2C%20%22week_open%22%3A%20%229%3A00%3A00%22%2C%20%22week_pharm%22%3A%201.0%2C%20%22week_tech%22%3A%204.0%7D%2C%20%22type%22%3A%20%22Feature%22%7D%2C%20%7B%22bbox%22%3A%20%5B-73.181462%2C%2044.5070055%2C%20-73.181462%2C%2044.5070055%5D%2C%20%22geometry%22%3A%20%7B%22coordinates%22%3A%20%5B-73.181462%2C%2044.5070055%5D%2C%20%22type%22%3A%20%22Point%22%7D%2C%20%22id%22%3A%20%2276%22%2C%20%22properties%22%3A%20%7B%22address%22%3A%20%2269%20Mountain%20View%20Dr.%2C%20Colchester%2C%20VT%2005446%22%2C%20%22lat%22%3A%2044.5070055%2C%20%22lon%22%3A%20-73.181462%2C%20%22pharmacy_name%22%3A%20%22CVS%20%2310216%22%2C%20%22pharmid%22%3A%20%22VT77%22%2C%20%22sat_close%22%3A%20%2218%3A00%3A00%22%2C%20%22sat_open%22%3A%20%2210%3A00%3A00%22%2C%20%22sat_pharm%22%3A%201.0%2C%20%22sat_tech%22%3A%201.0%2C%20%22state%22%3A%20%22VT%22%2C%20%22sun_close%22%3A%20%2217%3A00%3A00%22%2C%20%22sun_open%22%3A%20%2211%3A00%3A00%22%2C%20%22sun_pharm%22%3A%201.0%2C%20%22sun_tech%22%3A%201.0%2C%20%22type%22%3A%20%22chain%22%2C%20%22week_close%22%3A%20%2219%3A00%3A00%22%2C%20%22week_open%22%3A%20%228%3A00%3A00%22%2C%20%22week_pharm%22%3A%201.0%2C%20%22week_tech%22%3A%202.0%7D%2C%20%22type%22%3A%20%22Feature%22%7D%2C%20%7B%22bbox%22%3A%20%5B-72.592125%2C%2044.5759798%2C%20-72.592125%2C%2044.5759798%5D%2C%20%22geometry%22%3A%20%7B%22coordinates%22%3A%20%5B-72.592125%2C%2044.5759798%5D%2C%20%22type%22%3A%20%22Point%22%7D%2C%20%22id%22%3A%20%2277%22%2C%20%22properties%22%3A%20%7B%22address%22%3A%20%2213%20VT-15%20E%2C%20Morrisville%2C%20VT%2005661%22%2C%20%22lat%22%3A%2044.5759798%2C%20%22lon%22%3A%20-72.592125%2C%20%22pharmacy_name%22%3A%20%22CVS%20%2310197%22%2C%20%22pharmid%22%3A%20%22VT78%22%2C%20%22sat_close%22%3A%20%2218%3A00%3A00%22%2C%20%22sat_open%22%3A%20%2210%3A00%3A00%22%2C%20%22sat_pharm%22%3A%201.0%2C%20%22sat_tech%22%3A%201.0%2C%20%22state%22%3A%20%22VT%22%2C%20%22sun_close%22%3A%20%2217%3A00%3A00%22%2C%20%22sun_open%22%3A%20%2211%3A00%3A00%22%2C%20%22sun_pharm%22%3A%201.0%2C%20%22sun_tech%22%3A%201.0%2C%20%22type%22%3A%20%22chain%22%2C%20%22week_close%22%3A%20%2219%3A00%3A00%22%2C%20%22week_open%22%3A%20%228%3A00%3A00%22%2C%20%22week_pharm%22%3A%201.0%2C%20%22week_tech%22%3A%202.0%7D%2C%20%22type%22%3A%20%22Feature%22%7D%2C%20%7B%22bbox%22%3A%20%5B-73.21289%2C%2044.4795166%2C%20-73.21289%2C%2044.4795166%5D%2C%20%22geometry%22%3A%20%7B%22coordinates%22%3A%20%5B-73.21289%2C%2044.4795166%5D%2C%20%22type%22%3A%20%22Point%22%7D%2C%20%22id%22%3A%20%2278%22%2C%20%22properties%22%3A%20%7B%22address%22%3A%20%2235%20Church%20St%2C%20Burlington%2C%20VT%2005401%22%2C%20%22lat%22%3A%2044.4795166%2C%20%22lon%22%3A%20-73.21289%2C%20%22pharmacy_name%22%3A%20%22CVS%20%2311037%22%2C%20%22pharmid%22%3A%20%22VT79%22%2C%20%22sat_close%22%3A%20%2218%3A00%3A00%22%2C%20%22sat_open%22%3A%20%2210%3A00%3A00%22%2C%20%22sat_pharm%22%3A%201.0%2C%20%22sat_tech%22%3A%201.0%2C%20%22state%22%3A%20%22VT%22%2C%20%22sun_close%22%3A%20%2217%3A00%3A00%22%2C%20%22sun_open%22%3A%20%2211%3A00%3A00%22%2C%20%22sun_pharm%22%3A%201.0%2C%20%22sun_tech%22%3A%201.0%2C%20%22type%22%3A%20%22chain%22%2C%20%22week_close%22%3A%20%2219%3A00%3A00%22%2C%20%22week_open%22%3A%20%229%3A00%3A00%22%2C%20%22week_pharm%22%3A%201.0%2C%20%22week_tech%22%3A%201.0%7D%2C%20%22type%22%3A%20%22Feature%22%7D%2C%20%7B%22bbox%22%3A%20%5B-72.171631%2C%2044.9504191%2C%20-72.171631%2C%2044.9504191%5D%2C%20%22geometry%22%3A%20%7B%22coordinates%22%3A%20%5B-72.171631%2C%2044.9504191%5D%2C%20%22type%22%3A%20%22Point%22%7D%2C%20%22id%22%3A%20%2279%22%2C%20%22properties%22%3A%20%7B%22address%22%3A%20%22115%20Seymour%20Drive%2C%20Derby%2C%20VT%22%2C%20%22lat%22%3A%2044.9504191%2C%20%22lon%22%3A%20-72.171631%2C%20%22pharmacy_name%22%3A%20%22Wal-Mart%20Pharmacy%2010-4156%22%2C%20%22pharmid%22%3A%20%22VT80%22%2C%20%22sat_close%22%3A%20%2218%3A00%3A00%22%2C%20%22sat_open%22%3A%20%228%3A00%3A00%22%2C%20%22sat_pharm%22%3A%201.0%2C%20%22sat_tech%22%3A%202.0%2C%20%22state%22%3A%20%22VT%22%2C%20%22sun_close%22%3A%20%2217%3A00%3A00%22%2C%20%22sun_open%22%3A%20%229%3A00%3A00%22%2C%20%22sun_pharm%22%3A%201.0%2C%20%22sun_tech%22%3A%202.0%2C%20%22type%22%3A%20%22department%22%2C%20%22week_close%22%3A%20%2219%3A00%3A00%22%2C%20%22week_open%22%3A%20%228%3A00%3A00%22%2C%20%22week_pharm%22%3A%201.0%2C%20%22week_tech%22%3A%204.0%7D%2C%20%22type%22%3A%20%22Feature%22%7D%2C%20%7B%22bbox%22%3A%20%5B-73.182146%2C%2044.4687825%2C%20-73.182146%2C%2044.4687825%5D%2C%20%22geometry%22%3A%20%7B%22coordinates%22%3A%20%5B-73.182146%2C%2044.4687825%5D%2C%20%22type%22%3A%20%22Point%22%7D%2C%20%22id%22%3A%20%2280%22%2C%20%22properties%22%3A%20%7B%22address%22%3A%20%221%20Dorset%20St%2C%20South%20Burlington%2C%20VT%2005403%22%2C%20%22lat%22%3A%2044.4687825%2C%20%22lon%22%3A%20-73.182146%2C%20%22pharmacy_name%22%3A%20%22CVS%20%2310690%22%2C%20%22pharmid%22%3A%20%22VT81%22%2C%20%22sat_close%22%3A%20%2218%3A00%3A00%22%2C%20%22sat_open%22%3A%20%2210%3A00%3A00%22%2C%20%22sat_pharm%22%3A%201.0%2C%20%22sat_tech%22%3A%202.0%2C%20%22state%22%3A%20%22VT%22%2C%20%22sun_close%22%3A%20%2217%3A00%3A00%22%2C%20%22sun_open%22%3A%20%2211%3A00%3A00%22%2C%20%22sun_pharm%22%3A%201.0%2C%20%22sun_tech%22%3A%201.0%2C%20%22type%22%3A%20%22chain%22%2C%20%22week_close%22%3A%20%2219%3A00%3A00%22%2C%20%22week_open%22%3A%20%228%3A00%3A00%22%2C%20%22week_pharm%22%3A%201.0%2C%20%22week_tech%22%3A%203.0%7D%2C%20%22type%22%3A%20%22Feature%22%7D%2C%20%7B%22bbox%22%3A%20%5B-72.955099%2C%2043.5983353%2C%20-72.955099%2C%2043.5983353%5D%2C%20%22geometry%22%3A%20%7B%22coordinates%22%3A%20%5B-72.955099%2C%2043.5983353%5D%2C%20%22type%22%3A%20%22Point%22%7D%2C%20%22id%22%3A%20%2281%22%2C%20%22properties%22%3A%20%7B%22address%22%3A%20%22160%20Allen%20St%2C%20Rutland%2C%20VT%2005701%22%2C%20%22lat%22%3A%2043.5983353%2C%20%22lon%22%3A%20-72.955099%2C%20%22pharmacy_name%22%3A%20%22RRMC%20Pharmacy%22%2C%20%22pharmid%22%3A%20%22VT82%22%2C%20%22sat_close%22%3A%20%2216%3A00%3A00%22%2C%20%22sat_open%22%3A%20%228%3A00%3A00%22%2C%20%22sat_pharm%22%3A%201.0%2C%20%22sat_tech%22%3A%201.0%2C%20%22state%22%3A%20%22VT%22%2C%20%22sun_close%22%3A%20%2216%3A00%3A00%22%2C%20%22sun_open%22%3A%20%229%3A00%3A00%22%2C%20%22sun_pharm%22%3A%201.0%2C%20%22sun_tech%22%3A%201.0%2C%20%22type%22%3A%20%22independent%22%2C%20%22week_close%22%3A%20%2218%3A00%3A00%22%2C%20%22week_open%22%3A%20%228%3A00%3A00%22%2C%20%22week_pharm%22%3A%201.0%2C%20%22week_tech%22%3A%203.0%7D%2C%20%22type%22%3A%20%22Feature%22%7D%2C%20%7B%22bbox%22%3A%20%5B-72.575256%2C%2044.2596595%2C%20-72.575256%2C%2044.2596595%5D%2C%20%22geometry%22%3A%20%7B%22coordinates%22%3A%20%5B-72.575256%2C%2044.2596595%5D%2C%20%22type%22%3A%20%22Point%22%7D%2C%20%22id%22%3A%20%2282%22%2C%20%22properties%22%3A%20%7B%22address%22%3A%20%2269%20Main%20Street%2C%20Montpelier%2C%20VT%2005602%22%2C%20%22lat%22%3A%2044.2596595%2C%20%22lon%22%3A%20-72.575256%2C%20%22pharmacy_name%22%3A%20%22Kinney%20Drugs%20%23132%22%2C%20%22pharmid%22%3A%20%22VT83%22%2C%20%22sat_close%22%3A%20%2215%3A00%3A00%22%2C%20%22sat_open%22%3A%20%229%3A00%3A00%22%2C%20%22sat_pharm%22%3A%201.0%2C%20%22sat_tech%22%3A%201.0%2C%20%22state%22%3A%20%22VT%22%2C%20%22sun_close%22%3A%20%2213%3A00%3A00%22%2C%20%22sun_open%22%3A%20%229%3A00%3A00%22%2C%20%22sun_pharm%22%3A%201.0%2C%20%22sun_tech%22%3A%201.0%2C%20%22type%22%3A%20%22chain%22%2C%20%22week_close%22%3A%20%2218%3A00%3A00%22%2C%20%22week_open%22%3A%20%228%3A00%3A00%22%2C%20%22week_pharm%22%3A%201.0%2C%20%22week_tech%22%3A%202.0%7D%2C%20%22type%22%3A%20%22Feature%22%7D%2C%20%7B%22bbox%22%3A%20%5B-72.505805%2C%2044.2016607%2C%20-72.505805%2C%2044.2016607%5D%2C%20%22geometry%22%3A%20%7B%22coordinates%22%3A%20%5B-72.505805%2C%2044.2016607%5D%2C%20%22type%22%3A%20%22Point%22%7D%2C%20%22id%22%3A%20%2283%22%2C%20%22properties%22%3A%20%7B%22address%22%3A%20%22355%20N%20Main%20St%2C%20Barre%2C%20VT%22%2C%20%22lat%22%3A%2044.2016607%2C%20%22lon%22%3A%20-72.505805%2C%20%22pharmacy_name%22%3A%20%22Walgreen%20Eastern%20Co.%2C%20Inc.%20d/b/a%20Walgreens%20%2317518%22%2C%20%22pharmid%22%3A%20%22VT84%22%2C%20%22sat_close%22%3A%20%2218%3A00%3A00%22%2C%20%22sat_open%22%3A%20%229%3A00%3A00%22%2C%20%22sat_pharm%22%3A%201.0%2C%20%22sat_tech%22%3A%201.0%2C%20%22state%22%3A%20%22VT%22%2C%20%22sun_close%22%3A%20%2217%3A00%3A00%22%2C%20%22sun_open%22%3A%20%229%3A00%3A00%22%2C%20%22sun_pharm%22%3A%201.0%2C%20%22sun_tech%22%3A%201.0%2C%20%22type%22%3A%20%22chain%22%2C%20%22week_close%22%3A%20%2220%3A00%3A00%22%2C%20%22week_open%22%3A%20%229%3A00%3A00%22%2C%20%22week_pharm%22%3A%201.0%2C%20%22week_tech%22%3A%202.0%7D%2C%20%22type%22%3A%20%22Feature%22%7D%2C%20%7B%22bbox%22%3A%20%5B-73.088302%2C%2043.797622%2C%20-73.088302%2C%2043.797622%5D%2C%20%22geometry%22%3A%20%7B%22coordinates%22%3A%20%5B-73.088302%2C%2043.797622%5D%2C%20%22type%22%3A%20%22Point%22%7D%2C%20%22id%22%3A%20%2284%22%2C%20%22properties%22%3A%20%7B%22address%22%3A%20%221%20Union%20St%2C%20Brandon%2C%20VT%22%2C%20%22lat%22%3A%2043.797622%2C%20%22lon%22%3A%20-73.088302%2C%20%22pharmacy_name%22%3A%20%22Walgreen%20Eastern%20Co.%2C%20Inc.%20d/b/a%20Walgreens%20%2318265%22%2C%20%22pharmid%22%3A%20%22VT85%22%2C%20%22sat_close%22%3A%20%2217%3A00%3A00%22%2C%20%22sat_open%22%3A%20%229%3A00%3A00%22%2C%20%22sat_pharm%22%3A%201.0%2C%20%22sat_tech%22%3A%201.0%2C%20%22state%22%3A%20%22VT%22%2C%20%22sun_close%22%3A%20%2217%3A00%3A00%22%2C%20%22sun_open%22%3A%20%229%3A00%3A00%22%2C%20%22sun_pharm%22%3A%201.0%2C%20%22sun_tech%22%3A%201.0%2C%20%22type%22%3A%20%22chain%22%2C%20%22week_close%22%3A%20%2220%3A00%3A00%22%2C%20%22week_open%22%3A%20%229%3A00%3A00%22%2C%20%22week_pharm%22%3A%201.0%2C%20%22week_tech%22%3A%202.0%7D%2C%20%22type%22%3A%20%22Feature%22%7D%2C%20%7B%22bbox%22%3A%20%5B-73.153911%2C%2044.0034028%2C%20-73.153911%2C%2044.0034028%5D%2C%20%22geometry%22%3A%20%7B%22coordinates%22%3A%20%5B-73.153911%2C%2044.0034028%5D%2C%20%22type%22%3A%20%22Point%22%7D%2C%20%22id%22%3A%20%2285%22%2C%20%22properties%22%3A%20%7B%22address%22%3A%20%22263%20Court%20St%2C%20Middlebury%2C%20VT%22%2C%20%22lat%22%3A%2044.0034028%2C%20%22lon%22%3A%20-73.153911%2C%20%22pharmacy_name%22%3A%20%22Walgreen%20Eastern%20Co.%2C%20Inc.%20d/b/a/%20Walgreens%20%2318375%22%2C%20%22pharmid%22%3A%20%22VT86%22%2C%20%22sat_close%22%3A%20%2218%3A00%3A00%22%2C%20%22sat_open%22%3A%20%229%3A00%3A00%22%2C%20%22sat_pharm%22%3A%201.0%2C%20%22sat_tech%22%3A%201.0%2C%20%22state%22%3A%20%22VT%22%2C%20%22sun_close%22%3A%20%22Closed%22%2C%20%22sun_open%22%3A%20%22Closed%22%2C%20%22sun_pharm%22%3A%20null%2C%20%22sun_tech%22%3A%20null%2C%20%22type%22%3A%20%22chain%22%2C%20%22week_close%22%3A%20%2219%3A00%3A00%22%2C%20%22week_open%22%3A%20%229%3A00%3A00%22%2C%20%22week_pharm%22%3A%201.0%2C%20%22week_tech%22%3A%203.0%7D%2C%20%22type%22%3A%20%22Feature%22%7D%2C%20%7B%22bbox%22%3A%20%5B-72.372115%2C%2044.5134727%2C%20-72.372115%2C%2044.5134727%5D%2C%20%22geometry%22%3A%20%7B%22coordinates%22%3A%20%5B-72.372115%2C%2044.5134727%5D%2C%20%22type%22%3A%20%22Point%22%7D%2C%20%22id%22%3A%20%2286%22%2C%20%22properties%22%3A%20%7B%22address%22%3A%20%2282%20VT%20Route%2015%20W%2C%20Hardwick%2C%20VT%22%2C%20%22lat%22%3A%2044.5134727%2C%20%22lon%22%3A%20-72.372115%2C%20%22pharmacy_name%22%3A%20%22Walgreens%20%2317185%22%2C%20%22pharmid%22%3A%20%22VT87%22%2C%20%22sat_close%22%3A%20%2218%3A00%3A00%22%2C%20%22sat_open%22%3A%20%229%3A00%3A00%22%2C%20%22sat_pharm%22%3A%20null%2C%20%22sat_tech%22%3A%20null%2C%20%22state%22%3A%20%22VT%22%2C%20%22sun_close%22%3A%20%2217%3A00%3A00%22%2C%20%22sun_open%22%3A%20%229%3A00%3A00%22%2C%20%22sun_pharm%22%3A%20null%2C%20%22sun_tech%22%3A%20null%2C%20%22type%22%3A%20%22chain%22%2C%20%22week_close%22%3A%20%2219%3A00%3A00%22%2C%20%22week_open%22%3A%20%229%3A00%3A00%22%2C%20%22week_pharm%22%3A%20null%2C%20%22week_tech%22%3A%20null%7D%2C%20%22type%22%3A%20%22Feature%22%7D%2C%20%7B%22bbox%22%3A%20%5B-72.000254%2C%2044.525843%2C%20-72.000254%2C%2044.525843%5D%2C%20%22geometry%22%3A%20%7B%22coordinates%22%3A%20%5B-72.000254%2C%2044.525843%5D%2C%20%22type%22%3A%20%22Point%22%7D%2C%20%22id%22%3A%20%2287%22%2C%20%22properties%22%3A%20%7B%22address%22%3A%20%22412%20Broad%20St%2C%20Lyndonville%2C%20VT%22%2C%20%22lat%22%3A%2044.525843%2C%20%22lon%22%3A%20-72.000254%2C%20%22pharmacy_name%22%3A%20%22Walgreens%20%2317625%22%2C%20%22pharmid%22%3A%20%22VT88%22%2C%20%22sat_close%22%3A%20%2218%3A00%3A00%22%2C%20%22sat_open%22%3A%20%229%3A00%3A00%22%2C%20%22sat_pharm%22%3A%20null%2C%20%22sat_tech%22%3A%20null%2C%20%22state%22%3A%20%22VT%22%2C%20%22sun_close%22%3A%20%2217%3A00%3A00%22%2C%20%22sun_open%22%3A%20%229%3A00%3A00%22%2C%20%22sun_pharm%22%3A%20null%2C%20%22sun_tech%22%3A%20null%2C%20%22type%22%3A%20%22chain%22%2C%20%22week_close%22%3A%20%2219%3A00%3A00%22%2C%20%22week_open%22%3A%20%229%3A00%3A00%22%2C%20%22week_pharm%22%3A%20null%2C%20%22week_tech%22%3A%20null%7D%2C%20%22type%22%3A%20%22Feature%22%7D%2C%20%7B%22bbox%22%3A%20%5B-73.077696%2C%2044.133654%2C%20-73.077696%2C%2044.133654%5D%2C%20%22geometry%22%3A%20%7B%22coordinates%22%3A%20%5B-73.077696%2C%2044.133654%5D%2C%20%22type%22%3A%20%22Point%22%7D%2C%20%22id%22%3A%20%2288%22%2C%20%22properties%22%3A%20%7B%22address%22%3A%20%221%20Prince%20Ln%2C%20Bristol%2C%20VT%22%2C%20%22lat%22%3A%2044.133654%2C%20%22lon%22%3A%20-73.077696%2C%20%22pharmacy_name%22%3A%20%22Walgreen%20Eastern%20Co.%2C%20Inc.%20d/b/a%20Walgreens%20%2318043%22%2C%20%22pharmid%22%3A%20%22VT89%22%2C%20%22sat_close%22%3A%20%2218%3A00%3A00%22%2C%20%22sat_open%22%3A%20%229%3A00%3A00%22%2C%20%22sat_pharm%22%3A%201.0%2C%20%22sat_tech%22%3A%200.0%2C%20%22state%22%3A%20%22VT%22%2C%20%22sun_close%22%3A%20%2217%3A00%3A00%22%2C%20%22sun_open%22%3A%20%229%3A00%3A00%22%2C%20%22sun_pharm%22%3A%201.0%2C%20%22sun_tech%22%3A%200.0%2C%20%22type%22%3A%20%22chain%22%2C%20%22week_close%22%3A%20%2219%3A00%3A00%22%2C%20%22week_open%22%3A%20%229%3A00%3A00%22%2C%20%22week_pharm%22%3A%201.0%2C%20%22week_tech%22%3A%202.0%7D%2C%20%22type%22%3A%20%22Feature%22%7D%2C%20%7B%22bbox%22%3A%20%5B-72.205574%2C%2044.9399542%2C%20-72.205574%2C%2044.9399542%5D%2C%20%22geometry%22%3A%20%7B%22coordinates%22%3A%20%5B-72.205574%2C%2044.9399542%5D%2C%20%22type%22%3A%20%22Point%22%7D%2C%20%22id%22%3A%20%2289%22%2C%20%22properties%22%3A%20%7B%22address%22%3A%20%2259%20Waterfront%20Plz%20Ste%202%2C%20Newport%2C%20VT%22%2C%20%22lat%22%3A%2044.9399542%2C%20%22lon%22%3A%20-72.205574%2C%20%22pharmacy_name%22%3A%20%22Walgreens%20%2317713%22%2C%20%22pharmid%22%3A%20%22VT90%22%2C%20%22sat_close%22%3A%20%2218%3A00%3A00%22%2C%20%22sat_open%22%3A%20%229%3A00%3A00%22%2C%20%22sat_pharm%22%3A%20null%2C%20%22sat_tech%22%3A%20null%2C%20%22state%22%3A%20%22VT%22%2C%20%22sun_close%22%3A%20%2217%3A00%3A00%22%2C%20%22sun_open%22%3A%20%229%3A00%3A00%22%2C%20%22sun_pharm%22%3A%20null%2C%20%22sun_tech%22%3A%20null%2C%20%22type%22%3A%20%22chain%22%2C%20%22week_close%22%3A%20%2220%3A00%3A00%22%2C%20%22week_open%22%3A%20%229%3A00%3A00%22%2C%20%22week_pharm%22%3A%20null%2C%20%22week_tech%22%3A%20null%7D%2C%20%22type%22%3A%20%22Feature%22%7D%2C%20%7B%22bbox%22%3A%20%5B-72.448422%2C%2043.1360445%2C%20-72.448422%2C%2043.1360445%5D%2C%20%22geometry%22%3A%20%7B%22coordinates%22%3A%20%5B-72.448422%2C%2043.1360445%5D%2C%20%22type%22%3A%20%22Point%22%7D%2C%20%22id%22%3A%20%2290%22%2C%20%22properties%22%3A%20%7B%22address%22%3A%20%22112%20Rockingham%20St%2C%20Bellows%20Falls%2C%20VT%22%2C%20%22lat%22%3A%2043.1360445%2C%20%22lon%22%3A%20-72.448422%2C%20%22pharmacy_name%22%3A%20%22Walgreen%20Eastern%20Co.%2C%20Inc.%20d/b/a%20Walgreens%20%2319233%22%2C%20%22pharmid%22%3A%20%22VT91%22%2C%20%22sat_close%22%3A%20%2218%3A00%3A00%22%2C%20%22sat_open%22%3A%20%228%3A00%3A00%22%2C%20%22sat_pharm%22%3A%201.0%2C%20%22sat_tech%22%3A%201.0%2C%20%22state%22%3A%20%22VT%22%2C%20%22sun_close%22%3A%20%2218%3A00%3A00%22%2C%20%22sun_open%22%3A%20%229%3A00%3A00%22%2C%20%22sun_pharm%22%3A%201.0%2C%20%22sun_tech%22%3A%201.0%2C%20%22type%22%3A%20%22chain%22%2C%20%22week_close%22%3A%20%2220%3A00%3A00%22%2C%20%22week_open%22%3A%20%228%3A00%3A00%22%2C%20%22week_pharm%22%3A%201.0%2C%20%22week_tech%22%3A%203.0%7D%2C%20%22type%22%3A%20%22Feature%22%7D%2C%20%7B%22bbox%22%3A%20%5B-73.198201%2C%2042.8814044%2C%20-73.198201%2C%2042.8814044%5D%2C%20%22geometry%22%3A%20%7B%22coordinates%22%3A%20%5B-73.198201%2C%2042.8814044%5D%2C%20%22type%22%3A%20%22Point%22%7D%2C%20%22id%22%3A%20%2291%22%2C%20%22properties%22%3A%20%7B%22address%22%3A%20%22194%20North%20St%2C%20Bennington%2C%20VT%22%2C%20%22lat%22%3A%2042.8814044%2C%20%22lon%22%3A%20-73.198201%2C%20%22pharmacy_name%22%3A%20%22Walgreens%20%2317631%22%2C%20%22pharmid%22%3A%20%22VT92%22%2C%20%22sat_close%22%3A%20%22Closed%22%2C%20%22sat_open%22%3A%20%22Closed%22%2C%20%22sat_pharm%22%3A%20null%2C%20%22sat_tech%22%3A%20null%2C%20%22state%22%3A%20%22VT%22%2C%20%22sun_close%22%3A%20%22Closed%22%2C%20%22sun_open%22%3A%20%22Closed%22%2C%20%22sun_pharm%22%3A%20null%2C%20%22sun_tech%22%3A%20null%2C%20%22type%22%3A%20%22chain%22%2C%20%22week_close%22%3A%20%2218%3A00%3A00%22%2C%20%22week_open%22%3A%20%229%3A00%3A00%22%2C%20%22week_pharm%22%3A%201.0%2C%20%22week_tech%22%3A%201.0%7D%2C%20%22type%22%3A%20%22Feature%22%7D%2C%20%7B%22bbox%22%3A%20%5B-73.171587%2C%2044.4657489%2C%20-73.171587%2C%2044.4657489%5D%2C%20%22geometry%22%3A%20%7B%22coordinates%22%3A%20%5B-73.171587%2C%2044.4657489%5D%2C%20%22type%22%3A%20%22Point%22%7D%2C%20%22id%22%3A%20%2292%22%2C%20%22properties%22%3A%20%7B%22address%22%3A%20%2239%20Hinesburg%20Rd%2C%20South%20Burlington%2C%20VT%22%2C%20%22lat%22%3A%2044.4657489%2C%20%22lon%22%3A%20-73.171587%2C%20%22pharmacy_name%22%3A%20%22Walgreens%20%2317447%22%2C%20%22pharmid%22%3A%20%22VT93%22%2C%20%22sat_close%22%3A%20%2218%3A00%3A00%22%2C%20%22sat_open%22%3A%20%229%3A00%3A00%22%2C%20%22sat_pharm%22%3A%201.0%2C%20%22sat_tech%22%3A%201.0%2C%20%22state%22%3A%20%22VT%22%2C%20%22sun_close%22%3A%20%2217%3A00%3A00%22%2C%20%22sun_open%22%3A%20%229%3A00%3A00%22%2C%20%22sun_pharm%22%3A%201.0%2C%20%22sun_tech%22%3A%201.0%2C%20%22type%22%3A%20%22chain%22%2C%20%22week_close%22%3A%20%2220%3A00%3A00%22%2C%20%22week_open%22%3A%20%229%3A00%3A00%22%2C%20%22week_pharm%22%3A%201.0%2C%20%22week_tech%22%3A%202.0%7D%2C%20%22type%22%3A%20%22Feature%22%7D%2C%20%7B%22bbox%22%3A%20%5B-73.183964%2C%2044.4983646%2C%20-73.183964%2C%2044.4983646%5D%2C%20%22geometry%22%3A%20%7B%22coordinates%22%3A%20%5B-73.183964%2C%2044.4983646%5D%2C%20%22type%22%3A%20%22Point%22%7D%2C%20%22id%22%3A%20%2293%22%2C%20%22properties%22%3A%20%7B%22address%22%3A%20%22321%20Main%20St%2C%20Winooski%2C%20VT%22%2C%20%22lat%22%3A%2044.4983646%2C%20%22lon%22%3A%20-73.183964%2C%20%22pharmacy_name%22%3A%20%22Walgreens%20%2317485%22%2C%20%22pharmid%22%3A%20%22VT94%22%2C%20%22sat_close%22%3A%20%2218%3A00%3A00%22%2C%20%22sat_open%22%3A%20%229%3A00%3A00%22%2C%20%22sat_pharm%22%3A%20null%2C%20%22sat_tech%22%3A%20null%2C%20%22state%22%3A%20%22VT%22%2C%20%22sun_close%22%3A%20%2217%3A00%3A00%22%2C%20%22sun_open%22%3A%20%229%3A00%3A00%22%2C%20%22sun_pharm%22%3A%20null%2C%20%22sun_tech%22%3A%20null%2C%20%22type%22%3A%20%22chain%22%2C%20%22week_close%22%3A%20%2220%3A00%3A00%22%2C%20%22week_open%22%3A%20%229%3A00%3A00%22%2C%20%22week_pharm%22%3A%201.0%2C%20%22week_tech%22%3A%20null%7D%2C%20%22type%22%3A%20%22Feature%22%7D%2C%20%7B%22bbox%22%3A%20%5B-73.247286%2C%2044.5377337%2C%20-73.247286%2C%2044.5377337%5D%2C%20%22geometry%22%3A%20%7B%22coordinates%22%3A%20%5B-73.247286%2C%2044.5377337%5D%2C%20%22type%22%3A%20%22Point%22%7D%2C%20%22id%22%3A%20%2294%22%2C%20%22properties%22%3A%20%7B%22address%22%3A%20%221184%20Prim%20Rd%20Ste%202%2C%20Colchester%2C%20VT%22%2C%20%22lat%22%3A%2044.5377337%2C%20%22lon%22%3A%20-73.247286%2C%20%22pharmacy_name%22%3A%20%22Walgeens%20%2317183%22%2C%20%22pharmid%22%3A%20%22VT95%22%2C%20%22sat_close%22%3A%20%2218%3A00%3A00%22%2C%20%22sat_open%22%3A%20%229%3A00%3A00%22%2C%20%22sat_pharm%22%3A%20null%2C%20%22sat_tech%22%3A%20null%2C%20%22state%22%3A%20%22VT%22%2C%20%22sun_close%22%3A%20%2217%3A00%3A00%22%2C%20%22sun_open%22%3A%20%229%3A00%3A00%22%2C%20%22sun_pharm%22%3A%20null%2C%20%22sun_tech%22%3A%20null%2C%20%22type%22%3A%20%22chain%22%2C%20%22week_close%22%3A%20%2220%3A00%3A00%22%2C%20%22week_open%22%3A%20%229%3A00%3A00%22%2C%20%22week_pharm%22%3A%20null%2C%20%22week_tech%22%3A%20null%7D%2C%20%22type%22%3A%20%22Feature%22%7D%2C%20%7B%22bbox%22%3A%20%5B-72.806612%2C%2044.9057722%2C%20-72.806612%2C%2044.9057722%5D%2C%20%22geometry%22%3A%20%7B%22coordinates%22%3A%20%5B-72.806612%2C%2044.9057722%5D%2C%20%22type%22%3A%20%22Point%22%7D%2C%20%22id%22%3A%20%2295%22%2C%20%22properties%22%3A%20%7B%22address%22%3A%20%22221%20Main%20St%2C%20Enosburg%20Falls%2C%20VT%22%2C%20%22lat%22%3A%2044.9057722%2C%20%22lon%22%3A%20-72.806612%2C%20%22pharmacy_name%22%3A%20%22Walgreens%20%2319346%22%2C%20%22pharmid%22%3A%20%22VT96%22%2C%20%22sat_close%22%3A%20%2218%3A00%3A00%22%2C%20%22sat_open%22%3A%20%229%3A00%3A00%22%2C%20%22sat_pharm%22%3A%201.0%2C%20%22sat_tech%22%3A%201.0%2C%20%22state%22%3A%20%22VT%22%2C%20%22sun_close%22%3A%20%22Closed%22%2C%20%22sun_open%22%3A%20%22Closed%22%2C%20%22sun_pharm%22%3A%20null%2C%20%22sun_tech%22%3A%20null%2C%20%22type%22%3A%20%22chain%22%2C%20%22week_close%22%3A%20%2219%3A00%3A00%22%2C%20%22week_open%22%3A%20%229%3A00%3A00%22%2C%20%22week_pharm%22%3A%201.0%2C%20%22week_tech%22%3A%202.0%7D%2C%20%22type%22%3A%20%22Feature%22%7D%2C%20%7B%22bbox%22%3A%20%5B-73.112042%2C%2044.682189%2C%20-73.112042%2C%2044.682189%5D%2C%20%22geometry%22%3A%20%7B%22coordinates%22%3A%20%5B-73.112042%2C%2044.682189%5D%2C%20%22type%22%3A%20%22Point%22%7D%2C%20%22id%22%3A%20%2296%22%2C%20%22properties%22%3A%20%7B%22address%22%3A%20%22201%20Route%207%20S%2C%20Milton%2C%20VT%22%2C%20%22lat%22%3A%2044.682189%2C%20%22lon%22%3A%20-73.112042%2C%20%22pharmacy_name%22%3A%20%22WALGREENS%20%2317747%22%2C%20%22pharmid%22%3A%20%22VT97%22%2C%20%22sat_close%22%3A%20%2218%3A00%3A00%22%2C%20%22sat_open%22%3A%20%229%3A00%3A00%22%2C%20%22sat_pharm%22%3A%201.0%2C%20%22sat_tech%22%3A%201.0%2C%20%22state%22%3A%20%22VT%22%2C%20%22sun_close%22%3A%20%22Closed%22%2C%20%22sun_open%22%3A%20%22Closed%22%2C%20%22sun_pharm%22%3A%20null%2C%20%22sun_tech%22%3A%20null%2C%20%22type%22%3A%20%22chain%22%2C%20%22week_close%22%3A%20%2219%3A00%3A00%22%2C%20%22week_open%22%3A%20%229%3A00%3A00%22%2C%20%22week_pharm%22%3A%201.0%2C%20%22week_tech%22%3A%201.0%7D%2C%20%22type%22%3A%20%22Feature%22%7D%2C%20%7B%22bbox%22%3A%20%5B-73.082604%2C%2044.8141675%2C%20-73.082604%2C%2044.8141675%5D%2C%20%22geometry%22%3A%20%7B%22coordinates%22%3A%20%5B-73.082604%2C%2044.8141675%5D%2C%20%22type%22%3A%20%22Point%22%7D%2C%20%22id%22%3A%20%2297%22%2C%20%22properties%22%3A%20%7B%22address%22%3A%20%22133%20N%20Main%20St%20Ste%2023%2C%20Saint%20Albans%2C%20VT%22%2C%20%22lat%22%3A%2044.8141675%2C%20%22lon%22%3A%20-73.082604%2C%20%22pharmacy_name%22%3A%20%22WALGREENS%20%2319795%22%2C%20%22pharmid%22%3A%20%22VT98%22%2C%20%22sat_close%22%3A%20%2218%3A00%3A00%22%2C%20%22sat_open%22%3A%20%229%3A00%3A00%22%2C%20%22sat_pharm%22%3A%201.0%2C%20%22sat_tech%22%3A%201.0%2C%20%22state%22%3A%20%22VT%22%2C%20%22sun_close%22%3A%20%2217%3A00%3A00%22%2C%20%22sun_open%22%3A%20%229%3A00%3A00%22%2C%20%22sun_pharm%22%3A%201.0%2C%20%22sun_tech%22%3A%201.0%2C%20%22type%22%3A%20%22chain%22%2C%20%22week_close%22%3A%20%2219%3A00%3A00%22%2C%20%22week_open%22%3A%20%229%3A00%3A00%22%2C%20%22week_pharm%22%3A%201.0%2C%20%22week_tech%22%3A%202.0%7D%2C%20%22type%22%3A%20%22Feature%22%7D%2C%20%7B%22bbox%22%3A%20%5B-73.224989%2C%2044.3792622%2C%20-73.224989%2C%2044.3792622%5D%2C%20%22geometry%22%3A%20%7B%22coordinates%22%3A%20%5B-73.224989%2C%2044.3792622%5D%2C%20%22type%22%3A%20%22Point%22%7D%2C%20%22id%22%3A%20%2298%22%2C%20%22properties%22%3A%20%7B%22address%22%3A%20%2230%20Shelburne%20Shopping%20Park%2C%20Shelburne%2C%20VT%22%2C%20%22lat%22%3A%2044.3792622%2C%20%22lon%22%3A%20-73.224989%2C%20%22pharmacy_name%22%3A%20%22Walgreen%20Eastern%20Co.%2C%20Inc.%20d/b/a%20Walgreens%20%2318325%22%2C%20%22pharmid%22%3A%20%22VT99%22%2C%20%22sat_close%22%3A%20%22Closed%22%2C%20%22sat_open%22%3A%20%22Closed%22%2C%20%22sat_pharm%22%3A%20null%2C%20%22sat_tech%22%3A%20null%2C%20%22state%22%3A%20%22VT%22%2C%20%22sun_close%22%3A%20%22Closed%22%2C%20%22sun_open%22%3A%20%22Closed%22%2C%20%22sun_pharm%22%3A%20null%2C%20%22sun_tech%22%3A%20null%2C%20%22type%22%3A%20%22chain%22%2C%20%22week_close%22%3A%20%2219%3A00%3A00%22%2C%20%22week_open%22%3A%20%229%3A00%3A00%22%2C%20%22week_pharm%22%3A%201.0%2C%20%22week_tech%22%3A%201.0%7D%2C%20%22type%22%3A%20%22Feature%22%7D%2C%20%7B%22bbox%22%3A%20%5B-72.561294%2C%2042.87929%2C%20-72.561294%2C%2042.87929%5D%2C%20%22geometry%22%3A%20%7B%22coordinates%22%3A%20%5B-72.561294%2C%2042.87929%5D%2C%20%22type%22%3A%20%22Point%22%7D%2C%20%22id%22%3A%20%2299%22%2C%20%22properties%22%3A%20%7B%22address%22%3A%20%22896%20Putney%20Rd%20Ste%2025%2C%20Brattleboro%2C%20VT%22%2C%20%22lat%22%3A%2042.87929%2C%20%22lon%22%3A%20-72.561294%2C%20%22pharmacy_name%22%3A%20%22Walgreens%20%2318418%22%2C%20%22pharmid%22%3A%20%22VT100%22%2C%20%22sat_close%22%3A%20%22Closed%22%2C%20%22sat_open%22%3A%20%22Closed%22%2C%20%22sat_pharm%22%3A%20null%2C%20%22sat_tech%22%3A%20null%2C%20%22state%22%3A%20%22VT%22%2C%20%22sun_close%22%3A%20%22Closed%22%2C%20%22sun_open%22%3A%20%22Closed%22%2C%20%22sun_pharm%22%3A%20null%2C%20%22sun_tech%22%3A%20null%2C%20%22type%22%3A%20%22chain%22%2C%20%22week_close%22%3A%20%2218%3A00%3A00%22%2C%20%22week_open%22%3A%20%2210%3A00%3A00%22%2C%20%22week_pharm%22%3A%201.0%2C%20%22week_tech%22%3A%202.0%7D%2C%20%22type%22%3A%20%22Feature%22%7D%2C%20%7B%22bbox%22%3A%20%5B-73.043916%2C%2043.5939257%2C%20-73.043916%2C%2043.5939257%5D%2C%20%22geometry%22%3A%20%7B%22coordinates%22%3A%20%5B-73.043916%2C%2043.5939257%5D%2C%20%22type%22%3A%20%22Point%22%7D%2C%20%22id%22%3A%20%22100%22%2C%20%22properties%22%3A%20%7B%22address%22%3A%20%22294%20Main%20St%2C%20West%20Rutland%2C%20VT%22%2C%20%22lat%22%3A%2043.5939257%2C%20%22lon%22%3A%20-73.043916%2C%20%22pharmacy_name%22%3A%20%22Walgreen%20Eastern%20Co.%2C%20Inc.%20d/b/a%20Walgreens%20%2318278%22%2C%20%22pharmid%22%3A%20%22VT101%22%2C%20%22sat_close%22%3A%20%2218%3A00%3A00%22%2C%20%22sat_open%22%3A%20%229%3A00%3A00%22%2C%20%22sat_pharm%22%3A%201.0%2C%20%22sat_tech%22%3A%201.0%2C%20%22state%22%3A%20%22VT%22%2C%20%22sun_close%22%3A%20%2217%3A00%3A00%22%2C%20%22sun_open%22%3A%20%229%3A00%3A00%22%2C%20%22sun_pharm%22%3A%201.0%2C%20%22sun_tech%22%3A%201.0%2C%20%22type%22%3A%20%22chain%22%2C%20%22week_close%22%3A%20%2219%3A00%3A00%22%2C%20%22week_open%22%3A%20%229%3A00%3A00%22%2C%20%22week_pharm%22%3A%201.0%2C%20%22week_tech%22%3A%203.0%7D%2C%20%22type%22%3A%20%22Feature%22%7D%2C%20%7B%22bbox%22%3A%20%5B-73.055009%2C%2043.1779833%2C%20-73.055009%2C%2043.1779833%5D%2C%20%22geometry%22%3A%20%7B%22coordinates%22%3A%20%5B-73.055009%2C%2043.1779833%5D%2C%20%22type%22%3A%20%22Point%22%7D%2C%20%22id%22%3A%20%22101%22%2C%20%22properties%22%3A%20%7B%22address%22%3A%20%224993%20Main%20St%20Ste%20A%2C%20Manchester%2C%20VT%22%2C%20%22lat%22%3A%2043.1779833%2C%20%22lon%22%3A%20-73.055009%2C%20%22pharmacy_name%22%3A%20%22Walgreen%20Eastern%20Co.%2C%20Inc.%20d/b/a%20Walgreens%20%2318020%22%2C%20%22pharmid%22%3A%20%22VT102%22%2C%20%22sat_close%22%3A%20%2218%3A00%3A00%22%2C%20%22sat_open%22%3A%20%229%3A00%3A00%22%2C%20%22sat_pharm%22%3A%201.0%2C%20%22sat_tech%22%3A%201.0%2C%20%22state%22%3A%20%22VT%22%2C%20%22sun_close%22%3A%20%2217%3A00%3A00%22%2C%20%22sun_open%22%3A%20%229%3A00%3A00%22%2C%20%22sun_pharm%22%3A%201.0%2C%20%22sun_tech%22%3A%201.0%2C%20%22type%22%3A%20%22chain%22%2C%20%22week_close%22%3A%20%2219%3A00%3A00%22%2C%20%22week_open%22%3A%20%229%3A00%3A00%22%2C%20%22week_pharm%22%3A%201.0%2C%20%22week_tech%22%3A%202.0%7D%2C%20%22type%22%3A%20%22Feature%22%7D%2C%20%7B%22bbox%22%3A%20%5B-72.86161%2C%2042.8647573%2C%20-72.86161%2C%2042.8647573%5D%2C%20%22geometry%22%3A%20%7B%22coordinates%22%3A%20%5B-72.86161%2C%2042.8647573%5D%2C%20%22type%22%3A%20%22Point%22%7D%2C%20%22id%22%3A%20%22102%22%2C%20%22properties%22%3A%20%7B%22address%22%3A%20%22107%20E%20Main%20St%2C%20Wilmington%2C%20VT%22%2C%20%22lat%22%3A%2042.8647573%2C%20%22lon%22%3A%20-72.86161%2C%20%22pharmacy_name%22%3A%20%22Walgreen%20Eastern%20Co.%2C%20Inc.%20d/b/a%20Walgreens%20%2317379%22%2C%20%22pharmid%22%3A%20%22VT103%22%2C%20%22sat_close%22%3A%20%2217%3A00%3A00%22%2C%20%22sat_open%22%3A%20%229%3A00%3A00%22%2C%20%22sat_pharm%22%3A%201.0%2C%20%22sat_tech%22%3A%201.0%2C%20%22state%22%3A%20%22VT%22%2C%20%22sun_close%22%3A%20%2217%3A00%3A00%22%2C%20%22sun_open%22%3A%20%229%3A00%3A00%22%2C%20%22sun_pharm%22%3A%201.0%2C%20%22sun_tech%22%3A%201.0%2C%20%22type%22%3A%20%22chain%22%2C%20%22week_close%22%3A%20%2219%3A00%3A00%22%2C%20%22week_open%22%3A%20%229%3A00%3A00%22%2C%20%22week_pharm%22%3A%201.0%2C%20%22week_tech%22%3A%202.0%7D%2C%20%22type%22%3A%20%22Feature%22%7D%2C%20%7B%22bbox%22%3A%20%5B-73.27391%2C%2043.6024709%2C%20-73.27391%2C%2043.6024709%5D%2C%20%22geometry%22%3A%20%7B%22coordinates%22%3A%20%5B-73.27391%2C%2043.6024709%5D%2C%20%22type%22%3A%20%22Point%22%7D%2C%20%22id%22%3A%20%22103%22%2C%20%22properties%22%3A%20%7B%22address%22%3A%20%22621%20Route%2022A%20N%2C%20Fair%20Haven%2C%20VT%22%2C%20%22lat%22%3A%2043.6024709%2C%20%22lon%22%3A%20-73.27391%2C%20%22pharmacy_name%22%3A%20%22Walgreens%20%2318354%22%2C%20%22pharmid%22%3A%20%22VT104%22%2C%20%22sat_close%22%3A%20%2218%3A00%3A00%22%2C%20%22sat_open%22%3A%20%229%3A00%3A00%22%2C%20%22sat_pharm%22%3A%201.0%2C%20%22sat_tech%22%3A%201.0%2C%20%22state%22%3A%20%22VT%22%2C%20%22sun_close%22%3A%20%2217%3A00%3A00%22%2C%20%22sun_open%22%3A%20%229%3A00%3A00%22%2C%20%22sun_pharm%22%3A%201.0%2C%20%22sun_tech%22%3A%201.0%2C%20%22type%22%3A%20%22chain%22%2C%20%22week_close%22%3A%20%2219%3A00%3A00%22%2C%20%22week_open%22%3A%20%229%3A00%3A00%22%2C%20%22week_pharm%22%3A%201.0%2C%20%22week_tech%22%3A%202.0%7D%2C%20%22type%22%3A%20%22Feature%22%7D%2C%20%7B%22bbox%22%3A%20%5B-73.241215%2C%2044.5049927%2C%20-73.241215%2C%2044.5049927%5D%2C%20%22geometry%22%3A%20%7B%22coordinates%22%3A%20%5B-73.241215%2C%2044.5049927%5D%2C%20%22type%22%3A%20%22Point%22%7D%2C%20%22id%22%3A%20%22104%22%2C%20%22properties%22%3A%20%7B%22address%22%3A%20%221024%20North%20Ave%2C%20Burlington%2C%20VT%22%2C%20%22lat%22%3A%2044.5049927%2C%20%22lon%22%3A%20-73.241215%2C%20%22pharmacy_name%22%3A%20%22Walgreen%20Eastern%20Co.%2C%20Inc.%20d/b/a%20Walgreens%20%2319570%22%2C%20%22pharmid%22%3A%20%22VT105%22%2C%20%22sat_close%22%3A%20%2218%3A00%3A00%22%2C%20%22sat_open%22%3A%20%229%3A00%3A00%22%2C%20%22sat_pharm%22%3A%20null%2C%20%22sat_tech%22%3A%20null%2C%20%22state%22%3A%20%22VT%22%2C%20%22sun_close%22%3A%20%22Closed%22%2C%20%22sun_open%22%3A%20%22Closed%22%2C%20%22sun_pharm%22%3A%20null%2C%20%22sun_tech%22%3A%20null%2C%20%22type%22%3A%20%22chain%22%2C%20%22week_close%22%3A%20%2219%3A00%3A00%22%2C%20%22week_open%22%3A%20%229%3A00%3A00%22%2C%20%22week_pharm%22%3A%20null%2C%20%22week_tech%22%3A%20null%7D%2C%20%22type%22%3A%20%22Feature%22%7D%2C%20%7B%22bbox%22%3A%20%5B-72.576011%2C%2044.2590394%2C%20-72.576011%2C%2044.2590394%5D%2C%20%22geometry%22%3A%20%7B%22coordinates%22%3A%20%5B-72.576011%2C%2044.2590394%5D%2C%20%22type%22%3A%20%22Point%22%7D%2C%20%22id%22%3A%20%22105%22%2C%20%22properties%22%3A%20%7B%22address%22%3A%20%2229%20Main%20St%20Ste%2031%2C%20Montpelier%2C%20VT%22%2C%20%22lat%22%3A%2044.2590394%2C%20%22lon%22%3A%20-72.576011%2C%20%22pharmacy_name%22%3A%20%22Walgreen%20Eastern%20Co.%2C%20Inc.%20d/b/a/%20Walgreens%20%2317596%22%2C%20%22pharmid%22%3A%20%22VT106%22%2C%20%22sat_close%22%3A%20%2218%3A00%3A00%22%2C%20%22sat_open%22%3A%20%229%3A00%3A00%22%2C%20%22sat_pharm%22%3A%20null%2C%20%22sat_tech%22%3A%20null%2C%20%22state%22%3A%20%22VT%22%2C%20%22sun_close%22%3A%20%22Closed%22%2C%20%22sun_open%22%3A%20%22Closed%22%2C%20%22sun_pharm%22%3A%20null%2C%20%22sun_tech%22%3A%20null%2C%20%22type%22%3A%20%22chain%22%2C%20%22week_close%22%3A%20%2220%3A00%3A00%22%2C%20%22week_open%22%3A%20%229%3A00%3A00%22%2C%20%22week_pharm%22%3A%20null%2C%20%22week_tech%22%3A%20null%7D%2C%20%22type%22%3A%20%22Feature%22%7D%2C%20%7B%22bbox%22%3A%20%5B-73.136714%2C%2044.5045543%2C%20-73.136714%2C%2044.5045543%5D%2C%20%22geometry%22%3A%20%7B%22coordinates%22%3A%20%5B-73.136714%2C%2044.5045543%5D%2C%20%22type%22%3A%20%22Point%22%7D%2C%20%22id%22%3A%20%22106%22%2C%20%22properties%22%3A%20%7B%22address%22%3A%20%229%20Susie%20Wilson%20Rd%2C%20Essex%20Junction%2C%20VT%22%2C%20%22lat%22%3A%2044.5045543%2C%20%22lon%22%3A%20-73.136714%2C%20%22pharmacy_name%22%3A%20%22Walgreens%20%2317471%22%2C%20%22pharmid%22%3A%20%22VT107%22%2C%20%22sat_close%22%3A%20%2217%3A00%3A00%22%2C%20%22sat_open%22%3A%20%229%3A00%3A00%22%2C%20%22sat_pharm%22%3A%20null%2C%20%22sat_tech%22%3A%20null%2C%20%22state%22%3A%20%22VT%22%2C%20%22sun_close%22%3A%20%22Closed%22%2C%20%22sun_open%22%3A%20%22Closed%22%2C%20%22sun_pharm%22%3A%20null%2C%20%22sun_tech%22%3A%20null%2C%20%22type%22%3A%20%22chain%22%2C%20%22week_close%22%3A%20%2219%3A00%3A00%22%2C%20%22week_open%22%3A%20%229%3A00%3A00%22%2C%20%22week_pharm%22%3A%20null%2C%20%22week_tech%22%3A%20null%7D%2C%20%22type%22%3A%20%22Feature%22%7D%2C%20%7B%22bbox%22%3A%20%5B-73.209015%2C%2044.4807158%2C%20-73.209015%2C%2044.4807158%5D%2C%20%22geometry%22%3A%20%7B%22coordinates%22%3A%20%5B-73.209015%2C%2044.4807158%5D%2C%20%22type%22%3A%20%22Point%22%7D%2C%20%22id%22%3A%20%22107%22%2C%20%22properties%22%3A%20%7B%22address%22%3A%20%22242%20Pearl%20St%20Burlington%20VT%2005401%22%2C%20%22lat%22%3A%2044.4807158%2C%20%22lon%22%3A%20-73.209015%2C%20%22pharmacy_name%22%3A%20%22Lakeside%20Pharmacy%22%2C%20%22pharmid%22%3A%20%22VT108%22%2C%20%22sat_close%22%3A%20%2216%3A00%3A00%22%2C%20%22sat_open%22%3A%20%229%3A00%3A00%22%2C%20%22sat_pharm%22%3A%201.0%2C%20%22sat_tech%22%3A%201.0%2C%20%22state%22%3A%20%22VT%22%2C%20%22sun_close%22%3A%20%22Closed%22%2C%20%22sun_open%22%3A%20%22Closed%22%2C%20%22sun_pharm%22%3A%20null%2C%20%22sun_tech%22%3A%20null%2C%20%22type%22%3A%20%22independent%22%2C%20%22week_close%22%3A%20%2219%3A00%3A00%22%2C%20%22week_open%22%3A%20%228%3A00%3A00%22%2C%20%22week_pharm%22%3A%201.0%2C%20%22week_tech%22%3A%204.0%7D%2C%20%22type%22%3A%20%22Feature%22%7D%2C%20%7B%22bbox%22%3A%20%5B-73.107455%2C%2044.4361188%2C%20-73.107455%2C%2044.4361188%5D%2C%20%22geometry%22%3A%20%7B%22coordinates%22%3A%20%5B-73.107455%2C%2044.4361188%5D%2C%20%22type%22%3A%20%22Point%22%7D%2C%20%22id%22%3A%20%22108%22%2C%20%22properties%22%3A%20%7B%22address%22%3A%20%22434%20Hurricane%20Ln%2C%20Williston%2C%20VT%2005403%22%2C%20%22lat%22%3A%2044.4361188%2C%20%22lon%22%3A%20-73.107455%2C%20%22pharmacy_name%22%3A%20%22Freedom%20Pharmacy%22%2C%20%22pharmid%22%3A%20%22VT109%22%2C%20%22sat_close%22%3A%20%22Closed%22%2C%20%22sat_open%22%3A%20%22Closed%22%2C%20%22sat_pharm%22%3A%20null%2C%20%22sat_tech%22%3A%20null%2C%20%22state%22%3A%20%22VT%22%2C%20%22sun_close%22%3A%20%22Closed%22%2C%20%22sun_open%22%3A%20%22Closed%22%2C%20%22sun_pharm%22%3A%20null%2C%20%22sun_tech%22%3A%20null%2C%20%22type%22%3A%20%22independent%22%2C%20%22week_close%22%3A%20%2218%3A00%3A00%22%2C%20%22week_open%22%3A%20%229%3A00%3A00%22%2C%20%22week_pharm%22%3A%204.0%2C%20%22week_tech%22%3A%208.0%7D%2C%20%22type%22%3A%20%22Feature%22%7D%2C%20%7B%22bbox%22%3A%20%5B-73.212706%2C%2044.4431861%2C%20-73.212706%2C%2044.4431861%5D%2C%20%22geometry%22%3A%20%7B%22coordinates%22%3A%20%5B-73.212706%2C%2044.4431861%5D%2C%20%22type%22%3A%20%22Point%22%7D%2C%20%22id%22%3A%20%22109%22%2C%20%22properties%22%3A%20%7B%22address%22%3A%20%22935%20Shelburne%20Road%2C%20South%20Burlington%2C%20Vermont%2C%2005403%22%2C%20%22lat%22%3A%2044.4431861%2C%20%22lon%22%3A%20-73.212706%2C%20%22pharmacy_name%22%3A%20%22Hannaford%20%238448%22%2C%20%22pharmid%22%3A%20%22VT110%22%2C%20%22sat_close%22%3A%20%2218%3A00%3A00%22%2C%20%22sat_open%22%3A%20%229%3A00%3A00%22%2C%20%22sat_pharm%22%3A%201.0%2C%20%22sat_tech%22%3A%201.0%2C%20%22state%22%3A%20%22VT%22%2C%20%22sun_close%22%3A%20%2217%3A00%3A00%22%2C%20%22sun_open%22%3A%20%229%3A00%3A00%22%2C%20%22sun_pharm%22%3A%201.0%2C%20%22sun_tech%22%3A%201.0%2C%20%22type%22%3A%20%22grocery%22%2C%20%22week_close%22%3A%20%2220%3A00%3A00%22%2C%20%22week_open%22%3A%20%229%3A00%3A00%22%2C%20%22week_pharm%22%3A%201.0%2C%20%22week_tech%22%3A%202.0%7D%2C%20%22type%22%3A%20%22Feature%22%7D%2C%20%7B%22bbox%22%3A%20%5B-72.513712%2C%2043.6270934%2C%20-72.513712%2C%2043.6270934%5D%2C%20%22geometry%22%3A%20%7B%22coordinates%22%3A%20%5B-72.513712%2C%2043.6270934%5D%2C%20%22type%22%3A%20%22Point%22%7D%2C%20%22id%22%3A%20%22110%22%2C%20%22properties%22%3A%20%7B%22address%22%3A%20%2232%20Pleasant%20Street%20Woodstock%2C%20VT%2005091%22%2C%20%22lat%22%3A%2043.6270934%2C%20%22lon%22%3A%20-72.513712%2C%20%22pharmacy_name%22%3A%20%22Ottaquechee%20Pharmacy%22%2C%20%22pharmid%22%3A%20%22VT111%22%2C%20%22sat_close%22%3A%20%22Closed%22%2C%20%22sat_open%22%3A%20%22Closed%22%2C%20%22sat_pharm%22%3A%20null%2C%20%22sat_tech%22%3A%20null%2C%20%22state%22%3A%20%22VT%22%2C%20%22sun_close%22%3A%20%22Closed%22%2C%20%22sun_open%22%3A%20%22Closed%22%2C%20%22sun_pharm%22%3A%20null%2C%20%22sun_tech%22%3A%20null%2C%20%22type%22%3A%20%22independent%22%2C%20%22week_close%22%3A%20%2218%3A00%3A00%22%2C%20%22week_open%22%3A%20%228%3A00%3A00%22%2C%20%22week_pharm%22%3A%201.0%2C%20%22week_tech%22%3A%202.0%7D%2C%20%22type%22%3A%20%22Feature%22%7D%2C%20%7B%22bbox%22%3A%20%5B-73.122928%2C%2044.9190623%2C%20-73.122928%2C%2044.9190623%5D%2C%20%22geometry%22%3A%20%7B%22coordinates%22%3A%20%5B-73.122928%2C%2044.9190623%5D%2C%20%22type%22%3A%20%22Point%22%7D%2C%20%22id%22%3A%20%22111%22%2C%20%22properties%22%3A%20%7B%22address%22%3A%20%2213%20York%20St%20Swanton%20VT%2005488%22%2C%20%22lat%22%3A%2044.9190623%2C%20%22lon%22%3A%20-73.122928%2C%20%22pharmacy_name%22%3A%20%22Swanton%20Rexall%22%2C%20%22pharmid%22%3A%20%22VT112%22%2C%20%22sat_close%22%3A%20%2212%3A00%3A00%22%2C%20%22sat_open%22%3A%20%229%3A00%3A00%22%2C%20%22sat_pharm%22%3A%201.0%2C%20%22sat_tech%22%3A%201.0%2C%20%22state%22%3A%20%22VT%22%2C%20%22sun_close%22%3A%20%22Closed%22%2C%20%22sun_open%22%3A%20%22Closed%22%2C%20%22sun_pharm%22%3A%20null%2C%20%22sun_tech%22%3A%20null%2C%20%22type%22%3A%20%22independent%22%2C%20%22week_close%22%3A%20%2217%3A30%3A00%22%2C%20%22week_open%22%3A%20%228%3A30%3A00%22%2C%20%22week_pharm%22%3A%202.0%2C%20%22week_tech%22%3A%203.0%7D%2C%20%22type%22%3A%20%22Feature%22%7D%2C%20%7B%22bbox%22%3A%20%5B-73.008426%2C%2044.6567244%2C%20-73.008426%2C%2044.6567244%5D%2C%20%22geometry%22%3A%20%7B%22coordinates%22%3A%20%5B-73.008426%2C%2044.6567244%5D%2C%20%22type%22%3A%20%22Point%22%7D%2C%20%22id%22%3A%20%22112%22%2C%20%22properties%22%3A%20%7B%22address%22%3A%20%22997%20Main%20St%20Fairfax%20VT%2005454%22%2C%20%22lat%22%3A%2044.6567244%2C%20%22lon%22%3A%20-73.008426%2C%20%22pharmacy_name%22%3A%20%22Fairfax%20Pharmacy%22%2C%20%22pharmid%22%3A%20%22VT113%22%2C%20%22sat_close%22%3A%20%2212%3A00%3A00%22%2C%20%22sat_open%22%3A%20%229%3A00%3A00%22%2C%20%22sat_pharm%22%3A%201.0%2C%20%22sat_tech%22%3A%201.0%2C%20%22state%22%3A%20%22VT%22%2C%20%22sun_close%22%3A%20%22Closed%22%2C%20%22sun_open%22%3A%20%22Closed%22%2C%20%22sun_pharm%22%3A%20null%2C%20%22sun_tech%22%3A%20null%2C%20%22type%22%3A%20%22independent%22%2C%20%22week_close%22%3A%20%2217%3A30%3A00%22%2C%20%22week_open%22%3A%20%228%3A30%3A00%22%2C%20%22week_pharm%22%3A%201.0%2C%20%22week_tech%22%3A%202.0%7D%2C%20%22type%22%3A%20%22Feature%22%7D%2C%20%7B%22bbox%22%3A%20%5B-73.070609%2C%2044.8068554%2C%20-73.070609%2C%2044.8068554%5D%2C%20%22geometry%22%3A%20%7B%22coordinates%22%3A%20%5B-73.070609%2C%2044.8068554%5D%2C%20%22type%22%3A%20%22Point%22%7D%2C%20%22id%22%3A%20%22113%22%2C%20%22properties%22%3A%20%7B%22address%22%3A%20%223%20Crest%20Rd%20St.%20Albans%20VT%2005450%20within%20the%20Dr%20office%20Commons%22%2C%20%22lat%22%3A%2044.8068554%2C%20%22lon%22%3A%20-73.070609%2C%20%22pharmacy_name%22%3A%20%22St.%20Albans%20Pharmacy%22%2C%20%22pharmid%22%3A%20%22VT114%22%2C%20%22sat_close%22%3A%20%2212%3A00%3A00%22%2C%20%22sat_open%22%3A%20%229%3A00%3A00%22%2C%20%22sat_pharm%22%3A%201.0%2C%20%22sat_tech%22%3A%201.0%2C%20%22state%22%3A%20%22VT%22%2C%20%22sun_close%22%3A%20%22Closed%22%2C%20%22sun_open%22%3A%20%22Closed%22%2C%20%22sun_pharm%22%3A%20null%2C%20%22sun_tech%22%3A%20null%2C%20%22type%22%3A%20%22independent%22%2C%20%22week_close%22%3A%20%2217%3A30%3A00%22%2C%20%22week_open%22%3A%20%228%3A30%3A00%22%2C%20%22week_pharm%22%3A%201.0%2C%20%22week_tech%22%3A%202.0%7D%2C%20%22type%22%3A%20%22Feature%22%7D%2C%20%7B%22bbox%22%3A%20%5B-72.713565%2C%2044.4745121%2C%20-72.713565%2C%2044.4745121%5D%2C%20%22geometry%22%3A%20%7B%22coordinates%22%3A%20%5B-72.713565%2C%2044.4745121%5D%2C%20%22type%22%3A%20%22Point%22%7D%2C%20%22id%22%3A%20%22114%22%2C%20%22properties%22%3A%20%7B%22address%22%3A%20%221878%20Mountain%20Road%20Stowe%2C%20VT%2005672%22%2C%20%22lat%22%3A%2044.4745121%2C%20%22lon%22%3A%20-72.713565%2C%20%22pharmacy_name%22%3A%20%22Lamoille%20Health%20Pharmacy%22%2C%20%22pharmid%22%3A%20%22VT115%22%2C%20%22sat_close%22%3A%20%2214%3A00%3A00%22%2C%20%22sat_open%22%3A%20%229%3A00%3A00%22%2C%20%22sat_pharm%22%3A%201.0%2C%20%22sat_tech%22%3A%201.0%2C%20%22state%22%3A%20%22VT%22%2C%20%22sun_close%22%3A%20%22Closed%22%2C%20%22sun_open%22%3A%20%22Closed%22%2C%20%22sun_pharm%22%3A%20null%2C%20%22sun_tech%22%3A%20null%2C%20%22type%22%3A%20%22independent%22%2C%20%22week_close%22%3A%20%2218%3A00%3A00%22%2C%20%22week_open%22%3A%20%228%3A00%3A00%22%2C%20%22week_pharm%22%3A%201.0%2C%20%22week_tech%22%3A%202.0%7D%2C%20%22type%22%3A%20%22Feature%22%7D%2C%20%7B%22bbox%22%3A%20%5B-73.063909%2C%2043.1725285%2C%20-73.063909%2C%2043.1725285%5D%2C%20%22geometry%22%3A%20%7B%22coordinates%22%3A%20%5B-73.063909%2C%2043.1725285%5D%2C%20%22type%22%3A%20%22Point%22%7D%2C%20%22id%22%3A%20%22115%22%2C%20%22properties%22%3A%20%7B%22address%22%3A%20%2234%20Ways%20Lane%20Manchester%20CTR%22%2C%20%22lat%22%3A%2043.1725285%2C%20%22lon%22%3A%20-73.063909%2C%20%22pharmacy_name%22%3A%20%22The%20Pharmacy%20Northshire%20%28KSV%29%22%2C%20%22pharmid%22%3A%20%22VT116%22%2C%20%22sat_close%22%3A%20%2215%3A00%3A00%22%2C%20%22sat_open%22%3A%20%229%3A00%3A00%22%2C%20%22sat_pharm%22%3A%201.0%2C%20%22sat_tech%22%3A%202.0%2C%20%22state%22%3A%20%22VT%22%2C%20%22sun_close%22%3A%20%22Closed%22%2C%20%22sun_open%22%3A%20%22Closed%22%2C%20%22sun_pharm%22%3A%20null%2C%20%22sun_tech%22%3A%20null%2C%20%22type%22%3A%20%22independent%22%2C%20%22week_close%22%3A%20%2218%3A00%3A00%22%2C%20%22week_open%22%3A%20%229%3A00%3A00%22%2C%20%22week_pharm%22%3A%202.0%2C%20%22week_tech%22%3A%204.0%7D%2C%20%22type%22%3A%20%22Feature%22%7D%2C%20%7B%22bbox%22%3A%20%5B-72.96661%2C%2043.6123332%2C%20-72.96661%2C%2043.6123332%5D%2C%20%22geometry%22%3A%20%7B%22coordinates%22%3A%20%5B-72.96661%2C%2043.6123332%5D%2C%20%22type%22%3A%20%22Point%22%7D%2C%20%22id%22%3A%20%22116%22%2C%20%22properties%22%3A%20%7B%22address%22%3A%20%2262%20Woodstock%20Ave%20Ste%201%2C%20Rutland%2C%20VT%2005701%22%2C%20%22lat%22%3A%2043.6123332%2C%20%22lon%22%3A%20-72.96661%2C%20%22pharmacy_name%22%3A%20%22Beauchamp%20%5Cu0026%20O%5Cu0027Rourke%22%2C%20%22pharmid%22%3A%20%22VT117%22%2C%20%22sat_close%22%3A%20%2212%3A00%3A00%22%2C%20%22sat_open%22%3A%20%229%3A00%3A00%22%2C%20%22sat_pharm%22%3A%201.0%2C%20%22sat_tech%22%3A%202.0%2C%20%22state%22%3A%20%22VT%22%2C%20%22sun_close%22%3A%20%22Closed%22%2C%20%22sun_open%22%3A%20%22Closed%22%2C%20%22sun_pharm%22%3A%20null%2C%20%22sun_tech%22%3A%20null%2C%20%22type%22%3A%20%22independent%22%2C%20%22week_close%22%3A%20%2218%3A00%3A00%22%2C%20%22week_open%22%3A%20%228%3A00%3A00%22%2C%20%22week_pharm%22%3A%201.0%2C%20%22week_tech%22%3A%205.0%7D%2C%20%22type%22%3A%20%22Feature%22%7D%2C%20%7B%22bbox%22%3A%20%5B-73.3713735%2C%2044.9832215%2C%20-73.3713735%2C%2044.9832215%5D%2C%20%22geometry%22%3A%20%7B%22coordinates%22%3A%20%5B-73.3713735%2C%2044.9832215%5D%2C%20%22type%22%3A%20%22Point%22%7D%2C%20%22id%22%3A%20%22117%22%2C%20%22properties%22%3A%20%7B%22address%22%3A%20%2272%20Champlain%20St%2C%20Rouses%20Point%2C%20NY%2012979%22%2C%20%22lat%22%3A%2044.9832215%2C%20%22lon%22%3A%20-73.3713735%2C%20%22pharmacy_name%22%3A%20%22Cornerstone%20Drug%20and%20Gift%20Inc%22%2C%20%22pharmid%22%3A%20%22NY1%22%2C%20%22sat_close%22%3A%20%2215%3A00%3A00%22%2C%20%22sat_open%22%3A%20%229%3A00%3A00%22%2C%20%22sat_pharm%22%3A%20null%2C%20%22sat_tech%22%3A%20null%2C%20%22state%22%3A%20%22NY%22%2C%20%22sun_close%22%3A%20%22Closed%22%2C%20%22sun_open%22%3A%20%22Closed%22%2C%20%22sun_pharm%22%3A%20null%2C%20%22sun_tech%22%3A%20null%2C%20%22type%22%3A%20%22independent%22%2C%20%22week_close%22%3A%20%2218%3A00%3A00%22%2C%20%22week_open%22%3A%20%228%3A00%3A00%22%2C%20%22week_pharm%22%3A%20null%2C%20%22week_tech%22%3A%20null%7D%2C%20%22type%22%3A%20%22Feature%22%7D%2C%20%7B%22bbox%22%3A%20%5B-73.4438493%2C%2044.9792752%2C%20-73.4438493%2C%2044.9792752%5D%2C%20%22geometry%22%3A%20%7B%22coordinates%22%3A%20%5B-73.4438493%2C%2044.9792752%5D%2C%20%22type%22%3A%20%22Point%22%7D%2C%20%22id%22%3A%20%22118%22%2C%20%22properties%22%3A%20%7B%22address%22%3A%20%22868%20US-11%2C%20Champlain%2C%20NY%2012919%22%2C%20%22lat%22%3A%2044.9792752%2C%20%22lon%22%3A%20-73.4438493%2C%20%22pharmacy_name%22%3A%20%22Kinney%20Drugs%20%2352%22%2C%20%22pharmid%22%3A%20%22NY2%22%2C%20%22sat_close%22%3A%20%2218%3A00%3A00%22%2C%20%22sat_open%22%3A%20%229%3A00%3A00%22%2C%20%22sat_pharm%22%3A%20null%2C%20%22sat_tech%22%3A%20null%2C%20%22state%22%3A%20%22NY%22%2C%20%22sun_close%22%3A%20%2213%3A00%3A00%22%2C%20%22sun_open%22%3A%20%229%3A00%3A00%22%2C%20%22sun_pharm%22%3A%20null%2C%20%22sun_tech%22%3A%20null%2C%20%22type%22%3A%20%22chain%22%2C%20%22week_close%22%3A%20%2220%3A00%3A00%22%2C%20%22week_open%22%3A%20%229%3A00%3A00%22%2C%20%22week_pharm%22%3A%20null%2C%20%22week_tech%22%3A%20null%7D%2C%20%22type%22%3A%20%22Feature%22%7D%2C%20%7B%22bbox%22%3A%20%5B-73.4867137%2C%2044.6921796%2C%20-73.4867137%2C%2044.6921796%5D%2C%20%22geometry%22%3A%20%7B%22coordinates%22%3A%20%5B-73.4867137%2C%2044.6921796%5D%2C%20%22type%22%3A%20%22Point%22%7D%2C%20%22id%22%3A%20%22119%22%2C%20%22properties%22%3A%20%7B%22address%22%3A%20%2225%20Consumer%20Square%2C%20Plattsburgh%2C%20NY%2012901%22%2C%20%22lat%22%3A%2044.6921796%2C%20%22lon%22%3A%20-73.4867137%2C%20%22pharmacy_name%22%3A%20%22Walmart%22%2C%20%22pharmid%22%3A%20%22NY3%22%2C%20%22sat_close%22%3A%20%2219%3A00%3A00%22%2C%20%22sat_open%22%3A%20%229%3A00%3A00%22%2C%20%22sat_pharm%22%3A%20null%2C%20%22sat_tech%22%3A%20null%2C%20%22state%22%3A%20%22NY%22%2C%20%22sun_close%22%3A%20%2218%3A00%3A00%22%2C%20%22sun_open%22%3A%20%2210%3A00%3A00%22%2C%20%22sun_pharm%22%3A%20null%2C%20%22sun_tech%22%3A%20null%2C%20%22type%22%3A%20%22department%22%2C%20%22week_close%22%3A%20%2219%3A00%3A00%22%2C%20%22week_open%22%3A%20%228%3A00%3A00%22%2C%20%22week_pharm%22%3A%20null%2C%20%22week_tech%22%3A%20null%7D%2C%20%22type%22%3A%20%22Feature%22%7D%2C%20%7B%22bbox%22%3A%20%5B-73.4924492%2C%2044.6954674%2C%20-73.4924492%2C%2044.6954674%5D%2C%20%22geometry%22%3A%20%7B%22coordinates%22%3A%20%5B-73.4924492%2C%2044.6954674%5D%2C%20%22type%22%3A%20%22Point%22%7D%2C%20%22id%22%3A%20%22120%22%2C%20%22properties%22%3A%20%7B%22address%22%3A%20%2219%20Centre%20Dr%2C%20Plattsburgh%2C%20NY%2012901%22%2C%20%22lat%22%3A%2044.6954674%2C%20%22lon%22%3A%20-73.4924492%2C%20%22pharmacy_name%22%3A%20%22Market%2032%22%2C%20%22pharmid%22%3A%20%22NY4%22%2C%20%22sat_close%22%3A%20%2217%3A00%3A00%22%2C%20%22sat_open%22%3A%20%228%3A00%3A00%22%2C%20%22sat_pharm%22%3A%20null%2C%20%22sat_tech%22%3A%20null%2C%20%22state%22%3A%20%22NY%22%2C%20%22sun_close%22%3A%20%2217%3A00%3A00%22%2C%20%22sun_open%22%3A%20%228%3A00%3A00%22%2C%20%22sun_pharm%22%3A%20null%2C%20%22sun_tech%22%3A%20null%2C%20%22type%22%3A%20%22grocery%22%2C%20%22week_close%22%3A%20%2220%3A00%3A00%22%2C%20%22week_open%22%3A%20%228%3A00%3A00%22%2C%20%22week_pharm%22%3A%20null%2C%20%22week_tech%22%3A%20null%7D%2C%20%22type%22%3A%20%22Feature%22%7D%2C%20%7B%22bbox%22%3A%20%5B-73.49582393%2C%2044.701211%2C%20-73.49582393%2C%2044.701211%5D%2C%20%22geometry%22%3A%20%7B%22coordinates%22%3A%20%5B-73.49582393%2C%2044.701211%5D%2C%20%22type%22%3A%20%22Point%22%7D%2C%20%22id%22%3A%20%22121%22%2C%20%22properties%22%3A%20%7B%22address%22%3A%20%227%20Pyramid%20Dr%2C%20Plattsburgh%2C%20NY%2012901%22%2C%20%22lat%22%3A%2044.701211%2C%20%22lon%22%3A%20-73.49582393%2C%20%22pharmacy_name%22%3A%20%22Hannaford%22%2C%20%22pharmid%22%3A%20%22NY5%22%2C%20%22sat_close%22%3A%20%2216%3A00%3A00%22%2C%20%22sat_open%22%3A%20%229%3A30%3A00%22%2C%20%22sat_pharm%22%3A%20null%2C%20%22sat_tech%22%3A%20null%2C%20%22state%22%3A%20%22NY%22%2C%20%22sun_close%22%3A%20%2214%3A00%3A00%22%2C%20%22sun_open%22%3A%20%229%3A30%3A00%22%2C%20%22sun_pharm%22%3A%20null%2C%20%22sun_tech%22%3A%20null%2C%20%22type%22%3A%20%22grocery%22%2C%20%22week_close%22%3A%20%2220%3A00%3A00%22%2C%20%22week_open%22%3A%20%229%3A00%3A00%22%2C%20%22week_pharm%22%3A%20null%2C%20%22week_tech%22%3A%20null%7D%2C%20%22type%22%3A%20%22Feature%22%7D%2C%20%7B%22bbox%22%3A%20%5B-73.4896616%2C%2044.7012349%2C%20-73.4896616%2C%2044.7012349%5D%2C%20%22geometry%22%3A%20%7B%22coordinates%22%3A%20%5B-73.4896616%2C%2044.7012349%5D%2C%20%22type%22%3A%20%22Point%22%7D%2C%20%22id%22%3A%20%22122%22%2C%20%22properties%22%3A%20%7B%22address%22%3A%20%2260%20Smithfield%20Blvd%20Suite%2049%2C%20Plattsburgh%2C%20NY%2012901%22%2C%20%22lat%22%3A%2044.7012349%2C%20%22lon%22%3A%20-73.4896616%2C%20%22pharmacy_name%22%3A%20%22CVS%22%2C%20%22pharmid%22%3A%20%22NY6%22%2C%20%22sat_close%22%3A%20%2217%3A00%3A00%22%2C%20%22sat_open%22%3A%20%229%3A00%3A00%22%2C%20%22sat_pharm%22%3A%20null%2C%20%22sat_tech%22%3A%20null%2C%20%22state%22%3A%20%22NY%22%2C%20%22sun_close%22%3A%20%2218%3A00%3A00%22%2C%20%22sun_open%22%3A%20%2210%3A00%3A00%22%2C%20%22sun_pharm%22%3A%20null%2C%20%22sun_tech%22%3A%20null%2C%20%22type%22%3A%20%22chain%22%2C%20%22week_close%22%3A%20%2220%3A00%3A00%22%2C%20%22week_open%22%3A%20%229%3A00%3A00%22%2C%20%22week_pharm%22%3A%20null%2C%20%22week_tech%22%3A%20null%7D%2C%20%22type%22%3A%20%22Feature%22%7D%2C%20%7B%22bbox%22%3A%20%5B-73.47596641%2C%2044.6966669%2C%20-73.47596641%2C%2044.6966669%5D%2C%20%22geometry%22%3A%20%7B%22coordinates%22%3A%20%5B-73.47596641%2C%2044.6966669%5D%2C%20%22type%22%3A%20%22Point%22%7D%2C%20%22id%22%3A%20%22123%22%2C%20%22properties%22%3A%20%7B%22address%22%3A%20%22301%20Cornelia%20St%2C%20Plattsburgh%2C%20NY%2012901%22%2C%20%22lat%22%3A%2044.6966669%2C%20%22lon%22%3A%20-73.47596641%2C%20%22pharmacy_name%22%3A%20%22Walgreens%22%2C%20%22pharmid%22%3A%20%22NY7%22%2C%20%22sat_close%22%3A%20%2218%3A00%3A00%22%2C%20%22sat_open%22%3A%20%229%3A00%3A00%22%2C%20%22sat_pharm%22%3A%20null%2C%20%22sat_tech%22%3A%20null%2C%20%22state%22%3A%20%22NY%22%2C%20%22sun_close%22%3A%20%2218%3A00%3A00%22%2C%20%22sun_open%22%3A%20%2210%3A00%3A00%22%2C%20%22sun_pharm%22%3A%20null%2C%20%22sun_tech%22%3A%20null%2C%20%22type%22%3A%20%22chain%22%2C%20%22week_close%22%3A%20%2221%3A00%3A00%22%2C%20%22week_open%22%3A%20%229%3A00%3A00%22%2C%20%22week_pharm%22%3A%20null%2C%20%22week_tech%22%3A%20null%7D%2C%20%22type%22%3A%20%22Feature%22%7D%2C%20%7B%22bbox%22%3A%20%5B-73.4749547%2C%2044.6982079%2C%20-73.4749547%2C%2044.6982079%5D%2C%20%22geometry%22%3A%20%7B%22coordinates%22%3A%20%5B-73.4749547%2C%2044.6982079%5D%2C%20%22type%22%3A%20%22Point%22%7D%2C%20%22id%22%3A%20%22124%22%2C%20%22properties%22%3A%20%7B%22address%22%3A%20%22288%20Cornelia%20St%2C%20Plattsburgh%2C%20NY%2012901%22%2C%20%22lat%22%3A%2044.6982079%2C%20%22lon%22%3A%20-73.4749547%2C%20%22pharmacy_name%22%3A%20%22Kinney%20Drugs%20%2319%22%2C%20%22pharmid%22%3A%20%22NY8%22%2C%20%22sat_close%22%3A%20%2218%3A00%3A00%22%2C%20%22sat_open%22%3A%20%229%3A00%3A00%22%2C%20%22sat_pharm%22%3A%20null%2C%20%22sat_tech%22%3A%20null%2C%20%22state%22%3A%20%22NY%22%2C%20%22sun_close%22%3A%20%2216%3A00%3A00%22%2C%20%22sun_open%22%3A%20%229%3A00%3A00%22%2C%20%22sun_pharm%22%3A%20null%2C%20%22sun_tech%22%3A%20null%2C%20%22type%22%3A%20%22chain%22%2C%20%22week_close%22%3A%20%2220%3A00%3A00%22%2C%20%22week_open%22%3A%20%229%3A00%3A00%22%2C%20%22week_pharm%22%3A%20null%2C%20%22week_tech%22%3A%20null%7D%2C%20%22type%22%3A%20%22Feature%22%7D%2C%20%7B%22bbox%22%3A%20%5B-73.46914616%2C%2044.7008404%2C%20-73.46914616%2C%2044.7008404%5D%2C%20%22geometry%22%3A%20%7B%22coordinates%22%3A%20%5B-73.46914616%2C%2044.7008404%5D%2C%20%22type%22%3A%20%22Point%22%7D%2C%20%22id%22%3A%20%22125%22%2C%20%22properties%22%3A%20%7B%22address%22%3A%20%2275%20Beekman%20St%2C%20Plattsburgh%2C%20NY%2012901%22%2C%20%22lat%22%3A%2044.7008404%2C%20%22lon%22%3A%20-73.46914616%2C%20%22pharmacy_name%22%3A%20%22UVM%20Outpatient%22%2C%20%22pharmid%22%3A%20%22NY9%22%2C%20%22sat_close%22%3A%20%2223%3A00%3A00%22%2C%20%22sat_open%22%3A%20%227%3A00%3A00%22%2C%20%22sat_pharm%22%3A%20null%2C%20%22sat_tech%22%3A%20null%2C%20%22state%22%3A%20%22NY%22%2C%20%22sun_close%22%3A%20%2223%3A00%3A00%22%2C%20%22sun_open%22%3A%20%227%3A00%3A00%22%2C%20%22sun_pharm%22%3A%20null%2C%20%22sun_tech%22%3A%20null%2C%20%22type%22%3A%20%22hospital%22%2C%20%22week_close%22%3A%20%2223%3A00%3A00%22%2C%20%22week_open%22%3A%20%227%3A00%3A00%22%2C%20%22week_pharm%22%3A%20null%2C%20%22week_tech%22%3A%20null%7D%2C%20%22type%22%3A%20%22Feature%22%7D%2C%20%7B%22bbox%22%3A%20%5B-73.51592575%2C%2044.6948198%2C%20-73.51592575%2C%2044.6948198%5D%2C%20%22geometry%22%3A%20%7B%22coordinates%22%3A%20%5B-73.51592575%2C%2044.6948198%5D%2C%20%22type%22%3A%20%22Point%22%7D%2C%20%22id%22%3A%20%22126%22%2C%20%22properties%22%3A%20%7B%22address%22%3A%20%221588%20Military%20Turnpike%2C%20Plattsburgh%2C%20NY%2012901%22%2C%20%22lat%22%3A%2044.6948198%2C%20%22lon%22%3A%20-73.51592575%2C%20%22pharmacy_name%22%3A%20%22Kinney%20Drugs%20%2350%22%2C%20%22pharmid%22%3A%20%22NY10%22%2C%20%22sat_close%22%3A%20%2218%3A00%3A00%22%2C%20%22sat_open%22%3A%20%229%3A00%3A00%22%2C%20%22sat_pharm%22%3A%20null%2C%20%22sat_tech%22%3A%20null%2C%20%22state%22%3A%20%22NY%22%2C%20%22sun_close%22%3A%20%2216%3A00%3A00%22%2C%20%22sun_open%22%3A%20%229%3A00%3A00%22%2C%20%22sun_pharm%22%3A%20null%2C%20%22sun_tech%22%3A%20null%2C%20%22type%22%3A%20%22chain%22%2C%20%22week_close%22%3A%20%2220%3A00%3A00%22%2C%20%22week_open%22%3A%20%229%3A00%3A00%22%2C%20%22week_pharm%22%3A%20null%2C%20%22week_tech%22%3A%20null%7D%2C%20%22type%22%3A%20%22Feature%22%7D%2C%20%7B%22bbox%22%3A%20%5B-73.45622125%2C%2044.7092305%2C%20-73.45622125%2C%2044.7092305%5D%2C%20%22geometry%22%3A%20%7B%22coordinates%22%3A%20%5B-73.45622125%2C%2044.7092305%5D%2C%20%22type%22%3A%20%22Point%22%7D%2C%20%22id%22%3A%20%22127%22%2C%20%22properties%22%3A%20%7B%22address%22%3A%20%226%20Veterans%20Ln%2C%20Plattsburgh%2C%20NY%2012901%22%2C%20%22lat%22%3A%2044.7092305%2C%20%22lon%22%3A%20-73.45622125%2C%20%22pharmacy_name%22%3A%20%22Kinney%20Drugs%20%2340%22%2C%20%22pharmid%22%3A%20%22NY11%22%2C%20%22sat_close%22%3A%20%2218%3A00%3A00%22%2C%20%22sat_open%22%3A%20%229%3A00%3A00%22%2C%20%22sat_pharm%22%3A%20null%2C%20%22sat_tech%22%3A%20null%2C%20%22state%22%3A%20%22NY%22%2C%20%22sun_close%22%3A%20%2216%3A00%3A00%22%2C%20%22sun_open%22%3A%20%229%3A00%3A00%22%2C%20%22sun_pharm%22%3A%20null%2C%20%22sun_tech%22%3A%20null%2C%20%22type%22%3A%20%22chain%22%2C%20%22week_close%22%3A%20%2220%3A00%3A00%22%2C%20%22week_open%22%3A%20%229%3A00%3A00%22%2C%20%22week_pharm%22%3A%20null%2C%20%22week_tech%22%3A%20null%7D%2C%20%22type%22%3A%20%22Feature%22%7D%2C%20%7B%22bbox%22%3A%20%5B-73.46020053%2C%2044.6999725%2C%20-73.46020053%2C%2044.6999725%5D%2C%20%22geometry%22%3A%20%7B%22coordinates%22%3A%20%5B-73.46020053%2C%2044.6999725%5D%2C%20%22type%22%3A%20%22Point%22%7D%2C%20%22id%22%3A%20%22128%22%2C%20%22properties%22%3A%20%7B%22address%22%3A%20%2228%20Montcalm%20Ave%2C%20Plattsburgh%2C%20NY%2012901%22%2C%20%22lat%22%3A%2044.6999725%2C%20%22lon%22%3A%20-73.46020053%2C%20%22pharmacy_name%22%3A%20%22Condo%20Pharmacy%22%2C%20%22pharmid%22%3A%20%22NY12%22%2C%20%22sat_close%22%3A%20%2215%3A00%3A00%22%2C%20%22sat_open%22%3A%20%229%3A00%3A00%22%2C%20%22sat_pharm%22%3A%20null%2C%20%22sat_tech%22%3A%20null%2C%20%22state%22%3A%20%22NY%22%2C%20%22sun_close%22%3A%20%22Closed%22%2C%20%22sun_open%22%3A%20%22Closed%22%2C%20%22sun_pharm%22%3A%20null%2C%20%22sun_tech%22%3A%20null%2C%20%22type%22%3A%20%22independent%22%2C%20%22week_close%22%3A%20%2219%3A00%3A00%22%2C%20%22week_open%22%3A%20%228%3A00%3A00%22%2C%20%22week_pharm%22%3A%20null%2C%20%22week_tech%22%3A%20null%7D%2C%20%22type%22%3A%20%22Feature%22%7D%2C%20%7B%22bbox%22%3A%20%5B-73.45173541%2C%2044.6785206%2C%20-73.45173541%2C%2044.6785206%5D%2C%20%22geometry%22%3A%20%7B%22coordinates%22%3A%20%5B-73.45173541%2C%2044.6785206%5D%2C%20%22type%22%3A%20%22Point%22%7D%2C%20%22id%22%3A%20%22129%22%2C%20%22properties%22%3A%20%7B%22address%22%3A%20%22112%20New%20York%20Rd%2C%20Plattsburgh%2C%20NY%2012901%22%2C%20%22lat%22%3A%2044.6785206%2C%20%22lon%22%3A%20-73.45173541%2C%20%22pharmacy_name%22%3A%20%22Kinney%20Drugs%20%2359%22%2C%20%22pharmid%22%3A%20%22NY13%22%2C%20%22sat_close%22%3A%20%2217%3A00%3A00%22%2C%20%22sat_open%22%3A%20%229%3A00%3A00%22%2C%20%22sat_pharm%22%3A%20null%2C%20%22sat_tech%22%3A%20null%2C%20%22state%22%3A%20%22NY%22%2C%20%22sun_close%22%3A%20%2216%3A00%3A00%22%2C%20%22sun_open%22%3A%20%229%3A00%3A00%22%2C%20%22sun_pharm%22%3A%20null%2C%20%22sun_tech%22%3A%20null%2C%20%22type%22%3A%20%22chain%22%2C%20%22week_close%22%3A%20%2220%3A00%3A00%22%2C%20%22week_open%22%3A%20%229%3A00%3A00%22%2C%20%22week_pharm%22%3A%20null%2C%20%22week_tech%22%3A%20null%7D%2C%20%22type%22%3A%20%22Feature%22%7D%2C%20%7B%22bbox%22%3A%20%5B-73.53598757%2C%2044.696942%2C%20-73.53598757%2C%2044.696942%5D%2C%20%22geometry%22%3A%20%7B%22coordinates%22%3A%20%5B-73.53598757%2C%2044.696942%5D%2C%20%22type%22%3A%20%22Point%22%7D%2C%20%22id%22%3A%20%22130%22%2C%20%22properties%22%3A%20%7B%22address%22%3A%20%222155%20NY-22B%2C%20Morrisonville%2C%20NY%2012962%22%2C%20%22lat%22%3A%2044.696942%2C%20%22lon%22%3A%20-73.53598757%2C%20%22pharmacy_name%22%3A%20%22Genoa%20Healthcare%22%2C%20%22pharmid%22%3A%20%22NY14%22%2C%20%22sat_close%22%3A%20%22Closed%22%2C%20%22sat_open%22%3A%20%22Closed%22%2C%20%22sat_pharm%22%3A%20null%2C%20%22sat_tech%22%3A%20null%2C%20%22state%22%3A%20%22NY%22%2C%20%22sun_close%22%3A%20%22Closed%22%2C%20%22sun_open%22%3A%20%22Closed%22%2C%20%22sun_pharm%22%3A%20null%2C%20%22sun_tech%22%3A%20null%2C%20%22type%22%3A%20%22chain%22%2C%20%22week_close%22%3A%20%2217%3A00%3A00%22%2C%20%22week_open%22%3A%20%228%3A30%3A00%22%2C%20%22week_pharm%22%3A%20null%2C%20%22week_tech%22%3A%20null%7D%2C%20%22type%22%3A%20%22Feature%22%7D%2C%20%7B%22bbox%22%3A%20%5B-73.525712%2C%2044.5770042%2C%20-73.525712%2C%2044.5770042%5D%2C%20%22geometry%22%3A%20%7B%22coordinates%22%3A%20%5B-73.525712%2C%2044.5770042%5D%2C%20%22type%22%3A%20%22Point%22%7D%2C%20%22id%22%3A%20%22131%22%2C%20%22properties%22%3A%20%7B%22address%22%3A%20%223%20Gorman%20Way%2C%20Peru%2C%20NY%2012972%22%2C%20%22lat%22%3A%2044.5770042%2C%20%22lon%22%3A%20-73.525712%2C%20%22pharmacy_name%22%3A%20%22Kinney%20Drugs%20%23121%22%2C%20%22pharmid%22%3A%20%22NY15%22%2C%20%22sat_close%22%3A%20%2215%3A00%3A00%22%2C%20%22sat_open%22%3A%20%229%3A00%3A00%22%2C%20%22sat_pharm%22%3A%20null%2C%20%22sat_tech%22%3A%20null%2C%20%22state%22%3A%20%22NY%22%2C%20%22sun_close%22%3A%20%2213%3A00%3A00%22%2C%20%22sun_open%22%3A%20%229%3A00%3A00%22%2C%20%22sun_pharm%22%3A%20null%2C%20%22sun_tech%22%3A%20null%2C%20%22type%22%3A%20%22chain%22%2C%20%22week_close%22%3A%20%2219%3A00%3A00%22%2C%20%22week_open%22%3A%20%229%3A00%3A00%22%2C%20%22week_pharm%22%3A%20null%2C%20%22week_tech%22%3A%20null%7D%2C%20%22type%22%3A%20%22Feature%22%7D%2C%20%7B%22bbox%22%3A%20%5B-73.480103%2C%2044.5046219%2C%20-73.480103%2C%2044.5046219%5D%2C%20%22geometry%22%3A%20%7B%22coordinates%22%3A%20%5B-73.480103%2C%2044.5046219%5D%2C%20%22type%22%3A%20%22Point%22%7D%2C%20%22id%22%3A%20%22132%22%2C%20%22properties%22%3A%20%7B%22address%22%3A%20%221730%20Front%20St%2C%20Keeseville%2C%20NY%2012944%22%2C%20%22lat%22%3A%2044.5046219%2C%20%22lon%22%3A%20-73.480103%2C%20%22pharmacy_name%22%3A%20%22Keeseville%20Pharmacy%22%2C%20%22pharmid%22%3A%20%22NY16%22%2C%20%22sat_close%22%3A%20%2215%3A00%3A00%22%2C%20%22sat_open%22%3A%20%229%3A00%3A00%22%2C%20%22sat_pharm%22%3A%20null%2C%20%22sat_tech%22%3A%20null%2C%20%22state%22%3A%20%22NY%22%2C%20%22sun_close%22%3A%20%22Closed%22%2C%20%22sun_open%22%3A%20%22Closed%22%2C%20%22sun_pharm%22%3A%20null%2C%20%22sun_tech%22%3A%20null%2C%20%22type%22%3A%20%22independent%22%2C%20%22week_close%22%3A%20%2218%3A00%3A00%22%2C%20%22week_open%22%3A%20%228%3A00%3A00%22%2C%20%22week_pharm%22%3A%20null%2C%20%22week_tech%22%3A%20null%7D%2C%20%22type%22%3A%20%22Feature%22%7D%2C%20%7B%22bbox%22%3A%20%5B-73.398193%2C%2044.3716105%2C%20-73.398193%2C%2044.3716105%5D%2C%20%22geometry%22%3A%20%7B%22coordinates%22%3A%20%5B-73.398193%2C%2044.3716105%5D%2C%20%22type%22%3A%20%22Point%22%7D%2C%20%22id%22%3A%20%22133%22%2C%20%22properties%22%3A%20%7B%22address%22%3A%20%223932%20NY-22%2C%20Willsboro%2C%20NY%2012996%22%2C%20%22lat%22%3A%2044.3716105%2C%20%22lon%22%3A%20-73.398193%2C%20%22pharmacy_name%22%3A%20%22Willsboro%20Pharmacy%22%2C%20%22pharmid%22%3A%20%22NY17%22%2C%20%22sat_close%22%3A%20%2213%3A00%3A00%22%2C%20%22sat_open%22%3A%20%229%3A00%3A00%22%2C%20%22sat_pharm%22%3A%20null%2C%20%22sat_tech%22%3A%20null%2C%20%22state%22%3A%20%22NY%22%2C%20%22sun_close%22%3A%20%22Closed%22%2C%20%22sun_open%22%3A%20%22Closed%22%2C%20%22sun_pharm%22%3A%20null%2C%20%22sun_tech%22%3A%20null%2C%20%22type%22%3A%20%22independent%22%2C%20%22week_close%22%3A%20%2217%3A30%3A00%22%2C%20%22week_open%22%3A%20%229%3A00%3A00%22%2C%20%22week_pharm%22%3A%20null%2C%20%22week_tech%22%3A%20null%7D%2C%20%22type%22%3A%20%22Feature%22%7D%2C%20%7B%22bbox%22%3A%20%5B-73.4598355%2C%2044.0480447%2C%20-73.4598355%2C%2044.0480447%5D%2C%20%22geometry%22%3A%20%7B%22coordinates%22%3A%20%5B-73.4598355%2C%2044.0480447%5D%2C%20%22type%22%3A%20%22Point%22%7D%2C%20%22id%22%3A%20%22134%22%2C%20%22properties%22%3A%20%7B%22address%22%3A%20%224315%20Main%20St%2C%20Port%20Henry%2C%20NY%2012974%22%2C%20%22lat%22%3A%2044.0480447%2C%20%22lon%22%3A%20-73.4598355%2C%20%22pharmacy_name%22%3A%20%22Moriah%20Pharmacy%22%2C%20%22pharmid%22%3A%20%22NY18%22%2C%20%22sat_close%22%3A%20%2213%3A00%3A00%22%2C%20%22sat_open%22%3A%20%229%3A00%3A00%22%2C%20%22sat_pharm%22%3A%20null%2C%20%22sat_tech%22%3A%20null%2C%20%22state%22%3A%20%22NY%22%2C%20%22sun_close%22%3A%20%22Closed%22%2C%20%22sun_open%22%3A%20%22Closed%22%2C%20%22sun_pharm%22%3A%20null%2C%20%22sun_tech%22%3A%20null%2C%20%22type%22%3A%20%22independent%22%2C%20%22week_close%22%3A%20%2217%3A30%3A00%22%2C%20%22week_open%22%3A%20%229%3A00%3A00%22%2C%20%22week_pharm%22%3A%20null%2C%20%22week_tech%22%3A%20null%7D%2C%20%22type%22%3A%20%22Feature%22%7D%2C%20%7B%22bbox%22%3A%20%5B-73.43325492%2C%2043.8570136%2C%20-73.43325492%2C%2043.8570136%5D%2C%20%22geometry%22%3A%20%7B%22coordinates%22%3A%20%5B-73.43325492%2C%2043.8570136%5D%2C%20%22type%22%3A%20%22Point%22%7D%2C%20%22id%22%3A%20%22135%22%2C%20%22properties%22%3A%20%7B%22address%22%3A%20%221134%20Wicker%20St%2C%20Ticonderoga%2C%20NY%2012883%22%2C%20%22lat%22%3A%2043.8570136%2C%20%22lon%22%3A%20-73.43325492%2C%20%22pharmacy_name%22%3A%20%22Walmart%20%232424%22%2C%20%22pharmid%22%3A%20%22NY19%22%2C%20%22sat_close%22%3A%20%2219%3A00%3A00%22%2C%20%22sat_open%22%3A%20%229%3A00%3A00%22%2C%20%22sat_pharm%22%3A%20null%2C%20%22sat_tech%22%3A%20null%2C%20%22state%22%3A%20%22NY%22%2C%20%22sun_close%22%3A%20%2218%3A00%3A00%22%2C%20%22sun_open%22%3A%20%2210%3A00%3A00%22%2C%20%22sun_pharm%22%3A%20null%2C%20%22sun_tech%22%3A%20null%2C%20%22type%22%3A%20%22department%22%2C%20%22week_close%22%3A%20%2219%3A00%3A00%22%2C%20%22week_open%22%3A%20%229%3A00%3A00%22%2C%20%22week_pharm%22%3A%20null%2C%20%22week_tech%22%3A%20null%7D%2C%20%22type%22%3A%20%22Feature%22%7D%2C%20%7B%22bbox%22%3A%20%5B-73.4065251%2C%2043.5477235%2C%20-73.4065251%2C%2043.5477235%5D%2C%20%22geometry%22%3A%20%7B%22coordinates%22%3A%20%5B-73.4065251%2C%2043.5477235%5D%2C%20%22type%22%3A%20%22Point%22%7D%2C%20%22id%22%3A%20%22136%22%2C%20%22properties%22%3A%20%7B%22address%22%3A%20%22170%20Broadway%20SUITE%201%2C%20Whitehall%2C%20NY%2012887%22%2C%20%22lat%22%3A%2043.5477235%2C%20%22lon%22%3A%20-73.4065251%2C%20%22pharmacy_name%22%3A%20%22CVS%20%235166%22%2C%20%22pharmid%22%3A%20%22NY20%22%2C%20%22sat_close%22%3A%20%2218%3A00%3A00%22%2C%20%22sat_open%22%3A%20%2210%3A00%3A00%22%2C%20%22sat_pharm%22%3A%20null%2C%20%22sat_tech%22%3A%20null%2C%20%22state%22%3A%20%22NY%22%2C%20%22sun_close%22%3A%20%2217%3A00%3A00%22%2C%20%22sun_open%22%3A%20%2211%3A00%3A00%22%2C%20%22sun_pharm%22%3A%20null%2C%20%22sun_tech%22%3A%20null%2C%20%22type%22%3A%20%22chain%22%2C%20%22week_close%22%3A%20%2219%3A00%3A00%22%2C%20%22week_open%22%3A%20%229%3A00%3A00%22%2C%20%22week_pharm%22%3A%20null%2C%20%22week_tech%22%3A%20null%7D%2C%20%22type%22%3A%20%22Feature%22%7D%2C%20%7B%22bbox%22%3A%20%5B-73.2661715%2C%2043.3996914%2C%20-73.2661715%2C%2043.3996914%5D%2C%20%22geometry%22%3A%20%7B%22coordinates%22%3A%20%5B-73.2661715%2C%2043.3996914%5D%2C%20%22type%22%3A%20%22Point%22%7D%2C%20%22id%22%3A%20%22137%22%2C%20%22properties%22%3A%20%7B%22address%22%3A%20%2275%20Quaker%20St%2C%20Granville%2C%20NY%2012832%22%2C%20%22lat%22%3A%2043.3996914%2C%20%22lon%22%3A%20-73.2661715%2C%20%22pharmacy_name%22%3A%20%22Fred%5Cu0027s%20Granville%22%2C%20%22pharmid%22%3A%20%22NY21%22%2C%20%22sat_close%22%3A%20%2215%3A00%3A00%22%2C%20%22sat_open%22%3A%20%229%3A00%3A00%22%2C%20%22sat_pharm%22%3A%20null%2C%20%22sat_tech%22%3A%20null%2C%20%22state%22%3A%20%22NY%22%2C%20%22sun_close%22%3A%20%22Closed%22%2C%20%22sun_open%22%3A%20%22Closed%22%2C%20%22sun_pharm%22%3A%20null%2C%20%22sun_tech%22%3A%20null%2C%20%22type%22%3A%20%22independent%22%2C%20%22week_close%22%3A%20%2218%3A00%3A00%22%2C%20%22week_open%22%3A%20%229%3A00%3A00%22%2C%20%22week_pharm%22%3A%20null%2C%20%22week_tech%22%3A%20null%7D%2C%20%22type%22%3A%20%22Feature%22%7D%2C%20%7B%22bbox%22%3A%20%5B-73.2639694%2C%2043.39569325%2C%20-73.2639694%2C%2043.39569325%5D%2C%20%22geometry%22%3A%20%7B%22coordinates%22%3A%20%5B-73.2639694%2C%2043.39569325%5D%2C%20%22type%22%3A%20%22Point%22%7D%2C%20%22id%22%3A%20%22138%22%2C%20%22properties%22%3A%20%7B%22address%22%3A%20%22116%20Quaker%20St%2C%20Granville%2C%20NY%2012832%22%2C%20%22lat%22%3A%2043.39569325%2C%20%22lon%22%3A%20-73.2639694%2C%20%22pharmacy_name%22%3A%20%22Walgreens%20%2317717%22%2C%20%22pharmid%22%3A%20%22NY22%22%2C%20%22sat_close%22%3A%20%2218%3A00%3A00%22%2C%20%22sat_open%22%3A%20%229%3A00%3A00%22%2C%20%22sat_pharm%22%3A%20null%2C%20%22sat_tech%22%3A%20null%2C%20%22state%22%3A%20%22NY%22%2C%20%22sun_close%22%3A%20%2217%3A00%3A00%22%2C%20%22sun_open%22%3A%20%229%3A00%3A00%22%2C%20%22sun_pharm%22%3A%20null%2C%20%22sun_tech%22%3A%20null%2C%20%22type%22%3A%20%22chain%22%2C%20%22week_close%22%3A%20%2221%3A00%3A00%22%2C%20%22week_open%22%3A%20%229%3A00%3A00%22%2C%20%22week_pharm%22%3A%20null%2C%20%22week_tech%22%3A%20null%7D%2C%20%22type%22%3A%20%22Feature%22%7D%2C%20%7B%22bbox%22%3A%20%5B-73.3516143%2C%2042.9012581%2C%20-73.3516143%2C%2042.9012581%5D%2C%20%22geometry%22%3A%20%7B%22coordinates%22%3A%20%5B-73.3516143%2C%2042.9012581%5D%2C%20%22type%22%3A%20%22Point%22%7D%2C%20%22id%22%3A%20%22139%22%2C%20%22properties%22%3A%20%7B%22address%22%3A%20%2224%20Church%20St%2C%20Hoosick%20Falls%2C%20NY%2012090%22%2C%20%22lat%22%3A%2042.9012581%2C%20%22lon%22%3A%20-73.3516143%2C%20%22pharmacy_name%22%3A%20%22Thorpe%5Cu0027s%20Pharmacy%22%2C%20%22pharmid%22%3A%20%22NY23%22%2C%20%22sat_close%22%3A%20%2212%3A00%3A00%22%2C%20%22sat_open%22%3A%20%228%3A00%3A00%22%2C%20%22sat_pharm%22%3A%20null%2C%20%22sat_tech%22%3A%20null%2C%20%22state%22%3A%20%22NY%22%2C%20%22sun_close%22%3A%20%22Closed%22%2C%20%22sun_open%22%3A%20%22Closed%22%2C%20%22sun_pharm%22%3A%20null%2C%20%22sun_tech%22%3A%20null%2C%20%22type%22%3A%20%22independent%22%2C%20%22week_close%22%3A%20%2218%3A00%3A00%22%2C%20%22week_open%22%3A%20%228%3A00%3A00%22%2C%20%22week_pharm%22%3A%20null%2C%20%22week_tech%22%3A%20null%7D%2C%20%22type%22%3A%20%22Feature%22%7D%2C%20%7B%22bbox%22%3A%20%5B-73.37577787%2C%2043.0279462%2C%20-73.37577787%2C%2043.0279462%5D%2C%20%22geometry%22%3A%20%7B%22coordinates%22%3A%20%5B-73.37577787%2C%2043.0279462%5D%2C%20%22type%22%3A%20%22Point%22%7D%2C%20%22id%22%3A%20%22140%22%2C%20%22properties%22%3A%20%7B%22address%22%3A%20%222%20N%20Park%20St%2C%20Cambridge%2C%20NY%2012816%22%2C%20%22lat%22%3A%2043.0279462%2C%20%22lon%22%3A%20-73.37577787%2C%20%22pharmacy_name%22%3A%20%22Walgreens%20%2318207%22%2C%20%22pharmid%22%3A%20%22NY24%22%2C%20%22sat_close%22%3A%20%2218%3A00%3A00%22%2C%20%22sat_open%22%3A%20%229%3A00%3A00%22%2C%20%22sat_pharm%22%3A%20null%2C%20%22sat_tech%22%3A%20null%2C%20%22state%22%3A%20%22NY%22%2C%20%22sun_close%22%3A%20%2218%3A00%3A00%22%2C%20%22sun_open%22%3A%20%2210%3A00%3A00%22%2C%20%22sun_pharm%22%3A%20null%2C%20%22sun_tech%22%3A%20null%2C%20%22type%22%3A%20%22chain%22%2C%20%22week_close%22%3A%20%2220%3A00%3A00%22%2C%20%22week_open%22%3A%20%229%3A00%3A00%22%2C%20%22week_pharm%22%3A%20null%2C%20%22week_tech%22%3A%20null%7D%2C%20%22type%22%3A%20%22Feature%22%7D%2C%20%7B%22bbox%22%3A%20%5B-73.20438668%2C%2042.7099652%2C%20-73.20438668%2C%2042.7099652%5D%2C%20%22geometry%22%3A%20%7B%22coordinates%22%3A%20%5B-73.20438668%2C%2042.7099652%5D%2C%20%22type%22%3A%20%22Point%22%7D%2C%20%22id%22%3A%20%22141%22%2C%20%22properties%22%3A%20%7B%22address%22%3A%20%2272%20Spring%20St%2C%20Williamstown%2C%20MA%2001267%22%2C%20%22lat%22%3A%2042.7099652%2C%20%22lon%22%3A%20-73.20438668%2C%20%22pharmacy_name%22%3A%20%22Williamstown%20Apothecary%22%2C%20%22pharmid%22%3A%20%22MA25%22%2C%20%22sat_close%22%3A%20%2214%3A00%3A00%22%2C%20%22sat_open%22%3A%20%228%3A00%3A00%22%2C%20%22sat_pharm%22%3A%20null%2C%20%22sat_tech%22%3A%20null%2C%20%22state%22%3A%20%22MA%22%2C%20%22sun_close%22%3A%20%2213%3A00%3A00%22%2C%20%22sun_open%22%3A%20%229%3A00%3A00%22%2C%20%22sun_pharm%22%3A%20null%2C%20%22sun_tech%22%3A%20null%2C%20%22type%22%3A%20%22independent%22%2C%20%22week_close%22%3A%20%2218%3A00%3A00%22%2C%20%22week_open%22%3A%20%228%3A00%3A00%22%2C%20%22week_pharm%22%3A%20null%2C%20%22week_tech%22%3A%20null%7D%2C%20%22type%22%3A%20%22Feature%22%7D%2C%20%7B%22bbox%22%3A%20%5B-73.1835561%2C%2042.7024996%2C%20-73.1835561%2C%2042.7024996%5D%2C%20%22geometry%22%3A%20%7B%22coordinates%22%3A%20%5B-73.1835561%2C%2042.7024996%5D%2C%20%22type%22%3A%20%22Point%22%7D%2C%20%22id%22%3A%20%22142%22%2C%20%22properties%22%3A%20%7B%22address%22%3A%20%22212%20Main%20St%2C%20Williamstown%2C%20MA%2001267%22%2C%20%22lat%22%3A%2042.7024996%2C%20%22lon%22%3A%20-73.1835561%2C%20%22pharmacy_name%22%3A%20%22Walgreens%20%2318016%22%2C%20%22pharmid%22%3A%20%22MA26%22%2C%20%22sat_close%22%3A%20%22Closed%22%2C%20%22sat_open%22%3A%20%22Closed%22%2C%20%22sat_pharm%22%3A%20null%2C%20%22sat_tech%22%3A%20null%2C%20%22state%22%3A%20%22MA%22%2C%20%22sun_close%22%3A%20%22Closed%22%2C%20%22sun_open%22%3A%20%22Closed%22%2C%20%22sun_pharm%22%3A%20null%2C%20%22sun_tech%22%3A%20null%2C%20%22type%22%3A%20%22chain%22%2C%20%22week_close%22%3A%20%2218%3A00%3A00%22%2C%20%22week_open%22%3A%20%2210%3A00%3A00%22%2C%20%22week_pharm%22%3A%20null%2C%20%22week_tech%22%3A%20null%7D%2C%20%22type%22%3A%20%22Feature%22%7D%2C%20%7B%22bbox%22%3A%20%5B-73.16577926%2C%2042.69926215%2C%20-73.16577926%2C%2042.69926215%5D%2C%20%22geometry%22%3A%20%7B%22coordinates%22%3A%20%5B-73.16577926%2C%2042.69926215%5D%2C%20%22type%22%3A%20%22Point%22%7D%2C%20%22id%22%3A%20%22143%22%2C%20%22properties%22%3A%20%7B%22address%22%3A%20%22876%20State%20Rd%2C%20North%20Adams%2C%20MA%2001247%22%2C%20%22lat%22%3A%2042.69926215%2C%20%22lon%22%3A%20-73.16577926%2C%20%22pharmacy_name%22%3A%20%22Stop%20and%20Shop%20%230784%22%2C%20%22pharmid%22%3A%20%22MA27%22%2C%20%22sat_close%22%3A%20%2217%3A00%3A00%22%2C%20%22sat_open%22%3A%20%229%3A00%3A00%22%2C%20%22sat_pharm%22%3A%20null%2C%20%22sat_tech%22%3A%20null%2C%20%22state%22%3A%20%22MA%22%2C%20%22sun_close%22%3A%20%2217%3A00%3A00%22%2C%20%22sun_open%22%3A%20%229%3A00%3A00%22%2C%20%22sun_pharm%22%3A%20null%2C%20%22sun_tech%22%3A%20null%2C%20%22type%22%3A%20%22grocery%22%2C%20%22week_close%22%3A%20%2220%3A00%3A00%22%2C%20%22week_open%22%3A%20%228%3A00%3A00%22%2C%20%22week_pharm%22%3A%20null%2C%20%22week_tech%22%3A%20null%7D%2C%20%22type%22%3A%20%22Feature%22%7D%2C%20%7B%22bbox%22%3A%20%5B-73.1111064%2C%2042.7010215%2C%20-73.1111064%2C%2042.7010215%5D%2C%20%22geometry%22%3A%20%7B%22coordinates%22%3A%20%5B-73.1111064%2C%2042.7010215%5D%2C%20%22type%22%3A%20%22Point%22%7D%2C%20%22id%22%3A%20%22144%22%2C%20%22properties%22%3A%20%7B%22address%22%3A%20%2255%20Veterans%20Memorial%20Dr%2C%20North%20Adams%2C%20MA%2001247%22%2C%20%22lat%22%3A%2042.7010215%2C%20%22lon%22%3A%20-73.1111064%2C%20%22pharmacy_name%22%3A%20%22CVS%20%231131%22%2C%20%22pharmid%22%3A%20%22MA28%22%2C%20%22sat_close%22%3A%20%2218%3A00%3A00%22%2C%20%22sat_open%22%3A%20%229%3A00%3A00%22%2C%20%22sat_pharm%22%3A%20null%2C%20%22sat_tech%22%3A%20null%2C%20%22state%22%3A%20%22MA%22%2C%20%22sun_close%22%3A%20%2217%3A00%3A00%22%2C%20%22sun_open%22%3A%20%229%3A00%3A00%22%2C%20%22sun_pharm%22%3A%20null%2C%20%22sun_tech%22%3A%20null%2C%20%22type%22%3A%20%22chain%22%2C%20%22week_close%22%3A%20%2220%3A00%3A00%22%2C%20%22week_open%22%3A%20%228%3A00%3A00%22%2C%20%22week_pharm%22%3A%20null%2C%20%22week_tech%22%3A%20null%7D%2C%20%22type%22%3A%20%22Feature%22%7D%2C%20%7B%22bbox%22%3A%20%5B-73.10957423%2C%2042.70102515%2C%20-73.10957423%2C%2042.70102515%5D%2C%20%22geometry%22%3A%20%7B%22coordinates%22%3A%20%5B-73.10957423%2C%2042.70102515%5D%2C%20%22type%22%3A%20%22Point%22%7D%2C%20%22id%22%3A%20%22145%22%2C%20%22properties%22%3A%20%7B%22address%22%3A%20%2250%20Lincoln%20St%2C%20North%20Adams%2C%20MA%2001247%22%2C%20%22lat%22%3A%2042.70102515%2C%20%22lon%22%3A%20-73.10957423%2C%20%22pharmacy_name%22%3A%20%22Walgreens%20%2319525%22%2C%20%22pharmid%22%3A%20%22MA29%22%2C%20%22sat_close%22%3A%20%2218%3A00%3A00%22%2C%20%22sat_open%22%3A%20%229%3A00%3A00%22%2C%20%22sat_pharm%22%3A%20null%2C%20%22sat_tech%22%3A%20null%2C%20%22state%22%3A%20%22MA%22%2C%20%22sun_close%22%3A%20%2217%3A00%3A00%22%2C%20%22sun_open%22%3A%20%229%3A00%3A00%22%2C%20%22sun_pharm%22%3A%20null%2C%20%22sun_tech%22%3A%20null%2C%20%22type%22%3A%20%22chain%22%2C%20%22week_close%22%3A%20%2219%3A00%3A00%22%2C%20%22week_open%22%3A%20%229%3A00%3A00%22%2C%20%22week_pharm%22%3A%20null%2C%20%22week_tech%22%3A%20null%7D%2C%20%22type%22%3A%20%22Feature%22%7D%2C%20%7B%22bbox%22%3A%20%5B-73.1175962%2C%2042.6263398%2C%20-73.1175962%2C%2042.6263398%5D%2C%20%22geometry%22%3A%20%7B%22coordinates%22%3A%20%5B-73.1175962%2C%2042.6263398%5D%2C%20%22type%22%3A%20%22Point%22%7D%2C%20%22id%22%3A%20%22146%22%2C%20%22properties%22%3A%20%7B%22address%22%3A%20%2221%20Columbia%20St%2C%20Adams%2C%20MA%2001220%22%2C%20%22lat%22%3A%2042.6263398%2C%20%22lon%22%3A%20-73.1175962%2C%20%22pharmacy_name%22%3A%20%22Walgreens%20%2319038%22%2C%20%22pharmid%22%3A%20%22MA30%22%2C%20%22sat_close%22%3A%20%22Closed%22%2C%20%22sat_open%22%3A%20%22Closed%22%2C%20%22sat_pharm%22%3A%20null%2C%20%22sat_tech%22%3A%20null%2C%20%22state%22%3A%20%22MA%22%2C%20%22sun_close%22%3A%20%22Closed%22%2C%20%22sun_open%22%3A%20%22Closed%22%2C%20%22sun_pharm%22%3A%20null%2C%20%22sun_tech%22%3A%20null%2C%20%22type%22%3A%20%22chain%22%2C%20%22week_close%22%3A%20%2218%3A00%3A00%22%2C%20%22week_open%22%3A%20%229%3A00%3A00%22%2C%20%22week_pharm%22%3A%20null%2C%20%22week_tech%22%3A%20null%7D%2C%20%22type%22%3A%20%22Feature%22%7D%2C%20%7B%22bbox%22%3A%20%5B-73.1077855%2C%2042.6652347%2C%20-73.1077855%2C%2042.6652347%5D%2C%20%22geometry%22%3A%20%7B%22coordinates%22%3A%20%5B-73.1077855%2C%2042.6652347%5D%2C%20%22type%22%3A%20%22Point%22%7D%2C%20%22id%22%3A%20%22147%22%2C%20%22properties%22%3A%20%7B%22address%22%3A%20%221415%20Curran%20Memorial%20Hwy%2C%20North%20Adams%2C%20MA%2001247%22%2C%20%22lat%22%3A%2042.6652347%2C%20%22lon%22%3A%20-73.1077855%2C%20%22pharmacy_name%22%3A%20%22Walmart%20%231984%22%2C%20%22pharmid%22%3A%20%22MA31%22%2C%20%22sat_close%22%3A%20%2219%3A00%3A00%22%2C%20%22sat_open%22%3A%20%229%3A00%3A00%22%2C%20%22sat_pharm%22%3A%20null%2C%20%22sat_tech%22%3A%20null%2C%20%22state%22%3A%20%22MA%22%2C%20%22sun_close%22%3A%20%2218%3A00%3A00%22%2C%20%22sun_open%22%3A%20%2210%3A00%3A00%22%2C%20%22sun_pharm%22%3A%20null%2C%20%22sun_tech%22%3A%20null%2C%20%22type%22%3A%20%22department%22%2C%20%22week_close%22%3A%20%2219%3A00%3A00%22%2C%20%22week_open%22%3A%20%228%3A00%3A00%22%2C%20%22week_pharm%22%3A%20null%2C%20%22week_tech%22%3A%20null%7D%2C%20%22type%22%3A%20%22Feature%22%7D%2C%20%7B%22bbox%22%3A%20%5B-72.7385117%2C%2042.6037424%2C%20-72.7385117%2C%2042.6037424%5D%2C%20%22geometry%22%3A%20%7B%22coordinates%22%3A%20%5B-72.7385117%2C%2042.6037424%5D%2C%20%22type%22%3A%20%22Point%22%7D%2C%20%22id%22%3A%20%22148%22%2C%20%22properties%22%3A%20%7B%22address%22%3A%20%2252%20Bridge%20St%2C%20Shelburne%20Falls%2C%20MA%2001370%22%2C%20%22lat%22%3A%2042.6037424%2C%20%22lon%22%3A%20-72.7385117%2C%20%22pharmacy_name%22%3A%20%22Baker%20Pharmacy%22%2C%20%22pharmid%22%3A%20%22MA32%22%2C%20%22sat_close%22%3A%20%2215%3A00%3A00%22%2C%20%22sat_open%22%3A%20%228%3A30%3A00%22%2C%20%22sat_pharm%22%3A%20null%2C%20%22sat_tech%22%3A%20null%2C%20%22state%22%3A%20%22MA%22%2C%20%22sun_close%22%3A%20%22Closed%22%2C%20%22sun_open%22%3A%20%22Closed%22%2C%20%22sun_pharm%22%3A%20null%2C%20%22sun_tech%22%3A%20null%2C%20%22type%22%3A%20%22independent%22%2C%20%22week_close%22%3A%20%2218%3A00%3A00%22%2C%20%22week_open%22%3A%20%228%3A30%3A00%22%2C%20%22week_pharm%22%3A%20null%2C%20%22week_tech%22%3A%20null%7D%2C%20%22type%22%3A%20%22Feature%22%7D%2C%20%7B%22bbox%22%3A%20%5B-72.6254874%2C%2042.5871777%2C%20-72.6254874%2C%2042.5871777%5D%2C%20%22geometry%22%3A%20%7B%22coordinates%22%3A%20%5B-72.6254874%2C%2042.5871777%5D%2C%20%22type%22%3A%20%22Point%22%7D%2C%20%22id%22%3A%20%22149%22%2C%20%22properties%22%3A%20%7B%22address%22%3A%20%22237%20Mohawk%20Trail%2C%20Greenfield%2C%20MA%2001301%22%2C%20%22lat%22%3A%2042.5871777%2C%20%22lon%22%3A%20-72.6254874%2C%20%22pharmacy_name%22%3A%20%22Big%20Y%20pharmacy%22%2C%20%22pharmid%22%3A%20%22MA33%22%2C%20%22sat_close%22%3A%20%2215%3A00%3A00%22%2C%20%22sat_open%22%3A%20%229%3A00%3A00%22%2C%20%22sat_pharm%22%3A%20null%2C%20%22sat_tech%22%3A%20null%2C%20%22state%22%3A%20%22MA%22%2C%20%22sun_close%22%3A%20%2215%3A00%3A00%22%2C%20%22sun_open%22%3A%20%229%3A00%3A00%22%2C%20%22sun_pharm%22%3A%20null%2C%20%22sun_tech%22%3A%20null%2C%20%22type%22%3A%20%22grocery%22%2C%20%22week_close%22%3A%20%2219%3A00%3A00%22%2C%20%22week_open%22%3A%20%229%3A00%3A00%22%2C%20%22week_pharm%22%3A%20null%2C%20%22week_tech%22%3A%20null%7D%2C%20%22type%22%3A%20%22Feature%22%7D%2C%20%7B%22bbox%22%3A%20%5B-72.6049576%2C%2042.587172%2C%20-72.6049576%2C%2042.587172%5D%2C%20%22geometry%22%3A%20%7B%22coordinates%22%3A%20%5B-72.6049576%2C%2042.587172%5D%2C%20%22type%22%3A%20%22Point%22%7D%2C%20%22id%22%3A%20%22150%22%2C%20%22properties%22%3A%20%7B%22address%22%3A%20%22107%20Main%20St%2C%20Greenfield%2C%20MA%2001301%22%2C%20%22lat%22%3A%2042.587172%2C%20%22lon%22%3A%20-72.6049576%2C%20%22pharmacy_name%22%3A%20%22Rite%20Aid%20%2310074%22%2C%20%22pharmid%22%3A%20%22MA34%22%2C%20%22sat_close%22%3A%20%2217%3A00%3A00%22%2C%20%22sat_open%22%3A%20%229%3A00%3A00%22%2C%20%22sat_pharm%22%3A%20null%2C%20%22sat_tech%22%3A%20null%2C%20%22state%22%3A%20%22MA%22%2C%20%22sun_close%22%3A%20%2217%3A00%3A00%22%2C%20%22sun_open%22%3A%20%229%3A00%3A00%22%2C%20%22sun_pharm%22%3A%20null%2C%20%22sun_tech%22%3A%20null%2C%20%22type%22%3A%20%22chain%22%2C%20%22week_close%22%3A%20%2220%3A00%3A00%22%2C%20%22week_open%22%3A%20%228%3A00%3A00%22%2C%20%22week_pharm%22%3A%20null%2C%20%22week_tech%22%3A%20null%7D%2C%20%22type%22%3A%20%22Feature%22%7D%2C%20%7B%22bbox%22%3A%20%5B-72.59812965%2C%2042.5890211%2C%20-72.59812965%2C%2042.5890211%5D%2C%20%22geometry%22%3A%20%7B%22coordinates%22%3A%20%5B-72.59812965%2C%2042.5890211%5D%2C%20%22type%22%3A%20%22Point%22%7D%2C%20%22id%22%3A%20%22151%22%2C%20%22properties%22%3A%20%7B%22address%22%3A%20%2255%20Federal%20St%20%23105%2C%20Greenfield%2C%20MA%2001301%22%2C%20%22lat%22%3A%2042.5890211%2C%20%22lon%22%3A%20-72.59812965%2C%20%22pharmacy_name%22%3A%20%22Genoa%20Healthcare%22%2C%20%22pharmid%22%3A%20%22MA35%22%2C%20%22sat_close%22%3A%20%22Closed%22%2C%20%22sat_open%22%3A%20%22Closed%22%2C%20%22sat_pharm%22%3A%20null%2C%20%22sat_tech%22%3A%20null%2C%20%22state%22%3A%20%22MA%22%2C%20%22sun_close%22%3A%20%22Closed%22%2C%20%22sun_open%22%3A%20%22Closed%22%2C%20%22sun_pharm%22%3A%20null%2C%20%22sun_tech%22%3A%20null%2C%20%22type%22%3A%20%22chain%22%2C%20%22week_close%22%3A%20%2217%3A00%3A00%22%2C%20%22week_open%22%3A%20%228%3A30%3A00%22%2C%20%22week_pharm%22%3A%20null%2C%20%22week_tech%22%3A%20null%7D%2C%20%22type%22%3A%20%22Feature%22%7D%2C%20%7B%22bbox%22%3A%20%5B-72.60419081%2C%2042.5920962%2C%20-72.60419081%2C%2042.5920962%5D%2C%20%22geometry%22%3A%20%7B%22coordinates%22%3A%20%5B-72.60419081%2C%2042.5920962%5D%2C%20%22type%22%3A%20%22Point%22%7D%2C%20%22id%22%3A%20%22152%22%2C%20%22properties%22%3A%20%7B%22address%22%3A%20%221%20Arch%20St%2C%20Greenfield%2C%20MA%2001301%22%2C%20%22lat%22%3A%2042.5920962%2C%20%22lon%22%3A%20-72.60419081%2C%20%22pharmacy_name%22%3A%20%22Genoa%20Healthcare%22%2C%20%22pharmid%22%3A%20%22MA36%22%2C%20%22sat_close%22%3A%20%22Closed%22%2C%20%22sat_open%22%3A%20%22Closed%22%2C%20%22sat_pharm%22%3A%20null%2C%20%22sat_tech%22%3A%20null%2C%20%22state%22%3A%20%22MA%22%2C%20%22sun_close%22%3A%20%22Closed%22%2C%20%22sun_open%22%3A%20%22Closed%22%2C%20%22sun_pharm%22%3A%20null%2C%20%22sun_tech%22%3A%20null%2C%20%22type%22%3A%20%22chain%22%2C%20%22week_close%22%3A%20%2217%3A00%3A00%22%2C%20%22week_open%22%3A%20%228%3A30%3A00%22%2C%20%22week_pharm%22%3A%20null%2C%20%22week_tech%22%3A%20null%7D%2C%20%22type%22%3A%20%22Feature%22%7D%2C%20%7B%22bbox%22%3A%20%5B-72.5968301%2C%2042.5981362%2C%20-72.5968301%2C%2042.5981362%5D%2C%20%22geometry%22%3A%20%7B%22coordinates%22%3A%20%5B-72.5968301%2C%2042.5981362%5D%2C%20%22type%22%3A%20%22Point%22%7D%2C%20%22id%22%3A%20%22153%22%2C%20%22properties%22%3A%20%7B%22address%22%3A%20%225%20Pierce%20St%2C%20Greenfield%2C%20MA%2001301%22%2C%20%22lat%22%3A%2042.5981362%2C%20%22lon%22%3A%20-72.5968301%2C%20%22pharmacy_name%22%3A%20%22Walgreens%20%20%237704%22%2C%20%22pharmid%22%3A%20%22MA37%22%2C%20%22sat_close%22%3A%20%2218%3A00%3A00%22%2C%20%22sat_open%22%3A%20%229%3A00%3A00%22%2C%20%22sat_pharm%22%3A%20null%2C%20%22sat_tech%22%3A%20null%2C%20%22state%22%3A%20%22MA%22%2C%20%22sun_close%22%3A%20%2218%3A00%3A00%22%2C%20%22sun_open%22%3A%20%2210%3A00%3A00%22%2C%20%22sun_pharm%22%3A%20null%2C%20%22sun_tech%22%3A%20null%2C%20%22type%22%3A%20%22chain%22%2C%20%22week_close%22%3A%20%2220%3A00%3A00%22%2C%20%22week_open%22%3A%20%229%3A00%3A00%22%2C%20%22week_pharm%22%3A%20null%2C%20%22week_tech%22%3A%20null%7D%2C%20%22type%22%3A%20%22Feature%22%7D%2C%20%7B%22bbox%22%3A%20%5B-72.5972384%2C%2042.5921691%2C%20-72.5972384%2C%2042.5921691%5D%2C%20%22geometry%22%3A%20%7B%22coordinates%22%3A%20%5B-72.5972384%2C%2042.5921691%5D%2C%20%22type%22%3A%20%22Point%22%7D%2C%20%22id%22%3A%20%22154%22%2C%20%22properties%22%3A%20%7B%22address%22%3A%20%22137%20Federal%20St%2C%20Greenfield%2C%20MA%2001301%22%2C%20%22lat%22%3A%2042.5921691%2C%20%22lon%22%3A%20-72.5972384%2C%20%22pharmacy_name%22%3A%20%22CVS%20%231094%22%2C%20%22pharmid%22%3A%20%22MA38%22%2C%20%22sat_close%22%3A%20%2224%3A00%3A00%22%2C%20%22sat_open%22%3A%20%220%3A00%3A00%22%2C%20%22sat_pharm%22%3A%20null%2C%20%22sat_tech%22%3A%20null%2C%20%22state%22%3A%20%22MA%22%2C%20%22sun_close%22%3A%20%2224%3A00%3A00%22%2C%20%22sun_open%22%3A%20%220%3A00%3A00%22%2C%20%22sun_pharm%22%3A%20null%2C%20%22sun_tech%22%3A%20null%2C%20%22type%22%3A%20%22chain%22%2C%20%22week_close%22%3A%20%2224%3A00%3A00%22%2C%20%22week_open%22%3A%20%220%3A00%3A00%22%2C%20%22week_pharm%22%3A%20null%2C%20%22week_tech%22%3A%20null%7D%2C%20%22type%22%3A%20%22Feature%22%7D%2C%20%7B%22bbox%22%3A%20%5B-72.57332628%2C%2042.6069448%2C%20-72.57332628%2C%2042.6069448%5D%2C%20%22geometry%22%3A%20%7B%22coordinates%22%3A%20%5B-72.57332628%2C%2042.6069448%5D%2C%20%22type%22%3A%20%22Point%22%7D%2C%20%22id%22%3A%20%22155%22%2C%20%22properties%22%3A%20%7B%22address%22%3A%20%2289%20French%20King%20Hwy%2C%20Greenfield%2C%20MA%2001301%22%2C%20%22lat%22%3A%2042.6069448%2C%20%22lon%22%3A%20-72.57332628%2C%20%22pharmacy_name%22%3A%20%22Stop%20and%20Shop%20Pharmacy%22%2C%20%22pharmid%22%3A%20%22MA39%22%2C%20%22sat_close%22%3A%20%2217%3A00%3A00%22%2C%20%22sat_open%22%3A%20%229%3A00%3A00%22%2C%20%22sat_pharm%22%3A%20null%2C%20%22sat_tech%22%3A%20null%2C%20%22state%22%3A%20%22MA%22%2C%20%22sun_close%22%3A%20%2217%3A00%3A00%22%2C%20%22sun_open%22%3A%20%229%3A00%3A00%22%2C%20%22sun_pharm%22%3A%20null%2C%20%22sun_tech%22%3A%20null%2C%20%22type%22%3A%20%22grocery%22%2C%20%22week_close%22%3A%20%2220%3A00%3A00%22%2C%20%22week_open%22%3A%20%229%3A00%3A00%22%2C%20%22week_pharm%22%3A%20null%2C%20%22week_tech%22%3A%20null%7D%2C%20%22type%22%3A%20%22Feature%22%7D%2C%20%7B%22bbox%22%3A%20%5B-72.56108954%2C%2042.60531225%2C%20-72.56108954%2C%2042.60531225%5D%2C%20%22geometry%22%3A%20%7B%22coordinates%22%3A%20%5B-72.56108954%2C%2042.60531225%5D%2C%20%22type%22%3A%20%22Point%22%7D%2C%20%22id%22%3A%20%22156%22%2C%20%22properties%22%3A%20%7B%22address%22%3A%20%22240%20Avenue%20A%2C%20Turners%20Falls%2C%20MA%2001376%22%2C%20%22lat%22%3A%2042.60531225%2C%20%22lon%22%3A%20-72.56108954%2C%20%22pharmacy_name%22%3A%20%22Walgreens%20%2317488%22%2C%20%22pharmid%22%3A%20%22MA40%22%2C%20%22sat_close%22%3A%20%2218%3A00%3A00%22%2C%20%22sat_open%22%3A%20%229%3A00%3A00%22%2C%20%22sat_pharm%22%3A%20null%2C%20%22sat_tech%22%3A%20null%2C%20%22state%22%3A%20%22MA%22%2C%20%22sun_close%22%3A%20%22Closed%22%2C%20%22sun_open%22%3A%20%22Closed%22%2C%20%22sun_pharm%22%3A%20null%2C%20%22sun_tech%22%3A%20null%2C%20%22type%22%3A%20%22chain%22%2C%20%22week_close%22%3A%20%2219%3A00%3A00%22%2C%20%22week_open%22%3A%20%229%3A00%3A00%22%2C%20%22week_pharm%22%3A%20null%2C%20%22week_tech%22%3A%20null%7D%2C%20%22type%22%3A%20%22Feature%22%7D%2C%20%7B%22bbox%22%3A%20%5B-72.38866024%2C%2042.76786006%2C%20-72.38866024%2C%2042.76786006%5D%2C%20%22geometry%22%3A%20%7B%22coordinates%22%3A%20%5B-72.38866024%2C%2042.76786006%5D%2C%20%22type%22%3A%20%22Point%22%7D%2C%20%22id%22%3A%20%22157%22%2C%20%22properties%22%3A%20%7B%22address%22%3A%20%2210%20Main%20St%2C%20Winchester%2C%20NH%2003470%22%2C%20%22lat%22%3A%2042.76786006%2C%20%22lon%22%3A%20-72.38866024%2C%20%22pharmacy_name%22%3A%20%22Rite%20Aid%20%2304800%22%2C%20%22pharmid%22%3A%20%22NH41%22%2C%20%22sat_close%22%3A%20%2217%3A00%3A00%22%2C%20%22sat_open%22%3A%20%229%3A00%3A00%22%2C%20%22sat_pharm%22%3A%20null%2C%20%22sat_tech%22%3A%20null%2C%20%22state%22%3A%20%22NH%22%2C%20%22sun_close%22%3A%20%2217%3A00%3A00%22%2C%20%22sun_open%22%3A%20%229%3A00%3A00%22%2C%20%22sun_pharm%22%3A%20null%2C%20%22sun_tech%22%3A%20null%2C%20%22type%22%3A%20%22chain%22%2C%20%22week_close%22%3A%20%2220%3A00%3A00%22%2C%20%22week_open%22%3A%20%228%3A00%3A00%22%2C%20%22week_pharm%22%3A%20null%2C%20%22week_tech%22%3A%20null%7D%2C%20%22type%22%3A%20%22Feature%22%7D%2C%20%7B%22bbox%22%3A%20%5B-72.531544%2C%2042.8139767%2C%20-72.531544%2C%2042.8139767%5D%2C%20%22geometry%22%3A%20%7B%22coordinates%22%3A%20%5B-72.531544%2C%2042.8139767%5D%2C%20%22type%22%3A%20%22Point%22%7D%2C%20%22id%22%3A%20%22158%22%2C%20%22properties%22%3A%20%7B%22address%22%3A%20%22724%20Brattleboro%20Rd%2C%20Hinsdale%2C%20NH%2003451%22%2C%20%22lat%22%3A%2042.8139767%2C%20%22lon%22%3A%20-72.531544%2C%20%22pharmacy_name%22%3A%20%22Walmart%20%231907%22%2C%20%22pharmid%22%3A%20%22NH42%22%2C%20%22sat_close%22%3A%20%2219%3A00%3A00%22%2C%20%22sat_open%22%3A%20%229%3A00%3A00%22%2C%20%22sat_pharm%22%3A%20null%2C%20%22sat_tech%22%3A%20null%2C%20%22state%22%3A%20%22NH%22%2C%20%22sun_close%22%3A%20%2218%3A00%3A00%22%2C%20%22sun_open%22%3A%20%2210%3A00%3A00%22%2C%20%22sun_pharm%22%3A%20null%2C%20%22sun_tech%22%3A%20null%2C%20%22type%22%3A%20%22department%22%2C%20%22week_close%22%3A%20%2219%3A00%3A00%22%2C%20%22week_open%22%3A%20%228%3A00%3A00%22%2C%20%22week_pharm%22%3A%20null%2C%20%22week_tech%22%3A%20null%7D%2C%20%22type%22%3A%20%22Feature%22%7D%2C%20%7B%22bbox%22%3A%20%5B-72.28936107%2C%2042.92521274%2C%20-72.28936107%2C%2042.92521274%5D%2C%20%22geometry%22%3A%20%7B%22coordinates%22%3A%20%5B-72.28936107%2C%2042.92521274%5D%2C%20%22type%22%3A%20%22Point%22%7D%2C%20%22id%22%3A%20%22159%22%2C%20%22properties%22%3A%20%7B%22address%22%3A%20%22354%20Winchester%20St%2C%20Keene%2C%20NH%2003431%22%2C%20%22lat%22%3A%2042.92521274%2C%20%22lon%22%3A%20-72.28936107%2C%20%22pharmacy_name%22%3A%20%22Rite%20aid%20%2310284%22%2C%20%22pharmid%22%3A%20%22NH43%22%2C%20%22sat_close%22%3A%20%2218%3A00%3A00%22%2C%20%22sat_open%22%3A%20%229%3A00%3A00%22%2C%20%22sat_pharm%22%3A%20null%2C%20%22sat_tech%22%3A%20null%2C%20%22state%22%3A%20%22NH%22%2C%20%22sun_close%22%3A%20%2217%3A00%3A00%22%2C%20%22sun_open%22%3A%20%229%3A00%3A00%22%2C%20%22sun_pharm%22%3A%20null%2C%20%22sun_tech%22%3A%20null%2C%20%22type%22%3A%20%22chain%22%2C%20%22week_close%22%3A%20%2220%3A00%3A00%22%2C%20%22week_open%22%3A%20%228%3A00%3A00%22%2C%20%22week_pharm%22%3A%20null%2C%20%22week_tech%22%3A%20null%7D%2C%20%22type%22%3A%20%22Feature%22%7D%2C%20%7B%22bbox%22%3A%20%5B-72.30573073%2C%2042.92607693%2C%20-72.30573073%2C%2042.92607693%5D%2C%20%22geometry%22%3A%20%7B%22coordinates%22%3A%20%5B-72.30573073%2C%2042.92607693%5D%2C%20%22type%22%3A%20%22Point%22%7D%2C%20%22id%22%3A%20%22160%22%2C%20%22properties%22%3A%20%7B%22address%22%3A%20%2246%20Ash%20Brook%20Rd%2C%20Keene%2C%20NH%2003431%22%2C%20%22lat%22%3A%2042.92607693%2C%20%22lon%22%3A%20-72.30573073%2C%20%22pharmacy_name%22%3A%20%22CVS%20%2317203%22%2C%20%22pharmid%22%3A%20%22NH44%22%2C%20%22sat_close%22%3A%20%22Closed%22%2C%20%22sat_open%22%3A%20%22Closed%22%2C%20%22sat_pharm%22%3A%20null%2C%20%22sat_tech%22%3A%20null%2C%20%22state%22%3A%20%22NH%22%2C%20%22sun_close%22%3A%20%22Closed%22%2C%20%22sun_open%22%3A%20%22Closed%22%2C%20%22sun_pharm%22%3A%20null%2C%20%22sun_tech%22%3A%20null%2C%20%22type%22%3A%20%22chain%22%2C%20%22week_close%22%3A%20%2218%3A00%3A00%22%2C%20%22week_open%22%3A%20%2210%3A00%3A00%22%2C%20%22week_pharm%22%3A%20null%2C%20%22week_tech%22%3A%20null%7D%2C%20%22type%22%3A%20%22Feature%22%7D%2C%20%7B%22bbox%22%3A%20%5B-72.28818418%2C%2042.93261026%2C%20-72.28818418%2C%2042.93261026%5D%2C%20%22geometry%22%3A%20%7B%22coordinates%22%3A%20%5B-72.28818418%2C%2042.93261026%5D%2C%20%22type%22%3A%20%22Point%22%7D%2C%20%22id%22%3A%20%22161%22%2C%20%22properties%22%3A%20%7B%22address%22%3A%20%22268%20West%20St%2C%20Keene%2C%20NH%2003431%22%2C%20%22lat%22%3A%2042.93261026%2C%20%22lon%22%3A%20-72.28818418%2C%20%22pharmacy_name%22%3A%20%22CVS%20%23640%22%2C%20%22pharmid%22%3A%20%22NH45%22%2C%20%22sat_close%22%3A%20%2224%3A00%3A00%22%2C%20%22sat_open%22%3A%20%220%3A00%3A00%22%2C%20%22sat_pharm%22%3A%20null%2C%20%22sat_tech%22%3A%20null%2C%20%22state%22%3A%20%22NH%22%2C%20%22sun_close%22%3A%20%2224%3A00%3A00%22%2C%20%22sun_open%22%3A%20%220%3A00%3A00%22%2C%20%22sun_pharm%22%3A%20null%2C%20%22sun_tech%22%3A%20null%2C%20%22type%22%3A%20%22chain%22%2C%20%22week_close%22%3A%20%2224%3A00%3A00%22%2C%20%22week_open%22%3A%20%220%3A00%3A00%22%2C%20%22week_pharm%22%3A%20null%2C%20%22week_tech%22%3A%20null%7D%2C%20%22type%22%3A%20%22Feature%22%7D%2C%20%7B%22bbox%22%3A%20%5B-72.294865%2C%2042.933445%2C%20-72.294865%2C%2042.933445%5D%2C%20%22geometry%22%3A%20%7B%22coordinates%22%3A%20%5B-72.294865%2C%2042.933445%5D%2C%20%22type%22%3A%20%22Point%22%7D%2C%20%22id%22%3A%20%22162%22%2C%20%22properties%22%3A%20%7B%22address%22%3A%20%22440%20West%20St%2C%20Keene%2C%20NH%2003431%22%2C%20%22lat%22%3A%2042.933445%2C%20%22lon%22%3A%20-72.294865%2C%20%22pharmacy_name%22%3A%20%22Walgreens%20%20%233154%22%2C%20%22pharmid%22%3A%20%22NH46%22%2C%20%22sat_close%22%3A%20%2218%3A00%3A00%22%2C%20%22sat_open%22%3A%20%229%3A00%3A00%22%2C%20%22sat_pharm%22%3A%20null%2C%20%22sat_tech%22%3A%20null%2C%20%22state%22%3A%20%22NH%22%2C%20%22sun_close%22%3A%20%2218%3A00%3A00%22%2C%20%22sun_open%22%3A%20%229%3A00%3A00%22%2C%20%22sun_pharm%22%3A%20null%2C%20%22sun_tech%22%3A%20null%2C%20%22type%22%3A%20%22chain%22%2C%20%22week_close%22%3A%20%2220%3A00%3A00%22%2C%20%22week_open%22%3A%20%228%3A00%3A00%22%2C%20%22week_pharm%22%3A%20null%2C%20%22week_tech%22%3A%20null%7D%2C%20%22type%22%3A%20%22Feature%22%7D%2C%20%7B%22bbox%22%3A%20%5B-72.29554413%2C%2042.9351326%2C%20-72.29554413%2C%2042.9351326%5D%2C%20%22geometry%22%3A%20%7B%22coordinates%22%3A%20%5B-72.29554413%2C%2042.9351326%5D%2C%20%22type%22%3A%20%22Point%22%7D%2C%20%22id%22%3A%20%22163%22%2C%20%22properties%22%3A%20%7B%22address%22%3A%20%22481%20West%20St%2C%20Keene%2C%20NH%2003431%22%2C%20%22lat%22%3A%2042.9351326%2C%20%22lon%22%3A%20-72.29554413%2C%20%22pharmacy_name%22%3A%20%22Hannaford%22%2C%20%22pharmid%22%3A%20%22NH47%22%2C%20%22sat_close%22%3A%20%2218%3A00%3A00%22%2C%20%22sat_open%22%3A%20%229%3A00%3A00%22%2C%20%22sat_pharm%22%3A%20null%2C%20%22sat_tech%22%3A%20null%2C%20%22state%22%3A%20%22NH%22%2C%20%22sun_close%22%3A%20%2217%3A00%3A00%22%2C%20%22sun_open%22%3A%20%229%3A00%3A00%22%2C%20%22sun_pharm%22%3A%20null%2C%20%22sun_tech%22%3A%20null%2C%20%22type%22%3A%20%22grocery%22%2C%20%22week_close%22%3A%20%2220%3A00%3A00%22%2C%20%22week_open%22%3A%20%229%3A00%3A00%22%2C%20%22week_pharm%22%3A%20null%2C%20%22week_tech%22%3A%20null%7D%2C%20%22type%22%3A%20%22Feature%22%7D%2C%20%7B%22bbox%22%3A%20%5B-72.344974%2C%2043.36397%2C%20-72.344974%2C%2043.36397%5D%2C%20%22geometry%22%3A%20%7B%22coordinates%22%3A%20%5B-72.344974%2C%2043.36397%5D%2C%20%22type%22%3A%20%22Point%22%7D%2C%20%22id%22%3A%20%22164%22%2C%20%22properties%22%3A%20%7B%22address%22%3A%20%2252%20W%20Pleasant%20St%2C%20Claremont%2C%20NH%2003743%22%2C%20%22lat%22%3A%2043.36397%2C%20%22lon%22%3A%20-72.344974%2C%20%22pharmacy_name%22%3A%20%22Genoa%20Healthcare%22%2C%20%22pharmid%22%3A%20%22NH48%22%2C%20%22sat_close%22%3A%20%22Closed%22%2C%20%22sat_open%22%3A%20%22Closed%22%2C%20%22sat_pharm%22%3A%20null%2C%20%22sat_tech%22%3A%20null%2C%20%22state%22%3A%20%22NH%22%2C%20%22sun_close%22%3A%20%22Closed%22%2C%20%22sun_open%22%3A%20%22Closed%22%2C%20%22sun_pharm%22%3A%20null%2C%20%22sun_tech%22%3A%20null%2C%20%22type%22%3A%20%22chain%22%2C%20%22week_close%22%3A%20%2217%3A00%3A00%22%2C%20%22week_open%22%3A%20%228%3A30%3A00%22%2C%20%22week_pharm%22%3A%20null%2C%20%22week_tech%22%3A%20null%7D%2C%20%22type%22%3A%20%22Feature%22%7D%2C%20%7B%22bbox%22%3A%20%5B-72.34048811%2C%2043.368568%2C%20-72.34048811%2C%2043.368568%5D%2C%20%22geometry%22%3A%20%7B%22coordinates%22%3A%20%5B-72.34048811%2C%2043.368568%5D%2C%20%22type%22%3A%20%22Point%22%7D%2C%20%22id%22%3A%20%22165%22%2C%20%22properties%22%3A%20%7B%22address%22%3A%20%22109%20Pleasant%20St%2C%20Claremont%2C%20NH%2003743%22%2C%20%22lat%22%3A%2043.368568%2C%20%22lon%22%3A%20-72.34048811%2C%20%22pharmacy_name%22%3A%20%22Sugar%20River%20Pharmacy%22%2C%20%22pharmid%22%3A%20%22NH49%22%2C%20%22sat_close%22%3A%20%2216%3A00%3A00%22%2C%20%22sat_open%22%3A%20%229%3A00%3A00%22%2C%20%22sat_pharm%22%3A%20null%2C%20%22sat_tech%22%3A%20null%2C%20%22state%22%3A%20%22NH%22%2C%20%22sun_close%22%3A%20%22Closed%22%2C%20%22sun_open%22%3A%20%22Closed%22%2C%20%22sun_pharm%22%3A%20null%2C%20%22sun_tech%22%3A%20null%2C%20%22type%22%3A%20%22independent%22%2C%20%22week_close%22%3A%20%2218%3A30%3A00%22%2C%20%22week_open%22%3A%20%228%3A30%3A00%22%2C%20%22week_pharm%22%3A%20null%2C%20%22week_tech%22%3A%20null%7D%2C%20%22type%22%3A%20%22Feature%22%7D%2C%20%7B%22bbox%22%3A%20%5B-72.33893009%2C%2043.37153002%2C%20-72.33893009%2C%2043.37153002%5D%2C%20%22geometry%22%3A%20%7B%22coordinates%22%3A%20%5B-72.33893009%2C%2043.37153002%5D%2C%20%22type%22%3A%20%22Point%22%7D%2C%20%22id%22%3A%20%22166%22%2C%20%22properties%22%3A%20%7B%22address%22%3A%20%2273%20Pleasant%20St%2C%20Claremont%2C%20NH%2003743%22%2C%20%22lat%22%3A%2043.37153002%2C%20%22lon%22%3A%20-72.33893009%2C%20%22pharmacy_name%22%3A%20%22Rite%20Aid%20%2310288%22%2C%20%22pharmid%22%3A%20%22NH50%22%2C%20%22sat_close%22%3A%20%2218%3A00%3A00%22%2C%20%22sat_open%22%3A%20%229%3A00%3A00%22%2C%20%22sat_pharm%22%3A%20null%2C%20%22sat_tech%22%3A%20null%2C%20%22state%22%3A%20%22NH%22%2C%20%22sun_close%22%3A%20%2218%3A00%3A00%22%2C%20%22sun_open%22%3A%20%229%3A00%3A00%22%2C%20%22sun_pharm%22%3A%20null%2C%20%22sun_tech%22%3A%20null%2C%20%22type%22%3A%20%22chain%22%2C%20%22week_close%22%3A%20%2220%3A00%3A00%22%2C%20%22week_open%22%3A%20%228%3A00%3A00%22%2C%20%22week_pharm%22%3A%20null%2C%20%22week_tech%22%3A%20null%7D%2C%20%22type%22%3A%20%22Feature%22%7D%2C%20%7B%22bbox%22%3A%20%5B-72.334446%2C%2043.373194%2C%20-72.334446%2C%2043.373194%5D%2C%20%22geometry%22%3A%20%7B%22coordinates%22%3A%20%5B-72.334446%2C%2043.373194%5D%2C%20%22type%22%3A%20%22Point%22%7D%2C%20%22id%22%3A%20%22167%22%2C%20%22properties%22%3A%20%7B%22address%22%3A%20%221%20Wall%20St%2C%20Claremont%2C%20NH%2003743%22%2C%20%22lat%22%3A%2043.373194%2C%20%22lon%22%3A%20-72.334446%2C%20%22pharmacy_name%22%3A%20%22CVS%20Pharmacy%20%235347%22%2C%20%22pharmid%22%3A%20%22NH51%22%2C%20%22sat_close%22%3A%20%2217%3A00%3A00%22%2C%20%22sat_open%22%3A%20%2210%3A00%3A00%22%2C%20%22sat_pharm%22%3A%20null%2C%20%22sat_tech%22%3A%20null%2C%20%22state%22%3A%20%22NH%22%2C%20%22sun_close%22%3A%20%2217%3A00%3A00%22%2C%20%22sun_open%22%3A%20%2210%3A00%3A00%22%2C%20%22sun_pharm%22%3A%20null%2C%20%22sun_tech%22%3A%20null%2C%20%22type%22%3A%20%22chain%22%2C%20%22week_close%22%3A%20%2219%3A00%3A00%22%2C%20%22week_open%22%3A%20%229%3A00%3A00%22%2C%20%22week_pharm%22%3A%20null%2C%20%22week_tech%22%3A%20null%7D%2C%20%22type%22%3A%20%22Feature%22%7D%2C%20%7B%22bbox%22%3A%20%5B-72.32899039%2C%2043.3779035%2C%20-72.32899039%2C%2043.3779035%5D%2C%20%22geometry%22%3A%20%7B%22coordinates%22%3A%20%5B-72.32899039%2C%2043.3779035%5D%2C%20%22type%22%3A%20%22Point%22%7D%2C%20%22id%22%3A%20%22168%22%2C%20%22properties%22%3A%20%7B%22address%22%3A%20%2214%20Bowen%20St%2C%20Claremont%2C%20NH%2003743%22%2C%20%22lat%22%3A%2043.3779035%2C%20%22lon%22%3A%20-72.32899039%2C%20%22pharmacy_name%22%3A%20%22Walmart%20%231975%22%2C%20%22pharmid%22%3A%20%22NH52%22%2C%20%22sat_close%22%3A%20%2219%3A00%3A00%22%2C%20%22sat_open%22%3A%20%229%3A00%3A00%22%2C%20%22sat_pharm%22%3A%20null%2C%20%22sat_tech%22%3A%20null%2C%20%22state%22%3A%20%22NH%22%2C%20%22sun_close%22%3A%20%2218%3A00%3A00%22%2C%20%22sun_open%22%3A%20%2210%3A00%3A00%22%2C%20%22sun_pharm%22%3A%20null%2C%20%22sun_tech%22%3A%20null%2C%20%22type%22%3A%20%22department%22%2C%20%22week_close%22%3A%20%2219%3A00%3A00%22%2C%20%22week_open%22%3A%20%228%3A00%3A00%22%2C%20%22week_pharm%22%3A%20null%2C%20%22week_tech%22%3A%20null%7D%2C%20%22type%22%3A%20%22Feature%22%7D%2C%20%7B%22bbox%22%3A%20%5B-72.3247052%2C%2043.6230728%2C%20-72.3247052%2C%2043.6230728%5D%2C%20%22geometry%22%3A%20%7B%22coordinates%22%3A%20%5B-72.3247052%2C%2043.6230728%5D%2C%20%22type%22%3A%20%22Point%22%7D%2C%20%22id%22%3A%20%22169%22%2C%20%22properties%22%3A%20%7B%22address%22%3A%20%22285%20N%20Plainfield%20Rd%2C%20West%20Lebanon%2C%20NH%2003784%22%2C%20%22lat%22%3A%2043.6230728%2C%20%22lon%22%3A%20-72.3247052%2C%20%22pharmacy_name%22%3A%20%22Walmart%20Pharmacy%20%232138%22%2C%20%22pharmid%22%3A%20%22NH53%22%2C%20%22sat_close%22%3A%20%2218%3A00%3A00%22%2C%20%22sat_open%22%3A%20%229%3A00%3A00%22%2C%20%22sat_pharm%22%3A%20null%2C%20%22sat_tech%22%3A%20null%2C%20%22state%22%3A%20%22NH%22%2C%20%22sun_close%22%3A%20%2218%3A00%3A00%22%2C%20%22sun_open%22%3A%20%2210%3A00%3A00%22%2C%20%22sun_pharm%22%3A%20null%2C%20%22sun_tech%22%3A%20null%2C%20%22type%22%3A%20%22department%22%2C%20%22week_close%22%3A%20%2219%3A00%3A00%22%2C%20%22week_open%22%3A%20%228%3A00%3A00%22%2C%20%22week_pharm%22%3A%20null%2C%20%22week_tech%22%3A%20null%7D%2C%20%22type%22%3A%20%22Feature%22%7D%2C%20%7B%22bbox%22%3A%20%5B-72.32394162%2C%2043.6291636%2C%20-72.32394162%2C%2043.6291636%5D%2C%20%22geometry%22%3A%20%7B%22coordinates%22%3A%20%5B-72.32394162%2C%2043.6291636%5D%2C%20%22type%22%3A%20%22Point%22%7D%2C%20%22id%22%3A%20%22170%22%2C%20%22properties%22%3A%20%7B%22address%22%3A%20%22250%20N%20Plainfield%20Rd%2C%20West%20Lebanon%2C%20NH%2003784%22%2C%20%22lat%22%3A%2043.6291636%2C%20%22lon%22%3A%20-72.32394162%2C%20%22pharmacy_name%22%3A%20%22CVS%20pharmacy%20%23647%22%2C%20%22pharmid%22%3A%20%22NH54%22%2C%20%22sat_close%22%3A%20%2221%3A00%3A00%22%2C%20%22sat_open%22%3A%20%228%3A00%3A00%22%2C%20%22sat_pharm%22%3A%20null%2C%20%22sat_tech%22%3A%20null%2C%20%22state%22%3A%20%22NH%22%2C%20%22sun_close%22%3A%20%2221%3A00%3A00%22%2C%20%22sun_open%22%3A%20%228%3A00%3A00%22%2C%20%22sun_pharm%22%3A%20null%2C%20%22sun_tech%22%3A%20null%2C%20%22type%22%3A%20%22chain%22%2C%20%22week_close%22%3A%20%2221%3A00%3A00%22%2C%20%22week_open%22%3A%20%228%3A00%3A00%22%2C%20%22week_pharm%22%3A%20null%2C%20%22week_tech%22%3A%20null%7D%2C%20%22type%22%3A%20%22Feature%22%7D%2C%20%7B%22bbox%22%3A%20%5B-72.32073674%2C%2043.6300465%2C%20-72.32073674%2C%2043.6300465%5D%2C%20%22geometry%22%3A%20%7B%22coordinates%22%3A%20%5B-72.32073674%2C%2043.6300465%5D%2C%20%22type%22%3A%20%22Point%22%7D%2C%20%22id%22%3A%20%22171%22%2C%20%22properties%22%3A%20%7B%22address%22%3A%20%223%20Airport%20Rd%2C%20West%20Lebanon%2C%20NH%2003784%22%2C%20%22lat%22%3A%2043.6300465%2C%20%22lon%22%3A%20-72.32073674%2C%20%22pharmacy_name%22%3A%20%22Walgreens%20%239177%22%2C%20%22pharmid%22%3A%20%22NH55%22%2C%20%22sat_close%22%3A%20%2218%3A00%3A00%22%2C%20%22sat_open%22%3A%20%229%3A00%3A00%22%2C%20%22sat_pharm%22%3A%20null%2C%20%22sat_tech%22%3A%20null%2C%20%22state%22%3A%20%22NH%22%2C%20%22sun_close%22%3A%20%2218%3A00%3A00%22%2C%20%22sun_open%22%3A%20%2210%3A00%3A00%22%2C%20%22sun_pharm%22%3A%20null%2C%20%22sun_tech%22%3A%20null%2C%20%22type%22%3A%20%22chain%22%2C%20%22week_close%22%3A%20%2220%3A00%3A00%22%2C%20%22week_open%22%3A%20%229%3A00%3A00%22%2C%20%22week_pharm%22%3A%20null%2C%20%22week_tech%22%3A%20null%7D%2C%20%22type%22%3A%20%22Feature%22%7D%2C%20%7B%22bbox%22%3A%20%5B-72.3160927%2C%2043.6318065%2C%20-72.3160927%2C%2043.6318065%5D%2C%20%22geometry%22%3A%20%7B%22coordinates%22%3A%20%5B-72.3160927%2C%2043.6318065%5D%2C%20%22type%22%3A%20%22Point%22%7D%2C%20%22id%22%3A%20%22172%22%2C%20%22properties%22%3A%20%7B%22address%22%3A%20%2210%20Benning%20St%2C%20West%20Lebanon%2C%20NH%2003784%22%2C%20%22lat%22%3A%2043.6318065%2C%20%22lon%22%3A%20-72.3160927%2C%20%22pharmacy_name%22%3A%20%22Rite%20Aid%20%2310289%22%2C%20%22pharmid%22%3A%20%22NH56%22%2C%20%22sat_close%22%3A%20%2217%3A00%3A00%22%2C%20%22sat_open%22%3A%20%229%3A00%3A00%22%2C%20%22sat_pharm%22%3A%20null%2C%20%22sat_tech%22%3A%20null%2C%20%22state%22%3A%20%22NH%22%2C%20%22sun_close%22%3A%20%2217%3A00%3A00%22%2C%20%22sun_open%22%3A%20%229%3A00%3A00%22%2C%20%22sun_pharm%22%3A%20null%2C%20%22sun_tech%22%3A%20null%2C%20%22type%22%3A%20%22chain%22%2C%20%22week_close%22%3A%20%2220%3A00%3A00%22%2C%20%22week_open%22%3A%20%228%3A00%3A00%22%2C%20%22week_pharm%22%3A%20null%2C%20%22week_tech%22%3A%20null%7D%2C%20%22type%22%3A%20%22Feature%22%7D%2C%20%7B%22bbox%22%3A%20%5B-72.3103149%2C%2043.6477914%2C%20-72.3103149%2C%2043.6477914%5D%2C%20%22geometry%22%3A%20%7B%22coordinates%22%3A%20%5B-72.3103149%2C%2043.6477914%5D%2C%20%22type%22%3A%20%22Point%22%7D%2C%20%22id%22%3A%20%22173%22%2C%20%22properties%22%3A%20%7B%22address%22%3A%20%22200%20S%20Main%20St%2C%20West%20Lebanon%2C%20NH%2003784%22%2C%20%22lat%22%3A%2043.6477914%2C%20%22lon%22%3A%20-72.3103149%2C%20%22pharmacy_name%22%3A%20%22CVS%20%2317827%22%2C%20%22pharmid%22%3A%20%22NH57%22%2C%20%22sat_close%22%3A%20%22Closed%22%2C%20%22sat_open%22%3A%20%22Closed%22%2C%20%22sat_pharm%22%3A%20null%2C%20%22sat_tech%22%3A%20null%2C%20%22state%22%3A%20%22NH%22%2C%20%22sun_close%22%3A%20%22Closed%22%2C%20%22sun_open%22%3A%20%22Closed%22%2C%20%22sun_pharm%22%3A%20null%2C%20%22sun_tech%22%3A%20null%2C%20%22type%22%3A%20%22chain%22%2C%20%22week_close%22%3A%20%2217%3A00%3A00%22%2C%20%22week_open%22%3A%20%229%3A00%3A00%22%2C%20%22week_pharm%22%3A%20null%2C%20%22week_tech%22%3A%20null%7D%2C%20%22type%22%3A%20%22Feature%22%7D%2C%20%7B%22bbox%22%3A%20%5B-72.3175645%2C%2043.6362498%2C%20-72.3175645%2C%2043.6362498%5D%2C%20%22geometry%22%3A%20%7B%22coordinates%22%3A%20%5B-72.3175645%2C%2043.6362498%5D%2C%20%22type%22%3A%20%22Point%22%7D%2C%20%22id%22%3A%20%22174%22%2C%20%22properties%22%3A%20%7B%22address%22%3A%20%228%20Market%20St%2C%20West%20Lebanon%2C%20NH%2003784%22%2C%20%22lat%22%3A%2043.6362498%2C%20%22lon%22%3A%20-72.3175645%2C%20%22pharmacy_name%22%3A%20%22Hannaford%22%2C%20%22pharmid%22%3A%20%22NH58%22%2C%20%22sat_close%22%3A%20%2216%3A00%3A00%22%2C%20%22sat_open%22%3A%20%229%3A30%3A00%22%2C%20%22sat_pharm%22%3A%20null%2C%20%22sat_tech%22%3A%20null%2C%20%22state%22%3A%20%22NH%22%2C%20%22sun_close%22%3A%20%2214%3A00%3A00%22%2C%20%22sun_open%22%3A%20%229%3A30%3A00%22%2C%20%22sun_pharm%22%3A%20null%2C%20%22sun_tech%22%3A%20null%2C%20%22type%22%3A%20%22grocery%22%2C%20%22week_close%22%3A%20%2220%3A00%3A00%22%2C%20%22week_open%22%3A%20%229%3A00%3A00%22%2C%20%22week_pharm%22%3A%20null%2C%20%22week_tech%22%3A%20null%7D%2C%20%22type%22%3A%20%22Feature%22%7D%2C%20%7B%22bbox%22%3A%20%5B-72.2879924%2C%2043.6368107%2C%20-72.2879924%2C%2043.6368107%5D%2C%20%22geometry%22%3A%20%7B%22coordinates%22%3A%20%5B-72.2879924%2C%2043.6368107%5D%2C%20%22type%22%3A%20%22Point%22%7D%2C%20%22id%22%3A%20%22175%22%2C%20%22properties%22%3A%20%7B%22address%22%3A%20%22370%20Miracle%20Mile%2C%20Lebanon%2C%20NH%2003766%22%2C%20%22lat%22%3A%2043.6368107%2C%20%22lon%22%3A%20-72.2879924%2C%20%22pharmacy_name%22%3A%20%22Price%20Chopper%20%23227%22%2C%20%22pharmid%22%3A%20%22NH59%22%2C%20%22sat_close%22%3A%20%2217%3A00%3A00%22%2C%20%22sat_open%22%3A%20%229%3A00%3A00%22%2C%20%22sat_pharm%22%3A%20null%2C%20%22sat_tech%22%3A%20null%2C%20%22state%22%3A%20%22NH%22%2C%20%22sun_close%22%3A%20%2215%3A00%3A00%22%2C%20%22sun_open%22%3A%20%229%3A00%3A00%22%2C%20%22sun_pharm%22%3A%20null%2C%20%22sun_tech%22%3A%20null%2C%20%22type%22%3A%20%22grocery%22%2C%20%22week_close%22%3A%20%2219%3A00%3A00%22%2C%20%22week_open%22%3A%20%229%3A00%3A00%22%2C%20%22week_pharm%22%3A%20null%2C%20%22week_tech%22%3A%20null%7D%2C%20%22type%22%3A%20%22Feature%22%7D%2C%20%7B%22bbox%22%3A%20%5B-72.25966618%2C%2043.6759474%2C%20-72.25966618%2C%2043.6759474%5D%2C%20%22geometry%22%3A%20%7B%22coordinates%22%3A%20%5B-72.25966618%2C%2043.6759474%5D%2C%20%22type%22%3A%20%22Point%22%7D%2C%20%22id%22%3A%20%22176%22%2C%20%22properties%22%3A%20%7B%22address%22%3A%20%2212%20Centerra%20Pkwy%2C%20Lebanon%2C%20NH%2003766%22%2C%20%22lat%22%3A%2043.6759474%2C%20%22lon%22%3A%20-72.25966618%2C%20%22pharmacy_name%22%3A%20%22Darmouth%20Hitchcock%20at%20Centerra%22%2C%20%22pharmid%22%3A%20%22NH60%22%2C%20%22sat_close%22%3A%20%2221%3A00%3A00%22%2C%20%22sat_open%22%3A%20%227%3A00%3A00%22%2C%20%22sat_pharm%22%3A%20null%2C%20%22sat_tech%22%3A%20null%2C%20%22state%22%3A%20%22NH%22%2C%20%22sun_close%22%3A%20%2221%3A00%3A00%22%2C%20%22sun_open%22%3A%20%227%3A00%3A00%22%2C%20%22sun_pharm%22%3A%20null%2C%20%22sun_tech%22%3A%20null%2C%20%22type%22%3A%20%22hospital%22%2C%20%22week_close%22%3A%20%2221%3A00%3A00%22%2C%20%22week_open%22%3A%20%227%3A00%3A00%22%2C%20%22week_pharm%22%3A%20null%2C%20%22week_tech%22%3A%20null%7D%2C%20%22type%22%3A%20%22Feature%22%7D%2C%20%7B%22bbox%22%3A%20%5B-72.2905548%2C%2043.6995702%2C%20-72.2905548%2C%2043.6995702%5D%2C%20%22geometry%22%3A%20%7B%22coordinates%22%3A%20%5B-72.2905548%2C%2043.6995702%5D%2C%20%22type%22%3A%20%22Point%22%7D%2C%20%22id%22%3A%20%22177%22%2C%20%22properties%22%3A%20%7B%22address%22%3A%20%2279%20S%20Main%20St%2C%20Hanover%2C%20NH%2003755%22%2C%20%22lat%22%3A%2043.6995702%2C%20%22lon%22%3A%20-72.2905548%2C%20%22pharmacy_name%22%3A%20%22CVS%20%235938%22%2C%20%22pharmid%22%3A%20%22NH61%22%2C%20%22sat_close%22%3A%20%2217%3A00%3A00%22%2C%20%22sat_open%22%3A%20%2210%3A00%3A00%22%2C%20%22sat_pharm%22%3A%20null%2C%20%22sat_tech%22%3A%20null%2C%20%22state%22%3A%20%22NH%22%2C%20%22sun_close%22%3A%20%2217%3A00%3A00%22%2C%20%22sun_open%22%3A%20%2210%3A00%3A00%22%2C%20%22sun_pharm%22%3A%20null%2C%20%22sun_tech%22%3A%20null%2C%20%22type%22%3A%20%22chain%22%2C%20%22week_close%22%3A%20%2220%3A00%3A00%22%2C%20%22week_open%22%3A%20%229%3A00%3A00%22%2C%20%22week_pharm%22%3A%20null%2C%20%22week_tech%22%3A%20null%7D%2C%20%22type%22%3A%20%22Feature%22%7D%2C%20%7B%22bbox%22%3A%20%5B-72.0267492%2C%2044.1409177%2C%20-72.0267492%2C%2044.1409177%5D%2C%20%22geometry%22%3A%20%7B%22coordinates%22%3A%20%5B-72.0267492%2C%2044.1409177%5D%2C%20%22type%22%3A%20%22Point%22%7D%2C%20%22id%22%3A%20%22178%22%2C%20%22properties%22%3A%20%7B%22address%22%3A%20%224901%20Dartmouth%20College%20Hwy%2C%20Woodsville%2C%20NH%2003785%22%2C%20%22lat%22%3A%2044.1409177%2C%20%22lon%22%3A%20-72.0267492%2C%20%22pharmacy_name%22%3A%20%22Walmart%20%234389%22%2C%20%22pharmid%22%3A%20%22NH62%22%2C%20%22sat_close%22%3A%20%2219%3A00%3A00%22%2C%20%22sat_open%22%3A%20%229%3A00%3A00%22%2C%20%22sat_pharm%22%3A%20null%2C%20%22sat_tech%22%3A%20null%2C%20%22state%22%3A%20%22NH%22%2C%20%22sun_close%22%3A%20%2218%3A00%3A00%22%2C%20%22sun_open%22%3A%20%2210%3A00%3A00%22%2C%20%22sun_pharm%22%3A%20null%2C%20%22sun_tech%22%3A%20null%2C%20%22type%22%3A%20%22department%22%2C%20%22week_close%22%3A%20%2219%3A00%3A00%22%2C%20%22week_open%22%3A%20%228%3A00%3A00%22%2C%20%22week_pharm%22%3A%20null%2C%20%22week_tech%22%3A%20null%7D%2C%20%22type%22%3A%20%22Feature%22%7D%2C%20%7B%22bbox%22%3A%20%5B-72.02917278%2C%2044.1443803%2C%20-72.02917278%2C%2044.1443803%5D%2C%20%22geometry%22%3A%20%7B%22coordinates%22%3A%20%5B-72.02917278%2C%2044.1443803%5D%2C%20%22type%22%3A%20%22Point%22%7D%2C%20%22id%22%3A%20%22179%22%2C%20%22properties%22%3A%20%7B%22address%22%3A%20%2215%20Forest%20St%2C%20Woodsville%2C%20NH%2003785%22%2C%20%22lat%22%3A%2044.1443803%2C%20%22lon%22%3A%20-72.02917278%2C%20%22pharmacy_name%22%3A%20%22Shaws%20/%20Osco%22%2C%20%22pharmid%22%3A%20%22NH63%22%2C%20%22sat_close%22%3A%20%2217%3A00%3A00%22%2C%20%22sat_open%22%3A%20%229%3A00%3A00%22%2C%20%22sat_pharm%22%3A%20null%2C%20%22sat_tech%22%3A%20null%2C%20%22state%22%3A%20%22NH%22%2C%20%22sun_close%22%3A%20%2217%3A00%3A00%22%2C%20%22sun_open%22%3A%20%2210%3A00%3A00%22%2C%20%22sun_pharm%22%3A%20null%2C%20%22sun_tech%22%3A%20null%2C%20%22type%22%3A%20%22grocery%22%2C%20%22week_close%22%3A%20%2219%3A00%3A00%22%2C%20%22week_open%22%3A%20%228%3A00%3A00%22%2C%20%22week_pharm%22%3A%20null%2C%20%22week_tech%22%3A%20null%7D%2C%20%22type%22%3A%20%22Feature%22%7D%2C%20%7B%22bbox%22%3A%20%5B-71.80154151%2C%2044.30290545%2C%20-71.80154151%2C%2044.30290545%5D%2C%20%22geometry%22%3A%20%7B%22coordinates%22%3A%20%5B-71.80154151%2C%2044.30290545%5D%2C%20%22type%22%3A%20%22Point%22%7D%2C%20%22id%22%3A%20%22180%22%2C%20%22properties%22%3A%20%7B%22address%22%3A%20%22625%20Meadow%20St%2C%20Littleton%2C%20NH%2003561%22%2C%20%22lat%22%3A%2044.30290545%2C%20%22lon%22%3A%20-71.80154151%2C%20%22pharmacy_name%22%3A%20%22Shaws%20/%20Osco%22%2C%20%22pharmid%22%3A%20%22NH64%22%2C%20%22sat_close%22%3A%20%2217%3A00%3A00%22%2C%20%22sat_open%22%3A%20%229%3A00%3A00%22%2C%20%22sat_pharm%22%3A%20null%2C%20%22sat_tech%22%3A%20null%2C%20%22state%22%3A%20%22NH%22%2C%20%22sun_close%22%3A%20%2217%3A00%3A00%22%2C%20%22sun_open%22%3A%20%2210%3A00%3A00%22%2C%20%22sun_pharm%22%3A%20null%2C%20%22sun_tech%22%3A%20null%2C%20%22type%22%3A%20%22grocery%22%2C%20%22week_close%22%3A%20%2220%3A00%3A00%22%2C%20%22week_open%22%3A%20%229%3A00%3A00%22%2C%20%22week_pharm%22%3A%20null%2C%20%22week_tech%22%3A%20null%7D%2C%20%22type%22%3A%20%22Feature%22%7D%2C%20%7B%22bbox%22%3A%20%5B-71.7985431%2C%2044.3042178%2C%20-71.7985431%2C%2044.3042178%5D%2C%20%22geometry%22%3A%20%7B%22coordinates%22%3A%20%5B-71.7985431%2C%2044.3042178%5D%2C%20%22type%22%3A%20%22Point%22%7D%2C%20%22id%22%3A%20%22181%22%2C%20%22properties%22%3A%20%7B%22address%22%3A%20%22615%20Meadow%20St%2C%20Littleton%2C%20NH%2003561%22%2C%20%22lat%22%3A%2044.3042178%2C%20%22lon%22%3A%20-71.7985431%2C%20%22pharmacy_name%22%3A%20%22Walmart%20%232681%22%2C%20%22pharmid%22%3A%20%22NH65%22%2C%20%22sat_close%22%3A%20%2218%3A00%3A00%22%2C%20%22sat_open%22%3A%20%229%3A00%3A00%22%2C%20%22sat_pharm%22%3A%20null%2C%20%22sat_tech%22%3A%20null%2C%20%22state%22%3A%20%22NH%22%2C%20%22sun_close%22%3A%20%2218%3A00%3A00%22%2C%20%22sun_open%22%3A%20%2210%3A00%3A00%22%2C%20%22sun_pharm%22%3A%20null%2C%20%22sun_tech%22%3A%20null%2C%20%22type%22%3A%20%22department%22%2C%20%22week_close%22%3A%20%2219%3A00%3A00%22%2C%20%22week_open%22%3A%20%228%3A00%3A00%22%2C%20%22week_pharm%22%3A%20null%2C%20%22week_tech%22%3A%20null%7D%2C%20%22type%22%3A%20%22Feature%22%7D%2C%20%7B%22bbox%22%3A%20%5B-71.7978151%2C%2044.3091189%2C%20-71.7978151%2C%2044.3091189%5D%2C%20%22geometry%22%3A%20%7B%22coordinates%22%3A%20%5B-71.7978151%2C%2044.3091189%5D%2C%20%22type%22%3A%20%22Point%22%7D%2C%20%22id%22%3A%20%22182%22%2C%20%22properties%22%3A%20%7B%22address%22%3A%20%22274%20Dells%20Rd%2C%20Littleton%2C%20NH%2003561%22%2C%20%22lat%22%3A%2044.3091189%2C%20%22lon%22%3A%20-71.7978151%2C%20%22pharmacy_name%22%3A%20%22Walgreens%20%2310410%22%2C%20%22pharmid%22%3A%20%22NH66%22%2C%20%22sat_close%22%3A%20%2217%3A00%3A00%22%2C%20%22sat_open%22%3A%20%229%3A00%3A00%22%2C%20%22sat_pharm%22%3A%20null%2C%20%22sat_tech%22%3A%20null%2C%20%22state%22%3A%20%22NH%22%2C%20%22sun_close%22%3A%20%2217%3A00%3A00%22%2C%20%22sun_open%22%3A%20%229%3A00%3A00%22%2C%20%22sun_pharm%22%3A%20null%2C%20%22sun_tech%22%3A%20null%2C%20%22type%22%3A%20%22chain%22%2C%20%22week_close%22%3A%20%2219%3A00%3A00%22%2C%20%22week_open%22%3A%20%229%3A00%3A00%22%2C%20%22week_pharm%22%3A%20null%2C%20%22week_tech%22%3A%20null%7D%2C%20%22type%22%3A%20%22Feature%22%7D%2C%20%7B%22bbox%22%3A%20%5B-71.78630594%2C%2044.30909665%2C%20-71.78630594%2C%2044.30909665%5D%2C%20%22geometry%22%3A%20%7B%22coordinates%22%3A%20%5B-71.78630594%2C%2044.30909665%5D%2C%20%22type%22%3A%20%22Point%22%7D%2C%20%22id%22%3A%20%22183%22%2C%20%22properties%22%3A%20%7B%22address%22%3A%20%22136%20Meadow%20St%2C%20Littleton%2C%20NH%2003561%22%2C%20%22lat%22%3A%2044.30909665%2C%20%22lon%22%3A%20-71.78630594%2C%20%22pharmacy_name%22%3A%20%22Rite%20Aid%20%2304182%22%2C%20%22pharmid%22%3A%20%22NH67%22%2C%20%22sat_close%22%3A%20%2218%3A00%3A00%22%2C%20%22sat_open%22%3A%20%229%3A00%3A00%22%2C%20%22sat_pharm%22%3A%20null%2C%20%22sat_tech%22%3A%20null%2C%20%22state%22%3A%20%22NH%22%2C%20%22sun_close%22%3A%20%2217%3A00%3A00%22%2C%20%22sun_open%22%3A%20%229%3A00%3A00%22%2C%20%22sun_pharm%22%3A%20null%2C%20%22sun_tech%22%3A%20null%2C%20%22type%22%3A%20%22chain%22%2C%20%22week_close%22%3A%20%2220%3A00%3A00%22%2C%20%22week_open%22%3A%20%228%3A00%3A00%22%2C%20%22week_pharm%22%3A%20null%2C%20%22week_tech%22%3A%20null%7D%2C%20%22type%22%3A%20%22Feature%22%7D%2C%20%7B%22bbox%22%3A%20%5B-71.75881662%2C%2044.3082322%2C%20-71.75881662%2C%2044.3082322%5D%2C%20%22geometry%22%3A%20%7B%22coordinates%22%3A%20%5B-71.75881662%2C%2044.3082322%5D%2C%20%22type%22%3A%20%22Point%22%7D%2C%20%22id%22%3A%20%22184%22%2C%20%22properties%22%3A%20%7B%22address%22%3A%20%22338%20Union%20St%2C%20Littleton%2C%20NH%2003561%22%2C%20%22lat%22%3A%2044.3082322%2C%20%22lon%22%3A%20-71.75881662%2C%20%22pharmacy_name%22%3A%20%22Eastern%20States%20Compounding%20Pharmacy%22%2C%20%22pharmid%22%3A%20%22NH68%22%2C%20%22sat_close%22%3A%20%22Closed%22%2C%20%22sat_open%22%3A%20%22Closed%22%2C%20%22sat_pharm%22%3A%20null%2C%20%22sat_tech%22%3A%20null%2C%20%22state%22%3A%20%22NH%22%2C%20%22sun_close%22%3A%20%22Closed%22%2C%20%22sun_open%22%3A%20%22Closed%22%2C%20%22sun_pharm%22%3A%20null%2C%20%22sun_tech%22%3A%20null%2C%20%22type%22%3A%20%22independent%22%2C%20%22week_close%22%3A%20%2217%3A00%3A00%22%2C%20%22week_open%22%3A%20%228%3A30%3A00%22%2C%20%22week_pharm%22%3A%20null%2C%20%22week_tech%22%3A%20null%7D%2C%20%22type%22%3A%20%22Feature%22%7D%2C%20%7B%22bbox%22%3A%20%5B-71.57198765%2C%2044.49430925%2C%20-71.57198765%2C%2044.49430925%5D%2C%20%22geometry%22%3A%20%7B%22coordinates%22%3A%20%5B-71.57198765%2C%2044.49430925%5D%2C%20%22type%22%3A%20%22Point%22%7D%2C%20%22id%22%3A%20%22185%22%2C%20%22properties%22%3A%20%7B%22address%22%3A%20%22177%20Main%20St%2C%20Lancaster%2C%20NH%2003584%22%2C%20%22lat%22%3A%2044.49430925%2C%20%22lon%22%3A%20-71.57198765%2C%20%22pharmacy_name%22%3A%20%22Walgreens%20%20%2317167%22%2C%20%22pharmid%22%3A%20%22NH69%22%2C%20%22sat_close%22%3A%20%2217%3A00%3A00%22%2C%20%22sat_open%22%3A%20%229%3A00%3A00%22%2C%20%22sat_pharm%22%3A%20null%2C%20%22sat_tech%22%3A%20null%2C%20%22state%22%3A%20%22NH%22%2C%20%22sun_close%22%3A%20%2217%3A00%3A00%22%2C%20%22sun_open%22%3A%20%229%3A00%3A00%22%2C%20%22sun_pharm%22%3A%20null%2C%20%22sun_tech%22%3A%20null%2C%20%22type%22%3A%20%22chain%22%2C%20%22week_close%22%3A%20%2220%3A00%3A00%22%2C%20%22week_open%22%3A%20%229%3A00%3A00%22%2C%20%22week_pharm%22%3A%20null%2C%20%22week_tech%22%3A%20null%7D%2C%20%22type%22%3A%20%22Feature%22%7D%2C%20%7B%22bbox%22%3A%20%5B-71.55445147%2C%2044.48576325%2C%20-71.55445147%2C%2044.48576325%5D%2C%20%22geometry%22%3A%20%7B%22coordinates%22%3A%20%5B-71.55445147%2C%2044.48576325%5D%2C%20%22type%22%3A%20%22Point%22%7D%2C%20%22id%22%3A%20%22186%22%2C%20%22properties%22%3A%20%7B%22address%22%3A%20%22173%20Middle%20St%2C%20Lancaster%2C%20NH%2003584%22%2C%20%22lat%22%3A%2044.48576325%2C%20%22lon%22%3A%20-71.55445147%2C%20%22pharmacy_name%22%3A%20%22North%20Country%20Healthcare%20Pharmacy%22%2C%20%22pharmid%22%3A%20%22NH70%22%2C%20%22sat_close%22%3A%20%22Closed%22%2C%20%22sat_open%22%3A%20%22Closed%22%2C%20%22sat_pharm%22%3A%20null%2C%20%22sat_tech%22%3A%20null%2C%20%22state%22%3A%20%22NH%22%2C%20%22sun_close%22%3A%20%22Closed%22%2C%20%22sun_open%22%3A%20%22Closed%22%2C%20%22sun_pharm%22%3A%20null%2C%20%22sun_tech%22%3A%20null%2C%20%22type%22%3A%20%22independent%22%2C%20%22week_close%22%3A%20%2217%3A30%3A00%22%2C%20%22week_open%22%3A%20%229%3A00%3A00%22%2C%20%22week_pharm%22%3A%20null%2C%20%22week_tech%22%3A%20null%7D%2C%20%22type%22%3A%20%22Feature%22%7D%2C%20%7B%22bbox%22%3A%20%5B-71.4974435%2C%2044.8923205%2C%20-71.4974435%2C%2044.8923205%5D%2C%20%22geometry%22%3A%20%7B%22coordinates%22%3A%20%5B-71.4974435%2C%2044.8923205%5D%2C%20%22type%22%3A%20%22Point%22%7D%2C%20%22id%22%3A%20%22187%22%2C%20%22properties%22%3A%20%7B%22address%22%3A%20%2291%20Main%20St%2C%20Colebrook%2C%20NH%2003576%22%2C%20%22lat%22%3A%2044.8923205%2C%20%22lon%22%3A%20-71.4974435%2C%20%22pharmacy_name%22%3A%20%22Walgreens%20%2319398%22%2C%20%22pharmid%22%3A%20%22NH71%22%2C%20%22sat_close%22%3A%20%2216%3A00%3A00%22%2C%20%22sat_open%22%3A%20%2210%3A00%3A00%22%2C%20%22sat_pharm%22%3A%20null%2C%20%22sat_tech%22%3A%20null%2C%20%22state%22%3A%20%22NH%22%2C%20%22sun_close%22%3A%20%22Closed%22%2C%20%22sun_open%22%3A%20%22Closed%22%2C%20%22sun_pharm%22%3A%20null%2C%20%22sun_tech%22%3A%20null%2C%20%22type%22%3A%20%22chain%22%2C%20%22week_close%22%3A%20%2218%3A00%3A00%22%2C%20%22week_open%22%3A%20%229%3A00%3A00%22%2C%20%22week_pharm%22%3A%20null%2C%20%22week_tech%22%3A%20null%7D%2C%20%22type%22%3A%20%22Feature%22%7D%2C%20%7B%22bbox%22%3A%20%5B-71.48309332%2C%2044.90296451%2C%20-71.48309332%2C%2044.90296451%5D%2C%20%22geometry%22%3A%20%7B%22coordinates%22%3A%20%5B-71.48309332%2C%2044.90296451%5D%2C%20%22type%22%3A%20%22Point%22%7D%2C%20%22id%22%3A%20%22188%22%2C%20%22properties%22%3A%20%7B%22address%22%3A%20%22141%20Corliss%20Ln%2C%20Colebrook%2C%20NH%2003576%22%2C%20%22lat%22%3A%2044.90296451%2C%20%22lon%22%3A%20-71.48309332%2C%20%22pharmacy_name%22%3A%20%22North%20Country%20Healthcare%20Pharmacy%22%2C%20%22pharmid%22%3A%20%22NH72%22%2C%20%22sat_close%22%3A%20%22Closed%22%2C%20%22sat_open%22%3A%20%22Closed%22%2C%20%22sat_pharm%22%3A%20null%2C%20%22sat_tech%22%3A%20null%2C%20%22state%22%3A%20%22NH%22%2C%20%22sun_close%22%3A%20%22Closed%22%2C%20%22sun_open%22%3A%20%22Closed%22%2C%20%22sun_pharm%22%3A%20null%2C%20%22sun_tech%22%3A%20null%2C%20%22type%22%3A%20%22independent%22%2C%20%22week_close%22%3A%20%2217%3A00%3A00%22%2C%20%22week_open%22%3A%20%228%3A30%3A00%22%2C%20%22week_pharm%22%3A%20null%2C%20%22week_tech%22%3A%20null%7D%2C%20%22type%22%3A%20%22Feature%22%7D%2C%20%7B%22bbox%22%3A%20%5B-72.4290752%2C%2043.1063171%2C%20-72.4290752%2C%2043.1063171%5D%2C%20%22geometry%22%3A%20%7B%22coordinates%22%3A%20%5B-72.4290752%2C%2043.1063171%5D%2C%20%22type%22%3A%20%22Point%22%7D%2C%20%22id%22%3A%20%22189%22%2C%20%22properties%22%3A%20%7B%22address%22%3A%20%2214%20Pinnacle%20Ln%2C%20Walpole%2C%20NH%2003608%22%2C%20%22lat%22%3A%2043.1063171%2C%20%22lon%22%3A%20-72.4290752%2C%20%22pharmacy_name%22%3A%20%22Walgreens%20%2311985%22%2C%20%22pharmid%22%3A%20%22NH73%22%2C%20%22sat_close%22%3A%20%2221%3A00%3A00%22%2C%20%22sat_open%22%3A%20%229%3A00%3A00%22%2C%20%22sat_pharm%22%3A%20null%2C%20%22sat_tech%22%3A%20null%2C%20%22state%22%3A%20%22NH%22%2C%20%22sun_close%22%3A%20%2221%3A00%3A00%22%2C%20%22sun_open%22%3A%20%229%3A00%3A00%22%2C%20%22sun_pharm%22%3A%20null%2C%20%22sun_tech%22%3A%20null%2C%20%22type%22%3A%20%22chain%22%2C%20%22week_close%22%3A%20%2221%3A00%3A00%22%2C%20%22week_open%22%3A%20%229%3A00%3A00%22%2C%20%22week_pharm%22%3A%20null%2C%20%22week_tech%22%3A%20null%7D%2C%20%22type%22%3A%20%22Feature%22%7D%2C%20%7B%22bbox%22%3A%20%5B-73.4384058%2C%2043.8591998%2C%20-73.4384058%2C%2043.8591998%5D%2C%20%22geometry%22%3A%20%7B%22coordinates%22%3A%20%5B-73.4384058%2C%2043.8591998%5D%2C%20%22type%22%3A%20%22Point%22%7D%2C%20%22id%22%3A%20%22190%22%2C%20%22properties%22%3A%20%7B%22address%22%3A%20%221161%20State%20Hwy%209N%2C%20Ticonderoga%2C%20NY%2012883%22%2C%20%22lat%22%3A%2043.8591998%2C%20%22lon%22%3A%20-73.4384058%2C%20%22pharmacy_name%22%3A%20%22Walgreens%20%2318030%22%2C%20%22pharmid%22%3A%20%22NY74%22%2C%20%22sat_close%22%3A%20%2217%3A00%3A00%22%2C%20%22sat_open%22%3A%20%229%3A00%3A00%22%2C%20%22sat_pharm%22%3A%20null%2C%20%22sat_tech%22%3A%20null%2C%20%22state%22%3A%20%22NY%22%2C%20%22sun_close%22%3A%20%22Closed%22%2C%20%22sun_open%22%3A%20%22Closed%22%2C%20%22sun_pharm%22%3A%20null%2C%20%22sun_tech%22%3A%20null%2C%20%22type%22%3A%20%22chain%22%2C%20%22week_close%22%3A%20%2218%3A00%3A00%22%2C%20%22week_open%22%3A%20%2210%3A00%3A00%22%2C%20%22week_pharm%22%3A%20null%2C%20%22week_tech%22%3A%20null%7D%2C%20%22type%22%3A%20%22Feature%22%7D%2C%20%7B%22bbox%22%3A%20%5B-72.2748319%2C%2042.9327387%2C%20-72.2748319%2C%2042.9327387%5D%2C%20%22geometry%22%3A%20%7B%22coordinates%22%3A%20%5B-72.2748319%2C%2042.9327387%5D%2C%20%22type%22%3A%20%22Point%22%7D%2C%20%22id%22%3A%20%22191%22%2C%20%22properties%22%3A%20%7B%22address%22%3A%20%2217%20Ninety%20Third%20St%20%23234%2C%20Keene%2C%20NH%2003431%22%2C%20%22lat%22%3A%2042.9327387%2C%20%22lon%22%3A%20-72.2748319%2C%20%22pharmacy_name%22%3A%20%22Genoa%20Healthcare%22%2C%20%22pharmid%22%3A%20%22NH75%22%2C%20%22sat_close%22%3A%20%22Closed%22%2C%20%22sat_open%22%3A%20%22Closed%22%2C%20%22sat_pharm%22%3A%20null%2C%20%22sat_tech%22%3A%20null%2C%20%22state%22%3A%20%22NH%22%2C%20%22sun_close%22%3A%20%22Closed%22%2C%20%22sun_open%22%3A%20%22Closed%22%2C%20%22sun_pharm%22%3A%20null%2C%20%22sun_tech%22%3A%20null%2C%20%22type%22%3A%20%22chain%22%2C%20%22week_close%22%3A%20%2217%3A00%3A00%22%2C%20%22week_open%22%3A%20%228%3A30%3A00%22%2C%20%22week_pharm%22%3A%20null%2C%20%22week_tech%22%3A%20null%7D%2C%20%22type%22%3A%20%22Feature%22%7D%5D%2C%20%22type%22%3A%20%22FeatureCollection%22%7D%29%3B%0A%0A%20%20%20%20%20%20%20%20%0A%20%20%20%20%0A%20%20%20%20geo_json_f0c59457714f4881bec2960070b7a002.bindTooltip%28%0A%20%20%20%20function%28layer%29%7B%0A%20%20%20%20let%20div%20%3D%20L.DomUtil.create%28%27div%27%29%3B%0A%20%20%20%20%0A%20%20%20%20let%20handleObject%20%3D%20feature%3D%3Etypeof%28feature%29%3D%3D%27object%27%20%3F%20JSON.stringify%28feature%29%20%3A%20feature%3B%0A%20%20%20%20let%20fields%20%3D%20%5B%22pharmid%22%2C%20%22pharmacy_name%22%2C%20%22type%22%2C%20%22address%22%2C%20%22state%22%2C%20%22lat%22%2C%20%22lon%22%2C%20%22week_open%22%2C%20%22week_close%22%2C%20%22week_pharm%22%2C%20%22week_tech%22%2C%20%22sat_open%22%2C%20%22sat_close%22%2C%20%22sat_pharm%22%2C%20%22sat_tech%22%2C%20%22sun_open%22%2C%20%22sun_close%22%2C%20%22sun_pharm%22%2C%20%22sun_tech%22%5D%3B%0A%20%20%20%20let%20aliases%20%3D%20%5B%22pharmid%22%2C%20%22pharmacy_name%22%2C%20%22type%22%2C%20%22address%22%2C%20%22state%22%2C%20%22lat%22%2C%20%22lon%22%2C%20%22week_open%22%2C%20%22week_close%22%2C%20%22week_pharm%22%2C%20%22week_tech%22%2C%20%22sat_open%22%2C%20%22sat_close%22%2C%20%22sat_pharm%22%2C%20%22sat_tech%22%2C%20%22sun_open%22%2C%20%22sun_close%22%2C%20%22sun_pharm%22%2C%20%22sun_tech%22%5D%3B%0A%20%20%20%20let%20table%20%3D%20%27%3Ctable%3E%27%20%2B%0A%20%20%20%20%20%20%20%20String%28%0A%20%20%20%20%20%20%20%20fields.map%28%0A%20%20%20%20%20%20%20%20%28v%2Ci%29%3D%3E%0A%20%20%20%20%20%20%20%20%60%3Ctr%3E%0A%20%20%20%20%20%20%20%20%20%20%20%20%3Cth%3E%24%7Baliases%5Bi%5D%7D%3C/th%3E%0A%20%20%20%20%20%20%20%20%20%20%20%20%0A%20%20%20%20%20%20%20%20%20%20%20%20%3Ctd%3E%24%7BhandleObject%28layer.feature.properties%5Bv%5D%29%7D%3C/td%3E%0A%20%20%20%20%20%20%20%20%3C/tr%3E%60%29.join%28%27%27%29%29%0A%20%20%20%20%2B%27%3C/table%3E%27%3B%0A%20%20%20%20div.innerHTML%3Dtable%3B%0A%20%20%20%20%0A%20%20%20%20return%20div%0A%20%20%20%20%7D%0A%20%20%20%20%2C%7B%22className%22%3A%20%22foliumtooltip%22%2C%20%22sticky%22%3A%20true%7D%29%3B%0A%20%20%20%20%20%20%20%20%20%20%20%20%20%20%20%20%20%20%20%20%20%0A%3C/script%3E onload=\"this.contentDocument.open();this.contentDocument.write(    decodeURIComponent(this.getAttribute('data-html')));this.contentDocument.close();\" allowfullscreen webkitallowfullscreen mozallowfullscreen></iframe></div></div>"
      ],
      "text/plain": [
       "<folium.folium.Map at 0x7f1f5ae94df0>"
      ]
     },
     "execution_count": 11,
     "metadata": {},
     "output_type": "execute_result"
    }
   ],
   "source": [
    "pharmacies.explore()"
   ]
  },
  {
   "cell_type": "markdown",
   "metadata": {},
   "source": [
    "### Generate and Plot Map of Hospitals"
   ]
  },
  {
   "cell_type": "code",
   "execution_count": null,
   "metadata": {
    "scrolled": true
   },
   "outputs": [],
   "source": [
    "# Plot pharmacy data (maybe use .explore function)\n",
    "m = folium.Map(location=[41.85, -87.65], tiles='cartodbpositron', zoom_start=10)\n",
    "for i in range(0, len(hospitals)):\n",
    "    folium.CircleMarker(\n",
    "      location=[hospitals.iloc[i]['Y'], hospitals.iloc[i]['X']],\n",
    "      popup=\"{}{}\\n{}{}\\n{}{}\".format('Hospital Name: ',hospitals.iloc[i]['Hospital'],\n",
    "                                      'ICU Beds: ',hospitals.iloc[i]['Adult ICU'],\n",
    "                                      'Ventilators: ', hospitals.iloc[i]['Total Vent']),\n",
    "      radius=5,\n",
    "      color='blue',\n",
    "      fill=True,\n",
    "      fill_opacity=0.6,\n",
    "      legend_name = 'Hospitals'\n",
    "    ).add_to(m)\n",
    "legend_html =   '''<div style=\"position: fixed; width: 20%; heigh: auto;\n",
    "                            bottom: 10px; left: 10px;\n",
    "                            solid grey; z-index:9999; font-size:14px;\n",
    "                            \">&nbsp; Legend<br>'''\n",
    "\n",
    "m"
   ]
  },
  {
   "cell_type": "markdown",
   "metadata": {},
   "source": [
    "### Load the Road Network\n",
    "\n",
    "If `Vermont_Network_Buffer.graphml` does not already exist, this cell will query the road network from OpenStreetMap.  \n",
    "\n",
    "Each of the road network code blocks may take a few mintues to run."
   ]
  },
  {
   "cell_type": "code",
   "execution_count": 6,
   "metadata": {},
   "outputs": [
    {
     "name": "stdout",
     "output_type": "stream",
     "text": [
      "Loading buffered Vermont road network from OpenStreetMap. Please wait... runtime may exceed 9min...\n",
      "Saving Vermont road network to raw/private/Vermont_Network_Buffer.graphml. Please wait...\n",
      "Data saved.\n",
      "CPU times: user 7min 42s, sys: 11.5 s, total: 7min 53s\n",
      "Wall time: 7min 57s\n"
     ]
    }
   ],
   "source": [
    "%%time\n",
    "\n",
    "# To create a new graph from OpenStreetMap, delete or rename data/raw/private/Vermont_Network_Buffer.graphml\n",
    "# (if it exists), and set OSM to True\n",
    "OSM = False\n",
    "\n",
    "# Define the place name for Vermont\n",
    "place_name_vermont = 'Vermont, USA'\n",
    "\n",
    "# if buffered street network is not saved, and OSM is preferred, generate a new graph from OpenStreetMap and save it\n",
    "if not os.path.exists(\"./data/raw/private/Vermont_Network_Buffer.graphml\") and OSM:\n",
    "    print(\"Loading buffered Vermont road network from OpenStreetMap. Please wait... runtime may exceed 9min...\", flush=True)\n",
    "    G = ox.graph_from_place('Vermont', network_type='drive', buffer_dist=16093.4) \n",
    "    print(\"Saving Vermont road network to raw/private/Vermont_Network_Buffer.graphml. Please wait...\", flush=True)\n",
    "    ox.save_graphml(G, './data/raw/private/Vermont_Network_Buffer.graphml')\n",
    "    print(\"Data saved.\")\n",
    "    \n",
    "# otherwise, if buffered street network is not saved, download graph from the OSF project\n",
    "elif not os.path.exists(\"./data/raw/private/Vermont_Network_Buffer.graphml\"):\n",
    "    print(\"Downloading buffered Vermont road network from OSF...\", flush=True)\n",
    "    url = 'https://osf.io/download/65a6bf5aa246ff0cd5dd3ee8/'  \n",
    "    r = requests.get(url, allow_redirects=True)\n",
    "    print(\"Saving buffered Vermont road network to file...\", flush=True)\n",
    "    open('./data/raw/private/Vermont_Network_Buffer.graphml', 'wb').write(r.content)\n",
    "    \n",
    "# load the saved network graph\n",
    "if os.path.exists(\"./data/raw/private/Vermont_Network_Buffer.graphml\"):\n",
    "    print(\"Loading buffered Vermont road network from raw/private/Vermont_Network_Buffer.graphml. Please wait...\", flush=True)\n",
    "    G = ox.load_graphml('./data/raw/private/Vermont_Network_Buffer.graphml') \n",
    "    print(\"Data loaded.\") \n",
    "else:\n",
    "    print(\"Error: could not load the road network from file.\")"
   ]
  },
  {
   "cell_type": "markdown",
   "metadata": {
    "tags": []
   },
   "source": [
    "### Plot the Road Network"
   ]
  },
  {
   "cell_type": "code",
   "execution_count": null,
   "metadata": {},
   "outputs": [],
   "source": [
    "%%time\n",
    "ox.plot_graph(G, node_size = 1, bgcolor = 'white', node_color = 'black', edge_color = \"#333333\", node_alpha = 0.5, edge_linewidth = 0.5)"
   ]
  },
  {
   "cell_type": "markdown",
   "metadata": {
    "tags": []
   },
   "source": [
    "#### Check speed limits and highway types\n",
    "\n",
    "Display all the unique speed limit values and count how many network edges (road segments) have each value.\n",
    "We will compare this to our cleaned network later."
   ]
  },
  {
   "cell_type": "code",
   "execution_count": 13,
   "metadata": {},
   "outputs": [
    {
     "name": "stdout",
     "output_type": "stream",
     "text": [
      "182688 edges in graph\n",
      "25 mph                                              5463\n",
      "30 mph                                              4746\n",
      "35 mph                                              3599\n",
      "50 mph                                              2396\n",
      "40 mph                                              2225\n",
      "55 mph                                              1130\n",
      "45 mph                                               881\n",
      "65 mph                                               375\n",
      "[40 mph, 50 mph]                                     214\n",
      "20 mph                                               192\n",
      "90                                                   160\n",
      "50                                                   143\n",
      "[35 mph, 50 mph]                                      86\n",
      "[25 mph, 35 mph]                                      83\n",
      "[30 mph, 40 mph]                                      74\n",
      "[40 mph, 30 mph]                                      72\n",
      "[35 mph, 40 mph]                                      69\n",
      "[40 mph, 35 mph]                                      69\n",
      "15 mph                                                58\n",
      "80                                                    57\n",
      "[50 mph, 45 mph]                                      48\n",
      "70                                                    48\n",
      "10 mph                                                44\n",
      "[40 mph, 45 mph]                                      44\n",
      "[30 mph, 35 mph]                                      42\n",
      "[30 mph, 50 mph]                                      41\n",
      "[25 mph, 30 mph]                                      38\n",
      "[35 mph, 30 mph]                                      38\n",
      "[40 mph, 55 mph]                                      36\n",
      "100                                                   36\n",
      "30                                                    36\n",
      "[30 mph, 45 mph]                                      34\n",
      "[35 mph, 45 mph]                                      32\n",
      "[25 mph, 40 mph]                                      28\n",
      "[45 mph, 55 mph]                                      26\n",
      "[55 mph, 45 mph]                                      25\n",
      "70 mph                                                24\n",
      "[35 mph, 55 mph]                                      18\n",
      "[30 mph, 55 mph]                                      18\n",
      "60 mph                                                16\n",
      "[40 mph, 50 mph, 35 mph]                              14\n",
      "[50 mph, 35 mph, 40 mph]                              14\n",
      "[50 mph, 55 mph]                                      14\n",
      "[30 mph, 20 mph]                                      14\n",
      "5 mph                                                 12\n",
      "[30, 15 mph]                                          11\n",
      "40                                                    10\n",
      "[40 mph, 50 mph, 30 mph]                              10\n",
      "60                                                    10\n",
      "[55 mph, 65 mph]                                      10\n",
      "[25 mph, 45 mph]                                      10\n",
      "[25 mph, 50 mph]                                       8\n",
      "[50 mph, 30 mph, 40 mph]                               7\n",
      "[40 mph, 50 mph, 45 mph]                               6\n",
      "[25 mph, 40 mph, 30 mph]                               5\n",
      "[30 mph, 35 mph, 45 mph]                               4\n",
      "[40 mph, 20 mph]                                       4\n",
      "[25 mph, 5 mph]                                        4\n",
      "[90, 50]                                               4\n",
      "[25 mph, 40 mph, 50 mph]                               3\n",
      "[30 mph, 50 mph, 40 mph]                               3\n",
      "[25 mph, 40 mph, 35 mph]                               3\n",
      "[25 mph, 35 mph, 40 mph]                               3\n",
      "[25 mph, 35 mph, 30 mph]                               3\n",
      "[50 mph, 30 mph, 35 mph]                               3\n",
      "[35 mph, 50 mph, 30 mph]                               3\n",
      "[100, 50]                                              3\n",
      "[40, 70]                                               2\n",
      "[70, 50]                                               2\n",
      "[80, 50]                                               2\n",
      "[40, 80]                                               2\n",
      "[40 mph, 35 mph, 30 mph]                               2\n",
      "[35 mph, 15 mph]                                       2\n",
      "[10 mph, 35 mph]                                       2\n",
      "[30 mph, 35 mph, 40 mph]                               2\n",
      "15                                                     2\n",
      "[65 mph, 70 mph]                                       2\n",
      "[50 mph, 25 mph, 40 mph]                               2\n",
      "[40 mph, 45 mph, 25 mph, 30 mph, 35 mph]               2\n",
      "[40 mph, 45 mph, 25 mph, 30 mph, 35 mph, 15 mph]       2\n",
      "[30 mph, 40 mph, 45 mph]                               2\n",
      "[40 mph, 45 mph, 30 mph]                               2\n",
      "[30 mph, 50 mph, 35 mph]                               2\n",
      "[35 mph, 20 mph, 30 mph]                               2\n",
      "[30 mph, 35 mph, 20 mph]                               2\n",
      "[30 mph, 40 mph, 35 mph]                               2\n",
      "[35 mph, 50 mph, 45 mph]                               2\n",
      "[35 mph, 45 mph, 30 mph]                               2\n",
      "[35 mph, 40 mph, 30 mph]                               2\n",
      "[25 mph, 20 mph]                                       2\n",
      "[100, 70]                                              2\n",
      "[35 mph, 20 mph]                                       2\n",
      "[50 mph, 25 mph, 35 mph]                               1\n",
      "[50 mph, 30 mph, 35 mph, 40 mph]                       1\n",
      "[25 mph, 40 mph, 50 mph, 35 mph]                       1\n",
      "[50 mph, 25 mph, 35 mph, 40 mph]                       1\n",
      "[55 mph, 15 mph]                                       1\n",
      "[25 mph, 35 mph, 50 mph]                               1\n",
      "[55 mph, 30 mph, 45 mph]                               1\n",
      "[45 mph, 55 mph, 30 mph]                               1\n",
      "[40 mph, 15, 65 mph]                                   1\n",
      "[40 mph, 15 mph]                                       1\n",
      "[30, 50]                                               1\n",
      "[40 mph, 50 mph, 30 mph, 35 mph]                       1\n",
      "[25 mph, 50 mph, 40 mph]                               1\n",
      "[55 mph, 60 mph]                                       1\n",
      "[35 mph, 40 mph, 55 mph]                               1\n",
      "[35 mph, 40 mph, 45 mph]                               1\n",
      "[50 mph, 35 mph, 40 mph, 55 mph]                       1\n",
      "[25 mph, 35 mph, 45 mph, 40 mph]                       1\n",
      "[25 mph, 30 mph, 35 mph]                               1\n",
      "[40 mph, 35 mph, 45 mph]                               1\n",
      "[30 mph, 35 mph, 55 mph]                               1\n",
      "[40 mph, 35 mph, 55 mph]                               1\n",
      "[40 mph, 50 mph, 55 mph, 35 mph]                       1\n",
      "[35 mph, 55 mph, 30 mph]                               1\n",
      "[25 mph, 40 mph, 35 mph, 45 mph]                       1\n",
      "[50 mph, 25 mph, 40 mph, 30 mph]                       1\n",
      "[25 mph, 40 mph, 50 mph, 30 mph]                       1\n",
      "5                                                      1\n",
      "[25 mph, 30 mph, 40 mph]                               1\n",
      "CPU times: user 10.4 s, sys: 0 ns, total: 10.4 s\n",
      "Wall time: 10.4 s\n"
     ]
    }
   ],
   "source": [
    "%%time\n",
    "# Turn network edges into a geodataframe\n",
    "edges = ox.graph_to_gdfs(G, nodes=False, edges=True)\n",
    "\n",
    "# Count frequency of each speed value\n",
    "speed_values = edges['maxspeed'].value_counts()\n",
    "\n",
    "# Ouput number of edges and frequences of speed values\n",
    "print(str(len(edges)) + \" edges in graph\")\n",
    "print(speed_values.to_string())"
   ]
  },
  {
   "cell_type": "markdown",
   "metadata": {},
   "source": [
    "Display all the unique highway types, which are used to impute the speed limits for each category of highway."
   ]
  },
  {
   "cell_type": "code",
   "execution_count": 14,
   "metadata": {},
   "outputs": [
    {
     "name": "stdout",
     "output_type": "stream",
     "text": [
      "residential                              115636\n",
      "unclassified                              20317\n",
      "tertiary                                  16120\n",
      "primary                                   13762\n",
      "secondary                                 11371\n",
      "trunk                                      3216\n",
      "motorway_link                               716\n",
      "motorway                                    482\n",
      "[unclassified, residential]                 442\n",
      "primary_link                                181\n",
      "trunk_link                                  134\n",
      "secondary_link                               70\n",
      "tertiary_link                                64\n",
      "[tertiary, residential]                      50\n",
      "[tertiary, unclassified]                     30\n",
      "[tertiary, secondary]                        24\n",
      "road                                         16\n",
      "escape                                        8\n",
      "[primary, secondary]                          6\n",
      "[road, residential]                           6\n",
      "living_street                                 5\n",
      "[trunk, motorway]                             4\n",
      "[trunk, trunk_link]                           4\n",
      "[tertiary, tertiary_link]                     4\n",
      "rest_area                                     4\n",
      "[primary, trunk]                              3\n",
      "[secondary, residential]                      2\n",
      "[living_street, residential]                  2\n",
      "[tertiary, unclassified, residential]         2\n",
      "[motorway_link, motorway]                     2\n",
      "[secondary, unclassified]                     2\n",
      "[primary, primary_link]                       1\n",
      "[secondary_link, primary_link]                1\n",
      "[secondary, primary_link]                     1\n",
      "Name: highway, dtype: int64\n"
     ]
    }
   ],
   "source": [
    "# view all highway types\n",
    "print(edges['highway'].value_counts())"
   ]
  },
  {
   "cell_type": "markdown",
   "metadata": {},
   "source": [
    "The OSMNx algorithm to impute missing speed limit data assumes that units are kilometers per hour unless the units are specified.\n",
    "Therefore, search for network edges containing speed limit data without units within the United States, where speed limits are defined in miles per hour."
   ]
  },
  {
   "cell_type": "code",
   "execution_count": 15,
   "metadata": {},
   "outputs": [
    {
     "data": {
      "text/html": [
       "<div style=\"width:100%;\"><div style=\"position:relative;width:100%;height:0;padding-bottom:60%;\"><span style=\"color:#565656\">Make this Notebook Trusted to load map: File -> Trust Notebook</span><iframe src=\"about:blank\" style=\"position:absolute;width:100%;height:100%;left:0;top:0;border:none !important;\" data-html=%3C%21DOCTYPE%20html%3E%0A%3Chead%3E%20%20%20%20%0A%20%20%20%20%3Cmeta%20http-equiv%3D%22content-type%22%20content%3D%22text/html%3B%20charset%3DUTF-8%22%20/%3E%0A%20%20%20%20%0A%20%20%20%20%20%20%20%20%3Cscript%3E%0A%20%20%20%20%20%20%20%20%20%20%20%20L_NO_TOUCH%20%3D%20false%3B%0A%20%20%20%20%20%20%20%20%20%20%20%20L_DISABLE_3D%20%3D%20false%3B%0A%20%20%20%20%20%20%20%20%3C/script%3E%0A%20%20%20%20%0A%20%20%20%20%3Cstyle%3Ehtml%2C%20body%20%7Bwidth%3A%20100%25%3Bheight%3A%20100%25%3Bmargin%3A%200%3Bpadding%3A%200%3B%7D%3C/style%3E%0A%20%20%20%20%3Cstyle%3E%23map%20%7Bposition%3Aabsolute%3Btop%3A0%3Bbottom%3A0%3Bright%3A0%3Bleft%3A0%3B%7D%3C/style%3E%0A%20%20%20%20%3Cscript%20src%3D%22https%3A//cdn.jsdelivr.net/npm/leaflet%401.6.0/dist/leaflet.js%22%3E%3C/script%3E%0A%20%20%20%20%3Cscript%20src%3D%22https%3A//code.jquery.com/jquery-1.12.4.min.js%22%3E%3C/script%3E%0A%20%20%20%20%3Cscript%20src%3D%22https%3A//maxcdn.bootstrapcdn.com/bootstrap/3.2.0/js/bootstrap.min.js%22%3E%3C/script%3E%0A%20%20%20%20%3Cscript%20src%3D%22https%3A//cdnjs.cloudflare.com/ajax/libs/Leaflet.awesome-markers/2.0.2/leaflet.awesome-markers.js%22%3E%3C/script%3E%0A%20%20%20%20%3Clink%20rel%3D%22stylesheet%22%20href%3D%22https%3A//cdn.jsdelivr.net/npm/leaflet%401.6.0/dist/leaflet.css%22/%3E%0A%20%20%20%20%3Clink%20rel%3D%22stylesheet%22%20href%3D%22https%3A//maxcdn.bootstrapcdn.com/bootstrap/3.2.0/css/bootstrap.min.css%22/%3E%0A%20%20%20%20%3Clink%20rel%3D%22stylesheet%22%20href%3D%22https%3A//maxcdn.bootstrapcdn.com/bootstrap/3.2.0/css/bootstrap-theme.min.css%22/%3E%0A%20%20%20%20%3Clink%20rel%3D%22stylesheet%22%20href%3D%22https%3A//maxcdn.bootstrapcdn.com/font-awesome/4.6.3/css/font-awesome.min.css%22/%3E%0A%20%20%20%20%3Clink%20rel%3D%22stylesheet%22%20href%3D%22https%3A//cdnjs.cloudflare.com/ajax/libs/Leaflet.awesome-markers/2.0.2/leaflet.awesome-markers.css%22/%3E%0A%20%20%20%20%3Clink%20rel%3D%22stylesheet%22%20href%3D%22https%3A//cdn.jsdelivr.net/gh/python-visualization/folium/folium/templates/leaflet.awesome.rotate.min.css%22/%3E%0A%20%20%20%20%0A%20%20%20%20%20%20%20%20%20%20%20%20%3Cmeta%20name%3D%22viewport%22%20content%3D%22width%3Ddevice-width%2C%0A%20%20%20%20%20%20%20%20%20%20%20%20%20%20%20%20initial-scale%3D1.0%2C%20maximum-scale%3D1.0%2C%20user-scalable%3Dno%22%20/%3E%0A%20%20%20%20%20%20%20%20%20%20%20%20%3Cstyle%3E%0A%20%20%20%20%20%20%20%20%20%20%20%20%20%20%20%20%23map_a630c23d75e04a0493295b5a3a66f188%20%7B%0A%20%20%20%20%20%20%20%20%20%20%20%20%20%20%20%20%20%20%20%20position%3A%20relative%3B%0A%20%20%20%20%20%20%20%20%20%20%20%20%20%20%20%20%20%20%20%20width%3A%20100.0%25%3B%0A%20%20%20%20%20%20%20%20%20%20%20%20%20%20%20%20%20%20%20%20height%3A%20100.0%25%3B%0A%20%20%20%20%20%20%20%20%20%20%20%20%20%20%20%20%20%20%20%20left%3A%200.0%25%3B%0A%20%20%20%20%20%20%20%20%20%20%20%20%20%20%20%20%20%20%20%20top%3A%200.0%25%3B%0A%20%20%20%20%20%20%20%20%20%20%20%20%20%20%20%20%7D%0A%20%20%20%20%20%20%20%20%20%20%20%20%3C/style%3E%0A%20%20%20%20%20%20%20%20%0A%20%20%20%20%0A%20%20%20%20%20%20%20%20%20%20%20%20%20%20%20%20%20%20%20%20%3Cstyle%3E%0A%20%20%20%20%20%20%20%20%20%20%20%20%20%20%20%20%20%20%20%20%20%20%20%20.foliumtooltip%20%7B%0A%20%20%20%20%20%20%20%20%20%20%20%20%20%20%20%20%20%20%20%20%20%20%20%20%20%20%20%20%0A%20%20%20%20%20%20%20%20%20%20%20%20%20%20%20%20%20%20%20%20%20%20%20%20%7D%0A%20%20%20%20%20%20%20%20%20%20%20%20%20%20%20%20%20%20%20%20%20%20%20.foliumtooltip%20table%7B%0A%20%20%20%20%20%20%20%20%20%20%20%20%20%20%20%20%20%20%20%20%20%20%20%20%20%20%20%20margin%3A%20auto%3B%0A%20%20%20%20%20%20%20%20%20%20%20%20%20%20%20%20%20%20%20%20%20%20%20%20%7D%0A%20%20%20%20%20%20%20%20%20%20%20%20%20%20%20%20%20%20%20%20%20%20%20%20.foliumtooltip%20tr%7B%0A%20%20%20%20%20%20%20%20%20%20%20%20%20%20%20%20%20%20%20%20%20%20%20%20%20%20%20%20text-align%3A%20left%3B%0A%20%20%20%20%20%20%20%20%20%20%20%20%20%20%20%20%20%20%20%20%20%20%20%20%7D%0A%20%20%20%20%20%20%20%20%20%20%20%20%20%20%20%20%20%20%20%20%20%20%20%20.foliumtooltip%20th%7B%0A%20%20%20%20%20%20%20%20%20%20%20%20%20%20%20%20%20%20%20%20%20%20%20%20%20%20%20%20padding%3A%202px%3B%20padding-right%3A%208px%3B%0A%20%20%20%20%20%20%20%20%20%20%20%20%20%20%20%20%20%20%20%20%20%20%20%20%7D%0A%20%20%20%20%20%20%20%20%20%20%20%20%20%20%20%20%20%20%20%20%3C/style%3E%0A%20%20%20%20%20%20%20%20%20%20%20%20%0A%3C/head%3E%0A%3Cbody%3E%20%20%20%20%0A%20%20%20%20%0A%20%20%20%20%20%20%20%20%20%20%20%20%3Cdiv%20class%3D%22folium-map%22%20id%3D%22map_a630c23d75e04a0493295b5a3a66f188%22%20%3E%3C/div%3E%0A%20%20%20%20%20%20%20%20%0A%3C/body%3E%0A%3Cscript%3E%20%20%20%20%0A%20%20%20%20%0A%20%20%20%20%20%20%20%20%20%20%20%20var%20map_a630c23d75e04a0493295b5a3a66f188%20%3D%20L.map%28%0A%20%20%20%20%20%20%20%20%20%20%20%20%20%20%20%20%22map_a630c23d75e04a0493295b5a3a66f188%22%2C%0A%20%20%20%20%20%20%20%20%20%20%20%20%20%20%20%20%7B%0A%20%20%20%20%20%20%20%20%20%20%20%20%20%20%20%20%20%20%20%20center%3A%20%5B43.9844149%2C%20-72.8264345%5D%2C%0A%20%20%20%20%20%20%20%20%20%20%20%20%20%20%20%20%20%20%20%20crs%3A%20L.CRS.EPSG3857%2C%0A%20%20%20%20%20%20%20%20%20%20%20%20%20%20%20%20%20%20%20%20zoom%3A%2010%2C%0A%20%20%20%20%20%20%20%20%20%20%20%20%20%20%20%20%20%20%20%20zoomControl%3A%20true%2C%0A%20%20%20%20%20%20%20%20%20%20%20%20%20%20%20%20%20%20%20%20preferCanvas%3A%20false%2C%0A%20%20%20%20%20%20%20%20%20%20%20%20%20%20%20%20%7D%0A%20%20%20%20%20%20%20%20%20%20%20%20%29%3B%0A%20%20%20%20%20%20%20%20%20%20%20%20L.control.scale%28%29.addTo%28map_a630c23d75e04a0493295b5a3a66f188%29%3B%0A%0A%20%20%20%20%20%20%20%20%20%20%20%20%0A%0A%20%20%20%20%20%20%20%20%0A%20%20%20%20%0A%20%20%20%20%20%20%20%20%20%20%20%20var%20tile_layer_68fab972c532435ca7857bf854c67811%20%3D%20L.tileLayer%28%0A%20%20%20%20%20%20%20%20%20%20%20%20%20%20%20%20%22https%3A//%7Bs%7D.tile.openstreetmap.org/%7Bz%7D/%7Bx%7D/%7By%7D.png%22%2C%0A%20%20%20%20%20%20%20%20%20%20%20%20%20%20%20%20%7B%22attribution%22%3A%20%22Data%20by%20%5Cu0026copy%3B%20%5Cu003ca%20href%3D%5C%22http%3A//openstreetmap.org%5C%22%5Cu003eOpenStreetMap%5Cu003c/a%5Cu003e%2C%20under%20%5Cu003ca%20href%3D%5C%22http%3A//www.openstreetmap.org/copyright%5C%22%5Cu003eODbL%5Cu003c/a%5Cu003e.%22%2C%20%22detectRetina%22%3A%20false%2C%20%22maxNativeZoom%22%3A%2018%2C%20%22maxZoom%22%3A%2018%2C%20%22minZoom%22%3A%200%2C%20%22noWrap%22%3A%20false%2C%20%22opacity%22%3A%201%2C%20%22subdomains%22%3A%20%22abc%22%2C%20%22tms%22%3A%20false%7D%0A%20%20%20%20%20%20%20%20%20%20%20%20%29.addTo%28map_a630c23d75e04a0493295b5a3a66f188%29%3B%0A%20%20%20%20%20%20%20%20%0A%20%20%20%20%0A%20%20%20%20%20%20%20%20%20%20%20%20map_a630c23d75e04a0493295b5a3a66f188.fitBounds%28%0A%20%20%20%20%20%20%20%20%20%20%20%20%20%20%20%20%5B%5B43.2639618%2C%20-73.269614%5D%2C%20%5B44.704868%2C%20-72.383255%5D%5D%2C%0A%20%20%20%20%20%20%20%20%20%20%20%20%20%20%20%20%7B%7D%0A%20%20%20%20%20%20%20%20%20%20%20%20%29%3B%0A%20%20%20%20%20%20%20%20%0A%20%20%20%20%0A%20%20%20%20%20%20%20%20function%20geo_json_d555db30558a47d4a86a3966b2ad208b_styler%28feature%29%20%7B%0A%20%20%20%20%20%20%20%20%20%20%20%20switch%28feature.id%29%20%7B%0A%20%20%20%20%20%20%20%20%20%20%20%20%20%20%20%20default%3A%0A%20%20%20%20%20%20%20%20%20%20%20%20%20%20%20%20%20%20%20%20return%20%7B%22fillOpacity%22%3A%200.5%2C%20%22weight%22%3A%202%7D%3B%0A%20%20%20%20%20%20%20%20%20%20%20%20%7D%0A%20%20%20%20%20%20%20%20%7D%0A%20%20%20%20%20%20%20%20function%20geo_json_d555db30558a47d4a86a3966b2ad208b_highlighter%28feature%29%20%7B%0A%20%20%20%20%20%20%20%20%20%20%20%20switch%28feature.id%29%20%7B%0A%20%20%20%20%20%20%20%20%20%20%20%20%20%20%20%20default%3A%0A%20%20%20%20%20%20%20%20%20%20%20%20%20%20%20%20%20%20%20%20return%20%7B%22fillOpacity%22%3A%200.75%7D%3B%0A%20%20%20%20%20%20%20%20%20%20%20%20%7D%0A%20%20%20%20%20%20%20%20%7D%0A%20%20%20%20%20%20%20%20function%20geo_json_d555db30558a47d4a86a3966b2ad208b_pointToLayer%28feature%2C%20latlng%29%20%7B%0A%20%20%20%20%20%20%20%20%20%20%20%20var%20opts%20%3D%20%7B%22bubblingMouseEvents%22%3A%20true%2C%20%22color%22%3A%20%22%233388ff%22%2C%20%22dashArray%22%3A%20null%2C%20%22dashOffset%22%3A%20null%2C%20%22fill%22%3A%20true%2C%20%22fillColor%22%3A%20%22%233388ff%22%2C%20%22fillOpacity%22%3A%200.2%2C%20%22fillRule%22%3A%20%22evenodd%22%2C%20%22lineCap%22%3A%20%22round%22%2C%20%22lineJoin%22%3A%20%22round%22%2C%20%22opacity%22%3A%201.0%2C%20%22radius%22%3A%202%2C%20%22stroke%22%3A%20true%2C%20%22weight%22%3A%203%7D%3B%0A%20%20%20%20%20%20%20%20%20%20%20%20%0A%20%20%20%20%20%20%20%20%20%20%20%20let%20style%20%3D%20geo_json_d555db30558a47d4a86a3966b2ad208b_styler%28feature%29%0A%20%20%20%20%20%20%20%20%20%20%20%20Object.assign%28opts%2C%20style%29%0A%20%20%20%20%20%20%20%20%20%20%20%20%0A%20%20%20%20%20%20%20%20%20%20%20%20return%20new%20L.CircleMarker%28latlng%2C%20opts%29%0A%20%20%20%20%20%20%20%20%7D%0A%0A%20%20%20%20%20%20%20%20function%20geo_json_d555db30558a47d4a86a3966b2ad208b_onEachFeature%28feature%2C%20layer%29%20%7B%0A%20%20%20%20%20%20%20%20%20%20%20%20layer.on%28%7B%0A%20%20%20%20%20%20%20%20%20%20%20%20%20%20%20%20mouseout%3A%20function%28e%29%20%7B%0A%20%20%20%20%20%20%20%20%20%20%20%20%20%20%20%20%20%20%20%20if%28typeof%20e.target.setStyle%20%3D%3D%3D%20%22function%22%29%7B%0A%20%20%20%20%20%20%20%20%20%20%20%20%20%20%20%20%20%20%20%20%20%20%20%20geo_json_d555db30558a47d4a86a3966b2ad208b.resetStyle%28e.target%29%3B%0A%20%20%20%20%20%20%20%20%20%20%20%20%20%20%20%20%20%20%20%20%7D%0A%20%20%20%20%20%20%20%20%20%20%20%20%20%20%20%20%7D%2C%0A%20%20%20%20%20%20%20%20%20%20%20%20%20%20%20%20mouseover%3A%20function%28e%29%20%7B%0A%20%20%20%20%20%20%20%20%20%20%20%20%20%20%20%20%20%20%20%20if%28typeof%20e.target.setStyle%20%3D%3D%3D%20%22function%22%29%7B%0A%20%20%20%20%20%20%20%20%20%20%20%20%20%20%20%20%20%20%20%20%20%20%20%20const%20highlightStyle%20%3D%20geo_json_d555db30558a47d4a86a3966b2ad208b_highlighter%28e.target.feature%29%0A%20%20%20%20%20%20%20%20%20%20%20%20%20%20%20%20%20%20%20%20%20%20%20%20e.target.setStyle%28highlightStyle%29%3B%0A%20%20%20%20%20%20%20%20%20%20%20%20%20%20%20%20%20%20%20%20%7D%0A%20%20%20%20%20%20%20%20%20%20%20%20%20%20%20%20%7D%2C%0A%20%20%20%20%20%20%20%20%20%20%20%20%7D%29%3B%0A%20%20%20%20%20%20%20%20%7D%3B%0A%20%20%20%20%20%20%20%20var%20geo_json_d555db30558a47d4a86a3966b2ad208b%20%3D%20L.geoJson%28null%2C%20%7B%0A%20%20%20%20%20%20%20%20%20%20%20%20%20%20%20%20onEachFeature%3A%20geo_json_d555db30558a47d4a86a3966b2ad208b_onEachFeature%2C%0A%20%20%20%20%20%20%20%20%20%20%20%20%0A%20%20%20%20%20%20%20%20%20%20%20%20%20%20%20%20style%3A%20geo_json_d555db30558a47d4a86a3966b2ad208b_styler%2C%0A%20%20%20%20%20%20%20%20%20%20%20%20%20%20%20%20pointToLayer%3A%20geo_json_d555db30558a47d4a86a3966b2ad208b_pointToLayer%0A%20%20%20%20%20%20%20%20%7D%29%3B%0A%0A%20%20%20%20%20%20%20%20function%20geo_json_d555db30558a47d4a86a3966b2ad208b_add%20%28data%29%20%7B%0A%20%20%20%20%20%20%20%20%20%20%20%20geo_json_d555db30558a47d4a86a3966b2ad208b%0A%20%20%20%20%20%20%20%20%20%20%20%20%20%20%20%20.addData%28data%29%0A%20%20%20%20%20%20%20%20%20%20%20%20%20%20%20%20.addTo%28map_a630c23d75e04a0493295b5a3a66f188%29%3B%0A%20%20%20%20%20%20%20%20%7D%0A%20%20%20%20%20%20%20%20%20%20%20%20geo_json_d555db30558a47d4a86a3966b2ad208b_add%28%7B%22bbox%22%3A%20%5B-73.269614%2C%2043.2639618%2C%20-72.383255%2C%2044.704868%5D%2C%20%22features%22%3A%20%5B%7B%22bbox%22%3A%20%5B-72.3840594%2C%2044.6657264%2C%20-72.38371%2C%2044.665958%5D%2C%20%22geometry%22%3A%20%7B%22coordinates%22%3A%20%5B%5B-72.38371%2C%2044.665958%5D%2C%20%5B-72.3840594%2C%2044.6657264%5D%5D%2C%20%22type%22%3A%20%22LineString%22%7D%2C%20%22id%22%3A%20%22%28204831583%2C%20204831584%2C%200%29%22%2C%20%22properties%22%3A%20%7B%22access%22%3A%20null%2C%20%22bridge%22%3A%20null%2C%20%22highway%22%3A%20%22unclassified%22%2C%20%22junction%22%3A%20null%2C%20%22lanes%22%3A%20null%2C%20%22length%22%3A%2037.772%2C%20%22maxspeed%22%3A%20%2250%22%2C%20%22name%22%3A%20%22Post%20Road%22%2C%20%22oneway%22%3A%20false%2C%20%22osmid%22%3A%2019712723%2C%20%22ref%22%3A%20null%2C%20%22speed_kph%22%3A%2050.0%2C%20%22travel_time%22%3A%202.7%2C%20%22tunnel%22%3A%20null%2C%20%22width%22%3A%20null%7D%2C%20%22type%22%3A%20%22Feature%22%7D%2C%20%7B%22bbox%22%3A%20%5B-72.383753%2C%2044.665958%2C%20-72.38371%2C%2044.666567%5D%2C%20%22geometry%22%3A%20%7B%22coordinates%22%3A%20%5B%5B-72.38371%2C%2044.665958%5D%2C%20%5B-72.383753%2C%2044.666351%5D%2C%20%5B-72.383747%2C%2044.666567%5D%5D%2C%20%22type%22%3A%20%22LineString%22%7D%2C%20%22id%22%3A%20%22%28204831583%2C%20204844143%2C%200%29%22%2C%20%22properties%22%3A%20%7B%22access%22%3A%20%22yes%22%2C%20%22bridge%22%3A%20null%2C%20%22highway%22%3A%20%22unclassified%22%2C%20%22junction%22%3A%20null%2C%20%22lanes%22%3A%20null%2C%20%22length%22%3A%2067.855%2C%20%22maxspeed%22%3A%20%2250%22%2C%20%22name%22%3A%20%22Wylie%20Hill%20Road%22%2C%20%22oneway%22%3A%20false%2C%20%22osmid%22%3A%20970231142%2C%20%22ref%22%3A%20null%2C%20%22speed_kph%22%3A%2050.0%2C%20%22travel_time%22%3A%204.9%2C%20%22tunnel%22%3A%20null%2C%20%22width%22%3A%20null%7D%2C%20%22type%22%3A%20%22Feature%22%7D%2C%20%7B%22bbox%22%3A%20%5B-72.38371%2C%2044.6652785%2C%20-72.3836604%2C%2044.665958%5D%2C%20%22geometry%22%3A%20%7B%22coordinates%22%3A%20%5B%5B-72.38371%2C%2044.665958%5D%2C%20%5B-72.383664%2C%2044.665645%5D%2C%20%5B-72.3836604%2C%2044.6652785%5D%5D%2C%20%22type%22%3A%20%22LineString%22%7D%2C%20%22id%22%3A%20%22%28204831583%2C%20204844137%2C%200%29%22%2C%20%22properties%22%3A%20%7B%22access%22%3A%20%22yes%22%2C%20%22bridge%22%3A%20null%2C%20%22highway%22%3A%20%22unclassified%22%2C%20%22junction%22%3A%20null%2C%20%22lanes%22%3A%20null%2C%20%22length%22%3A%2075.74799999999999%2C%20%22maxspeed%22%3A%20%2250%22%2C%20%22name%22%3A%20%22Wylie%20Hill%20Road%22%2C%20%22oneway%22%3A%20false%2C%20%22osmid%22%3A%20970231142%2C%20%22ref%22%3A%20null%2C%20%22speed_kph%22%3A%2050.0%2C%20%22travel_time%22%3A%205.5%2C%20%22tunnel%22%3A%20null%2C%20%22width%22%3A%20null%7D%2C%20%22type%22%3A%20%22Feature%22%7D%2C%20%7B%22bbox%22%3A%20%5B-72.3840594%2C%2044.6657264%2C%20-72.38371%2C%2044.665958%5D%2C%20%22geometry%22%3A%20%7B%22coordinates%22%3A%20%5B%5B-72.3840594%2C%2044.6657264%5D%2C%20%5B-72.38371%2C%2044.665958%5D%5D%2C%20%22type%22%3A%20%22LineString%22%7D%2C%20%22id%22%3A%20%22%28204831584%2C%20204831583%2C%200%29%22%2C%20%22properties%22%3A%20%7B%22access%22%3A%20null%2C%20%22bridge%22%3A%20null%2C%20%22highway%22%3A%20%22unclassified%22%2C%20%22junction%22%3A%20null%2C%20%22lanes%22%3A%20null%2C%20%22length%22%3A%2037.772%2C%20%22maxspeed%22%3A%20%2250%22%2C%20%22name%22%3A%20%22Post%20Road%22%2C%20%22oneway%22%3A%20false%2C%20%22osmid%22%3A%2019712723%2C%20%22ref%22%3A%20null%2C%20%22speed_kph%22%3A%2050.0%2C%20%22travel_time%22%3A%202.7%2C%20%22tunnel%22%3A%20null%2C%20%22width%22%3A%20null%7D%2C%20%22type%22%3A%20%22Feature%22%7D%2C%20%7B%22bbox%22%3A%20%5B-72.403879%2C%2044.657693%2C%20-72.3840594%2C%2044.6657264%5D%2C%20%22geometry%22%3A%20%7B%22coordinates%22%3A%20%5B%5B-72.3840594%2C%2044.6657264%5D%2C%20%5B-72.384205%2C%2044.66562%5D%2C%20%5B-72.384609%2C%2044.665328%5D%2C%20%5B-72.385009%2C%2044.665024%5D%2C%20%5B-72.385317%2C%2044.664833%5D%2C%20%5B-72.385642%2C%2044.664676%5D%2C%20%5B-72.385976%2C%2044.664569%5D%2C%20%5B-72.386529%2C%2044.664433%5D%2C%20%5B-72.386664%2C%2044.664389%5D%2C%20%5B-72.386794%2C%2044.664327%5D%2C%20%5B-72.386919%2C%2044.664244%5D%2C%20%5B-72.38714%2C%2044.664051%5D%2C%20%5B-72.387251%2C%2044.663966%5D%2C%20%5B-72.387373%2C%2044.663895%5D%2C%20%5B-72.387502%2C%2044.663833%5D%2C%20%5B-72.387912%2C%2044.663689%5D%2C%20%5B-72.389158%2C%2044.66329%5D%2C%20%5B-72.390408%2C%2044.662897%5D%2C%20%5B-72.390836%2C%2044.662792%5D%2C%20%5B-72.391335%2C%2044.662678%5D%2C%20%5B-72.391611%2C%2044.662592%5D%2C%20%5B-72.391945%2C%2044.662467%5D%2C%20%5B-72.392152%2C%2044.662396%5D%2C%20%5B-72.392576%2C%2044.662263%5D%2C%20%5B-72.392714%2C%2044.662209%5D%2C%20%5B-72.392847%2C%2044.662137%5D%2C%20%5B-72.393006%2C%2044.662013%5D%2C%20%5B-72.393104%2C%2044.661904%5D%2C%20%5B-72.393233%2C%2044.661724%5D%2C%20%5B-72.393664%2C%2044.661051%5D%2C%20%5B-72.393896%2C%2044.660592%5D%2C%20%5B-72.394095%2C%2044.660125%5D%2C%20%5B-72.394319%2C%2044.659665%5D%2C%20%5B-72.394535%2C%2044.659371%5D%2C%20%5B-72.394981%2C%2044.658913%5D%2C%20%5B-72.39519%2C%2044.658718%5D%2C%20%5B-72.395306%2C%2044.65863%5D%2C%20%5B-72.395436%2C%2044.658552%5D%2C%20%5B-72.395494%2C%2044.658524%5D%2C%20%5B-72.39557%2C%2044.658504%5D%2C%20%5B-72.395781%2C%2044.65847%5D%2C%20%5B-72.396497%2C%2044.658412%5D%2C%20%5B-72.396641%2C%2044.658396%5D%2C%20%5B-72.396784%2C%2044.658375%5D%2C%20%5B-72.3976244%2C%2044.6582017%5D%2C%20%5B-72.3977027%2C%2044.6581994%5D%2C%20%5B-72.3978124%2C%2044.658182%5D%2C%20%5B-72.3979634%2C%2044.6581568%5D%2C%20%5B-72.398617%2C%2044.658058%5D%2C%20%5B-72.399257%2C%2044.657944%5D%2C%20%5B-72.3997781%2C%2044.6578607%5D%2C%20%5B-72.400114%2C%2044.657807%5D%2C%20%5B-72.400682%2C%2044.657735%5D%2C%20%5B-72.400839%2C%2044.657724%5D%2C%20%5B-72.40118%2C%2044.657699%5D%2C%20%5B-72.401613%2C%2044.657693%5D%2C%20%5B-72.401831%2C%2044.657716%5D%2C%20%5B-72.402189%2C%2044.657801%5D%2C%20%5B-72.402569%2C%2044.657937%5D%2C%20%5B-72.402958%2C%2044.658093%5D%2C%20%5B-72.403449%2C%2044.658282%5D%2C%20%5B-72.403521%2C%2044.6583%5D%2C%20%5B-72.403879%2C%2044.658363%5D%5D%2C%20%22type%22%3A%20%22LineString%22%7D%2C%20%22id%22%3A%20%22%28204831584%2C%20204831643%2C%200%29%22%2C%20%22properties%22%3A%20%7B%22access%22%3A%20null%2C%20%22bridge%22%3A%20%22yes%22%2C%20%22highway%22%3A%20%22unclassified%22%2C%20%22junction%22%3A%20null%2C%20%22lanes%22%3A%20null%2C%20%22length%22%3A%201962.4070000000008%2C%20%22maxspeed%22%3A%20%2250%22%2C%20%22name%22%3A%20%22Post%20Road%22%2C%20%22oneway%22%3A%20false%2C%20%22osmid%22%3A%20%5B235716651%2C%2019712723%2C%20235716660%5D%2C%20%22ref%22%3A%20null%2C%20%22speed_kph%22%3A%2050.0%2C%20%22travel_time%22%3A%20141.3%2C%20%22tunnel%22%3A%20null%2C%20%22width%22%3A%20null%7D%2C%20%22type%22%3A%20%22Feature%22%7D%2C%20%7B%22bbox%22%3A%20%5B-72.403879%2C%2044.657693%2C%20-72.3840594%2C%2044.6657264%5D%2C%20%22geometry%22%3A%20%7B%22coordinates%22%3A%20%5B%5B-72.403879%2C%2044.658363%5D%2C%20%5B-72.403521%2C%2044.6583%5D%2C%20%5B-72.403449%2C%2044.658282%5D%2C%20%5B-72.402958%2C%2044.658093%5D%2C%20%5B-72.402569%2C%2044.657937%5D%2C%20%5B-72.402189%2C%2044.657801%5D%2C%20%5B-72.401831%2C%2044.657716%5D%2C%20%5B-72.401613%2C%2044.657693%5D%2C%20%5B-72.40118%2C%2044.657699%5D%2C%20%5B-72.400839%2C%2044.657724%5D%2C%20%5B-72.400682%2C%2044.657735%5D%2C%20%5B-72.400114%2C%2044.657807%5D%2C%20%5B-72.3997781%2C%2044.6578607%5D%2C%20%5B-72.399257%2C%2044.657944%5D%2C%20%5B-72.398617%2C%2044.658058%5D%2C%20%5B-72.3979634%2C%2044.6581568%5D%2C%20%5B-72.3978124%2C%2044.658182%5D%2C%20%5B-72.3977027%2C%2044.6581994%5D%2C%20%5B-72.3976244%2C%2044.6582017%5D%2C%20%5B-72.396784%2C%2044.658375%5D%2C%20%5B-72.396641%2C%2044.658396%5D%2C%20%5B-72.396497%2C%2044.658412%5D%2C%20%5B-72.395781%2C%2044.65847%5D%2C%20%5B-72.39557%2C%2044.658504%5D%2C%20%5B-72.395494%2C%2044.658524%5D%2C%20%5B-72.395436%2C%2044.658552%5D%2C%20%5B-72.395306%2C%2044.65863%5D%2C%20%5B-72.39519%2C%2044.658718%5D%2C%20%5B-72.394981%2C%2044.658913%5D%2C%20%5B-72.394535%2C%2044.659371%5D%2C%20%5B-72.394319%2C%2044.659665%5D%2C%20%5B-72.394095%2C%2044.660125%5D%2C%20%5B-72.393896%2C%2044.660592%5D%2C%20%5B-72.393664%2C%2044.661051%5D%2C%20%5B-72.393233%2C%2044.661724%5D%2C%20%5B-72.393104%2C%2044.661904%5D%2C%20%5B-72.393006%2C%2044.662013%5D%2C%20%5B-72.392847%2C%2044.662137%5D%2C%20%5B-72.392714%2C%2044.662209%5D%2C%20%5B-72.392576%2C%2044.662263%5D%2C%20%5B-72.392152%2C%2044.662396%5D%2C%20%5B-72.391945%2C%2044.662467%5D%2C%20%5B-72.391611%2C%2044.662592%5D%2C%20%5B-72.391335%2C%2044.662678%5D%2C%20%5B-72.390836%2C%2044.662792%5D%2C%20%5B-72.390408%2C%2044.662897%5D%2C%20%5B-72.389158%2C%2044.66329%5D%2C%20%5B-72.387912%2C%2044.663689%5D%2C%20%5B-72.387502%2C%2044.663833%5D%2C%20%5B-72.387373%2C%2044.663895%5D%2C%20%5B-72.387251%2C%2044.663966%5D%2C%20%5B-72.38714%2C%2044.664051%5D%2C%20%5B-72.386919%2C%2044.664244%5D%2C%20%5B-72.386794%2C%2044.664327%5D%2C%20%5B-72.386664%2C%2044.664389%5D%2C%20%5B-72.386529%2C%2044.664433%5D%2C%20%5B-72.385976%2C%2044.664569%5D%2C%20%5B-72.385642%2C%2044.664676%5D%2C%20%5B-72.385317%2C%2044.664833%5D%2C%20%5B-72.385009%2C%2044.665024%5D%2C%20%5B-72.384609%2C%2044.665328%5D%2C%20%5B-72.384205%2C%2044.66562%5D%2C%20%5B-72.3840594%2C%2044.6657264%5D%5D%2C%20%22type%22%3A%20%22LineString%22%7D%2C%20%22id%22%3A%20%22%28204831643%2C%20204831584%2C%200%29%22%2C%20%22properties%22%3A%20%7B%22access%22%3A%20null%2C%20%22bridge%22%3A%20%22yes%22%2C%20%22highway%22%3A%20%22unclassified%22%2C%20%22junction%22%3A%20null%2C%20%22lanes%22%3A%20null%2C%20%22length%22%3A%201962.4069999999995%2C%20%22maxspeed%22%3A%20%2250%22%2C%20%22name%22%3A%20%22Post%20Road%22%2C%20%22oneway%22%3A%20false%2C%20%22osmid%22%3A%20%5B235716651%2C%20235716660%2C%2019712723%5D%2C%20%22ref%22%3A%20null%2C%20%22speed_kph%22%3A%2050.0%2C%20%22travel_time%22%3A%20141.3%2C%20%22tunnel%22%3A%20null%2C%20%22width%22%3A%20null%7D%2C%20%22type%22%3A%20%22Feature%22%7D%2C%20%7B%22bbox%22%3A%20%5B-72.38371%2C%2044.6652785%2C%20-72.3836604%2C%2044.665958%5D%2C%20%22geometry%22%3A%20%7B%22coordinates%22%3A%20%5B%5B-72.3836604%2C%2044.6652785%5D%2C%20%5B-72.383664%2C%2044.665645%5D%2C%20%5B-72.38371%2C%2044.665958%5D%5D%2C%20%22type%22%3A%20%22LineString%22%7D%2C%20%22id%22%3A%20%22%28204844137%2C%20204831583%2C%200%29%22%2C%20%22properties%22%3A%20%7B%22access%22%3A%20%22yes%22%2C%20%22bridge%22%3A%20null%2C%20%22highway%22%3A%20%22unclassified%22%2C%20%22junction%22%3A%20null%2C%20%22lanes%22%3A%20null%2C%20%22length%22%3A%2075.74799999999999%2C%20%22maxspeed%22%3A%20%2250%22%2C%20%22name%22%3A%20%22Wylie%20Hill%20Road%22%2C%20%22oneway%22%3A%20false%2C%20%22osmid%22%3A%20970231142%2C%20%22ref%22%3A%20null%2C%20%22speed_kph%22%3A%2050.0%2C%20%22travel_time%22%3A%205.5%2C%20%22tunnel%22%3A%20null%2C%20%22width%22%3A%20null%7D%2C%20%22type%22%3A%20%22Feature%22%7D%2C%20%7B%22bbox%22%3A%20%5B-72.383811%2C%2044.666567%2C%20-72.383747%2C%2044.667032%5D%2C%20%22geometry%22%3A%20%7B%22coordinates%22%3A%20%5B%5B-72.383747%2C%2044.666567%5D%2C%20%5B-72.383811%2C%2044.667032%5D%5D%2C%20%22type%22%3A%20%22LineString%22%7D%2C%20%22id%22%3A%20%22%28204844143%2C%20204844145%2C%200%29%22%2C%20%22properties%22%3A%20%7B%22access%22%3A%20%22yes%22%2C%20%22bridge%22%3A%20null%2C%20%22highway%22%3A%20%22unclassified%22%2C%20%22junction%22%3A%20null%2C%20%22lanes%22%3A%20null%2C%20%22length%22%3A%2051.953%2C%20%22maxspeed%22%3A%20%2250%22%2C%20%22name%22%3A%20%22Wylie%20Hill%20Road%22%2C%20%22oneway%22%3A%20false%2C%20%22osmid%22%3A%20970231142%2C%20%22ref%22%3A%20null%2C%20%22speed_kph%22%3A%2050.0%2C%20%22travel_time%22%3A%203.7%2C%20%22tunnel%22%3A%20null%2C%20%22width%22%3A%20null%7D%2C%20%22type%22%3A%20%22Feature%22%7D%2C%20%7B%22bbox%22%3A%20%5B-72.383753%2C%2044.665958%2C%20-72.38371%2C%2044.666567%5D%2C%20%22geometry%22%3A%20%7B%22coordinates%22%3A%20%5B%5B-72.383747%2C%2044.666567%5D%2C%20%5B-72.383753%2C%2044.666351%5D%2C%20%5B-72.38371%2C%2044.665958%5D%5D%2C%20%22type%22%3A%20%22LineString%22%7D%2C%20%22id%22%3A%20%22%28204844143%2C%20204831583%2C%200%29%22%2C%20%22properties%22%3A%20%7B%22access%22%3A%20%22yes%22%2C%20%22bridge%22%3A%20null%2C%20%22highway%22%3A%20%22unclassified%22%2C%20%22junction%22%3A%20null%2C%20%22lanes%22%3A%20null%2C%20%22length%22%3A%2067.855%2C%20%22maxspeed%22%3A%20%2250%22%2C%20%22name%22%3A%20%22Wylie%20Hill%20Road%22%2C%20%22oneway%22%3A%20false%2C%20%22osmid%22%3A%20970231142%2C%20%22ref%22%3A%20null%2C%20%22speed_kph%22%3A%2050.0%2C%20%22travel_time%22%3A%204.9%2C%20%22tunnel%22%3A%20null%2C%20%22width%22%3A%20null%7D%2C%20%22type%22%3A%20%22Feature%22%7D%2C%20%7B%22bbox%22%3A%20%5B-72.383811%2C%2044.666567%2C%20-72.383747%2C%2044.667032%5D%2C%20%22geometry%22%3A%20%7B%22coordinates%22%3A%20%5B%5B-72.383811%2C%2044.667032%5D%2C%20%5B-72.383747%2C%2044.666567%5D%5D%2C%20%22type%22%3A%20%22LineString%22%7D%2C%20%22id%22%3A%20%22%28204844145%2C%20204844143%2C%200%29%22%2C%20%22properties%22%3A%20%7B%22access%22%3A%20%22yes%22%2C%20%22bridge%22%3A%20null%2C%20%22highway%22%3A%20%22unclassified%22%2C%20%22junction%22%3A%20null%2C%20%22lanes%22%3A%20null%2C%20%22length%22%3A%2051.953%2C%20%22maxspeed%22%3A%20%2250%22%2C%20%22name%22%3A%20%22Wylie%20Hill%20Road%22%2C%20%22oneway%22%3A%20false%2C%20%22osmid%22%3A%20970231142%2C%20%22ref%22%3A%20null%2C%20%22speed_kph%22%3A%2050.0%2C%20%22travel_time%22%3A%203.7%2C%20%22tunnel%22%3A%20null%2C%20%22width%22%3A%20null%7D%2C%20%22type%22%3A%20%22Feature%22%7D%2C%20%7B%22bbox%22%3A%20%5B-72.384591%2C%2044.667032%2C%20-72.383811%2C%2044.674484%5D%2C%20%22geometry%22%3A%20%7B%22coordinates%22%3A%20%5B%5B-72.383811%2C%2044.667032%5D%2C%20%5B-72.38384%2C%2044.667207%5D%2C%20%5B-72.383997%2C%2044.668509%5D%2C%20%5B-72.3840074%2C%2044.668611%5D%2C%20%5B-72.384173%2C%2044.670236%5D%2C%20%5B-72.384235%2C%2044.670664%5D%2C%20%5B-72.384287%2C%2044.671095%5D%2C%20%5B-72.384397%2C%2044.672172%5D%2C%20%5B-72.384548%2C%2044.673907%5D%2C%20%5B-72.38458%2C%2044.6743358%5D%2C%20%5B-72.384591%2C%2044.674484%5D%5D%2C%20%22type%22%3A%20%22LineString%22%7D%2C%20%22id%22%3A%20%22%28204844145%2C%20204844161%2C%200%29%22%2C%20%22properties%22%3A%20%7B%22access%22%3A%20%22yes%22%2C%20%22bridge%22%3A%20null%2C%20%22highway%22%3A%20%22unclassified%22%2C%20%22junction%22%3A%20null%2C%20%22lanes%22%3A%20null%2C%20%22length%22%3A%20830.999%2C%20%22maxspeed%22%3A%20%2250%22%2C%20%22name%22%3A%20%22Wylie%20Hill%20Road%22%2C%20%22oneway%22%3A%20false%2C%20%22osmid%22%3A%2019713253%2C%20%22ref%22%3A%20null%2C%20%22speed_kph%22%3A%2050.0%2C%20%22travel_time%22%3A%2059.8%2C%20%22tunnel%22%3A%20null%2C%20%22width%22%3A%20null%7D%2C%20%22type%22%3A%20%22Feature%22%7D%2C%20%7B%22bbox%22%3A%20%5B-72.390228%2C%2044.674484%2C%20-72.383255%2C%2044.704868%5D%2C%20%22geometry%22%3A%20%7B%22coordinates%22%3A%20%5B%5B-72.384591%2C%2044.674484%5D%2C%20%5B-72.384647%2C%2044.675805%5D%2C%20%5B-72.384705%2C%2044.676447%5D%2C%20%5B-72.3847267%2C%2044.6768499%5D%2C%20%5B-72.38474%2C%2044.677097%5D%2C%20%5B-72.384758%2C%2044.677531%5D%2C%20%5B-72.384751%2C%2044.677962%5D%2C%20%5B-72.384736%2C%2044.678179%5D%2C%20%5B-72.384637%2C%2044.678827%5D%2C%20%5B-72.384531%2C%2044.679474%5D%2C%20%5B-72.3844536%2C%2044.6800388%5D%2C%20%5B-72.3843238%2C%2044.6809851%5D%2C%20%5B-72.384293%2C%2044.68121%5D%2C%20%5B-72.384243%2C%2044.681649%5D%2C%20%5B-72.384228%2C%2044.6817514%5D%2C%20%5B-72.384183%2C%2044.682059%5D%2C%20%5B-72.383931%2C%2044.683333%5D%2C%20%5B-72.383822%2C%2044.683982%5D%2C%20%5B-72.383706%2C%2044.684633%5D%2C%20%5B-72.383475%2C%2044.6857%5D%2C%20%5B-72.3834121%2C%2044.6862631%5D%2C%20%5B-72.383404%2C%2044.686336%5D%2C%20%5B-72.383344%2C%2044.686981%5D%2C%20%5B-72.383274%2C%2044.687626%5D%2C%20%5B-72.383255%2C%2044.688059%5D%2C%20%5B-72.383282%2C%2044.688492%5D%2C%20%5B-72.383382%2C%2044.689137%5D%2C%20%5B-72.3834016%2C%2044.6897993%5D%2C%20%5B-72.383521%2C%2044.690439%5D%2C%20%5B-72.383549%2C%2044.690869%5D%2C%20%5B-72.383555%2C%2044.691093%5D%2C%20%5B-72.383578%2C%2044.691211%5D%2C%20%5B-72.383585%2C%2044.691244%5D%2C%20%5B-72.383685%2C%2044.691422%5D%2C%20%5B-72.383924%2C%2044.691762%5D%2C%20%5B-72.384134%2C%2044.692148%5D%2C%20%5B-72.384244%2C%2044.692332%5D%2C%20%5B-72.384371%2C%2044.692507%5D%2C%20%5B-72.384459%2C%2044.692701%5D%2C%20%5B-72.384837%2C%2044.693942%5D%2C%20%5B-72.38495%2C%2044.69435%5D%2C%20%5B-72.384978%2C%2044.694558%5D%2C%20%5B-72.384966%2C%2044.694777%5D%2C%20%5B-72.384973%2C%2044.695217%5D%2C%20%5B-72.385024%2C%2044.695633%5D%2C%20%5B-72.385066%2C%2044.695853%5D%2C%20%5B-72.385086%2C%2044.696065%5D%2C%20%5B-72.385097%2C%2044.696272%5D%2C%20%5B-72.385144%2C%2044.696481%5D%2C%20%5B-72.385197%2C%2044.696678%5D%2C%20%5B-72.385267%2C%2044.696884%5D%2C%20%5B-72.38536%2C%2044.697076%5D%2C%20%5B-72.385666%2C%2044.697638%5D%2C%20%5B-72.385994%2C%2044.698208%5D%2C%20%5B-72.386084%2C%2044.69836%5D%2C%20%5B-72.386209%2C%2044.698571%5D%2C%20%5B-72.386306%2C%2044.698763%5D%2C%20%5B-72.386472%2C%2044.699175%5D%2C%20%5B-72.3865065%2C%2044.6992512%5D%2C%20%5B-72.386823%2C%2044.699951%5D%2C%20%5B-72.3869961%2C%2044.7003858%5D%2C%20%5B-72.387143%2C%2044.700755%5D%2C%20%5B-72.387351%2C%2044.701372%5D%2C%20%5B-72.387463%2C%2044.701827%5D%2C%20%5B-72.387507%2C%2044.702005%5D%2C%20%5B-72.387568%2C%2044.702214%5D%2C%20%5B-72.3875932%2C%2044.7022891%5D%2C%20%5B-72.387774%2C%2044.702827%5D%2C%20%5B-72.387859%2C%2044.703031%5D%2C%20%5B-72.387973%2C%2044.703209%5D%2C%20%5B-72.388101%2C%2044.703384%5D%2C%20%5B-72.388206%2C%2044.703573%5D%2C%20%5B-72.388276%2C%2044.703776%5D%2C%20%5B-72.388328%2C%2044.703986%5D%2C%20%5B-72.388398%2C%2044.704188%5D%2C%20%5B-72.388468%2C%2044.704321%5D%2C%20%5B-72.388558%2C%2044.704428%5D%2C%20%5B-72.388613%2C%2044.704463%5D%2C%20%5B-72.388716%2C%2044.704503%5D%2C%20%5B-72.388748%2C%2044.704516%5D%2C%20%5B-72.388945%2C%2044.70455%5D%2C%20%5B-72.389381%2C%2044.704634%5D%2C%20%5B-72.389808%2C%2044.704725%5D%2C%20%5B-72.390051%2C%2044.704787%5D%2C%20%5B-72.390228%2C%2044.704868%5D%5D%2C%20%22type%22%3A%20%22LineString%22%7D%2C%20%22id%22%3A%20%22%28204844161%2C%20204844260%2C%200%29%22%2C%20%22properties%22%3A%20%7B%22access%22%3A%20%22yes%22%2C%20%22bridge%22%3A%20%22yes%22%2C%20%22highway%22%3A%20%22unclassified%22%2C%20%22junction%22%3A%20null%2C%20%22lanes%22%3A%20null%2C%20%22length%22%3A%203542.8089999999997%2C%20%22maxspeed%22%3A%20%2250%22%2C%20%22name%22%3A%20%22Wylie%20Hill%20Road%22%2C%20%22oneway%22%3A%20false%2C%20%22osmid%22%3A%20%5B970231207%2C%2019713253%2C%20970231206%2C%20970231143%5D%2C%20%22ref%22%3A%20null%2C%20%22speed_kph%22%3A%2050.0%2C%20%22travel_time%22%3A%20255.1%2C%20%22tunnel%22%3A%20null%2C%20%22width%22%3A%20null%7D%2C%20%22type%22%3A%20%22Feature%22%7D%2C%20%7B%22bbox%22%3A%20%5B-72.384591%2C%2044.667032%2C%20-72.383811%2C%2044.674484%5D%2C%20%22geometry%22%3A%20%7B%22coordinates%22%3A%20%5B%5B-72.384591%2C%2044.674484%5D%2C%20%5B-72.38458%2C%2044.6743358%5D%2C%20%5B-72.384548%2C%2044.673907%5D%2C%20%5B-72.384397%2C%2044.672172%5D%2C%20%5B-72.384287%2C%2044.671095%5D%2C%20%5B-72.384235%2C%2044.670664%5D%2C%20%5B-72.384173%2C%2044.670236%5D%2C%20%5B-72.3840074%2C%2044.668611%5D%2C%20%5B-72.383997%2C%2044.668509%5D%2C%20%5B-72.38384%2C%2044.667207%5D%2C%20%5B-72.383811%2C%2044.667032%5D%5D%2C%20%22type%22%3A%20%22LineString%22%7D%2C%20%22id%22%3A%20%22%28204844161%2C%20204844145%2C%200%29%22%2C%20%22properties%22%3A%20%7B%22access%22%3A%20%22yes%22%2C%20%22bridge%22%3A%20null%2C%20%22highway%22%3A%20%22unclassified%22%2C%20%22junction%22%3A%20null%2C%20%22lanes%22%3A%20null%2C%20%22length%22%3A%20830.999%2C%20%22maxspeed%22%3A%20%2250%22%2C%20%22name%22%3A%20%22Wylie%20Hill%20Road%22%2C%20%22oneway%22%3A%20false%2C%20%22osmid%22%3A%2019713253%2C%20%22ref%22%3A%20null%2C%20%22speed_kph%22%3A%2050.0%2C%20%22travel_time%22%3A%2059.8%2C%20%22tunnel%22%3A%20null%2C%20%22width%22%3A%20null%7D%2C%20%22type%22%3A%20%22Feature%22%7D%2C%20%7B%22bbox%22%3A%20%5B-72.390228%2C%2044.674484%2C%20-72.383255%2C%2044.704868%5D%2C%20%22geometry%22%3A%20%7B%22coordinates%22%3A%20%5B%5B-72.390228%2C%2044.704868%5D%2C%20%5B-72.390051%2C%2044.704787%5D%2C%20%5B-72.389808%2C%2044.704725%5D%2C%20%5B-72.389381%2C%2044.704634%5D%2C%20%5B-72.388945%2C%2044.70455%5D%2C%20%5B-72.388748%2C%2044.704516%5D%2C%20%5B-72.388716%2C%2044.704503%5D%2C%20%5B-72.388613%2C%2044.704463%5D%2C%20%5B-72.388558%2C%2044.704428%5D%2C%20%5B-72.388468%2C%2044.704321%5D%2C%20%5B-72.388398%2C%2044.704188%5D%2C%20%5B-72.388328%2C%2044.703986%5D%2C%20%5B-72.388276%2C%2044.703776%5D%2C%20%5B-72.388206%2C%2044.703573%5D%2C%20%5B-72.388101%2C%2044.703384%5D%2C%20%5B-72.387973%2C%2044.703209%5D%2C%20%5B-72.387859%2C%2044.703031%5D%2C%20%5B-72.387774%2C%2044.702827%5D%2C%20%5B-72.3875932%2C%2044.7022891%5D%2C%20%5B-72.387568%2C%2044.702214%5D%2C%20%5B-72.387507%2C%2044.702005%5D%2C%20%5B-72.387463%2C%2044.701827%5D%2C%20%5B-72.387351%2C%2044.701372%5D%2C%20%5B-72.387143%2C%2044.700755%5D%2C%20%5B-72.3869961%2C%2044.7003858%5D%2C%20%5B-72.386823%2C%2044.699951%5D%2C%20%5B-72.3865065%2C%2044.6992512%5D%2C%20%5B-72.386472%2C%2044.699175%5D%2C%20%5B-72.386306%2C%2044.698763%5D%2C%20%5B-72.386209%2C%2044.698571%5D%2C%20%5B-72.386084%2C%2044.69836%5D%2C%20%5B-72.385994%2C%2044.698208%5D%2C%20%5B-72.385666%2C%2044.697638%5D%2C%20%5B-72.38536%2C%2044.697076%5D%2C%20%5B-72.385267%2C%2044.696884%5D%2C%20%5B-72.385197%2C%2044.696678%5D%2C%20%5B-72.385144%2C%2044.696481%5D%2C%20%5B-72.385097%2C%2044.696272%5D%2C%20%5B-72.385086%2C%2044.696065%5D%2C%20%5B-72.385066%2C%2044.695853%5D%2C%20%5B-72.385024%2C%2044.695633%5D%2C%20%5B-72.384973%2C%2044.695217%5D%2C%20%5B-72.384966%2C%2044.694777%5D%2C%20%5B-72.384978%2C%2044.694558%5D%2C%20%5B-72.38495%2C%2044.69435%5D%2C%20%5B-72.384837%2C%2044.693942%5D%2C%20%5B-72.384459%2C%2044.692701%5D%2C%20%5B-72.384371%2C%2044.692507%5D%2C%20%5B-72.384244%2C%2044.692332%5D%2C%20%5B-72.384134%2C%2044.692148%5D%2C%20%5B-72.383924%2C%2044.691762%5D%2C%20%5B-72.383685%2C%2044.691422%5D%2C%20%5B-72.383585%2C%2044.691244%5D%2C%20%5B-72.383578%2C%2044.691211%5D%2C%20%5B-72.383555%2C%2044.691093%5D%2C%20%5B-72.383549%2C%2044.690869%5D%2C%20%5B-72.383521%2C%2044.690439%5D%2C%20%5B-72.3834016%2C%2044.6897993%5D%2C%20%5B-72.383382%2C%2044.689137%5D%2C%20%5B-72.383282%2C%2044.688492%5D%2C%20%5B-72.383255%2C%2044.688059%5D%2C%20%5B-72.383274%2C%2044.687626%5D%2C%20%5B-72.383344%2C%2044.686981%5D%2C%20%5B-72.383404%2C%2044.686336%5D%2C%20%5B-72.3834121%2C%2044.6862631%5D%2C%20%5B-72.383475%2C%2044.6857%5D%2C%20%5B-72.383706%2C%2044.684633%5D%2C%20%5B-72.383822%2C%2044.683982%5D%2C%20%5B-72.383931%2C%2044.683333%5D%2C%20%5B-72.384183%2C%2044.682059%5D%2C%20%5B-72.384228%2C%2044.6817514%5D%2C%20%5B-72.384243%2C%2044.681649%5D%2C%20%5B-72.384293%2C%2044.68121%5D%2C%20%5B-72.3843238%2C%2044.6809851%5D%2C%20%5B-72.3844536%2C%2044.6800388%5D%2C%20%5B-72.384531%2C%2044.679474%5D%2C%20%5B-72.384637%2C%2044.678827%5D%2C%20%5B-72.384736%2C%2044.678179%5D%2C%20%5B-72.384751%2C%2044.677962%5D%2C%20%5B-72.384758%2C%2044.677531%5D%2C%20%5B-72.38474%2C%2044.677097%5D%2C%20%5B-72.3847267%2C%2044.6768499%5D%2C%20%5B-72.384705%2C%2044.676447%5D%2C%20%5B-72.384647%2C%2044.675805%5D%2C%20%5B-72.384591%2C%2044.674484%5D%5D%2C%20%22type%22%3A%20%22LineString%22%7D%2C%20%22id%22%3A%20%22%28204844260%2C%20204844161%2C%200%29%22%2C%20%22properties%22%3A%20%7B%22access%22%3A%20%22yes%22%2C%20%22bridge%22%3A%20%22yes%22%2C%20%22highway%22%3A%20%22unclassified%22%2C%20%22junction%22%3A%20null%2C%20%22lanes%22%3A%20null%2C%20%22length%22%3A%203542.8089999999997%2C%20%22maxspeed%22%3A%20%2250%22%2C%20%22name%22%3A%20%22Wylie%20Hill%20Road%22%2C%20%22oneway%22%3A%20false%2C%20%22osmid%22%3A%20%5B19713253%2C%20970231143%2C%20970231206%2C%20970231207%5D%2C%20%22ref%22%3A%20null%2C%20%22speed_kph%22%3A%2050.0%2C%20%22travel_time%22%3A%20255.1%2C%20%22tunnel%22%3A%20null%2C%20%22width%22%3A%20null%7D%2C%20%22type%22%3A%20%22Feature%22%7D%2C%20%7B%22bbox%22%3A%20%5B-72.5999549%2C%2043.2639618%2C%20-72.5980992%2C%2043.264876%5D%2C%20%22geometry%22%3A%20%7B%22coordinates%22%3A%20%5B%5B-72.5999549%2C%2043.264876%5D%2C%20%5B-72.5997134%2C%2043.2646671%5D%2C%20%5B-72.5996247%2C%2043.2645811%5D%2C%20%5B-72.5995363%2C%2043.2645285%5D%2C%20%5B-72.599381%2C%2043.2644585%5D%2C%20%5B-72.5990723%2C%2043.2643305%5D%2C%20%5B-72.598953%2C%2043.2642829%5D%2C%20%5B-72.598596%2C%2043.2641438%5D%2C%20%5B-72.5980992%2C%2043.2639618%5D%5D%2C%20%22type%22%3A%20%22LineString%22%7D%2C%20%22id%22%3A%20%22%28205417354%2C%20205449685%2C%200%29%22%2C%20%22properties%22%3A%20%7B%22access%22%3A%20null%2C%20%22bridge%22%3A%20null%2C%20%22highway%22%3A%20%22residential%22%2C%20%22junction%22%3A%20null%2C%20%22lanes%22%3A%20null%2C%20%22length%22%3A%20183.952%2C%20%22maxspeed%22%3A%20%225%22%2C%20%22name%22%3A%20%22Common%20Street%22%2C%20%22oneway%22%3A%20true%2C%20%22osmid%22%3A%2019753604%2C%20%22ref%22%3A%20null%2C%20%22speed_kph%22%3A%205.0%2C%20%22travel_time%22%3A%20132.4%2C%20%22tunnel%22%3A%20null%2C%20%22width%22%3A%20null%7D%2C%20%22type%22%3A%20%22Feature%22%7D%2C%20%7B%22bbox%22%3A%20%5B-73.24378%2C%2043.323213%2C%20-73.243477%2C%2043.323328%5D%2C%20%22geometry%22%3A%20%7B%22coordinates%22%3A%20%5B%5B-73.243477%2C%2043.323213%5D%2C%20%5B-73.2435704%2C%2043.3232607%5D%2C%20%5B-73.2436717%2C%2043.3232994%5D%2C%20%5B-73.24378%2C%2043.323328%5D%5D%2C%20%22type%22%3A%20%22LineString%22%7D%2C%20%22id%22%3A%20%22%28205166752%2C%20205166754%2C%200%29%22%2C%20%22properties%22%3A%20%7B%22access%22%3A%20null%2C%20%22bridge%22%3A%20null%2C%20%22highway%22%3A%20%22residential%22%2C%20%22junction%22%3A%20null%2C%20%22lanes%22%3A%20null%2C%20%22length%22%3A%2027.807000000000002%2C%20%22maxspeed%22%3A%20%2230%22%2C%20%22name%22%3A%20%22Sawmill%20Road%22%2C%20%22oneway%22%3A%20false%2C%20%22osmid%22%3A%2019734699%2C%20%22ref%22%3A%20null%2C%20%22speed_kph%22%3A%2030.0%2C%20%22travel_time%22%3A%203.3%2C%20%22tunnel%22%3A%20null%2C%20%22width%22%3A%20null%7D%2C%20%22type%22%3A%20%22Feature%22%7D%2C%20%7B%22bbox%22%3A%20%5B-73.24378%2C%2043.323328%2C%20-73.243508%2C%2043.323443%5D%2C%20%22geometry%22%3A%20%7B%22coordinates%22%3A%20%5B%5B-73.24378%2C%2043.323328%5D%2C%20%5B-73.243508%2C%2043.323443%5D%5D%2C%20%22type%22%3A%20%22LineString%22%7D%2C%20%22id%22%3A%20%22%28205166754%2C%20205331970%2C%200%29%22%2C%20%22properties%22%3A%20%7B%22access%22%3A%20null%2C%20%22bridge%22%3A%20null%2C%20%22highway%22%3A%20%22residential%22%2C%20%22junction%22%3A%20null%2C%20%22lanes%22%3A%20null%2C%20%22length%22%3A%2025.449%2C%20%22maxspeed%22%3A%20%2230%22%2C%20%22name%22%3A%20%22Sawmill%20Road%22%2C%20%22oneway%22%3A%20false%2C%20%22osmid%22%3A%20919356354%2C%20%22ref%22%3A%20null%2C%20%22speed_kph%22%3A%2030.0%2C%20%22travel_time%22%3A%203.1%2C%20%22tunnel%22%3A%20null%2C%20%22width%22%3A%20null%7D%2C%20%22type%22%3A%20%22Feature%22%7D%2C%20%7B%22bbox%22%3A%20%5B-73.24378%2C%2043.323213%2C%20-73.243477%2C%2043.323328%5D%2C%20%22geometry%22%3A%20%7B%22coordinates%22%3A%20%5B%5B-73.24378%2C%2043.323328%5D%2C%20%5B-73.2436717%2C%2043.3232994%5D%2C%20%5B-73.2435704%2C%2043.3232607%5D%2C%20%5B-73.243477%2C%2043.323213%5D%5D%2C%20%22type%22%3A%20%22LineString%22%7D%2C%20%22id%22%3A%20%22%28205166754%2C%20205166752%2C%200%29%22%2C%20%22properties%22%3A%20%7B%22access%22%3A%20null%2C%20%22bridge%22%3A%20null%2C%20%22highway%22%3A%20%22residential%22%2C%20%22junction%22%3A%20null%2C%20%22lanes%22%3A%20null%2C%20%22length%22%3A%2027.807000000000002%2C%20%22maxspeed%22%3A%20%2230%22%2C%20%22name%22%3A%20%22Sawmill%20Road%22%2C%20%22oneway%22%3A%20false%2C%20%22osmid%22%3A%2019734699%2C%20%22ref%22%3A%20null%2C%20%22speed_kph%22%3A%2030.0%2C%20%22travel_time%22%3A%203.3%2C%20%22tunnel%22%3A%20null%2C%20%22width%22%3A%20null%7D%2C%20%22type%22%3A%20%22Feature%22%7D%2C%20%7B%22bbox%22%3A%20%5B-73.269614%2C%2043.320372%2C%20-73.24378%2C%2043.324355%5D%2C%20%22geometry%22%3A%20%7B%22coordinates%22%3A%20%5B%5B-73.24378%2C%2043.323328%5D%2C%20%5B-73.243943%2C%2043.323335%5D%2C%20%5B-73.245288%2C%2043.3234998%5D%2C%20%5B-73.2456229%2C%2043.3235526%5D%2C%20%5B-73.246021%2C%2043.323609%5D%2C%20%5B-73.246471%2C%2043.3236589%5D%2C%20%5B-73.2469626%2C%2043.3237135%5D%2C%20%5B-73.2469693%2C%2043.3237142%5D%2C%20%5B-73.247247%2C%2043.323745%5D%2C%20%5B-73.248753%2C%2043.323936%5D%2C%20%5B-73.250256%2C%2043.324093%5D%2C%20%5B-73.251268%2C%2043.324205%5D%2C%20%5B-73.251767%2C%2043.324286%5D%2C%20%5B-73.251914%2C%2043.324324%5D%2C%20%5B-73.252054%2C%2043.324346%5D%2C%20%5B-73.252186%2C%2043.324355%5D%2C%20%5B-73.252691%2C%2043.32432%5D%2C%20%5B-73.252831%2C%2043.324299%5D%2C%20%5B-73.252965%2C%2043.324247%5D%2C%20%5B-73.253075%2C%2043.324139%5D%2C%20%5B-73.253296%2C%2043.323774%5D%2C%20%5B-73.253438%2C%2043.32362%5D%2C%20%5B-73.253614%2C%2043.323499%5D%2C%20%5B-73.254059%2C%2043.323261%5D%2C%20%5B-73.254293%2C%2043.323169%5D%2C%20%5B-73.254388%2C%2043.323089%5D%2C%20%5B-73.254996%2C%2043.322923%5D%2C%20%5B-73.255708%2C%2043.322655%5D%2C%20%5B-73.256142%2C%2043.322504%5D%2C%20%5B-73.257473%2C%2043.321986%5D%2C%20%5B-73.257537%2C%2043.321969%5D%2C%20%5B-73.257824%2C%2043.321927%5D%2C%20%5B-73.25807%2C%2043.321878%5D%2C%20%5B-73.258413%2C%2043.321832%5D%2C%20%5B-73.258794%2C%2043.32183%5D%2C%20%5B-73.259293%2C%2043.321869%5D%2C%20%5B-73.260051%2C%2043.322018%5D%2C%20%5B-73.260315%2C%2043.322085%5D%2C%20%5B-73.260619%2C%2043.322176%5D%2C%20%5B-73.261481%2C%2043.32236%5D%2C%20%5B-73.261828%2C%2043.322484%5D%2C%20%5B-73.261974%2C%2043.322511%5D%2C%20%5B-73.262038%2C%2043.322512%5D%2C%20%5B-73.262126%2C%2043.322501%5D%2C%20%5B-73.262804%2C%2043.322369%5D%2C%20%5B-73.262973%2C%2043.322354%5D%2C%20%5B-73.263689%2C%2043.322357%5D%2C%20%5B-73.263778%2C%2043.322351%5D%2C%20%5B-73.263966%2C%2043.322314%5D%2C%20%5B-73.264896%2C%2043.322053%5D%2C%20%5B-73.265052%2C%2043.321995%5D%2C%20%5B-73.265404%2C%2043.321795%5D%2C%20%5B-73.266661%2C%2043.321161%5D%2C%20%5B-73.266773%2C%2043.321115%5D%2C%20%5B-73.267071%2C%2043.321019%5D%2C%20%5B-73.26751%2C%2043.320906%5D%2C%20%5B-73.268222%2C%2043.320759%5D%2C%20%5B-73.268442%2C%2043.320733%5D%2C%20%5B-73.268655%2C%2043.320681%5D%2C%20%5B-73.269614%2C%2043.320372%5D%5D%2C%20%22type%22%3A%20%22LineString%22%7D%2C%20%22id%22%3A%20%22%28205166754%2C%20221419028%2C%200%29%22%2C%20%22properties%22%3A%20%7B%22access%22%3A%20null%2C%20%22bridge%22%3A%20%22yes%22%2C%20%22highway%22%3A%20%22residential%22%2C%20%22junction%22%3A%20null%2C%20%22lanes%22%3A%20null%2C%20%22length%22%3A%202262.952%2C%20%22maxspeed%22%3A%20%2230%22%2C%20%22name%22%3A%20%22Sawmill%20Road%22%2C%20%22oneway%22%3A%20false%2C%20%22osmid%22%3A%20%5B20626912%2C%20919356354%2C%20919356355%2C%2019745651%5D%2C%20%22ref%22%3A%20null%2C%20%22speed_kph%22%3A%2030.0%2C%20%22travel_time%22%3A%20271.6%2C%20%22tunnel%22%3A%20null%2C%20%22width%22%3A%20null%7D%2C%20%22type%22%3A%20%22Feature%22%7D%2C%20%7B%22bbox%22%3A%20%5B-73.24378%2C%2043.323328%2C%20-73.243508%2C%2043.323443%5D%2C%20%22geometry%22%3A%20%7B%22coordinates%22%3A%20%5B%5B-73.243508%2C%2043.323443%5D%2C%20%5B-73.24378%2C%2043.323328%5D%5D%2C%20%22type%22%3A%20%22LineString%22%7D%2C%20%22id%22%3A%20%22%28205331970%2C%20205166754%2C%200%29%22%2C%20%22properties%22%3A%20%7B%22access%22%3A%20null%2C%20%22bridge%22%3A%20null%2C%20%22highway%22%3A%20%22residential%22%2C%20%22junction%22%3A%20null%2C%20%22lanes%22%3A%20null%2C%20%22length%22%3A%2025.449%2C%20%22maxspeed%22%3A%20%2230%22%2C%20%22name%22%3A%20%22Sawmill%20Road%22%2C%20%22oneway%22%3A%20false%2C%20%22osmid%22%3A%20919356354%2C%20%22ref%22%3A%20null%2C%20%22speed_kph%22%3A%2030.0%2C%20%22travel_time%22%3A%203.1%2C%20%22tunnel%22%3A%20null%2C%20%22width%22%3A%20null%7D%2C%20%22type%22%3A%20%22Feature%22%7D%2C%20%7B%22bbox%22%3A%20%5B-73.269614%2C%2043.320372%2C%20-73.24378%2C%2043.324355%5D%2C%20%22geometry%22%3A%20%7B%22coordinates%22%3A%20%5B%5B-73.269614%2C%2043.320372%5D%2C%20%5B-73.268655%2C%2043.320681%5D%2C%20%5B-73.268442%2C%2043.320733%5D%2C%20%5B-73.268222%2C%2043.320759%5D%2C%20%5B-73.26751%2C%2043.320906%5D%2C%20%5B-73.267071%2C%2043.321019%5D%2C%20%5B-73.266773%2C%2043.321115%5D%2C%20%5B-73.266661%2C%2043.321161%5D%2C%20%5B-73.265404%2C%2043.321795%5D%2C%20%5B-73.265052%2C%2043.321995%5D%2C%20%5B-73.264896%2C%2043.322053%5D%2C%20%5B-73.263966%2C%2043.322314%5D%2C%20%5B-73.263778%2C%2043.322351%5D%2C%20%5B-73.263689%2C%2043.322357%5D%2C%20%5B-73.262973%2C%2043.322354%5D%2C%20%5B-73.262804%2C%2043.322369%5D%2C%20%5B-73.262126%2C%2043.322501%5D%2C%20%5B-73.262038%2C%2043.322512%5D%2C%20%5B-73.261974%2C%2043.322511%5D%2C%20%5B-73.261828%2C%2043.322484%5D%2C%20%5B-73.261481%2C%2043.32236%5D%2C%20%5B-73.260619%2C%2043.322176%5D%2C%20%5B-73.260315%2C%2043.322085%5D%2C%20%5B-73.260051%2C%2043.322018%5D%2C%20%5B-73.259293%2C%2043.321869%5D%2C%20%5B-73.258794%2C%2043.32183%5D%2C%20%5B-73.258413%2C%2043.321832%5D%2C%20%5B-73.25807%2C%2043.321878%5D%2C%20%5B-73.257824%2C%2043.321927%5D%2C%20%5B-73.257537%2C%2043.321969%5D%2C%20%5B-73.257473%2C%2043.321986%5D%2C%20%5B-73.256142%2C%2043.322504%5D%2C%20%5B-73.255708%2C%2043.322655%5D%2C%20%5B-73.254996%2C%2043.322923%5D%2C%20%5B-73.254388%2C%2043.323089%5D%2C%20%5B-73.254293%2C%2043.323169%5D%2C%20%5B-73.254059%2C%2043.323261%5D%2C%20%5B-73.253614%2C%2043.323499%5D%2C%20%5B-73.253438%2C%2043.32362%5D%2C%20%5B-73.253296%2C%2043.323774%5D%2C%20%5B-73.253075%2C%2043.324139%5D%2C%20%5B-73.252965%2C%2043.324247%5D%2C%20%5B-73.252831%2C%2043.324299%5D%2C%20%5B-73.252691%2C%2043.32432%5D%2C%20%5B-73.252186%2C%2043.324355%5D%2C%20%5B-73.252054%2C%2043.324346%5D%2C%20%5B-73.251914%2C%2043.324324%5D%2C%20%5B-73.251767%2C%2043.324286%5D%2C%20%5B-73.251268%2C%2043.324205%5D%2C%20%5B-73.250256%2C%2043.324093%5D%2C%20%5B-73.248753%2C%2043.323936%5D%2C%20%5B-73.247247%2C%2043.323745%5D%2C%20%5B-73.2469693%2C%2043.3237142%5D%2C%20%5B-73.2469626%2C%2043.3237135%5D%2C%20%5B-73.246471%2C%2043.3236589%5D%2C%20%5B-73.246021%2C%2043.323609%5D%2C%20%5B-73.2456229%2C%2043.3235526%5D%2C%20%5B-73.245288%2C%2043.3234998%5D%2C%20%5B-73.243943%2C%2043.323335%5D%2C%20%5B-73.24378%2C%2043.323328%5D%5D%2C%20%22type%22%3A%20%22LineString%22%7D%2C%20%22id%22%3A%20%22%28221419028%2C%20205166754%2C%200%29%22%2C%20%22properties%22%3A%20%7B%22access%22%3A%20null%2C%20%22bridge%22%3A%20%22yes%22%2C%20%22highway%22%3A%20%22residential%22%2C%20%22junction%22%3A%20null%2C%20%22lanes%22%3A%20null%2C%20%22length%22%3A%202262.9519999999993%2C%20%22maxspeed%22%3A%20%2230%22%2C%20%22name%22%3A%20%22Sawmill%20Road%22%2C%20%22oneway%22%3A%20false%2C%20%22osmid%22%3A%20%5B20626912%2C%20919356354%2C%2019745651%2C%20919356355%5D%2C%20%22ref%22%3A%20null%2C%20%22speed_kph%22%3A%2030.0%2C%20%22travel_time%22%3A%20271.6%2C%20%22tunnel%22%3A%20null%2C%20%22width%22%3A%20null%7D%2C%20%22type%22%3A%20%22Feature%22%7D%5D%2C%20%22type%22%3A%20%22FeatureCollection%22%7D%29%3B%0A%0A%20%20%20%20%20%20%20%20%0A%20%20%20%20%0A%20%20%20%20geo_json_d555db30558a47d4a86a3966b2ad208b.bindTooltip%28%0A%20%20%20%20function%28layer%29%7B%0A%20%20%20%20let%20div%20%3D%20L.DomUtil.create%28%27div%27%29%3B%0A%20%20%20%20%0A%20%20%20%20let%20handleObject%20%3D%20feature%3D%3Etypeof%28feature%29%3D%3D%27object%27%20%3F%20JSON.stringify%28feature%29%20%3A%20feature%3B%0A%20%20%20%20let%20fields%20%3D%20%5B%22osmid%22%2C%20%22highway%22%2C%20%22oneway%22%2C%20%22length%22%2C%20%22speed_kph%22%2C%20%22travel_time%22%2C%20%22name%22%2C%20%22access%22%2C%20%22lanes%22%2C%20%22width%22%2C%20%22bridge%22%2C%20%22ref%22%2C%20%22maxspeed%22%2C%20%22junction%22%2C%20%22tunnel%22%5D%3B%0A%20%20%20%20let%20aliases%20%3D%20%5B%22osmid%22%2C%20%22highway%22%2C%20%22oneway%22%2C%20%22length%22%2C%20%22speed_kph%22%2C%20%22travel_time%22%2C%20%22name%22%2C%20%22access%22%2C%20%22lanes%22%2C%20%22width%22%2C%20%22bridge%22%2C%20%22ref%22%2C%20%22maxspeed%22%2C%20%22junction%22%2C%20%22tunnel%22%5D%3B%0A%20%20%20%20let%20table%20%3D%20%27%3Ctable%3E%27%20%2B%0A%20%20%20%20%20%20%20%20String%28%0A%20%20%20%20%20%20%20%20fields.map%28%0A%20%20%20%20%20%20%20%20%28v%2Ci%29%3D%3E%0A%20%20%20%20%20%20%20%20%60%3Ctr%3E%0A%20%20%20%20%20%20%20%20%20%20%20%20%3Cth%3E%24%7Baliases%5Bi%5D%7D%3C/th%3E%0A%20%20%20%20%20%20%20%20%20%20%20%20%0A%20%20%20%20%20%20%20%20%20%20%20%20%3Ctd%3E%24%7BhandleObject%28layer.feature.properties%5Bv%5D%29%7D%3C/td%3E%0A%20%20%20%20%20%20%20%20%3C/tr%3E%60%29.join%28%27%27%29%29%0A%20%20%20%20%2B%27%3C/table%3E%27%3B%0A%20%20%20%20div.innerHTML%3Dtable%3B%0A%20%20%20%20%0A%20%20%20%20return%20div%0A%20%20%20%20%7D%0A%20%20%20%20%2C%7B%22className%22%3A%20%22foliumtooltip%22%2C%20%22sticky%22%3A%20true%7D%29%3B%0A%20%20%20%20%20%20%20%20%20%20%20%20%20%20%20%20%20%20%20%20%20%0A%3C/script%3E onload=\"this.contentDocument.open();this.contentDocument.write(    decodeURIComponent(this.getAttribute('data-html')));this.contentDocument.close();\" allowfullscreen webkitallowfullscreen mozallowfullscreen></iframe></div></div>"
      ],
      "text/plain": [
       "<folium.folium.Map at 0x7f6289598340>"
      ]
     },
     "execution_count": 15,
     "metadata": {},
     "output_type": "execute_result"
    }
   ],
   "source": [
    "# find edges with speed values\n",
    "unitless = edges[edges.maxspeed.notna()]\n",
    "\n",
    "# find edges with speed values containing only a number without units\n",
    "unitless = unitless[unitless.maxspeed.str.isnumeric().fillna(False)]\n",
    "\n",
    "# explore unitless edges south of Canadian border (45 degrees latitude)\n",
    "unitless[unitless.bounds['maxy']<45].explore()\n",
    "\n",
    "# 503 road segments contain speed data without units, and these are almost exclusively in Canada.\n",
    "# It hardly seems worthwhile to fix these few segments. "
   ]
  },
  {
   "cell_type": "markdown",
   "metadata": {},
   "source": [
    "Only 503 edges in the network contain speed limit information without units, and very few of these are located within the United States."
   ]
  },
  {
   "cell_type": "markdown",
   "metadata": {
    "tags": []
   },
   "source": [
    "### Process the road network\n",
    "\n",
    "Impute speed limits with `add_edge_speeds` function. "
   ]
  },
  {
   "cell_type": "code",
   "execution_count": null,
   "metadata": {},
   "outputs": [],
   "source": [
    "%%time\n",
    "ox.speed.add_edge_speeds(G)"
   ]
  },
  {
   "cell_type": "markdown",
   "metadata": {},
   "source": [
    "Calculate travel time with the `add_edge_travel_times` function."
   ]
  },
  {
   "cell_type": "code",
   "execution_count": null,
   "metadata": {},
   "outputs": [],
   "source": [
    "%%time\n",
    "ox.speed.add_edge_travel_times(G)"
   ]
  },
  {
   "cell_type": "markdown",
   "metadata": {},
   "source": [
    "Add a point geomerty to each node in the graph, to facilitate constructing catchment area polygons later on."
   ]
  },
  {
   "cell_type": "code",
   "execution_count": null,
   "metadata": {},
   "outputs": [],
   "source": [
    "%%time\n",
    "G = network_setting(G)\n",
    "# Create point geometries for each node in the graph, to make constructing catchment area polygons easier\n",
    "for node, data in G.nodes(data=True):\n",
    "    data['geometry']=Point(data['x'], data['y'])"
   ]
  },
  {
   "cell_type": "markdown",
   "metadata": {},
   "source": [
    "#### Check speed limits\n",
    "Display all the unique speed limit values and count how many network edges (road segments) have each value."
   ]
  },
  {
   "cell_type": "code",
   "execution_count": null,
   "metadata": {},
   "outputs": [],
   "source": [
    "%%time\n",
    "# Turn network edges into a geodataframe\n",
    "edges = ox.graph_to_gdfs(G, nodes=False, edges=True)\n",
    "\n",
    "# Count frequency of each speed value\n",
    "speed_values = edges['speed_kph'].value_counts()\n",
    "\n",
    "# Ouput number of edges and frequences of speed values\n",
    "print(str(len(edges)) + \" edges in graph\")\n",
    "print(speed_values.to_string())"
   ]
  },
  {
   "cell_type": "markdown",
   "metadata": {},
   "source": [
    "Speeds have been imputed and converted to kilometers per hour."
   ]
  },
  {
   "cell_type": "code",
   "execution_count": null,
   "metadata": {},
   "outputs": [],
   "source": [
    "# calculate a color scheme for edges based on speed\n",
    "ec = ox.plot.get_edge_colors_by_attr(G, attr=\"speed_kph\", cmap='viridis')\n",
    "\n",
    "# plot edge speeds\n",
    "fig, ax = ox.plot_graph(G, node_size=0, edge_color=ec, bgcolor=\"white\")\n",
    "\n",
    "# note: the aesthetics of this could be improved!"
   ]
  },
  {
   "cell_type": "markdown",
   "metadata": {},
   "source": [
    "The graph of speed limits looks accurate, with local roads at low speeds and state and federal highways at higher speeds."
   ]
  },
  {
   "cell_type": "markdown",
   "metadata": {
    "tags": []
   },
   "source": [
    "## \"Helper\" Functions\n",
    "\n",
    "These functions are called when the model is run. \n",
    "\n",
    "### hospital_setting\n",
    "\n",
    "Finds the nearest network node for each hospital.\n",
    "\n",
    "Args:\n",
    "\n",
    "* hospital: GeoDataFrame of hospitals\n",
    "* G: OSMNX network\n",
    "\n",
    "Returns:\n",
    "\n",
    "* GeoDataFrame of hospitals with info on nearest network node"
   ]
  },
  {
   "cell_type": "code",
   "execution_count": null,
   "metadata": {},
   "outputs": [],
   "source": [
    "def hospital_setting(hospitals, nodes):\n",
    "    \n",
    "    join = gpd.sjoin_nearest(hospitals, nodes, distance_col=\"distances\")\n",
    "    \n",
    "    #rename column from osmid to nearest_osm, so that it works with other code\n",
    "    join = join.rename(columns={\"osmid\": \"nearest_osm\"})\n",
    "    \n",
    "    ## Some reformatting to get the GDF to look like it did before ##\n",
    "    # Drop columns\n",
    "    columns_to_drop = ['index_right', 'x', 'y', 'highway', 'ref', 'distances']\n",
    "    join = join[join.columns[~join.columns.isin(columns_to_drop)]]\n",
    "\n",
    "    return(join)\n"
   ]
  },
  {
   "cell_type": "markdown",
   "metadata": {
    "tags": []
   },
   "source": [
    "### pop_centroid\n",
    "\n",
    "Converts geodata (population at census tract level) to centroids\n",
    "\n",
    "Args:\n",
    "\n",
    "* pop_data: a GeodataFrame\n",
    "* pop_type: a string, either \"pop\" for at-risk population over 50 years old, or \"covid\" for COVID-19 case data\n",
    "\n",
    "Returns:\n",
    "\n",
    "* GeoDataFrame of centroids with population data. Three columns: code, pop, and geometry. Geometry is the centroid of each population. "
   ]
  },
  {
   "cell_type": "code",
   "execution_count": null,
   "metadata": {},
   "outputs": [],
   "source": [
    "def pop_centroid (pop_data, pop_type):\n",
    "\n",
    "    pop_data = pop_data.to_crs({'init': 'epsg:4326'})\n",
    "\n",
    "    #Select at risk pop where population is greater than 0\n",
    "    pop_data=pop_data[pop_data['OverFifty']>=0]\n",
    "    \n",
    "    # replace the geometry with its centroid\n",
    "    pop_data[\"geometry\"] =  pop_data[\"geometry\"].centroid\n",
    "    \n",
    "    # rename columns\n",
    "    pop_data = pop_data.rename(columns={\"GEOID\": \"code\", \"OverFifty\": \"pop\"})\n",
    "    \n",
    "    # keep only code, pop, and geometry columns\n",
    "    pop_data = pop_data[[\"code\", \"pop\", \"geometry\"]]\n",
    "    \n",
    "    return(pop_data)"
   ]
  },
  {
   "cell_type": "markdown",
   "metadata": {
    "tags": []
   },
   "source": [
    "### djikstra_cca_polygons\n",
    "\n",
    "Function written by Joe Holler + Derrick Burt. A more efficient way to calculate distance-weighted catchment areas for each hospital. First, create a dictionary (with a node and its corresponding drive time from the hospital) of all nodes within a 30 minute drive time (using networkx single_cource_dijkstra_path_length function). From here, two more dictionaries are constructed by querying the original one. From these dictionaries, single part convex hulls are created for each drive time interval and appended into a single list (one list with 3 polygon geometries). Within the list, the polygons are differenced from each other to produce three catchment areas.\n",
    "\n",
    "Args:\n",
    "* G: cleaned network graph *with node point geometries attached*\n",
    "* nearest_osm: A unique nearest node ID calculated for a single hospital\n",
    "* distances: 3 distances (in drive time) to calculate catchment areas from\n",
    "* distance_unit: unit to calculate (time)\n",
    "\n",
    "Returns:\n",
    "* A list of 3 differenced (not-overlapping) catchment area polygons (10 min poly, 20 min poly, 30 min poly)"
   ]
  },
  {
   "cell_type": "code",
   "execution_count": null,
   "metadata": {},
   "outputs": [],
   "source": [
    "def dijkstra_cca_polygons(G, nearest_osm, distances, distance_unit = \"travel_time\"):\n",
    "    \n",
    "    ## Distance_unit is given in seconds ##\n",
    "    \n",
    "    ## CREATE DICTIONARIES ##\n",
    "    # create dictionary of nearest nodes\n",
    "    nearest_nodes_30 = nx.single_source_dijkstra_path_length(G, nearest_osm, distances[2], distance_unit) # creating the largest graph from which 10 and 20 minute drive times can be extracted from\n",
    "    \n",
    "    # extract values within 20 and 10 (respectively) minutes drive times\n",
    "    nearest_nodes_20 = dict()\n",
    "    nearest_nodes_10 = dict()\n",
    "    for key, value in nearest_nodes_30.items():\n",
    "        if value <= distances[1]:\n",
    "            nearest_nodes_20[key] = value\n",
    "        if value <= distances[0]:\n",
    "            nearest_nodes_10[key] = value\n",
    "    \n",
    "    ## CREATE POLYGONS FOR 3 DISTANCE CATEGORIES (10 min, 20 min, 30 min) ##\n",
    "    \n",
    "    # 30 MIN\n",
    "    # If the graph already has a geometry attribute with point data,\n",
    "    # this line will create a GeoPandas GeoDataFrame from the nearest_nodes_30 dictionary\n",
    "    points_30 = gpd.GeoDataFrame(gpd.GeoSeries(nx.get_node_attributes(G.subgraph(nearest_nodes_30), 'geometry')))\n",
    "\n",
    "    # This line converts the nearest_nodes_30 dictionary into a Pandas data frame and joins it to points\n",
    "    # left_index=True and right_index=True are options for merge() to join on the index values\n",
    "    points_30 = points_30.merge(pd.Series(nearest_nodes_30).to_frame(), left_index=True, right_index=True)\n",
    "\n",
    "    # Re-name the columns and set the geodataframe geometry to the geometry column\n",
    "    points_30 = points_30.rename(columns={'0_x':'geometry','0_y':'z'}).set_geometry('geometry')\n",
    "\n",
    "    # Create a convex hull polygon from the points\n",
    "    polygon_30 = gpd.GeoDataFrame(gpd.GeoSeries(points_30.unary_union.convex_hull))\n",
    "    polygon_30 = polygon_30.rename(columns={0:'geometry'}).set_geometry('geometry')\n",
    "    \n",
    "    # 20 MIN # 1200 seconds!\n",
    "    # Select nodes less than or equal to 20\n",
    "    points_20 = points_30.query(\"z <= 1200\")\n",
    "    \n",
    "    # Create a convex hull polygon from the points\n",
    "    polygon_20 = gpd.GeoDataFrame(gpd.GeoSeries(points_20.unary_union.convex_hull))\n",
    "    polygon_20 = polygon_20.rename(columns={0:'geometry'}).set_geometry('geometry')\n",
    "    \n",
    "    # 10 MIN # 600 seconds!\n",
    "    # Select nodes less than or equal to 10\n",
    "    points_10 = points_30.query(\"z <= 600\")\n",
    "    \n",
    "    # Create a convex hull polygon from the points\n",
    "    polygon_10 = gpd.GeoDataFrame(gpd.GeoSeries(points_10.unary_union.convex_hull))\n",
    "    polygon_10 = polygon_10.rename(columns={0:'geometry'}).set_geometry('geometry')\n",
    "    \n",
    "    # Create empty list and append polygons\n",
    "    polygons = []\n",
    "    \n",
    "    # Append\n",
    "    polygons.append(polygon_10)\n",
    "    polygons.append(polygon_20)\n",
    "    polygons.append(polygon_30)\n",
    "    \n",
    "    # Clip the overlapping distance ploygons (create two donuts + hole)\n",
    "    for i in reversed(range(1, len(distances))):\n",
    "        polygons[i] = gpd.overlay(polygons[i], polygons[i-1], how=\"difference\")\n",
    "\n",
    "    return polygons"
   ]
  },
  {
   "cell_type": "markdown",
   "metadata": {},
   "source": [
    "### hospital_measure_acc (adjusted to incorporate dijkstra_cca_polygons)\n",
    "\n",
    "Measures the effect of a single hospital on the surrounding area. (Uses `dijkstra_cca_polygons`)\n",
    "\n",
    "Args:\n",
    "\n",
    "* \\_thread\\_id: int used to keep track of which thread this is\n",
    "* hospital: Geopandas dataframe with information on a hospital\n",
    "* pop_data: Geopandas dataframe with population data\n",
    "* distances: Distances in time to calculate accessibility for\n",
    "* weights: how to weight the different travel distances\n",
    "\n",
    "Returns:\n",
    "\n",
    "* Tuple containing:\n",
    "    * Int (\\_thread\\_id)\n",
    "    * GeoDataFrame of catchment areas with key stats"
   ]
  },
  {
   "cell_type": "code",
   "execution_count": null,
   "metadata": {},
   "outputs": [],
   "source": [
    "def hospital_measure_acc (_thread_id, hospital, pop_data, distances, weights):\n",
    "    \n",
    "    # Create polygons\n",
    "    polygons = dijkstra_cca_polygons(G, hospital['nearest_osm'], distances)\n",
    "    \n",
    "    # iterate over pop_data and check if each point is within a polygon\n",
    "    # if so, multiply the pop and weight for that polygon and appends it to num_pops. \n",
    "    num_pops = []\n",
    "    for j in pop_data.index:\n",
    "        point = pop_data['geometry'][j]\n",
    "        # Multiply polygons by weights\n",
    "        for k in range(len(polygons)):\n",
    "            if len(polygons[k]) > 0: # To exclude the weirdo (convex hull is not polygon)\n",
    "                if (point.within(polygons[k].iloc[0][\"geometry\"])):\n",
    "                    num_pops.append(pop_data['pop'][j]*weights[k])  \n",
    "    \n",
    "    # sum all the weighted populations\n",
    "    total_pop = sum(num_pops)\n",
    "    \n",
    "    # update polygons with time, total population, and ICU beds. Set CRS to 4326, then convert to 32616\n",
    "    for i in range(len(distances)):\n",
    "        polygons[i]['time']=distances[i]\n",
    "        polygons[i]['total_pop']=total_pop\n",
    "        polygons[i]['hospital_icu_beds'] = float(hospital['Adult ICU'])/polygons[i]['total_pop'] # proportion of # of beds over pops in 10 mins\n",
    "        polygons[i].crs = { 'init' : 'epsg:4326'}\n",
    "        polygons[i] = polygons[i].to_crs({'init':'epsg:32616'})\n",
    "    \n",
    "    # print the thread ID\n",
    "    print('{:.0f}'.format(_thread_id), end=\" \", flush=True)\n",
    "    \n",
    "    # return a tuple containing the thread ID and a list of copied polygons\n",
    "    return(_thread_id, [ polygon.copy(deep=True) for polygon in polygons ]) "
   ]
  },
  {
   "cell_type": "markdown",
   "metadata": {
    "tags": []
   },
   "source": [
    "### measure_acc_par\n",
    "\n",
    "Parallel implementation of accessibility measurement.\n",
    "\n",
    "Args:\n",
    "\n",
    "* hospitals: Geodataframe of hospitals\n",
    "* pop_data: Geodataframe containing population data\n",
    "* network: OSMNX street network\n",
    "* distances: list of distances to calculate catchments for\n",
    "* weights: list of floats to apply to different catchments\n",
    "* num\\_proc: number of processors to use.\n",
    "\n",
    "Returns:\n",
    "\n",
    "* Geodataframe of catchments with accessibility statistics calculated"
   ]
  },
  {
   "cell_type": "code",
   "execution_count": null,
   "metadata": {},
   "outputs": [],
   "source": [
    "def measure_acc_par (hospitals, pop_data, network, distances, weights, num_proc = 4):\n",
    "    \n",
    "    # initialize catchment list, 3 empty geodataframes\n",
    "    catchments = []\n",
    "    for distance in distances:\n",
    "        catchments.append(gpd.GeoDataFrame())\n",
    "        \n",
    "    # pool = mp.Pool(processes = num_proc)\n",
    "    \n",
    "    # makes a list of all hospital info.  len = 66\n",
    "    # looks like this, except with all info, and for all 66 hospitals\n",
    "    # [[2, Methodist Hospital of Chicago, Chicago], [4, Advocate Christ Medical Center, Oak Lawn]]\n",
    "    hospital_list = [ hospitals.iloc[i] for i in range(len(hospitals)) ]\n",
    "    \n",
    "    print(\"Calculating\", len(hospital_list), \"hospital catchments...\\ncompleted number:\", end=\" \")\n",
    "    \n",
    "    # call hospital_acc_unpacker\n",
    "    # returns a tuple containing the thread ID and a list of copied polygons\n",
    "    #results = pool.map(hospital_acc_unpacker, zip(range(len(hospital_list)), hospital_list, itertools.repeat(pop_data), itertools.repeat(distances), itertools.repeat(weights)))\n",
    "    \n",
    "    results = []  \n",
    "    for i in range(len(hospital_list)): #do from 1 to 66\n",
    "        result = hospital_measure_acc(i, hospital_list[i], pop_data, distances, weights)\n",
    "        results.append(result)\n",
    "\n",
    "    # pool.close()\n",
    "    \n",
    "    # sort and extract the results\n",
    "    results.sort()\n",
    "    results = [ r[1] for r in results ]\n",
    "    \n",
    "    # combine catchment results into the respective GeoDataFrames in the catchments list\n",
    "    for i in range(len(results)):\n",
    "        for j in range(len(distances)):\n",
    "            catchments[j] = catchments[j].append(results[i][j], sort=False)\n",
    "            \n",
    "    return catchments"
   ]
  },
  {
   "cell_type": "markdown",
   "metadata": {},
   "source": [
    "### overlapping_function\n",
    "\n",
    "Calculates how all catchment areas overlap with and affect the accessibility of each grid in our grid file.\n",
    "\n",
    "Args:\n",
    "\n",
    "* grid_file: GeoDataFrame of our grid\n",
    "* catchments: GeoDataFrame of our catchments\n",
    "* service_type: the kind of care being provided (ICU beds vs. ventilators)\n",
    "* weights: the weight to apply to each service type\n",
    "* num\\_proc: the number of processors\n",
    "\n",
    "Returns:\n",
    "\n",
    "* Geodataframe - grid\\_file with calculated stats"
   ]
  },
  {
   "cell_type": "code",
   "execution_count": null,
   "metadata": {},
   "outputs": [],
   "source": [
    "def overlapping_function (grid_file, catchments, service_type, weights, num_proc = 4):\n",
    "\n",
    "    ## Area Weighted Reaggregation\n",
    "        # set weighted to False for original 50% threshold method\n",
    "        # switch to True for area-weighted overlay\n",
    "    weighted = True\n",
    "\n",
    "    # if the value to be calculated is already in the hegaxon grid, delete it\n",
    "    # otherwise, the field name gets a suffix _1 in the overlay step\n",
    "    if resource in list(grid_file.columns.values):\n",
    "        grid_file = grid_file.drop(resource, axis = 1)\n",
    "\n",
    "    # calculate hexagon 'target' areas\n",
    "    grid_file['area'] = grid_file.area\n",
    "\n",
    "    # Intersection overlay of hospital catchments and hexagon grid\n",
    "    print(\"Intersecting hospital catchments with hexagon grid...\")\n",
    "    fragments = gpd.overlay(grid_file, geocatchments, how='intersection')\n",
    "\n",
    "    # Calculate percent coverage of the hexagon by the hospital catchment as\n",
    "    # fragment area / target(hexagon) area\n",
    "    fragments['percent'] = fragments.area / fragments['area']\n",
    "\n",
    "    # if using weighted aggregation... \n",
    "    if weighted:\n",
    "        print(\"Calculating area-weighted value...\")\n",
    "        # multiply the service/population ratio by the distance weight and the percent coverage\n",
    "        fragments['value'] = fragments[resource] * fragments['weight'] * fragments['percent']\n",
    "\n",
    "    # if using the 50% coverage rule for unweighted aggregation...\n",
    "    else:\n",
    "        print(\"Calculating value for hexagons with >=50% overlap...\")\n",
    "        # filter for only the fragments with > 50% coverage by hospital catchment\n",
    "        fragments = fragments[fragments['percent']>=0.5]\n",
    "        # multiply the service/population ration by the distance weight\n",
    "        fragments['value'] = fragments[resource] * fragments['weight']\n",
    "\n",
    "    # select just the hexagon id and value from the fragments,\n",
    "    # group the fragments by the (hexagon) id,\n",
    "    # and sum the values\n",
    "    print(\"Summarizing results by hexagon id...\")\n",
    "    sum_results = fragments[['id', 'value']].groupby(by = ['id']).sum()\n",
    "\n",
    "    # join the results to the hexagon grid_file based on hexagon id\n",
    "    print(\"Joining results to hexagons...\")\n",
    "    results = pd.merge(grid_file, sum_results, how=\"left\", on = \"id\")\n",
    "\n",
    "    # rename value column name to the resource name \n",
    "    return(results.rename(columns = {'value' : resource}))"
   ]
  },
  {
   "cell_type": "markdown",
   "metadata": {},
   "source": [
    "### normalization\n",
    "\n",
    "Normalizes our result (Geodataframe)."
   ]
  },
  {
   "cell_type": "code",
   "execution_count": null,
   "metadata": {},
   "outputs": [],
   "source": [
    "def normalization (result, resource):\n",
    "    result[resource]=(result[resource]-min(result[resource]))/(max(result[resource])-min(result[resource]))\n",
    "    return result"
   ]
  },
  {
   "cell_type": "markdown",
   "metadata": {},
   "source": [
    "### file_import\n",
    "\n",
    "Imports all files we need to run our code and pulls the Illinois network from OSMNX if it is not present (will take a while). \n",
    "\n",
    "**NOTE:** even if we calculate accessibility for just Chicago, we want to use the Illinois network (or at least we should not use the Chicago network) because using the Chicago network will result in hospitals near but outside of Chicago having an infinite distance (unreachable because roads do not extend past Chicago).\n",
    "\n",
    "Args:\n",
    "\n",
    "* pop_type: population type, either \"pop\" for general population or \"covid\" for COVID-19 cases\n",
    "* region: the region to use for our hospital and grid file (\"Chicago\" or \"Illinois\")\n",
    "\n",
    "Returns:\n",
    "\n",
    "* G: OSMNX network\n",
    "* hospitals: Geodataframe of hospitals\n",
    "* grid_file: Geodataframe of grids\n",
    "* pop_data: Geodataframe of population"
   ]
  },
  {
   "cell_type": "code",
   "execution_count": null,
   "metadata": {},
   "outputs": [],
   "source": [
    "def output_map(output_grid, base_map, hospitals, resource):\n",
    "    ax=output_grid.plot(column=resource, cmap='PuBuGn',figsize=(18,12), legend=True, zorder=1)\n",
    "    # Next two lines set bounds for our x- and y-axes because it looks like there's a weird \n",
    "    # Point at the bottom left of the map that's messing up our frame (Maja)\n",
    "    ax.set_xlim([314000, 370000])\n",
    "    ax.set_ylim([540000, 616000])\n",
    "    base_map.plot(ax=ax, facecolor=\"none\", edgecolor='gray', lw=0.1)\n",
    "    hospitals.plot(ax=ax, markersize=10, zorder=1, c='blue')"
   ]
  },
  {
   "cell_type": "markdown",
   "metadata": {},
   "source": [
    "## Run the model\n",
    "\n",
    "Below you can customize the input of the model:\n",
    "\n",
    "* Processor - the number of processors to use\n",
    "* Population - the population to calculate the measure for\n",
    "* Resource - the hospital resource of interest\n",
    "* Hospital - all hospitals or subset to check code"
   ]
  },
  {
   "cell_type": "markdown",
   "metadata": {},
   "source": [
    "### Process population data"
   ]
  },
  {
   "cell_type": "code",
   "execution_count": null,
   "metadata": {
    "tags": []
   },
   "outputs": [],
   "source": [
    "''' \n",
    "To simplify the reanalysis, in variables I will hardcode the use of \n",
    "    4 processors\n",
    "    Population: Population at Risk\n",
    "    Resource: ICU Beds\n",
    "    Hospital: All hospitals\n",
    "'''\n",
    "\n",
    "resource = \"hospital_icu_beds\"\n",
    "num_proc = 4\n",
    "pop_type = \"pop\"\n",
    "\n",
    "## Create centroids for atrisk population at the census tract level\n",
    "pop_data = pop_centroid(atrisk_data, pop_type)    \n",
    "    \n",
    "distances = [600, 1200, 1800] # Distances in travel time (seconds!)\n",
    "weights = [1.0, 0.68, 0.22] # Weights where weights[0] is applied to distances[0]"
   ]
  },
  {
   "cell_type": "code",
   "execution_count": null,
   "metadata": {},
   "outputs": [],
   "source": [
    "pop_data"
   ]
  },
  {
   "cell_type": "markdown",
   "metadata": {},
   "source": [
    "### Process hospital data"
   ]
  },
  {
   "cell_type": "code",
   "execution_count": null,
   "metadata": {},
   "outputs": [],
   "source": [
    "hospitals"
   ]
  },
  {
   "cell_type": "code",
   "execution_count": null,
   "metadata": {},
   "outputs": [],
   "source": [
    "#Finds the nearest network node for each hospital\n",
    "hospitals = hospital_setting(hospitals, nodes)"
   ]
  },
  {
   "cell_type": "code",
   "execution_count": null,
   "metadata": {},
   "outputs": [],
   "source": [
    "hospitals\n"
   ]
  },
  {
   "cell_type": "markdown",
   "metadata": {},
   "source": [
    "### Visualize catchment areas for hospital #4"
   ]
  },
  {
   "cell_type": "code",
   "execution_count": null,
   "metadata": {},
   "outputs": [],
   "source": [
    "# Create point geometries for entire graph\n",
    "\n",
    "# which hospital to visualize? \n",
    "fighosp = 4\n",
    "\n",
    "# Create catchment for hospital 4\n",
    "poly = dijkstra_cca_polygons(G, hospitals['nearest_osm'][fighosp], distances)\n",
    "\n",
    "# Reproject polygons\n",
    "for i in range(len(poly)):\n",
    "    poly[i].crs = { 'init' : 'epsg:4326'}\n",
    "    poly[i] = poly[i].to_crs({'init':'epsg:32616'})\n",
    "\n",
    "# Reproject hospitals \n",
    "hospital_subset = hospitals.iloc[[fighosp]].to_crs(epsg=32616)\n",
    "\n",
    "fig, ax = plt.subplots(figsize=(12,8))\n",
    "\n",
    "min_10 = poly[0].plot(ax=ax, color=\"royalblue\", label=\"10 min drive\")\n",
    "min_20 = poly[1].plot(ax=ax, color=\"cornflowerblue\", label=\"20 min drive\")\n",
    "min_30 = poly[2].plot(ax=ax, color=\"lightsteelblue\", label=\"30 min drive\")\n",
    "\n",
    "hospital_subset.plot(ax=ax, color=\"red\", legend=True, label = \"hospital\")\n",
    "\n",
    "# Add legend\n",
    "ax.legend()"
   ]
  },
  {
   "cell_type": "markdown",
   "metadata": {},
   "source": [
    "### Calculate hospital catchment areas"
   ]
  },
  {
   "cell_type": "code",
   "execution_count": null,
   "metadata": {},
   "outputs": [],
   "source": [
    "%%time\n",
    "\n",
    "catchments = measure_acc_par(hospitals, pop_data, G, distances, weights, num_proc)"
   ]
  },
  {
   "cell_type": "markdown",
   "metadata": {
    "tags": []
   },
   "source": [
    "### Calculate accessibility"
   ]
  },
  {
   "cell_type": "markdown",
   "metadata": {},
   "source": [
    "### Post-process the catchments (for area weighted reaggregation)"
   ]
  },
  {
   "cell_type": "code",
   "execution_count": null,
   "metadata": {},
   "outputs": [],
   "source": [
    "# add weight field to each catchment polygon\n",
    "for i in range(len(weights)):\n",
    "    catchments[i]['weight'] = weights[i]\n",
    "# combine the three sets of catchment polygons into one geodataframe\n",
    "geocatchments = pd.concat([catchments[0], catchments[1], catchments[2]])\n",
    "geocatchments"
   ]
  },
  {
   "cell_type": "markdown",
   "metadata": {},
   "source": [
    "### Area Weighted Reaagregation"
   ]
  },
  {
   "cell_type": "code",
   "execution_count": null,
   "metadata": {},
   "outputs": [],
   "source": [
    "%%time\n",
    "result = overlapping_function(grid_file, catchments, resource, weights, num_proc)"
   ]
  },
  {
   "cell_type": "code",
   "execution_count": null,
   "metadata": {},
   "outputs": [],
   "source": [
    "%%time\n",
    "result = normalization (result, resource)"
   ]
  },
  {
   "cell_type": "markdown",
   "metadata": {},
   "source": [
    "## Results & Discussion\n",
    "\n",
    "Extensive cleaning of unneccesary variables and lines of code that were never called.\n",
    "\n",
    "### Making code more efficient and easier to read with GeoPandas\n",
    "\n",
    "1. Made the __pop_centroid__ function much faster - preciosly took 3:30 to run, now less than a second. Instead of creating an empty GDF and iterating over all of the population geometries, adding data to this new GDF, I just used the native GeoPandas centroid method, replacing the population geometries with centroids, and then dropping other unnecessary columns from atrisk_data. \n",
    "\n",
    "2. Rewrote the __hospital_setting__ function to find each hospital's nearest node using GeoPandas nearest join method. What took 1:20 to run now runs in less than a second. I also cleaned the GDF so that it matched what we were working with before. \n",
    "\n",
    "### Removed parallel processing from two functions. \n",
    "\n",
    "1. __overlapping_function__\n",
    "2. __measure_acc_par__\n",
    "\n",
    "### Theoretical Changes to the methodology\n",
    "\n",
    "Area weighted reaggregation - \n",
    "assigned speeds to the road network using osnmx. \n",
    "\n",
    "### Simplifying Code for future students\n",
    "\n",
    "My greatest contribution to this replication has been the simplification of code and adding documentation to functions. This has made the code much easier for future students to read through and understand, and has not sacrificed processing times. I also made a visual workflow, visualizing the replication study from start to finish, including all data and functions used to manipulate them. \n",
    "\n",
    "Simplifications include:\n",
    "\n",
    "I removed the dropdown menu that allows you to choose between population groups and hospital data. The benefits of this dropdown options were minimal, and it just made the code more confusing to follow and modify. In the form of a dropdown selection, it prevents the study from being one script, and introduces potential error as groups try to replicate eachother, if they are not clear about which choices they made with their mouse in the dropdown. \n",
    "\n",
    "I was able to delete the function __overlap_calc__, after implementing its function into __overlapping_function__ which was implements the area weighted reaggregation.\n",
    "\n",
    "I removed a code block that filtered rows where the \"hospital_icu_beds\" value is infinity, which did not do anything. \n",
    "\n"
   ]
  },
  {
   "cell_type": "markdown",
   "metadata": {
    "tags": []
   },
   "source": [
    "### Accessibility Map"
   ]
  },
  {
   "cell_type": "code",
   "execution_count": null,
   "metadata": {},
   "outputs": [],
   "source": [
    "%%time\n",
    "hospitals = hospitals.to_crs({'init': 'epsg:26971'})\n",
    "result = result.to_crs({'init': 'epsg:26971'})\n",
    "output_map(result, pop_data, hospitals, resource)"
   ]
  },
  {
   "cell_type": "markdown",
   "metadata": {},
   "source": [
    "Classified Accessibility Outputs"
   ]
  },
  {
   "cell_type": "markdown",
   "metadata": {},
   "source": [
    "### Conclusion\n",
    "\n",
    "to be written."
   ]
  },
  {
   "cell_type": "markdown",
   "metadata": {},
   "source": [
    "### References\n",
    "\n",
    "Luo, W., & Qi, Y. (2009). An enhanced two-step floating catchment area (E2SFCA) method for measuring spatial accessibility to primary care physicians. Health & place, 15(4), 1100-1107."
   ]
  }
 ],
 "metadata": {
  "kernelspec": {
   "display_name": "Python 3-0.9.0",
   "language": "python",
   "name": "python3-0.9.0"
  },
  "language_info": {
   "codemirror_mode": {
    "name": "ipython",
    "version": 3
   },
   "file_extension": ".py",
   "mimetype": "text/x-python",
   "name": "python",
   "nbconvert_exporter": "python",
   "pygments_lexer": "ipython3",
   "version": "3.8.12"
  }
 },
 "nbformat": 4,
 "nbformat_minor": 4
}
