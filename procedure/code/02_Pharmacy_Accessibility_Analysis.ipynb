{
 "cells": [
  {
   "cell_type": "markdown",
   "metadata": {
    "tags": []
   },
   "source": [
    "## A Spatio-Temporal Accessibility Analysis of Pharmacy Care in Vermont, USA\n",
    "---\n",
    "\n",
    "Extends and adapts studies *by* Kang, J. Y., A. Michels, F. Lyu, Shaohua Wang, N. Agbodo, V. L. Freeman, and Shaowen Wang. 2020. Rapidly measuring spatial accessibility of COVID-19 healthcare resources: a case study of Illinois, USA. International Journal of Health Geographics 19 (1):1–17. DOI:[10.1186/s12942-020-00229-x](https://ij-healthgeographics.biomedcentral.com/articles/10.1186/s12942-020-00229-x) AND Holler, J., Burt, D., Udoh, K., & Kedron, P. (2022). Reproduction and Reanalysis of Kang et al 2020 Spatial Accessibility of COVID-19 Health Care Resources. https://doi.org/10.17605/OSF.IO/N92V3\n",
    "\n",
    "\n",
    "\n",
    "Authors: Sam Roubin, Joseph Holler, Peter Kedron\n",
    "\n",
    "Reproduction Materials Available at: https://github.com/samroubin/VTPharmacy/tree/main\n",
    "\n",
    "Created: `2024-01-14`\n",
    "Revised: `2023-01-`"
   ]
  },
  {
   "cell_type": "markdown",
   "metadata": {
    "tags": []
   },
   "source": [
    "### Original Data\n",
    "To perform the ESFCA method, three types of data are required, as follows: (1) road network, (2) population, and (3) pharmacy information. The road network can be obtained from the [OpenStreetMap Python Library, called OSMNX](https://github.com/gboeing/osmnx). The population data is available from the US Census Bureau on the [American Community Survey]. Lastly, hospital information available on our GitHub repository: "
   ]
  },
  {
   "cell_type": "markdown",
   "metadata": {},
   "source": [
    "### Modules\n",
    "Import necessary libraries to run this model.\n",
    "See `environment.yml` for the library versions used for this analysis."
   ]
  },
  {
   "cell_type": "code",
   "execution_count": 3,
   "metadata": {},
   "outputs": [
    {
     "name": "stdout",
     "output_type": "stream",
     "text": [
      "numpy==1.22.0\n",
      "pandas==1.3.5\n",
      "geopandas==0.10.2\n",
      "networkx==2.6.3\n",
      "osmnx==1.1.2\n",
      "re==2.2.1\n",
      "folium==0.12.1.post1\n",
      "IPython==8.3.0\n",
      "requests==2.27.1\n"
     ]
    }
   ],
   "source": [
    "# Import modules\n",
    "import numpy as np\n",
    "import pandas as pd\n",
    "import geopandas as gpd\n",
    "import networkx as nx\n",
    "import osmnx as ox\n",
    "import re\n",
    "from shapely.geometry import Point, LineString, Polygon\n",
    "import matplotlib.pyplot as plt\n",
    "from tqdm import tqdm\n",
    "import multiprocessing as mp\n",
    "import folium\n",
    "import itertools\n",
    "import os\n",
    "import time\n",
    "import warnings\n",
    "import IPython\n",
    "import requests\n",
    "from IPython.display import display, clear_output\n",
    "from shapely.ops import nearest_points   #for hospital_setting function\n",
    "\n",
    "warnings.filterwarnings(\"ignore\")\n",
    "print('\\n'.join(f'{m.__name__}=={m.__version__}' for m in globals().values() if getattr(m, '__version__', None)))"
   ]
  },
  {
   "cell_type": "markdown",
   "metadata": {},
   "source": [
    "## Check Directories\n",
    "\n",
    "Because we have restructured the repository for replication, we need to check our working directory and make necessary adjustments."
   ]
  },
  {
   "cell_type": "code",
   "execution_count": 4,
   "metadata": {},
   "outputs": [
    {
     "data": {
      "text/plain": [
       "'/home/jovyan/work/VTPharmacy/procedure/code'"
      ]
     },
     "execution_count": 4,
     "metadata": {},
     "output_type": "execute_result"
    }
   ],
   "source": [
    "# Check working directory\n",
    "os.getcwd()"
   ]
  },
  {
   "cell_type": "code",
   "execution_count": 5,
   "metadata": {},
   "outputs": [
    {
     "data": {
      "text/plain": [
       "'/home/jovyan/work/VTPharmacy'"
      ]
     },
     "execution_count": 5,
     "metadata": {},
     "output_type": "execute_result"
    }
   ],
   "source": [
    "# Use to set work directory properly\n",
    "if os.path.basename(os.getcwd()) == 'code':\n",
    "    os.chdir('../../')\n",
    "os.getcwd()"
   ]
  },
  {
   "cell_type": "markdown",
   "metadata": {},
   "source": [
    "## Load and Visualize Data\n",
    "\n",
    "### Population by VT Town"
   ]
  },
  {
   "cell_type": "markdown",
   "metadata": {},
   "source": [
    "If you would like to use the data generated from the pre-processing scripts, use the following code:\n",
    "\n",
    "```py\n",
    "covid_data = gpd.read_file('./data/raw/public/Pre-Processing/covid_pre-processed.shp')\n",
    "atrisk_data = gpd.read_file('./data/raw/public/Pre-Processing/atrisk_pre-processed.shp')\n",
    "```"
   ]
  },
  {
   "cell_type": "code",
   "execution_count": null,
   "metadata": {},
   "outputs": [],
   "source": [
    "# Read in population by town\n",
    "population_df = pd.read_excel('./data/raw/public/Population/CensusData_Population_2020.xlsx')\n",
    "\n",
    "#population_data = gpd.read_file('./data/raw/public/Population/CensusData_Population_2020.xlsx')\n",
    "\n",
    "population_df.head()"
   ]
  },
  {
   "cell_type": "code",
   "execution_count": null,
   "metadata": {},
   "outputs": [],
   "source": [
    "# Read in covid case data - not using to simplify the study, \n",
    "# but did not want to delete the path in case someone wants to bring this in later.\n",
    "\n",
    "# covid_data = gpd.read_file('./data/raw/public/PopData/Chicago_ZIPCODE.shp')\n",
    "# covid_data['cases'] = covid_data['cases']\n",
    "# covid_data.head()"
   ]
  },
  {
   "cell_type": "markdown",
   "metadata": {},
   "source": [
    "### Load Hospital Data\n",
    "\n",
    "Note that 999 is treated as a \"NULL\"/\"NA\" so these hospitals are filtered out. This data contains the number of ICU beds and ventilators at each hospital."
   ]
  },
  {
   "cell_type": "code",
   "execution_count": null,
   "metadata": {},
   "outputs": [],
   "source": [
    "# Read in hospital data\n",
    "pharmacies = gpd.read_file('./data/raw/public/HospitalData/Chicago_Hospital_Info.shp')\n",
    "hospitals.head()"
   ]
  },
  {
   "cell_type": "markdown",
   "metadata": {},
   "source": [
    "### Generate and Plot Map of Hospitals"
   ]
  },
  {
   "cell_type": "code",
   "execution_count": null,
   "metadata": {
    "scrolled": true
   },
   "outputs": [],
   "source": [
    "# Plot hospital data\n",
    "m = folium.Map(location=[41.85, -87.65], tiles='cartodbpositron', zoom_start=10)\n",
    "for i in range(0, len(hospitals)):\n",
    "    folium.CircleMarker(\n",
    "      location=[hospitals.iloc[i]['Y'], hospitals.iloc[i]['X']],\n",
    "      popup=\"{}{}\\n{}{}\\n{}{}\".format('Hospital Name: ',hospitals.iloc[i]['Hospital'],\n",
    "                                      'ICU Beds: ',hospitals.iloc[i]['Adult ICU'],\n",
    "                                      'Ventilators: ', hospitals.iloc[i]['Total Vent']),\n",
    "      radius=5,\n",
    "      color='blue',\n",
    "      fill=True,\n",
    "      fill_opacity=0.6,\n",
    "      legend_name = 'Hospitals'\n",
    "    ).add_to(m)\n",
    "legend_html =   '''<div style=\"position: fixed; width: 20%; heigh: auto;\n",
    "                            bottom: 10px; left: 10px;\n",
    "                            solid grey; z-index:9999; font-size:14px;\n",
    "                            \">&nbsp; Legend<br>'''\n",
    "\n",
    "m"
   ]
  },
  {
   "cell_type": "markdown",
   "metadata": {},
   "source": [
    "### Load the Road Network\n",
    "\n",
    "If `Vermont_Network_Buffer.graphml` does not already exist, this cell will query the road network from OpenStreetMap.  \n",
    "\n",
    "Each of the road network code blocks may take a few mintues to run."
   ]
  },
  {
   "cell_type": "code",
   "execution_count": 6,
   "metadata": {},
   "outputs": [
    {
     "name": "stdout",
     "output_type": "stream",
     "text": [
      "Loading buffered Vermont road network from OpenStreetMap. Please wait... runtime may exceed 9min...\n",
      "Saving Vermont road network to raw/private/Vermont_Network_Buffer.graphml. Please wait...\n",
      "Data saved.\n",
      "CPU times: user 7min 42s, sys: 11.5 s, total: 7min 53s\n",
      "Wall time: 7min 57s\n"
     ]
    }
   ],
   "source": [
    "%%time\n",
    "\n",
    "# To create a new graph from OpenStreetMap, delete or rename data/raw/private/Vermont_Network_Buffer.graphml\n",
    "# (if it exists), and set OSM to True\n",
    "OSM = False\n",
    "\n",
    "# Define the place name for Vermont\n",
    "place_name_vermont = 'Vermont, USA'\n",
    "\n",
    "# if buffered street network is not saved, and OSM is preferred, generate a new graph from OpenStreetMap and save it\n",
    "if not os.path.exists(\"./data/raw/private/Vermont_Network_Buffer.graphml\") and OSM:\n",
    "    print(\"Loading buffered Vermont road network from OpenStreetMap. Please wait... runtime may exceed 9min...\", flush=True)\n",
    "    G = ox.graph_from_place('Vermont', network_type='drive', buffer_dist=16093.4) \n",
    "    print(\"Saving Vermont road network to raw/private/Vermont_Network_Buffer.graphml. Please wait...\", flush=True)\n",
    "    ox.save_graphml(G, './data/raw/private/Vermont_Network_Buffer.graphml')\n",
    "    print(\"Data saved.\")\n",
    "    \n",
    "# otherwise, if buffered street network is not saved, download graph from the OSF project\n",
    "elif not os.path.exists(\"./data/raw/private/Vermont_Network_Buffer.graphml\"):\n",
    "    print(\"Downloading buffered Vermont road network from OSF...\", flush=True)\n",
    "    url = 'https://osf.io/download/65a6bf5aa246ff0cd5dd3ee8/'  \n",
    "    r = requests.get(url, allow_redirects=True)\n",
    "    print(\"Saving buffered Vermont road network to file...\", flush=True)\n",
    "    open('./data/raw/private/Vermont_Network_Buffer.graphml', 'wb').write(r.content)\n",
    "    \n",
    "# load the saved network graph\n",
    "if os.path.exists(\"./data/raw/private/Vermont_Network_Buffer.graphml\"):\n",
    "    print(\"Loading buffered Vermont road network from raw/private/Vermont_Network_Buffer.graphml. Please wait...\", flush=True)\n",
    "    G = ox.load_graphml('./data/raw/private/Vermont_Network_Buffer.graphml') \n",
    "    print(\"Data loaded.\") \n",
    "else:\n",
    "    print(\"Error: could not load the road network from file.\")"
   ]
  },
  {
   "cell_type": "markdown",
   "metadata": {
    "tags": []
   },
   "source": [
    "### Plot the Road Network"
   ]
  },
  {
   "cell_type": "code",
   "execution_count": null,
   "metadata": {},
   "outputs": [],
   "source": [
    "%%time\n",
    "ox.plot_graph(G, node_size = 1, bgcolor = 'white', node_color = 'black', edge_color = \"#333333\", node_alpha = 0.5, edge_linewidth = 0.5)"
   ]
  },
  {
   "cell_type": "markdown",
   "metadata": {
    "tags": []
   },
   "source": [
    "#### Check speed limits and highway types\n",
    "\n",
    "Display all the unique speed limit values and count how many network edges (road segments) have each value.\n",
    "We will compare this to our cleaned network later."
   ]
  },
  {
   "cell_type": "code",
   "execution_count": null,
   "metadata": {},
   "outputs": [],
   "source": [
    "%%time\n",
    "# Turn network edges into a geodataframe\n",
    "edges = ox.graph_to_gdfs(G, nodes=False, edges=True)\n",
    "\n",
    "# Count frequency of each speed value\n",
    "speed_values = edges['maxspeed'].value_counts()\n",
    "\n",
    "# Ouput number of edges and frequences of speed values\n",
    "print(str(len(edges)) + \" edges in graph\")\n",
    "print(speed_values.to_string())"
   ]
  },
  {
   "cell_type": "markdown",
   "metadata": {},
   "source": [
    "Display all the unique highway types, which are used to impute the speed limits for each category of highway."
   ]
  },
  {
   "cell_type": "code",
   "execution_count": null,
   "metadata": {},
   "outputs": [],
   "source": [
    "# view all highway types\n",
    "print(edges['highway'].value_counts())"
   ]
  },
  {
   "cell_type": "markdown",
   "metadata": {},
   "source": [
    "The OSMNx algorithm to impute missing speed limit data assumes that units are kilometers per hour unless the units are specified.\n",
    "Therefore, search for network edges containing speed limit data without units within the United States, where speed limits are defined in miles per hour."
   ]
  },
  {
   "cell_type": "code",
   "execution_count": null,
   "metadata": {},
   "outputs": [],
   "source": [
    "# find edges with speed values\n",
    "unitless = edges[edges.maxspeed.notna()]\n",
    "\n",
    "# find edges with speed values containing only a number without units\n",
    "unitless = unitless[unitless.maxspeed.str.isnumeric().fillna(False)]\n",
    "\n",
    "# explore unitless edges south of Canadian border (45 degrees latitude)\n",
    "unitless[unitless.bounds['maxy']<45].explore()\n",
    "\n",
    "# 503 road segments contain speed data without units, and these are almost exclusively in Canada.\n",
    "# It hardly seems worthwhile to fix these few segments. "
   ]
  },
  {
   "cell_type": "markdown",
   "metadata": {},
   "source": [
    "Only 503 edges in the network contain speed limit information without units, and very few of these are located within the United States."
   ]
  },
  {
   "cell_type": "markdown",
   "metadata": {
    "tags": []
   },
   "source": [
    "### Process the road network\n",
    "\n",
    "Impute speed limits with `add_edge_speeds` function. "
   ]
  },
  {
   "cell_type": "code",
   "execution_count": null,
   "metadata": {},
   "outputs": [],
   "source": [
    "%%time\n",
    "ox.speed.add_edge_speeds(G)"
   ]
  },
  {
   "cell_type": "markdown",
   "metadata": {},
   "source": [
    "Calculate travel time with the `add_edge_travel_times` function."
   ]
  },
  {
   "cell_type": "code",
   "execution_count": null,
   "metadata": {},
   "outputs": [],
   "source": [
    "%%time\n",
    "ox.speed.add_edge_travel_times(G)"
   ]
  },
  {
   "cell_type": "markdown",
   "metadata": {},
   "source": [
    "Add a point geomerty to each node in the graph, to facilitate constructing catchment area polygons later on."
   ]
  },
  {
   "cell_type": "code",
   "execution_count": null,
   "metadata": {},
   "outputs": [],
   "source": [
    "%%time\n",
    "G = network_setting(G)\n",
    "# Create point geometries for each node in the graph, to make constructing catchment area polygons easier\n",
    "for node, data in G.nodes(data=True):\n",
    "    data['geometry']=Point(data['x'], data['y'])"
   ]
  },
  {
   "cell_type": "markdown",
   "metadata": {},
   "source": [
    "#### Check speed limits\n",
    "Display all the unique speed limit values and count how many network edges (road segments) have each value."
   ]
  },
  {
   "cell_type": "code",
   "execution_count": null,
   "metadata": {},
   "outputs": [],
   "source": [
    "%%time\n",
    "# Turn network edges into a geodataframe\n",
    "edges = ox.graph_to_gdfs(G, nodes=False, edges=True)\n",
    "\n",
    "# Count frequency of each speed value\n",
    "speed_values = edges['speed_kph'].value_counts()\n",
    "\n",
    "# Ouput number of edges and frequences of speed values\n",
    "print(str(len(edges)) + \" edges in graph\")\n",
    "print(speed_values.to_string())"
   ]
  },
  {
   "cell_type": "markdown",
   "metadata": {},
   "source": [
    "Speeds have been imputed and converted to kilometers per hour."
   ]
  },
  {
   "cell_type": "code",
   "execution_count": null,
   "metadata": {},
   "outputs": [],
   "source": [
    "# calculate a color scheme for edges based on speed\n",
    "ec = ox.plot.get_edge_colors_by_attr(G, attr=\"speed_kph\", cmap='viridis')\n",
    "\n",
    "# plot edge speeds\n",
    "fig, ax = ox.plot_graph(G, node_size=0, edge_color=ec, bgcolor=\"white\")\n",
    "\n",
    "# note: the aesthetics of this could be improved!"
   ]
  },
  {
   "cell_type": "markdown",
   "metadata": {},
   "source": [
    "The graph of speed limits looks accurate, with local roads at low speeds and state and federal highways at higher speeds."
   ]
  },
  {
   "cell_type": "markdown",
   "metadata": {
    "tags": []
   },
   "source": [
    "## \"Helper\" Functions\n",
    "\n",
    "These functions are called when the model is run. \n",
    "\n",
    "### hospital_setting\n",
    "\n",
    "Finds the nearest network node for each hospital.\n",
    "\n",
    "Args:\n",
    "\n",
    "* hospital: GeoDataFrame of hospitals\n",
    "* G: OSMNX network\n",
    "\n",
    "Returns:\n",
    "\n",
    "* GeoDataFrame of hospitals with info on nearest network node"
   ]
  },
  {
   "cell_type": "code",
   "execution_count": null,
   "metadata": {},
   "outputs": [],
   "source": [
    "def hospital_setting(hospitals, nodes):\n",
    "    \n",
    "    join = gpd.sjoin_nearest(hospitals, nodes, distance_col=\"distances\")\n",
    "    \n",
    "    #rename column from osmid to nearest_osm, so that it works with other code\n",
    "    join = join.rename(columns={\"osmid\": \"nearest_osm\"})\n",
    "    \n",
    "    ## Some reformatting to get the GDF to look like it did before ##\n",
    "    # Drop columns\n",
    "    columns_to_drop = ['index_right', 'x', 'y', 'highway', 'ref', 'distances']\n",
    "    join = join[join.columns[~join.columns.isin(columns_to_drop)]]\n",
    "\n",
    "    return(join)\n"
   ]
  },
  {
   "cell_type": "markdown",
   "metadata": {
    "tags": []
   },
   "source": [
    "### pop_centroid\n",
    "\n",
    "Converts geodata (population at census tract level) to centroids\n",
    "\n",
    "Args:\n",
    "\n",
    "* pop_data: a GeodataFrame\n",
    "* pop_type: a string, either \"pop\" for at-risk population over 50 years old, or \"covid\" for COVID-19 case data\n",
    "\n",
    "Returns:\n",
    "\n",
    "* GeoDataFrame of centroids with population data. Three columns: code, pop, and geometry. Geometry is the centroid of each population. "
   ]
  },
  {
   "cell_type": "code",
   "execution_count": null,
   "metadata": {},
   "outputs": [],
   "source": [
    "def pop_centroid (pop_data, pop_type):\n",
    "\n",
    "    pop_data = pop_data.to_crs({'init': 'epsg:4326'})\n",
    "\n",
    "    #Select at risk pop where population is greater than 0\n",
    "    pop_data=pop_data[pop_data['OverFifty']>=0]\n",
    "    \n",
    "    # replace the geometry with its centroid\n",
    "    pop_data[\"geometry\"] =  pop_data[\"geometry\"].centroid\n",
    "    \n",
    "    # rename columns\n",
    "    pop_data = pop_data.rename(columns={\"GEOID\": \"code\", \"OverFifty\": \"pop\"})\n",
    "    \n",
    "    # keep only code, pop, and geometry columns\n",
    "    pop_data = pop_data[[\"code\", \"pop\", \"geometry\"]]\n",
    "    \n",
    "    return(pop_data)"
   ]
  },
  {
   "cell_type": "markdown",
   "metadata": {
    "tags": []
   },
   "source": [
    "### djikstra_cca_polygons\n",
    "\n",
    "Function written by Joe Holler + Derrick Burt. A more efficient way to calculate distance-weighted catchment areas for each hospital. First, create a dictionary (with a node and its corresponding drive time from the hospital) of all nodes within a 30 minute drive time (using networkx single_cource_dijkstra_path_length function). From here, two more dictionaries are constructed by querying the original one. From these dictionaries, single part convex hulls are created for each drive time interval and appended into a single list (one list with 3 polygon geometries). Within the list, the polygons are differenced from each other to produce three catchment areas.\n",
    "\n",
    "Args:\n",
    "* G: cleaned network graph *with node point geometries attached*\n",
    "* nearest_osm: A unique nearest node ID calculated for a single hospital\n",
    "* distances: 3 distances (in drive time) to calculate catchment areas from\n",
    "* distance_unit: unit to calculate (time)\n",
    "\n",
    "Returns:\n",
    "* A list of 3 differenced (not-overlapping) catchment area polygons (10 min poly, 20 min poly, 30 min poly)"
   ]
  },
  {
   "cell_type": "code",
   "execution_count": null,
   "metadata": {},
   "outputs": [],
   "source": [
    "def dijkstra_cca_polygons(G, nearest_osm, distances, distance_unit = \"travel_time\"):\n",
    "    \n",
    "    ## Distance_unit is given in seconds ##\n",
    "    \n",
    "    ## CREATE DICTIONARIES ##\n",
    "    # create dictionary of nearest nodes\n",
    "    nearest_nodes_30 = nx.single_source_dijkstra_path_length(G, nearest_osm, distances[2], distance_unit) # creating the largest graph from which 10 and 20 minute drive times can be extracted from\n",
    "    \n",
    "    # extract values within 20 and 10 (respectively) minutes drive times\n",
    "    nearest_nodes_20 = dict()\n",
    "    nearest_nodes_10 = dict()\n",
    "    for key, value in nearest_nodes_30.items():\n",
    "        if value <= distances[1]:\n",
    "            nearest_nodes_20[key] = value\n",
    "        if value <= distances[0]:\n",
    "            nearest_nodes_10[key] = value\n",
    "    \n",
    "    ## CREATE POLYGONS FOR 3 DISTANCE CATEGORIES (10 min, 20 min, 30 min) ##\n",
    "    \n",
    "    # 30 MIN\n",
    "    # If the graph already has a geometry attribute with point data,\n",
    "    # this line will create a GeoPandas GeoDataFrame from the nearest_nodes_30 dictionary\n",
    "    points_30 = gpd.GeoDataFrame(gpd.GeoSeries(nx.get_node_attributes(G.subgraph(nearest_nodes_30), 'geometry')))\n",
    "\n",
    "    # This line converts the nearest_nodes_30 dictionary into a Pandas data frame and joins it to points\n",
    "    # left_index=True and right_index=True are options for merge() to join on the index values\n",
    "    points_30 = points_30.merge(pd.Series(nearest_nodes_30).to_frame(), left_index=True, right_index=True)\n",
    "\n",
    "    # Re-name the columns and set the geodataframe geometry to the geometry column\n",
    "    points_30 = points_30.rename(columns={'0_x':'geometry','0_y':'z'}).set_geometry('geometry')\n",
    "\n",
    "    # Create a convex hull polygon from the points\n",
    "    polygon_30 = gpd.GeoDataFrame(gpd.GeoSeries(points_30.unary_union.convex_hull))\n",
    "    polygon_30 = polygon_30.rename(columns={0:'geometry'}).set_geometry('geometry')\n",
    "    \n",
    "    # 20 MIN # 1200 seconds!\n",
    "    # Select nodes less than or equal to 20\n",
    "    points_20 = points_30.query(\"z <= 1200\")\n",
    "    \n",
    "    # Create a convex hull polygon from the points\n",
    "    polygon_20 = gpd.GeoDataFrame(gpd.GeoSeries(points_20.unary_union.convex_hull))\n",
    "    polygon_20 = polygon_20.rename(columns={0:'geometry'}).set_geometry('geometry')\n",
    "    \n",
    "    # 10 MIN # 600 seconds!\n",
    "    # Select nodes less than or equal to 10\n",
    "    points_10 = points_30.query(\"z <= 600\")\n",
    "    \n",
    "    # Create a convex hull polygon from the points\n",
    "    polygon_10 = gpd.GeoDataFrame(gpd.GeoSeries(points_10.unary_union.convex_hull))\n",
    "    polygon_10 = polygon_10.rename(columns={0:'geometry'}).set_geometry('geometry')\n",
    "    \n",
    "    # Create empty list and append polygons\n",
    "    polygons = []\n",
    "    \n",
    "    # Append\n",
    "    polygons.append(polygon_10)\n",
    "    polygons.append(polygon_20)\n",
    "    polygons.append(polygon_30)\n",
    "    \n",
    "    # Clip the overlapping distance ploygons (create two donuts + hole)\n",
    "    for i in reversed(range(1, len(distances))):\n",
    "        polygons[i] = gpd.overlay(polygons[i], polygons[i-1], how=\"difference\")\n",
    "\n",
    "    return polygons"
   ]
  },
  {
   "cell_type": "markdown",
   "metadata": {},
   "source": [
    "### hospital_measure_acc (adjusted to incorporate dijkstra_cca_polygons)\n",
    "\n",
    "Measures the effect of a single hospital on the surrounding area. (Uses `dijkstra_cca_polygons`)\n",
    "\n",
    "Args:\n",
    "\n",
    "* \\_thread\\_id: int used to keep track of which thread this is\n",
    "* hospital: Geopandas dataframe with information on a hospital\n",
    "* pop_data: Geopandas dataframe with population data\n",
    "* distances: Distances in time to calculate accessibility for\n",
    "* weights: how to weight the different travel distances\n",
    "\n",
    "Returns:\n",
    "\n",
    "* Tuple containing:\n",
    "    * Int (\\_thread\\_id)\n",
    "    * GeoDataFrame of catchment areas with key stats"
   ]
  },
  {
   "cell_type": "code",
   "execution_count": null,
   "metadata": {},
   "outputs": [],
   "source": [
    "def hospital_measure_acc (_thread_id, hospital, pop_data, distances, weights):\n",
    "    \n",
    "    # Create polygons\n",
    "    polygons = dijkstra_cca_polygons(G, hospital['nearest_osm'], distances)\n",
    "    \n",
    "    # iterate over pop_data and check if each point is within a polygon\n",
    "    # if so, multiply the pop and weight for that polygon and appends it to num_pops. \n",
    "    num_pops = []\n",
    "    for j in pop_data.index:\n",
    "        point = pop_data['geometry'][j]\n",
    "        # Multiply polygons by weights\n",
    "        for k in range(len(polygons)):\n",
    "            if len(polygons[k]) > 0: # To exclude the weirdo (convex hull is not polygon)\n",
    "                if (point.within(polygons[k].iloc[0][\"geometry\"])):\n",
    "                    num_pops.append(pop_data['pop'][j]*weights[k])  \n",
    "    \n",
    "    # sum all the weighted populations\n",
    "    total_pop = sum(num_pops)\n",
    "    \n",
    "    # update polygons with time, total population, and ICU beds. Set CRS to 4326, then convert to 32616\n",
    "    for i in range(len(distances)):\n",
    "        polygons[i]['time']=distances[i]\n",
    "        polygons[i]['total_pop']=total_pop\n",
    "        polygons[i]['hospital_icu_beds'] = float(hospital['Adult ICU'])/polygons[i]['total_pop'] # proportion of # of beds over pops in 10 mins\n",
    "        polygons[i].crs = { 'init' : 'epsg:4326'}\n",
    "        polygons[i] = polygons[i].to_crs({'init':'epsg:32616'})\n",
    "    \n",
    "    # print the thread ID\n",
    "    print('{:.0f}'.format(_thread_id), end=\" \", flush=True)\n",
    "    \n",
    "    # return a tuple containing the thread ID and a list of copied polygons\n",
    "    return(_thread_id, [ polygon.copy(deep=True) for polygon in polygons ]) "
   ]
  },
  {
   "cell_type": "markdown",
   "metadata": {
    "tags": []
   },
   "source": [
    "### measure_acc_par\n",
    "\n",
    "Parallel implementation of accessibility measurement.\n",
    "\n",
    "Args:\n",
    "\n",
    "* hospitals: Geodataframe of hospitals\n",
    "* pop_data: Geodataframe containing population data\n",
    "* network: OSMNX street network\n",
    "* distances: list of distances to calculate catchments for\n",
    "* weights: list of floats to apply to different catchments\n",
    "* num\\_proc: number of processors to use.\n",
    "\n",
    "Returns:\n",
    "\n",
    "* Geodataframe of catchments with accessibility statistics calculated"
   ]
  },
  {
   "cell_type": "code",
   "execution_count": null,
   "metadata": {},
   "outputs": [],
   "source": [
    "def measure_acc_par (hospitals, pop_data, network, distances, weights, num_proc = 4):\n",
    "    \n",
    "    # initialize catchment list, 3 empty geodataframes\n",
    "    catchments = []\n",
    "    for distance in distances:\n",
    "        catchments.append(gpd.GeoDataFrame())\n",
    "        \n",
    "    # pool = mp.Pool(processes = num_proc)\n",
    "    \n",
    "    # makes a list of all hospital info.  len = 66\n",
    "    # looks like this, except with all info, and for all 66 hospitals\n",
    "    # [[2, Methodist Hospital of Chicago, Chicago], [4, Advocate Christ Medical Center, Oak Lawn]]\n",
    "    hospital_list = [ hospitals.iloc[i] for i in range(len(hospitals)) ]\n",
    "    \n",
    "    print(\"Calculating\", len(hospital_list), \"hospital catchments...\\ncompleted number:\", end=\" \")\n",
    "    \n",
    "    # call hospital_acc_unpacker\n",
    "    # returns a tuple containing the thread ID and a list of copied polygons\n",
    "    #results = pool.map(hospital_acc_unpacker, zip(range(len(hospital_list)), hospital_list, itertools.repeat(pop_data), itertools.repeat(distances), itertools.repeat(weights)))\n",
    "    \n",
    "    results = []  \n",
    "    for i in range(len(hospital_list)): #do from 1 to 66\n",
    "        result = hospital_measure_acc(i, hospital_list[i], pop_data, distances, weights)\n",
    "        results.append(result)\n",
    "\n",
    "    # pool.close()\n",
    "    \n",
    "    # sort and extract the results\n",
    "    results.sort()\n",
    "    results = [ r[1] for r in results ]\n",
    "    \n",
    "    # combine catchment results into the respective GeoDataFrames in the catchments list\n",
    "    for i in range(len(results)):\n",
    "        for j in range(len(distances)):\n",
    "            catchments[j] = catchments[j].append(results[i][j], sort=False)\n",
    "            \n",
    "    return catchments"
   ]
  },
  {
   "cell_type": "markdown",
   "metadata": {},
   "source": [
    "### overlapping_function\n",
    "\n",
    "Calculates how all catchment areas overlap with and affect the accessibility of each grid in our grid file.\n",
    "\n",
    "Args:\n",
    "\n",
    "* grid_file: GeoDataFrame of our grid\n",
    "* catchments: GeoDataFrame of our catchments\n",
    "* service_type: the kind of care being provided (ICU beds vs. ventilators)\n",
    "* weights: the weight to apply to each service type\n",
    "* num\\_proc: the number of processors\n",
    "\n",
    "Returns:\n",
    "\n",
    "* Geodataframe - grid\\_file with calculated stats"
   ]
  },
  {
   "cell_type": "code",
   "execution_count": null,
   "metadata": {},
   "outputs": [],
   "source": [
    "def overlapping_function (grid_file, catchments, service_type, weights, num_proc = 4):\n",
    "\n",
    "    ## Area Weighted Reaggregation\n",
    "        # set weighted to False for original 50% threshold method\n",
    "        # switch to True for area-weighted overlay\n",
    "    weighted = True\n",
    "\n",
    "    # if the value to be calculated is already in the hegaxon grid, delete it\n",
    "    # otherwise, the field name gets a suffix _1 in the overlay step\n",
    "    if resource in list(grid_file.columns.values):\n",
    "        grid_file = grid_file.drop(resource, axis = 1)\n",
    "\n",
    "    # calculate hexagon 'target' areas\n",
    "    grid_file['area'] = grid_file.area\n",
    "\n",
    "    # Intersection overlay of hospital catchments and hexagon grid\n",
    "    print(\"Intersecting hospital catchments with hexagon grid...\")\n",
    "    fragments = gpd.overlay(grid_file, geocatchments, how='intersection')\n",
    "\n",
    "    # Calculate percent coverage of the hexagon by the hospital catchment as\n",
    "    # fragment area / target(hexagon) area\n",
    "    fragments['percent'] = fragments.area / fragments['area']\n",
    "\n",
    "    # if using weighted aggregation... \n",
    "    if weighted:\n",
    "        print(\"Calculating area-weighted value...\")\n",
    "        # multiply the service/population ratio by the distance weight and the percent coverage\n",
    "        fragments['value'] = fragments[resource] * fragments['weight'] * fragments['percent']\n",
    "\n",
    "    # if using the 50% coverage rule for unweighted aggregation...\n",
    "    else:\n",
    "        print(\"Calculating value for hexagons with >=50% overlap...\")\n",
    "        # filter for only the fragments with > 50% coverage by hospital catchment\n",
    "        fragments = fragments[fragments['percent']>=0.5]\n",
    "        # multiply the service/population ration by the distance weight\n",
    "        fragments['value'] = fragments[resource] * fragments['weight']\n",
    "\n",
    "    # select just the hexagon id and value from the fragments,\n",
    "    # group the fragments by the (hexagon) id,\n",
    "    # and sum the values\n",
    "    print(\"Summarizing results by hexagon id...\")\n",
    "    sum_results = fragments[['id', 'value']].groupby(by = ['id']).sum()\n",
    "\n",
    "    # join the results to the hexagon grid_file based on hexagon id\n",
    "    print(\"Joining results to hexagons...\")\n",
    "    results = pd.merge(grid_file, sum_results, how=\"left\", on = \"id\")\n",
    "\n",
    "    # rename value column name to the resource name \n",
    "    return(results.rename(columns = {'value' : resource}))"
   ]
  },
  {
   "cell_type": "markdown",
   "metadata": {},
   "source": [
    "### normalization\n",
    "\n",
    "Normalizes our result (Geodataframe)."
   ]
  },
  {
   "cell_type": "code",
   "execution_count": null,
   "metadata": {},
   "outputs": [],
   "source": [
    "def normalization (result, resource):\n",
    "    result[resource]=(result[resource]-min(result[resource]))/(max(result[resource])-min(result[resource]))\n",
    "    return result"
   ]
  },
  {
   "cell_type": "markdown",
   "metadata": {},
   "source": [
    "### file_import\n",
    "\n",
    "Imports all files we need to run our code and pulls the Illinois network from OSMNX if it is not present (will take a while). \n",
    "\n",
    "**NOTE:** even if we calculate accessibility for just Chicago, we want to use the Illinois network (or at least we should not use the Chicago network) because using the Chicago network will result in hospitals near but outside of Chicago having an infinite distance (unreachable because roads do not extend past Chicago).\n",
    "\n",
    "Args:\n",
    "\n",
    "* pop_type: population type, either \"pop\" for general population or \"covid\" for COVID-19 cases\n",
    "* region: the region to use for our hospital and grid file (\"Chicago\" or \"Illinois\")\n",
    "\n",
    "Returns:\n",
    "\n",
    "* G: OSMNX network\n",
    "* hospitals: Geodataframe of hospitals\n",
    "* grid_file: Geodataframe of grids\n",
    "* pop_data: Geodataframe of population"
   ]
  },
  {
   "cell_type": "code",
   "execution_count": null,
   "metadata": {},
   "outputs": [],
   "source": [
    "def output_map(output_grid, base_map, hospitals, resource):\n",
    "    ax=output_grid.plot(column=resource, cmap='PuBuGn',figsize=(18,12), legend=True, zorder=1)\n",
    "    # Next two lines set bounds for our x- and y-axes because it looks like there's a weird \n",
    "    # Point at the bottom left of the map that's messing up our frame (Maja)\n",
    "    ax.set_xlim([314000, 370000])\n",
    "    ax.set_ylim([540000, 616000])\n",
    "    base_map.plot(ax=ax, facecolor=\"none\", edgecolor='gray', lw=0.1)\n",
    "    hospitals.plot(ax=ax, markersize=10, zorder=1, c='blue')"
   ]
  },
  {
   "cell_type": "markdown",
   "metadata": {},
   "source": [
    "## Run the model\n",
    "\n",
    "Below you can customize the input of the model:\n",
    "\n",
    "* Processor - the number of processors to use\n",
    "* Population - the population to calculate the measure for\n",
    "* Resource - the hospital resource of interest\n",
    "* Hospital - all hospitals or subset to check code"
   ]
  },
  {
   "cell_type": "markdown",
   "metadata": {},
   "source": [
    "### Process population data"
   ]
  },
  {
   "cell_type": "code",
   "execution_count": null,
   "metadata": {
    "tags": []
   },
   "outputs": [],
   "source": [
    "''' \n",
    "To simplify the reanalysis, in variables I will hardcode the use of \n",
    "    4 processors\n",
    "    Population: Population at Risk\n",
    "    Resource: ICU Beds\n",
    "    Hospital: All hospitals\n",
    "'''\n",
    "\n",
    "resource = \"hospital_icu_beds\"\n",
    "num_proc = 4\n",
    "pop_type = \"pop\"\n",
    "\n",
    "## Create centroids for atrisk population at the census tract level\n",
    "pop_data = pop_centroid(atrisk_data, pop_type)    \n",
    "    \n",
    "distances = [600, 1200, 1800] # Distances in travel time (seconds!)\n",
    "weights = [1.0, 0.68, 0.22] # Weights where weights[0] is applied to distances[0]"
   ]
  },
  {
   "cell_type": "code",
   "execution_count": null,
   "metadata": {},
   "outputs": [],
   "source": [
    "pop_data"
   ]
  },
  {
   "cell_type": "markdown",
   "metadata": {},
   "source": [
    "### Process hospital data"
   ]
  },
  {
   "cell_type": "code",
   "execution_count": null,
   "metadata": {},
   "outputs": [],
   "source": [
    "hospitals"
   ]
  },
  {
   "cell_type": "code",
   "execution_count": null,
   "metadata": {},
   "outputs": [],
   "source": [
    "#Finds the nearest network node for each hospital\n",
    "hospitals = hospital_setting(hospitals, nodes)"
   ]
  },
  {
   "cell_type": "code",
   "execution_count": null,
   "metadata": {},
   "outputs": [],
   "source": [
    "hospitals\n"
   ]
  },
  {
   "cell_type": "markdown",
   "metadata": {},
   "source": [
    "### Visualize catchment areas for hospital #4"
   ]
  },
  {
   "cell_type": "code",
   "execution_count": null,
   "metadata": {},
   "outputs": [],
   "source": [
    "# Create point geometries for entire graph\n",
    "\n",
    "# which hospital to visualize? \n",
    "fighosp = 4\n",
    "\n",
    "# Create catchment for hospital 4\n",
    "poly = dijkstra_cca_polygons(G, hospitals['nearest_osm'][fighosp], distances)\n",
    "\n",
    "# Reproject polygons\n",
    "for i in range(len(poly)):\n",
    "    poly[i].crs = { 'init' : 'epsg:4326'}\n",
    "    poly[i] = poly[i].to_crs({'init':'epsg:32616'})\n",
    "\n",
    "# Reproject hospitals \n",
    "hospital_subset = hospitals.iloc[[fighosp]].to_crs(epsg=32616)\n",
    "\n",
    "fig, ax = plt.subplots(figsize=(12,8))\n",
    "\n",
    "min_10 = poly[0].plot(ax=ax, color=\"royalblue\", label=\"10 min drive\")\n",
    "min_20 = poly[1].plot(ax=ax, color=\"cornflowerblue\", label=\"20 min drive\")\n",
    "min_30 = poly[2].plot(ax=ax, color=\"lightsteelblue\", label=\"30 min drive\")\n",
    "\n",
    "hospital_subset.plot(ax=ax, color=\"red\", legend=True, label = \"hospital\")\n",
    "\n",
    "# Add legend\n",
    "ax.legend()"
   ]
  },
  {
   "cell_type": "markdown",
   "metadata": {},
   "source": [
    "### Calculate hospital catchment areas"
   ]
  },
  {
   "cell_type": "code",
   "execution_count": null,
   "metadata": {},
   "outputs": [],
   "source": [
    "%%time\n",
    "\n",
    "catchments = measure_acc_par(hospitals, pop_data, G, distances, weights, num_proc)"
   ]
  },
  {
   "cell_type": "markdown",
   "metadata": {
    "tags": []
   },
   "source": [
    "### Calculate accessibility"
   ]
  },
  {
   "cell_type": "markdown",
   "metadata": {},
   "source": [
    "### Post-process the catchments (for area weighted reaggregation)"
   ]
  },
  {
   "cell_type": "code",
   "execution_count": null,
   "metadata": {},
   "outputs": [],
   "source": [
    "# add weight field to each catchment polygon\n",
    "for i in range(len(weights)):\n",
    "    catchments[i]['weight'] = weights[i]\n",
    "# combine the three sets of catchment polygons into one geodataframe\n",
    "geocatchments = pd.concat([catchments[0], catchments[1], catchments[2]])\n",
    "geocatchments"
   ]
  },
  {
   "cell_type": "markdown",
   "metadata": {},
   "source": [
    "### Area Weighted Reaagregation"
   ]
  },
  {
   "cell_type": "code",
   "execution_count": null,
   "metadata": {},
   "outputs": [],
   "source": [
    "%%time\n",
    "result = overlapping_function(grid_file, catchments, resource, weights, num_proc)"
   ]
  },
  {
   "cell_type": "code",
   "execution_count": null,
   "metadata": {},
   "outputs": [],
   "source": [
    "%%time\n",
    "result = normalization (result, resource)"
   ]
  },
  {
   "cell_type": "markdown",
   "metadata": {},
   "source": [
    "## Results & Discussion\n",
    "\n",
    "Extensive cleaning of unneccesary variables and lines of code that were never called.\n",
    "\n",
    "### Making code more efficient and easier to read with GeoPandas\n",
    "\n",
    "1. Made the __pop_centroid__ function much faster - preciosly took 3:30 to run, now less than a second. Instead of creating an empty GDF and iterating over all of the population geometries, adding data to this new GDF, I just used the native GeoPandas centroid method, replacing the population geometries with centroids, and then dropping other unnecessary columns from atrisk_data. \n",
    "\n",
    "2. Rewrote the __hospital_setting__ function to find each hospital's nearest node using GeoPandas nearest join method. What took 1:20 to run now runs in less than a second. I also cleaned the GDF so that it matched what we were working with before. \n",
    "\n",
    "### Removed parallel processing from two functions. \n",
    "\n",
    "1. __overlapping_function__\n",
    "2. __measure_acc_par__\n",
    "\n",
    "### Theoretical Changes to the methodology\n",
    "\n",
    "Area weighted reaggregation - \n",
    "assigned speeds to the road network using osnmx. \n",
    "\n",
    "### Simplifying Code for future students\n",
    "\n",
    "My greatest contribution to this replication has been the simplification of code and adding documentation to functions. This has made the code much easier for future students to read through and understand, and has not sacrificed processing times. I also made a visual workflow, visualizing the replication study from start to finish, including all data and functions used to manipulate them. \n",
    "\n",
    "Simplifications include:\n",
    "\n",
    "I removed the dropdown menu that allows you to choose between population groups and hospital data. The benefits of this dropdown options were minimal, and it just made the code more confusing to follow and modify. In the form of a dropdown selection, it prevents the study from being one script, and introduces potential error as groups try to replicate eachother, if they are not clear about which choices they made with their mouse in the dropdown. \n",
    "\n",
    "I was able to delete the function __overlap_calc__, after implementing its function into __overlapping_function__ which was implements the area weighted reaggregation.\n",
    "\n",
    "I removed a code block that filtered rows where the \"hospital_icu_beds\" value is infinity, which did not do anything. \n",
    "\n"
   ]
  },
  {
   "cell_type": "markdown",
   "metadata": {
    "tags": []
   },
   "source": [
    "### Accessibility Map"
   ]
  },
  {
   "cell_type": "code",
   "execution_count": null,
   "metadata": {},
   "outputs": [],
   "source": [
    "%%time\n",
    "hospitals = hospitals.to_crs({'init': 'epsg:26971'})\n",
    "result = result.to_crs({'init': 'epsg:26971'})\n",
    "output_map(result, pop_data, hospitals, resource)"
   ]
  },
  {
   "cell_type": "markdown",
   "metadata": {},
   "source": [
    "Classified Accessibility Outputs"
   ]
  },
  {
   "cell_type": "markdown",
   "metadata": {},
   "source": [
    "### Conclusion\n",
    "\n",
    "to be written."
   ]
  },
  {
   "cell_type": "markdown",
   "metadata": {},
   "source": [
    "### References\n",
    "\n",
    "Luo, W., & Qi, Y. (2009). An enhanced two-step floating catchment area (E2SFCA) method for measuring spatial accessibility to primary care physicians. Health & place, 15(4), 1100-1107."
   ]
  }
 ],
 "metadata": {
  "kernelspec": {
   "display_name": "ox",
   "language": "python",
   "name": "ox"
  },
  "language_info": {
   "codemirror_mode": {
    "name": "ipython",
    "version": 3
   },
   "file_extension": ".py",
   "mimetype": "text/x-python",
   "name": "python",
   "nbconvert_exporter": "python",
   "pygments_lexer": "ipython3",
   "version": "3.9.1"
  }
 },
 "nbformat": 4,
 "nbformat_minor": 4
}
